{
 "cells": [
  {
   "cell_type": "markdown",
   "id": "09424542-257a-4351-bcd7-6b100b9fc909",
   "metadata": {},
   "source": [
    "# Computation of the volume of $P$ and $N_{i,I}^\\pm$"
   ]
  },
  {
   "cell_type": "markdown",
   "id": "3a05269f-18ad-4864-8894-a3124ae75768",
   "metadata": {},
   "source": [
    "We compute the volume of $P$ using the formula\n",
    "$$\n",
    "\\operatorname{vol}(P) = \n",
    "    \\frac{9\\sqrt{5}^{15}}{32\\pi^{15}}\\zeta_{k_0}(2)\\zeta_{k_0}(4)\\zeta_{\\ell_2}(3)/\\zeta_{k_0}(3),\n",
    "$$\n",
    "where $k_0 = \\mathbb Q(\\sqrt{5})$, $\\ell_2 = \\mathbb Q(\\sqrt{\\varphi})$, $\\varphi = \\frac{\\sqrt{5}+1}{2}$, \\\n",
    "and $\\zeta_k$ is the Dirichlet zeta function for the field $k$ (computed with PARI/GP via the method `zeta_function`)."
   ]
  },
  {
   "cell_type": "code",
   "execution_count": 1,
   "id": "d8ad8137-576e-4fcf-aab4-0d016701661f",
   "metadata": {},
   "outputs": [],
   "source": [
    "k = QQ[sqrt(5)]"
   ]
  },
  {
   "cell_type": "code",
   "execution_count": 2,
   "id": "68a9c5e4-6a47-4a79-a3f7-6bf78c316107",
   "metadata": {},
   "outputs": [],
   "source": [
    "l = QQ[sqrt((sqrt(5)+1)/2)]"
   ]
  },
  {
   "cell_type": "code",
   "execution_count": 3,
   "id": "27b15896-8222-47ff-ad1a-40af75910dab",
   "metadata": {},
   "outputs": [],
   "source": [
    "def volume(prec=53):\n",
    "    zk = k.zeta_function(prec=prec)\n",
    "    zl = l.zeta_function(prec=prec)\n",
    "    return RealField(prec)(9/32 * sqrt(5)**15 / pi**15 * zk(2) * zk(4) * zl(3) / zk(3))"
   ]
  },
  {
   "cell_type": "code",
   "execution_count": 4,
   "id": "55e3e500-46ca-4afe-921d-a0b3fde1fc06",
   "metadata": {},
   "outputs": [],
   "source": [
    "volP = volume(100)"
   ]
  },
  {
   "cell_type": "code",
   "execution_count": 5,
   "id": "29ca48af-26f3-4824-995f-84808a6cb69e",
   "metadata": {},
   "outputs": [],
   "source": [
    "N_COPIES_P = 2^9*272*14400/17"
   ]
  },
  {
   "cell_type": "code",
   "execution_count": 6,
   "id": "7d9be115-fb74-4a0a-b97c-d75c68b80fbb",
   "metadata": {},
   "outputs": [
    {
     "name": "stdout",
     "output_type": "stream",
     "text": [
      "vol(P) =      0.0019846964303116493157264983960\n",
      "vol(N) = 234124.31746242764919981323799\n"
     ]
    }
   ],
   "source": [
    "print(f\"vol(P) =      {volP}\")\n",
    "print(f\"vol(N) = {volP * N_COPIES_P}\")"
   ]
  }
 ],
 "metadata": {
  "kernelspec": {
   "display_name": "SageMath 10.5",
   "language": "sage",
   "name": "sagemath"
  },
  "language_info": {
   "codemirror_mode": {
    "name": "ipython",
    "version": 3
   },
   "file_extension": ".py",
   "mimetype": "text/x-python",
   "name": "python",
   "nbconvert_exporter": "python",
   "pygments_lexer": "ipython3",
   "version": "3.13.1"
  }
 },
 "nbformat": 4,
 "nbformat_minor": 5
}
