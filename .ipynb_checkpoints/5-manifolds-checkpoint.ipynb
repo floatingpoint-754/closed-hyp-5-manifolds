{
 "cells": [
  {
   "cell_type": "markdown",
   "id": "4ca189cd-6b0d-4a1e-bf72-d6d7a4d652a3",
   "metadata": {},
   "source": [
    "# Construction of the $5$-manifolds"
   ]
  },
  {
   "cell_type": "markdown",
   "id": "17e595ba-c2a6-4c47-942c-f384a72ea9db",
   "metadata": {},
   "source": [
    "This notebook contains various computations pertaining to the construction of the closed $5$-manifolds\n",
    "$N_{i,I}^\\pm$. \\\n",
    "The code is divided into the following sections:\n",
    "\n",
    "- **The Coxeter group $G$ and its subgroups** \\\n",
    "    Definition of the subgroups $C_{17}K, H_i, K_i$ and others.\n",
    "- **First homology of $X_i$** \\\n",
    "    Computation of $H_1(X_i; \\mathbb Z)$.\n",
    "- **Subgroup lattice** \\\n",
    "    Checking various containment and normality relations between the subgroups of $G$.\n",
    "- **The graph $\\mathcal G$** \\\n",
    "    Construction of the graph $\\mathcal G$.\n",
    "- **The groups $\\Lambda_i$** \\\n",
    "    Computation of the groups $\\Lambda_i$.\n",
    "- **Good independent sets** \\\n",
    "    Enumeration of all good independent sets up to the action of $\\Lambda_i$.\n",
    "- **The coloring** \\\n",
    "    Linear binary code / classification of the matrices $A^{(k)}$ up to left equivalence.\n",
    "- **Data for first Betti number** \\\n",
    "    Generating the C++ code for the computation of $b_1(N_{i,I}^\\pm)$."
   ]
  },
  {
   "cell_type": "code",
   "execution_count": 1,
   "id": "1c5c2b76-d452-44c1-b43c-d3d10e69a00a",
   "metadata": {
    "tags": []
   },
   "outputs": [],
   "source": [
    "import itertools\n",
    "import functools\n",
    "from sage.graphs.independent_sets import IndependentSets\n",
    "from collections import defaultdict"
   ]
  },
  {
   "cell_type": "code",
   "execution_count": 2,
   "id": "196fbc64-a1ec-41b5-93db-b918f1f9d35d",
   "metadata": {
    "tags": []
   },
   "outputs": [],
   "source": [
    "def multiset(it):\n",
    "    d = defaultdict(int)\n",
    "    for k in it:\n",
    "        d[k] += 1\n",
    "    return dict(d)\n",
    "\n",
    "def multimap(it):\n",
    "    d = defaultdict(set)\n",
    "    for k,v in it:\n",
    "        d[k].add(v)\n",
    "    return dict(d)"
   ]
  },
  {
   "cell_type": "markdown",
   "id": "68bbec8c-4551-46de-bc35-c8cd375b3718",
   "metadata": {},
   "source": [
    "## The Coxeter group $G$ and its subgroups"
   ]
  },
  {
   "cell_type": "code",
   "execution_count": 3,
   "id": "6a87b075-b742-43d2-8138-bdcce15fc438",
   "metadata": {},
   "outputs": [],
   "source": [
    "def make_coxeter_group(F, edges):\n",
    "    n = F.ngens()\n",
    "    all_edges = {(i, j) : 1 if i == j else 2 for i in range(n) for j in range(i,n)}\n",
    "    for a,b,e in edges:\n",
    "        all_edges[min(a,b), max(a,b)] = e\n",
    "    rels = [(F.gen(k[0])*F.gen(k[1]))^v for k,v in all_edges.items() if v >= 0 and v != oo]\n",
    "    return F/rels"
   ]
  },
  {
   "cell_type": "code",
   "execution_count": 4,
   "id": "ad915ebe-397d-4e32-89e1-4c3698ef257b",
   "metadata": {},
   "outputs": [
    {
     "name": "stdout",
     "output_type": "stream",
     "text": []
    },
    {
     "data": {
      "text/plain": [
       "Finitely presented group < a, b, c, d, e | a^2, (a*b)^5, (a*c)^2, (a*d)^2, (a*e)^2, b^2, (b*c)^3, (b*d)^2, (b*e)^2, c^2, (c*d)^3, (c*e)^2, d^2, (d*e)^3, e^2 >"
      ]
     },
     "execution_count": 4,
     "metadata": {},
     "output_type": "execute_result"
    }
   ],
   "source": [
    "fr.<a,b,c,d,e> = FreeGroup()\n",
    "cox_edges = [(0,1,5),(1,2,3),(2,3,3),(3,4,3)]\n",
    "G = make_coxeter_group(fr, cox_edges); G"
   ]
  },
  {
   "cell_type": "code",
   "execution_count": 5,
   "id": "58a277cb-184e-410e-b718-687f44cf856a",
   "metadata": {
    "tags": []
   },
   "outputs": [],
   "source": [
    "long_words = [\n",
    "    a*b*c*d*e,\n",
    "    b*a*b*c*b*a*b*a*c*b*a*d*c*e*d*c*b*a*b*a*c*d*e*b*c*a*b*a*b*c*d*c*b*a*b*c*a*b*a*b*c,\n",
    "    b*a*b*c*b*a*d*c*b*a*b*a*c*b*a*d*e*d*c*b*a*b*c*d*e*a*b*a*b*c*d*b*a*b*c*a*b*a*b*c*d*c*b,\n",
    "    b*c*b*a*b*a*d*c*b*a*b*a*c*b*a*b*c*d*c*b*a*b*a*c*d*b*c*a*b*a*b*c*d*e*b*c*a*b*a*b*c*d*b*a*b*c*a*b,\n",
    "    b*a*b*a*c*d*c*b*a*b*a*c*b*a*d*c*b*a*b*c*d*e*d*c*b*a*b*c*d*a*b*c*a*b*a*b*c*d*e*b*a*b*c*d*b*c*a*b*a*b*c\n",
    "]\n",
    "w1,w2,w3,w4,w5 = long_words"
   ]
  },
  {
   "cell_type": "code",
   "execution_count": 6,
   "id": "f07e1164-b319-4033-b729-8cbcf955bfa2",
   "metadata": {
    "tags": []
   },
   "outputs": [],
   "source": [
    "long_gens = [\n",
    "    [w2^-2, w3, w4*w2^-1, w4^-1*w2^-1, w2*w1*w2^-1, w2*w3*w2^-1, w1, w5],\n",
    "    [w1, w2^-2, w3*w2^-1, w3^-1*w2^-1, w4*w2^-1, w4^-1*w2^-1, w5*w2^-1, w5^-1*w2^-1],\n",
    "    [w1^-2, w2, w3, w4*w1^-1, w1*w2*w1^-1, w1*w3*w1^-1, w5],\n",
    "    [w1^-2, w3*w1^-1, w3^-1*w1^-1, w2, w4*w1^-1, w5*w1^-1],\n",
    "    \n",
    "    [w1, w2^-2, w3, w4*w2^-1, w5*w2^-1, w2*w1*w2^-1, w2*w3*w2^-1, w4^-1*w2^-1, w5^-1*w2^-1],\n",
    "    [w1, w2^-2, w3*w2^-1, w3^-1*w2^-1, w4*w2^-1, w4^-1*w2^-1, w5],\n",
    "    [w1^-2, w3, w4*w1^-1, w1*w2*w1^-1, w2, w5*w1^-1, w5^-1*w1^-1],\n",
    "    \n",
    "    [w1^-2, w2, w5, w3*w1^-1, w4*w1^-1, w3^-1*w1^-1]\n",
    "]"
   ]
  },
  {
   "cell_type": "markdown",
   "id": "d7284d4c-9c69-48ac-a34e-450d41325f64",
   "metadata": {},
   "source": [
    "The above are generators for the fundamental groups of the Long manifolds. \\\n",
    "They are given in the order of Table 1 of Long's article, and generate the groups $H_1, H_4, H_5, H_8, H_2, H_3, H_6, H_7$; \\\n",
    "in our code they are respectively numbered `H[0], H[1], ..., H[7]`."
   ]
  },
  {
   "cell_type": "markdown",
   "id": "82ee6da7-c631-43fd-b589-5e8d43372291",
   "metadata": {},
   "source": [
    "The group generated by `long_words` is $C_{17}K$ (`CK` in code)."
   ]
  },
  {
   "cell_type": "code",
   "execution_count": 7,
   "id": "e7e73fc3-335e-4040-b6cb-76152c2222cf",
   "metadata": {
    "tags": []
   },
   "outputs": [],
   "source": [
    "CK = G.subgroup(long_words)"
   ]
  },
  {
   "cell_type": "code",
   "execution_count": 8,
   "id": "d5d4d7b2-abde-49bf-9a95-7f6071bae19d",
   "metadata": {
    "tags": []
   },
   "outputs": [],
   "source": [
    "H = [G.subgroup(long_gen) for long_gen in long_gens]"
   ]
  },
  {
   "cell_type": "markdown",
   "id": "2dcf134a-94c2-4bb2-9822-9a03c78d916b",
   "metadata": {},
   "source": [
    "In this notebook, the superscript $+$ (indicating intersection with the orientation subgroup $G^+$) \\\n",
    "will be denoted by the suffix `_ori`."
   ]
  },
  {
   "cell_type": "code",
   "execution_count": 9,
   "id": "973ce2e2-9adb-4d08-ac9a-85ceb8485c26",
   "metadata": {
    "tags": []
   },
   "outputs": [],
   "source": [
    "G_ori = G.subgroup([a*b,b*c,c*d,d*e])"
   ]
  },
  {
   "cell_type": "code",
   "execution_count": 10,
   "id": "9b8057fe-9253-46b1-97b6-b729824c46a7",
   "metadata": {
    "tags": []
   },
   "outputs": [
    {
     "data": {
      "text/plain": [
       "2"
      ]
     },
     "execution_count": 10,
     "metadata": {},
     "output_type": "execute_result"
    }
   ],
   "source": [
    "libgap.Index(G, G_ori)"
   ]
  },
  {
   "cell_type": "code",
   "execution_count": 11,
   "id": "1ac5e1d0-4ce6-4d36-a14c-d33a69195c38",
   "metadata": {
    "tags": []
   },
   "outputs": [
    {
     "name": "stdout",
     "output_type": "stream",
     "text": [
      "CPU times: user 5.9 s, sys: 71.9 ms, total: 5.97 s\n",
      "Wall time: 5.94 s\n"
     ]
    }
   ],
   "source": [
    "%time H_ori = [libgap.Intersection(Hi, G_ori) for Hi in H]"
   ]
  },
  {
   "cell_type": "markdown",
   "id": "07b711c9-e33e-4ea4-89d2-08895b8c135c",
   "metadata": {},
   "source": [
    "Now we define the following objects:\n",
    "\n",
    "- the subgroup $S = \\langle a, c, e, decd, bacbab \\rangle$;\n",
    "- the subgroup $S^+ = S \\cap G^+$;\n",
    "- the actions $\\rho$, $\\rho^+$ of $G$ on the cosets of $S$, $S^+$ respectively;\n",
    "- the normal core of $S$, i.e. $K = \\ker \\rho$;\n",
    "- the subgroup $K^+ = K \\cap G^+$;\n",
    "- the subgroups $K_i = H_i \\cap K$ (`Ks[j]` in code);\n",
    "- the subgroups $K_i^+ = H_i \\cap K^+ = K_i \\cap G^+$ (`Ks_ori[j]` in code).\n",
    "\n",
    "Note that $K$ is the intersection of all conjugates of $S$; since $G^+$ is normal in $G$, \\\n",
    "we have that $K^+ = K \\cap G^+$ is the intersection of all conjugates of $S \\cap G^+ = S^+$. In other words, $K^+ = \\ker \\rho^+$.\n",
    "\n",
    "It follows that we can compute $K_i$ as $\\ker(\\rho\\big|_{H_i})$ and $K_i^+$ as $\\ker(\\rho^+\\big|_{H_i})$, which is faster than intersecting."
   ]
  },
  {
   "cell_type": "code",
   "execution_count": 12,
   "id": "97f2a0fd-d4e2-4f5c-b574-d863320b036a",
   "metadata": {
    "tags": []
   },
   "outputs": [],
   "source": [
    "S = G.subgroup([a,c,e,d*e*c*d,b*a*c*b*a*b])"
   ]
  },
  {
   "cell_type": "code",
   "execution_count": 13,
   "id": "91b58ee1-9c62-4399-a0a5-9e8d6ee602c4",
   "metadata": {
    "tags": []
   },
   "outputs": [],
   "source": [
    "S_ori = libgap.Intersection(S, G_ori)"
   ]
  },
  {
   "cell_type": "code",
   "execution_count": 14,
   "id": "3c223636-86e7-4ddf-adc8-3b613c5f203f",
   "metadata": {
    "tags": []
   },
   "outputs": [],
   "source": [
    "rho = libgap.FactorCosetAction(G, S)"
   ]
  },
  {
   "cell_type": "code",
   "execution_count": 15,
   "id": "230b0145-37dd-4fa6-98ce-eb916b4899d5",
   "metadata": {
    "tags": []
   },
   "outputs": [],
   "source": [
    "rho_ori = libgap.FactorCosetAction(G, S_ori)"
   ]
  },
  {
   "cell_type": "code",
   "execution_count": 16,
   "id": "048bb7ff-b433-4741-b6db-e9a8733214cb",
   "metadata": {
    "tags": []
   },
   "outputs": [
    {
     "name": "stdout",
     "output_type": "stream",
     "text": [
      "CPU times: user 1.84 ms, sys: 0 ns, total: 1.84 ms\n",
      "Wall time: 1.85 ms\n"
     ]
    }
   ],
   "source": [
    "%time K = libgap.Kernel(rho)"
   ]
  },
  {
   "cell_type": "code",
   "execution_count": 17,
   "id": "f000dc8f-e1fd-440b-86e6-c14d3ca5f5be",
   "metadata": {
    "tags": []
   },
   "outputs": [
    {
     "name": "stdout",
     "output_type": "stream",
     "text": [
      "CPU times: user 4.79 ms, sys: 0 ns, total: 4.79 ms\n",
      "Wall time: 4.97 ms\n"
     ]
    }
   ],
   "source": [
    "%time K_ori = libgap.Kernel(rho_ori)"
   ]
  },
  {
   "cell_type": "code",
   "execution_count": 18,
   "id": "327b3fb5-692c-44d0-989d-58b1eb1d3cd3",
   "metadata": {
    "tags": []
   },
   "outputs": [
    {
     "name": "stdout",
     "output_type": "stream",
     "text": [
      "CPU times: user 2.72 ms, sys: 0 ns, total: 2.72 ms\n",
      "Wall time: 2.73 ms\n"
     ]
    }
   ],
   "source": [
    "%time rho_H = [libgap.RestrictedMapping(rho, Hi) for Hi in H]"
   ]
  },
  {
   "cell_type": "code",
   "execution_count": 19,
   "id": "075ae6e8-e0ec-4382-9191-560f0b30dabe",
   "metadata": {
    "tags": []
   },
   "outputs": [
    {
     "name": "stdout",
     "output_type": "stream",
     "text": [
      "CPU times: user 5.66 ms, sys: 24 μs, total: 5.69 ms\n",
      "Wall time: 5.63 ms\n"
     ]
    }
   ],
   "source": [
    "%time rho_ori_H = [libgap.RestrictedMapping(rho_ori, Hi) for Hi in H]"
   ]
  },
  {
   "cell_type": "code",
   "execution_count": 20,
   "id": "366b1f7c-7a18-40c8-8327-93886c1a307f",
   "metadata": {
    "tags": []
   },
   "outputs": [
    {
     "name": "stdout",
     "output_type": "stream",
     "text": [
      "CPU times: user 3min 39s, sys: 1.41 s, total: 3min 40s\n",
      "Wall time: 3min 39s\n"
     ]
    }
   ],
   "source": [
    "%time Ks = [libgap.Kernel(action) for action in rho_H]"
   ]
  },
  {
   "cell_type": "code",
   "execution_count": 25,
   "id": "9a2bf414-f42b-4162-afdf-2d45829e7953",
   "metadata": {
    "tags": []
   },
   "outputs": [
    {
     "name": "stdout",
     "output_type": "stream",
     "text": [
      "CPU times: user 3min 52s, sys: 1.44 s, total: 3min 54s\n",
      "Wall time: 3min 53s\n"
     ]
    }
   ],
   "source": [
    "%time Ks_ori = [libgap.Kernel(action) for action in rho_ori_H]"
   ]
  },
  {
   "cell_type": "markdown",
   "id": "ee392404-3455-484b-8220-204250123564",
   "metadata": {
    "jp-MarkdownHeadingCollapsed": true
   },
   "source": [
    "## First homology of $X_i$"
   ]
  },
  {
   "cell_type": "markdown",
   "id": "f8b4ce1d-f277-4ed4-985a-eac75e73828d",
   "metadata": {},
   "source": [
    "We compute $H_1(X_i; \\mathbb Z)$ as the abelianization of the fundamental group $K_i$."
   ]
  },
  {
   "cell_type": "code",
   "execution_count": 21,
   "id": "4b04cea9-dd64-41f2-b549-5d87a80fcd67",
   "metadata": {},
   "outputs": [
    {
     "name": "stdout",
     "output_type": "stream",
     "text": [
      "H_1(X_1; Z) = Z_2^32 + Z_4^11\n",
      "H_1(X_4; Z) = Z_2^32 + Z_4^11\n",
      "H_1(X_5; Z) = Z_2^32 + Z_4^11\n",
      "H_1(X_8; Z) = Z_2^32 + Z_4^11\n",
      "H_1(X_2; Z) = Z_2^27 + Z_4^18\n",
      "H_1(X_3; Z) = Z_2^27 + Z_4^18\n",
      "H_1(X_6; Z) = Z_2^27 + Z_4^18\n",
      "H_1(X_7; Z) = Z_2^27 + Z_4^17 + Z_8^1\n",
      "CPU times: user 2min 10s, sys: 1.2 s, total: 2min 11s\n",
      "Wall time: 2min 10s\n"
     ]
    }
   ],
   "source": [
    "%%time\n",
    "for i, Ki in zip((1,4,5,8,2,3,6,7), Ks):\n",
    "    ab = multiset(Ki.AbelianInvariants().sage())\n",
    "    ab_str = \" + \".join(f\"Z_{m}^{ex}\" for m, ex in sorted(ab.items()))\n",
    "    print(f\"H_1(X_{i}; Z) = {ab_str}\")"
   ]
  },
  {
   "cell_type": "markdown",
   "id": "da7abd50-5779-46b8-a148-17d1dbaf5965",
   "metadata": {
    "jp-MarkdownHeadingCollapsed": true
   },
   "source": [
    "## Subgroup lattice"
   ]
  },
  {
   "cell_type": "markdown",
   "id": "b317d4b2-8e9f-41f6-9508-a54a3a0ca770",
   "metadata": {},
   "source": [
    "We claim that the following relations hold:\n",
    "\n",
    "**Index 2 subgroups**:\n",
    "- $G^+ < G$\n",
    "- $K^+ < K$\n",
    "- $H_i < C_{17}K$\n",
    "- $K_i < K$\n",
    "- $K_i^+ < K^+$\n",
    "\n",
    "**Quotients:**\n",
    "- $G/K \\simeq \\mathrm O(5,4)$\n",
    "- $G^+/K^+ \\simeq \\mathrm O(5,4)$\n",
    "- $C_{17}K / K \\simeq \\mathbb Z_{17}$\n",
    "- $H_i / K_i \\simeq \\mathbb Z_{17}$\n",
    "- $H_i / K_i^+ \\simeq \\mathbb Z_{34}$"
   ]
  },
  {
   "cell_type": "markdown",
   "id": "ea65ef51-cab0-4a33-8d48-fcb5ec234c98",
   "metadata": {},
   "source": [
    "$[G : G^+] = 2$:"
   ]
  },
  {
   "cell_type": "code",
   "execution_count": 23,
   "id": "705ce487-9575-4582-8df3-3337654e205a",
   "metadata": {},
   "outputs": [
    {
     "data": {
      "text/plain": [
       "2"
      ]
     },
     "execution_count": 23,
     "metadata": {},
     "output_type": "execute_result"
    }
   ],
   "source": [
    "libgap.Index(G, G_ori)"
   ]
  },
  {
   "cell_type": "markdown",
   "id": "3306f494-6535-481b-9970-8d56eaf8ed37",
   "metadata": {},
   "source": [
    "$[K : K^+] = [G : K^+] / [G : K] = 2$:"
   ]
  },
  {
   "cell_type": "code",
   "execution_count": 24,
   "id": "87b729de-21e0-405f-a367-b19ee77f9396",
   "metadata": {},
   "outputs": [
    {
     "data": {
      "text/plain": [
       "(1958400, 979200, 2)"
      ]
     },
     "execution_count": 24,
     "metadata": {},
     "output_type": "execute_result"
    }
   ],
   "source": [
    "(libgap.Index(G, K_ori), libgap.Index(G, K), libgap.Index(G, K_ori) / libgap.Index(G, K))"
   ]
  },
  {
   "cell_type": "markdown",
   "id": "2396f6dd-1476-4ead-b2ae-8b0f482bbf3c",
   "metadata": {},
   "source": [
    "$[C_{17}K : H_i] = 2$:"
   ]
  },
  {
   "cell_type": "code",
   "execution_count": 25,
   "id": "f5051f15-5882-4322-9ad4-b0bcab0fb2b9",
   "metadata": {},
   "outputs": [
    {
     "data": {
      "text/plain": [
       "[2, 2, 2, 2, 2, 2, 2, 2]"
      ]
     },
     "execution_count": 25,
     "metadata": {},
     "output_type": "execute_result"
    }
   ],
   "source": [
    "[libgap.Index(CK, Hi) for Hi in H]"
   ]
  },
  {
   "cell_type": "markdown",
   "id": "19d9eaaf-d649-4018-aa16-8db5e7d546e5",
   "metadata": {},
   "source": [
    "$[C_{17}K : K] = 17$, and by normality $C_{17}K / K \\simeq \\mathbb Z_{17}$:"
   ]
  },
  {
   "cell_type": "code",
   "execution_count": 26,
   "id": "ce692165-e3d9-46b0-8412-30939f8e6b61",
   "metadata": {},
   "outputs": [
    {
     "data": {
      "text/plain": [
       "17"
      ]
     },
     "execution_count": 26,
     "metadata": {},
     "output_type": "execute_result"
    }
   ],
   "source": [
    "rho.Image(CK).Size()"
   ]
  },
  {
   "cell_type": "markdown",
   "id": "e6fdb4a7-c07f-4bfc-83f0-2db6e5c952ae",
   "metadata": {},
   "source": [
    "$[H_i : K_i] = 17$, implying $H_i / K_i = \\mathbb Z_{17}$ since $K_i = \\ker (\\rho\\big|_{H_i})$ is normal in $H_i$:"
   ]
  },
  {
   "cell_type": "code",
   "execution_count": 27,
   "id": "44c9af39-4205-4868-bb96-bd134d332f13",
   "metadata": {},
   "outputs": [
    {
     "data": {
      "text/plain": [
       "[17, 17, 17, 17, 17, 17, 17, 17]"
      ]
     },
     "execution_count": 27,
     "metadata": {},
     "output_type": "execute_result"
    }
   ],
   "source": [
    "[rho.Image(Hi).Size() for Hi in H]"
   ]
  },
  {
   "cell_type": "markdown",
   "id": "ca2a2504-5121-46ea-9e54-7c0a35a5c3da",
   "metadata": {},
   "source": [
    "It also follows that\n",
    "$[K : K_i] = [H_i : K_i] / [H_i : K] = [H_i : K_i] \\cdot [C_{17}K : H_i] / [C_{17}K : K] = 17 \\cdot 2 / 17 = 2$."
   ]
  },
  {
   "cell_type": "markdown",
   "id": "4c86fe96-d5ef-4caa-b845-e13d3b0c23d1",
   "metadata": {},
   "source": [
    "$G/K \\simeq \\mathrm O(5,4)$:"
   ]
  },
  {
   "cell_type": "code",
   "execution_count": 28,
   "id": "a0ae9313-e29b-4605-ab2b-da4d11c3b2b3",
   "metadata": {},
   "outputs": [
    {
     "data": {
      "text/plain": [
       "rec( name := \"B(2,4) = O(5,4) ~ C(2,4) = S(4,4)\", parameter := [ 2, 4 ], series := \"B\", shortname := \"S4(4)\" )"
      ]
     },
     "execution_count": 28,
     "metadata": {},
     "output_type": "execute_result"
    }
   ],
   "source": [
    "libgap.IsomorphismTypeInfoFiniteSimpleGroup(rho.Image())"
   ]
  },
  {
   "cell_type": "markdown",
   "id": "fbbcca02-1c97-42a3-99f9-e0505a103c7f",
   "metadata": {},
   "source": [
    "$G^+/K^+ \\simeq \\mathrm O(5,4)$:"
   ]
  },
  {
   "cell_type": "code",
   "execution_count": 29,
   "id": "65bca8b7-bd86-4083-ae85-f4be46784f3d",
   "metadata": {},
   "outputs": [
    {
     "data": {
      "text/plain": [
       "rec( name := \"B(2,4) = O(5,4) ~ C(2,4) = S(4,4)\", parameter := [ 2, 4 ], series := \"B\", shortname := \"S4(4)\" )"
      ]
     },
     "execution_count": 29,
     "metadata": {},
     "output_type": "execute_result"
    }
   ],
   "source": [
    "libgap.IsomorphismTypeInfoFiniteSimpleGroup(rho_ori.Image(G_ori))"
   ]
  },
  {
   "cell_type": "markdown",
   "id": "213b5562-470f-4941-8c9a-9d527e706e75",
   "metadata": {},
   "source": [
    "It remains to show that $H_i / K_i^+ \\simeq \\mathbb Z_{34}$. First we show $K_i^+ \\triangleleft H_i$:"
   ]
  },
  {
   "cell_type": "code",
   "execution_count": 30,
   "id": "5cd0859b-08fc-4ca9-909b-6726fd04edf8",
   "metadata": {},
   "outputs": [
    {
     "name": "stdout",
     "output_type": "stream",
     "text": [
      "CPU times: user 3min 47s, sys: 1.6 s, total: 3min 48s\n",
      "Wall time: 46min 17s\n"
     ]
    },
    {
     "data": {
      "text/plain": [
       "[true, true, true, true, true, true, true, true]"
      ]
     },
     "execution_count": 30,
     "metadata": {},
     "output_type": "execute_result"
    }
   ],
   "source": [
    "%time [libgap.IsNormal(Hi, Ki_ori) for Hi, Ki_ori in zip(H, Ks_ori)]"
   ]
  },
  {
   "cell_type": "markdown",
   "id": "acdca34d-0ee1-4446-888e-24493b8fb2ac",
   "metadata": {},
   "source": [
    "Hence, the quotients $H_i / K_i^+$ are either $\\mathbb Z_{34}$ or $D_{34}$. \\\n",
    "However, we have order $2$ normal subgroups $K_i / K_i^+ \\triangleleft H_i / K_i^+$, which only exist in $\\mathbb Z_{34}$."
   ]
  },
  {
   "cell_type": "markdown",
   "id": "4b170a64-d897-4b4b-8f39-f546365eca15",
   "metadata": {},
   "source": [
    "## The graph $\\mathcal G$"
   ]
  },
  {
   "cell_type": "markdown",
   "id": "4c4147f4-f4cb-4591-a747-3e3f96aff985",
   "metadata": {},
   "source": [
    "We construct the vertex set of $\\mathcal G$ using the permutation representation of $G$ on the 170 cosets of $S^+$."
   ]
  },
  {
   "cell_type": "code",
   "execution_count": 40,
   "id": "21007a6b-8d0a-49f7-9dd0-e8c86b3fc77a",
   "metadata": {},
   "outputs": [],
   "source": [
    "Q = libgap.Image(rho_ori)"
   ]
  },
  {
   "cell_type": "code",
   "execution_count": 41,
   "id": "b2f15a2d-0779-4344-ba59-f203c0d0ce49",
   "metadata": {},
   "outputs": [],
   "source": [
    "Sigma_bar = libgap.Subgroup(Q, [rho_ori.Image(G(g)) for g in (a,b,c,d)])"
   ]
  },
  {
   "cell_type": "markdown",
   "id": "22f8cc16-d498-41aa-9761-48f2ef4afa22",
   "metadata": {},
   "source": [
    "The image of $e$ is not in $\\overline \\Sigma$, hence $\\mathcal G$ has no loops:"
   ]
  },
  {
   "cell_type": "code",
   "execution_count": 42,
   "id": "d7869e26-a5b3-482f-ab18-0087fea010c5",
   "metadata": {},
   "outputs": [
    {
     "data": {
      "text/plain": [
       "False"
      ]
     },
     "execution_count": 42,
     "metadata": {},
     "output_type": "execute_result"
    }
   ],
   "source": [
    "rho_ori.Image(G(e)) in Sigma_bar"
   ]
  },
  {
   "cell_type": "code",
   "execution_count": 43,
   "id": "8f10671c-716e-4c84-a252-1aa16d8eb502",
   "metadata": {},
   "outputs": [
    {
     "name": "stdout",
     "output_type": "stream",
     "text": [
      "The image of <a,b,c,d> in Q has size 7200\n",
      "Its orbits are:\n",
      "[[1, 2, 3, 4, 5, 6, 7, 8, 9, 10, 11, 12, 13, 14, 15, 16, 17, 18, 19, 20, 21, 22, 23, 24, 25, 26, 28, 30, 27, 31, 32, 34, 36, 33, 37, 39, 41, 40, 38, 43, 45, 47, 46, 44, 49, 51, 53, 52, 29, 50, 55, 57, 59, 58, 35, 56, 61, 64, 66, 65, 62, 42, 63, 67, 70, 72, 71, 68, 48, 69, 73, 76, 77, 78, 79, 74, 75, 54, 80, 83, 84, 85, 86, 81, 82, 60, 87, 88, 92, 93, 94, 91, 89, 90, 95, 96, 100, 101, 102, 99, 97, 98, 103, 105, 106, 108, 110, 107, 104, 111, 113, 114, 116, 118, 115, 112, 119, 120, 121, 123, 126, 124, 127, 128, 129, 131, 134, 132, 135, 136, 137, 139, 142, 141, 143, 144, 145, 147, 150, 149, 151, 152, 153, 156, 157, 158, 159, 162, 163, 166], [109, 125, 122, 140, 138, 155, 154, 165, 164, 169], [117, 133, 130, 148, 146, 161, 160, 168, 167, 170]]\n"
     ]
    }
   ],
   "source": [
    "print(f\"The image of <a,b,c,d> in Q has size {Sigma_bar.Size()}\")\n",
    "print(f\"Its orbits are:\\n{Sigma_bar.Orbits().sage()}\")"
   ]
  },
  {
   "cell_type": "markdown",
   "id": "1b1f54b5-305d-4666-b8cc-0725ab061f77",
   "metadata": {},
   "source": [
    "The $Q$-stabilizer of each \"nice orbit\" (i.e. $\\overline \\Sigma$-orbit of size 10) is $\\overline \\Sigma$:"
   ]
  },
  {
   "cell_type": "code",
   "execution_count": 44,
   "id": "d62cca47-e745-4223-b0c6-2941edb46ce3",
   "metadata": {},
   "outputs": [],
   "source": [
    "nice_orbits = [tuple(sorted(l.sage())) for l in Sigma_bar.Orbits() if l.Size() == 10]\n",
    "assert(all(Q.Stabilizer(nice, libgap.OnSets) == Sigma_bar for nice in nice_orbits))"
   ]
  },
  {
   "cell_type": "markdown",
   "id": "ed010ca3-7992-4f22-a616-a08254503eaa",
   "metadata": {},
   "source": [
    "Choose a standard nice orbit $\\omega$. Then the $Q$-orbit of $\\omega$ (as a set) is in bijection with $V(\\mathcal G)$."
   ]
  },
  {
   "cell_type": "code",
   "execution_count": 45,
   "id": "6c7b372f-10ab-465c-8df1-db6dee7508da",
   "metadata": {},
   "outputs": [
    {
     "data": {
      "text/plain": [
       "(109, 122, 125, 138, 140, 154, 155, 164, 165, 169)"
      ]
     },
     "execution_count": 45,
     "metadata": {},
     "output_type": "execute_result"
    }
   ],
   "source": [
    "omega = nice_orbits[0]\n",
    "omega"
   ]
  },
  {
   "cell_type": "code",
   "execution_count": 46,
   "id": "20591cbc-c6e3-4860-9adb-d9b025811d7d",
   "metadata": {},
   "outputs": [],
   "source": [
    "vertices = sorted(tuple(sorted(orb.sage())) for orb in Q.Orbit(omega, libgap.OnSets))"
   ]
  },
  {
   "cell_type": "code",
   "execution_count": 47,
   "id": "1ec3ed72-f8df-4780-9360-1982852506bd",
   "metadata": {},
   "outputs": [],
   "source": [
    "vertex_to_index = {t: j for j, t in enumerate(vertices)}"
   ]
  },
  {
   "cell_type": "code",
   "execution_count": 48,
   "id": "34813c5b-1454-44ba-b92f-ead3034ce71f",
   "metadata": {},
   "outputs": [],
   "source": [
    "def action_on_vertices(idx, el):\n",
    "    \"\"\"Computes the action of el (element of Q) on idx (index of a vertex of G).\"\"\"\n",
    "    # The appearance of el^-1 is due to GAP using right cosets, while we use left cosets\n",
    "    return vertex_to_index[tuple(libgap.OnSets(vertices[idx], el^-1).sage())]"
   ]
  },
  {
   "cell_type": "code",
   "execution_count": 49,
   "id": "160860f0-be7f-4f66-9105-90f0d0cd0c73",
   "metadata": {},
   "outputs": [
    {
     "data": {
      "text/plain": [
       "(266, 262)"
      ]
     },
     "execution_count": 49,
     "metadata": {},
     "output_type": "execute_result"
    }
   ],
   "source": [
    "coset_id = vertex_to_index[omega]\n",
    "coset_e = action_on_vertices(coset_id, rho_ori.Image(G(e)))\n",
    "(coset_id, coset_e)"
   ]
  },
  {
   "cell_type": "markdown",
   "id": "f634597a-173e-4a68-bed8-c2ff7c3023f1",
   "metadata": {},
   "source": [
    "To obtain all edges of $\\mathcal G$, we compute the $Q$-orbit of the edge\n",
    "$(\\overline \\Sigma, e\\overline \\Sigma) = $ `(coset_id, coset_e)`."
   ]
  },
  {
   "cell_type": "code",
   "execution_count": 50,
   "id": "aa3150ee-3340-4ed7-b89a-c99db60f641e",
   "metadata": {},
   "outputs": [
    {
     "name": "stdout",
     "output_type": "stream",
     "text": [
      "Size of edge stabilizer: 240, size of transversal: 8160\n"
     ]
    }
   ],
   "source": [
    "edge_stab = Q.Stabilizer(sorted([vertices[coset_e], vertices[coset_id]]), libgap.OnSetsSets)\n",
    "transversal_stab = Q.RightTransversal(edge_stab)\n",
    "print(f\"Size of edge stabilizer: {edge_stab.Size()}, size of transversal: {len(transversal_stab)}\")\n",
    "graph = Graph()\n",
    "for el in transversal_stab.AsList():\n",
    "    graph.add_edge(action_on_vertices(coset_id, el^-1), action_on_vertices(coset_e, el^-1))"
   ]
  },
  {
   "cell_type": "markdown",
   "id": "7de81076-fae8-42e4-840e-03caf37e0460",
   "metadata": {},
   "source": [
    "## The groups $\\Lambda_i$"
   ]
  },
  {
   "cell_type": "markdown",
   "id": "77d694fd-9c6b-43b0-8e39-ceecbd80acd3",
   "metadata": {},
   "source": [
    "Recall that the groups $\\Lambda_i$ are defined as the normalizers of $\\langle \\psi \\rangle$\n",
    "in $\\Pi_i \\coloneqq N_G(K_i) / K_i^+$. We have\n",
    "$$\n",
    "    \\Lambda_i = (N_G(K_i) \\cap N_G(H_i^+)) / K_i^+.\n",
    "$$\n",
    "Indeed, note that the preimage of $\\langle \\psi\\rangle$ in $G$ is the group $H_i^+ \\coloneqq H_i \\cap G^+$. Then:\n",
    "\\begin{align}\n",
    "    \\Lambda_i &= \\{gK_i^+ \\mid g \\in N_G(K_i),\\,\\, (gK_i^+)^{-1}\\cdot H_i^+\\cdot (gK_i^+) = H_i^+ \\}\n",
    "    \\\\ &= \\{gK_i^+ \\mid g \\in N_G(K_i),\\,\\, g^{-1}  H_i^+ g = H_i^+ \\}\n",
    "    \\\\ &= (N_G(K_i) \\cap N_G(H_i^+)) / K_i^+.\n",
    "\\end{align}"
   ]
  },
  {
   "cell_type": "code",
   "execution_count": 21,
   "id": "2fa7c5ea-92f1-472a-9f29-27f850cab6a0",
   "metadata": {
    "tags": []
   },
   "outputs": [],
   "source": [
    "psi = G((a*b*c*d*e)^2)"
   ]
  },
  {
   "cell_type": "code",
   "execution_count": 22,
   "id": "243c44f2-6969-4c5f-82f9-2cfe31281634",
   "metadata": {
    "tags": []
   },
   "outputs": [
    {
     "data": {
      "text/plain": [
       "True"
      ]
     },
     "execution_count": 22,
     "metadata": {},
     "output_type": "execute_result"
    }
   ],
   "source": [
    "all(psi in Hi_ori for Hi_ori in H_ori)"
   ]
  },
  {
   "cell_type": "code",
   "execution_count": 23,
   "id": "517978a4-040f-4f0f-8853-053cdc0a4305",
   "metadata": {},
   "outputs": [
    {
     "data": {
      "text/plain": [
       "False"
      ]
     },
     "execution_count": 23,
     "metadata": {},
     "output_type": "execute_result"
    }
   ],
   "source": [
    "psi in K"
   ]
  },
  {
   "cell_type": "markdown",
   "id": "08b0cdae-3a18-47e9-b3a8-51d600422e05",
   "metadata": {},
   "source": [
    "The above cells show that (a representative of) $\\psi$ is in all $H_i^+$ but in no $K_i^+$. \\\n",
    "However, as expected, $\\psi^{17} \\in K_i^+$ for all $i$."
   ]
  },
  {
   "cell_type": "code",
   "execution_count": 26,
   "id": "e6445f6a-2be6-43c7-82a3-c208157beac3",
   "metadata": {
    "tags": []
   },
   "outputs": [
    {
     "data": {
      "text/plain": [
       "True"
      ]
     },
     "execution_count": 26,
     "metadata": {},
     "output_type": "execute_result"
    }
   ],
   "source": [
    "all(psi^17 in Ki_ori for Ki_ori in Ks_ori)"
   ]
  },
  {
   "cell_type": "markdown",
   "id": "596f0634-bbbd-4364-8a82-b45c51695a29",
   "metadata": {},
   "source": [
    "Let us define a subgroup $D \\coloneqq \\langle C_{17}K, adedba \\rangle$ and verify that it normalizes $K_i$ and $H_i^+$ for all $i$:"
   ]
  },
  {
   "cell_type": "code",
   "execution_count": 27,
   "id": "4092fdad-1483-4f6a-9a2c-4b4ce61b732b",
   "metadata": {
    "tags": []
   },
   "outputs": [],
   "source": [
    "D = G.subgroup(long_words + [G(a*d*e*d*b*a)])"
   ]
  },
  {
   "cell_type": "code",
   "execution_count": 69,
   "id": "65c05682-8951-48b1-b50a-4cd6bd958481",
   "metadata": {
    "tags": []
   },
   "outputs": [
    {
     "name": "stdout",
     "output_type": "stream",
     "text": [
      "CPU times: user 1min 25s, sys: 538 ms, total: 1min 26s\n",
      "Wall time: 1min 25s\n"
     ]
    },
    {
     "data": {
      "text/plain": [
       "True"
      ]
     },
     "execution_count": 69,
     "metadata": {},
     "output_type": "execute_result"
    }
   ],
   "source": [
    "%time all(libgap.IsNormal(D, Ki) for Ki in Ks)"
   ]
  },
  {
   "cell_type": "code",
   "execution_count": 70,
   "id": "ac763322-6f8c-4ab7-8b14-ade6150698d6",
   "metadata": {
    "tags": []
   },
   "outputs": [
    {
     "name": "stdout",
     "output_type": "stream",
     "text": [
      "CPU times: user 6.54 s, sys: 33.1 ms, total: 6.58 s\n",
      "Wall time: 6.53 s\n"
     ]
    },
    {
     "data": {
      "text/plain": [
       "True"
      ]
     },
     "execution_count": 70,
     "metadata": {},
     "output_type": "execute_result"
    }
   ],
   "source": [
    "%time all(libgap.IsNormal(D, Hi_ori) for Hi_ori in H_ori)"
   ]
  },
  {
   "cell_type": "markdown",
   "id": "8f545b61-72f1-44cc-87d0-60648ac7d074",
   "metadata": {},
   "source": [
    "Hence, $D / K_i^+ < \\Lambda_i$ for all $i$.\n",
    "It follows that $\\Lambda_i = L_i / K_i^+$ for some intermediate subgroups $D < L_i < G$. \\\n",
    "Since $D$ contains $K^+$, we shall find intermediate subgroups between $D/K^+$ and $G/K^+$."
   ]
  },
  {
   "cell_type": "code",
   "execution_count": 28,
   "id": "63b61dd7-a734-4002-95db-34525ebc20d0",
   "metadata": {
    "tags": []
   },
   "outputs": [],
   "source": [
    "Dq = libgap.Image(rho_ori, D)"
   ]
  },
  {
   "cell_type": "code",
   "execution_count": 29,
   "id": "98950efd-2a06-4977-b6ae-eb795b388bea",
   "metadata": {
    "tags": []
   },
   "outputs": [],
   "source": [
    "Q = libgap.Image(rho_ori)"
   ]
  },
  {
   "cell_type": "code",
   "execution_count": 30,
   "id": "239d6196-7b6a-4cb7-8113-c0834e6b8e1c",
   "metadata": {
    "tags": []
   },
   "outputs": [
    {
     "name": "stdout",
     "output_type": "stream",
     "text": [
      "CPU times: user 1.35 s, sys: 57.9 ms, total: 1.41 s\n",
      "Wall time: 1.96 s\n"
     ]
    }
   ],
   "source": [
    "%time interm = libgap.IntermediateSubgroups(Q, Dq)"
   ]
  },
  {
   "cell_type": "code",
   "execution_count": 31,
   "id": "fbb2ebbe-c2db-4138-87f1-0551ff619a76",
   "metadata": {
    "tags": []
   },
   "outputs": [
    {
     "data": {
      "text/plain": [
       "rec( inclusions := [ [ 0, 1 ], [ 0, 2 ], [ 0, 3 ], [ 1, 4 ], [ 1, 5 ], [ 2, 4 ], [ 3, 5 ], [ 4, 6 ], [ 5, 6 ] ], subgroups := [ <permutation group of size 136 with 3 generators>, <permutation group of size 8160 with 3 generators>, <permutation group of size 8160 with 3 generators>, <permutation group of size 16320 with 3 generators>, <permutation group of size 16320 with 3 generators> ] )"
      ]
     },
     "execution_count": 31,
     "metadata": {},
     "output_type": "execute_result"
    }
   ],
   "source": [
    "interm"
   ]
  },
  {
   "cell_type": "markdown",
   "id": "00b47bc2-7dbd-44c5-b1c7-4983f6cc1d8e",
   "metadata": {},
   "source": [
    "All intermediate subgroups $D = D_0 < D_1, D_2, \\dots, D_5 < D_6 = G$ can be obtained by lifting through $\\rho^+$:"
   ]
  },
  {
   "cell_type": "code",
   "execution_count": 32,
   "id": "b13f75b5-f0b6-4971-b251-e48070076d14",
   "metadata": {
    "tags": []
   },
   "outputs": [],
   "source": [
    "intermediate_subgroups = [D] + [rho_ori.PreImage(sg) for sg in interm[\"subgroups\"]] + [G]"
   ]
  },
  {
   "cell_type": "markdown",
   "id": "14c28f5f-bd36-482b-8cc0-f1dc814e06c0",
   "metadata": {},
   "source": [
    "Inclusions between `intermediate_subgroups`:"
   ]
  },
  {
   "cell_type": "code",
   "execution_count": 33,
   "id": "30b12d45-11d9-4b62-8075-ec3ac821c797",
   "metadata": {},
   "outputs": [
    {
     "data": {
      "image/png": "[encoded data removed]",
      "text/plain": [
       "Graphics object consisting of 17 graphics primitives"
      ]
     },
     "execution_count": 33,
     "metadata": {},
     "output_type": "execute_result"
    }
   ],
   "source": [
    "DiGraph(interm[\"inclusions\"].sage()).plot()"
   ]
  },
  {
   "cell_type": "markdown",
   "id": "bd3f58e5-e1e4-4e61-9c83-147c9effc4b3",
   "metadata": {},
   "source": [
    "Only $D_0 = D$ and $D_1$ normalize any (all) $H_i^+$:"
   ]
  },
  {
   "cell_type": "code",
   "execution_count": 34,
   "id": "3a573de7-fc66-4be1-a838-d9a6545a4973",
   "metadata": {
    "tags": []
   },
   "outputs": [
    {
     "name": "stdout",
     "output_type": "stream",
     "text": [
      "CPU times: user 7.62 s, sys: 26 ms, total: 7.65 s\n",
      "Wall time: 7.63 s\n"
     ]
    },
    {
     "data": {
      "text/plain": [
       "[(0, [true, true, true, true, true, true, true, true]),\n",
       " (1, [true, true, true, true, true, true, true, true]),\n",
       " (2, [false, false, false, false, false, false, false, false]),\n",
       " (3, [false, false, false, false, false, false, false, false]),\n",
       " (4, [false, false, false, false, false, false, false, false]),\n",
       " (5, [false, false, false, false, false, false, false, false]),\n",
       " (6, [false, false, false, false, false, false, false, false])]"
      ]
     },
     "execution_count": 34,
     "metadata": {},
     "output_type": "execute_result"
    }
   ],
   "source": [
    "%time [(j, [libgap.IsNormal(Dj, Hi) for Hi in H_ori]) for j, Dj in enumerate(intermediate_subgroups)]"
   ]
  },
  {
   "cell_type": "markdown",
   "id": "cefb652c-a227-4bd9-b910-e832b286b152",
   "metadata": {},
   "source": [
    "Let's check if they normalize the $K_i$:"
   ]
  },
  {
   "cell_type": "code",
   "execution_count": 35,
   "id": "a5e8c9e8-0d1b-4ed2-a7c2-5eb4d14cb733",
   "metadata": {
    "tags": []
   },
   "outputs": [
    {
     "name": "stdout",
     "output_type": "stream",
     "text": [
      "CPU times: user 1min 28s, sys: 450 ms, total: 1min 28s\n",
      "Wall time: 1min 28s\n"
     ]
    },
    {
     "data": {
      "text/plain": [
       "[(0, [true, true, true, true, true, true, true, true]),\n",
       " (1, [false, true, true, false, true, false, false, true])]"
      ]
     },
     "execution_count": 35,
     "metadata": {},
     "output_type": "execute_result"
    }
   ],
   "source": [
    "%time [(j, [libgap.IsNormal(Dj, Ki) for Ki in Ks]) for j, Dj in enumerate(intermediate_subgroups[:2])]"
   ]
  },
  {
   "cell_type": "code",
   "execution_count": 36,
   "id": "271c6199-65ad-4cac-9ef4-6624a8bee516",
   "metadata": {
    "tags": []
   },
   "outputs": [
    {
     "name": "stdout",
     "output_type": "stream",
     "text": [
      "CPU times: user 152 ms, sys: 989 μs, total: 153 ms\n",
      "Wall time: 153 ms\n"
     ]
    },
    {
     "data": {
      "text/plain": [
       "[(0, [true, true, true, true, true, true, true, true]),\n",
       " (1, [false, true, true, false, true, false, false, true]),\n",
       " (2, [false, false, false, false, true, true, true, true]),\n",
       " (3, [false, false, false, false, false, false, false, false]),\n",
       " (4, [false, false, false, false, true, false, false, true]),\n",
       " (5, [false, false, false, false, false, false, false, false]),\n",
       " (6, [false, false, false, false, false, false, false, false])]"
      ]
     },
     "execution_count": 36,
     "metadata": {},
     "output_type": "execute_result"
    }
   ],
   "source": [
    "%time [(j, [libgap.IsNormal(Dj, Ki) for Ki in Ks]) for j, Dj in enumerate(intermediate_subgroups)] # REMOVE"
   ]
  },
  {
   "cell_type": "markdown",
   "id": "198ac98d-bbfe-40dd-b3a1-038c8c8c980e",
   "metadata": {},
   "source": [
    "Hence, $\\Lambda_i$ is either $D$ (for $i=1,3,6,8$) or $D_1$ (for $i=2,4,5,7$).\n",
    "\n",
    "(To obtain these indices, recall that in our code the manifolds are ordered as follows: `[1, 4, 5, 8, 2, 3, 6, 7]`. \\\n",
    "The actual indices in our code are `0,3,5,6` for $D$ and `1,2,4,7` for $D_1$.)"
   ]
  },
  {
   "cell_type": "markdown",
   "id": "7f1cc18f-5862-407a-894e-d1c43d06d38e",
   "metadata": {},
   "source": [
    "## Good independent sets"
   ]
  },
  {
   "cell_type": "markdown",
   "id": "55360cbd-da16-4472-a3f8-674ae9fd23c1",
   "metadata": {},
   "source": [
    "In this section we count good independent sets up to the action of $\\Lambda_i$. \\\n",
    "The action of $\\Lambda_i$ on $\\mathcal G$ factors through $K^+$, hence we can pass to the quotient through $\\rho^+$."
   ]
  },
  {
   "cell_type": "code",
   "execution_count": 81,
   "id": "f09225c5-609a-4ec6-8c80-0a978f26aebf",
   "metadata": {
    "tags": []
   },
   "outputs": [],
   "source": [
    "Lambda = [rho_ori.Image(Di) for Di in intermediate_subgroups[:2]]"
   ]
  },
  {
   "cell_type": "code",
   "execution_count": 38,
   "id": "a2e63933-b4d0-4aba-89e2-4298b35eef2e",
   "metadata": {
    "tags": []
   },
   "outputs": [],
   "source": [
    "Lambda = [rho_ori.Image(Di) for Di in intermediate_subgroups] # REMOVE"
   ]
  },
  {
   "cell_type": "code",
   "execution_count": 83,
   "id": "b9a0252c-a481-45c0-a196-bfff9d9e7e92",
   "metadata": {
    "tags": []
   },
   "outputs": [
    {
     "data": {
      "text/plain": [
       "[68, 136]"
      ]
     },
     "execution_count": 83,
     "metadata": {},
     "output_type": "execute_result"
    }
   ],
   "source": [
    "[l.Size() for l in Lambda]"
   ]
  },
  {
   "cell_type": "markdown",
   "id": "53124ea3-a8d2-4826-9ca5-c620f8440f16",
   "metadata": {},
   "source": [
    "Since $|\\Lambda_i| = [L_i : K_i^+] = 2[L_i : K^+]$,\n",
    "this shows that $\\Lambda_i$ has size $2 \\cdot 68$ for $i = 1,3,6,8$ and size $2 \\cdot 136$ for $i = 2,4,5,7$."
   ]
  },
  {
   "cell_type": "code",
   "execution_count": 51,
   "id": "0888bb45-4fbb-48e9-a603-0b6dc6ebb2c2",
   "metadata": {},
   "outputs": [],
   "source": [
    "aut = graph.automorphism_group()"
   ]
  },
  {
   "cell_type": "code",
   "execution_count": 53,
   "id": "c4a263da-4ec2-49bc-9048-e1f8edf43558",
   "metadata": {},
   "outputs": [
    {
     "data": {
      "text/plain": [
       "272"
      ]
     },
     "execution_count": 53,
     "metadata": {},
     "output_type": "execute_result"
    }
   ],
   "source": [
    "N_VERTS = graph.num_verts(); N_VERTS"
   ]
  },
  {
   "cell_type": "code",
   "execution_count": 54,
   "id": "e1a13172-b71f-4968-bdfd-52f3f543415c",
   "metadata": {},
   "outputs": [],
   "source": [
    "def to_automorphism(g):\n",
    "    \"\"\"Given an element g in Q, returns the corresponding automorphism of the graph G.\"\"\"\n",
    "    return aut(\n",
    "        SymmetricGroup(range(N_VERTS))(\n",
    "            [action_on_vertices(j, g) for j in range(N_VERTS)]\n",
    "        )\n",
    "    )"
   ]
  },
  {
   "cell_type": "code",
   "execution_count": 55,
   "id": "51ad4c66-69c2-45e1-ad4d-dc4bf4a3616d",
   "metadata": {
    "tags": []
   },
   "outputs": [],
   "source": [
    "def make_automorphism_subgroup(sg):\n",
    "    \"\"\"Given a subgroup sg < Q, returns the corresponding subgroup of automorphisms of the graph G.\"\"\"\n",
    "    return aut.subgroup([to_automorphism(gen) for gen in sg.GeneratorsOfGroup()])"
   ]
  },
  {
   "cell_type": "code",
   "execution_count": 56,
   "id": "7f45cc37-f3d1-4162-8ee0-7e573660ad46",
   "metadata": {
    "tags": []
   },
   "outputs": [],
   "source": [
    "Lambda_aut = [make_automorphism_subgroup(sg) for sg in Lambda]"
   ]
  },
  {
   "cell_type": "code",
   "execution_count": 62,
   "id": "f4fdc736-5611-42db-b113-45c777f8e775",
   "metadata": {},
   "outputs": [
    {
     "data": {
      "text/plain": [
       "[2,\n",
       " 2,\n",
       " 2,\n",
       " 2,\n",
       " 2,\n",
       " 2,\n",
       " 2,\n",
       " 2,\n",
       " 2,\n",
       " 2,\n",
       " 2,\n",
       " 2,\n",
       " 2,\n",
       " 2,\n",
       " 2,\n",
       " 2,\n",
       " 2,\n",
       " 2,\n",
       " 2,\n",
       " 2,\n",
       " 2,\n",
       " 2,\n",
       " 2,\n",
       " 2,\n",
       " 2,\n",
       " 2,\n",
       " 2,\n",
       " 2,\n",
       " 2,\n",
       " 2,\n",
       " 2,\n",
       " 2,\n",
       " 2,\n",
       " 2,\n",
       " 2,\n",
       " 2,\n",
       " 2,\n",
       " 2,\n",
       " 2,\n",
       " 2,\n",
       " 2,\n",
       " 2,\n",
       " 2,\n",
       " 2,\n",
       " 2,\n",
       " 2,\n",
       " 2,\n",
       " 2,\n",
       " 2,\n",
       " 2,\n",
       " 2,\n",
       " 2,\n",
       " 2,\n",
       " 2,\n",
       " 2,\n",
       " 2,\n",
       " 2,\n",
       " 2,\n",
       " 2,\n",
       " 2,\n",
       " 2,\n",
       " 2,\n",
       " 2,\n",
       " 2,\n",
       " 2,\n",
       " 2,\n",
       " 2,\n",
       " 2,\n",
       " 2,\n",
       " 2,\n",
       " 2,\n",
       " 2,\n",
       " 2,\n",
       " 2,\n",
       " 2,\n",
       " 2,\n",
       " 2,\n",
       " 2,\n",
       " 2,\n",
       " 2,\n",
       " 2,\n",
       " 2,\n",
       " 2,\n",
       " 2,\n",
       " 2,\n",
       " 2,\n",
       " 2,\n",
       " 2,\n",
       " 2,\n",
       " 2,\n",
       " 2,\n",
       " 2,\n",
       " 2,\n",
       " 2,\n",
       " 2,\n",
       " 2,\n",
       " 2,\n",
       " 2,\n",
       " 2,\n",
       " 2,\n",
       " 2,\n",
       " 2,\n",
       " 2,\n",
       " 2,\n",
       " 2,\n",
       " 2,\n",
       " 2,\n",
       " 2,\n",
       " 2,\n",
       " 2,\n",
       " 2,\n",
       " 2,\n",
       " 2,\n",
       " 2,\n",
       " 2,\n",
       " 2,\n",
       " 2,\n",
       " 2,\n",
       " 2,\n",
       " 2,\n",
       " 2,\n",
       " 2,\n",
       " 2,\n",
       " 2,\n",
       " 2,\n",
       " 2,\n",
       " 2,\n",
       " 2,\n",
       " 2,\n",
       " 2,\n",
       " 2,\n",
       " 2,\n",
       " 2,\n",
       " 2,\n",
       " 2,\n",
       " 2,\n",
       " 2,\n",
       " 2,\n",
       " 2,\n",
       " 2,\n",
       " 2,\n",
       " 2,\n",
       " 2,\n",
       " 2,\n",
       " 2,\n",
       " 2,\n",
       " 2,\n",
       " 2,\n",
       " 2,\n",
       " 2,\n",
       " 2,\n",
       " 2,\n",
       " 2,\n",
       " 2,\n",
       " 2,\n",
       " 2,\n",
       " 2,\n",
       " 2,\n",
       " 2,\n",
       " 2,\n",
       " 2,\n",
       " 2,\n",
       " 2,\n",
       " 2,\n",
       " 2,\n",
       " 2,\n",
       " 2,\n",
       " 2,\n",
       " 2,\n",
       " 2,\n",
       " 2,\n",
       " 2,\n",
       " 2,\n",
       " 2,\n",
       " 2,\n",
       " 2,\n",
       " 2,\n",
       " 2,\n",
       " 2,\n",
       " 2,\n",
       " 2,\n",
       " 2,\n",
       " 2,\n",
       " 2,\n",
       " 2,\n",
       " 2,\n",
       " 2,\n",
       " 2,\n",
       " 2,\n",
       " 2,\n",
       " 2,\n",
       " 2,\n",
       " 2,\n",
       " 2,\n",
       " 2,\n",
       " 2,\n",
       " 2,\n",
       " 2,\n",
       " 2,\n",
       " 2,\n",
       " 2,\n",
       " 2,\n",
       " 2,\n",
       " 2,\n",
       " 2,\n",
       " 2,\n",
       " 2,\n",
       " 2,\n",
       " 2,\n",
       " 2,\n",
       " 2,\n",
       " 2,\n",
       " 2,\n",
       " 2,\n",
       " 2,\n",
       " 2,\n",
       " 2,\n",
       " 2,\n",
       " 2,\n",
       " 2,\n",
       " 2,\n",
       " 2,\n",
       " 2,\n",
       " 2,\n",
       " 2,\n",
       " 2,\n",
       " 2,\n",
       " 2,\n",
       " 2,\n",
       " 2,\n",
       " 2,\n",
       " 2,\n",
       " 2,\n",
       " 2,\n",
       " 2,\n",
       " 2,\n",
       " 2,\n",
       " 2,\n",
       " 2,\n",
       " 2,\n",
       " 2,\n",
       " 2,\n",
       " 2,\n",
       " 2,\n",
       " 2,\n",
       " 2,\n",
       " 2,\n",
       " 2,\n",
       " 2,\n",
       " 2,\n",
       " 2,\n",
       " 2,\n",
       " 2,\n",
       " 2,\n",
       " 2,\n",
       " 2,\n",
       " 2,\n",
       " 2,\n",
       " 2,\n",
       " 2,\n",
       " 2,\n",
       " 2,\n",
       " 2,\n",
       " 2,\n",
       " 2,\n",
       " 2,\n",
       " 2,\n",
       " 2,\n",
       " 2,\n",
       " 2,\n",
       " 2,\n",
       " 2]"
      ]
     },
     "execution_count": 62,
     "metadata": {},
     "output_type": "execute_result"
    }
   ],
   "source": [
    "[Lambda_aut[1].stabilizer(j).cardinality() for j in range(N_VERTS)] # REMOVE"
   ]
  },
  {
   "cell_type": "code",
   "execution_count": 36,
   "id": "f0cf75fd-82ff-4393-ab40-2a4851476623",
   "metadata": {},
   "outputs": [],
   "source": [
    "psi = G((a*b*c*d*e)^2)"
   ]
  },
  {
   "cell_type": "code",
   "execution_count": 37,
   "id": "e6d7d9cc-2ec3-4d11-8320-028ed16ea09f",
   "metadata": {},
   "outputs": [],
   "source": [
    "psi_aut = to_automorphism(rho_ori.Image(psi))"
   ]
  },
  {
   "cell_type": "code",
   "execution_count": 38,
   "id": "777c241c-08be-420f-9ba2-fc1a919d378e",
   "metadata": {},
   "outputs": [
    {
     "data": {
      "text/plain": [
       "(266,152,80,159,190,225,84,251,264,228,49,234,14,63,44,236,255)(262,218,73,239,30,39,68,242,259,268,171,88,178,207,220,113,247)(150,204,237,155,226,20,3,16,32,127,260,172,147,48,145,187,47)(193,117,160,135,52,134,189,213,93,180,245,15,59,98,8,62,103)(233,4,19,0,56,102,256,153,166,72,139,195,71,169,185,243,174)(244,194,140,10,57,45,186,215,165,154,53,198,7,67,96,249,78)(227,250,79,74,252,257,131,175,116,265,212,51,164,219,216,89,133)(167,196,114,203,13,18,40,70,214,28,1,60,99,90,176,183,144)(254,106,156,87,263,199,75,142,229,223,81,108,217,253,55,50,248)(177,120,107,235,267,224,83,162,27,41,129,86,271,261,111,149,94)(210,163,22,42,125,137,130,230,182,21,37,122,222,170,9,58,101)(97,231,151,25,34,126,197,141,6,66,100,112,105,221,191,5,61)(200,118,161,240,31,35,123,24,38,128,208,92,179,110,76,109,206)(157,192,138,148,188,85,184,29,2,64,46,201,12,17,36,124,82)(246,54,238,209,146,26,33,69,205,202,143,173,77,211,23,43,121)(168,119,158,95,132,241,269,232,91,181,11,65,104,115,270,258,136)"
      ]
     },
     "execution_count": 38,
     "metadata": {},
     "output_type": "execute_result"
    }
   ],
   "source": [
    "psi_aut"
   ]
  },
  {
   "cell_type": "markdown",
   "id": "7bd63a07-9dce-459f-9445-4e18ffd95ad7",
   "metadata": {},
   "source": [
    "Let us construct the auxiliary graph $\\mathcal G'$ by adding the orbits of $\\psi$ as cliques, and then taking the complement:"
   ]
  },
  {
   "cell_type": "code",
   "execution_count": 103,
   "id": "e90c46c3-2eaa-4972-a588-fb869f219df4",
   "metadata": {
    "tags": []
   },
   "outputs": [],
   "source": [
    "cliques17 = sorted(psi_aut.cycle_tuples(), key = lambda t: min(t))"
   ]
  },
  {
   "cell_type": "code",
   "execution_count": 104,
   "id": "f2a62d61-32e0-4118-8f14-672932bfded7",
   "metadata": {
    "tags": []
   },
   "outputs": [
    {
     "name": "stdout",
     "output_type": "stream",
     "text": [
      "(233, 4, 19, 0, 56, 102, 256, 153, 166, 72, 139, 195, 71, 169, 185, 243, 174)\n",
      "(167, 196, 114, 203, 13, 18, 40, 70, 214, 28, 1, 60, 99, 90, 176, 183, 144)\n",
      "(157, 192, 138, 148, 188, 85, 184, 29, 2, 64, 46, 201, 12, 17, 36, 124, 82)\n",
      "(150, 204, 237, 155, 226, 20, 3, 16, 32, 127, 260, 172, 147, 48, 145, 187, 47)\n",
      "(97, 231, 151, 25, 34, 126, 197, 141, 6, 66, 100, 112, 105, 221, 191, 5, 61)\n",
      "(244, 194, 140, 10, 57, 45, 186, 215, 165, 154, 53, 198, 7, 67, 96, 249, 78)\n",
      "(193, 117, 160, 135, 52, 134, 189, 213, 93, 180, 245, 15, 59, 98, 8, 62, 103)\n",
      "(210, 163, 22, 42, 125, 137, 130, 230, 182, 21, 37, 122, 222, 170, 9, 58, 101)\n",
      "(168, 119, 158, 95, 132, 241, 269, 232, 91, 181, 11, 65, 104, 115, 270, 258, 136)\n",
      "(266, 152, 80, 159, 190, 225, 84, 251, 264, 228, 49, 234, 14, 63, 44, 236, 255)\n",
      "(246, 54, 238, 209, 146, 26, 33, 69, 205, 202, 143, 173, 77, 211, 23, 43, 121)\n",
      "(200, 118, 161, 240, 31, 35, 123, 24, 38, 128, 208, 92, 179, 110, 76, 109, 206)\n",
      "(177, 120, 107, 235, 267, 224, 83, 162, 27, 41, 129, 86, 271, 261, 111, 149, 94)\n",
      "(262, 218, 73, 239, 30, 39, 68, 242, 259, 268, 171, 88, 178, 207, 220, 113, 247)\n",
      "(254, 106, 156, 87, 263, 199, 75, 142, 229, 223, 81, 108, 217, 253, 55, 50, 248)\n",
      "(227, 250, 79, 74, 252, 257, 131, 175, 116, 265, 212, 51, 164, 219, 216, 89, 133)\n"
     ]
    }
   ],
   "source": [
    "for cli in cliques17:\n",
    "    print(cli)"
   ]
  },
  {
   "cell_type": "code",
   "execution_count": 107,
   "id": "b7c6b157-0790-42fb-b6a4-f56246a23a4e",
   "metadata": {
    "tags": []
   },
   "outputs": [],
   "source": [
    "def make_graph_with_cliques(g, cliques, relabel = False, remove_edges = []):\n",
    "    \"\"\"\n",
    "    Adds cliques to a graph and optionally relabels the vertices to have cliques be contiguous intervals.\n",
    "\n",
    "    Arguments:\n",
    "    - g:            graph\n",
    "    - cliques:      list of cliques to add\n",
    "    - relabel:      whether to relabel the vertices\n",
    "    - remove_edges: edges to optionally remove\n",
    "\n",
    "    Returns:\n",
    "    - if relabel is False: modified_graph\n",
    "    - if relabel is True: a tuple (modified_graph, p, pi)\n",
    "        where p, pi are permutations,\n",
    "        applying p to modified_graph recovers the original labeling\n",
    "        and pi is the inverse of p\n",
    "    \"\"\"\n",
    "    g_cliques = Graph(g.edges(labels=False))\n",
    "    for cli in cliques:\n",
    "        g_cliques.add_clique(cli)\n",
    "    g_cliques.delete_edges(remove_edges)\n",
    "    if relabel:\n",
    "        p = [j for cli in sorted(set(cliques)) for j in cli]\n",
    "        pi = {j: k for k, j in enumerate(p)}\n",
    "        g_cliques.relabel(pi)\n",
    "        return g_cliques, p, pi\n",
    "    return g_cliques"
   ]
  },
  {
   "cell_type": "code",
   "execution_count": 108,
   "id": "6a66078a-a104-400c-8203-b0b80b8a6557",
   "metadata": {
    "tags": []
   },
   "outputs": [],
   "source": [
    "graph_aux, p, pi = make_graph_with_cliques(graph, cliques17, relabel=True)\n",
    "graph_aux = graph_aux.complement()"
   ]
  },
  {
   "cell_type": "code",
   "execution_count": 109,
   "id": "c56dc290-6db4-4076-8206-af7c34a73346",
   "metadata": {
    "tags": []
   },
   "outputs": [
    {
     "name": "stdout",
     "output_type": "stream",
     "text": [
      "CPU times: user 12.8 s, sys: 4.08 s, total: 16.9 s\n",
      "Wall time: 17.4 s\n"
     ]
    }
   ],
   "source": [
    "%time maxcli = graph_aux.cliques_maximum()"
   ]
  },
  {
   "cell_type": "code",
   "execution_count": 110,
   "id": "10648cca-704c-4360-ac86-96468f1a4cac",
   "metadata": {
    "tags": []
   },
   "outputs": [
    {
     "data": {
      "text/plain": [
       "13548660"
      ]
     },
     "execution_count": 110,
     "metadata": {},
     "output_type": "execute_result"
    }
   ],
   "source": [
    "len(maxcli)"
   ]
  },
  {
   "cell_type": "code",
   "execution_count": 111,
   "id": "67981002-e39d-45b7-9777-8a3829b985d7",
   "metadata": {
    "tags": []
   },
   "outputs": [
    {
     "name": "stdout",
     "output_type": "stream",
     "text": [
      "CPU times: user 16.7 s, sys: 681 ms, total: 17.4 s\n",
      "Wall time: 17.5 s\n"
     ]
    }
   ],
   "source": [
    "%time indsets = [tuple(sorted(p[x] for x in cli)) for cli in maxcli]"
   ]
  },
  {
   "cell_type": "markdown",
   "id": "6bd9c2a7-beaa-460a-8415-7df35d5a230f",
   "metadata": {},
   "source": [
    "These are all the good independent sets. We check that their size is 16 and that they are actually independent sets:"
   ]
  },
  {
   "cell_type": "code",
   "execution_count": 112,
   "id": "bdd567c3-5ec0-408e-8e6d-998cc8aa688a",
   "metadata": {
    "tags": []
   },
   "outputs": [
    {
     "name": "stdout",
     "output_type": "stream",
     "text": [
      "CPU times: user 1.14 s, sys: 58 μs, total: 1.14 s\n",
      "Wall time: 1.14 s\n"
     ]
    },
    {
     "data": {
      "text/plain": [
       "True"
      ]
     },
     "execution_count": 112,
     "metadata": {},
     "output_type": "execute_result"
    }
   ],
   "source": [
    "%time all(len(ins) == 16 for ins in indsets)"
   ]
  },
  {
   "cell_type": "code",
   "execution_count": 113,
   "id": "dbfa8c34-e6bb-4d13-bdb8-04276b3ab3d2",
   "metadata": {
    "tags": []
   },
   "outputs": [
    {
     "name": "stdout",
     "output_type": "stream",
     "text": [
      "CPU times: user 4min, sys: 18 μs, total: 4min\n",
      "Wall time: 4min 1s\n"
     ]
    },
    {
     "data": {
      "text/plain": [
       "True"
      ]
     },
     "execution_count": 113,
     "metadata": {},
     "output_type": "execute_result"
    }
   ],
   "source": [
    "%time all(graph.is_independent_set(ins) for ins in indsets)"
   ]
  },
  {
   "cell_type": "code",
   "execution_count": 127,
   "id": "48d71883-7819-4ec9-a9ca-9aea844dc065",
   "metadata": {},
   "outputs": [],
   "source": [
    "indsets_set = set(indsets)"
   ]
  },
  {
   "cell_type": "code",
   "execution_count": 114,
   "id": "c4139d36-8f03-4fe2-a2c5-7e3cf9461804",
   "metadata": {},
   "outputs": [],
   "source": [
    "Lambda_lists = [list(sg) for sg in Lambda_aut]"
   ]
  },
  {
   "cell_type": "code",
   "execution_count": 131,
   "id": "9e211fb6-571b-4df7-8970-1820f527d7eb",
   "metadata": {
    "tags": []
   },
   "outputs": [],
   "source": [
    "def indset_orbit(ins, sg_idx):\n",
    "    return list({tuple(sorted(g(x) for x in ins)) for g in Lambda_lists[sg_idx]})"
   ]
  },
  {
   "cell_type": "code",
   "execution_count": 138,
   "id": "9611c20a-4d38-47c9-b616-cd2ec828e283",
   "metadata": {
    "tags": []
   },
   "outputs": [],
   "source": [
    "def find_indset_orbits(sg_idx):\n",
    "    _all_indsets = set(indsets)\n",
    "    N = len(_all_indsets)\n",
    "    orbit_lengths = defaultdict(int)\n",
    "    orbit_representatives = []\n",
    "    while _all_indsets:\n",
    "        if (N - len(_all_indsets)) % 1000 == 0:\n",
    "            percentage = float((N - len(_all_indsets))/N)\n",
    "            print(f\"{N-len(_all_indsets):>8} / {N} ( {percentage:>6.2%})\", end = \"\\r\", flush=True)\n",
    "        ins = next(iter(_all_indsets))\n",
    "        orbit_representatives.append(ins)\n",
    "        orb = indset_orbit(ins, sg_idx)\n",
    "        orbit_lengths[len(orb)] += 1\n",
    "        for x in orb:\n",
    "            _all_indsets.remove(x)\n",
    "    print(f\"{N:>8} / {N} (100.00%)\")\n",
    "    return dict(orbit_lengths), orbit_representatives"
   ]
  },
  {
   "cell_type": "code",
   "execution_count": 139,
   "id": "7a60b607-5d02-45ca-932d-b9c54f8e59f3",
   "metadata": {},
   "outputs": [
    {
     "name": "stdout",
     "output_type": "stream",
     "text": [
      "13548660 / 13548660 (100.00%)\n",
      "CPU times: user 5min 8s, sys: 382 ms, total: 5min 8s\n",
      "Wall time: 5min 9s\n"
     ]
    }
   ],
   "source": [
    "%time lengths0, indset_repr0 = find_indset_orbits(0)"
   ]
  },
  {
   "cell_type": "code",
   "execution_count": 140,
   "id": "0c8c777b-ffd9-420e-8036-7466bc01e02f",
   "metadata": {},
   "outputs": [
    {
     "data": {
      "text/plain": [
       "{68: 198436, 34: 1618}"
      ]
     },
     "execution_count": 140,
     "metadata": {},
     "output_type": "execute_result"
    }
   ],
   "source": [
    "lengths0"
   ]
  },
  {
   "cell_type": "code",
   "execution_count": 142,
   "id": "6601472c-a9e9-4f9f-b627-c75e9d82d19f",
   "metadata": {},
   "outputs": [
    {
     "name": "stdout",
     "output_type": "stream",
     "text": [
      "13548660 / 13548660 (100.00%)\n",
      "CPU times: user 1min 41s, sys: 609 ms, total: 1min 42s\n",
      "Wall time: 1min 42s\n"
     ]
    }
   ],
   "source": [
    "%time lengths1, indset_repr1 = find_indset_orbits(1)"
   ]
  },
  {
   "cell_type": "code",
   "execution_count": 143,
   "id": "26dcade5-f118-4372-89f3-45a6e069d36c",
   "metadata": {},
   "outputs": [
    {
     "data": {
      "text/plain": [
       "{136: 99218, 68: 809}"
      ]
     },
     "execution_count": 143,
     "metadata": {},
     "output_type": "execute_result"
    }
   ],
   "source": [
    "lengths1"
   ]
  },
  {
   "cell_type": "markdown",
   "id": "18513c02-033c-44f5-a61d-6969905839e5",
   "metadata": {},
   "source": [
    "Since $D < D_1$, the set of representatives `indset_repr0` also represents all orbits of $D_1$ (each orbit is represented twice).\n",
    "\n",
    "Hence, we shall save only `indset_repr0` to a text file for future use."
   ]
  },
  {
   "cell_type": "code",
   "execution_count": 144,
   "id": "678ab82a-c4dd-48f6-b4c0-05946dfe03d2",
   "metadata": {
    "tags": []
   },
   "outputs": [
    {
     "name": "stdout",
     "output_type": "stream",
     "text": [
      "CPU times: user 300 ms, sys: 6.58 ms, total: 306 ms\n",
      "Wall time: 304 ms\n"
     ]
    }
   ],
   "source": [
    "%%time\n",
    "with open(\"indsets.txt\", \"w\") as fil:\n",
    "    for ins in indset_repr0:\n",
    "        fil.write(\" \".join(str(x) for x in ins) + \"\\n\")"
   ]
  },
  {
   "cell_type": "markdown",
   "id": "781aeb42-fc59-4372-9f55-b8ed073de56b",
   "metadata": {
    "tags": []
   },
   "source": [
    "## The coloring"
   ]
  },
  {
   "cell_type": "markdown",
   "id": "cf378889-0497-4fa9-8608-0a9bcf1c9739",
   "metadata": {},
   "source": [
    "Let us define the linear binary code $A$:\n",
    "> _***Note:***_ The following cell may issue a warning, which can be ignored."
   ]
  },
  {
   "cell_type": "code",
   "execution_count": 42,
   "id": "245b894a-7cfe-47fe-999b-9c988db33121",
   "metadata": {
    "tags": []
   },
   "outputs": [],
   "source": [
    "qr17 = codes.QuadraticResidueCode(17,GF(2))"
   ]
  },
  {
   "cell_type": "code",
   "execution_count": 43,
   "id": "248b6c0e-213a-4fa3-be3a-e3add83760a9",
   "metadata": {
    "tags": []
   },
   "outputs": [
    {
     "data": {
      "text/plain": [
       "[1 1 1 0 1 0 1 1 1 0 0 0 0 0 0 0 0]\n",
       "[0 1 1 1 0 1 0 1 1 1 0 0 0 0 0 0 0]\n",
       "[0 0 1 1 1 0 1 0 1 1 1 0 0 0 0 0 0]\n",
       "[0 0 0 1 1 1 0 1 0 1 1 1 0 0 0 0 0]\n",
       "[0 0 0 0 1 1 1 0 1 0 1 1 1 0 0 0 0]\n",
       "[0 0 0 0 0 1 1 1 0 1 0 1 1 1 0 0 0]\n",
       "[0 0 0 0 0 0 1 1 1 0 1 0 1 1 1 0 0]\n",
       "[0 0 0 0 0 0 0 1 1 1 0 1 0 1 1 1 0]\n",
       "[0 0 0 0 0 0 0 0 1 1 1 0 1 0 1 1 1]"
      ]
     },
     "execution_count": 43,
     "metadata": {},
     "output_type": "execute_result"
    }
   ],
   "source": [
    "A = qr17.generator_matrix(); A"
   ]
  },
  {
   "cell_type": "code",
   "execution_count": 44,
   "id": "ff85e944-9323-41be-9e15-934ab0145159",
   "metadata": {},
   "outputs": [
    {
     "data": {
      "text/plain": [
       "[1 1 0 1 0 0 1 0 1 1 0 0 0 0 0 0 0]\n",
       "[0 1 1 0 1 0 0 1 0 1 1 0 0 0 0 0 0]\n",
       "[0 0 1 1 0 1 0 0 1 0 1 1 0 0 0 0 0]\n",
       "[0 0 0 1 1 0 1 0 0 1 0 1 1 0 0 0 0]\n",
       "[0 0 0 0 1 1 0 1 0 0 1 0 1 1 0 0 0]\n",
       "[0 0 0 0 0 1 1 0 1 0 0 1 0 1 1 0 0]\n",
       "[0 0 0 0 0 0 1 1 0 1 0 0 1 0 1 1 0]\n",
       "[0 0 0 0 0 0 0 1 1 0 1 0 0 1 0 1 1]"
      ]
     },
     "execution_count": 44,
     "metadata": {},
     "output_type": "execute_result"
    }
   ],
   "source": [
    "B = qr17.parity_check_matrix(); B"
   ]
  },
  {
   "cell_type": "markdown",
   "id": "cc4e4d2f-ab0c-4035-b9e7-d2fa91bcec5a",
   "metadata": {},
   "source": [
    "We analyze a certain subset of the numberings of the colors,\n",
    "corresponding to certain permutations of the columns $A_0, \\dots, A_{16}$ of $A$.\n",
    "\n",
    "Given a generator $\\psi^k \\in \\langle \\psi \\rangle$ and a good independent set $I$, we assign:\n",
    "- color $A_0$ to the facets of $I$;\n",
    "- color $A_1$ to the facets of $\\psi^k(I)$;\n",
    "- ...\n",
    "- color $A_j$ to the facets of $\\psi^{kj}(I)$;\n",
    "- ...\n",
    "- color $A_{16}$ to the facets of $\\psi^{k \\cdot 16}(I)$.\n",
    "\n",
    "This corresponds to defining a new matrix $A^{(k)}$ whose $kj$-th column is $A_j$, and assigning \n",
    "color $A^{(k)}_j$ to the facets of $\\psi^j(I)$. \\\n",
    "Whenever $A^{(k)}$ is left equivalent to $A^{(k')}$, they determine isometric manifolds."
   ]
  },
  {
   "cell_type": "code",
   "execution_count": 45,
   "id": "d78a2a2b-b8d3-4362-9bbe-1d5a3aacc16f",
   "metadata": {},
   "outputs": [],
   "source": [
    "Ai = []\n",
    "for k in range(1, 17):\n",
    "    Ak = matrix(GF(2), 9, 17)\n",
    "    for j in range(17):\n",
    "        Ak.set_column(j*k%17, A.column(j))\n",
    "    Ai.append((k, Ak))"
   ]
  },
  {
   "cell_type": "markdown",
   "id": "da3a67c5-258c-425d-951b-f01274e858f9",
   "metadata": {},
   "source": [
    "The kernel of a matrix is a complete invariant with respect to left equivalence:"
   ]
  },
  {
   "cell_type": "code",
   "execution_count": 46,
   "id": "2e839428-41f3-4fc1-a50f-70a6b37f4893",
   "metadata": {},
   "outputs": [
    {
     "data": {
      "text/plain": [
       "{Vector space of degree 17 and dimension 8 over Finite Field of size 2\n",
       " Basis matrix:\n",
       " [1 0 0 0 0 0 0 0 1 1 0 1 0 0 1 0 1]\n",
       " [0 1 0 0 0 0 0 0 1 0 1 1 1 0 1 1 1]\n",
       " [0 0 1 0 0 0 0 0 1 0 0 0 1 1 1 1 0]\n",
       " [0 0 0 1 0 0 0 0 0 1 0 0 0 1 1 1 1]\n",
       " [0 0 0 0 1 0 0 0 1 1 1 1 0 0 0 1 0]\n",
       " [0 0 0 0 0 1 0 0 0 1 1 1 1 0 0 0 1]\n",
       " [0 0 0 0 0 0 1 0 1 1 1 0 1 1 1 0 1]\n",
       " [0 0 0 0 0 0 0 1 1 0 1 0 0 1 0 1 1]: {1, 2, 4, 8, 9, 13, 15, 16},\n",
       " Vector space of degree 17 and dimension 8 over Finite Field of size 2\n",
       " Basis matrix:\n",
       " [1 0 0 0 0 0 0 0 1 0 0 1 1 1 1 0 0]\n",
       " [0 1 0 0 0 0 0 0 0 1 0 0 1 1 1 1 0]\n",
       " [0 0 1 0 0 0 0 0 0 0 1 0 0 1 1 1 1]\n",
       " [0 0 0 1 0 0 0 0 1 0 0 0 1 1 0 1 1]\n",
       " [0 0 0 0 1 0 0 0 1 1 0 1 1 0 0 0 1]\n",
       " [0 0 0 0 0 1 0 0 1 1 1 1 0 0 1 0 0]\n",
       " [0 0 0 0 0 0 1 0 0 1 1 1 1 0 0 1 0]\n",
       " [0 0 0 0 0 0 0 1 0 0 1 1 1 1 0 0 1]: {3, 5, 6, 7, 10, 11, 12, 14}}"
      ]
     },
     "execution_count": 46,
     "metadata": {},
     "output_type": "execute_result"
    }
   ],
   "source": [
    "multimap((Ak.right_kernel(), k) for k, Ak in Ai)"
   ]
  },
  {
   "cell_type": "markdown",
   "id": "d28caa9a-11be-49da-9120-3d70936b6381",
   "metadata": {},
   "source": [
    "Hence, we see that the resulting manifold only depends on the type of the chosen generator\n",
    "$\\psi^k \\in \\langle \\psi \\rangle$ \\\n",
    "(i.e. $+$ if $k \\in \\{1,2,4,8,9,13,15,16\\}$ and $-$ if $k \\in \\{3,5,6,7,10,11,12,14\\}$)."
   ]
  },
  {
   "cell_type": "markdown",
   "id": "27e75996-393d-4bad-96da-c5496933e8c4",
   "metadata": {},
   "source": [
    "### DELETE THIS PART"
   ]
  },
  {
   "cell_type": "code",
   "execution_count": 92,
   "id": "34ffdacd-3c15-4125-8c82-8c46e45f18b2",
   "metadata": {},
   "outputs": [],
   "source": [
    "def coloring(ins, Ak):\n",
    "    \"\"\"\n",
    "    Returns a coloring of the graph G, associating to all vertices in psi^j(ins) the column Ak_j.\n",
    "    \"\"\"\n",
    "    l = matrix(GF(2), 9, 272)\n",
    "    part = [[] for _ in range(17)]\n",
    "    for x in ins:\n",
    "        for j in range(17):\n",
    "            l.set_column(x, Ak.column(j))\n",
    "            part[j].append(x)\n",
    "            x = psi_aut(x)\n",
    "    l.set_immutable()\n",
    "    return l, part"
   ]
  },
  {
   "cell_type": "code",
   "execution_count": 157,
   "id": "a4d1d38d-722d-4ddb-8eaf-57ed10af0138",
   "metadata": {},
   "outputs": [],
   "source": [
    "ins100 = []\n",
    "with open(\"indsets.txt\", \"r\") as fil:\n",
    "    for line in itertools.islice(fil, 10000):\n",
    "        ins100.append([int(s) for s in line.split()])"
   ]
  },
  {
   "cell_type": "code",
   "execution_count": 149,
   "id": "56571b53-8e89-4bf5-b851-d5724c9ba1a0",
   "metadata": {},
   "outputs": [],
   "source": [
    "def dod_rs(u0, v0):\n",
    "    dod = sorted((set(graph[u0]).intersection(graph[v0])))\n",
    "    col_x = col.matrix_from_columns([u0, v0] + dod)\n",
    "    return col_x.echelon_form()[2:,2:].row_space()"
   ]
  },
  {
   "cell_type": "code",
   "execution_count": 138,
   "id": "59a96afe-b3a4-48cf-bc71-aeaea36ffd5e",
   "metadata": {},
   "outputs": [],
   "source": [
    "def dod_rs2(u0, v0):\n",
    "    dod = sorted(set(graph[u0]).intersection(graph[v0]))\n",
    "    col_x = col.matrix_from_columns([u0, v0] + dod)\n",
    "    return col_x.row_space()"
   ]
  },
  {
   "cell_type": "code",
   "execution_count": 144,
   "id": "580f0b4c-c1c5-4baa-a391-bd94afe121e3",
   "metadata": {},
   "outputs": [],
   "source": [
    "def mindim(ins_idx, typ_plus, col2):\n",
    "    col, part = coloring(ins100[ins_idx], Ai[0 if typ_plus else 2][1])\n",
    "    uv = [(u,v) for u,v in sorted(itertools.product(part[0], part[col2])) if graph.has_edge(u,v)]\n",
    "    return min(dod_rs(ux, vx).dimension() for ux, vx in uv)"
   ]
  },
  {
   "cell_type": "code",
   "execution_count": 158,
   "id": "23afcfed-ca85-44e6-85a2-52889d29484b",
   "metadata": {},
   "outputs": [
    {
     "name": "stdout",
     "output_type": "stream",
     "text": [
      "CPU times: user 507 ms, sys: 6.73 ms, total: 514 ms\n",
      "Wall time: 508 ms\n"
     ]
    },
    {
     "data": {
      "text/plain": [
       "'6666666666666666|6666666666666666'"
      ]
     },
     "execution_count": 158,
     "metadata": {},
     "output_type": "execute_result"
    }
   ],
   "source": [
    "%%time\n",
    "a0, b0 = [[mindim(9000, ty, j) for j in range(1, 17)] for ty in (True, False)]\n",
    "\"\".join(str(j) for j in a0) + \"|\" + \"\".join(str(j) for j in b0)"
   ]
  },
  {
   "cell_type": "code",
   "execution_count": 100,
   "id": "7d20d15a-a6c1-459c-8188-786de954b76d",
   "metadata": {},
   "outputs": [],
   "source": [
    "col, part = coloring(ins100[2], Ai[0][1])"
   ]
  },
  {
   "cell_type": "code",
   "execution_count": 115,
   "id": "07985041-cc12-44b0-ac18-f277c18a3ebc",
   "metadata": {
    "scrolled": true
   },
   "outputs": [
    {
     "data": {
      "text/plain": [
       "[(26, 76),\n",
       " (26, 183),\n",
       " (26, 204),\n",
       " (26, 205),\n",
       " (37, 49),\n",
       " (37, 76),\n",
       " (37, 170),\n",
       " (62, 25),\n",
       " (62, 76),\n",
       " (62, 183),\n",
       " (92, 0),\n",
       " (92, 25),\n",
       " (92, 183),\n",
       " (92, 204),\n",
       " (97, 10),\n",
       " (97, 25),\n",
       " (97, 49),\n",
       " (97, 76),\n",
       " (97, 117),\n",
       " (97, 170),\n",
       " (99, 27),\n",
       " (99, 262),\n",
       " (119, 108),\n",
       " (119, 170),\n",
       " (119, 183),\n",
       " (119, 205),\n",
       " (119, 262),\n",
       " (187, 27),\n",
       " (187, 108),\n",
       " (187, 117),\n",
       " (187, 170),\n",
       " (187, 205),\n",
       " (187, 227),\n",
       " (201, 0),\n",
       " (201, 10),\n",
       " (201, 27),\n",
       " (201, 76),\n",
       " (201, 204),\n",
       " (216, 27),\n",
       " (216, 36),\n",
       " (216, 183),\n",
       " (220, 36),\n",
       " (224, 36),\n",
       " (224, 117),\n",
       " (224, 132),\n",
       " (224, 204),\n",
       " (229, 25),\n",
       " (229, 117),\n",
       " (229, 205),\n",
       " (233, 262),\n",
       " (244, 10),\n",
       " (244, 27),\n",
       " (244, 36),\n",
       " (244, 117),\n",
       " (244, 170),\n",
       " (244, 227),\n",
       " (244, 262),\n",
       " (251, 0),\n",
       " (251, 27),\n",
       " (251, 36),\n",
       " (251, 76),\n",
       " (251, 183),\n",
       " (251, 205)]"
      ]
     },
     "execution_count": 115,
     "metadata": {},
     "output_type": "execute_result"
    }
   ],
   "source": [
    "uv = [(u,v) for u,v in sorted(itertools.product(part[0], part[3])) if graph.has_edge(u,v)]; uv"
   ]
  },
  {
   "cell_type": "code",
   "execution_count": 116,
   "id": "934aa149-e9a4-46fb-8165-3cdf2ae3ad38",
   "metadata": {
    "scrolled": true
   },
   "outputs": [
    {
     "data": {
      "text/plain": [
       "{6: {(26, 76), (97, 10), (187, 227), (216, 27), (229, 25)},\n",
       " 7: {(26, 183),\n",
       "  (26, 204),\n",
       "  (26, 205),\n",
       "  (37, 49),\n",
       "  (37, 76),\n",
       "  (37, 170),\n",
       "  (62, 25),\n",
       "  (62, 76),\n",
       "  (62, 183),\n",
       "  (92, 0),\n",
       "  (92, 25),\n",
       "  (92, 183),\n",
       "  (92, 204),\n",
       "  (97, 25),\n",
       "  (97, 49),\n",
       "  (97, 76),\n",
       "  (97, 117),\n",
       "  (97, 170),\n",
       "  (99, 27),\n",
       "  (99, 262),\n",
       "  (119, 108),\n",
       "  (119, 170),\n",
       "  (119, 183),\n",
       "  (119, 205),\n",
       "  (119, 262),\n",
       "  (187, 27),\n",
       "  (187, 108),\n",
       "  (187, 117),\n",
       "  (187, 170),\n",
       "  (187, 205),\n",
       "  (201, 0),\n",
       "  (201, 10),\n",
       "  (201, 27),\n",
       "  (201, 76),\n",
       "  (201, 204),\n",
       "  (216, 36),\n",
       "  (216, 183),\n",
       "  (220, 36),\n",
       "  (224, 36),\n",
       "  (224, 117),\n",
       "  (224, 132),\n",
       "  (224, 204),\n",
       "  (229, 117),\n",
       "  (229, 205),\n",
       "  (233, 262),\n",
       "  (244, 10),\n",
       "  (244, 27),\n",
       "  (244, 36),\n",
       "  (244, 117),\n",
       "  (244, 170),\n",
       "  (244, 227),\n",
       "  (244, 262),\n",
       "  (251, 0),\n",
       "  (251, 27),\n",
       "  (251, 36),\n",
       "  (251, 76),\n",
       "  (251, 183),\n",
       "  (251, 205)}}"
      ]
     },
     "execution_count": 116,
     "metadata": {},
     "output_type": "execute_result"
    }
   ],
   "source": [
    "multimap((dod_rs(ux, vx).dimension(), (ux, vx)) for ux, vx in uv)"
   ]
  },
  {
   "cell_type": "code",
   "execution_count": 161,
   "id": "e00c7457-ecda-4910-b15c-0cbb1748b6b0",
   "metadata": {},
   "outputs": [
    {
     "name": "stdout",
     "output_type": "stream",
     "text": [
      "CPU times: user 21.4 ms, sys: 22 μs, total: 21.4 ms\n",
      "Wall time: 30.9 ms\n"
     ]
    }
   ],
   "source": [
    "%time _cli_g = graph.cliques_maximum()"
   ]
  },
  {
   "cell_type": "code",
   "execution_count": 175,
   "id": "b122bf0e-afa6-4794-9311-6d587f6b0b72",
   "metadata": {},
   "outputs": [],
   "source": [
    "vcli = defaultdict(set)\n",
    "for v in range(272):\n",
    "    vn = [w for w in graph[v] if w < v]\n",
    "    for cli in graph.subgraph(vn).cliques_maximal():\n",
    "        vcli[v].add(tuple(sorted(cli)))"
   ]
  },
  {
   "cell_type": "code",
   "execution_count": 180,
   "id": "3be47b0a-85ee-4d74-8d2e-9e823622ccde",
   "metadata": {
    "scrolled": true
   },
   "outputs": [
    {
     "data": {
      "text/plain": [
       "{(0, 83, 147, 237),\n",
       " (0, 83, 147, 240),\n",
       " (0, 83, 164, 208),\n",
       " (0, 83, 164, 240),\n",
       " (0, 83, 208, 237),\n",
       " (0, 93, 140, 221),\n",
       " (0, 93, 140, 250),\n",
       " (0, 93, 164, 208),\n",
       " (0, 93, 164, 250),\n",
       " (0, 93, 208, 221),\n",
       " (0, 115, 140, 169),\n",
       " (0, 115, 140, 221),\n",
       " (0, 115, 147, 169),\n",
       " (0, 115, 147, 237),\n",
       " (0, 115, 221, 237),\n",
       " (0, 140, 169, 250),\n",
       " (0, 147, 169, 240),\n",
       " (0, 164, 240, 250),\n",
       " (0, 169, 240, 250),\n",
       " (0, 208, 221, 237),\n",
       " (4, 36, 186, 188),\n",
       " (4, 36, 186, 195),\n",
       " (4, 36, 188, 246),\n",
       " (4, 36, 195, 244),\n",
       " (4, 36, 244, 246),\n",
       " (4, 65, 168, 195),\n",
       " (4, 65, 168, 204),\n",
       " (4, 65, 171, 204),\n",
       " (4, 65, 171, 244),\n",
       " (4, 65, 195, 244),\n",
       " (4, 120, 128, 188),\n",
       " (4, 120, 128, 204),\n",
       " (4, 120, 168, 186),\n",
       " (4, 120, 168, 204),\n",
       " (4, 120, 186, 188),\n",
       " (4, 128, 171, 204),\n",
       " (4, 128, 171, 246),\n",
       " (4, 128, 188, 246),\n",
       " (4, 168, 186, 195),\n",
       " (4, 171, 244, 246),\n",
       " (5, 40, 197, 219),\n",
       " (5, 40, 197, 234),\n",
       " (5, 40, 211, 219),\n",
       " (5, 40, 211, 231),\n",
       " (5, 40, 231, 234),\n",
       " (5, 57, 143, 211),\n",
       " (5, 57, 143, 220),\n",
       " (5, 57, 211, 231),\n",
       " (5, 57, 220, 258),\n",
       " (5, 57, 231, 258),\n",
       " (5, 87, 122, 197),\n",
       " (5, 87, 122, 220),\n",
       " (5, 87, 143, 219),\n",
       " (5, 87, 143, 220),\n",
       " (5, 87, 197, 219),\n",
       " (5, 122, 197, 234),\n",
       " (5, 122, 220, 258),\n",
       " (5, 122, 234, 258),\n",
       " (5, 143, 211, 219),\n",
       " (5, 231, 234, 258),\n",
       " (6, 32, 174, 182),\n",
       " (6, 32, 174, 206),\n",
       " (6, 32, 182, 190),\n",
       " (6, 32, 190, 233),\n",
       " (6, 32, 206, 233),\n",
       " (6, 61, 144, 190),\n",
       " (6, 61, 144, 227),\n",
       " (6, 61, 182, 190),\n",
       " (6, 61, 182, 254),\n",
       " (6, 61, 227, 254),\n",
       " (6, 89, 124, 206),\n",
       " (6, 89, 124, 227),\n",
       " (6, 89, 144, 227),\n",
       " (6, 89, 144, 233),\n",
       " (6, 89, 206, 233),\n",
       " (6, 124, 174, 206),\n",
       " (6, 124, 174, 254),\n",
       " (6, 124, 227, 254),\n",
       " (6, 144, 190, 233),\n",
       " (6, 174, 182, 254),\n",
       " (17, 87, 169, 188),\n",
       " (17, 87, 169, 197),\n",
       " (17, 87, 186, 188),\n",
       " (17, 87, 186, 219),\n",
       " (17, 87, 197, 219),\n",
       " (17, 89, 197, 219),\n",
       " (17, 89, 197, 240),\n",
       " (17, 89, 206, 233),\n",
       " (17, 89, 206, 240),\n",
       " (17, 89, 219, 233),\n",
       " (17, 120, 186, 188),\n",
       " (17, 120, 186, 233),\n",
       " (17, 120, 188, 250),\n",
       " (17, 120, 206, 233),\n",
       " (17, 120, 206, 250),\n",
       " (17, 169, 188, 250),\n",
       " (17, 169, 197, 240),\n",
       " (17, 169, 240, 250),\n",
       " (17, 186, 219, 233),\n",
       " (17, 206, 240, 250),\n",
       " (23, 40, 144, 211),\n",
       " (23, 40, 144, 227),\n",
       " (23, 40, 171, 227),\n",
       " (23, 40, 171, 231),\n",
       " (23, 40, 211, 231),\n",
       " (23, 61, 140, 221),\n",
       " (23, 61, 140, 246),\n",
       " (23, 61, 144, 221),\n",
       " (23, 61, 144, 227),\n",
       " (23, 61, 227, 246),\n",
       " (23, 93, 128, 140),\n",
       " (23, 93, 128, 231),\n",
       " (23, 93, 140, 221),\n",
       " (23, 93, 211, 221),\n",
       " (23, 93, 211, 231),\n",
       " (23, 128, 140, 246),\n",
       " (23, 128, 171, 231),\n",
       " (23, 128, 171, 246),\n",
       " (23, 144, 211, 221),\n",
       " (23, 171, 227, 246),\n",
       " (26, 32, 168, 190),\n",
       " (26, 32, 168, 204),\n",
       " (26, 32, 182, 190),\n",
       " (26, 32, 182, 258),\n",
       " (26, 32, 204, 258),\n",
       " (26, 65, 147, 234),\n",
       " (26, 65, 147, 237),\n",
       " (26, 65, 168, 204),\n",
       " (26, 65, 168, 237),\n",
       " (26, 65, 204, 234),\n",
       " (26, 115, 122, 147),\n",
       " (26, 115, 122, 182),\n",
       " (26, 115, 147, 237),\n",
       " (26, 115, 182, 190),\n",
       " (26, 115, 190, 237),\n",
       " (26, 122, 147, 234),\n",
       " (26, 122, 182, 258),\n",
       " (26, 122, 234, 258),\n",
       " (26, 168, 190, 237),\n",
       " (26, 204, 234, 258),\n",
       " (29, 36, 143, 195),\n",
       " (29, 36, 143, 220),\n",
       " (29, 36, 195, 244),\n",
       " (29, 36, 220, 254),\n",
       " (29, 36, 244, 254),\n",
       " (29, 57, 143, 208),\n",
       " (29, 57, 143, 220),\n",
       " (29, 57, 164, 174),\n",
       " (29, 57, 164, 208),\n",
       " (29, 57, 174, 220),\n",
       " (29, 83, 124, 164),\n",
       " (29, 83, 124, 244),\n",
       " (29, 83, 164, 208),\n",
       " (29, 83, 195, 208),\n",
       " (29, 83, 195, 244),\n",
       " (29, 124, 164, 174),\n",
       " (29, 124, 174, 254),\n",
       " (29, 124, 244, 254),\n",
       " (29, 143, 195, 208),\n",
       " (29, 174, 220, 254),\n",
       " (32, 72, 120, 204),\n",
       " (32, 72, 120, 206),\n",
       " (32, 72, 174, 206),\n",
       " (32, 72, 174, 258),\n",
       " (32, 72, 204, 258),\n",
       " (32, 120, 168, 204),\n",
       " (32, 120, 168, 233),\n",
       " (32, 120, 206, 233),\n",
       " (32, 168, 190, 233),\n",
       " (32, 174, 182, 258),\n",
       " (36, 73, 87, 188),\n",
       " (36, 73, 87, 220),\n",
       " (36, 73, 188, 246),\n",
       " (36, 73, 220, 254),\n",
       " (36, 73, 246, 254),\n",
       " (36, 87, 143, 186),\n",
       " (36, 87, 143, 220),\n",
       " (36, 87, 186, 188),\n",
       " (36, 143, 186, 195),\n",
       " (36, 244, 246, 254),\n",
       " (40, 71, 89, 197),\n",
       " (40, 71, 89, 227),\n",
       " (40, 71, 171, 227),\n",
       " (40, 71, 171, 234),\n",
       " (40, 71, 197, 234),\n",
       " (40, 89, 144, 219),\n",
       " (40, 89, 144, 227),\n",
       " (40, 89, 197, 219),\n",
       " (40, 144, 211, 219),\n",
       " (40, 171, 231, 234),\n",
       " (57, 72, 93, 164),\n",
       " (57, 72, 93, 231),\n",
       " (57, 72, 164, 174),\n",
       " (57, 72, 174, 258),\n",
       " (57, 72, 231, 258),\n",
       " (57, 93, 164, 208),\n",
       " (57, 93, 208, 211),\n",
       " (57, 93, 211, 231),\n",
       " (57, 143, 208, 211),\n",
       " (57, 174, 220, 258),\n",
       " (61, 73, 115, 140),\n",
       " (61, 73, 115, 182),\n",
       " (61, 73, 140, 246),\n",
       " (61, 73, 182, 254),\n",
       " (61, 73, 246, 254),\n",
       " (61, 115, 140, 221),\n",
       " (61, 115, 182, 190),\n",
       " (61, 115, 190, 221),\n",
       " (61, 144, 190, 221),\n",
       " (61, 227, 246, 254),\n",
       " (65, 71, 83, 147),\n",
       " (65, 71, 83, 244),\n",
       " (65, 71, 147, 234),\n",
       " (65, 71, 171, 234),\n",
       " (65, 71, 171, 244),\n",
       " (65, 83, 147, 237),\n",
       " (65, 83, 195, 237),\n",
       " (65, 83, 195, 244),\n",
       " (65, 168, 195, 237),\n",
       " (65, 171, 204, 234),\n",
       " (68, 143, 186, 195),\n",
       " (68, 143, 186, 219),\n",
       " (68, 143, 195, 208),\n",
       " (68, 143, 208, 211),\n",
       " (68, 143, 211, 219),\n",
       " (68, 144, 190, 221),\n",
       " (68, 144, 190, 233),\n",
       " (68, 144, 211, 219),\n",
       " (68, 144, 211, 221),\n",
       " (68, 144, 219, 233),\n",
       " (68, 168, 186, 195),\n",
       " (68, 168, 186, 233),\n",
       " (68, 168, 190, 233),\n",
       " (68, 168, 190, 237),\n",
       " (68, 168, 195, 237),\n",
       " (68, 186, 219, 233),\n",
       " (68, 190, 221, 237),\n",
       " (68, 195, 208, 237),\n",
       " (68, 208, 211, 221),\n",
       " (68, 208, 221, 237),\n",
       " (71, 83, 124, 240),\n",
       " (71, 83, 124, 244),\n",
       " (71, 83, 147, 240),\n",
       " (71, 89, 124, 227),\n",
       " (71, 89, 124, 240),\n",
       " (71, 89, 197, 240),\n",
       " (71, 124, 227, 244),\n",
       " (71, 147, 197, 234),\n",
       " (71, 147, 197, 240),\n",
       " (71, 171, 227, 244),\n",
       " (72, 93, 128, 231),\n",
       " (72, 93, 128, 250),\n",
       " (72, 93, 164, 250),\n",
       " (72, 120, 128, 204),\n",
       " (72, 120, 128, 250),\n",
       " (72, 120, 206, 250),\n",
       " (72, 128, 204, 231),\n",
       " (72, 164, 174, 206),\n",
       " (72, 164, 206, 250),\n",
       " (72, 204, 231, 258),\n",
       " (73, 87, 122, 169),\n",
       " (73, 87, 122, 220),\n",
       " (73, 87, 169, 188),\n",
       " (73, 115, 122, 169),\n",
       " (73, 115, 122, 182),\n",
       " (73, 115, 140, 169),\n",
       " (73, 122, 182, 220),\n",
       " (73, 140, 169, 188),\n",
       " (73, 140, 188, 246),\n",
       " (73, 182, 220, 254),\n",
       " (83, 124, 164, 240),\n",
       " (83, 195, 208, 237),\n",
       " (87, 122, 169, 197),\n",
       " (87, 143, 186, 219),\n",
       " (89, 124, 206, 240),\n",
       " (89, 144, 219, 233),\n",
       " (93, 128, 140, 250),\n",
       " (93, 208, 211, 221),\n",
       " (115, 122, 147, 169),\n",
       " (115, 190, 221, 237),\n",
       " (120, 128, 188, 250),\n",
       " (120, 168, 186, 233),\n",
       " (122, 147, 169, 197),\n",
       " (122, 147, 197, 234),\n",
       " (122, 182, 220, 258),\n",
       " (124, 164, 174, 206),\n",
       " (124, 164, 206, 240),\n",
       " (124, 227, 244, 254),\n",
       " (128, 140, 188, 246),\n",
       " (128, 140, 188, 250),\n",
       " (128, 171, 204, 231),\n",
       " (140, 169, 188, 250),\n",
       " (147, 169, 197, 240),\n",
       " (164, 206, 240, 250),\n",
       " (171, 204, 231, 234),\n",
       " (171, 227, 244, 246),\n",
       " (174, 182, 220, 254),\n",
       " (174, 182, 220, 258),\n",
       " (204, 231, 234, 258),\n",
       " (227, 244, 246, 254)}"
      ]
     },
     "execution_count": 180,
     "metadata": {},
     "output_type": "execute_result"
    }
   ],
   "source": [
    "vcli[271]"
   ]
  },
  {
   "cell_type": "code",
   "execution_count": 183,
   "id": "d3e63089-1ddb-435f-9bdb-caac58779379",
   "metadata": {
    "scrolled": true
   },
   "outputs": [
    {
     "name": "stdout",
     "output_type": "stream",
     "text": [
      "    VA {{{FACETS, FACETS, FACETS, FACETS}}},\n",
      "    VA {{{FACETS, FACETS, FACETS, FACETS}}},\n",
      "    VA {{{FACETS, FACETS, FACETS, FACETS}}},\n",
      "    VA {{{FACETS, FACETS, FACETS, FACETS}}},\n",
      "    VA {{{FACETS, FACETS, FACETS, FACETS}}},\n",
      "    VA {{{FACETS, FACETS, FACETS, FACETS}}},\n",
      "    VA {{{FACETS, FACETS, FACETS, FACETS}}},\n",
      "    VA {{{FACETS, FACETS, FACETS, FACETS}}},\n",
      "    VA {{{FACETS, FACETS, FACETS, FACETS}}},\n",
      "    VA {{{FACETS, FACETS, FACETS, FACETS}}},\n",
      "    VA {{{FACETS, FACETS, FACETS, FACETS}}},\n",
      "    VA {{{FACETS, FACETS, FACETS, FACETS}}},\n",
      "    VA {{{FACETS, FACETS, FACETS, FACETS}}},\n",
      "    VA {{{FACETS, FACETS, FACETS, FACETS}}},\n",
      "    VA {{{FACETS, FACETS, FACETS, FACETS}}},\n",
      "    VA {{{FACETS, FACETS, FACETS, FACETS}}},\n",
      "    VA {{{FACETS, FACETS, FACETS, FACETS}}},\n",
      "    VA {{{FACETS, FACETS, FACETS, FACETS}}},\n",
      "    VA {{{FACETS, FACETS, FACETS, FACETS}}},\n",
      "    VA {{{FACETS, FACETS, FACETS, FACETS}}},\n",
      "    VA {{{FACETS, FACETS, FACETS, FACETS}}},\n",
      "    VA {{{FACETS, FACETS, FACETS, FACETS}}},\n",
      "    VA {{{FACETS, FACETS, FACETS, FACETS}}},\n",
      "    VA {{{FACETS, FACETS, FACETS, FACETS}}},\n",
      "    VA {{{FACETS, FACETS, FACETS, FACETS}}},\n",
      "    VA {{{FACETS, FACETS, FACETS, FACETS}}},\n",
      "    VA {{{FACETS, FACETS, FACETS, FACETS}}},\n",
      "    VA {{{FACETS, FACETS, FACETS, FACETS}}},\n",
      "    VA {{{FACETS, FACETS, FACETS, FACETS}}},\n",
      "    VA {{{FACETS, FACETS, FACETS, FACETS}}},\n",
      "    VA {{{FACETS, FACETS, FACETS, FACETS}}},\n",
      "    VA {{{FACETS, FACETS, FACETS, FACETS}}},\n",
      "    VA {{{6, FACETS, FACETS, FACETS}}, {{13, FACETS, FACETS, FACETS}}, {{14, FACETS, FACETS, FACETS}}, {{15, FACETS, FACETS, FACETS}}, {{21, FACETS, FACETS, FACETS}}, {{26, FACETS, FACETS, FACETS}}, {{27, FACETS, FACETS, FACETS}}, {{28, FACETS, FACETS, FACETS}}},\n",
      "    VA {{{6, FACETS, FACETS, FACETS}}, {{13, FACETS, FACETS, FACETS}}, {{14, FACETS, FACETS, FACETS}}, {{15, FACETS, FACETS, FACETS}}, {{21, FACETS, FACETS, FACETS}}, {{26, FACETS, FACETS, FACETS}}, {{27, FACETS, FACETS, FACETS}}, {{28, FACETS, FACETS, FACETS}}},\n",
      "    VA {{{6, FACETS, FACETS, FACETS}}, {{13, FACETS, FACETS, FACETS}}, {{14, FACETS, FACETS, FACETS}}, {{15, FACETS, FACETS, FACETS}}, {{21, FACETS, FACETS, FACETS}}, {{26, FACETS, FACETS, FACETS}}, {{27, FACETS, FACETS, FACETS}}, {{28, FACETS, FACETS, FACETS}}},\n",
      "    VA {{{6, FACETS, FACETS, FACETS}}, {{13, FACETS, FACETS, FACETS}}, {{14, FACETS, FACETS, FACETS}}, {{15, FACETS, FACETS, FACETS}}, {{21, FACETS, FACETS, FACETS}}, {{26, FACETS, FACETS, FACETS}}, {{27, FACETS, FACETS, FACETS}}, {{28, FACETS, FACETS, FACETS}}},\n",
      "    VA {{{4, FACETS, FACETS, FACETS}}, {{7, FACETS, FACETS, FACETS}}, {{8, FACETS, FACETS, FACETS}}, {{9, FACETS, FACETS, FACETS}}, {{22, FACETS, FACETS, FACETS}}, {{29, FACETS, FACETS, FACETS}}, {{30, FACETS, FACETS, FACETS}}, {{31, FACETS, FACETS, FACETS}}},\n",
      "    VA {{{4, FACETS, FACETS, FACETS}}, {{7, FACETS, FACETS, FACETS}}, {{8, FACETS, FACETS, FACETS}}, {{9, FACETS, FACETS, FACETS}}, {{22, FACETS, FACETS, FACETS}}, {{29, FACETS, FACETS, FACETS}}, {{30, FACETS, FACETS, FACETS}}, {{31, FACETS, FACETS, FACETS}}},\n",
      "    VA {{{4, FACETS, FACETS, FACETS}}, {{7, FACETS, FACETS, FACETS}}, {{8, FACETS, FACETS, FACETS}}, {{9, FACETS, FACETS, FACETS}}, {{22, FACETS, FACETS, FACETS}}, {{29, FACETS, FACETS, FACETS}}, {{30, FACETS, FACETS, FACETS}}, {{31, FACETS, FACETS, FACETS}}},\n",
      "    VA {{{4, FACETS, FACETS, FACETS}}, {{7, FACETS, FACETS, FACETS}}, {{8, FACETS, FACETS, FACETS}}, {{9, FACETS, FACETS, FACETS}}, {{22, FACETS, FACETS, FACETS}}, {{29, FACETS, FACETS, FACETS}}, {{30, FACETS, FACETS, FACETS}}, {{31, FACETS, FACETS, FACETS}}},\n",
      "    VA {{{5, FACETS, FACETS, FACETS}}, {{10, FACETS, FACETS, FACETS}}, {{11, FACETS, FACETS, FACETS}}, {{12, FACETS, FACETS, FACETS}}, {{20, FACETS, FACETS, FACETS}}, {{23, FACETS, FACETS, FACETS}}, {{24, FACETS, FACETS, FACETS}}, {{25, FACETS, FACETS, FACETS}}},\n",
      "    VA {{{5, FACETS, FACETS, FACETS}}, {{10, FACETS, FACETS, FACETS}}, {{11, FACETS, FACETS, FACETS}}, {{12, FACETS, FACETS, FACETS}}, {{20, FACETS, FACETS, FACETS}}, {{23, FACETS, FACETS, FACETS}}, {{24, FACETS, FACETS, FACETS}}, {{25, FACETS, FACETS, FACETS}}},\n",
      "    VA {{{5, FACETS, FACETS, FACETS}}, {{10, FACETS, FACETS, FACETS}}, {{11, FACETS, FACETS, FACETS}}, {{12, FACETS, FACETS, FACETS}}, {{20, FACETS, FACETS, FACETS}}, {{23, FACETS, FACETS, FACETS}}, {{24, FACETS, FACETS, FACETS}}, {{25, FACETS, FACETS, FACETS}}},\n",
      "    VA {{{5, FACETS, FACETS, FACETS}}, {{10, FACETS, FACETS, FACETS}}, {{11, FACETS, FACETS, FACETS}}, {{12, FACETS, FACETS, FACETS}}, {{20, FACETS, FACETS, FACETS}}, {{23, FACETS, FACETS, FACETS}}, {{24, FACETS, FACETS, FACETS}}, {{25, FACETS, FACETS, FACETS}}},\n",
      "    VA {{{3, FACETS, FACETS, FACETS}}, {{9, 38, FACETS, FACETS}}, {{11, 43, FACETS, FACETS}}, {{14, 34, FACETS, FACETS}}, {{18, FACETS, FACETS, FACETS}}, {{24, 43, FACETS, FACETS}}, {{28, 34, FACETS, FACETS}}, {{31, 38, FACETS, FACETS}}},\n",
      "    VA {{{2, FACETS, FACETS, FACETS}}, {{8, 39, FACETS, FACETS}}, {{12, 42, FACETS, FACETS}}, {{15, 35, FACETS, FACETS}}, {{17, FACETS, FACETS, FACETS}}, {{23, 42, FACETS, FACETS}}, {{26, 35, FACETS, FACETS}}, {{29, 39, FACETS, FACETS}}},\n",
      "    VA {{{1, FACETS, FACETS, FACETS}}, {{7, 37, FACETS, FACETS}}, {{10, 41, FACETS, FACETS}}, {{13, 33, FACETS, FACETS}}, {{19, FACETS, FACETS, FACETS}}, {{25, 41, FACETS, FACETS}}, {{27, 33, FACETS, FACETS}}, {{30, 37, FACETS, FACETS}}},\n",
      "    VA {{{3, FACETS, FACETS, FACETS}}, {{9, 36, FACETS, FACETS}}, {{11, 41, FACETS, FACETS}}, {{14, 35, FACETS, FACETS}}, {{18, FACETS, FACETS, FACETS}}, {{24, 41, FACETS, FACETS}}, {{28, 35, FACETS, FACETS}}, {{31, 36, FACETS, FACETS}}},\n",
      "    VA {{{3, FACETS, FACETS, FACETS}}, {{9, 39, FACETS, FACETS}}, {{11, 40, FACETS, FACETS}}, {{14, 33, FACETS, FACETS}}, {{18, FACETS, FACETS, FACETS}}, {{24, 40, FACETS, FACETS}}, {{28, 33, FACETS, FACETS}}, {{31, 39, FACETS, FACETS}}},\n",
      "    VA {{{3, FACETS, FACETS, FACETS}}, {{9, 37, FACETS, FACETS}}, {{11, 42, FACETS, FACETS}}, {{14, 32, FACETS, FACETS}}, {{18, FACETS, FACETS, FACETS}}, {{24, 42, FACETS, FACETS}}, {{28, 32, FACETS, FACETS}}, {{31, 37, FACETS, FACETS}}},\n",
      "    VA {{{2, FACETS, FACETS, FACETS}}, {{8, 36, FACETS, FACETS}}, {{12, 43, FACETS, FACETS}}, {{15, 33, FACETS, FACETS}}, {{17, FACETS, FACETS, FACETS}}, {{23, 43, FACETS, FACETS}}, {{26, 33, FACETS, FACETS}}, {{29, 36, FACETS, FACETS}}},\n",
      "    VA {{{1, FACETS, FACETS, FACETS}}, {{7, 36, FACETS, FACETS}}, {{10, 42, FACETS, FACETS}}, {{13, 34, FACETS, FACETS}}, {{19, FACETS, FACETS, FACETS}}, {{25, 42, FACETS, FACETS}}, {{27, 34, FACETS, FACETS}}, {{30, 36, FACETS, FACETS}}},\n",
      "    VA {{{1, FACETS, FACETS, FACETS}}, {{7, 38, FACETS, FACETS}}, {{10, 40, FACETS, FACETS}}, {{13, 35, FACETS, FACETS}}, {{19, FACETS, FACETS, FACETS}}, {{25, 40, FACETS, FACETS}}, {{27, 35, FACETS, FACETS}}, {{30, 38, FACETS, FACETS}}},\n",
      "    VA {{{2, FACETS, FACETS, FACETS}}, {{8, 37, FACETS, FACETS}}, {{12, 40, FACETS, FACETS}}, {{15, 34, FACETS, FACETS}}, {{17, FACETS, FACETS, FACETS}}, {{23, 40, FACETS, FACETS}}, {{26, 34, FACETS, FACETS}}, {{29, 37, FACETS, FACETS}}},\n",
      "    VA {{{1, FACETS, FACETS, FACETS}}, {{7, 39, FACETS, FACETS}}, {{10, 43, FACETS, FACETS}}, {{13, 32, FACETS, FACETS}}, {{19, FACETS, FACETS, FACETS}}, {{25, 43, FACETS, FACETS}}, {{27, 32, FACETS, FACETS}}, {{30, 39, FACETS, FACETS}}},\n",
      "    VA {{{2, FACETS, FACETS, FACETS}}, {{8, 38, FACETS, FACETS}}, {{12, 41, FACETS, FACETS}}, {{15, 32, FACETS, FACETS}}, {{17, FACETS, FACETS, FACETS}}, {{23, 41, FACETS, FACETS}}, {{26, 32, FACETS, FACETS}}, {{29, 38, FACETS, FACETS}}},\n",
      "    VA {{{5, FACETS, FACETS, FACETS}}, {{10, 52, FACETS, FACETS}}, {{11, 48, FACETS, FACETS}}, {{12, 53, FACETS, FACETS}}, {{22, FACETS, FACETS, FACETS}}, {{29, 53, FACETS, FACETS}}, {{30, 52, FACETS, FACETS}}, {{31, 48, FACETS, FACETS}}},\n",
      "    VA {{{5, FACETS, FACETS, FACETS}}, {{10, 51, FACETS, FACETS}}, {{11, 49, FACETS, FACETS}}, {{12, 45, FACETS, FACETS}}, {{22, FACETS, FACETS, FACETS}}, {{29, 45, FACETS, FACETS}}, {{30, 51, FACETS, FACETS}}, {{31, 49, FACETS, FACETS}}},\n",
      "    VA {{{5, FACETS, FACETS, FACETS}}, {{10, 46, FACETS, FACETS}}, {{11, 47, FACETS, FACETS}}, {{12, 55, FACETS, FACETS}}, {{22, FACETS, FACETS, FACETS}}, {{29, 55, FACETS, FACETS}}, {{30, 46, FACETS, FACETS}}, {{31, 47, FACETS, FACETS}}},\n",
      "    VA {{{5, FACETS, FACETS, FACETS}}, {{10, 54, FACETS, FACETS}}, {{11, 44, FACETS, FACETS}}, {{12, 50, FACETS, FACETS}}, {{22, FACETS, FACETS, FACETS}}, {{29, 50, FACETS, FACETS}}, {{30, 54, FACETS, FACETS}}, {{31, 44, FACETS, FACETS}}},\n",
      "    VA {{{6, FACETS, FACETS, FACETS}}, {{13, 54, FACETS, FACETS}}, {{14, 49, FACETS, FACETS}}, {{15, 55, FACETS, FACETS}}, {{20, FACETS, FACETS, FACETS}}, {{23, 55, FACETS, FACETS}}, {{24, 49, FACETS, FACETS}}, {{25, 54, FACETS, FACETS}}},\n",
      "    VA {{{6, FACETS, FACETS, FACETS}}, {{13, 52, FACETS, FACETS}}, {{14, 47, FACETS, FACETS}}, {{15, 45, FACETS, FACETS}}, {{20, FACETS, FACETS, FACETS}}, {{23, 45, FACETS, FACETS}}, {{24, 47, FACETS, FACETS}}, {{25, 52, FACETS, FACETS}}},\n",
      "    VA {{{6, FACETS, FACETS, FACETS}}, {{13, 46, FACETS, FACETS}}, {{14, 48, FACETS, FACETS}}, {{15, 50, FACETS, FACETS}}, {{20, FACETS, FACETS, FACETS}}, {{23, 50, FACETS, FACETS}}, {{24, 48, FACETS, FACETS}}, {{25, 46, FACETS, FACETS}}},\n",
      "    VA {{{6, FACETS, FACETS, FACETS}}, {{13, 51, FACETS, FACETS}}, {{14, 44, FACETS, FACETS}}, {{15, 53, FACETS, FACETS}}, {{20, FACETS, FACETS, FACETS}}, {{23, 53, FACETS, FACETS}}, {{24, 44, FACETS, FACETS}}, {{25, 51, FACETS, FACETS}}},\n",
      "    VA {{{4, FACETS, FACETS, FACETS}}, {{7, 51, FACETS, FACETS}}, {{8, 50, FACETS, FACETS}}, {{9, 47, FACETS, FACETS}}, {{21, FACETS, FACETS, FACETS}}, {{26, 50, FACETS, FACETS}}, {{27, 51, FACETS, FACETS}}, {{28, 47, FACETS, FACETS}}},\n",
      "    VA {{{4, FACETS, FACETS, FACETS}}, {{7, 54, FACETS, FACETS}}, {{8, 45, FACETS, FACETS}}, {{9, 48, FACETS, FACETS}}, {{21, FACETS, FACETS, FACETS}}, {{26, 45, FACETS, FACETS}}, {{27, 54, FACETS, FACETS}}, {{28, 48, FACETS, FACETS}}},\n",
      "    VA {{{4, FACETS, FACETS, FACETS}}, {{7, 52, FACETS, FACETS}}, {{8, 55, FACETS, FACETS}}, {{9, 44, FACETS, FACETS}}, {{21, FACETS, FACETS, FACETS}}, {{26, 55, FACETS, FACETS}}, {{27, 52, FACETS, FACETS}}, {{28, 44, FACETS, FACETS}}},\n",
      "    VA {{{4, FACETS, FACETS, FACETS}}, {{7, 46, FACETS, FACETS}}, {{8, 53, FACETS, FACETS}}, {{9, 49, FACETS, FACETS}}, {{21, FACETS, FACETS, FACETS}}, {{26, 53, FACETS, FACETS}}, {{27, 46, FACETS, FACETS}}, {{28, 49, FACETS, FACETS}}},\n",
      "    VA {{{2, FACETS, FACETS, FACETS}}, {{8, 39, FACETS, FACETS}}, {{8, 67, FACETS, FACETS}}, {{12, 42, FACETS, FACETS}}, {{12, 58, FACETS, FACETS}}, {{15, 35, FACETS, FACETS}}, {{15, 62, FACETS, FACETS}}, {{19, FACETS, FACETS, FACETS}}, {{25, 42, FACETS, FACETS}}, {{25, 62, FACETS, FACETS}}, {{27, 35, FACETS, FACETS}}, {{27, 67, FACETS, FACETS}}, {{30, 39, FACETS, FACETS}}, {{30, 58, FACETS, FACETS}}},\n",
      "    VA {{{1, FACETS, FACETS, FACETS}}, {{7, 37, FACETS, FACETS}}, {{7, 66, FACETS, FACETS}}, {{10, 41, FACETS, FACETS}}, {{10, 59, FACETS, FACETS}}, {{13, 33, FACETS, FACETS}}, {{13, 63, FACETS, FACETS}}, {{18, FACETS, FACETS, FACETS}}, {{24, 41, FACETS, FACETS}}, {{24, 63, FACETS, FACETS}}, {{28, 33, FACETS, FACETS}}, {{28, 66, FACETS, FACETS}}, {{31, 37, FACETS, FACETS}}, {{31, 59, FACETS, FACETS}}},\n",
      "    VA {{{3, FACETS, FACETS, FACETS}}, {{9, 38, FACETS, FACETS}}, {{9, 65, FACETS, FACETS}}, {{11, 43, FACETS, FACETS}}, {{11, 57, FACETS, FACETS}}, {{14, 34, FACETS, FACETS}}, {{14, 61, FACETS, FACETS}}, {{17, FACETS, FACETS, FACETS}}, {{23, 43, FACETS, FACETS}}, {{23, 61, FACETS, FACETS}}, {{26, 34, FACETS, FACETS}}, {{26, 65, FACETS, FACETS}}, {{29, 38, FACETS, FACETS}}, {{29, 57, FACETS, FACETS}}},\n",
      "    VA {{{2, FACETS, FACETS, FACETS}}, {{8, 37, FACETS, FACETS}}, {{8, 65, FACETS, FACETS}}, {{12, 40, FACETS, FACETS}}, {{12, 59, FACETS, FACETS}}, {{15, 34, FACETS, FACETS}}, {{15, 60, FACETS, FACETS}}, {{19, FACETS, FACETS, FACETS}}, {{25, 40, FACETS, FACETS}}, {{25, 60, FACETS, FACETS}}, {{27, 34, FACETS, FACETS}}, {{27, 65, FACETS, FACETS}}, {{30, 37, FACETS, FACETS}}, {{30, 59, FACETS, FACETS}}},\n",
      "    VA {{{2, FACETS, FACETS, FACETS}}, {{8, 38, FACETS, FACETS}}, {{8, 64, FACETS, FACETS}}, {{12, 41, FACETS, FACETS}}, {{12, 57, FACETS, FACETS}}, {{15, 32, FACETS, FACETS}}, {{15, 63, FACETS, FACETS}}, {{19, FACETS, FACETS, FACETS}}, {{25, 41, FACETS, FACETS}}, {{25, 63, FACETS, FACETS}}, {{27, 32, FACETS, FACETS}}, {{27, 64, FACETS, FACETS}}, {{30, 38, FACETS, FACETS}}, {{30, 57, FACETS, FACETS}}},\n",
      "    VA {{{2, FACETS, FACETS, FACETS}}, {{8, 36, FACETS, FACETS}}, {{8, 66, FACETS, FACETS}}, {{12, 43, FACETS, FACETS}}, {{12, 56, FACETS, FACETS}}, {{15, 33, FACETS, FACETS}}, {{15, 61, FACETS, FACETS}}, {{19, FACETS, FACETS, FACETS}}, {{25, 43, FACETS, FACETS}}, {{25, 61, FACETS, FACETS}}, {{27, 33, FACETS, FACETS}}, {{27, 66, FACETS, FACETS}}, {{30, 36, FACETS, FACETS}}, {{30, 56, FACETS, FACETS}}},\n",
      "    VA {{{1, FACETS, FACETS, FACETS}}, {{7, 38, FACETS, FACETS}}, {{7, 67, FACETS, FACETS}}, {{10, 40, FACETS, FACETS}}, {{10, 57, FACETS, FACETS}}, {{13, 35, FACETS, FACETS}}, {{13, 60, FACETS, FACETS}}, {{18, FACETS, FACETS, FACETS}}, {{24, 40, FACETS, FACETS}}, {{24, 60, FACETS, FACETS}}, {{28, 35, FACETS, FACETS}}, {{28, 67, FACETS, FACETS}}, {{31, 38, FACETS, FACETS}}, {{31, 57, FACETS, FACETS}}},\n",
      "    VA {{{3, FACETS, FACETS, FACETS}}, {{9, 39, FACETS, FACETS}}, {{9, 66, FACETS, FACETS}}, {{11, 40, FACETS, FACETS}}, {{11, 58, FACETS, FACETS}}, {{14, 33, FACETS, FACETS}}, {{14, 60, FACETS, FACETS}}, {{17, FACETS, FACETS, FACETS}}, {{23, 40, FACETS, FACETS}}, {{23, 60, FACETS, FACETS}}, {{26, 33, FACETS, FACETS}}, {{26, 66, FACETS, FACETS}}, {{29, 39, FACETS, FACETS}}, {{29, 58, FACETS, FACETS}}},\n",
      "    VA {{{3, FACETS, FACETS, FACETS}}, {{9, 37, FACETS, FACETS}}, {{9, 64, FACETS, FACETS}}, {{11, 42, FACETS, FACETS}}, {{11, 59, FACETS, FACETS}}, {{14, 32, FACETS, FACETS}}, {{14, 62, FACETS, FACETS}}, {{17, FACETS, FACETS, FACETS}}, {{23, 42, FACETS, FACETS}}, {{23, 62, FACETS, FACETS}}, {{26, 32, FACETS, FACETS}}, {{26, 64, FACETS, FACETS}}, {{29, 37, FACETS, FACETS}}, {{29, 59, FACETS, FACETS}}},\n",
      "    VA {{{1, FACETS, FACETS, FACETS}}, {{7, 39, FACETS, FACETS}}, {{7, 64, FACETS, FACETS}}, {{10, 43, FACETS, FACETS}}, {{10, 58, FACETS, FACETS}}, {{13, 32, FACETS, FACETS}}, {{13, 61, FACETS, FACETS}}, {{18, FACETS, FACETS, FACETS}}, {{24, 43, FACETS, FACETS}}, {{24, 61, FACETS, FACETS}}, {{28, 32, FACETS, FACETS}}, {{28, 64, FACETS, FACETS}}, {{31, 39, FACETS, FACETS}}, {{31, 58, FACETS, FACETS}}},\n",
      "    VA {{{3, FACETS, FACETS, FACETS}}, {{9, 36, FACETS, FACETS}}, {{9, 67, FACETS, FACETS}}, {{11, 41, FACETS, FACETS}}, {{11, 56, FACETS, FACETS}}, {{14, 35, FACETS, FACETS}}, {{14, 63, FACETS, FACETS}}, {{17, FACETS, FACETS, FACETS}}, {{23, 41, FACETS, FACETS}}, {{23, 63, FACETS, FACETS}}, {{26, 35, FACETS, FACETS}}, {{26, 67, FACETS, FACETS}}, {{29, 36, FACETS, FACETS}}, {{29, 56, FACETS, FACETS}}},\n",
      "    VA {{{1, FACETS, FACETS, FACETS}}, {{7, 36, FACETS, FACETS}}, {{7, 65, FACETS, FACETS}}, {{10, 42, FACETS, FACETS}}, {{10, 56, FACETS, FACETS}}, {{13, 34, FACETS, FACETS}}, {{13, 62, FACETS, FACETS}}, {{18, FACETS, FACETS, FACETS}}, {{24, 42, FACETS, FACETS}}, {{24, 62, FACETS, FACETS}}, {{28, 34, FACETS, FACETS}}, {{28, 65, FACETS, FACETS}}, {{31, 36, FACETS, FACETS}}, {{31, 56, FACETS, FACETS}}},\n",
      "    VA {{{0, FACETS, FACETS, FACETS}}, {{1, 46, FACETS, FACETS}}, {{1, 79, FACETS, FACETS}}, {{2, 45, FACETS, FACETS}}, {{2, 73, FACETS, FACETS}}, {{3, 44, FACETS, FACETS}}, {{3, 78, FACETS, FACETS}}, {{22, FACETS, FACETS, FACETS}}, {{29, 45, FACETS, FACETS}}, {{29, 78, FACETS, FACETS}}, {{30, 46, FACETS, FACETS}}, {{30, 73, FACETS, FACETS}}, {{31, 44, FACETS, FACETS}}, {{31, 79, FACETS, FACETS}}, {{44, 66, FACETS, FACETS}}, {{45, 65, FACETS, FACETS}}, {{46, 67, FACETS, FACETS}}, {{64, FACETS, FACETS, FACETS}}, {{65, 79, FACETS, FACETS}}, {{66, 73, FACETS, FACETS}}, {{67, 78, FACETS, FACETS}}},\n",
      "    VA {{{0, FACETS, FACETS, FACETS}}, {{1, 54, FACETS, FACETS}}, {{1, 74, FACETS, FACETS}}, {{2, 53, FACETS, FACETS}}, {{2, 72, FACETS, FACETS}}, {{3, 47, FACETS, FACETS}}, {{3, 70, FACETS, FACETS}}, {{22, FACETS, FACETS, FACETS}}, {{29, 53, FACETS, FACETS}}, {{29, 70, FACETS, FACETS}}, {{30, 54, FACETS, FACETS}}, {{30, 72, FACETS, FACETS}}, {{31, 47, FACETS, FACETS}}, {{31, 74, FACETS, FACETS}}, {{47, 64, FACETS, FACETS}}, {{53, 67, FACETS, FACETS}}, {{54, 65, FACETS, FACETS}}, {{64, 72, FACETS, FACETS}}, {{65, 70, FACETS, FACETS}}, {{66, FACETS, FACETS, FACETS}}, {{67, 74, FACETS, FACETS}}},\n",
      "    VA {{{0, FACETS, FACETS, FACETS}}, {{1, 52, FACETS, FACETS}}, {{1, 77, FACETS, FACETS}}, {{2, 50, FACETS, FACETS}}, {{2, 68, FACETS, FACETS}}, {{3, 49, FACETS, FACETS}}, {{3, 75, FACETS, FACETS}}, {{22, FACETS, FACETS, FACETS}}, {{29, 50, FACETS, FACETS}}, {{29, 75, FACETS, FACETS}}, {{30, 52, FACETS, FACETS}}, {{30, 68, FACETS, FACETS}}, {{31, 49, FACETS, FACETS}}, {{31, 77, FACETS, FACETS}}, {{49, 67, FACETS, FACETS}}, {{50, 64, FACETS, FACETS}}, {{52, 66, FACETS, FACETS}}, {{64, 77, FACETS, FACETS}}, {{65, FACETS, FACETS, FACETS}}, {{66, 75, FACETS, FACETS}}, {{67, 68, FACETS, FACETS}}},\n",
      "    VA {{{0, FACETS, FACETS, FACETS}}, {{1, 51, FACETS, FACETS}}, {{1, 69, FACETS, FACETS}}, {{2, 55, FACETS, FACETS}}, {{2, 71, FACETS, FACETS}}, {{3, 48, FACETS, FACETS}}, {{3, 76, FACETS, FACETS}}, {{22, FACETS, FACETS, FACETS}}, {{29, 55, FACETS, FACETS}}, {{29, 76, FACETS, FACETS}}, {{30, 51, FACETS, FACETS}}, {{30, 71, FACETS, FACETS}}, {{31, 48, FACETS, FACETS}}, {{31, 69, FACETS, FACETS}}, {{48, 65, FACETS, FACETS}}, {{51, 64, FACETS, FACETS}}, {{55, 66, FACETS, FACETS}}, {{64, 76, FACETS, FACETS}}, {{65, 71, FACETS, FACETS}}, {{66, 69, FACETS, FACETS}}, {{67, FACETS, FACETS, FACETS}}},\n",
      "    VA {{{5, FACETS, FACETS, FACETS}}, {{10, 52, FACETS, FACETS}}, {{10, 69, FACETS, FACETS}}, {{11, 48, FACETS, FACETS}}, {{11, 70, FACETS, FACETS}}, {{12, 53, FACETS, FACETS}}, {{12, 68, FACETS, FACETS}}, {{16, FACETS, FACETS, FACETS}}, {{17, 53, FACETS, FACETS}}, {{17, 70, FACETS, FACETS}}, {{18, 48, FACETS, FACETS}}, {{18, 69, FACETS, FACETS}}, {{19, 52, FACETS, FACETS}}, {{19, 68, FACETS, FACETS}}, {{36, FACETS, FACETS, FACETS}}, {{37, 53, FACETS, FACETS}}, {{37, 69, FACETS, FACETS}}, {{38, 52, FACETS, FACETS}}, {{38, 70, FACETS, FACETS}}, {{39, 48, FACETS, FACETS}}, {{39, 68, FACETS, FACETS}}},\n",
      "    VA {{{5, FACETS, FACETS, FACETS}}, {{10, 54, FACETS, FACETS}}, {{10, 79, FACETS, FACETS}}, {{11, 44, FACETS, FACETS}}, {{11, 75, FACETS, FACETS}}, {{12, 50, FACETS, FACETS}}, {{12, 72, FACETS, FACETS}}, {{16, FACETS, FACETS, FACETS}}, {{17, 50, FACETS, FACETS}}, {{17, 75, FACETS, FACETS}}, {{18, 44, FACETS, FACETS}}, {{18, 79, FACETS, FACETS}}, {{19, 54, FACETS, FACETS}}, {{19, 72, FACETS, FACETS}}, {{36, 50, FACETS, FACETS}}, {{36, 79, FACETS, FACETS}}, {{37, FACETS, FACETS, FACETS}}, {{38, 44, FACETS, FACETS}}, {{38, 72, FACETS, FACETS}}, {{39, 54, FACETS, FACETS}}, {{39, 75, FACETS, FACETS}}},\n",
      "    VA {{{5, FACETS, FACETS, FACETS}}, {{10, 51, FACETS, FACETS}}, {{10, 77, FACETS, FACETS}}, {{11, 49, FACETS, FACETS}}, {{11, 78, FACETS, FACETS}}, {{12, 45, FACETS, FACETS}}, {{12, 71, FACETS, FACETS}}, {{16, FACETS, FACETS, FACETS}}, {{17, 45, FACETS, FACETS}}, {{17, 78, FACETS, FACETS}}, {{18, 49, FACETS, FACETS}}, {{18, 77, FACETS, FACETS}}, {{19, 51, FACETS, FACETS}}, {{19, 71, FACETS, FACETS}}, {{36, 51, FACETS, FACETS}}, {{36, 78, FACETS, FACETS}}, {{37, 49, FACETS, FACETS}}, {{37, 71, FACETS, FACETS}}, {{38, FACETS, FACETS, FACETS}}, {{39, 45, FACETS, FACETS}}, {{39, 77, FACETS, FACETS}}},\n",
      "    VA {{{5, FACETS, FACETS, FACETS}}, {{10, 46, FACETS, FACETS}}, {{10, 74, FACETS, FACETS}}, {{11, 47, FACETS, FACETS}}, {{11, 76, FACETS, FACETS}}, {{12, 55, FACETS, FACETS}}, {{12, 73, FACETS, FACETS}}, {{16, FACETS, FACETS, FACETS}}, {{17, 55, FACETS, FACETS}}, {{17, 76, FACETS, FACETS}}, {{18, 47, FACETS, FACETS}}, {{18, 74, FACETS, FACETS}}, {{19, 46, FACETS, FACETS}}, {{19, 73, FACETS, FACETS}}, {{36, 47, FACETS, FACETS}}, {{36, 73, FACETS, FACETS}}, {{37, 46, FACETS, FACETS}}, {{37, 76, FACETS, FACETS}}, {{38, 55, FACETS, FACETS}}, {{38, 74, FACETS, FACETS}}, {{39, FACETS, FACETS, FACETS}}},\n",
      "    VA {{{6, FACETS, FACETS, FACETS}}, {{13, 54, FACETS, FACETS}}, {{13, 69, FACETS, FACETS}}, {{14, 49, FACETS, FACETS}}, {{14, 70, FACETS, FACETS}}, {{15, 55, FACETS, FACETS}}, {{15, 68, FACETS, FACETS}}, {{16, FACETS, FACETS, FACETS}}, {{17, 55, FACETS, FACETS}}, {{17, 70, FACETS, FACETS}}, {{18, 49, FACETS, FACETS}}, {{18, 69, FACETS, FACETS}}, {{19, 54, FACETS, FACETS}}, {{19, 68, FACETS, FACETS}}, {{40, FACETS, FACETS, FACETS}}, {{41, 55, FACETS, FACETS}}, {{41, 69, FACETS, FACETS}}, {{42, 49, FACETS, FACETS}}, {{42, 68, FACETS, FACETS}}, {{43, 54, FACETS, FACETS}}, {{43, 70, FACETS, FACETS}}},\n",
      "    VA {{{6, FACETS, FACETS, FACETS}}, {{13, 46, FACETS, FACETS}}, {{13, 77, FACETS, FACETS}}, {{14, 48, FACETS, FACETS}}, {{14, 78, FACETS, FACETS}}, {{15, 50, FACETS, FACETS}}, {{15, 71, FACETS, FACETS}}, {{16, FACETS, FACETS, FACETS}}, {{17, 50, FACETS, FACETS}}, {{17, 78, FACETS, FACETS}}, {{18, 48, FACETS, FACETS}}, {{18, 77, FACETS, FACETS}}, {{19, 46, FACETS, FACETS}}, {{19, 71, FACETS, FACETS}}, {{40, 48, FACETS, FACETS}}, {{40, 71, FACETS, FACETS}}, {{41, 46, FACETS, FACETS}}, {{41, 78, FACETS, FACETS}}, {{42, FACETS, FACETS, FACETS}}, {{43, 50, FACETS, FACETS}}, {{43, 77, FACETS, FACETS}}},\n",
      "    VA {{{6, FACETS, FACETS, FACETS}}, {{13, 51, FACETS, FACETS}}, {{13, 74, FACETS, FACETS}}, {{14, 44, FACETS, FACETS}}, {{14, 76, FACETS, FACETS}}, {{15, 53, FACETS, FACETS}}, {{15, 73, FACETS, FACETS}}, {{16, FACETS, FACETS, FACETS}}, {{17, 53, FACETS, FACETS}}, {{17, 76, FACETS, FACETS}}, {{18, 44, FACETS, FACETS}}, {{18, 74, FACETS, FACETS}}, {{19, 51, FACETS, FACETS}}, {{19, 73, FACETS, FACETS}}, {{40, 53, FACETS, FACETS}}, {{40, 74, FACETS, FACETS}}, {{41, FACETS, FACETS, FACETS}}, {{42, 51, FACETS, FACETS}}, {{42, 76, FACETS, FACETS}}, {{43, 44, FACETS, FACETS}}, {{43, 73, FACETS, FACETS}}},\n",
      "    VA {{{6, FACETS, FACETS, FACETS}}, {{13, 52, FACETS, FACETS}}, {{13, 79, FACETS, FACETS}}, {{14, 47, FACETS, FACETS}}, {{14, 75, FACETS, FACETS}}, {{15, 45, FACETS, FACETS}}, {{15, 72, FACETS, FACETS}}, {{16, FACETS, FACETS, FACETS}}, {{17, 45, FACETS, FACETS}}, {{17, 75, FACETS, FACETS}}, {{18, 47, FACETS, FACETS}}, {{18, 79, FACETS, FACETS}}, {{19, 52, FACETS, FACETS}}, {{19, 72, FACETS, FACETS}}, {{40, 52, FACETS, FACETS}}, {{40, 75, FACETS, FACETS}}, {{41, 47, FACETS, FACETS}}, {{41, 72, FACETS, FACETS}}, {{42, 45, FACETS, FACETS}}, {{42, 79, FACETS, FACETS}}, {{43, FACETS, FACETS, FACETS}}},\n",
      "    VA {{{0, FACETS, FACETS, FACETS}}, {{1, 46, FACETS, FACETS}}, {{1, 74, FACETS, FACETS}}, {{2, 45, FACETS, FACETS}}, {{2, 71, FACETS, FACETS}}, {{3, 44, FACETS, FACETS}}, {{3, 75, FACETS, FACETS}}, {{20, FACETS, FACETS, FACETS}}, {{23, 45, FACETS, FACETS}}, {{23, 75, FACETS, FACETS}}, {{24, 44, FACETS, FACETS}}, {{24, 74, FACETS, FACETS}}, {{25, 46, FACETS, FACETS}}, {{25, 71, FACETS, FACETS}}, {{44, 59, FACETS, FACETS}}, {{45, 57, FACETS, FACETS}}, {{46, 58, FACETS, FACETS}}, {{56, FACETS, FACETS, FACETS}}, {{57, 74, FACETS, FACETS}}, {{58, 75, FACETS, FACETS}}, {{59, 71, FACETS, FACETS}}},\n",
      "    VA {{{0, FACETS, FACETS, FACETS}}, {{1, 52, FACETS, FACETS}}, {{1, 69, FACETS, FACETS}}, {{2, 50, FACETS, FACETS}}, {{2, 72, FACETS, FACETS}}, {{3, 49, FACETS, FACETS}}, {{3, 78, FACETS, FACETS}}, {{20, FACETS, FACETS, FACETS}}, {{23, 50, FACETS, FACETS}}, {{23, 78, FACETS, FACETS}}, {{24, 49, FACETS, FACETS}}, {{24, 69, FACETS, FACETS}}, {{25, 52, FACETS, FACETS}}, {{25, 72, FACETS, FACETS}}, {{49, 57, FACETS, FACETS}}, {{50, 59, FACETS, FACETS}}, {{52, 56, FACETS, FACETS}}, {{56, 78, FACETS, FACETS}}, {{57, 72, FACETS, FACETS}}, {{58, FACETS, FACETS, FACETS}}, {{59, 69, FACETS, FACETS}}},\n",
      "    VA {{{0, FACETS, FACETS, FACETS}}, {{1, 54, FACETS, FACETS}}, {{1, 79, FACETS, FACETS}}, {{2, 53, FACETS, FACETS}}, {{2, 68, FACETS, FACETS}}, {{3, 47, FACETS, FACETS}}, {{3, 76, FACETS, FACETS}}, {{20, FACETS, FACETS, FACETS}}, {{23, 53, FACETS, FACETS}}, {{23, 76, FACETS, FACETS}}, {{24, 47, FACETS, FACETS}}, {{24, 79, FACETS, FACETS}}, {{25, 54, FACETS, FACETS}}, {{25, 68, FACETS, FACETS}}, {{47, 58, FACETS, FACETS}}, {{53, 56, FACETS, FACETS}}, {{54, 59, FACETS, FACETS}}, {{56, 79, FACETS, FACETS}}, {{57, FACETS, FACETS, FACETS}}, {{58, 68, FACETS, FACETS}}, {{59, 76, FACETS, FACETS}}},\n",
      "    VA {{{0, FACETS, FACETS, FACETS}}, {{1, 51, FACETS, FACETS}}, {{1, 77, FACETS, FACETS}}, {{2, 55, FACETS, FACETS}}, {{2, 73, FACETS, FACETS}}, {{3, 48, FACETS, FACETS}}, {{3, 70, FACETS, FACETS}}, {{20, FACETS, FACETS, FACETS}}, {{23, 55, FACETS, FACETS}}, {{23, 70, FACETS, FACETS}}, {{24, 48, FACETS, FACETS}}, {{24, 77, FACETS, FACETS}}, {{25, 51, FACETS, FACETS}}, {{25, 73, FACETS, FACETS}}, {{48, 56, FACETS, FACETS}}, {{51, 57, FACETS, FACETS}}, {{55, 58, FACETS, FACETS}}, {{56, 73, FACETS, FACETS}}, {{57, 70, FACETS, FACETS}}, {{58, 77, FACETS, FACETS}}, {{59, FACETS, FACETS, FACETS}}},\n",
      "    VA {{{1, 54, FACETS, FACETS}}, {{1, 77, 82, FACETS}}, {{1, 77, 95, FACETS}}, {{6, 33, FACETS, FACETS}}, {{6, 62, FACETS, FACETS}}, {{6, 91, FACETS, FACETS}}, {{9, 37, 49, FACETS}}, {{9, 37, 76, FACETS}}, {{9, 49, 67, FACETS}}, {{12, 41, 55, FACETS}}, {{12, 41, 72, FACETS}}, {{12, 55, 58, FACETS}}, {{12, 72, 85, FACETS}}, {{19, 54, 85, FACETS}}, {{19, 72, 85, FACETS}}, {{19, 72, 91, FACETS}}, {{21, 33, FACETS, FACETS}}, {{21, 67, FACETS, FACETS}}, {{23, 41, 55, FACETS}}, {{23, 55, 95, FACETS}}, {{23, 62, 76, FACETS}}, {{31, 37, 49, FACETS}}, {{31, 49, 82, FACETS}}, {{31, 58, 77, FACETS}}, {{31, 77, 82, FACETS}}, {{37, 85, FACETS, FACETS}}, {{41, 72, 91, FACETS}}, {{49, 67, 82, FACETS}}, {{55, 58, 95, FACETS}}, {{58, 77, 95, FACETS}}},\n",
      "    VA {{{3, 49, FACETS, FACETS}}, {{3, 76, 83, FACETS}}, {{3, 76, 94, FACETS}}, {{6, 34, FACETS, FACETS}}, {{6, 63, FACETS, FACETS}}, {{6, 89, FACETS, FACETS}}, {{8, 38, 55, FACETS}}, {{8, 38, 72, FACETS}}, {{8, 55, 66, FACETS}}, {{10, 43, 54, FACETS}}, {{10, 43, 77, FACETS}}, {{10, 54, 59, FACETS}}, {{10, 77, 86, FACETS}}, {{18, 49, 86, FACETS}}, {{18, 77, 86, FACETS}}, {{18, 77, 89, FACETS}}, {{21, 34, FACETS, FACETS}}, {{21, 66, FACETS, FACETS}}, {{25, 43, 54, FACETS}}, {{25, 54, 94, FACETS}}, {{25, 63, 72, FACETS}}, {{29, 38, 55, FACETS}}, {{29, 55, 83, FACETS}}, {{29, 59, 76, FACETS}}, {{29, 76, 83, FACETS}}, {{38, 86, FACETS, FACETS}}, {{43, 77, 89, FACETS}}, {{54, 59, 94, FACETS}}, {{55, 66, 83, FACETS}}, {{59, 76, 94, FACETS}}},\n",
      "    VA {{{2, 55, FACETS, FACETS}}, {{2, 72, 81, FACETS}}, {{2, 72, 93, FACETS}}, {{6, 35, FACETS, FACETS}}, {{6, 61, FACETS, FACETS}}, {{6, 90, FACETS, FACETS}}, {{7, 39, 54, FACETS}}, {{7, 39, 77, FACETS}}, {{7, 54, 65, FACETS}}, {{11, 42, 49, FACETS}}, {{11, 42, 76, FACETS}}, {{11, 49, 57, FACETS}}, {{11, 76, 87, FACETS}}, {{17, 55, 87, FACETS}}, {{17, 76, 87, FACETS}}, {{17, 76, 90, FACETS}}, {{21, 35, FACETS, FACETS}}, {{21, 65, FACETS, FACETS}}, {{24, 42, 49, FACETS}}, {{24, 49, 93, FACETS}}, {{24, 61, 77, FACETS}}, {{30, 39, 54, FACETS}}, {{30, 54, 81, FACETS}}, {{30, 57, 72, FACETS}}, {{30, 72, 81, FACETS}}, {{39, 87, FACETS, FACETS}}, {{42, 76, 90, FACETS}}, {{49, 57, 93, FACETS}}, {{54, 65, 81, FACETS}}, {{57, 72, 93, FACETS}}},\n",
      "    VA {{{3, 47, 81, FACETS}}, {{3, 78, 93, FACETS}}, {{4, 38, FACETS, FACETS}}, {{4, 66, FACETS, FACETS}}, {{12, 43, 50, FACETS}}, {{12, 43, 73, FACETS}}, {{12, 50, 59, FACETS}}, {{12, 84, FACETS, FACETS}}, {{13, 34, 51, FACETS}}, {{13, 34, 79, FACETS}}, {{13, 51, 63, FACETS}}, {{13, 79, 91, FACETS}}, {{18, 47, 91, FACETS}}, {{18, 79, 91, FACETS}}, {{18, 84, FACETS, FACETS}}, {{22, 38, FACETS, FACETS}}, {{22, 59, FACETS, FACETS}}, {{22, 81, FACETS, FACETS}}, {{23, 43, 50, FACETS}}, {{23, 50, 93, FACETS}}, {{23, 63, 78, FACETS}}, {{23, 78, 93, FACETS}}, {{27, 34, 51, FACETS}}, {{27, 66, 73, FACETS}}, {{38, 84, FACETS, FACETS}}, {{43, 91, FACETS, FACETS}}, {{50, 59, 93, FACETS}}, {{66, 81, FACETS, FACETS}}},\n",
      "    VA {{{1, 51, 83, FACETS}}, {{1, 79, 94, FACETS}}, {{4, 37, FACETS, FACETS}}, {{4, 67, FACETS, FACETS}}, {{11, 41, 47, FACETS}}, {{11, 41, 78, FACETS}}, {{11, 47, 58, FACETS}}, {{11, 84, FACETS, FACETS}}, {{15, 33, 50, FACETS}}, {{15, 33, 73, FACETS}}, {{15, 50, 62, FACETS}}, {{15, 73, 90, FACETS}}, {{19, 51, 90, FACETS}}, {{19, 73, 90, FACETS}}, {{19, 84, FACETS, FACETS}}, {{22, 37, FACETS, FACETS}}, {{22, 58, FACETS, FACETS}}, {{22, 83, FACETS, FACETS}}, {{24, 41, 47, FACETS}}, {{24, 47, 94, FACETS}}, {{24, 62, 79, FACETS}}, {{24, 79, 94, FACETS}}, {{26, 33, 50, FACETS}}, {{26, 67, 78, FACETS}}, {{37, 84, FACETS, FACETS}}, {{41, 90, FACETS, FACETS}}, {{47, 58, 94, FACETS}}, {{67, 83, FACETS, FACETS}}},\n",
      "    VA {{{2, 50, 82, FACETS}}, {{2, 73, 95, FACETS}}, {{4, 39, FACETS, FACETS}}, {{4, 65, FACETS, FACETS}}, {{10, 42, 51, FACETS}}, {{10, 42, 79, FACETS}}, {{10, 51, 57, FACETS}}, {{10, 84, FACETS, FACETS}}, {{14, 35, 47, FACETS}}, {{14, 35, 78, FACETS}}, {{14, 47, 61, FACETS}}, {{14, 78, 89, FACETS}}, {{17, 50, 89, FACETS}}, {{17, 78, 89, FACETS}}, {{17, 84, FACETS, FACETS}}, {{22, 39, FACETS, FACETS}}, {{22, 57, FACETS, FACETS}}, {{22, 82, FACETS, FACETS}}, {{25, 42, 51, FACETS}}, {{25, 51, 95, FACETS}}, {{25, 61, 73, FACETS}}, {{25, 73, 95, FACETS}}, {{28, 35, 47, FACETS}}, {{28, 65, 79, FACETS}}, {{39, 84, FACETS, FACETS}}, {{42, 89, FACETS, FACETS}}, {{51, 57, 95, FACETS}}, {{65, 82, FACETS, FACETS}}},\n",
      "    VA {{{2, 53, 94, FACETS}}, {{2, 71, 83, FACETS}}, {{5, 42, FACETS, FACETS}}, {{5, 57, FACETS, FACETS}}, {{5, 85, FACETS, FACETS}}, {{9, 39, 48, FACETS}}, {{9, 39, 75, FACETS}}, {{9, 48, 65, FACETS}}, {{13, 35, 52, FACETS}}, {{13, 35, 74, FACETS}}, {{13, 52, 61, FACETS}}, {{13, 88, FACETS, FACETS}}, {{17, 53, FACETS, FACETS}}, {{17, 75, 85, FACETS}}, {{17, 88, FACETS, FACETS}}, {{20, 42, FACETS, FACETS}}, {{20, 61, FACETS, FACETS}}, {{20, 94, FACETS, FACETS}}, {{27, 35, 52, FACETS}}, {{27, 65, 71, FACETS}}, {{31, 39, 48, FACETS}}, {{31, 48, 83, FACETS}}, {{31, 57, 74, FACETS}}, {{39, 75, 85, FACETS}}, {{42, 88, FACETS, FACETS}}, {{48, 65, 83, FACETS}}, {{57, 94, FACETS, FACETS}}, {{65, 71, 83, FACETS}}},\n",
      "    VA {{{3, 48, 95, FACETS}}, {{3, 75, 82, FACETS}}, {{5, 43, FACETS, FACETS}}, {{5, 59, FACETS, FACETS}}, {{5, 87, FACETS, FACETS}}, {{7, 38, 52, FACETS}}, {{7, 38, 74, FACETS}}, {{7, 52, 66, FACETS}}, {{15, 34, 53, FACETS}}, {{15, 34, 71, FACETS}}, {{15, 53, 63, FACETS}}, {{15, 88, FACETS, FACETS}}, {{18, 48, FACETS, FACETS}}, {{18, 74, 87, FACETS}}, {{18, 88, FACETS, FACETS}}, {{20, 43, FACETS, FACETS}}, {{20, 63, FACETS, FACETS}}, {{20, 95, FACETS, FACETS}}, {{26, 34, 53, FACETS}}, {{26, 66, 75, FACETS}}, {{30, 38, 52, FACETS}}, {{30, 52, 82, FACETS}}, {{30, 59, 71, FACETS}}, {{38, 74, 87, FACETS}}, {{43, 88, FACETS, FACETS}}, {{52, 66, 82, FACETS}}, {{59, 95, FACETS, FACETS}}, {{66, 75, 82, FACETS}}},\n",
      "    VA {{{1, 52, 93, FACETS}}, {{1, 74, 81, FACETS}}, {{5, 41, FACETS, FACETS}}, {{5, 58, FACETS, FACETS}}, {{5, 86, FACETS, FACETS}}, {{8, 37, 53, FACETS}}, {{8, 37, 71, FACETS}}, {{8, 53, 67, FACETS}}, {{14, 33, 48, FACETS}}, {{14, 33, 75, FACETS}}, {{14, 48, 62, FACETS}}, {{14, 88, FACETS, FACETS}}, {{19, 52, FACETS, FACETS}}, {{19, 71, 86, FACETS}}, {{19, 88, FACETS, FACETS}}, {{20, 41, FACETS, FACETS}}, {{20, 62, FACETS, FACETS}}, {{20, 93, FACETS, FACETS}}, {{28, 33, 48, FACETS}}, {{28, 67, 74, FACETS}}, {{29, 37, 53, FACETS}}, {{29, 53, 81, FACETS}}, {{29, 58, 75, FACETS}}, {{37, 71, 86, FACETS}}, {{41, 88, FACETS, FACETS}}, {{53, 67, 81, FACETS}}, {{58, 93, FACETS, FACETS}}, {{67, 74, 81, FACETS}}},\n",
      "    VA {{{0, 83, FACETS, FACETS}}, {{0, 94, FACETS, FACETS}}, {{4, 39, FACETS, FACETS}}, {{4, 66, 99, FACETS}}, {{5, 41, 104, FACETS}}, {{5, 56, FACETS, FACETS}}, {{5, 86, 104, FACETS}}, {{6, 34, FACETS, FACETS}}, {{6, 61, 98, FACETS}}, {{6, 88, FACETS, FACETS}}, {{19, 86, 104, FACETS}}, {{19, 88, 104, FACETS}}, {{25, 41, FACETS, FACETS}}, {{25, 61, FACETS, FACETS}}, {{25, 94, FACETS, FACETS}}, {{27, 34, 99, FACETS}}, {{27, 66, 99, FACETS}}, {{30, 39, 98, FACETS}}, {{30, 56, FACETS, FACETS}}, {{30, 83, FACETS, FACETS}}, {{34, 79, 99, FACETS}}, {{39, 77, 86, FACETS}}, {{39, 77, 98, FACETS}}, {{41, 69, 88, FACETS}}, {{41, 88, 104, FACETS}}, {{56, 79, 94, FACETS}}, {{61, 77, 98, FACETS}}, {{66, 69, 83, FACETS}}, {{74, 104, FACETS, FACETS}}},\n",
      "    VA {{{2, 82, 101, FACETS}}, {{2, 95, 101, FACETS}}, {{8, 37, FACETS, FACETS}}, {{8, 66, 97, FACETS}}, {{12, 40, FACETS, FACETS}}, {{12, 57, FACETS, FACETS}}, {{12, 87, FACETS, FACETS}}, {{15, 34, FACETS, FACETS}}, {{15, 62, FACETS, FACETS}}, {{15, 91, FACETS, FACETS}}, {{16, 87, FACETS, FACETS}}, {{16, 91, FACETS, FACETS}}, {{20, 40, FACETS, FACETS}}, {{20, 62, FACETS, FACETS}}, {{20, 95, FACETS, FACETS}}, {{21, 34, 97, FACETS}}, {{21, 66, 97, FACETS}}, {{22, 37, FACETS, FACETS}}, {{22, 57, 101, FACETS}}, {{22, 82, 101, FACETS}}, {{34, 51, FACETS, FACETS}}, {{37, 46, 87, FACETS}}, {{40, 52, 91, FACETS}}, {{46, 62, FACETS, FACETS}}, {{51, 57, 95, 101}}, {{52, 66, 82, FACETS}}, {{54, 97, FACETS, FACETS}}},\n",
      "    VA {{{0, 81, FACETS, FACETS}}, {{0, 95, FACETS, FACETS}}, {{4, 36, FACETS, FACETS}}, {{4, 67, FACETS, FACETS}}, {{5, 40, FACETS, FACETS}}, {{5, 58, FACETS, FACETS}}, {{5, 85, FACETS, FACETS}}, {{6, 32, FACETS, FACETS}}, {{6, 62, FACETS, FACETS}}, {{6, 90, FACETS, FACETS}}, {{19, 85, FACETS, FACETS}}, {{19, 90, FACETS, FACETS}}, {{25, 40, FACETS, FACETS}}, {{25, 62, FACETS, FACETS}}, {{25, 95, FACETS, FACETS}}, {{27, 32, FACETS, FACETS}}, {{27, 67, FACETS, FACETS}}, {{30, 36, FACETS, FACETS}}, {{30, 58, FACETS, FACETS}}, {{30, 81, FACETS, FACETS}}, {{32, 77, FACETS, FACETS}}, {{36, 79, 85, FACETS}}, {{40, 74, 90, FACETS}}, {{58, 77, 95, FACETS}}, {{62, 79, FACETS, FACETS}}, {{67, 74, 81, FACETS}}, {{69, FACETS, FACETS, FACETS}}},\n",
      "    VA {{{2, 83, FACETS, FACETS}}, {{2, 93, FACETS, FACETS}}, {{8, 39, FACETS, FACETS}}, {{8, 64, FACETS, FACETS}}, {{8, 104, FACETS, FACETS}}, {{12, 42, FACETS, FACETS}}, {{12, 56, FACETS, FACETS}}, {{12, 85, 96, FACETS}}, {{15, 35, FACETS, FACETS}}, {{15, 60, FACETS, FACETS}}, {{15, 90, 100, FACETS}}, {{16, 85, FACETS, FACETS}}, {{16, 90, FACETS, FACETS}}, {{20, 42, FACETS, FACETS}}, {{20, 60, FACETS, FACETS}}, {{20, 93, 104, FACETS}}, {{21, 35, FACETS, FACETS}}, {{21, 64, FACETS, FACETS}}, {{21, 96, FACETS, FACETS}}, {{22, 39, FACETS, FACETS}}, {{22, 56, FACETS, FACETS}}, {{22, 83, 100, FACETS}}, {{35, 52, FACETS, FACETS}}, {{39, 54, 85, FACETS}}, {{42, 51, 90, FACETS}}, {{46, FACETS, FACETS, FACETS}}, {{51, 64, 83, FACETS}}, {{51, 83, 100, FACETS}}, {{51, 90, 100, FACETS}}, {{52, 56, 93, FACETS}}, {{52, 93, 104, FACETS}}, {{54, 60, FACETS, FACETS}}, {{54, 85, 96, FACETS}}},\n",
      "    VA {{{2, 81, 98, FACETS}}, {{2, 92, FACETS, FACETS}}, {{8, 36, FACETS, FACETS}}, {{8, 65, FACETS, FACETS}}, {{12, 43, FACETS, FACETS}}, {{12, 58, FACETS, FACETS}}, {{12, 86, FACETS, FACETS}}, {{15, 33, FACETS, FACETS}}, {{15, 63, 103, FACETS}}, {{15, 88, 103, FACETS}}, {{16, 86, FACETS, FACETS}}, {{16, 88, FACETS, FACETS}}, {{20, 43, 103, FACETS}}, {{20, 63, 103, FACETS}}, {{20, 92, FACETS, FACETS}}, {{21, 33, FACETS, FACETS}}, {{21, 65, 98, FACETS}}, {{22, 36, FACETS, FACETS}}, {{22, 58, FACETS, FACETS}}, {{22, 81, FACETS, FACETS}}, {{33, 46, FACETS, FACETS}}, {{36, 51, 86, FACETS}}, {{43, 54, 88, FACETS}}, {{43, 88, 103, FACETS}}, {{46, 58, 92, FACETS}}, {{51, 63, FACETS, FACETS}}, {{52, 103, FACETS, FACETS}}, {{54, 65, 81, 98}}},\n",
      "    VA {{{2, 80, FACETS, FACETS}}, {{2, 94, 102, FACETS}}, {{8, 38, FACETS, FACETS}}, {{8, 67, FACETS, FACETS}}, {{12, 41, FACETS, FACETS}}, {{12, 59, 99, FACETS}}, {{12, 84, 99, FACETS}}, {{15, 32, FACETS, FACETS}}, {{15, 61, FACETS, FACETS}}, {{15, 89, FACETS, FACETS}}, {{16, 84, FACETS, FACETS}}, {{16, 89, FACETS, FACETS}}, {{20, 41, FACETS, FACETS}}, {{20, 61, 102, FACETS}}, {{20, 94, 102, FACETS}}, {{21, 32, FACETS, FACETS}}, {{21, 67, FACETS, FACETS}}, {{22, 38, 99, FACETS}}, {{22, 59, 99, FACETS}}, {{22, 80, FACETS, FACETS}}, {{32, 54, FACETS, FACETS}}, {{38, 52, 84, FACETS}}, {{38, 84, 99, FACETS}}, {{41, 46, 89, FACETS}}, {{46, 67, 80, FACETS}}, {{51, 99, FACETS, FACETS}}, {{52, 61, 102, FACETS}}, {{54, 59, 94, FACETS}}},\n",
      "    VA {{{0, 82, FACETS, FACETS}}, {{0, 92, FACETS, FACETS}}, {{4, 37, 100, FACETS}}, {{4, 64, FACETS, FACETS}}, {{5, 43, FACETS, FACETS}}, {{5, 57, 102, FACETS}}, {{5, 84, FACETS, FACETS}}, {{6, 35, FACETS, FACETS}}, {{6, 63, 97, FACETS}}, {{6, 89, 97, FACETS}}, {{19, 84, 100, FACETS}}, {{19, 89, FACETS, FACETS}}, {{25, 43, 97, FACETS}}, {{25, 63, 97, FACETS}}, {{25, 92, FACETS, FACETS}}, {{27, 35, 102, FACETS}}, {{27, 64, FACETS, FACETS}}, {{30, 37, FACETS, FACETS}}, {{30, 57, FACETS, FACETS}}, {{30, 82, FACETS, FACETS}}, {{35, 74, 102, FACETS}}, {{37, 69, 84, FACETS}}, {{37, 84, 100, FACETS}}, {{43, 77, 89, 97}}, {{57, 74, 92, FACETS}}, {{57, 74, 102, FACETS}}, {{63, 69, FACETS, FACETS}}, {{64, 77, 82, FACETS}}, {{79, 100, FACETS, FACETS}}},\n",
      "    VA {{{0, 80, FACETS, FACETS}}, {{0, 93, FACETS, FACETS}}, {{4, 38, FACETS, FACETS}}, {{4, 65, 101, FACETS}}, {{5, 42, FACETS, FACETS}}, {{5, 59, 103, FACETS}}, {{5, 87, 103, FACETS}}, {{6, 33, 96, FACETS}}, {{6, 60, FACETS, FACETS}}, {{6, 91, 96, FACETS}}, {{19, 87, FACETS, FACETS}}, {{19, 91, 96, FACETS}}, {{25, 42, 101, FACETS}}, {{25, 60, FACETS, FACETS}}, {{25, 93, FACETS, FACETS}}, {{27, 33, FACETS, FACETS}}, {{27, 65, FACETS, FACETS}}, {{30, 38, 103, FACETS}}, {{30, 59, 103, FACETS}}, {{30, 80, FACETS, FACETS}}, {{33, 69, FACETS, FACETS}}, {{38, 74, 87, 103}}, {{42, 79, 91, FACETS}}, {{42, 79, 101, FACETS}}, {{59, 69, 93, FACETS}}, {{60, 74, FACETS, FACETS}}, {{65, 79, 80, FACETS}}, {{65, 79, 101, FACETS}}, {{77, 96, FACETS, FACETS}}},\n",
      "    VA {{{0, 105, FACETS, FACETS}}, {{1, 46, FACETS, FACETS}}, {{1, 77, FACETS, FACETS}}, {{2, 45, FACETS, FACETS}}, {{2, 72, FACETS, FACETS}}, {{2, 106, FACETS, FACETS}}, {{3, 44, FACETS, FACETS}}, {{3, 76, FACETS, FACETS}}, {{21, 106, FACETS, FACETS}}, {{26, 45, FACETS, FACETS}}, {{26, 76, FACETS, FACETS}}, {{27, 46, FACETS, FACETS}}, {{27, 72, FACETS, FACETS}}, {{27, 105, FACETS, FACETS}}, {{28, 44, FACETS, FACETS}}, {{28, 77, FACETS, FACETS}}, {{44, 63, FACETS, FACETS}}, {{45, 61, FACETS, FACETS}}, {{46, 62, 106, FACETS}}, {{60, FACETS, FACETS, FACETS}}, {{61, 77, 105, FACETS}}, {{62, 76, FACETS, FACETS}}, {{63, 72, FACETS, FACETS}}},\n",
      "    VA {{{0, 112, FACETS, FACETS}}, {{1, 51, FACETS, FACETS}}, {{1, 74, 104, FACETS}}, {{2, 55, 98, FACETS}}, {{2, 68, FACETS, FACETS}}, {{2, 98, 109, FACETS}}, {{3, 48, FACETS, FACETS}}, {{3, 78, 99, FACETS}}, {{21, 98, 109, FACETS}}, {{26, 55, FACETS, FACETS}}, {{26, 78, FACETS, FACETS}}, {{27, 51, 99, FACETS}}, {{27, 68, FACETS, FACETS}}, {{27, 112, FACETS, FACETS}}, {{28, 48, 104, FACETS}}, {{28, 74, 104, FACETS}}, {{48, 62, 104, FACETS}}, {{51, 63, 99, FACETS}}, {{51, 63, 109, FACETS}}, {{55, 60, FACETS, FACETS}}, {{60, 74, 112, FACETS}}, {{61, 98, FACETS, FACETS}}, {{62, 68, FACETS, FACETS}}, {{63, 78, 99, FACETS}}},\n",
      "    VA {{{0, 111, FACETS, FACETS}}, {{1, 54, 96, FACETS}}, {{1, 69, FACETS, FACETS}}, {{2, 53, FACETS, FACETS}}, {{2, 73, 101, FACETS}}, {{2, 108, FACETS, FACETS}}, {{3, 47, FACETS, FACETS}}, {{3, 75, 103, FACETS}}, {{21, 96, 108, FACETS}}, {{26, 53, 103, FACETS}}, {{26, 75, 103, FACETS}}, {{27, 54, FACETS, FACETS}}, {{27, 73, FACETS, FACETS}}, {{27, 111, FACETS, FACETS}}, {{28, 47, 101, FACETS}}, {{28, 69, FACETS, FACETS}}, {{47, 61, 101, FACETS}}, {{53, 63, 103, FACETS}}, {{54, 60, 108, FACETS}}, {{54, 96, 108, FACETS}}, {{60, 75, FACETS, FACETS}}, {{61, 73, 101, FACETS}}, {{62, 96, FACETS, FACETS}}, {{63, 69, 111, FACETS}}},\n",
      "    VA {{{0, 107, FACETS, FACETS}}, {{1, 52, FACETS, FACETS}}, {{1, 79, 100, FACETS}}, {{2, 50, FACETS, FACETS}}, {{2, 71, 102, FACETS}}, {{2, 102, 110, FACETS}}, {{3, 49, 97, FACETS}}, {{3, 70, FACETS, FACETS}}, {{21, 97, FACETS, FACETS}}, {{21, 110, FACETS, FACETS}}, {{26, 50, 100, FACETS}}, {{26, 70, FACETS, FACETS}}, {{27, 52, 102, FACETS}}, {{27, 71, 102, FACETS}}, {{27, 107, FACETS, FACETS}}, {{28, 49, FACETS, FACETS}}, {{28, 79, FACETS, FACETS}}, {{49, 60, FACETS, FACETS}}, {{50, 62, 100, FACETS}}, {{52, 61, 102, 110}}, {{60, 71, FACETS, FACETS}}, {{61, 70, FACETS, FACETS}}, {{62, 79, 100, FACETS}}, {{62, 79, 107, FACETS}}, {{63, 97, FACETS, FACETS}}},\n",
      "    VA {{{4, 112, FACETS, FACETS}}, {{7, 51, FACETS, FACETS}}, {{7, 69, FACETS, FACETS}}, {{7, 98, FACETS, FACETS}}, {{8, 50, FACETS, FACETS}}, {{8, 68, FACETS, FACETS}}, {{8, 97, 106, FACETS}}, {{9, 47, FACETS, FACETS}}, {{9, 70, FACETS, FACETS}}, {{9, 96, FACETS, FACETS}}, {{16, 106, FACETS, FACETS}}, {{17, 50, FACETS, FACETS}}, {{17, 70, FACETS, FACETS}}, {{17, 98, FACETS, FACETS}}, {{18, 47, FACETS, FACETS}}, {{18, 69, FACETS, FACETS}}, {{18, 97, FACETS, FACETS}}, {{19, 51, FACETS, FACETS}}, {{19, 68, FACETS, FACETS}}, {{19, 96, 112, FACETS}}, {{32, FACETS, FACETS, FACETS}}, {{33, 50, FACETS, FACETS}}, {{33, 69, 112, FACETS}}, {{33, 96, 112, FACETS}}, {{34, 51, 106, FACETS}}, {{34, 70, FACETS, FACETS}}, {{34, 97, 106, FACETS}}, {{35, 47, FACETS, FACETS}}, {{35, 68, FACETS, FACETS}}, {{35, 98, FACETS, FACETS}}},\n",
      "    VA {{{4, 100, 111, FACETS}}, {{7, 54, FACETS, FACETS}}, {{7, 74, 103, FACETS}}, {{8, 45, FACETS, FACETS}}, {{8, 73, FACETS, FACETS}}, {{8, 110, FACETS, FACETS}}, {{9, 48, FACETS, FACETS}}, {{9, 76, FACETS, FACETS}}, {{16, 110, FACETS, FACETS}}, {{17, 45, FACETS, FACETS}}, {{17, 76, FACETS, FACETS}}, {{18, 48, 103, FACETS}}, {{18, 74, 103, FACETS}}, {{19, 54, FACETS, FACETS}}, {{19, 73, 100, FACETS}}, {{19, 100, 111, FACETS}}, {{32, 54, 110, FACETS}}, {{32, 76, FACETS, FACETS}}, {{33, 48, FACETS, FACETS}}, {{33, 73, 100, FACETS}}, {{34, 103, FACETS, FACETS}}, {{35, 45, FACETS, FACETS}}, {{35, 74, 111, FACETS}}},\n",
      "    VA {{{4, 101, FACETS, FACETS}}, {{4, 107, FACETS, FACETS}}, {{7, 52, FACETS, FACETS}}, {{7, 77, FACETS, FACETS}}, {{8, 55, FACETS, FACETS}}, {{8, 71, 104, FACETS}}, {{8, 104, 108, FACETS}}, {{9, 44, FACETS, FACETS}}, {{9, 78, FACETS, FACETS}}, {{16, 108, FACETS, FACETS}}, {{17, 55, FACETS, FACETS}}, {{17, 78, 101, FACETS}}, {{18, 44, FACETS, FACETS}}, {{18, 77, FACETS, FACETS}}, {{19, 52, 104, FACETS}}, {{19, 71, 104, FACETS}}, {{19, 107, FACETS, FACETS}}, {{32, 55, FACETS, FACETS}}, {{32, 77, 107, FACETS}}, {{33, 104, FACETS, FACETS}}, {{34, 44, FACETS, FACETS}}, {{34, 71, FACETS, FACETS}}, {{35, 52, 108, FACETS}}, {{35, 78, 101, FACETS}}, {{52, 104, 108, FACETS}}},\n",
      "    VA {{{4, 99, 105, FACETS}}, {{7, 46, FACETS, FACETS}}, {{7, 79, FACETS, FACETS}}, {{8, 53, FACETS, FACETS}}, {{8, 72, FACETS, FACETS}}, {{8, 109, FACETS, FACETS}}, {{9, 49, FACETS, FACETS}}, {{9, 75, 102, FACETS}}, {{16, 109, FACETS, FACETS}}, {{17, 53, 102, FACETS}}, {{17, 75, 102, FACETS}}, {{18, 49, FACETS, FACETS}}, {{18, 79, 99, FACETS}}, {{19, 46, FACETS, FACETS}}, {{19, 72, FACETS, FACETS}}, {{19, 105, FACETS, FACETS}}, {{32, 49, FACETS, FACETS}}, {{32, 72, FACETS, FACETS}}, {{33, 46, 109, FACETS}}, {{33, 75, FACETS, FACETS}}, {{34, 53, FACETS, FACETS}}, {{34, 79, 99, 105}}, {{35, 102, FACETS, FACETS}}},\n",
      "    VA {{{3, 48, 83, FACETS}}, {{3, 48, 114, FACETS}}, {{3, 78, 114, FACETS}}, {{3, 92, FACETS, FACETS}}, {{5, 43, 111, FACETS}}, {{5, 57, 111, FACETS}}, {{5, 86, FACETS, FACETS}}, {{7, 38, 52, FACETS}}, {{7, 65, 79, FACETS}}, {{7, 79, 120, FACETS}}, {{15, 34, 53, FACETS}}, {{15, 53, 90, FACETS}}, {{15, 61, 73, FACETS}}, {{15, 61, 110, FACETS}}, {{15, 73, 90, FACETS}}, {{17, 53, 90, FACETS}}, {{17, 53, 120, FACETS}}, {{17, 78, 86, FACETS}}, {{22, 38, 110, FACETS}}, {{22, 57, FACETS, FACETS}}, {{22, 83, FACETS, FACETS}}, {{25, 43, 73, FACETS}}, {{25, 43, 111, FACETS}}, {{25, 52, 61, FACETS}}, {{25, 61, 73, FACETS}}, {{25, 92, 111, FACETS}}, {{28, 34, 79, FACETS}}, {{28, 48, 65, FACETS}}, {{28, 48, 114, FACETS}}, {{28, 65, 79, FACETS}}, {{34, 53, 120, FACETS}}, {{34, 79, 120, FACETS}}, {{38, 52, 110, FACETS}}, {{38, 86, FACETS, FACETS}}, {{43, 73, 90, FACETS}}, {{48, 65, 83, FACETS}}, {{52, 61, 110, FACETS}}, {{57, 92, 111, FACETS}}, {{61, 114, FACETS, FACETS}}, {{79, 111, FACETS, FACETS}}},\n",
      "    VA {{{2, 53, 81, FACETS}}, {{2, 53, 115, FACETS}}, {{2, 73, 115, FACETS}}, {{2, 81, 109, FACETS}}, {{2, 92, 109, FACETS}}, {{5, 42, 112, FACETS}}, {{5, 58, FACETS, FACETS}}, {{5, 87, 112, FACETS}}, {{9, 39, 48, FACETS}}, {{9, 67, 78, FACETS}}, {{9, 78, 119, FACETS}}, {{13, 35, 52, FACETS}}, {{13, 52, 91, FACETS}}, {{13, 62, 79, FACETS}}, {{13, 79, 91, FACETS}}, {{19, 52, 91, FACETS}}, {{19, 52, 119, FACETS}}, {{19, 73, 87, FACETS}}, {{19, 87, 112, FACETS}}, {{19, 91, 112, FACETS}}, {{22, 39, FACETS, FACETS}}, {{22, 58, 109, FACETS}}, {{22, 81, 109, FACETS}}, {{24, 42, 79, FACETS}}, {{24, 48, 62, FACETS}}, {{24, 62, 79, FACETS}}, {{24, 92, FACETS, FACETS}}, {{26, 35, 78, FACETS}}, {{26, 53, 67, FACETS}}, {{26, 53, 115, FACETS}}, {{26, 67, 78, FACETS}}, {{35, 52, 119, FACETS}}, {{35, 78, 119, FACETS}}, {{39, 87, FACETS, FACETS}}, {{42, 79, 91, 112}}, {{52, 109, FACETS, FACETS}}, {{53, 67, 81, FACETS}}, {{58, 92, 109, FACETS}}, {{62, 115, FACETS, FACETS}}},\n",
      "    VA {{{1, 52, 82, FACETS}}, {{1, 52, 116, FACETS}}, {{1, 79, 116, FACETS}}, {{1, 92, FACETS, FACETS}}, {{5, 41, FACETS, FACETS}}, {{5, 59, FACETS, FACETS}}, {{5, 85, 107, FACETS}}, {{8, 37, 53, FACETS}}, {{8, 37, 106, FACETS}}, {{8, 66, 73, FACETS}}, {{8, 66, 106, FACETS}}, {{8, 73, 118, FACETS}}, {{14, 33, 48, FACETS}}, {{14, 48, 89, FACETS}}, {{14, 63, 78, FACETS}}, {{14, 78, 89, FACETS}}, {{18, 48, 89, FACETS}}, {{18, 48, 118, FACETS}}, {{18, 79, 85, FACETS}}, {{22, 37, 106, FACETS}}, {{22, 59, FACETS, FACETS}}, {{22, 82, 106, FACETS}}, {{23, 41, 78, FACETS}}, {{23, 53, 63, FACETS}}, {{23, 63, 78, FACETS}}, {{23, 92, FACETS, FACETS}}, {{27, 33, 73, FACETS}}, {{27, 52, 66, FACETS}}, {{27, 52, 116, FACETS}}, {{27, 66, 73, FACETS}}, {{27, 107, 116, FACETS}}, {{33, 48, 118, FACETS}}, {{33, 73, 118, FACETS}}, {{37, 85, FACETS, FACETS}}, {{41, 78, 89, FACETS}}, {{52, 66, 82, 106}}, {{59, 92, FACETS, FACETS}}, {{63, 116, FACETS, FACETS}}, {{79, 85, 107, FACETS}}, {{79, 107, 116, FACETS}}},\n",
      "    VA {{{2, 55, 83, FACETS}}, {{2, 55, 95, FACETS}}, {{2, 71, 83, FACETS}}, {{2, 95, 106, FACETS}}, {{2, 106, 113, FACETS}}, {{6, 35, 111, FACETS}}, {{6, 62, FACETS, FACETS}}, {{6, 89, 111, FACETS}}, {{7, 39, 54, FACETS}}, {{7, 54, 118, FACETS}}, {{7, 67, 74, FACETS}}, {{7, 74, 118, FACETS}}, {{11, 42, 49, FACETS}}, {{11, 58, 75, FACETS}}, {{11, 75, 85, FACETS}}, {{19, 54, 85, FACETS}}, {{19, 54, 118, FACETS}}, {{19, 71, 89, FACETS}}, {{19, 89, 111, FACETS}}, {{19, 111, 118, FACETS}}, {{20, 42, FACETS, FACETS}}, {{20, 62, 106, FACETS}}, {{20, 95, 106, FACETS}}, {{28, 35, 74, FACETS}}, {{28, 49, 67, FACETS}}, {{28, 67, 74, FACETS}}, {{28, 113, FACETS, FACETS}}, {{29, 39, 75, FACETS}}, {{29, 55, 58, FACETS}}, {{29, 55, 83, FACETS}}, {{29, 58, 75, FACETS}}, {{35, 74, 111, 118}}, {{39, 54, 85, FACETS}}, {{39, 75, 85, FACETS}}, {{42, 89, FACETS, FACETS}}, {{54, 106, FACETS, FACETS}}, {{55, 58, 95, FACETS}}, {{62, 106, 113, FACETS}}, {{67, 83, FACETS, FACETS}}},\n",
      "    VA {{{3, 49, 82, FACETS}}, {{3, 49, 93, FACETS}}, {{3, 75, 82, FACETS}}, {{3, 113, FACETS, FACETS}}, {{6, 34, 105, FACETS}}, {{6, 61, 105, FACETS}}, {{6, 91, FACETS, FACETS}}, {{8, 38, 55, FACETS}}, {{8, 55, 119, FACETS}}, {{8, 65, 71, FACETS}}, {{8, 65, 109, FACETS}}, {{8, 71, 119, FACETS}}, {{10, 43, 54, FACETS}}, {{10, 57, 74, FACETS}}, {{10, 74, 87, FACETS}}, {{17, 55, 87, FACETS}}, {{17, 55, 119, FACETS}}, {{17, 75, 91, FACETS}}, {{20, 43, 109, FACETS}}, {{20, 61, FACETS, FACETS}}, {{20, 93, FACETS, FACETS}}, {{27, 34, 71, FACETS}}, {{27, 34, 105, FACETS}}, {{27, 54, 65, FACETS}}, {{27, 65, 71, FACETS}}, {{27, 105, 113, FACETS}}, {{31, 38, 74, FACETS}}, {{31, 49, 57, FACETS}}, {{31, 49, 82, FACETS}}, {{31, 57, 74, FACETS}}, {{34, 71, 119, FACETS}}, {{38, 55, 87, FACETS}}, {{38, 74, 87, FACETS}}, {{43, 54, 109, FACETS}}, {{43, 91, FACETS, FACETS}}, {{49, 57, 93, FACETS}}, {{54, 65, 109, FACETS}}, {{61, 105, 113, FACETS}}, {{65, 82, FACETS, FACETS}}, {{74, 105, FACETS, FACETS}}},\n",
      "    VA {{{1, 54, 81, FACETS}}, {{1, 54, 94, FACETS}}, {{1, 74, 81, FACETS}}, {{1, 113, FACETS, FACETS}}, {{6, 33, FACETS, FACETS}}, {{6, 63, FACETS, FACETS}}, {{6, 90, 107, FACETS}}, {{9, 37, 49, FACETS}}, {{9, 49, 120, FACETS}}, {{9, 66, 75, FACETS}}, {{9, 75, 120, FACETS}}, {{12, 41, 55, FACETS}}, {{12, 41, 110, FACETS}}, {{12, 59, 71, FACETS}}, {{12, 59, 110, FACETS}}, {{12, 71, 86, FACETS}}, {{18, 49, 86, FACETS}}, {{18, 49, 120, FACETS}}, {{18, 74, 90, FACETS}}, {{20, 41, 110, FACETS}}, {{20, 63, FACETS, FACETS}}, {{20, 94, 110, FACETS}}, {{26, 33, 75, FACETS}}, {{26, 55, 66, FACETS}}, {{26, 66, 75, FACETS}}, {{26, 113, FACETS, FACETS}}, {{30, 37, 71, FACETS}}, {{30, 54, 59, FACETS}}, {{30, 54, 81, FACETS}}, {{30, 59, 71, FACETS}}, {{30, 81, 107, FACETS}}, {{33, 75, 120, FACETS}}, {{37, 49, 86, FACETS}}, {{37, 71, 86, FACETS}}, {{41, 90, FACETS, FACETS}}, {{54, 59, 94, 110}}, {{63, 113, FACETS, FACETS}}, {{66, 81, FACETS, FACETS}}, {{74, 81, 107, FACETS}}, {{74, 90, 107, FACETS}}},\n",
      "    VA {{{1, 51, 95, FACETS}}, {{1, 51, 114, FACETS}}, {{1, 77, 95, FACETS}}, {{1, 80, FACETS, FACETS}}, {{4, 37, FACETS, FACETS}}, {{4, 66, FACETS, FACETS}}, {{4, 107, 119, FACETS}}, {{11, 41, 47, FACETS}}, {{11, 47, 87, FACETS}}, {{11, 59, 76, FACETS}}, {{11, 76, 87, FACETS}}, {{15, 33, 50, FACETS}}, {{15, 33, 109, FACETS}}, {{15, 63, 72, FACETS}}, {{15, 63, 109, FACETS}}, {{15, 72, 91, FACETS}}, {{18, 47, 87, FACETS}}, {{18, 47, 91, FACETS}}, {{18, 77, 119, FACETS}}, {{21, 33, 109, FACETS}}, {{21, 66, FACETS, FACETS}}, {{21, 109, 114, FACETS}}, {{25, 41, 72, FACETS}}, {{25, 51, 63, FACETS}}, {{25, 51, 95, FACETS}}, {{25, 63, 72, FACETS}}, {{25, 95, 107, FACETS}}, {{29, 37, 76, FACETS}}, {{29, 50, 59, FACETS}}, {{29, 59, 76, FACETS}}, {{29, 80, FACETS, FACETS}}, {{33, 119, FACETS, FACETS}}, {{37, 76, 87, FACETS}}, {{41, 47, 91, FACETS}}, {{41, 72, 91, FACETS}}, {{51, 63, 109, 114}}, {{59, 95, FACETS, FACETS}}, {{66, 80, FACETS, FACETS}}, {{77, 95, 107, FACETS}}, {{77, 107, 119, FACETS}}},\n",
      "    VA {{{2, 50, 93, FACETS}}, {{2, 50, 116, FACETS}}, {{2, 72, 93, FACETS}}, {{2, 80, 110, FACETS}}, {{2, 110, 116, FACETS}}, {{4, 39, 105, FACETS}}, {{4, 67, FACETS, FACETS}}, {{4, 105, 120, FACETS}}, {{10, 42, 51, FACETS}}, {{10, 51, 86, FACETS}}, {{10, 58, 77, FACETS}}, {{10, 77, 86, FACETS}}, {{14, 35, 47, FACETS}}, {{14, 62, 76, FACETS}}, {{14, 76, 90, FACETS}}, {{19, 51, 86, FACETS}}, {{19, 51, 90, FACETS}}, {{19, 72, 120, FACETS}}, {{19, 86, 105, FACETS}}, {{19, 105, 120, FACETS}}, {{21, 35, FACETS, FACETS}}, {{21, 67, 110, FACETS}}, {{21, 110, 116, FACETS}}, {{23, 42, 76, FACETS}}, {{23, 50, 62, FACETS}}, {{23, 50, 93, FACETS}}, {{23, 62, 76, FACETS}}, {{31, 39, 77, FACETS}}, {{31, 47, 58, FACETS}}, {{31, 58, 77, FACETS}}, {{31, 80, FACETS, FACETS}}, {{35, 120, FACETS, FACETS}}, {{39, 77, 86, 105}}, {{42, 51, 90, FACETS}}, {{42, 76, 90, FACETS}}, {{50, 62, 116, FACETS}}, {{51, 110, FACETS, FACETS}}, {{58, 93, FACETS, FACETS}}, {{67, 80, 110, FACETS}}},\n",
      "    VA {{{3, 47, 94, FACETS}}, {{3, 47, 115, FACETS}}, {{3, 76, 94, FACETS}}, {{3, 80, FACETS, FACETS}}, {{4, 38, 112, FACETS}}, {{4, 65, 112, FACETS}}, {{4, 118, FACETS, FACETS}}, {{12, 43, 50, FACETS}}, {{12, 50, 85, FACETS}}, {{12, 57, 72, FACETS}}, {{12, 57, 106, FACETS}}, {{12, 72, 85, FACETS}}, {{13, 34, 51, FACETS}}, {{13, 61, 77, FACETS}}, {{13, 77, 89, FACETS}}, {{17, 50, 85, FACETS}}, {{17, 50, 89, FACETS}}, {{17, 76, 118, FACETS}}, {{21, 34, 106, FACETS}}, {{21, 65, FACETS, FACETS}}, {{21, 115, FACETS, FACETS}}, {{24, 43, 77, FACETS}}, {{24, 47, 61, FACETS}}, {{24, 47, 94, FACETS}}, {{24, 61, 77, FACETS}}, {{30, 38, 72, FACETS}}, {{30, 38, 112, FACETS}}, {{30, 51, 57, FACETS}}, {{30, 57, 72, FACETS}}, {{30, 80, 112, FACETS}}, {{34, 51, 106, FACETS}}, {{34, 118, FACETS, FACETS}}, {{38, 72, 85, FACETS}}, {{43, 50, 89, FACETS}}, {{43, 77, 89, FACETS}}, {{47, 61, 115, FACETS}}, {{51, 57, 106, FACETS}}, {{57, 94, FACETS, FACETS}}, {{65, 80, 112, FACETS}}, {{77, 112, FACETS, FACETS}}},\n",
      "    VA {{{3, 80, 129, FACETS}}, {{3, 95, 103, FACETS}}, {{3, 103, 115, FACETS}}, {{3, 115, 129, FACETS}}, {{9, 37, FACETS, FACETS}}, {{9, 65, FACETS, FACETS}}, {{9, 119, FACETS, FACETS}}, {{11, 42, 124, FACETS}}, {{11, 58, 100, FACETS}}, {{11, 58, 124, FACETS}}, {{11, 84, 100, FACETS}}, {{14, 32, FACETS, FACETS}}, {{14, 63, 123, FACETS}}, {{14, 91, FACETS, FACETS}}, {{16, 84, FACETS, FACETS}}, {{16, 91, FACETS, FACETS}}, {{16, 119, FACETS, FACETS}}, {{20, 42, 124, FACETS}}, {{20, 63, 103, FACETS}}, {{20, 95, 103, FACETS}}, {{20, 95, 124, FACETS}}, {{21, 32, FACETS, FACETS}}, {{21, 65, 129, FACETS}}, {{21, 115, 129, FACETS}}, {{22, 37, 100, FACETS}}, {{22, 37, 123, FACETS}}, {{22, 58, 100, FACETS}}, {{22, 80, FACETS, FACETS}}, {{32, 55, 119, FACETS}}, {{37, 53, 84, FACETS}}, {{37, 53, 123, FACETS}}, {{37, 84, 100, FACETS}}, {{42, 45, 91, FACETS}}, {{45, 65, 80, FACETS}}, {{50, 100, FACETS, FACETS}}, {{50, 129, FACETS, FACETS}}, {{53, 63, 103, 115}}, {{53, 63, 123, FACETS}}, {{55, 58, 95, 124}}, {{65, 80, 129, FACETS}}},\n",
      "    VA {{{0, 83, FACETS, FACETS}}, {{0, 92, FACETS, FACETS}}, {{0, 116, FACETS, FACETS}}, {{4, 38, 99, FACETS}}, {{4, 64, FACETS, FACETS}}, {{4, 99, 120, FACETS}}, {{5, 42, 122, FACETS}}, {{5, 58, 104, FACETS}}, {{5, 58, 122, FACETS}}, {{5, 84, FACETS, FACETS}}, {{6, 33, 126, FACETS}}, {{6, 61, 98, FACETS}}, {{6, 90, 98, FACETS}}, {{6, 90, 126, FACETS}}, {{18, 84, 99, FACETS}}, {{18, 90, 126, FACETS}}, {{18, 99, 120, FACETS}}, {{18, 120, 126, FACETS}}, {{24, 42, 98, FACETS}}, {{24, 42, 122, FACETS}}, {{24, 61, 98, FACETS}}, {{24, 92, 122, FACETS}}, {{28, 33, 104, FACETS}}, {{28, 64, FACETS, FACETS}}, {{28, 116, FACETS, FACETS}}, {{31, 38, FACETS, FACETS}}, {{31, 58, FACETS, FACETS}}, {{31, 83, FACETS, FACETS}}, {{33, 75, 104, FACETS}}, {{33, 75, 120, 126}}, {{38, 70, 84, FACETS}}, {{38, 84, 99, FACETS}}, {{42, 76, 90, 98}}, {{58, 75, 92, FACETS}}, {{58, 75, 104, FACETS}}, {{58, 92, 122, FACETS}}, {{61, 70, 116, FACETS}}, {{64, 76, 83, FACETS}}, {{78, 99, FACETS, FACETS}}, {{78, 122, FACETS, FACETS}}},\n",
      "    VA {{{3, 82, FACETS, FACETS}}, {{3, 94, FACETS, FACETS}}, {{3, 114, FACETS, FACETS}}, {{9, 38, FACETS, FACETS}}, {{9, 64, FACETS, FACETS}}, {{9, 102, 120, FACETS}}, {{11, 43, FACETS, FACETS}}, {{11, 56, FACETS, FACETS}}, {{11, 87, 98, FACETS}}, {{14, 34, FACETS, FACETS}}, {{14, 60, FACETS, FACETS}}, {{14, 89, 101, FACETS}}, {{16, 87, FACETS, FACETS}}, {{16, 89, FACETS, FACETS}}, {{16, 120, FACETS, FACETS}}, {{20, 43, FACETS, FACETS}}, {{20, 60, FACETS, FACETS}}, {{20, 94, 102, FACETS}}, {{21, 34, FACETS, FACETS}}, {{21, 64, FACETS, FACETS}}, {{21, 98, 114, FACETS}}, {{22, 38, FACETS, FACETS}}, {{22, 56, FACETS, FACETS}}, {{22, 82, 101, FACETS}}, {{34, 53, 120, FACETS}}, {{38, 55, 87, FACETS}}, {{43, 50, 89, FACETS}}, {{45, FACETS, FACETS, FACETS}}, {{50, 64, 82, FACETS}}, {{50, 82, 101, FACETS}}, {{50, 89, 101, FACETS}}, {{53, 56, 94, FACETS}}, {{53, 94, 102, FACETS}}, {{53, 102, 120, FACETS}}, {{55, 60, 114, FACETS}}, {{55, 87, 98, FACETS}}, {{55, 98, 114, FACETS}}},\n",
      "    VA {{{0, 82, FACETS, FACETS}}, {{0, 94, FACETS, FACETS}}, {{0, 114, FACETS, FACETS}}, {{4, 36, FACETS, FACETS}}, {{4, 66, FACETS, FACETS}}, {{4, 118, 129, FACETS}}, {{5, 40, FACETS, FACETS}}, {{5, 59, FACETS, FACETS}}, {{5, 86, 121, FACETS}}, {{6, 32, FACETS, FACETS}}, {{6, 63, FACETS, FACETS}}, {{6, 91, 125, FACETS}}, {{18, 86, FACETS, FACETS}}, {{18, 91, FACETS, FACETS}}, {{18, 118, FACETS, FACETS}}, {{24, 40, FACETS, FACETS}}, {{24, 63, FACETS, FACETS}}, {{24, 94, 129, FACETS}}, {{28, 32, FACETS, FACETS}}, {{28, 66, FACETS, FACETS}}, {{28, 114, 121, FACETS}}, {{31, 36, FACETS, FACETS}}, {{31, 59, FACETS, FACETS}}, {{31, 82, 125, FACETS}}, {{32, 76, 118, FACETS}}, {{36, 78, 86, FACETS}}, {{40, 75, 91, FACETS}}, {{59, 76, 94, FACETS}}, {{63, 78, 114, FACETS}}, {{66, 75, 82, FACETS}}, {{70, FACETS, FACETS, FACETS}}, {{75, 82, 125, FACETS}}, {{75, 91, 125, FACETS}}, {{76, 94, 129, FACETS}}, {{76, 118, 129, FACETS}}, {{78, 86, 121, FACETS}}, {{78, 114, 121, FACETS}}},\n",
      "    VA {{{0, 80, FACETS, FACETS}}, {{0, 95, FACETS, FACETS}}, {{0, 115, FACETS, FACETS}}, {{4, 39, 128, FACETS}}, {{4, 67, 100, FACETS}}, {{4, 67, 128, FACETS}}, {{4, 117, FACETS, FACETS}}, {{5, 41, 123, FACETS}}, {{5, 57, 102, FACETS}}, {{5, 85, 102, FACETS}}, {{5, 85, 123, FACETS}}, {{6, 34, 97, FACETS}}, {{6, 60, FACETS, FACETS}}, {{6, 89, 97, FACETS}}, {{18, 85, 123, FACETS}}, {{18, 89, 97, FACETS}}, {{18, 89, 123, FACETS}}, {{18, 97, 117, FACETS}}, {{24, 41, 100, FACETS}}, {{24, 60, FACETS, FACETS}}, {{24, 95, FACETS, FACETS}}, {{28, 34, FACETS, FACETS}}, {{28, 67, FACETS, FACETS}}, {{28, 115, FACETS, FACETS}}, {{31, 39, 102, FACETS}}, {{31, 39, 128, FACETS}}, {{31, 57, 102, FACETS}}, {{31, 80, 128, FACETS}}, {{34, 70, 117, FACETS}}, {{34, 97, 117, FACETS}}, {{39, 75, 85, 102}}, {{41, 78, 89, 123}}, {{41, 78, 100, FACETS}}, {{57, 70, 95, FACETS}}, {{60, 75, 115, FACETS}}, {{67, 78, 80, FACETS}}, {{67, 78, 100, FACETS}}, {{67, 80, 128, FACETS}}, {{76, 97, FACETS, FACETS}}, {{76, 128, FACETS, FACETS}}},\n",
      "    VA {{{0, 81, FACETS, FACETS}}, {{0, 93, FACETS, FACETS}}, {{0, 113, FACETS, FACETS}}, {{4, 37, 127, FACETS}}, {{4, 65, 101, FACETS}}, {{4, 101, 119, FACETS}}, {{4, 119, 127, FACETS}}, {{5, 43, 103, FACETS}}, {{5, 56, FACETS, FACETS}}, {{5, 87, 103, FACETS}}, {{6, 35, 124, FACETS}}, {{6, 62, 96, FACETS}}, {{6, 62, 124, FACETS}}, {{6, 88, FACETS, FACETS}}, {{18, 87, 103, FACETS}}, {{18, 87, 127, FACETS}}, {{18, 88, 103, FACETS}}, {{18, 119, 127, FACETS}}, {{24, 43, FACETS, FACETS}}, {{24, 62, FACETS, FACETS}}, {{24, 93, FACETS, FACETS}}, {{28, 35, 101, FACETS}}, {{28, 35, 124, FACETS}}, {{28, 65, 101, FACETS}}, {{28, 113, 124, FACETS}}, {{31, 37, 96, FACETS}}, {{31, 56, FACETS, FACETS}}, {{31, 81, FACETS, FACETS}}, {{35, 78, 101, 119}}, {{37, 76, 87, 127}}, {{37, 76, 96, FACETS}}, {{43, 70, 88, FACETS}}, {{43, 88, 103, FACETS}}, {{56, 78, 93, FACETS}}, {{62, 76, 96, FACETS}}, {{62, 76, 113, FACETS}}, {{62, 113, 124, FACETS}}, {{65, 70, 81, FACETS}}, {{75, 103, FACETS, FACETS}}, {{75, 124, FACETS, FACETS}}},\n",
      "    VA {{{3, 81, 99, FACETS}}, {{3, 93, 99, FACETS}}, {{3, 93, 125, FACETS}}, {{3, 113, 125, FACETS}}, {{9, 39, 122, FACETS}}, {{9, 67, 96, FACETS}}, {{9, 67, 122, FACETS}}, {{9, 96, 117, FACETS}}, {{11, 40, FACETS, FACETS}}, {{11, 59, 127, FACETS}}, {{11, 86, FACETS, FACETS}}, {{14, 33, FACETS, FACETS}}, {{14, 61, FACETS, FACETS}}, {{14, 90, FACETS, FACETS}}, {{16, 86, FACETS, FACETS}}, {{16, 90, FACETS, FACETS}}, {{16, 117, FACETS, FACETS}}, {{20, 40, FACETS, FACETS}}, {{20, 61, 125, FACETS}}, {{20, 93, 125, FACETS}}, {{21, 33, 96, FACETS}}, {{21, 33, 127, FACETS}}, {{21, 67, 96, FACETS}}, {{21, 113, FACETS, FACETS}}, {{22, 39, 122, FACETS}}, {{22, 59, 99, FACETS}}, {{22, 81, 99, FACETS}}, {{22, 81, 122, FACETS}}, {{33, 50, 117, FACETS}}, {{33, 50, 127, FACETS}}, {{33, 96, 117, FACETS}}, {{39, 45, 86, FACETS}}, {{40, 53, 90, FACETS}}, {{45, 61, 113, FACETS}}, {{50, 59, 93, 99}}, {{50, 59, 127, FACETS}}, {{53, 67, 81, 122}}, {{55, 96, FACETS, FACETS}}, {{55, 125, FACETS, FACETS}}, {{61, 113, 125, FACETS}}},\n",
      "    VA {{{3, 83, 97, FACETS}}, {{3, 83, 121, FACETS}}, {{3, 92, 121, FACETS}}, {{3, 97, 116, FACETS}}, {{9, 36, FACETS, FACETS}}, {{9, 66, 126, FACETS}}, {{9, 118, FACETS, FACETS}}, {{11, 41, FACETS, FACETS}}, {{11, 57, FACETS, FACETS}}, {{11, 85, FACETS, FACETS}}, {{14, 35, 128, FACETS}}, {{14, 62, 104, FACETS}}, {{14, 62, 128, FACETS}}, {{14, 88, 104, FACETS}}, {{16, 85, FACETS, FACETS}}, {{16, 88, FACETS, FACETS}}, {{16, 118, FACETS, FACETS}}, {{20, 41, 104, FACETS}}, {{20, 41, 126, FACETS}}, {{20, 62, 104, FACETS}}, {{20, 92, FACETS, FACETS}}, {{21, 35, 128, FACETS}}, {{21, 66, 97, FACETS}}, {{21, 97, 116, FACETS}}, {{21, 116, 128, FACETS}}, {{22, 36, FACETS, FACETS}}, {{22, 57, 121, FACETS}}, {{22, 83, 121, FACETS}}, {{35, 45, 118, FACETS}}, {{36, 50, 85, FACETS}}, {{41, 55, 88, FACETS}}, {{41, 55, 126, FACETS}}, {{41, 88, 104, FACETS}}, {{45, 57, 92, FACETS}}, {{50, 62, 116, 128}}, {{53, 104, FACETS, FACETS}}, {{53, 121, FACETS, FACETS}}, {{55, 66, 83, 97}}, {{55, 66, 126, FACETS}}, {{57, 92, 121, FACETS}}},\n",
      "    VA {{{0, 81, FACETS, FACETS}}, {{0, 94, 105, FACETS}}, {{0, 94, 133, FACETS}}, {{0, 114, 133, FACETS}}, {{7, 37, 46, FACETS}}, {{7, 46, 120, FACETS}}, {{7, 64, FACETS, FACETS}}, {{7, 79, 120, FACETS}}, {{12, 43, 73, FACETS}}, {{12, 43, 129, FACETS}}, {{12, 45, 57, FACETS}}, {{12, 57, 106, 129}}, {{12, 73, 87, FACETS}}, {{12, 87, 106, FACETS}}, {{14, 35, 78, FACETS}}, {{14, 35, 128, 137}}, {{14, 44, 63, FACETS}}, {{14, 44, 90, FACETS}}, {{14, 63, 78, FACETS}}, {{14, 90, 128, FACETS}}, {{19, 46, 87, FACETS}}, {{19, 46, 120, FACETS}}, {{19, 73, 87, FACETS}}, {{19, 73, 90, FACETS}}, {{19, 90, 128, FACETS}}, {{19, 105, 120, 128}}, {{22, 37, 106, FACETS}}, {{22, 57, 106, FACETS}}, {{22, 57, 137, FACETS}}, {{22, 81, FACETS, FACETS}}, {{24, 43, 44, FACETS}}, {{24, 43, 129, FACETS}}, {{24, 44, 63, FACETS}}, {{24, 63, 133, FACETS}}, {{24, 79, 94, FACETS}}, {{24, 94, 129, 133}}, {{26, 35, 45, FACETS}}, {{26, 35, 78, FACETS}}, {{26, 64, FACETS, FACETS}}, {{26, 78, 114, FACETS}}, {{35, 45, 137, FACETS}}, {{35, 120, 128, FACETS}}, {{37, 46, 87, 106}}, {{37, 87, 127, FACETS}}, {{43, 44, 90, FACETS}}, {{43, 73, 90, FACETS}}, {{45, 57, 137, FACETS}}, {{57, 94, 129, FACETS}}, {{63, 78, 114, 133}}, {{63, 114, 127, FACETS}}, {{64, 81, FACETS, FACETS}}, {{79, 94, 105, FACETS}}, {{79, 105, 120, FACETS}}},\n",
      "    VA {{{0, 83, 131, FACETS}}, {{0, 95, 107, FACETS}}, {{0, 107, 116, FACETS}}, {{0, 116, 131, FACETS}}, {{8, 39, 45, FACETS}}, {{8, 39, 108, FACETS}}, {{8, 45, 118, FACETS}}, {{8, 64, 108, FACETS}}, {{8, 73, 118, FACETS}}, {{11, 41, 78, FACETS}}, {{11, 41, 127, FACETS}}, {{11, 44, 59, FACETS}}, {{11, 59, 127, 136}}, {{11, 78, 86, FACETS}}, {{11, 86, 136, FACETS}}, {{13, 34, 79, FACETS}}, {{13, 34, 129, FACETS}}, {{13, 46, 62, FACETS}}, {{13, 46, 89, FACETS}}, {{13, 62, 79, FACETS}}, {{13, 89, 129, FACETS}}, {{17, 45, 86, FACETS}}, {{17, 45, 118, FACETS}}, {{17, 78, 86, FACETS}}, {{17, 78, 89, FACETS}}, {{17, 89, 129, FACETS}}, {{17, 118, 129, FACETS}}, {{22, 39, 108, FACETS}}, {{22, 39, 136, FACETS}}, {{22, 59, 136, FACETS}}, {{22, 83, 108, FACETS}}, {{25, 41, 46, FACETS}}, {{25, 41, 127, FACETS}}, {{25, 46, 62, FACETS}}, {{25, 62, 107, FACETS}}, {{25, 73, 95, FACETS}}, {{25, 95, 107, 127}}, {{28, 34, 44, FACETS}}, {{28, 34, 79, FACETS}}, {{28, 64, 131, FACETS}}, {{28, 79, 116, FACETS}}, {{28, 116, 131, FACETS}}, {{34, 118, 129, FACETS}}, {{39, 45, 86, 136}}, {{39, 86, 128, FACETS}}, {{41, 46, 89, FACETS}}, {{41, 78, 89, FACETS}}, {{46, 108, FACETS, FACETS}}, {{59, 95, 127, FACETS}}, {{62, 79, 107, 116}}, {{62, 116, 128, FACETS}}, {{64, 83, 108, FACETS}}, {{64, 83, 131, FACETS}}, {{78, 131, FACETS, FACETS}}},\n",
      "    VA {{{0, 82, 111, FACETS}}, {{0, 93, 135, FACETS}}, {{0, 111, 115, FACETS}}, {{9, 38, 44, FACETS}}, {{9, 38, 132, FACETS}}, {{9, 44, 119, FACETS}}, {{9, 64, 132, FACETS}}, {{9, 78, 119, FACETS}}, {{10, 42, 79, FACETS}}, {{10, 42, 128, FACETS}}, {{10, 46, 58, FACETS}}, {{10, 58, 128, FACETS}}, {{10, 79, 85, FACETS}}, {{15, 33, 73, FACETS}}, {{15, 33, 109, 127}}, {{15, 45, 61, FACETS}}, {{15, 45, 91, FACETS}}, {{15, 61, 73, FACETS}}, {{15, 91, 127, FACETS}}, {{18, 44, 85, FACETS}}, {{18, 44, 119, FACETS}}, {{18, 79, 85, FACETS}}, {{18, 79, 91, FACETS}}, {{18, 91, 127, FACETS}}, {{18, 119, 127, 135}}, {{22, 38, 132, FACETS}}, {{22, 58, 109, FACETS}}, {{22, 82, 132, FACETS}}, {{23, 42, 45, FACETS}}, {{23, 42, 128, FACETS}}, {{23, 45, 61, FACETS}}, {{23, 78, 93, FACETS}}, {{23, 93, 128, FACETS}}, {{27, 33, 46, FACETS}}, {{27, 33, 73, FACETS}}, {{27, 64, 111, FACETS}}, {{27, 73, 115, FACETS}}, {{27, 111, 115, FACETS}}, {{33, 46, 109, FACETS}}, {{33, 119, 127, FACETS}}, {{38, 44, 85, FACETS}}, {{38, 85, 129, FACETS}}, {{42, 45, 91, FACETS}}, {{42, 79, 91, FACETS}}, {{45, 132, FACETS, FACETS}}, {{46, 58, 109, FACETS}}, {{58, 93, 128, FACETS}}, {{61, 73, 115, FACETS}}, {{61, 115, 129, FACETS}}, {{64, 82, 111, FACETS}}, {{64, 82, 132, FACETS}}, {{78, 93, 135, FACETS}}, {{78, 119, 135, FACETS}}, {{79, 111, FACETS, FACETS}}},\n",
      "    VA {{{1, 52, 93, FACETS}}, {{1, 52, 116, FACETS}}, {{1, 69, 83, FACETS}}, {{1, 69, 93, FACETS}}, {{1, 83, 100, FACETS}}, {{1, 100, 116, FACETS}}, {{5, 42, 112, FACETS}}, {{5, 59, 112, FACETS}}, {{5, 59, 133, FACETS}}, {{5, 86, 133, FACETS}}, {{8, 36, 109, FACETS}}, {{8, 53, 67, FACETS}}, {{8, 53, 120, FACETS}}, {{8, 67, 68, FACETS}}, {{8, 109, 120, FACETS}}, {{14, 34, 70, FACETS}}, {{14, 34, 132, FACETS}}, {{14, 48, 89, FACETS}}, {{14, 61, 70, FACETS}}, {{14, 61, 101, FACETS}}, {{14, 89, 101, 132}}, {{16, 86, 109, FACETS}}, {{16, 89, 132, FACETS}}, {{16, 109, 120, FACETS}}, {{16, 120, 132, FACETS}}, {{25, 42, 68, FACETS}}, {{25, 42, 101, 112}}, {{25, 52, 61, FACETS}}, {{25, 52, 93, FACETS}}, {{25, 61, 101, FACETS}}, {{25, 93, 112, FACETS}}, {{26, 34, 53, FACETS}}, {{26, 34, 70, FACETS}}, {{26, 53, 67, FACETS}}, {{26, 67, 100, FACETS}}, {{26, 70, 116, FACETS}}, {{26, 100, 116, FACETS}}, {{31, 36, 133, FACETS}}, {{31, 48, 83, FACETS}}, {{31, 59, 69, FACETS}}, {{31, 59, 133, FACETS}}, {{31, 69, 83, FACETS}}, {{34, 53, 120, 132}}, {{34, 99, 120, FACETS}}, {{36, 86, 109, FACETS}}, {{36, 86, 133, FACETS}}, {{42, 89, 101, FACETS}}, {{52, 61, 116, FACETS}}, {{52, 109, FACETS, FACETS}}, {{59, 69, 93, 112}}, {{59, 93, 99, FACETS}}, {{61, 70, 116, FACETS}}, {{67, 83, 100, FACETS}}, {{70, 133, FACETS, FACETS}}},\n",
      "    VA {{{2, 53, 94, FACETS}}, {{2, 53, 115, FACETS}}, {{2, 68, 82, FACETS}}, {{2, 68, 94, FACETS}}, {{2, 82, 101, 106}}, {{2, 101, 115, FACETS}}, {{5, 43, 135, FACETS}}, {{5, 58, 107, FACETS}}, {{5, 85, 107, FACETS}}, {{9, 36, 137, FACETS}}, {{9, 48, 65, FACETS}}, {{9, 48, 118, FACETS}}, {{9, 65, 70, FACETS}}, {{9, 118, 137, FACETS}}, {{13, 33, 69, FACETS}}, {{13, 52, 91, FACETS}}, {{13, 63, 69, FACETS}}, {{13, 63, 99, FACETS}}, {{13, 91, 99, FACETS}}, {{16, 85, 137, FACETS}}, {{16, 91, 106, FACETS}}, {{16, 118, 137, FACETS}}, {{23, 43, 70, FACETS}}, {{23, 43, 99, FACETS}}, {{23, 53, 63, FACETS}}, {{23, 53, 94, FACETS}}, {{23, 63, 99, FACETS}}, {{28, 33, 48, FACETS}}, {{28, 33, 69, FACETS}}, {{28, 48, 65, FACETS}}, {{28, 65, 101, 135}}, {{28, 69, 115, FACETS}}, {{28, 101, 115, FACETS}}, {{30, 36, 107, FACETS}}, {{30, 52, 82, FACETS}}, {{30, 58, 68, FACETS}}, {{30, 58, 107, FACETS}}, {{30, 68, 82, FACETS}}, {{33, 48, 118, FACETS}}, {{33, 100, 118, FACETS}}, {{36, 85, 107, FACETS}}, {{36, 85, 137, FACETS}}, {{43, 70, 135, FACETS}}, {{43, 91, 99, FACETS}}, {{52, 82, 106, FACETS}}, {{52, 91, 106, FACETS}}, {{53, 63, 115, FACETS}}, {{53, 137, FACETS, FACETS}}, {{58, 68, 94, FACETS}}, {{58, 94, 100, FACETS}}, {{63, 69, 115, FACETS}}, {{65, 70, 135, FACETS}}, {{65, 82, 101, FACETS}}, {{69, 107, FACETS, FACETS}}},\n",
      "    VA {{{3, 48, 95, FACETS}}, {{3, 48, 114, FACETS}}, {{3, 70, 81, FACETS}}, {{3, 70, 95, FACETS}}, {{3, 81, 99, 136}}, {{3, 99, 114, FACETS}}, {{5, 41, 105, FACETS}}, {{5, 41, 134, FACETS}}, {{5, 57, 134, FACETS}}, {{5, 87, FACETS, FACETS}}, {{7, 36, FACETS, FACETS}}, {{7, 52, 66, FACETS}}, {{7, 52, 119, FACETS}}, {{7, 66, 69, FACETS}}, {{15, 35, 68, FACETS}}, {{15, 35, 108, FACETS}}, {{15, 53, 90, FACETS}}, {{15, 62, 68, FACETS}}, {{15, 62, 100, FACETS}}, {{15, 90, 100, 108}}, {{16, 87, FACETS, FACETS}}, {{16, 90, 108, FACETS}}, {{16, 90, 136, FACETS}}, {{16, 108, 119, FACETS}}, {{24, 41, 69, FACETS}}, {{24, 41, 100, 134}}, {{24, 48, 62, FACETS}}, {{24, 48, 95, FACETS}}, {{24, 62, 100, FACETS}}, {{24, 95, 134, FACETS}}, {{27, 35, 52, FACETS}}, {{27, 35, 68, FACETS}}, {{27, 52, 66, FACETS}}, {{27, 66, 99, 105}}, {{27, 68, 114, FACETS}}, {{27, 99, 114, FACETS}}, {{29, 36, FACETS, FACETS}}, {{29, 53, 81, FACETS}}, {{29, 57, 70, FACETS}}, {{29, 70, 81, FACETS}}, {{35, 52, 108, 119}}, {{35, 101, 119, FACETS}}, {{36, 87, FACETS, FACETS}}, {{41, 69, 105, FACETS}}, {{41, 90, 100, FACETS}}, {{48, 62, 114, FACETS}}, {{53, 81, 136, FACETS}}, {{53, 90, 136, FACETS}}, {{57, 70, 95, 134}}, {{57, 95, 101, FACETS}}, {{62, 68, 114, FACETS}}, {{66, 69, 105, FACETS}}, {{66, 81, 99, FACETS}}},\n",
      "    VA {{{3, 49, 82, FACETS}}, {{3, 49, 116, FACETS}}, {{3, 70, 95, FACETS}}, {{3, 70, 116, FACETS}}, {{3, 82, 103, FACETS}}, {{3, 95, 103, 130}}, {{6, 33, 112, FACETS}}, {{6, 33, 131, FACETS}}, {{6, 61, 131, FACETS}}, {{6, 89, FACETS, FACETS}}, {{8, 39, 68, FACETS}}, {{8, 39, 108, FACETS}}, {{8, 55, 119, FACETS}}, {{8, 67, 68, FACETS}}, {{8, 67, 104, FACETS}}, {{8, 104, 108, 119}}, {{10, 40, FACETS, FACETS}}, {{10, 54, 59, FACETS}}, {{10, 54, 85, FACETS}}, {{10, 59, 69, FACETS}}, {{16, 85, 108, FACETS}}, {{16, 89, FACETS, FACETS}}, {{16, 108, 119, FACETS}}, {{16, 119, 130, FACETS}}, {{23, 40, FACETS, FACETS}}, {{23, 55, 95, FACETS}}, {{23, 61, 70, FACETS}}, {{23, 70, 95, FACETS}}, {{28, 33, 69, FACETS}}, {{28, 33, 104, 131}}, {{28, 49, 67, FACETS}}, {{28, 49, 116, FACETS}}, {{28, 67, 104, FACETS}}, {{28, 116, 131, FACETS}}, {{30, 39, 54, FACETS}}, {{30, 39, 68, FACETS}}, {{30, 54, 59, FACETS}}, {{30, 59, 103, 112}}, {{30, 68, 82, FACETS}}, {{30, 82, 103, FACETS}}, {{33, 69, 112, FACETS}}, {{33, 104, 119, FACETS}}, {{39, 54, 85, 108}}, {{39, 85, 102, FACETS}}, {{40, 89, FACETS, FACETS}}, {{49, 67, 82, FACETS}}, {{55, 95, 130, FACETS}}, {{55, 119, 130, FACETS}}, {{59, 69, 112, FACETS}}, {{59, 95, 103, FACETS}}, {{61, 70, 116, 131}}, {{61, 102, 116, FACETS}}, {{67, 68, 82, FACETS}}},\n",
      "    VA {{{1, 54, 81, FACETS}}, {{1, 54, 115, FACETS}}, {{1, 69, 93, FACETS}}, {{1, 69, 115, FACETS}}, {{1, 81, 104, FACETS}}, {{1, 93, 104, FACETS}}, {{6, 35, 111, FACETS}}, {{6, 63, 111, FACETS}}, {{6, 63, 133, FACETS}}, {{6, 91, 133, FACETS}}, {{9, 38, 70, FACETS}}, {{9, 38, 132, FACETS}}, {{9, 49, 120, FACETS}}, {{9, 65, 70, FACETS}}, {{9, 65, 102, FACETS}}, {{9, 102, 120, 132}}, {{12, 40, 106, FACETS}}, {{12, 55, 58, FACETS}}, {{12, 55, 87, FACETS}}, {{12, 58, 68, FACETS}}, {{12, 87, 106, FACETS}}, {{16, 87, 106, FACETS}}, {{16, 87, 132, FACETS}}, {{16, 91, 106, FACETS}}, {{16, 120, 132, FACETS}}, {{24, 40, 133, FACETS}}, {{24, 49, 93, FACETS}}, {{24, 63, 69, FACETS}}, {{24, 63, 133, FACETS}}, {{24, 69, 93, FACETS}}, {{27, 35, 68, FACETS}}, {{27, 35, 102, 111}}, {{27, 54, 65, FACETS}}, {{27, 54, 115, FACETS}}, {{27, 65, 102, FACETS}}, {{27, 111, 115, FACETS}}, {{29, 38, 55, FACETS}}, {{29, 38, 70, FACETS}}, {{29, 55, 58, FACETS}}, {{29, 58, 104, FACETS}}, {{29, 70, 81, FACETS}}, {{29, 81, 104, FACETS}}, {{35, 102, 120, FACETS}}, {{38, 55, 87, 132}}, {{38, 87, 103, FACETS}}, {{40, 91, 106, FACETS}}, {{40, 91, 133, FACETS}}, {{54, 65, 81, FACETS}}, {{54, 106, FACETS, FACETS}}, {{58, 93, 104, FACETS}}, {{63, 69, 111, 115}}, {{63, 103, 115, FACETS}}, {{65, 70, 81, FACETS}}, {{70, 133, FACETS, FACETS}}},\n",
      "    VA {{{2, 55, 83, FACETS}}, {{2, 55, 114, FACETS}}, {{2, 68, 94, FACETS}}, {{2, 68, 114, FACETS}}, {{2, 83, 102, FACETS}}, {{2, 94, 102, 110}}, {{6, 34, 134, FACETS}}, {{6, 62, 107, FACETS}}, {{6, 90, 107, FACETS}}, {{7, 37, 69, FACETS}}, {{7, 54, 118, FACETS}}, {{7, 66, 69, FACETS}}, {{7, 66, 103, FACETS}}, {{7, 103, 118, FACETS}}, {{11, 40, 136, FACETS}}, {{11, 49, 57, FACETS}}, {{11, 49, 86, FACETS}}, {{11, 57, 70, FACETS}}, {{11, 86, 136, FACETS}}, {{16, 86, 136, FACETS}}, {{16, 90, 136, FACETS}}, {{16, 110, 118, FACETS}}, {{25, 40, 107, FACETS}}, {{25, 54, 94, FACETS}}, {{25, 62, 68, FACETS}}, {{25, 62, 107, FACETS}}, {{25, 68, 94, FACETS}}, {{26, 34, 70, FACETS}}, {{26, 34, 103, FACETS}}, {{26, 55, 66, FACETS}}, {{26, 55, 114, FACETS}}, {{26, 66, 103, FACETS}}, {{31, 37, 49, FACETS}}, {{31, 37, 69, FACETS}}, {{31, 49, 57, FACETS}}, {{31, 57, 102, 134}}, {{31, 69, 83, FACETS}}, {{31, 83, 102, FACETS}}, {{34, 70, 134, FACETS}}, {{34, 103, 118, FACETS}}, {{37, 49, 86, FACETS}}, {{37, 86, 104, FACETS}}, {{40, 90, 107, FACETS}}, {{40, 90, 136, FACETS}}, {{54, 94, 110, FACETS}}, {{54, 110, 118, FACETS}}, {{55, 66, 83, FACETS}}, {{55, 136, FACETS, FACETS}}, {{57, 70, 134, FACETS}}, {{57, 94, 102, FACETS}}, {{62, 68, 114, FACETS}}, {{62, 104, 114, FACETS}}, {{66, 69, 83, FACETS}}, {{69, 107, FACETS, FACETS}}},\n",
      "    VA {{{0, 83, 105, FACETS}}, {{0, 94, 105, FACETS}}, {{0, 115, 134, FACETS}}, {{8, 37, 71, FACETS}}, {{8, 37, 106, 123}}, {{8, 45, 65, FACETS}}, {{8, 45, 118, FACETS}}, {{8, 65, 71, FACETS}}, {{8, 118, 123, FACETS}}, {{11, 43, 44, FACETS}}, {{11, 43, 132, FACETS}}, {{11, 44, 85, FACETS}}, {{11, 56, 132, FACETS}}, {{11, 75, 85, FACETS}}, {{13, 35, 74, FACETS}}, {{13, 35, 122, FACETS}}, {{13, 46, 62, FACETS}}, {{13, 62, 122, FACETS}}, {{13, 74, 90, FACETS}}, {{18, 44, 85, FACETS}}, {{18, 44, 90, FACETS}}, {{18, 74, 90, FACETS}}, {{18, 74, 118, FACETS}}, {{18, 85, 123, 134}}, {{18, 118, 123, FACETS}}, {{20, 43, 132, FACETS}}, {{20, 62, 106, FACETS}}, {{20, 94, 132, FACETS}}, {{26, 35, 45, FACETS}}, {{26, 35, 122, FACETS}}, {{26, 45, 65, FACETS}}, {{26, 75, 115, FACETS}}, {{26, 115, 122, FACETS}}, {{30, 37, 46, FACETS}}, {{30, 37, 71, FACETS}}, {{30, 56, 105, FACETS}}, {{30, 71, 83, FACETS}}, {{30, 83, 105, FACETS}}, {{35, 45, 118, FACETS}}, {{35, 74, 118, FACETS}}, {{37, 46, 106, FACETS}}, {{37, 85, 123, FACETS}}, {{43, 44, 90, FACETS}}, {{43, 90, 121, FACETS}}, {{45, 132, FACETS, FACETS}}, {{46, 62, 106, FACETS}}, {{56, 94, 105, FACETS}}, {{56, 94, 132, FACETS}}, {{62, 115, 122, FACETS}}, {{65, 71, 83, FACETS}}, {{65, 83, 121, FACETS}}, {{74, 105, FACETS, FACETS}}, {{75, 85, 134, FACETS}}, {{75, 115, 134, FACETS}}},\n",
      "    VA {{{0, 81, 107, FACETS}}, {{0, 81, 135, FACETS}}, {{0, 93, 135, FACETS}}, {{0, 107, 116, FACETS}}, {{7, 38, 74, FACETS}}, {{7, 38, 121, FACETS}}, {{7, 46, 67, FACETS}}, {{7, 46, 120, FACETS}}, {{7, 67, 74, FACETS}}, {{7, 120, 121, FACETS}}, {{12, 42, 45, FACETS}}, {{12, 42, 108, FACETS}}, {{12, 45, 86, FACETS}}, {{12, 56, 108, FACETS}}, {{12, 71, 86, FACETS}}, {{14, 33, 75, FACETS}}, {{14, 33, 123, FACETS}}, {{14, 44, 63, FACETS}}, {{14, 63, 123, 130}}, {{14, 75, 91, FACETS}}, {{14, 91, 130, FACETS}}, {{17, 45, 86, FACETS}}, {{17, 45, 91, FACETS}}, {{17, 75, 91, FACETS}}, {{17, 75, 120, FACETS}}, {{17, 86, 121, FACETS}}, {{17, 120, 121, FACETS}}, {{20, 42, 108, FACETS}}, {{20, 42, 130, FACETS}}, {{20, 63, 130, FACETS}}, {{20, 93, 108, FACETS}}, {{27, 33, 46, FACETS}}, {{27, 33, 123, FACETS}}, {{27, 46, 67, FACETS}}, {{27, 67, 107, FACETS}}, {{27, 71, 116, FACETS}}, {{27, 107, 116, 123}}, {{31, 38, 44, FACETS}}, {{31, 38, 74, FACETS}}, {{31, 56, 135, FACETS}}, {{31, 74, 81, FACETS}}, {{31, 81, 135, FACETS}}, {{33, 46, 120, FACETS}}, {{33, 75, 120, FACETS}}, {{38, 86, 121, FACETS}}, {{42, 45, 91, 130}}, {{42, 91, 122, FACETS}}, {{46, 108, FACETS, FACETS}}, {{56, 93, 108, FACETS}}, {{56, 93, 135, FACETS}}, {{63, 116, 123, FACETS}}, {{67, 74, 81, 107}}, {{67, 81, 122, FACETS}}, {{75, 135, FACETS, FACETS}}},\n",
      "    VA {{{0, 82, 133, FACETS}}, {{0, 95, FACETS, FACETS}}, {{0, 112, 114, FACETS}}, {{0, 114, 133, FACETS}}, {{9, 39, 75, FACETS}}, {{9, 39, 122, 136}}, {{9, 44, 66, FACETS}}, {{9, 44, 119, FACETS}}, {{9, 66, 75, FACETS}}, {{9, 119, 122, FACETS}}, {{10, 41, 46, FACETS}}, {{10, 46, 87, FACETS}}, {{10, 56, FACETS, FACETS}}, {{10, 74, 87, FACETS}}, {{15, 34, 71, FACETS}}, {{15, 34, 121, FACETS}}, {{15, 45, 61, FACETS}}, {{15, 61, 110, 121}}, {{15, 71, 89, FACETS}}, {{15, 89, 110, FACETS}}, {{19, 46, 87, FACETS}}, {{19, 46, 89, FACETS}}, {{19, 71, 89, FACETS}}, {{19, 71, 119, FACETS}}, {{19, 87, 112, 122}}, {{19, 119, 122, FACETS}}, {{20, 41, 110, FACETS}}, {{20, 61, 110, FACETS}}, {{20, 61, 136, FACETS}}, {{20, 95, FACETS, FACETS}}, {{28, 34, 44, FACETS}}, {{28, 34, 121, FACETS}}, {{28, 44, 66, FACETS}}, {{28, 66, 133, FACETS}}, {{28, 74, 114, FACETS}}, {{28, 114, 121, 133}}, {{29, 39, 45, FACETS}}, {{29, 39, 75, FACETS}}, {{29, 56, FACETS, FACETS}}, {{29, 75, 82, FACETS}}, {{34, 44, 119, FACETS}}, {{34, 71, 119, FACETS}}, {{39, 45, 136, FACETS}}, {{39, 87, 122, FACETS}}, {{41, 46, 89, 110}}, {{41, 89, 123, FACETS}}, {{45, 61, 136, FACETS}}, {{56, 95, FACETS, FACETS}}, {{61, 114, 121, FACETS}}, {{66, 75, 82, 133}}, {{66, 82, 123, FACETS}}, {{74, 87, 112, FACETS}}, {{74, 112, 114, FACETS}}},\n",
      "    VA {{{1, 46, 80, FACETS}}, {{1, 46, 92, FACETS}}, {{1, 79, 80, FACETS}}, {{1, 79, 116, 123}}, {{1, 92, 123, FACETS}}, {{4, 38, 112, 129}}, {{4, 65, 101, 112}}, {{4, 65, 101, 135}}, {{4, 65, 112, 129}}, {{4, 101, 119, 135}}, {{11, 40, 75, FACETS}}, {{11, 40, 136, 146}}, {{11, 49, 86, 146}}, {{11, 49, 124, FACETS}}, {{11, 58, 75, 124}}, {{11, 86, 136, 146}}, {{15, 35, 108, 143}}, {{15, 53, 63, FACETS}}, {{15, 53, 90, 143}}, {{15, 63, 72, FACETS}}, {{15, 90, 108, 143}}, {{16, 86, 136, 146}}, {{16, 90, 108, 143}}, {{16, 90, 136, 143}}, {{16, 90, 136, 146}}, {{16, 108, 119, 143}}, {{23, 40, 53, FACETS}}, {{23, 40, 75, FACETS}}, {{23, 53, 63, 123}}, {{23, 75, 92, FACETS}}, {{23, 92, 123, FACETS}}, {{28, 35, 101, 135}}, {{28, 35, 124, 135}}, {{28, 49, 116, FACETS}}, {{28, 49, 124, FACETS}}, {{28, 65, 79, 101}}, {{28, 65, 101, 135}}, {{28, 79, 116, FACETS}}, {{30, 38, 72, 129}}, {{30, 38, 112, 129}}, {{30, 46, 58, FACETS}}, {{30, 46, 80, FACETS}}, {{30, 80, 112, 129}}, {{35, 101, 119, 135}}, {{35, 101, 119, 143}}, {{35, 108, 119, 143}}, {{38, 72, 97, FACETS}}, {{38, 86, 97, FACETS}}, {{40, 53, 90, 136}}, {{40, 90, 136, 146}}, {{46, 58, 92, FACETS}}, {{46, 108, FACETS, FACETS}}, {{49, 86, 97, FACETS}}, {{49, 97, 116, FACETS}}, {{53, 90, 136, 143}}, {{58, 75, 92, FACETS}}, {{63, 72, 97, FACETS}}, {{63, 97, 116, FACETS}}, {{63, 116, 123, FACETS}}, {{65, 79, 80, 112}}, {{65, 79, 101, 112}}, {{65, 80, 112, 129}}, {{75, 124, 135, FACETS}}},\n",
      "    VA {{{1, 51, 83, 100}}, {{1, 51, 114, FACETS}}, {{1, 74, 114, FACETS}}, {{1, 74, 126, FACETS}}, {{1, 94, 100, FACETS}}, {{1, 94, 126, FACETS}}, {{5, 43, 103, 135}}, {{5, 43, 135, 142}}, {{5, 58, 122, FACETS}}, {{5, 58, 142, FACETS}}, {{5, 87, 103, 112}}, {{5, 87, 103, 135}}, {{5, 87, 112, 122}}, {{8, 39, 45, 139}}, {{8, 39, 108, 139}}, {{8, 64, 72, FACETS}}, {{8, 64, 108, 139}}, {{8, 72, 120, FACETS}}, {{14, 32, 49, FACETS}}, {{14, 49, 88, FACETS}}, {{14, 61, 70, FACETS}}, {{14, 61, 136, FACETS}}, {{14, 70, 88, FACETS}}, {{18, 49, 88, FACETS}}, {{18, 49, 120, 126}}, {{18, 74, 87, 103}}, {{18, 74, 126, FACETS}}, {{18, 87, 103, 135}}, {{18, 88, 103, 135}}, {{22, 39, 108, 139}}, {{22, 39, 122, 136}}, {{22, 39, 136, 139}}, {{22, 58, 100, FACETS}}, {{22, 58, 122, FACETS}}, {{22, 83, 100, 108}}, {{22, 83, 108, 139}}, {{23, 43, 70, 142}}, {{23, 45, 61, FACETS}}, {{23, 61, 70, FACETS}}, {{23, 94, 142, FACETS}}, {{27, 32, 72, FACETS}}, {{27, 51, 64, FACETS}}, {{27, 51, 114, FACETS}}, {{27, 64, 72, FACETS}}, {{27, 112, 114, FACETS}}, {{32, 49, 120, FACETS}}, {{32, 72, 120, FACETS}}, {{39, 45, 136, 139}}, {{39, 45, 136, 149}}, {{39, 87, 122, 149}}, {{39, 122, 136, 149}}, {{43, 70, 88, 135}}, {{43, 70, 135, 142}}, {{43, 88, 103, 135}}, {{45, 61, 136, 149}}, {{51, 64, 83, 108}}, {{51, 83, 100, 108}}, {{58, 94, 100, 142}}, {{61, 114, 149, FACETS}}, {{64, 83, 108, 139}}, {{74, 87, 103, 112}}, {{74, 87, 112, 149}}, {{74, 112, 114, 149}}, {{87, 112, 122, 149}}},\n",
      "    VA {{{2, 45, 80, FACETS}}, {{2, 45, 92, FACETS}}, {{2, 73, 80, FACETS}}, {{2, 73, 122, FACETS}}, {{2, 92, 109, 122}}, {{2, 109, 114, FACETS}}, {{6, 32, 107, FACETS}}, {{6, 32, 133, FACETS}}, {{6, 63, 126, FACETS}}, {{6, 63, 133, 145}}, {{6, 90, 107, 126}}, {{7, 38, 52, 103}}, {{7, 52, 119, FACETS}}, {{7, 64, 77, FACETS}}, {{7, 77, 119, FACETS}}, {{11, 41, 47, 100}}, {{11, 41, 137, FACETS}}, {{11, 57, 70, FACETS}}, {{11, 57, 137, FACETS}}, {{11, 70, 84, FACETS}}, {{11, 84, 100, FACETS}}, {{19, 52, 84, FACETS}}, {{19, 52, 119, 122}}, {{19, 73, 90, 100}}, {{19, 73, 122, FACETS}}, {{19, 84, 100, FACETS}}, {{19, 90, 107, FACETS}}, {{19, 107, 119, FACETS}}, {{20, 41, 126, 137}}, {{20, 63, 103, 109}}, {{20, 63, 126, FACETS}}, {{20, 92, 109, FACETS}}, {{20, 92, 137, FACETS}}, {{28, 32, 77, FACETS}}, {{28, 32, 133, FACETS}}, {{28, 47, 64, FACETS}}, {{28, 64, 77, FACETS}}, {{28, 114, 133, FACETS}}, {{29, 38, 70, 145}}, {{29, 45, 57, FACETS}}, {{29, 45, 80, FACETS}}, {{29, 57, 70, FACETS}}, {{32, 77, 107, 119}}, {{38, 52, 84, FACETS}}, {{38, 70, 84, FACETS}}, {{38, 103, 145, FACETS}}, {{41, 90, 100, FACETS}}, {{41, 90, 126, FACETS}}, {{45, 57, 92, 137}}, {{52, 103, 109, FACETS}}, {{52, 109, 122, FACETS}}, {{63, 103, 145, FACETS}}, {{63, 109, 114, FACETS}}, {{63, 114, 133, FACETS}}, {{64, 80, FACETS, FACETS}}, {{70, 133, 145, FACETS}}},\n",
      "    VA {{{3, 47, 94, 129}}, {{3, 47, 115, 129}}, {{3, 76, 83, 97}}, {{3, 76, 94, 97}}, {{3, 76, 94, 129}}, {{3, 83, 97, 137}}, {{5, 40, 107, FACETS}}, {{5, 40, 133, FACETS}}, {{5, 59, 123, FACETS}}, {{5, 59, 133, FACETS}}, {{5, 84, FACETS, FACETS}}, {{5, 107, 123, FACETS}}, {{7, 39, 124, FACETS}}, {{7, 46, 67, 148}}, {{7, 46, 120, 148}}, {{7, 67, 74, 124}}, {{7, 67, 74, 148}}, {{15, 33, 73, 140}}, {{15, 33, 109, 140}}, {{15, 55, 88, FACETS}}, {{15, 61, 73, 140}}, {{15, 88, 109, FACETS}}, {{16, 84, FACETS, FACETS}}, {{16, 88, 109, FACETS}}, {{16, 88, 137, FACETS}}, {{16, 109, 120, FACETS}}, {{24, 40, 74, FACETS}}, {{24, 40, 133, FACETS}}, {{24, 47, 61, 129}}, {{24, 47, 94, 129}}, {{24, 94, 129, 133}}, {{27, 33, 46, 140}}, {{27, 33, 46, 148}}, {{27, 33, 73, 123}}, {{27, 33, 73, 140}}, {{27, 33, 123, 148}}, {{27, 46, 67, 148}}, {{27, 67, 107, 148}}, {{27, 73, 115, 140}}, {{27, 107, 123, 148}}, {{29, 39, 124, FACETS}}, {{29, 55, 83, 97}}, {{29, 55, 83, 124}}, {{29, 59, 76, 97}}, {{29, 76, 83, 97}}, {{33, 46, 109, 120}}, {{33, 46, 109, 140}}, {{33, 46, 120, 148}}, {{39, 84, 101, FACETS}}, {{40, 74, 107, FACETS}}, {{40, 88, FACETS, FACETS}}, {{47, 61, 101, 115}}, {{47, 61, 115, 129}}, {{55, 83, 97, 137}}, {{55, 88, 137, FACETS}}, {{59, 76, 94, 97}}, {{59, 76, 94, 133}}, {{61, 73, 101, 115}}, {{61, 73, 115, 140}}, {{61, 115, 129, 140}}, {{67, 74, 107, 148}}, {{67, 83, 124, FACETS}}, {{76, 94, 129, 133}}},\n",
      "    VA {{{0, 82, 133, 149}}, {{0, 95, 107, 139}}, {{0, 95, 149, FACETS}}, {{0, 107, 116, 139}}, {{7, 37, 69, 146}}, {{7, 54, 65, 98}}, {{7, 54, 146, FACETS}}, {{7, 69, 117, FACETS}}, {{7, 98, 117, FACETS}}, {{12, 43, 73, 99}}, {{12, 43, 109, FACETS}}, {{12, 53, 56, FACETS}}, {{12, 53, 84, FACETS}}, {{12, 56, 73, FACETS}}, {{12, 84, 99, FACETS}}, {{14, 35, 47, 128}}, {{14, 35, 128, 137}}, {{14, 47, 91, FACETS}}, {{14, 62, 104, 137}}, {{14, 62, 128, 137}}, {{14, 75, 91, FACETS}}, {{14, 75, 104, FACETS}}, {{18, 47, 91, 99}}, {{18, 47, 117, FACETS}}, {{18, 69, 84, FACETS}}, {{18, 69, 117, FACETS}}, {{18, 84, 99, FACETS}}, {{18, 91, 133, FACETS}}, {{21, 35, 98, FACETS}}, {{21, 35, 128, 137}}, {{21, 65, 98, 109}}, {{21, 116, 128, 137}}, {{25, 43, 54, FACETS}}, {{25, 43, 73, FACETS}}, {{25, 54, 146, FACETS}}, {{25, 62, 107, 139}}, {{25, 62, 107, 146}}, {{25, 73, 95, 139}}, {{25, 95, 107, 139}}, {{29, 37, 53, 104}}, {{29, 53, 56, FACETS}}, {{29, 56, 149, FACETS}}, {{29, 75, 82, 149}}, {{29, 75, 104, FACETS}}, {{35, 47, 117, FACETS}}, {{35, 98, 117, FACETS}}, {{37, 53, 84, FACETS}}, {{37, 69, 84, FACETS}}, {{37, 104, 146, FACETS}}, {{43, 54, 109, 125}}, {{43, 91, 99, FACETS}}, {{43, 91, 125, FACETS}}, {{53, 104, 137, FACETS}}, {{54, 65, 98, 109}}, {{54, 65, 109, 125}}, {{56, 73, 95, FACETS}}, {{56, 95, 149, FACETS}}, {{62, 104, 146, FACETS}}, {{62, 107, 116, 139}}, {{62, 116, 128, 137}}, {{62, 116, 128, 139}}, {{65, 82, 125, FACETS}}, {{69, 107, 146, FACETS}}, {{75, 82, 125, 133}}, {{75, 82, 133, 149}}, {{75, 91, 125, 133}}},\n",
      "    VA {{{0, 80, 134, FACETS}}, {{0, 92, 111, FACETS}}, {{0, 111, 115, FACETS}}, {{0, 115, 134, FACETS}}, {{8, 38, 55, 125}}, {{8, 38, 110, FACETS}}, {{8, 55, 119, 125}}, {{8, 55, 119, 144}}, {{8, 67, 104, 144}}, {{8, 67, 110, FACETS}}, {{8, 71, 104, 119}}, {{8, 71, 119, 125}}, {{8, 104, 119, 144}}, {{11, 42, 76, 98}}, {{11, 48, 56, FACETS}}, {{11, 56, 132, FACETS}}, {{11, 76, 87, 98}}, {{11, 87, 98, 132}}, {{13, 33, 69, 142}}, {{13, 51, 63, 99}}, {{13, 51, 90, FACETS}}, {{13, 63, 69, 142}}, {{13, 63, 99, 142}}, {{17, 55, 87, 98}}, {{17, 55, 87, 125}}, {{17, 55, 119, 125}}, {{17, 76, 87, 98}}, {{17, 76, 90, 98}}, {{22, 38, 99, 110}}, {{22, 38, 132, FACETS}}, {{22, 56, 132, FACETS}}, {{22, 80, 110, FACETS}}, {{25, 42, 51, FACETS}}, {{25, 51, 63, FACETS}}, {{25, 63, 111, FACETS}}, {{25, 71, 92, FACETS}}, {{25, 92, 111, FACETS}}, {{28, 33, 48, 104}}, {{28, 33, 48, 142}}, {{28, 33, 69, 142}}, {{28, 33, 69, 144}}, {{28, 33, 104, 144}}, {{28, 67, 104, 144}}, {{28, 67, 134, FACETS}}, {{28, 69, 115, 142}}, {{28, 115, 134, FACETS}}, {{33, 104, 119, 144}}, {{38, 55, 87, 125}}, {{38, 55, 87, 132}}, {{42, 51, 90, 128}}, {{42, 76, 90, 98}}, {{42, 76, 90, 128}}, {{51, 99, 110, FACETS}}, {{51, 110, 128, FACETS}}, {{55, 87, 98, 132}}, {{56, 92, FACETS, FACETS}}, {{63, 69, 111, 115}}, {{63, 69, 115, 142}}, {{67, 80, 110, 128}}, {{67, 80, 128, 134}}, {{76, 128, 134, FACETS}}},\n",
      "    VA {{{3, 48, 95, 103}}, {{3, 48, 95, 143}}, {{3, 48, 114, 143}}, {{3, 70, 95, 143}}, {{3, 70, 95, 144}}, {{3, 82, 103, 144}}, {{3, 82, 132, FACETS}}, {{3, 95, 103, 144}}, {{3, 114, 132, FACETS}}, {{4, 37, 100, 111}}, {{4, 64, 111, FACETS}}, {{4, 100, 134, FACETS}}, {{4, 117, 134, FACETS}}, {{12, 42, 45, 148}}, {{12, 45, 86, 148}}, {{12, 59, 71, 126}}, {{12, 59, 110, 126}}, {{12, 71, 86, 126}}, {{12, 71, 86, 148}}, {{13, 32, 54, FACETS}}, {{13, 62, 79, 122}}, {{13, 79, 91, 122}}, {{17, 45, 86, 148}}, {{17, 45, 91, 148}}, {{17, 70, 117, FACETS}}, {{21, 32, 110, FACETS}}, {{21, 64, 132, FACETS}}, {{21, 114, 132, FACETS}}, {{24, 42, 79, 122}}, {{24, 48, 62, 122}}, {{24, 48, 62, 143}}, {{24, 48, 95, 143}}, {{24, 62, 79, 100}}, {{24, 62, 79, 122}}, {{24, 62, 100, 143}}, {{24, 95, 134, 143}}, {{24, 100, 134, 143}}, {{30, 37, 71, 126}}, {{30, 37, 111, FACETS}}, {{30, 54, 59, 126}}, {{30, 54, 59, 144}}, {{30, 59, 71, 103}}, {{30, 59, 71, 126}}, {{30, 59, 103, 144}}, {{30, 82, 103, 144}}, {{30, 82, 111, FACETS}}, {{32, 54, 110, FACETS}}, {{32, 117, FACETS, FACETS}}, {{37, 71, 86, 126}}, {{42, 45, 91, 140}}, {{42, 45, 91, 148}}, {{42, 79, 91, 122}}, {{42, 79, 91, 140}}, {{42, 91, 122, 148}}, {{45, 132, 140, FACETS}}, {{48, 62, 114, 143}}, {{54, 59, 110, 126}}, {{59, 95, 103, 144}}, {{64, 82, 111, 140}}, {{64, 82, 132, 140}}, {{70, 95, 134, 143}}, {{70, 117, 134, FACETS}}, {{79, 100, 111, FACETS}}, {{79, 111, 140, FACETS}}},\n",
      "    VA {{{2, 53, 81, FACETS}}, {{2, 53, 94, 142}}, {{2, 72, 81, FACETS}}, {{2, 72, 113, FACETS}}, {{2, 106, 113, FACETS}}, {{2, 106, 142, FACETS}}, {{4, 39, 134, FACETS}}, {{4, 64, 111, 156}}, {{4, 100, 111, 118}}, {{4, 100, 111, 156}}, {{4, 100, 134, 156}}, {{10, 42, 79, 140}}, {{10, 46, 87, 149}}, {{10, 46, 140, FACETS}}, {{10, 56, 79, FACETS}}, {{10, 56, 149, FACETS}}, {{14, 35, 137, 154}}, {{14, 49, 60, FACETS}}, {{14, 49, 88, FACETS}}, {{14, 60, 75, FACETS}}, {{14, 75, 104, 154}}, {{14, 88, 104, 137}}, {{14, 104, 137, 154}}, {{16, 87, 106, FACETS}}, {{16, 88, 137, FACETS}}, {{16, 106, 142, FACETS}}, {{16, 118, 137, 142}}, {{24, 42, 49, FACETS}}, {{24, 42, 79, 156}}, {{24, 49, 60, FACETS}}, {{24, 60, 134, FACETS}}, {{24, 79, 94, 100}}, {{24, 79, 100, 156}}, {{24, 100, 134, 156}}, {{27, 35, 111, FACETS}}, {{27, 46, 113, FACETS}}, {{27, 46, 140, FACETS}}, {{27, 64, 72, FACETS}}, {{27, 64, 111, 140}}, {{27, 72, 113, FACETS}}, {{29, 39, 75, 149}}, {{29, 53, 56, 154}}, {{29, 53, 81, 104}}, {{29, 53, 104, 154}}, {{29, 56, 149, 154}}, {{29, 75, 104, 154}}, {{29, 75, 149, 154}}, {{35, 111, 118, FACETS}}, {{35, 118, 137, FACETS}}, {{39, 75, 134, FACETS}}, {{39, 87, 149, FACETS}}, {{42, 49, 88, FACETS}}, {{42, 79, 140, 156}}, {{46, 87, 106, FACETS}}, {{46, 106, 113, FACETS}}, {{49, 96, FACETS, FACETS}}, {{53, 56, 94, FACETS}}, {{53, 104, 137, 154}}, {{53, 137, 142, FACETS}}, {{56, 79, 94, FACETS}}, {{60, 75, 134, FACETS}}, {{60, 113, FACETS, FACETS}}, {{64, 72, 81, FACETS}}, {{64, 111, 140, 156}}, {{72, 96, FACETS, FACETS}}, {{79, 100, 111, 156}}, {{79, 111, 140, 156}}, {{94, 100, 142, FACETS}}, {{100, 118, 142, FACETS}}},\n",
      "    VA {{{0, 80, 134, 155}}, {{0, 94, 147, FACETS}}, {{0, 111, 115, 155}}, {{0, 115, 134, 147}}, {{0, 115, 134, 155}}, {{9, 36, 78, FACETS}}, {{9, 36, 137, FACETS}}, {{9, 49, 67, FACETS}}, {{9, 49, 120, 126}}, {{9, 67, 78, FACETS}}, {{9, 126, 137, FACETS}}, {{10, 40, 52, FACETS}}, {{10, 40, 144, FACETS}}, {{10, 52, 84, FACETS}}, {{10, 58, FACETS, FACETS}}, {{10, 69, 84, FACETS}}, {{10, 69, 144, FACETS}}, {{15, 32, 72, FACETS}}, {{15, 50, 62, FACETS}}, {{15, 50, 127, FACETS}}, {{15, 62, 106, FACETS}}, {{15, 72, 91, 127}}, {{15, 91, 106, FACETS}}, {{19, 52, 84, FACETS}}, {{19, 52, 91, FACETS}}, {{19, 72, 91, FACETS}}, {{19, 72, 120, FACETS}}, {{19, 84, 111, FACETS}}, {{20, 40, 106, FACETS}}, {{20, 62, 106, 147}}, {{20, 62, 137, FACETS}}, {{20, 94, 126, FACETS}}, {{20, 94, 147, FACETS}}, {{20, 126, 137, FACETS}}, {{28, 32, 49, FACETS}}, {{28, 49, 67, 144}}, {{28, 67, 134, 155}}, {{28, 67, 144, 155}}, {{28, 69, 115, 155}}, {{28, 69, 144, 155}}, {{28, 115, 134, 155}}, {{29, 36, 50, FACETS}}, {{29, 36, 78, FACETS}}, {{29, 50, 127, FACETS}}, {{29, 58, FACETS, FACETS}}, {{29, 78, 80, FACETS}}, {{29, 80, 127, FACETS}}, {{32, 49, 120, 151}}, {{32, 72, 120, 151}}, {{36, 50, 137, FACETS}}, {{36, 84, FACETS, FACETS}}, {{40, 52, 91, 106}}, {{49, 120, 126, 151}}, {{50, 62, 137, FACETS}}, {{52, 106, 123, FACETS}}, {{58, 94, 151, FACETS}}, {{62, 115, 147, FACETS}}, {{67, 78, 80, 134}}, {{67, 80, 134, 155}}, {{69, 84, 111, FACETS}}, {{69, 111, 115, 155}}, {{78, 123, 134, FACETS}}, {{94, 126, 151, FACETS}}, {{106, 123, 147, FACETS}}, {{123, 134, 147, FACETS}}},\n",
      "    VA {{{2, 55, 95, FACETS}}, {{2, 55, 114, 146}}, {{2, 73, 80, 152}}, {{2, 73, 95, FACETS}}, {{2, 80, 110, FACETS}}, {{2, 110, 146, FACETS}}, {{2, 114, 152, FACETS}}, {{5, 42, 131, FACETS}}, {{5, 42, 141, FACETS}}, {{5, 56, 105, FACETS}}, {{5, 86, 104, 105}}, {{5, 86, 141, FACETS}}, {{5, 104, 131, FACETS}}, {{9, 39, 136, FACETS}}, {{9, 47, 64, FACETS}}, {{9, 47, 117, FACETS}}, {{9, 64, 76, FACETS}}, {{9, 76, 96, FACETS}}, {{9, 96, 117, 136}}, {{13, 35, 74, 147}}, {{13, 46, 89, FACETS}}, {{13, 46, 147, FACETS}}, {{13, 60, 74, FACETS}}, {{16, 86, 136, 146}}, {{16, 86, 141, FACETS}}, {{16, 89, 110, FACETS}}, {{16, 89, 141, FACETS}}, {{16, 110, 146, FACETS}}, {{16, 117, 136, FACETS}}, {{23, 42, 76, FACETS}}, {{23, 55, 60, FACETS}}, {{23, 55, 95, 96}}, {{23, 76, 96, FACETS}}, {{28, 35, 47, FACETS}}, {{28, 35, 74, FACETS}}, {{28, 47, 64, 152}}, {{28, 64, 131, FACETS}}, {{28, 74, 104, 114}}, {{28, 104, 131, FACETS}}, {{28, 114, 152, FACETS}}, {{30, 39, 105, FACETS}}, {{30, 46, 80, FACETS}}, {{30, 46, 147, FACETS}}, {{30, 56, 73, FACETS}}, {{30, 56, 105, 147}}, {{30, 73, 80, FACETS}}, {{35, 47, 117, FACETS}}, {{39, 86, 105, FACETS}}, {{39, 86, 136, FACETS}}, {{42, 76, 131, FACETS}}, {{42, 89, 141, FACETS}}, {{46, 80, 110, FACETS}}, {{46, 89, 110, FACETS}}, {{47, 100, 152, FACETS}}, {{55, 60, 114, FACETS}}, {{55, 96, 136, FACETS}}, {{55, 136, 146, FACETS}}, {{56, 73, 95, FACETS}}, {{60, 74, 114, FACETS}}, {{64, 76, 131, FACETS}}, {{64, 80, 152, FACETS}}, {{73, 100, 152, FACETS}}, {{74, 104, 105, FACETS}}, {{74, 105, 147, FACETS}}, {{86, 104, 146, FACETS}}, {{100, 141, FACETS, FACETS}}, {{104, 114, 146, FACETS}}},\n",
      "    VA {{{0, 83, 105, FACETS}}, {{0, 83, 131, FACETS}}, {{0, 92, 131, FACETS}}, {{0, 105, 138, FACETS}}, {{0, 114, 138, FACETS}}, {{8, 36, 73, FACETS}}, {{8, 36, 141, FACETS}}, {{8, 53, 67, 141}}, {{8, 53, 123, FACETS}}, {{8, 67, 110, FACETS}}, {{8, 73, 118, 123}}, {{8, 110, 118, FACETS}}, {{11, 40, 75, 150}}, {{11, 40, 136, 150}}, {{11, 47, 58, FACETS}}, {{11, 47, 87, 127}}, {{11, 58, 75, 150}}, {{11, 127, 136, FACETS}}, {{13, 32, 54, 156}}, {{13, 54, 88, FACETS}}, {{13, 62, 156, FACETS}}, {{13, 69, 88, FACETS}}, {{19, 54, 88, FACETS}}, {{19, 54, 118, FACETS}}, {{19, 73, 87, 138}}, {{19, 73, 118, FACETS}}, {{19, 88, 105, FACETS}}, {{19, 105, 138, FACETS}}, {{21, 32, 110, 156}}, {{21, 67, 110, FACETS}}, {{21, 67, 136, FACETS}}, {{21, 114, 127, FACETS}}, {{21, 114, 156, FACETS}}, {{21, 127, 136, FACETS}}, {{23, 40, 53, 150}}, {{23, 40, 75, 150}}, {{23, 53, 123, 150}}, {{23, 62, FACETS, FACETS}}, {{23, 75, 92, 150}}, {{23, 92, 123, 150}}, {{31, 36, 47, FACETS}}, {{31, 36, 141, FACETS}}, {{31, 47, 58, FACETS}}, {{31, 58, 131, FACETS}}, {{31, 69, 83, 141}}, {{31, 83, 131, FACETS}}, {{32, 54, 110, 118}}, {{32, 54, 110, 156}}, {{36, 47, 87, FACETS}}, {{36, 73, 87, FACETS}}, {{40, 53, 136, 150}}, {{40, 88, FACETS, FACETS}}, {{53, 67, 136, FACETS}}, {{54, 110, 126, 156}}, {{58, 75, 92, 131}}, {{58, 75, 92, 150}}, {{62, 114, 156, FACETS}}, {{67, 83, 141, FACETS}}, {{69, 83, 105, FACETS}}, {{69, 88, 105, FACETS}}, {{75, 126, 131, FACETS}}, {{87, 127, 138, FACETS}}, {{114, 127, 138, FACETS}}},\n",
      "    VA {{{0, 82, 140, FACETS}}, {{0, 82, 149, FACETS}}, {{0, 93, 112, FACETS}}, {{0, 93, 135, 140}}, {{0, 112, 149, FACETS}}, {{0, 113, 135, FACETS}}, {{7, 36, 51, FACETS}}, {{7, 36, 143, FACETS}}, {{7, 51, 117, FACETS}}, {{7, 67, FACETS, FACETS}}, {{7, 69, 117, FACETS}}, {{7, 69, 143, FACETS}}, {{12, 40, 71, FACETS}}, {{12, 40, 145, FACETS}}, {{12, 55, 58, 145}}, {{12, 55, 126, FACETS}}, {{12, 58, 109, FACETS}}, {{12, 71, 86, 126}}, {{12, 86, 109, FACETS}}, {{14, 32, 76, FACETS}}, {{14, 32, 130, FACETS}}, {{14, 48, 62, FACETS}}, {{14, 48, 89, 123}}, {{14, 62, 76, FACETS}}, {{14, 123, 130, FACETS}}, {{19, 51, 86, FACETS}}, {{19, 51, 117, FACETS}}, {{19, 71, 86, FACETS}}, {{19, 71, 89, 149}}, {{19, 112, 117, FACETS}}, {{19, 112, 149, FACETS}}, {{22, 36, 109, FACETS}}, {{22, 58, 109, 140}}, {{22, 58, 130, FACETS}}, {{22, 82, 123, FACETS}}, {{22, 82, 140, FACETS}}, {{22, 123, 130, FACETS}}, {{24, 40, 48, FACETS}}, {{24, 40, 145, FACETS}}, {{24, 48, 62, 143}}, {{24, 62, 135, FACETS}}, {{24, 69, 93, 145}}, {{24, 69, 143, FACETS}}, {{24, 93, 135, FACETS}}, {{26, 32, 55, FACETS}}, {{26, 32, 76, FACETS}}, {{26, 55, 126, FACETS}}, {{26, 67, FACETS, FACETS}}, {{26, 76, 113, FACETS}}, {{26, 113, 126, FACETS}}, {{32, 55, 130, FACETS}}, {{32, 117, FACETS, FACETS}}, {{36, 51, 86, 109}}, {{40, 48, 89, FACETS}}, {{40, 71, 89, FACETS}}, {{51, 109, 127, FACETS}}, {{55, 58, 130, FACETS}}, {{58, 93, 140, FACETS}}, {{58, 93, 145, FACETS}}, {{62, 76, 113, 135}}, {{67, 82, FACETS, FACETS}}, {{69, 93, 112, FACETS}}, {{69, 112, 117, FACETS}}, {{76, 127, 135, FACETS}}, {{82, 123, 149, FACETS}}, {{89, 123, 149, FACETS}}, {{109, 127, 140, FACETS}}, {{127, 135, 140, FACETS}}},\n",
      "    VA {{{2, 50, 82, FACETS}}, {{2, 50, 116, FACETS}}, {{2, 71, 92, FACETS}}, {{2, 71, 116, FACETS}}, {{2, 92, 109, FACETS}}, {{6, 35, 135, FACETS}}, {{6, 35, 145, FACETS}}, {{6, 60, 112, FACETS}}, {{6, 91, 96, 112}}, {{6, 91, 145, FACETS}}, {{6, 96, 135, FACETS}}, {{7, 39, 77, FACETS}}, {{7, 39, 153, FACETS}}, {{7, 46, 120, 138}}, {{7, 46, 120, 153}}, {{7, 64, 77, FACETS}}, {{7, 64, 138, FACETS}}, {{11, 42, 130, FACETS}}, {{11, 42, 155, FACETS}}, {{11, 48, 56, 155}}, {{11, 48, 84, FACETS}}, {{11, 56, 78, FACETS}}, {{11, 78, 100, FACETS}}, {{11, 84, 100, 130}}, {{16, 84, 130, FACETS}}, {{16, 84, 153, FACETS}}, {{16, 91, 130, FACETS}}, {{16, 91, 145, FACETS}}, {{16, 109, 120, 153}}, {{16, 120, 145, FACETS}}, {{25, 42, 112, FACETS}}, {{25, 42, 155, FACETS}}, {{25, 46, 92, FACETS}}, {{25, 60, 71, FACETS}}, {{25, 60, 112, FACETS}}, {{25, 71, 92, 155}}, {{26, 35, 78, 138}}, {{26, 50, 64, FACETS}}, {{26, 50, 100, 116}}, {{26, 64, 138, FACETS}}, {{26, 78, 100, FACETS}}, {{31, 39, 48, FACETS}}, {{31, 39, 77, FACETS}}, {{31, 48, 56, FACETS}}, {{31, 56, 135, FACETS}}, {{31, 77, 82, 96}}, {{31, 96, 135, FACETS}}, {{35, 78, 135, FACETS}}, {{35, 120, 138, FACETS}}, {{35, 120, 145, FACETS}}, {{39, 48, 84, FACETS}}, {{39, 84, 153, FACETS}}, {{42, 91, 112, FACETS}}, {{42, 91, 130, FACETS}}, {{46, 92, 109, FACETS}}, {{46, 109, 120, 153}}, {{48, 104, 155, FACETS}}, {{50, 64, 82, FACETS}}, {{50, 100, 130, FACETS}}, {{56, 78, 135, FACETS}}, {{56, 92, 155, FACETS}}, {{60, 71, 116, FACETS}}, {{64, 77, 82, FACETS}}, {{71, 104, 155, FACETS}}, {{77, 96, 112, FACETS}}, {{104, 145, FACETS, FACETS}}},\n",
      "    VA {{{0, 81, 107, FACETS}}, {{0, 95, 107, FACETS}}, {{0, 95, 134, FACETS}}, {{0, 115, 134, 155}}, {{9, 37, 76, FACETS}}, {{9, 37, 126, FACETS}}, {{9, 44, 66, FACETS}}, {{9, 66, 126, 137}}, {{9, 76, 118, FACETS}}, {{9, 118, 137, FACETS}}, {{10, 43, 77, FACETS}}, {{10, 43, 125, FACETS}}, {{10, 46, 58, FACETS}}, {{10, 46, 87, FACETS}}, {{10, 58, 77, FACETS}}, {{10, 87, 125, FACETS}}, {{15, 35, 45, FACETS}}, {{15, 35, 108, 150}}, {{15, 45, 91, FACETS}}, {{15, 60, 108, FACETS}}, {{15, 72, 91, FACETS}}, {{15, 72, 150, FACETS}}, {{17, 45, 91, FACETS}}, {{17, 45, 118, FACETS}}, {{17, 76, 87, 155}}, {{17, 76, 118, FACETS}}, {{17, 87, 125, 155}}, {{17, 91, 125, FACETS}}, {{21, 35, 108, FACETS}}, {{21, 35, 137, FACETS}}, {{21, 66, 137, FACETS}}, {{21, 108, 115, FACETS}}, {{24, 43, 44, FACETS}}, {{24, 43, 77, FACETS}}, {{24, 60, 134, FACETS}}, {{24, 77, 95, FACETS}}, {{24, 95, 134, FACETS}}, {{30, 37, 46, FACETS}}, {{30, 37, 126, FACETS}}, {{30, 46, 58, 150}}, {{30, 58, 107, FACETS}}, {{30, 72, 81, FACETS}}, {{30, 72, 150, FACETS}}, {{30, 81, 107, 126}}, {{35, 45, 118, 137}}, {{35, 118, 124, FACETS}}, {{35, 124, 150, FACETS}}, {{37, 46, 87, FACETS}}, {{37, 76, 87, FACETS}}, {{43, 91, 125, FACETS}}, {{45, 137, 152, FACETS}}, {{46, 108, 150, FACETS}}, {{58, 77, 95, 107}}, {{58, 95, 124, FACETS}}, {{58, 124, 150, FACETS}}, {{60, 108, 115, FACETS}}, {{60, 115, 134, FACETS}}, {{66, 81, 126, FACETS}}, {{76, 134, 155, FACETS}}, {{77, 107, 152, FACETS}}, {{107, 126, 152, FACETS}}, {{126, 137, 152, FACETS}}},\n",
      "    VA {{{0, 83, 131, 160}}, {{0, 93, 112, FACETS}}, {{0, 112, 114, FACETS}}, {{0, 114, 160, FACETS}}, {{7, 39, 77, 162}}, {{7, 39, 124, 153}}, {{7, 39, 153, 162}}, {{7, 46, 67, 153}}, {{7, 46, 153, 162}}, {{7, 67, 124, 153}}, {{7, 77, 119, FACETS}}, {{12, 41, 72, FACETS}}, {{12, 41, 110, 126}}, {{12, 45, 57, FACETS}}, {{12, 45, 86, 156}}, {{12, 57, 72, FACETS}}, {{12, 86, 126, 156}}, {{12, 110, 126, 156}}, {{14, 34, 44, FACETS}}, {{14, 34, 132, FACETS}}, {{14, 44, 90, FACETS}}, {{14, 60, 132, FACETS}}, {{14, 76, 90, FACETS}}, {{18, 44, 90, FACETS}}, {{18, 44, 119, FACETS}}, {{18, 77, 86, FACETS}}, {{18, 77, 119, FACETS}}, {{18, 86, 126, FACETS}}, {{18, 90, 126, 131}}, {{21, 34, 132, FACETS}}, {{21, 67, 110, 160}}, {{21, 110, 156, 160}}, {{21, 114, 132, 156}}, {{21, 114, 156, 160}}, {{25, 41, 46, FACETS}}, {{25, 41, 72, FACETS}}, {{25, 46, 162, FACETS}}, {{25, 60, 112, 162}}, {{25, 72, 93, FACETS}}, {{25, 93, 112, FACETS}}, {{29, 39, 45, FACETS}}, {{29, 39, 124, 153}}, {{29, 45, 57, FACETS}}, {{29, 76, 83, 153}}, {{29, 83, 124, 153}}, {{34, 44, 119, FACETS}}, {{34, 119, 125, FACETS}}, {{39, 45, 86, FACETS}}, {{39, 77, 86, FACETS}}, {{41, 46, 110, FACETS}}, {{41, 90, 126, FACETS}}, {{45, 132, 156, FACETS}}, {{46, 67, 110, FACETS}}, {{57, 72, 93, FACETS}}, {{57, 93, 125, FACETS}}, {{60, 112, 114, FACETS}}, {{60, 114, 132, FACETS}}, {{67, 83, 124, 153}}, {{67, 83, 160, FACETS}}, {{76, 83, 131, FACETS}}, {{76, 90, 131, FACETS}}, {{77, 112, 162, FACETS}}, {{110, 126, 156, 160}}, {{126, 131, 160, FACETS}}},\n",
      "    VA {{{0, 82, 111, FACETS}}, {{0, 82, 133, 154}}, {{0, 94, 133, FACETS}}, {{0, 94, 158, FACETS}}, {{0, 111, 158, FACETS}}, {{0, 116, 154, FACETS}}, {{8, 38, 72, FACETS}}, {{8, 38, 125, FACETS}}, {{8, 45, 65, FACETS}}, {{8, 45, 151, FACETS}}, {{8, 65, 109, 125}}, {{8, 72, 120, 151}}, {{8, 109, 120, FACETS}}, {{11, 42, 76, FACETS}}, {{11, 42, 124, 130}}, {{11, 44, 59, FACETS}}, {{11, 44, 85, FACETS}}, {{11, 59, 76, FACETS}}, {{11, 85, 124, FACETS}}, {{13, 33, 46, FACETS}}, {{13, 46, 89, 159}}, {{13, 60, 159, FACETS}}, {{13, 77, 89, FACETS}}, {{19, 46, 89, FACETS}}, {{19, 46, 120, FACETS}}, {{19, 72, 85, FACETS}}, {{19, 72, 120, 158}}, {{19, 85, 124, FACETS}}, {{19, 89, 111, 124}}, {{19, 111, 158, FACETS}}, {{21, 33, 109, FACETS}}, {{21, 65, 109, 154}}, {{21, 65, 130, FACETS}}, {{21, 116, 154, FACETS}}, {{23, 42, 45, FACETS}}, {{23, 42, 76, 159}}, {{23, 45, 151, FACETS}}, {{23, 60, 159, FACETS}}, {{23, 76, 94, FACETS}}, {{23, 94, 151, FACETS}}, {{31, 38, 44, FACETS}}, {{31, 38, 125, FACETS}}, {{31, 44, 59, FACETS}}, {{31, 59, 133, FACETS}}, {{31, 77, 82, FACETS}}, {{31, 82, 125, 133}}, {{33, 46, 109, 120}}, {{33, 120, 126, FACETS}}, {{38, 44, 85, FACETS}}, {{38, 72, 85, FACETS}}, {{42, 45, 130, FACETS}}, {{42, 89, 124, FACETS}}, {{42, 89, 159, FACETS}}, {{45, 65, 130, FACETS}}, {{59, 76, 94, 133}}, {{59, 94, 126, FACETS}}, {{60, 116, FACETS, FACETS}}, {{65, 82, 125, 154}}, {{65, 109, 125, 154}}, {{72, 120, 151, 158}}, {{77, 82, 111, FACETS}}, {{77, 89, 111, FACETS}}, {{82, 125, 133, 154}}, {{94, 126, 151, 158}}, {{120, 126, 151, 158}}},\n",
      "    VA {{{2, 50, 82, 162}}, {{2, 50, 93, FACETS}}, {{2, 68, 82, FACETS}}, {{2, 68, 114, FACETS}}, {{2, 93, 98, FACETS}}, {{2, 98, 109, 114}}, {{2, 109, 162, FACETS}}, {{4, 38, 131, FACETS}}, {{4, 38, 150, FACETS}}, {{4, 67, 107, FACETS}}, {{4, 107, 119, FACETS}}, {{4, 119, 150, FACETS}}, {{10, 41, 69, FACETS}}, {{10, 51, 86, FACETS}}, {{10, 59, 69, FACETS}}, {{10, 59, 97, FACETS}}, {{10, 86, 97, FACETS}}, {{14, 32, 130, FACETS}}, {{14, 32, 151, FACETS}}, {{14, 47, 61, FACETS}}, {{14, 47, 91, FACETS}}, {{14, 61, 70, 151}}, {{14, 91, 130, FACETS}}, {{16, 86, 109, FACETS}}, {{16, 86, 150, FACETS}}, {{16, 91, 130, 162}}, {{16, 109, 162, FACETS}}, {{16, 119, 130, FACETS}}, {{16, 119, 150, FACETS}}, {{24, 41, 47, FACETS}}, {{24, 41, 69, FACETS}}, {{24, 47, 61, FACETS}}, {{24, 61, 98, 131}}, {{24, 69, 93, FACETS}}, {{24, 93, 98, FACETS}}, {{27, 32, 107, FACETS}}, {{27, 32, 151, FACETS}}, {{27, 51, 114, 151}}, {{27, 67, 68, FACETS}}, {{27, 67, 107, FACETS}}, {{27, 68, 114, FACETS}}, {{29, 38, 70, FACETS}}, {{29, 38, 97, FACETS}}, {{29, 50, 59, FACETS}}, {{29, 50, 82, FACETS}}, {{29, 59, 97, FACETS}}, {{32, 107, 119, FACETS}}, {{32, 119, 130, FACETS}}, {{38, 70, 131, FACETS}}, {{38, 86, 97, 150}}, {{41, 47, 91, FACETS}}, {{41, 91, 96, FACETS}}, {{50, 59, 93, FACETS}}, {{50, 130, 162, FACETS}}, {{51, 86, 109, FACETS}}, {{51, 109, 114, FACETS}}, {{59, 69, 93, FACETS}}, {{61, 70, 131, FACETS}}, {{61, 98, 114, FACETS}}, {{61, 114, 151, FACETS}}, {{67, 68, 82, FACETS}}, {{67, 82, 96, FACETS}}, {{69, 107, FACETS, FACETS}}, {{82, 96, 162, FACETS}}, {{91, 96, 162, FACETS}}},\n",
      "    VA {{{1, 51, 83, FACETS}}, {{1, 51, 95, FACETS}}, {{1, 69, 83, FACETS}}, {{1, 69, 115, FACETS}}, {{1, 95, 96, FACETS}}, {{1, 96, 115, FACETS}}, {{4, 39, 105, FACETS}}, {{4, 39, 157, FACETS}}, {{4, 66, 105, FACETS}}, {{4, 66, 133, FACETS}}, {{4, 118, 133, FACETS}}, {{4, 118, 157, FACETS}}, {{11, 43, 70, FACETS}}, {{11, 43, 132, FACETS}}, {{11, 47, 87, FACETS}}, {{11, 47, 152, FACETS}}, {{11, 57, 70, 152}}, {{11, 57, 98, FACETS}}, {{11, 87, 98, 132}}, {{15, 32, 110, FACETS}}, {{15, 32, 158, FACETS}}, {{15, 50, 62, 158}}, {{15, 50, 89, FACETS}}, {{15, 62, 68, FACETS}}, {{15, 89, 110, FACETS}}, {{16, 87, 132, FACETS}}, {{16, 87, 157, FACETS}}, {{16, 89, 110, FACETS}}, {{16, 89, 132, FACETS}}, {{16, 110, 118, FACETS}}, {{16, 118, 157, FACETS}}, {{23, 43, 50, FACETS}}, {{23, 43, 70, FACETS}}, {{23, 50, 62, FACETS}}, {{23, 62, 96, FACETS}}, {{23, 70, 95, FACETS}}, {{23, 95, 96, FACETS}}, {{28, 32, 133, 152}}, {{28, 32, 158, FACETS}}, {{28, 47, 115, FACETS}}, {{28, 47, 152, FACETS}}, {{28, 66, 69, FACETS}}, {{28, 66, 133, FACETS}}, {{28, 69, 115, 158}}, {{30, 39, 68, FACETS}}, {{30, 39, 98, 105}}, {{30, 51, 57, FACETS}}, {{30, 51, 83, FACETS}}, {{30, 57, 98, FACETS}}, {{30, 83, 105, FACETS}}, {{32, 110, 118, FACETS}}, {{32, 118, 133, FACETS}}, {{39, 87, 98, FACETS}}, {{39, 87, 157, FACETS}}, {{43, 50, 89, 132}}, {{43, 89, 97, FACETS}}, {{51, 57, 95, FACETS}}, {{51, 110, FACETS, FACETS}}, {{57, 70, 95, FACETS}}, {{62, 96, 115, FACETS}}, {{62, 115, 158, FACETS}}, {{66, 69, 83, 105}}, {{66, 83, 97, FACETS}}, {{70, 133, 152, FACETS}}, {{96, 157, FACETS, FACETS}}},\n",
      "    VA {{{3, 47, 81, FACETS}}, {{3, 47, 94, 153}}, {{3, 70, 81, FACETS}}, {{3, 70, 116, FACETS}}, {{3, 94, 97, 153}}, {{3, 97, 116, 137}}, {{3, 97, 137, 153}}, {{4, 37, 111, FACETS}}, {{4, 37, 135, FACETS}}, {{4, 65, 135, FACETS}}, {{4, 120, FACETS, FACETS}}, {{12, 42, 68, FACETS}}, {{12, 42, 108, FACETS}}, {{12, 50, 85, FACETS}}, {{12, 58, 68, FACETS}}, {{12, 58, 96, FACETS}}, {{12, 85, 96, 108}}, {{13, 32, 160, FACETS}}, {{13, 51, 63, 155}}, {{13, 51, 90, 155}}, {{13, 63, 69, 155}}, {{13, 69, 160, FACETS}}, {{16, 85, 108, FACETS}}, {{16, 85, 137, FACETS}}, {{16, 90, 108, FACETS}}, {{16, 120, 153, FACETS}}, {{16, 137, 153, FACETS}}, {{25, 42, 51, 155}}, {{25, 42, 68, FACETS}}, {{25, 51, 63, 155}}, {{25, 63, 97, 111}}, {{25, 63, 111, 155}}, {{25, 68, 94, FACETS}}, {{25, 94, 97, FACETS}}, {{26, 32, FACETS, FACETS}}, {{26, 50, 116, FACETS}}, {{26, 65, 70, FACETS}}, {{26, 70, 116, FACETS}}, {{31, 37, 69, FACETS}}, {{31, 37, 96, 135}}, {{31, 47, 58, 160}}, {{31, 47, 81, FACETS}}, {{31, 58, 96, FACETS}}, {{31, 69, 160, FACETS}}, {{31, 81, 135, FACETS}}, {{32, 120, FACETS, FACETS}}, {{37, 69, 111, FACETS}}, {{37, 85, 96, FACETS}}, {{42, 51, 90, 108}}, {{42, 51, 90, 155}}, {{42, 90, 98, 155}}, {{47, 58, 94, FACETS}}, {{50, 85, 137, FACETS}}, {{50, 116, 137, FACETS}}, {{58, 68, 94, FACETS}}, {{63, 69, 111, 155}}, {{63, 97, 116, FACETS}}, {{65, 70, 81, 135}}, {{65, 81, 98, FACETS}}},\n",
      "    VA {{{0, 82, 111, 140}}, {{0, 82, 111, 165}}, {{0, 82, 133, 165}}, {{0, 94, 133, 165}}, {{0, 94, 147, 158}}, {{0, 94, 158, 165}}, {{0, 111, 115, 140}}, {{0, 111, 115, 158}}, {{0, 111, 158, 165}}, {{0, 115, 147, 158}}, {{7, 39, 77, 98}}, {{7, 39, 77, 162}}, {{7, 51, 64, FACETS}}, {{7, 51, 117, FACETS}}, {{7, 64, 77, 162}}, {{7, 98, 117, FACETS}}, {{12, 41, 55, 126}}, {{12, 41, 110, 126}}, {{12, 55, 87, FACETS}}, {{12, 59, 99, 110}}, {{12, 59, 110, 126}}, {{12, 73, 87, FACETS}}, {{12, 73, 99, FACETS}}, {{14, 34, 70, 141}}, {{14, 48, 62, 104}}, {{14, 48, 141, FACETS}}, {{14, 62, 104, 137}}, {{14, 70, 88, FACETS}}, {{14, 88, 104, 137}}, {{17, 55, 87, 98}}, {{17, 55, 88, FACETS}}, {{17, 70, 88, FACETS}}, {{17, 70, 117, FACETS}}, {{17, 98, 117, FACETS}}, {{20, 41, 104, 137}}, {{20, 41, 110, 126}}, {{20, 41, 126, 137}}, {{20, 62, 104, 137}}, {{20, 62, 137, 158}}, {{20, 62, 147, 158}}, {{20, 94, 110, 126}}, {{20, 94, 126, 158}}, {{20, 94, 147, 158}}, {{20, 126, 137, 158}}, {{27, 34, 51, 99}}, {{27, 51, 64, FACETS}}, {{27, 64, 111, 140}}, {{27, 73, 99, FACETS}}, {{27, 73, 115, 140}}, {{27, 111, 115, 140}}, {{31, 39, 48, 162}}, {{31, 39, 77, 162}}, {{31, 48, 141, FACETS}}, {{31, 59, 133, 141}}, {{31, 59, 133, 165}}, {{31, 77, 82, 162}}, {{31, 77, 82, 165}}, {{31, 82, 133, 165}}, {{34, 51, 117, FACETS}}, {{34, 70, 117, FACETS}}, {{34, 99, 141, FACETS}}, {{39, 48, 122, FACETS}}, {{39, 87, 98, FACETS}}, {{39, 87, 122, FACETS}}, {{41, 55, 88, 137}}, {{41, 55, 126, 137}}, {{41, 88, 104, 137}}, {{48, 62, 122, FACETS}}, {{48, 104, 162, FACETS}}, {{51, 99, 110, FACETS}}, {{59, 94, 110, 126}}, {{59, 94, 126, 165}}, {{59, 94, 133, 165}}, {{59, 99, 141, FACETS}}, {{62, 115, 122, 147}}, {{62, 115, 147, 158}}, {{64, 77, 82, 111}}, {{64, 77, 82, 162}}, {{64, 82, 111, 140}}, {{70, 133, 141, FACETS}}, {{73, 87, 122, FACETS}}, {{73, 115, 122, FACETS}}, {{77, 82, 111, 165}}, {{94, 126, 158, 165}}},\n",
      "    VA {{{2, 50, 101, FACETS}}, {{2, 50, 116, 128}}, {{2, 73, 80, 159}}, {{2, 73, 95, 101}}, {{2, 73, 95, 159}}, {{2, 80, 110, 128}}, {{2, 80, 110, 159}}, {{2, 110, 116, 128}}, {{6, 34, 97, FACETS}}, {{6, 34, 125, FACETS}}, {{6, 63, 97, 111}}, {{6, 63, 111, 145}}, {{6, 63, 133, 145}}, {{6, 91, 125, 133}}, {{6, 91, 133, 145}}, {{7, 37, 46, FACETS}}, {{7, 37, 69, FACETS}}, {{7, 46, 67, 164}}, {{7, 67, 161, FACETS}}, {{7, 69, 143, 161}}, {{7, 119, 143, FACETS}}, {{7, 119, 164, FACETS}}, {{11, 40, 48, FACETS}}, {{11, 40, 75, FACETS}}, {{11, 48, 56, FACETS}}, {{11, 56, 147, FACETS}}, {{11, 75, 85, 147}}, {{11, 85, 137, FACETS}}, {{17, 50, 85, FACETS}}, {{17, 50, 101, FACETS}}, {{17, 75, 85, FACETS}}, {{17, 75, 91, 125}}, {{17, 101, 119, FACETS}}, {{17, 119, 125, FACETS}}, {{21, 34, 97, FACETS}}, {{21, 34, 164, FACETS}}, {{21, 67, 110, 128}}, {{21, 67, 110, 164}}, {{21, 97, 116, 137}}, {{21, 110, 116, 128}}, {{21, 116, 128, 137}}, {{24, 40, 48, 161}}, {{24, 40, 133, 145}}, {{24, 40, 145, 161}}, {{24, 48, 95, 143}}, {{24, 48, 143, 161}}, {{24, 63, 69, 145}}, {{24, 63, 133, 145}}, {{24, 69, 143, 161}}, {{24, 69, 145, 161}}, {{30, 37, 46, 147}}, {{30, 37, 111, FACETS}}, {{30, 46, 80, 159}}, {{30, 46, 147, 159}}, {{30, 56, 73, 159}}, {{30, 56, 147, 159}}, {{30, 73, 80, 159}}, {{34, 119, 125, 164}}, {{37, 69, 111, 168}}, {{37, 85, 147, FACETS}}, {{37, 85, 168, FACETS}}, {{40, 75, 91, 133}}, {{40, 91, 133, 145}}, {{46, 67, 80, 110}}, {{46, 67, 110, 164}}, {{46, 80, 110, 159}}, {{48, 56, 95, FACETS}}, {{50, 85, 137, 168}}, {{50, 116, 128, 137}}, {{50, 116, 137, 168}}, {{56, 73, 95, 159}}, {{63, 69, 111, 145}}, {{63, 69, 111, 168}}, {{63, 97, 111, 168}}, {{63, 97, 116, 168}}, {{67, 80, 110, 128}}, {{75, 91, 125, 133}}, {{95, 101, 143, FACETS}}, {{97, 116, 137, 168}}, {{101, 119, 143, FACETS}}},\n",
      "    VA {{{3, 49, 82, 125}}, {{3, 49, 97, FACETS}}, {{3, 76, 94, 97}}, {{3, 76, 113, FACETS}}, {{3, 82, 132, FACETS}}, {{3, 94, 132, FACETS}}, {{3, 113, 125, FACETS}}, {{4, 39, 101, FACETS}}, {{4, 39, 128, 134}}, {{4, 65, 101, 112}}, {{4, 112, 117, FACETS}}, {{4, 117, 134, FACETS}}, {{12, 40, 53, FACETS}}, {{12, 40, 71, FACETS}}, {{12, 53, 56, FACETS}}, {{12, 56, 108, 148}}, {{12, 71, 148, FACETS}}, {{12, 85, 108, FACETS}}, {{13, 33, 46, FACETS}}, {{13, 33, 69, FACETS}}, {{13, 46, 62, 139}}, {{13, 62, 160, FACETS}}, {{13, 69, 88, 160}}, {{18, 49, 88, FACETS}}, {{18, 49, 97, FACETS}}, {{18, 69, 88, FACETS}}, {{18, 69, 117, FACETS}}, {{18, 85, 134, FACETS}}, {{18, 97, 117, 134}}, {{22, 39, 101, FACETS}}, {{22, 39, 108, 139}}, {{22, 56, 108, FACETS}}, {{22, 56, 132, FACETS}}, {{22, 82, 101, 132}}, {{23, 40, 53, 160}}, {{23, 53, 94, FACETS}}, {{23, 62, 76, 128}}, {{23, 62, 160, FACETS}}, {{23, 76, 94, FACETS}}, {{27, 33, 46, 148}}, {{27, 33, 112, FACETS}}, {{27, 46, 113, FACETS}}, {{27, 65, 71, 125}}, {{27, 65, 112, FACETS}}, {{27, 71, 148, FACETS}}, {{27, 113, 125, FACETS}}, {{33, 69, 112, 117}}, {{39, 85, 108, FACETS}}, {{39, 85, 134, FACETS}}, {{39, 128, 139, FACETS}}, {{40, 88, 160, FACETS}}, {{46, 62, 113, FACETS}}, {{46, 108, 139, FACETS}}, {{46, 108, 148, FACETS}}, {{53, 56, 94, 132}}, {{53, 132, 141, FACETS}}, {{53, 141, 160, FACETS}}, {{62, 76, 113, FACETS}}, {{62, 128, 139, FACETS}}, {{65, 82, 101, FACETS}}, {{65, 82, 125, FACETS}}, {{69, 112, 141, FACETS}}, {{69, 141, 160, FACETS}}, {{76, 97, 134, FACETS}}, {{76, 128, 134, FACETS}}, {{101, 112, 141, FACETS}}, {{101, 132, 141, FACETS}}},\n",
      "    VA {{{0, 80, 112, FACETS}}, {{0, 80, 134, FACETS}}, {{0, 95, 134, FACETS}}, {{0, 95, 149, FACETS}}, {{0, 112, 149, 161}}, {{0, 113, 161, FACETS}}, {{8, 37, 71, 104}}, {{8, 50, 64, FACETS}}, {{8, 64, 108, FACETS}}, {{8, 71, 104, 119}}, {{8, 104, 108, 119}}, {{11, 43, 70, 167}}, {{11, 43, 132, 167}}, {{11, 49, 57, 98}}, {{11, 49, 57, 146}}, {{11, 49, 86, 146}}, {{11, 57, 70, 146}}, {{11, 57, 70, 167}}, {{11, 57, 98, 167}}, {{11, 98, 132, 167}}, {{13, 35, 52, 122}}, {{13, 52, 91, 122}}, {{13, 52, 91, 142}}, {{13, 63, 99, 142}}, {{13, 79, 91, 99}}, {{13, 79, 91, 122}}, {{13, 91, 99, 142}}, {{19, 52, 91, 122}}, {{19, 52, 104, 119}}, {{19, 52, 119, 122}}, {{19, 71, 86, 104}}, {{19, 71, 86, 161}}, {{19, 71, 104, 119}}, {{19, 71, 119, 149}}, {{19, 71, 149, 161}}, {{19, 91, 112, 122}}, {{19, 112, 122, 149}}, {{19, 112, 149, 161}}, {{19, 119, 122, 149}}, {{21, 35, 98, FACETS}}, {{21, 35, 108, FACETS}}, {{21, 64, 108, FACETS}}, {{21, 64, 132, FACETS}}, {{21, 98, 132, FACETS}}, {{21, 113, FACETS, FACETS}}, {{23, 43, 50, 99}}, {{23, 43, 50, 167}}, {{23, 43, 70, 142}}, {{23, 43, 70, 167}}, {{23, 43, 99, 142}}, {{23, 63, 99, 142}}, {{23, 70, 95, 167}}, {{31, 37, 49, 146}}, {{31, 49, 57, 146}}, {{31, 57, 134, 146}}, {{31, 79, 80, FACETS}}, {{31, 80, 134, FACETS}}, {{35, 52, 108, 119}}, {{35, 52, 119, 122}}, {{37, 49, 86, 126}}, {{37, 49, 86, 146}}, {{37, 71, 86, 104}}, {{37, 71, 86, 126}}, {{37, 86, 104, 146}}, {{43, 50, 132, 167}}, {{43, 91, 99, 142}}, {{50, 64, 132, FACETS}}, {{52, 104, 108, 119}}, {{57, 70, 95, 134}}, {{57, 70, 95, 167}}, {{57, 70, 134, 146}}, {{63, 113, 126, FACETS}}, {{64, 80, FACETS, FACETS}}, {{71, 86, 126, 161}}, {{79, 80, 112, FACETS}}, {{79, 91, 112, 122}}, {{113, 126, 161, FACETS}}},\n",
      "    VA {{{2, 45, 92, FACETS}}, {{2, 45, 113, FACETS}}, {{2, 71, 83, 124}}, {{2, 71, 92, FACETS}}, {{2, 83, 108, FACETS}}, {{2, 113, 124, FACETS}}, {{5, 41, 123, 134}}, {{5, 41, 134, 143}}, {{5, 59, 103, 112}}, {{5, 59, 123, FACETS}}, {{5, 87, 103, 112}}, {{5, 87, 143, FACETS}}, {{9, 38, 132, 140}}, {{9, 38, 132, 145}}, {{9, 49, 67, 158}}, {{9, 49, 120, 145}}, {{9, 49, 120, 158}}, {{9, 67, 78, 158}}, {{9, 78, 140, FACETS}}, {{9, 120, 132, 145}}, {{13, 32, 77, FACETS}}, {{13, 32, 168, FACETS}}, {{13, 51, 90, 168}}, {{13, 51, 129, FACETS}}, {{13, 61, 77, 129}}, {{16, 87, 132, 145}}, {{16, 87, 143, FACETS}}, {{16, 90, 108, 143}}, {{16, 90, 108, 168}}, {{16, 120, 132, 145}}, {{16, 120, 168, FACETS}}, {{23, 41, 78, 123}}, {{23, 45, 61, 140}}, {{23, 45, 92, FACETS}}, {{23, 78, 140, FACETS}}, {{23, 92, 123, FACETS}}, {{28, 32, 49, 158}}, {{28, 32, 77, FACETS}}, {{28, 49, 67, 124}}, {{28, 49, 67, 158}}, {{28, 67, 134, 158}}, {{28, 77, 113, FACETS}}, {{28, 113, 124, FACETS}}, {{30, 38, 103, 112}}, {{30, 38, 112, 129}}, {{30, 51, 83, FACETS}}, {{30, 51, 129, FACETS}}, {{30, 59, 71, 103}}, {{30, 59, 103, 112}}, {{30, 71, 83, FACETS}}, {{32, 49, 120, 158}}, {{32, 120, 168, FACETS}}, {{38, 87, 103, 112}}, {{38, 87, 103, 145}}, {{38, 87, 132, 145}}, {{38, 129, 140, FACETS}}, {{41, 78, 100, 134}}, {{41, 78, 123, 134}}, {{41, 90, 100, 143}}, {{41, 100, 134, 143}}, {{45, 61, 113, FACETS}}, {{45, 132, 140, FACETS}}, {{51, 83, 100, 108}}, {{51, 90, 100, 108}}, {{51, 90, 108, 168}}, {{59, 71, 92, FACETS}}, {{59, 92, 123, FACETS}}, {{61, 77, 113, FACETS}}, {{61, 129, 140, FACETS}}, {{67, 78, 100, 134}}, {{67, 78, 134, 158}}, {{67, 83, 100, FACETS}}, {{67, 83, 124, FACETS}}, {{77, 112, 129, FACETS}}, {{78, 123, 134, 158}}, {{90, 100, 108, 143}}},\n",
      "    VA {{{1, 52, 82, 123}}, {{1, 52, 116, 123}}, {{1, 52, 116, 141}}, {{1, 79, 94, 100}}, {{1, 79, 100, 116}}, {{1, 79, 116, 123}}, {{1, 100, 116, 141}}, {{6, 32, 107, FACETS}}, {{6, 62, 107, FACETS}}, {{6, 62, 124, 135}}, {{6, 88, 135, FACETS}}, {{9, 39, 75, 149}}, {{9, 39, 136, 149}}, {{9, 39, 136, 159}}, {{9, 47, 117, 159}}, {{9, 66, 75, 149}}, {{9, 117, 136, 159}}, {{12, 43, 109, FACETS}}, {{12, 43, 129, 138}}, {{12, 45, 57, 138}}, {{12, 45, 57, 164}}, {{12, 45, 86, 164}}, {{12, 57, 72, 129}}, {{12, 57, 72, 164}}, {{12, 57, 129, 138}}, {{12, 86, 109, FACETS}}, {{16, 86, 109, 141}}, {{16, 86, 136, 159}}, {{16, 86, 141, 159}}, {{16, 88, 109, FACETS}}, {{16, 117, 136, 159}}, {{24, 43, 129, 138}}, {{24, 43, 135, FACETS}}, {{24, 47, 94, 100}}, {{24, 47, 94, 129}}, {{24, 62, 79, 100}}, {{24, 62, 135, FACETS}}, {{24, 79, 94, 100}}, {{24, 79, 94, 138}}, {{24, 94, 129, 138}}, {{27, 32, 72, FACETS}}, {{27, 32, 107, FACETS}}, {{27, 52, 66, 123}}, {{27, 52, 116, 123}}, {{27, 107, 116, 123}}, {{29, 39, 45, 149}}, {{29, 39, 45, 164}}, {{29, 39, 75, 124}}, {{29, 39, 75, 149}}, {{29, 39, 124, 164}}, {{29, 45, 57, 164}}, {{29, 75, 82, 149}}, {{32, 117, FACETS, FACETS}}, {{39, 45, 86, 136}}, {{39, 45, 86, 164}}, {{39, 45, 136, 149}}, {{39, 86, 136, 159}}, {{43, 88, 103, 109}}, {{43, 88, 103, 135}}, {{47, 100, 159, FACETS}}, {{52, 66, 82, 103}}, {{52, 66, 82, 123}}, {{52, 103, 109, FACETS}}, {{52, 109, 141, FACETS}}, {{57, 94, 129, 138}}, {{62, 79, 100, 116}}, {{62, 79, 107, 116}}, {{66, 75, 82, 103}}, {{66, 75, 82, 149}}, {{66, 82, 123, 149}}, {{75, 103, 135, FACETS}}, {{75, 124, 135, FACETS}}, {{79, 107, 116, 123}}, {{100, 141, 159, FACETS}}},\n",
      "    VA {{{1, 46, 92, FACETS}}, {{1, 69, 83, 167}}, {{1, 69, 115, 167}}, {{5, 40, 107, FACETS}}, {{5, 56, 135, FACETS}}, {{5, 85, 107, 142}}, {{5, 135, 142, FACETS}}, {{8, 38, 55, 97}}, {{8, 38, 55, 125}}, {{8, 38, 72, 97}}, {{8, 38, 72, 165}}, {{8, 38, 125, 165}}, {{8, 55, 66, 97}}, {{8, 72, 120, 165}}, {{8, 109, 120, 165}}, {{8, 109, 125, 165}}, {{14, 35, 47, 101}}, {{14, 35, 47, 128}}, {{14, 35, 78, 101}}, {{14, 35, 78, 138}}, {{14, 35, 128, 138}}, {{14, 47, 61, 101}}, {{14, 61, 136, FACETS}}, {{14, 90, 128, 138}}, {{14, 90, 136, FACETS}}, {{19, 46, 120, 138}}, {{19, 46, 120, 165}}, {{19, 72, 85, 165}}, {{19, 72, 120, 128}}, {{19, 72, 120, 165}}, {{19, 85, 107, FACETS}}, {{19, 90, 107, FACETS}}, {{19, 90, 128, 138}}, {{19, 120, 128, 138}}, {{20, 40, 136, FACETS}}, {{20, 61, 125, 136}}, {{20, 92, 109, FACETS}}, {{20, 109, 125, FACETS}}, {{28, 35, 47, 101}}, {{28, 35, 101, 135}}, {{28, 47, 101, 115}}, {{28, 47, 115, 167}}, {{28, 66, 69, 167}}, {{28, 69, 115, 142}}, {{28, 69, 115, 167}}, {{28, 101, 115, 142}}, {{28, 101, 135, 142}}, {{29, 38, 55, 97}}, {{29, 55, 83, 97}}, {{29, 56, 78, FACETS}}, {{35, 78, 101, 135}}, {{35, 78, 135, 162}}, {{35, 78, 138, 162}}, {{35, 120, 128, 138}}, {{35, 120, 138, 162}}, {{38, 72, 85, 165}}, {{40, 90, 107, 146}}, {{40, 90, 136, 146}}, {{46, 92, 109, 162}}, {{46, 109, 120, 162}}, {{46, 109, 120, 165}}, {{46, 120, 138, 162}}, {{47, 61, 101, 115}}, {{55, 66, 83, 97}}, {{55, 66, 83, 146}}, {{55, 125, 136, FACETS}}, {{55, 136, 146, FACETS}}, {{56, 78, 135, 162}}, {{56, 92, 162, FACETS}}, {{66, 69, 83, 146}}, {{66, 69, 83, 167}}, {{66, 83, 97, 167}}, {{69, 107, 142, FACETS}}, {{69, 107, 146, FACETS}}},\n",
      "    VA {{{0, 80, 112, FACETS}}, {{0, 93, 112, 164}}, {{0, 93, 148, FACETS}}, {{0, 116, 131, FACETS}}, {{0, 116, 148, FACETS}}, {{0, 131, 164, FACETS}}, {{8, 36, 73, FACETS}}, {{8, 36, 109, FACETS}}, {{8, 55, 66, 175}}, {{8, 55, 119, 125}}, {{8, 55, 125, 175}}, {{8, 66, 73, FACETS}}, {{8, 109, 125, 175}}, {{11, 40, 48, FACETS}}, {{11, 40, 136, 146}}, {{11, 48, 84, FACETS}}, {{11, 59, 136, FACETS}}, {{11, 70, 84, FACETS}}, {{11, 70, 146, FACETS}}, {{13, 32, 77, 173}}, {{13, 32, 168, 173}}, {{13, 51, 63, 168}}, {{13, 51, 129, 173}}, {{13, 51, 168, 173}}, {{13, 77, 89, 129}}, {{13, 77, 129, 173}}, {{18, 48, 84, FACETS}}, {{18, 48, 89, FACETS}}, {{18, 77, 89, FACETS}}, {{18, 77, 119, 164}}, {{18, 84, 131, FACETS}}, {{18, 131, 164, FACETS}}, {{20, 40, 136, 175}}, {{20, 63, 109, FACETS}}, {{20, 63, 148, FACETS}}, {{20, 93, 125, 136}}, {{20, 93, 148, FACETS}}, {{20, 109, 125, 175}}, {{20, 125, 136, 175}}, {{26, 32, 55, FACETS}}, {{26, 32, 168, FACETS}}, {{26, 55, 66, 146}}, {{26, 70, 116, 168}}, {{26, 70, 146, FACETS}}, {{30, 36, 51, FACETS}}, {{30, 36, 73, FACETS}}, {{30, 51, 129, 173}}, {{30, 59, 112, 173}}, {{30, 73, 80, FACETS}}, {{30, 80, 112, 129}}, {{30, 112, 129, 173}}, {{32, 55, 119, FACETS}}, {{32, 77, 119, FACETS}}, {{36, 51, 109, FACETS}}, {{36, 84, FACETS, FACETS}}, {{40, 48, 89, FACETS}}, {{40, 136, 146, 175}}, {{48, 121, FACETS, FACETS}}, {{51, 63, 109, FACETS}}, {{55, 66, 146, 175}}, {{55, 125, 136, 175}}, {{55, 136, 146, 175}}, {{59, 93, 112, FACETS}}, {{59, 93, 136, FACETS}}, {{63, 116, 148, FACETS}}, {{63, 116, 168, FACETS}}, {{66, 73, 80, FACETS}}, {{70, 84, 131, FACETS}}, {{70, 116, 131, FACETS}}, {{73, 121, FACETS, FACETS}}, {{77, 112, 129, 173}}, {{77, 112, 164, FACETS}}, {{93, 125, 164, FACETS}}, {{119, 125, 164, FACETS}}, {{121, 148, FACETS, FACETS}}},\n",
      "    VA {{{3, 48, 83, FACETS}}, {{3, 48, 95, 143}}, {{3, 76, 83, FACETS}}, {{3, 76, 113, FACETS}}, {{3, 113, 136, FACETS}}, {{3, 136, 143, FACETS}}, {{4, 38, 112, 150}}, {{4, 38, 131, 166}}, {{4, 38, 150, 166}}, {{4, 64, 131, FACETS}}, {{4, 101, 112, 150}}, {{4, 101, 119, 150}}, {{4, 119, 150, 166}}, {{12, 43, 73, 138}}, {{12, 43, 73, 154}}, {{12, 43, 109, 154}}, {{12, 43, 109, 174}}, {{12, 43, 138, 174}}, {{12, 45, 86, 148}}, {{12, 45, 86, 174}}, {{12, 45, 138, 174}}, {{12, 56, 73, 154}}, {{12, 56, 148, FACETS}}, {{12, 86, 109, 174}}, {{13, 34, FACETS, FACETS}}, {{13, 54, 60, FACETS}}, {{13, 54, 88, FACETS}}, {{13, 60, 74, FACETS}}, {{13, 74, 102, FACETS}}, {{13, 88, 102, FACETS}}, {{16, 86, 109, 166}}, {{16, 86, 109, 174}}, {{16, 86, 136, 150}}, {{16, 86, 136, 174}}, {{16, 86, 150, 166}}, {{16, 88, 109, 174}}, {{16, 119, 143, 150}}, {{16, 119, 150, 166}}, {{16, 136, 143, 150}}, {{25, 43, 54, 154}}, {{25, 43, 73, 154}}, {{25, 54, 60, FACETS}}, {{25, 60, 112, FACETS}}, {{25, 73, 95, 101}}, {{25, 73, 95, 154}}, {{25, 101, 112, FACETS}}, {{26, 34, FACETS, FACETS}}, {{26, 45, 113, FACETS}}, {{26, 45, 138, FACETS}}, {{26, 64, 76, FACETS}}, {{26, 64, 138, FACETS}}, {{26, 76, 113, FACETS}}, {{31, 38, 74, 148}}, {{31, 38, 131, FACETS}}, {{31, 48, 56, FACETS}}, {{31, 48, 83, 102}}, {{31, 56, 148, FACETS}}, {{31, 74, 102, FACETS}}, {{31, 83, 131, FACETS}}, {{34, 119, 170, FACETS}}, {{38, 74, 112, FACETS}}, {{38, 86, 148, FACETS}}, {{38, 86, 150, 166}}, {{43, 54, 88, 109}}, {{43, 54, 109, 154}}, {{43, 88, 109, 174}}, {{45, 86, 136, 174}}, {{45, 113, 136, FACETS}}, {{48, 56, 95, 170}}, {{48, 95, 143, 170}}, {{54, 98, 109, 154}}, {{56, 73, 95, 154}}, {{56, 73, 95, 170}}, {{60, 74, 112, FACETS}}, {{60, 113, FACETS, FACETS}}, {{64, 76, 83, 131}}, {{73, 95, 101, 170}}, {{76, 98, 131, FACETS}}, {{95, 101, 143, 170}}, {{98, 109, 166, FACETS}}, {{98, 131, 166, FACETS}}, {{101, 119, 143, 150}}, {{101, 119, 143, 170}}},\n",
      "    VA {{{0, 81, 135, FACETS}}, {{0, 81, 163, FACETS}}, {{0, 92, 111, 155}}, {{0, 111, 115, 140}}, {{0, 111, 115, 155}}, {{0, 115, 155, 163}}, {{0, 135, 140, FACETS}}, {{7, 36, 79, FACETS}}, {{7, 36, 143, FACETS}}, {{7, 52, 66, 143}}, {{7, 52, 121, FACETS}}, {{7, 79, 120, 121}}, {{12, 40, 71, 171}}, {{12, 40, 106, FACETS}}, {{12, 50, 59, FACETS}}, {{12, 50, 85, 129}}, {{12, 59, 71, FACETS}}, {{12, 85, 171, FACETS}}, {{12, 106, 129, FACETS}}, {{14, 32, 49, 151}}, {{14, 32, 130, 166}}, {{14, 32, 151, 166}}, {{14, 49, 88, 151}}, {{14, 63, 130, FACETS}}, {{14, 70, 88, 151}}, {{14, 70, 151, 166}}, {{18, 49, 88, 151}}, {{18, 49, 88, 171}}, {{18, 49, 120, 151}}, {{18, 79, 85, 140}}, {{18, 79, 120, FACETS}}, {{18, 85, 171, FACETS}}, {{18, 88, 135, 151}}, {{18, 135, 140, FACETS}}, {{21, 32, 130, FACETS}}, {{21, 66, 106, FACETS}}, {{21, 66, 163, FACETS}}, {{21, 106, 129, FACETS}}, {{21, 115, 129, 130}}, {{21, 115, 163, FACETS}}, {{25, 40, 52, FACETS}}, {{25, 40, 71, FACETS}}, {{25, 52, 121, FACETS}}, {{25, 63, 111, 155}}, {{25, 71, 92, 155}}, {{25, 92, 111, 121}}, {{25, 92, 111, 155}}, {{29, 36, 50, FACETS}}, {{29, 36, 143, FACETS}}, {{29, 50, 59, 166}}, {{29, 70, 81, 143}}, {{29, 70, 166, FACETS}}, {{32, 49, 120, 151}}, {{36, 50, 85, FACETS}}, {{36, 79, 85, FACETS}}, {{40, 52, 106, FACETS}}, {{40, 88, 171, FACETS}}, {{49, 125, 171, FACETS}}, {{50, 129, 130, FACETS}}, {{50, 130, 166, FACETS}}, {{52, 66, 106, FACETS}}, {{59, 71, 92, FACETS}}, {{63, 111, 115, 155}}, {{63, 115, 130, FACETS}}, {{66, 81, 143, FACETS}}, {{66, 81, 163, FACETS}}, {{70, 81, 135, FACETS}}, {{70, 88, 135, 151}}, {{71, 125, 155, FACETS}}, {{71, 125, 171, FACETS}}, {{79, 111, 121, FACETS}}, {{79, 111, 140, FACETS}}, {{85, 129, 140, FACETS}}, {{115, 129, 140, FACETS}}, {{125, 155, 163, FACETS}}},\n",
      "    VA {{{3, 49, 93, FACETS}}, {{3, 49, 116, 144}}, {{3, 78, 80, FACETS}}, {{3, 78, 93, FACETS}}, {{3, 80, 130, FACETS}}, {{3, 130, 144, FACETS}}, {{5, 43, 111, FACETS}}, {{5, 43, 135, 142}}, {{5, 56, 135, 175}}, {{5, 85, 102, FACETS}}, {{5, 85, 142, 175}}, {{5, 102, 111, FACETS}}, {{5, 135, 142, 175}}, {{7, 38, 152, FACETS}}, {{7, 51, 64, 169}}, {{7, 51, 117, 169}}, {{7, 64, 77, 152}}, {{7, 64, 77, 169}}, {{7, 77, 98, 169}}, {{7, 98, 117, 169}}, {{15, 34, 71, 149}}, {{15, 34, 106, FACETS}}, {{15, 45, 91, 163}}, {{15, 45, 149, FACETS}}, {{15, 60, 71, FACETS}}, {{15, 60, 163, FACETS}}, {{15, 91, 106, FACETS}}, {{16, 85, 142, FACETS}}, {{16, 85, 144, FACETS}}, {{16, 91, 106, 142}}, {{16, 91, 130, FACETS}}, {{16, 106, 117, FACETS}}, {{16, 130, 144, FACETS}}, {{24, 43, 77, 163}}, {{24, 43, 135, FACETS}}, {{24, 49, 60, FACETS}}, {{24, 49, 93, 98}}, {{24, 60, 163, FACETS}}, {{24, 77, 98, FACETS}}, {{24, 93, 135, FACETS}}, {{27, 34, 51, 169}}, {{27, 34, 71, FACETS}}, {{27, 51, 64, 169}}, {{27, 64, 111, 169}}, {{27, 71, 102, 116}}, {{27, 102, 111, FACETS}}, {{29, 38, 152, FACETS}}, {{29, 38, 175, FACETS}}, {{29, 45, 80, 152}}, {{29, 45, 149, FACETS}}, {{29, 56, 78, 175}}, {{29, 56, 149, FACETS}}, {{29, 78, 80, FACETS}}, {{34, 51, 106, 117}}, {{34, 51, 117, 169}}, {{38, 85, 175, FACETS}}, {{43, 77, 111, FACETS}}, {{43, 91, 142, FACETS}}, {{43, 91, 163, FACETS}}, {{45, 80, 130, FACETS}}, {{45, 91, 130, FACETS}}, {{45, 152, 163, FACETS}}, {{49, 60, 116, FACETS}}, {{51, 101, 106, FACETS}}, {{56, 78, 93, 135}}, {{56, 78, 135, 175}}, {{60, 71, 116, FACETS}}, {{64, 77, 111, 169}}, {{64, 80, 152, FACETS}}, {{77, 152, 163, FACETS}}, {{78, 101, 135, 175}}, {{85, 102, 144, FACETS}}, {{101, 106, 142, FACETS}}, {{101, 135, 142, 175}}, {{102, 116, 144, FACETS}}},\n",
      "    VA {{{3, 47, 81, 168}}, {{3, 47, 115, 153}}, {{3, 47, 153, 168}}, {{3, 75, 92, FACETS}}, {{3, 75, 115, FACETS}}, {{3, 92, 137, FACETS}}, {{3, 137, 153, 168}}, {{6, 34, 105, FACETS}}, {{6, 34, 134, 146}}, {{6, 60, 134, FACETS}}, {{6, 90, 98, FACETS}}, {{6, 90, 146, FACETS}}, {{6, 98, 105, FACETS}}, {{8, 38, 72, 165}}, {{8, 38, 110, FACETS}}, {{8, 45, 118, 139}}, {{8, 45, 139, 151}}, {{8, 45, 151, 165}}, {{8, 64, 72, 151}}, {{8, 64, 139, 151}}, {{8, 72, 151, 165}}, {{8, 110, 118, FACETS}}, {{10, 43, FACETS, FACETS}}, {{10, 52, 56, FACETS}}, {{10, 52, 84, FACETS}}, {{10, 56, 79, FACETS}}, {{10, 79, 101, FACETS}}, {{10, 84, 101, FACETS}}, {{16, 84, 110, FACETS}}, {{16, 84, 153, FACETS}}, {{16, 90, 146, FACETS}}, {{16, 90, 168, FACETS}}, {{16, 110, 118, 146}}, {{16, 118, 137, FACETS}}, {{16, 137, 153, 168}}, {{23, 43, 151, FACETS}}, {{23, 45, 92, FACETS}}, {{23, 45, 151, 165}}, {{23, 60, 75, FACETS}}, {{23, 60, 165, FACETS}}, {{23, 75, 92, FACETS}}, {{28, 34, 79, 139}}, {{28, 34, 134, FACETS}}, {{28, 47, 64, FACETS}}, {{28, 47, 101, 115}}, {{28, 64, 139, FACETS}}, {{28, 79, 101, FACETS}}, {{28, 115, 134, FACETS}}, {{30, 38, 52, FACETS}}, {{30, 38, 72, FACETS}}, {{30, 52, 56, FACETS}}, {{30, 56, 105, FACETS}}, {{30, 72, 81, 98}}, {{30, 98, 105, FACETS}}, {{34, 79, 105, FACETS}}, {{34, 118, 139, FACETS}}, {{34, 118, 146, FACETS}}, {{38, 52, 84, 110}}, {{43, 90, FACETS, FACETS}}, {{45, 92, 137, FACETS}}, {{45, 118, 137, FACETS}}, {{47, 64, 81, FACETS}}, {{47, 101, 115, 153}}, {{52, 102, 110, FACETS}}, {{56, 79, 105, FACETS}}, {{56, 92, FACETS, FACETS}}, {{60, 75, 115, 134}}, {{64, 72, 81, FACETS}}, {{75, 102, 134, FACETS}}, {{81, 98, 168, FACETS}}, {{84, 101, 153, FACETS}}, {{90, 98, 168, FACETS}}, {{102, 110, 146, FACETS}}, {{102, 134, 146, FACETS}}},\n",
      "    VA {{{0, 83, 105, 147}}, {{0, 83, 139, FACETS}}, {{0, 95, 134, 172}}, {{0, 95, 139, FACETS}}, {{0, 105, 113, FACETS}}, {{0, 113, 172, FACETS}}, {{0, 134, 147, FACETS}}, {{9, 36, 47, FACETS}}, {{9, 36, 137, 142}}, {{9, 47, 117, 174}}, {{9, 66, 137, FACETS}}, {{9, 66, 174, FACETS}}, {{9, 70, 117, FACETS}}, {{9, 70, 142, FACETS}}, {{10, 40, 74, FACETS}}, {{10, 40, 144, FACETS}}, {{10, 54, 59, 144}}, {{10, 54, 125, FACETS}}, {{10, 74, 87, 125}}, {{15, 32, 72, FACETS}}, {{15, 32, 110, FACETS}}, {{15, 53, 63, 150}}, {{15, 53, 90, 121}}, {{15, 53, 90, 150}}, {{15, 63, 72, 150}}, {{15, 110, 121, FACETS}}, {{18, 47, 87, FACETS}}, {{18, 47, 117, FACETS}}, {{18, 74, 87, FACETS}}, {{18, 74, 90, 147}}, {{18, 117, 134, FACETS}}, {{18, 134, 147, FACETS}}, {{22, 36, 137, FACETS}}, {{22, 59, 110, FACETS}}, {{22, 59, 139, FACETS}}, {{22, 83, 121, 137}}, {{22, 83, 139, FACETS}}, {{22, 110, 121, FACETS}}, {{23, 40, 53, 150}}, {{23, 40, 144, FACETS}}, {{23, 53, 63, 142}}, {{23, 53, 63, 150}}, {{23, 63, 142, 172}}, {{23, 70, 95, 144}}, {{23, 70, 95, 172}}, {{23, 70, 142, 172}}, {{27, 32, 54, FACETS}}, {{27, 32, 72, 174}}, {{27, 54, 125, FACETS}}, {{27, 66, 105, FACETS}}, {{27, 66, 174, FACETS}}, {{27, 72, 113, FACETS}}, {{27, 105, 113, 125}}, {{32, 54, 110, 156}}, {{32, 117, 156, FACETS}}, {{32, 117, 174, FACETS}}, {{36, 47, 87, FACETS}}, {{40, 53, 90, 150}}, {{40, 74, 90, FACETS}}, {{47, 129, 174, FACETS}}, {{53, 121, 137, FACETS}}, {{53, 137, 142, FACETS}}, {{54, 59, 110, 156}}, {{54, 59, 144, 156}}, {{59, 95, 139, FACETS}}, {{59, 95, 144, 156}}, {{63, 72, 113, FACETS}}, {{63, 113, 172, FACETS}}, {{66, 83, 105, FACETS}}, {{66, 83, 137, FACETS}}, {{70, 95, 134, 156}}, {{70, 95, 134, 172}}, {{70, 95, 144, 156}}, {{70, 117, 134, 156}}, {{72, 129, 150, FACETS}}, {{72, 129, 174, FACETS}}, {{74, 105, 125, FACETS}}, {{74, 105, 147, FACETS}}, {{83, 121, 147, FACETS}}, {{90, 121, 147, FACETS}}, {{129, 139, FACETS, FACETS}}},\n",
      "    VA {{{2, 53, 81, 122}}, {{2, 53, 81, 157}}, {{2, 53, 115, 122}}, {{2, 53, 115, 142}}, {{2, 53, 142, 157}}, {{2, 73, 95, 101}}, {{2, 73, 101, 115}}, {{2, 73, 115, 122}}, {{2, 95, 101, 106}}, {{2, 101, 106, 142}}, {{2, 101, 115, 142}}, {{2, 106, 142, 157}}, {{6, 32, 133, FACETS}}, {{6, 32, 174, FACETS}}, {{6, 61, 105, 125}}, {{6, 88, 105, FACETS}}, {{6, 88, 174, FACETS}}, {{6, 125, 133, FACETS}}, {{7, 38, 74, 148}}, {{7, 38, 179, FACETS}}, {{7, 51, 117, 161}}, {{7, 51, 117, 179}}, {{7, 67, 74, 148}}, {{7, 67, 161, FACETS}}, {{11, 41, 127, 139}}, {{11, 41, 137, FACETS}}, {{11, 44, 59, 139}}, {{11, 44, 59, 165}}, {{11, 44, 85, 165}}, {{11, 59, 76, 127}}, {{11, 59, 76, 165}}, {{11, 59, 127, 139}}, {{11, 85, 137, FACETS}}, {{16, 85, 137, 142}}, {{16, 85, 142, 179}}, {{16, 88, 137, 157}}, {{16, 88, 174, FACETS}}, {{16, 106, 117, 179}}, {{16, 106, 142, 157}}, {{16, 106, 142, 179}}, {{16, 117, 174, FACETS}}, {{16, 137, 142, 157}}, {{25, 41, 105, FACETS}}, {{25, 41, 127, 139}}, {{25, 51, 95, 101}}, {{25, 51, 95, 127}}, {{25, 61, 73, 101}}, {{25, 61, 105, FACETS}}, {{25, 73, 95, 101}}, {{25, 73, 95, 139}}, {{25, 95, 127, 139}}, {{26, 32, 76, 161}}, {{26, 53, 67, 122}}, {{26, 53, 115, 122}}, {{26, 67, 161, FACETS}}, {{31, 38, 44, 148}}, {{31, 38, 44, 165}}, {{31, 38, 74, 125}}, {{31, 38, 74, 148}}, {{31, 38, 125, 165}}, {{31, 44, 59, 165}}, {{31, 59, 133, 165}}, {{31, 74, 81, 148}}, {{31, 125, 133, 165}}, {{32, 76, 133, FACETS}}, {{32, 117, 161, FACETS}}, {{32, 117, 174, FACETS}}, {{38, 44, 85, 165}}, {{38, 85, 165, 175}}, {{38, 85, 175, 179}}, {{38, 125, 165, 175}}, {{41, 88, 104, 105}}, {{41, 88, 104, 137}}, {{51, 95, 101, 106}}, {{51, 101, 106, 179}}, {{51, 106, 117, 179}}, {{51, 127, 161, FACETS}}, {{53, 67, 81, 104}}, {{53, 67, 81, 122}}, {{53, 81, 104, 157}}, {{53, 104, 137, 157}}, {{53, 137, 142, 157}}, {{59, 76, 133, 165}}, {{59, 95, 127, 139}}, {{61, 73, 101, 115}}, {{61, 101, 115, 175}}, {{61, 125, 175, FACETS}}, {{67, 74, 81, 104}}, {{67, 74, 81, 148}}, {{67, 81, 122, 148}}, {{74, 104, 105, FACETS}}, {{74, 105, 125, FACETS}}, {{76, 127, 161, FACETS}}, {{85, 142, 175, 179}}, {{88, 104, 137, 157}}, {{101, 106, 142, 179}}, {{101, 115, 142, 175}}, {{101, 142, 175, 179}}},\n",
      "    VA {{{3, 44, 92, FACETS}}, {{3, 70, 81, 168}}, {{3, 70, 116, 168}}, {{3, 81, 168, 180}}, {{3, 92, 137, 180}}, {{3, 116, 137, 168}}, {{3, 137, 168, 180}}, {{5, 40, 133, FACETS}}, {{5, 40, 175, FACETS}}, {{5, 56, 105, 159}}, {{5, 56, 175, FACETS}}, {{5, 86, 105, 159}}, {{5, 86, 133, 141}}, {{5, 86, 141, 159}}, {{7, 39, 54, 98}}, {{7, 39, 54, 124}}, {{7, 39, 77, 98}}, {{7, 39, 77, 164}}, {{7, 39, 124, 164}}, {{7, 54, 65, 98}}, {{7, 77, 119, 164}}, {{15, 33, 50, 100}}, {{15, 33, 50, 127}}, {{15, 33, 73, 100}}, {{15, 33, 73, 140}}, {{15, 33, 127, 140}}, {{15, 50, 62, 100}}, {{15, 50, 62, 158}}, {{15, 50, 127, 158}}, {{15, 62, 106, 158}}, {{15, 91, 106, 158}}, {{15, 91, 127, 140}}, {{15, 91, 127, 158}}, {{18, 44, 119, 140}}, {{18, 44, 119, 164}}, {{18, 77, 86, 164}}, {{18, 77, 119, 127}}, {{18, 77, 119, 164}}, {{18, 86, 133, FACETS}}, {{18, 91, 127, 140}}, {{18, 91, 133, FACETS}}, {{18, 119, 127, 140}}, {{20, 40, 106, 158}}, {{20, 40, 175, FACETS}}, {{20, 62, 106, 124}}, {{20, 62, 106, 158}}, {{20, 62, 137, 158}}, {{20, 92, 137, FACETS}}, {{20, 92, 175, FACETS}}, {{26, 33, 50, 100}}, {{26, 50, 100, 116}}, {{26, 50, 116, 168}}, {{26, 65, 70, 168}}, {{26, 70, 116, 141}}, {{26, 70, 116, 168}}, {{26, 100, 116, 141}}, {{30, 39, 54, 98}}, {{30, 39, 98, 105}}, {{30, 39, 105, 159}}, {{30, 54, 81, 98}}, {{30, 56, 73, 159}}, {{30, 56, 105, 159}}, {{30, 56, 105, 180}}, {{30, 81, 98, 180}}, {{30, 98, 105, 180}}, {{33, 119, 127, 140}}, {{39, 77, 86, 105}}, {{39, 77, 86, 164}}, {{39, 77, 98, 105}}, {{39, 86, 105, 159}}, {{39, 86, 159, 174}}, {{39, 86, 164, 174}}, {{39, 124, 164, 174}}, {{40, 91, 106, 145}}, {{40, 91, 106, 158}}, {{40, 91, 133, 145}}, {{50, 62, 100, 116}}, {{50, 62, 116, 137}}, {{50, 62, 137, 158}}, {{50, 116, 137, 168}}, {{54, 65, 81, 98}}, {{54, 65, 81, 145}}, {{54, 106, 124, FACETS}}, {{54, 106, 145, FACETS}}, {{56, 92, 175, FACETS}}, {{56, 92, 180, FACETS}}, {{62, 100, 116, 174}}, {{62, 124, 174, FACETS}}, {{65, 70, 81, 145}}, {{65, 70, 81, 168}}, {{65, 81, 98, 168}}, {{70, 133, 141, FACETS}}, {{70, 133, 145, FACETS}}, {{73, 100, 159, FACETS}}, {{81, 98, 168, 180}}, {{86, 141, 159, 174}}, {{100, 116, 141, 174}}, {{100, 141, 159, 174}}},\n",
      "    VA {{{0, 82, 111, 165}}, {{0, 82, 154, 165}}, {{0, 92, 111, FACETS}}, {{0, 92, 131, FACETS}}, {{0, 116, 131, 139}}, {{0, 116, 139, 154}}, {{0, 116, 154, 165}}, {{9, 36, 78, FACETS}}, {{9, 36, 142, FACETS}}, {{9, 48, 65, 142}}, {{9, 48, 122, FACETS}}, {{9, 65, 130, FACETS}}, {{9, 78, 119, 122}}, {{9, 119, 130, FACETS}}, {{10, 40, 74, FACETS}}, {{10, 51, 57, FACETS}}, {{10, 51, 86, 128}}, {{10, 57, 74, FACETS}}, {{15, 32, 55, FACETS}}, {{15, 32, 110, 167}}, {{15, 55, 88, 153}}, {{15, 61, 110, FACETS}}, {{15, 61, 153, FACETS}}, {{15, 68, 88, FACETS}}, {{15, 68, 167, FACETS}}, {{17, 55, 88, FACETS}}, {{17, 55, 119, FACETS}}, {{17, 78, 86, 139}}, {{17, 78, 119, FACETS}}, {{21, 32, 110, FACETS}}, {{21, 32, 130, FACETS}}, {{21, 65, 130, 165}}, {{21, 65, 154, 165}}, {{21, 110, 116, 128}}, {{21, 116, 128, 154}}, {{21, 116, 154, 165}}, {{24, 40, 48, FACETS}}, {{24, 40, 74, 153}}, {{24, 48, 122, FACETS}}, {{24, 61, 131, FACETS}}, {{24, 61, 153, FACETS}}, {{24, 74, 92, FACETS}}, {{24, 92, 122, 131}}, {{30, 36, 51, FACETS}}, {{30, 36, 142, FACETS}}, {{30, 51, 57, 167}}, {{30, 57, 111, FACETS}}, {{30, 68, 82, 142}}, {{30, 68, 167, FACETS}}, {{30, 82, 111, FACETS}}, {{32, 55, 119, 130}}, {{32, 119, 152, FACETS}}, {{32, 152, 167, FACETS}}, {{36, 51, 86, FACETS}}, {{36, 78, 86, FACETS}}, {{40, 88, 153, FACETS}}, {{51, 110, 128, FACETS}}, {{51, 110, 167, FACETS}}, {{55, 124, 130, FACETS}}, {{55, 124, 153, FACETS}}, {{57, 74, 92, 111}}, {{57, 92, 152, FACETS}}, {{57, 152, 167, FACETS}}, {{61, 110, 116, FACETS}}, {{61, 116, 131, FACETS}}, {{65, 82, 142, FACETS}}, {{65, 82, 154, 165}}, {{74, 111, 124, FACETS}}, {{74, 124, 153, FACETS}}, {{78, 122, 131, FACETS}}, {{78, 131, 139, FACETS}}, {{86, 128, 139, FACETS}}, {{92, 122, 152, FACETS}}, {{111, 124, 165, FACETS}}, {{116, 128, 139, 154}}, {{119, 122, 152, FACETS}}, {{124, 130, 165, FACETS}}},\n",
      "    VA {{{3, 48, 83, 177}}, {{3, 48, 95, 103}}, {{3, 48, 95, 177}}, {{3, 76, 83, 153}}, {{3, 76, 83, 177}}, {{3, 76, 129, 153}}, {{3, 95, 103, 130}}, {{3, 103, 115, 130}}, {{3, 115, 129, 130}}, {{3, 115, 129, 153}}, {{6, 35, 98, FACETS}}, {{6, 35, 111, 145}}, {{6, 63, 111, 145}}, {{6, 63, 126, 152}}, {{6, 63, 145, 152}}, {{6, 90, 98, 131}}, {{6, 90, 126, 131}}, {{6, 90, 126, 152}}, {{8, 36, 50, FACETS}}, {{8, 36, 141, 160}}, {{8, 50, 117, FACETS}}, {{8, 67, 68, 141}}, {{8, 67, 110, 160}}, {{8, 67, 141, 160}}, {{8, 68, 117, FACETS}}, {{10, 41, 46, 149}}, {{10, 46, 140, 157}}, {{10, 46, 149, 157}}, {{10, 56, 79, 157}}, {{10, 56, 149, 157}}, {{10, 79, 85, 140}}, {{10, 79, 140, 157}}, {{17, 50, 85, 129}}, {{17, 50, 117, FACETS}}, {{17, 76, 90, 98}}, {{17, 76, 129, FACETS}}, {{17, 98, 117, FACETS}}, {{20, 41, 110, 126}}, {{20, 41, 110, 149}}, {{20, 41, 126, 152}}, {{20, 63, 103, 130}}, {{20, 63, 103, 152}}, {{20, 63, 126, 152}}, {{20, 95, 103, 130}}, {{20, 95, 149, FACETS}}, {{27, 35, 68, 145}}, {{27, 35, 111, 145}}, {{27, 35, 111, 157}}, {{27, 46, 67, 153}}, {{27, 46, 140, 153}}, {{27, 46, 140, 157}}, {{27, 67, 68, FACETS}}, {{27, 111, 115, 140}}, {{27, 111, 115, 145}}, {{27, 111, 140, 157}}, {{27, 115, 140, 153}}, {{31, 36, 79, FACETS}}, {{31, 36, 141, 160}}, {{31, 48, 56, 177}}, {{31, 48, 83, 141}}, {{31, 48, 83, 177}}, {{31, 56, 79, FACETS}}, {{31, 83, 131, 160}}, {{31, 83, 131, 177}}, {{31, 83, 141, 160}}, {{35, 68, 117, FACETS}}, {{35, 98, 117, 154}}, {{35, 154, 157, FACETS}}, {{36, 50, 85, 178}}, {{36, 79, 85, 178}}, {{41, 46, 110, 149}}, {{41, 46, 110, 164}}, {{41, 90, 126, 152}}, {{41, 90, 126, 164}}, {{41, 110, 126, 164}}, {{46, 67, 110, 164}}, {{46, 67, 153, 164}}, {{48, 56, 95, 177}}, {{50, 85, 129, 178}}, {{50, 129, 130, 178}}, {{56, 95, 149, 154}}, {{56, 95, 154, 177}}, {{56, 149, 154, 157}}, {{63, 103, 115, 130}}, {{63, 103, 115, 145}}, {{63, 103, 145, 152}}, {{63, 111, 115, 145}}, {{63, 111, 115, 178}}, {{63, 115, 130, 178}}, {{67, 83, 141, 160}}, {{67, 83, 153, 164}}, {{67, 83, 160, 164}}, {{67, 110, 160, 164}}, {{76, 83, 131, 164}}, {{76, 83, 131, 177}}, {{76, 83, 153, 164}}, {{76, 90, 98, 131}}, {{76, 90, 131, 164}}, {{76, 98, 131, 177}}, {{79, 85, 140, 178}}, {{79, 111, 140, 157}}, {{79, 111, 140, 178}}, {{83, 131, 160, 164}}, {{85, 129, 140, 178}}, {{90, 126, 131, 164}}, {{98, 154, 177, FACETS}}, {{110, 126, 160, 164}}, {{111, 115, 140, 178}}, {{115, 129, 130, 178}}, {{115, 129, 140, 153}}, {{115, 129, 140, 178}}, {{126, 131, 160, 164}}},\n",
      "    VA {{{2, 45, 80, 152}}, {{2, 68, 94, 146}}, {{2, 68, 114, 146}}, {{2, 80, 110, 159}}, {{2, 80, 152, 159}}, {{2, 94, 110, 146}}, {{2, 110, 146, 159}}, {{2, 114, 146, 159}}, {{2, 114, 152, 159}}, {{4, 36, FACETS, FACETS}}, {{4, 64, 111, FACETS}}, {{4, 64, 131, FACETS}}, {{4, 111, 168, FACETS}}, {{4, 120, 131, FACETS}}, {{4, 120, 168, FACETS}}, {{10, 43, 54, 97}}, {{10, 43, 54, 125}}, {{10, 43, 77, 97}}, {{10, 43, 77, 163}}, {{10, 43, 125, 163}}, {{10, 54, 59, 97}}, {{10, 54, 59, 181}}, {{10, 54, 125, 181}}, {{10, 87, 125, 163}}, {{10, 87, 125, 181}}, {{14, 33, 48, 104}}, {{14, 33, 48, 123}}, {{14, 33, 75, 104}}, {{14, 33, 75, 148}}, {{14, 33, 123, 148}}, {{14, 48, 62, 104}}, {{14, 48, 62, 161}}, {{14, 48, 123, 161}}, {{14, 62, 104, 154}}, {{14, 75, 91, 148}}, {{14, 75, 91, 154}}, {{14, 75, 104, 154}}, {{14, 91, 130, 148}}, {{14, 123, 130, 148}}, {{14, 123, 130, 161}}, {{17, 45, 91, 148}}, {{17, 45, 91, 163}}, {{17, 75, 91, 125}}, {{17, 75, 91, 148}}, {{17, 75, 120, 148}}, {{17, 87, 125, 163}}, {{17, 91, 125, 163}}, {{22, 36, 161, FACETS}}, {{22, 36, 181, FACETS}}, {{22, 59, 110, 181}}, {{22, 59, 123, FACETS}}, {{22, 80, 110, FACETS}}, {{22, 80, 130, FACETS}}, {{22, 123, 130, 161}}, {{25, 43, 54, 97}}, {{25, 43, 54, 154}}, {{25, 43, 97, 111}}, {{25, 54, 94, 97}}, {{25, 54, 94, 146}}, {{25, 54, 146, 154}}, {{25, 62, 68, 146}}, {{25, 62, 146, 154}}, {{25, 68, 94, 146}}, {{25, 68, 94, 168}}, {{25, 94, 97, 168}}, {{25, 97, 111, 168}}, {{28, 33, 48, 104}}, {{28, 33, 104, 131}}, {{28, 48, 104, 114}}, {{28, 64, 77, 152}}, {{28, 64, 131, 159}}, {{28, 64, 152, 159}}, {{28, 104, 114, 159}}, {{28, 104, 131, 159}}, {{28, 114, 152, 159}}, {{33, 75, 104, 131}}, {{33, 75, 120, 131}}, {{33, 75, 120, 148}}, {{33, 120, 148, 153}}, {{33, 123, 148, 153}}, {{36, 87, 143, FACETS}}, {{36, 87, 181, FACETS}}, {{36, 143, 161, FACETS}}, {{43, 54, 125, 154}}, {{43, 77, 97, 111}}, {{43, 77, 111, 179}}, {{43, 77, 163, 179}}, {{43, 91, 125, 154}}, {{43, 91, 125, 163}}, {{43, 91, 163, 179}}, {{45, 80, 130, 179}}, {{45, 80, 152, 179}}, {{45, 91, 130, 148}}, {{45, 91, 130, 179}}, {{45, 91, 163, 179}}, {{45, 152, 163, 179}}, {{48, 62, 104, 114}}, {{48, 62, 114, 143}}, {{48, 62, 143, 161}}, {{54, 59, 94, 97}}, {{54, 59, 94, 110}}, {{54, 59, 110, 181}}, {{54, 94, 110, 146}}, {{59, 94, 97, 153}}, {{59, 123, 153, FACETS}}, {{62, 68, 114, 143}}, {{62, 68, 114, 146}}, {{62, 104, 114, 146}}, {{62, 104, 146, 154}}, {{64, 77, 111, 179}}, {{64, 77, 152, 179}}, {{64, 80, 152, 159}}, {{64, 80, 152, 179}}, {{75, 91, 125, 154}}, {{77, 152, 163, 179}}, {{94, 97, 153, 168}}, {{104, 114, 146, 159}}, {{120, 153, 168, FACETS}}},\n",
      "    VA {{{2, 50, 93, 128}}, {{2, 50, 101, 170}}, {{2, 50, 128, 170}}, {{2, 73, 80, 170}}, {{2, 73, 101, 115}}, {{2, 73, 101, 170}}, {{2, 80, 128, 170}}, {{2, 93, 108, FACETS}}, {{2, 108, 115, FACETS}}, {{5, 41, 104, FACETS}}, {{5, 41, 123, FACETS}}, {{5, 58, 104, 131}}, {{5, 58, 107, FACETS}}, {{5, 84, 131, FACETS}}, {{5, 84, 153, FACETS}}, {{5, 107, 123, 153}}, {{9, 38, 44, FACETS}}, {{9, 38, 70, FACETS}}, {{9, 44, 66, 149}}, {{9, 66, 149, 174}}, {{9, 66, 174, 181}}, {{9, 70, 117, 181}}, {{9, 117, 136, 174}}, {{9, 117, 174, 181}}, {{9, 136, 149, 174}}, {{13, 32, 54, 156}}, {{13, 32, 77, FACETS}}, {{13, 54, 60, FACETS}}, {{13, 60, 165, FACETS}}, {{13, 77, 165, FACETS}}, {{13, 91, 156, FACETS}}, {{17, 50, 101, 170}}, {{17, 50, 117, FACETS}}, {{17, 70, 84, FACETS}}, {{17, 70, 117, 156}}, {{17, 84, 101, FACETS}}, {{17, 91, 156, FACETS}}, {{17, 91, 170, FACETS}}, {{20, 41, 104, FACETS}}, {{20, 41, 149, FACETS}}, {{20, 60, 108, FACETS}}, {{20, 93, 104, 108}}, {{20, 93, 136, FACETS}}, {{20, 136, 149, FACETS}}, {{27, 32, 54, 181}}, {{27, 32, 107, 174}}, {{27, 32, 174, 181}}, {{27, 54, 115, FACETS}}, {{27, 66, 73, 123}}, {{27, 66, 123, 174}}, {{27, 66, 174, 181}}, {{27, 73, 115, 153}}, {{27, 73, 123, 153}}, {{27, 107, 123, 153}}, {{27, 107, 123, 174}}, {{31, 38, 44, 165}}, {{31, 38, 131, FACETS}}, {{31, 44, 80, FACETS}}, {{31, 58, 77, 128}}, {{31, 58, 131, FACETS}}, {{31, 77, 165, FACETS}}, {{31, 80, 128, FACETS}}, {{32, 54, 156, 181}}, {{32, 77, 107, FACETS}}, {{32, 117, 156, 181}}, {{32, 117, 174, 181}}, {{38, 70, 84, 131}}, {{38, 84, 180, FACETS}}, {{38, 165, 180, FACETS}}, {{41, 91, FACETS, FACETS}}, {{41, 123, 149, FACETS}}, {{44, 66, 80, FACETS}}, {{50, 93, 136, FACETS}}, {{50, 117, 136, FACETS}}, {{54, 60, 108, 115}}, {{54, 108, 144, FACETS}}, {{54, 144, 156, 181}}, {{58, 77, 107, FACETS}}, {{58, 93, 104, FACETS}}, {{58, 93, 128, FACETS}}, {{60, 115, 180, FACETS}}, {{60, 165, 180, FACETS}}, {{66, 73, 80, FACETS}}, {{66, 123, 149, 174}}, {{70, 117, 156, 181}}, {{70, 131, 144, FACETS}}, {{70, 144, 156, 181}}, {{73, 101, 115, 153}}, {{84, 101, 153, 180}}, {{101, 115, 153, 180}}, {{104, 108, 144, FACETS}}, {{104, 131, 144, FACETS}}},\n",
      "    VA {{{3, 44, 92, 183}}, {{3, 44, 113, FACETS}}, {{3, 75, 92, 180}}, {{3, 75, 125, FACETS}}, {{3, 81, 136, FACETS}}, {{3, 81, 180, 183}}, {{3, 92, 180, 183}}, {{3, 113, 125, 136}}, {{4, 36, 107, FACETS}}, {{4, 36, 186, FACETS}}, {{4, 67, 107, 166}}, {{4, 67, 128, FACETS}}, {{4, 120, 128, FACETS}}, {{4, 120, 131, 186}}, {{4, 131, 166, FACETS}}, {{12, 41, 55, 96}}, {{12, 41, 55, 169}}, {{12, 55, 87, 169}}, {{12, 56, 73, FACETS}}, {{12, 56, 108, FACETS}}, {{12, 73, 87, 169}}, {{12, 96, 108, FACETS}}, {{13, 35, 52, 102}}, {{13, 35, 52, 172}}, {{13, 52, 142, 172}}, {{13, 63, 69, 142}}, {{13, 63, 142, 172}}, {{13, 69, 88, FACETS}}, {{13, 88, 102, FACETS}}, {{17, 55, 87, 125}}, {{17, 55, 87, 169}}, {{17, 55, 88, 169}}, {{17, 75, 102, 120}}, {{17, 75, 120, 186}}, {{17, 75, 125, 186}}, {{17, 87, 125, 186}}, {{17, 88, 102, FACETS}}, {{21, 35, 108, 172}}, {{21, 35, 128, FACETS}}, {{21, 67, 96, 136}}, {{21, 67, 128, FACETS}}, {{21, 96, 108, FACETS}}, {{21, 113, 136, FACETS}}, {{21, 113, 172, FACETS}}, {{24, 41, 69, 166}}, {{24, 44, 63, FACETS}}, {{24, 44, 92, FACETS}}, {{24, 63, 69, FACETS}}, {{24, 92, 131, FACETS}}, {{24, 131, 166, FACETS}}, {{30, 36, 73, FACETS}}, {{30, 36, 107, 142}}, {{30, 52, 56, 180}}, {{30, 52, 142, FACETS}}, {{30, 56, 73, 183}}, {{30, 56, 180, 183}}, {{30, 81, 107, FACETS}}, {{30, 81, 180, 183}}, {{35, 52, 108, 172}}, {{35, 102, 120, FACETS}}, {{35, 120, 128, FACETS}}, {{36, 73, 87, FACETS}}, {{36, 87, 181, 186}}, {{36, 142, 181, FACETS}}, {{41, 55, 88, 169}}, {{41, 69, 88, FACETS}}, {{41, 96, 166, FACETS}}, {{44, 63, 113, FACETS}}, {{44, 140, 183, FACETS}}, {{52, 56, 108, FACETS}}, {{52, 102, 180, FACETS}}, {{55, 96, 136, FACETS}}, {{55, 125, 136, FACETS}}, {{56, 92, 180, 183}}, {{63, 113, 172, 181}}, {{63, 142, 172, 181}}, {{67, 81, 107, FACETS}}, {{67, 81, 136, FACETS}}, {{67, 96, 166, FACETS}}, {{69, 107, 142, FACETS}}, {{69, 107, 166, FACETS}}, {{73, 140, 169, FACETS}}, {{73, 140, 183, FACETS}}, {{75, 92, 131, FACETS}}, {{75, 102, 180, FACETS}}, {{75, 120, 131, 186}}, {{87, 125, 181, 186}}, {{113, 125, 181, FACETS}}, {{128, 140, FACETS, FACETS}}},\n",
      "    VA {{{1, 54, 81, 126}}, {{1, 54, 96, FACETS}}, {{1, 77, 95, 96}}, {{1, 77, 113, FACETS}}, {{1, 113, 126, FACETS}}, {{4, 38, 99, FACETS}}, {{4, 38, 112, 129}}, {{4, 66, 99, FACETS}}, {{4, 66, 133, FACETS}}, {{4, 112, 117, FACETS}}, {{4, 129, 133, FACETS}}, {{11, 40, 48, 170}}, {{11, 40, 75, 160}}, {{11, 40, 75, 170}}, {{11, 48, 56, 155}}, {{11, 48, 56, 170}}, {{11, 56, 132, 147}}, {{11, 56, 132, 155}}, {{11, 56, 147, 170}}, {{11, 75, 147, 170}}, {{11, 87, 132, 155}}, {{11, 87, 160, FACETS}}, {{15, 35, 45, FACETS}}, {{15, 35, 68, FACETS}}, {{15, 45, 61, 140}}, {{15, 61, 140, 153}}, {{15, 61, 153, 184}}, {{15, 68, 88, 184}}, {{15, 88, 109, 153}}, {{15, 88, 153, 184}}, {{15, 109, 140, 153}}, {{19, 54, 88, 160}}, {{19, 54, 96, FACETS}}, {{19, 68, 88, FACETS}}, {{19, 68, 117, FACETS}}, {{19, 87, 112, FACETS}}, {{19, 87, 160, FACETS}}, {{19, 96, 112, 117}}, {{22, 38, 99, 155}}, {{22, 38, 132, 140}}, {{22, 38, 132, 155}}, {{22, 56, 132, 155}}, {{22, 81, 99, FACETS}}, {{22, 81, 109, FACETS}}, {{22, 109, 140, FACETS}}, {{24, 40, 48, 170}}, {{24, 40, 48, 184}}, {{24, 40, 133, 153}}, {{24, 40, 133, 170}}, {{24, 40, 153, 184}}, {{24, 48, 95, 170}}, {{24, 61, 77, 129}}, {{24, 61, 129, 153}}, {{24, 61, 153, 184}}, {{24, 77, 95, FACETS}}, {{24, 129, 133, 153}}, {{26, 35, 45, 147}}, {{26, 45, 113, FACETS}}, {{26, 66, 75, 126}}, {{26, 75, 147, FACETS}}, {{26, 113, 126, FACETS}}, {{35, 68, 117, FACETS}}, {{35, 117, 159, FACETS}}, {{35, 147, 159, FACETS}}, {{38, 87, 112, 173}}, {{38, 87, 132, 155}}, {{38, 87, 132, 173}}, {{38, 112, 129, 173}}, {{38, 129, 140, 173}}, {{38, 132, 140, 173}}, {{40, 75, 133, 170}}, {{40, 88, 153, 184}}, {{40, 88, 160, FACETS}}, {{45, 61, 113, 173}}, {{45, 61, 140, 173}}, {{45, 132, 140, 173}}, {{45, 132, 147, FACETS}}, {{48, 56, 95, 170}}, {{48, 142, 155, FACETS}}, {{48, 142, 184, FACETS}}, {{54, 81, 109, FACETS}}, {{54, 88, 109, FACETS}}, {{54, 126, 160, FACETS}}, {{56, 95, 159, 170}}, {{56, 147, 159, 170}}, {{61, 77, 113, 173}}, {{61, 77, 129, 173}}, {{61, 129, 140, 153}}, {{61, 129, 140, 173}}, {{66, 75, 133, FACETS}}, {{66, 81, 99, FACETS}}, {{66, 81, 126, FACETS}}, {{68, 142, 184, FACETS}}, {{75, 126, 160, FACETS}}, {{77, 96, 112, FACETS}}, {{77, 112, 129, 173}}, {{95, 96, 159, FACETS}}, {{96, 117, 159, FACETS}}, {{99, 142, 155, FACETS}}},\n",
      "    VA {{{1, 46, 80, 150}}, {{1, 46, 92, 150}}, {{1, 46, 92, 175}}, {{1, 79, 80, 150}}, {{1, 79, 123, 150}}, {{1, 92, 123, 150}}, {{1, 115, 175, FACETS}}, {{6, 32, 133, 182}}, {{6, 61, 125, 182}}, {{6, 61, 144, FACETS}}, {{6, 91, 112, FACETS}}, {{6, 91, 125, 133}}, {{6, 112, 144, FACETS}}, {{6, 125, 133, 182}}, {{9, 39, 48, 102}}, {{9, 39, 159, FACETS}}, {{9, 48, 118, FACETS}}, {{9, 64, 76, 159}}, {{9, 64, 132, FACETS}}, {{9, 76, 118, FACETS}}, {{9, 102, 132, FACETS}}, {{12, 43, 50, 99}}, {{12, 43, 99, 154}}, {{12, 43, 109, 154}}, {{12, 50, 168, FACETS}}, {{12, 58, 68, 168}}, {{12, 58, 109, FACETS}}, {{12, 68, 84, FACETS}}, {{12, 84, 99, 154}}, {{18, 48, 84, FACETS}}, {{18, 48, 118, 123}}, {{18, 79, 91, 99}}, {{18, 79, 123, FACETS}}, {{18, 84, 99, 154}}, {{18, 91, 99, 154}}, {{18, 91, 133, 154}}, {{18, 118, 133, FACETS}}, {{20, 43, 109, 125}}, {{20, 43, 132, FACETS}}, {{20, 61, 102, FACETS}}, {{20, 61, 125, 175}}, {{20, 92, 109, 175}}, {{20, 102, 132, FACETS}}, {{20, 109, 125, 175}}, {{26, 32, 76, 182}}, {{26, 32, 168, FACETS}}, {{26, 50, 64, FACETS}}, {{26, 50, 168, FACETS}}, {{26, 64, 76, FACETS}}, {{26, 115, 182, FACETS}}, {{30, 39, 68, 144}}, {{30, 39, 159, FACETS}}, {{30, 46, 58, 150}}, {{30, 46, 80, 150}}, {{30, 46, 80, 159}}, {{30, 58, 68, FACETS}}, {{30, 80, 112, 150}}, {{30, 112, 144, FACETS}}, {{32, 76, 118, 133}}, {{32, 76, 133, 182}}, {{32, 118, 160, FACETS}}, {{32, 160, 168, FACETS}}, {{39, 48, 84, FACETS}}, {{39, 68, 84, FACETS}}, {{39, 102, 144, FACETS}}, {{43, 50, 99, 172}}, {{43, 50, 132, 172}}, {{43, 91, 99, 154}}, {{43, 91, 99, 172}}, {{43, 91, 125, 154}}, {{43, 109, 125, 154}}, {{46, 58, 92, 109}}, {{46, 58, 92, 150}}, {{46, 92, 109, 175}}, {{46, 109, 165, 175}}, {{46, 159, 165, FACETS}}, {{50, 64, 132, 172}}, {{58, 92, 150, 160}}, {{58, 160, 168, FACETS}}, {{61, 102, 144, FACETS}}, {{61, 115, 175, 182}}, {{61, 125, 175, 182}}, {{64, 80, 159, FACETS}}, {{64, 80, 172, FACETS}}, {{76, 133, 165, 182}}, {{76, 159, 165, FACETS}}, {{79, 80, 112, 150}}, {{79, 80, 112, 172}}, {{79, 91, 99, 172}}, {{79, 91, 112, 172}}, {{91, 125, 133, 154}}, {{92, 123, 150, 160}}, {{109, 125, 154, 165}}, {{109, 125, 165, 175}}, {{118, 123, 160, FACETS}}, {{125, 133, 154, 165}}, {{125, 133, 165, 182}}, {{125, 165, 175, 182}}},\n",
      "    VA {{{0, 80, 112, 176}}, {{0, 80, 155, FACETS}}, {{0, 92, 131, 160}}, {{0, 92, 155, FACETS}}, {{0, 112, 114, 164}}, {{0, 112, 164, 176}}, {{0, 114, 160, 164}}, {{0, 131, 160, 164}}, {{0, 131, 164, 176}}, {{9, 37, 49, 126}}, {{9, 37, 130, FACETS}}, {{9, 49, 120, 126}}, {{9, 49, 120, 145}}, {{9, 65, 102, 145}}, {{9, 65, 130, FACETS}}, {{9, 75, 102, 120}}, {{9, 75, 120, 126}}, {{9, 102, 120, 145}}, {{10, 43, 77, 97}}, {{10, 43, 180, FACETS}}, {{10, 52, 56, 180}}, {{10, 77, 86, 97}}, {{15, 35, 68, 143}}, {{15, 35, 108, 143}}, {{15, 50, 62, 100}}, {{15, 50, 62, 167}}, {{15, 50, 89, 167}}, {{15, 62, 68, 143}}, {{15, 62, 68, 167}}, {{15, 62, 100, 143}}, {{15, 100, 108, 143}}, {{18, 49, 86, 97}}, {{18, 49, 86, 126}}, {{18, 49, 120, 126}}, {{18, 77, 86, 97}}, {{18, 77, 86, 164}}, {{18, 77, 89, 97}}, {{18, 77, 89, 176}}, {{18, 77, 164, 176}}, {{18, 86, 126, 164}}, {{18, 120, 126, 131}}, {{18, 126, 131, 164}}, {{18, 131, 164, 176}}, {{22, 37, 100, 130}}, {{22, 56, 108, FACETS}}, {{22, 56, 155, FACETS}}, {{22, 80, 130, FACETS}}, {{22, 80, 155, FACETS}}, {{22, 100, 108, FACETS}}, {{23, 43, 50, 167}}, {{23, 43, 180, FACETS}}, {{23, 50, 62, 167}}, {{23, 62, 160, FACETS}}, {{23, 75, 92, 160}}, {{23, 75, 92, 180}}, {{27, 35, 52, 102}}, {{27, 35, 52, 143}}, {{27, 35, 68, 143}}, {{27, 35, 68, 145}}, {{27, 35, 102, 145}}, {{27, 65, 102, 145}}, {{27, 65, 112, FACETS}}, {{27, 68, 114, 143}}, {{27, 112, 114, FACETS}}, {{35, 52, 102, 188}}, {{35, 52, 108, 143}}, {{35, 52, 108, 188}}, {{35, 102, 120, 145}}, {{35, 102, 120, 188}}, {{37, 49, 86, 126}}, {{37, 86, 126, 156}}, {{37, 100, 156, FACETS}}, {{43, 50, 89, 129}}, {{43, 50, 89, 167}}, {{43, 77, 89, 97}}, {{43, 77, 89, 129}}, {{43, 89, 97, 167}}, {{50, 100, 130, FACETS}}, {{50, 129, 130, FACETS}}, {{52, 56, 108, 188}}, {{52, 56, 180, 188}}, {{52, 102, 180, 188}}, {{56, 92, 155, FACETS}}, {{56, 92, 180, 188}}, {{62, 68, 114, 143}}, {{62, 100, 143, 156}}, {{62, 114, 143, 156}}, {{62, 114, 156, 160}}, {{65, 80, 112, 129}}, {{65, 80, 129, 130}}, {{75, 92, 131, 160}}, {{75, 92, 131, 188}}, {{75, 92, 180, 188}}, {{75, 102, 120, 188}}, {{75, 102, 180, 188}}, {{75, 120, 126, 131}}, {{75, 120, 131, 188}}, {{75, 126, 131, 160}}, {{77, 89, 129, 176}}, {{77, 112, 129, 176}}, {{77, 112, 164, 176}}, {{80, 112, 129, 176}}, {{86, 126, 156, 164}}, {{114, 156, 160, 164}}, {{126, 131, 160, 164}}, {{126, 156, 160, 164}}},\n",
      "    VA {{{2, 53, 94, 102}}, {{2, 53, 94, 142}}, {{2, 53, 115, 142}}, {{2, 68, 94, 142}}, {{2, 68, 94, 146}}, {{2, 83, 102, 146}}, {{2, 83, 108, FACETS}}, {{2, 94, 102, 146}}, {{2, 108, 115, FACETS}}, {{4, 38, 99, 131}}, {{4, 38, 99, 189}}, {{4, 38, 112, 177}}, {{4, 38, 112, 189}}, {{4, 38, 131, 177}}, {{4, 64, 131, 177}}, {{4, 64, 156, FACETS}}, {{4, 112, 117, 189}}, {{4, 117, 156, FACETS}}, {{10, 41, 46, 149}}, {{10, 46, 87, 149}}, {{10, 46, 87, 163}}, {{10, 57, 74, 125}}, {{10, 74, 87, 125}}, {{10, 74, 87, 149}}, {{10, 87, 125, 163}}, {{14, 32, 49, 178}}, {{14, 32, 130, 161}}, {{14, 32, 130, 178}}, {{14, 63, 78, 123}}, {{14, 63, 123, 130}}, {{14, 63, 130, 178}}, {{14, 78, 89, 123}}, {{14, 89, 123, 161}}, {{14, 123, 130, 161}}, {{19, 46, 87, 149}}, {{19, 46, 89, 149}}, {{19, 68, 117, 189}}, {{19, 87, 112, 149}}, {{19, 87, 112, 189}}, {{19, 89, 149, 161}}, {{19, 112, 117, 161}}, {{19, 112, 117, 189}}, {{19, 112, 149, 161}}, {{21, 32, 130, 178}}, {{21, 32, 156, FACETS}}, {{21, 64, 108, FACETS}}, {{21, 64, 156, FACETS}}, {{21, 108, 115, 163}}, {{21, 115, 130, 178}}, {{21, 115, 163, 178}}, {{23, 41, 78, 123}}, {{23, 53, 63, 123}}, {{23, 53, 63, 142}}, {{23, 53, 94, 142}}, {{23, 63, 78, 99}}, {{23, 63, 78, 123}}, {{23, 63, 99, 142}}, {{31, 38, 74, 125}}, {{31, 38, 74, 177}}, {{31, 38, 131, 177}}, {{31, 49, 57, 125}}, {{31, 49, 57, 146}}, {{31, 57, 74, 102}}, {{31, 57, 74, 125}}, {{31, 57, 102, 146}}, {{31, 74, 102, 177}}, {{31, 83, 102, 146}}, {{31, 83, 102, 177}}, {{31, 83, 131, 177}}, {{32, 117, 156, FACETS}}, {{32, 117, 161, FACETS}}, {{38, 74, 87, 112}}, {{38, 74, 87, 125}}, {{38, 74, 112, 177}}, {{38, 87, 112, 189}}, {{38, 87, 125, 155}}, {{38, 87, 155, 189}}, {{38, 99, 155, 189}}, {{41, 46, 89, 139}}, {{41, 46, 89, 149}}, {{41, 78, 89, 123}}, {{41, 78, 89, 139}}, {{41, 89, 123, 149}}, {{46, 108, 139, FACETS}}, {{46, 108, 163, FACETS}}, {{49, 125, 178, FACETS}}, {{53, 63, 115, 130}}, {{53, 63, 115, 142}}, {{53, 63, 123, 130}}, {{57, 94, 102, 146}}, {{63, 99, 142, 155}}, {{63, 115, 130, 178}}, {{63, 115, 142, 155}}, {{63, 115, 155, 178}}, {{64, 83, 108, 139}}, {{64, 83, 131, 139}}, {{64, 83, 131, 177}}, {{68, 142, 189, FACETS}}, {{74, 87, 112, 149}}, {{78, 99, 131, FACETS}}, {{78, 131, 139, FACETS}}, {{87, 125, 155, 163}}, {{89, 123, 149, 161}}, {{99, 142, 155, 189}}, {{115, 155, 163, 178}}, {{125, 155, 163, 178}}},\n",
      "    VA {{{3, 44, 80, FACETS}}, {{3, 44, 92, FACETS}}, {{3, 78, 80, FACETS}}, {{3, 78, 114, 121}}, {{3, 92, 121, FACETS}}, {{3, 114, 132, FACETS}}, {{4, 39, 105, 128}}, {{4, 39, 105, 167}}, {{4, 39, 128, 134}}, {{4, 39, 134, 157}}, {{4, 39, 157, 167}}, {{4, 67, 100, 134}}, {{4, 67, 128, 134}}, {{4, 100, 118, 157}}, {{4, 100, 134, 157}}, {{4, 118, 157, 167}}, {{12, 40, 71, 161}}, {{12, 40, 71, 178}}, {{12, 40, 106, 145}}, {{12, 40, 106, 178}}, {{12, 40, 145, 161}}, {{12, 55, 87, 145}}, {{12, 55, 87, 169}}, {{12, 55, 126, 161}}, {{12, 55, 126, 169}}, {{12, 55, 145, 161}}, {{12, 59, 71, 126}}, {{12, 59, 71, 178}}, {{12, 59, 126, 169}}, {{12, 71, 126, 161}}, {{12, 87, 106, 145}}, {{13, 33, 142, FACETS}}, {{13, 33, 165, FACETS}}, {{13, 52, 61, FACETS}}, {{13, 52, 91, 142}}, {{13, 61, 77, FACETS}}, {{13, 77, 165, 187}}, {{13, 91, 187, FACETS}}, {{16, 87, 106, 145}}, {{16, 87, 106, 157}}, {{16, 87, 132, 145}}, {{16, 87, 132, 167}}, {{16, 87, 157, 167}}, {{16, 91, 106, 142}}, {{16, 91, 106, 145}}, {{16, 106, 142, 157}}, {{16, 118, 142, 157}}, {{16, 118, 157, 167}}, {{25, 40, 52, 178}}, {{25, 40, 71, 178}}, {{25, 52, 61, 121}}, {{25, 52, 121, 178}}, {{25, 61, 105, FACETS}}, {{25, 71, 92, 178}}, {{25, 92, 121, 178}}, {{26, 33, 100, FACETS}}, {{26, 33, 126, FACETS}}, {{26, 55, 114, FACETS}}, {{26, 55, 126, 161}}, {{26, 67, 78, 100}}, {{26, 67, 161, FACETS}}, {{26, 78, 114, FACETS}}, {{31, 39, 77, 128}}, {{31, 39, 77, 169}}, {{31, 39, 128, 134}}, {{31, 44, 59, 165}}, {{31, 44, 80, 187}}, {{31, 44, 165, 187}}, {{31, 59, 165, 169}}, {{31, 77, 128, 187}}, {{31, 77, 165, 169}}, {{31, 77, 165, 187}}, {{31, 80, 128, 134}}, {{31, 80, 128, 187}}, {{33, 100, 118, 142}}, {{33, 126, 165, FACETS}}, {{39, 77, 98, 105}}, {{39, 77, 98, 169}}, {{39, 77, 105, 128}}, {{39, 87, 98, 167}}, {{39, 87, 98, 169}}, {{39, 87, 157, 167}}, {{39, 98, 105, 167}}, {{40, 52, 91, 106}}, {{40, 52, 106, 178}}, {{40, 91, 106, 145}}, {{40, 91, 145, 170}}, {{40, 145, 161, 170}}, {{44, 59, 92, FACETS}}, {{52, 91, 106, 142}}, {{55, 87, 98, 132}}, {{55, 87, 98, 169}}, {{55, 87, 132, 145}}, {{55, 98, 114, 132}}, {{59, 71, 92, 178}}, {{59, 126, 165, 169}}, {{61, 77, 98, 105}}, {{61, 98, 114, FACETS}}, {{61, 114, 121, FACETS}}, {{67, 78, 80, 134}}, {{67, 78, 100, 134}}, {{67, 80, 128, 134}}, {{67, 80, 128, 170}}, {{67, 161, 170, FACETS}}, {{80, 128, 170, 187}}, {{87, 98, 132, 167}}, {{91, 170, 187, FACETS}}, {{100, 118, 142, 157}}},\n",
      "    VA {{{2, 50, 82, 101}}, {{2, 50, 82, 162}}, {{2, 50, 101, 170}}, {{2, 50, 116, 162}}, {{2, 50, 116, 170}}, {{2, 71, 116, 162}}, {{2, 71, 124, FACETS}}, {{2, 82, 101, 106}}, {{2, 95, 101, 106}}, {{2, 95, 101, 170}}, {{2, 95, 106, 124}}, {{5, 41, 104, 105}}, {{5, 41, 105, 143}}, {{5, 41, 134, 143}}, {{5, 57, 121, FACETS}}, {{5, 57, 134, 143}}, {{5, 86, 104, 105}}, {{5, 86, 121, FACETS}}, {{9, 38, 44, 140}}, {{9, 38, 132, 140}}, {{9, 44, 163, FACETS}}, {{9, 64, 76, 190}}, {{9, 64, 132, 140}}, {{9, 64, 132, 190}}, {{9, 76, 118, 163}}, {{9, 76, 118, 190}}, {{13, 32, 54, 160}}, {{13, 32, 160, 168}}, {{13, 32, 168, 176}}, {{13, 54, 88, 160}}, {{13, 63, 69, 168}}, {{13, 63, 69, 188}}, {{13, 63, 168, 176}}, {{13, 69, 88, 160}}, {{13, 69, 88, 188}}, {{13, 69, 160, 168}}, {{19, 54, 88, 160}}, {{19, 54, 118, 124}}, {{19, 54, 118, 160}}, {{19, 71, 86, 104}}, {{19, 71, 124, FACETS}}, {{19, 86, 104, 105}}, {{19, 88, 104, 105}}, {{19, 88, 105, 160}}, {{22, 38, 121, FACETS}}, {{22, 38, 132, 140}}, {{22, 57, 101, 106}}, {{22, 57, 121, FACETS}}, {{22, 82, 101, 106}}, {{22, 82, 101, 132}}, {{22, 82, 132, 140}}, {{24, 41, 69, 143}}, {{24, 41, 69, 188}}, {{24, 41, 134, 143}}, {{24, 44, 63, 188}}, {{24, 44, 163, FACETS}}, {{24, 63, 69, 170}}, {{24, 63, 69, 188}}, {{24, 69, 143, 170}}, {{24, 95, 134, 143}}, {{24, 95, 134, 163}}, {{24, 95, 143, 170}}, {{26, 32, 76, 190}}, {{26, 32, 168, 176}}, {{26, 32, 168, 190}}, {{26, 50, 64, 162}}, {{26, 50, 64, 190}}, {{26, 50, 116, 162}}, {{26, 50, 116, 168}}, {{26, 50, 168, 190}}, {{26, 64, 76, 190}}, {{26, 116, 168, 176}}, {{32, 54, 118, 160}}, {{32, 76, 118, 190}}, {{32, 118, 160, 190}}, {{32, 160, 168, 190}}, {{38, 44, 148, FACETS}}, {{38, 86, 121, 148}}, {{41, 69, 88, 105}}, {{41, 69, 88, 188}}, {{41, 69, 105, 143}}, {{41, 88, 104, 105}}, {{41, 88, 104, 169}}, {{41, 88, 169, 188}}, {{44, 63, 148, FACETS}}, {{44, 140, 188, FACETS}}, {{50, 64, 82, 132}}, {{50, 64, 82, 162}}, {{50, 64, 132, 190}}, {{50, 82, 101, 132}}, {{50, 116, 168, 170}}, {{54, 106, 124, FACETS}}, {{57, 95, 101, 106}}, {{57, 95, 101, 143}}, {{57, 95, 134, 143}}, {{63, 69, 168, 170}}, {{63, 116, 148, 176}}, {{63, 116, 168, 170}}, {{63, 116, 168, 176}}, {{64, 82, 132, 140}}, {{64, 82, 140, 169}}, {{64, 82, 162, 169}}, {{69, 88, 105, 160}}, {{71, 86, 148, FACETS}}, {{71, 104, 162, FACETS}}, {{71, 116, 148, FACETS}}, {{76, 134, 163, FACETS}}, {{95, 101, 143, 170}}, {{95, 124, 163, FACETS}}, {{104, 162, 169, FACETS}}, {{118, 124, 163, FACETS}}, {{121, 148, 176, FACETS}}, {{140, 169, 188, FACETS}}},\n",
      "    VA {{{1, 46, 92, 175}}, {{1, 46, 113, FACETS}}, {{1, 74, 92, FACETS}}, {{1, 74, 126, 151}}, {{1, 83, 151, FACETS}}, {{1, 83, 175, FACETS}}, {{1, 113, 126, FACETS}}, {{4, 36, 133, FACETS}}, {{4, 36, 186, FACETS}}, {{4, 65, 129, FACETS}}, {{4, 65, 168, FACETS}}, {{4, 111, 118, FACETS}}, {{4, 111, 168, 186}}, {{4, 118, 129, 133}}, {{11, 42, 49, 98}}, {{11, 42, 98, 155}}, {{11, 42, 155, 162}}, {{11, 49, 86, 172}}, {{11, 49, 98, 172}}, {{11, 56, 78, 162}}, {{11, 56, 132, 155}}, {{11, 56, 155, 162}}, {{11, 78, 86, FACETS}}, {{11, 98, 132, 155}}, {{11, 98, 132, 172}}, {{15, 34, 53, 103}}, {{15, 34, 106, FACETS}}, {{15, 53, 143, FACETS}}, {{15, 62, 68, 143}}, {{15, 62, 106, FACETS}}, {{15, 68, 88, FACETS}}, {{15, 88, 103, FACETS}}, {{18, 49, 86, 126}}, {{18, 49, 88, 151}}, {{18, 49, 126, 151}}, {{18, 74, 103, 118}}, {{18, 74, 103, 151}}, {{18, 74, 126, 151}}, {{18, 86, 133, FACETS}}, {{18, 88, 103, 151}}, {{18, 118, 133, FACETS}}, {{21, 34, 106, 129}}, {{21, 34, 132, FACETS}}, {{21, 65, 98, FACETS}}, {{21, 65, 129, FACETS}}, {{21, 98, 132, 172}}, {{21, 106, 113, FACETS}}, {{21, 113, 172, FACETS}}, {{25, 42, 68, 168}}, {{25, 42, 155, 162}}, {{25, 42, 155, 168}}, {{25, 46, 62, FACETS}}, {{25, 46, 92, 162}}, {{25, 62, 68, 186}}, {{25, 68, 168, 186}}, {{25, 92, 111, 155}}, {{25, 92, 155, 162}}, {{25, 111, 155, 168}}, {{25, 111, 168, 186}}, {{29, 36, 78, FACETS}}, {{29, 36, 143, FACETS}}, {{29, 53, 56, FACETS}}, {{29, 53, 143, FACETS}}, {{29, 56, 78, 175}}, {{29, 83, 175, FACETS}}, {{34, 53, 132, FACETS}}, {{34, 103, 118, FACETS}}, {{34, 118, 129, FACETS}}, {{36, 78, 86, 133}}, {{36, 86, 161, FACETS}}, {{36, 143, 161, 186}}, {{42, 49, 88, FACETS}}, {{42, 68, 88, FACETS}}, {{42, 98, 155, 168}}, {{46, 62, 106, 113}}, {{46, 92, 162, 175}}, {{46, 106, 138, FACETS}}, {{46, 138, 162, 175}}, {{49, 86, 126, 172}}, {{53, 56, 132, FACETS}}, {{56, 78, 162, 175}}, {{56, 92, 155, 162}}, {{56, 92, 162, 175}}, {{62, 68, 143, 186}}, {{62, 113, 161, FACETS}}, {{62, 143, 161, 186}}, {{65, 83, FACETS, FACETS}}, {{65, 98, 168, FACETS}}, {{74, 92, 111, FACETS}}, {{74, 111, 118, FACETS}}, {{78, 133, 138, FACETS}}, {{78, 138, 162, 175}}, {{86, 126, 161, 172}}, {{106, 129, 138, FACETS}}, {{113, 126, 161, 172}}, {{129, 133, 138, FACETS}}},\n",
      "    VA {{{1, 51, 95, 127}}, {{1, 51, 100, FACETS}}, {{1, 79, 80, 150}}, {{1, 79, 100, 116}}, {{1, 79, 116, 150}}, {{1, 80, 127, FACETS}}, {{5, 43, 103, FACETS}}, {{5, 43, 111, 121}}, {{5, 59, 103, FACETS}}, {{5, 59, 133, 153}}, {{5, 84, 111, FACETS}}, {{5, 84, 153, FACETS}}, {{5, 121, 133, FACETS}}, {{8, 39, 45, FACETS}}, {{8, 39, 68, FACETS}}, {{8, 45, 65, 147}}, {{8, 68, 117, FACETS}}, {{8, 106, 117, FACETS}}, {{8, 106, 147, FACETS}}, {{14, 32, 49, 192}}, {{14, 32, 76, 161}}, {{14, 32, 161, 192}}, {{14, 49, 60, FACETS}}, {{14, 60, 132, 164}}, {{14, 76, 164, FACETS}}, {{14, 89, 132, FACETS}}, {{14, 89, 161, 192}}, {{19, 51, 100, FACETS}}, {{19, 51, 117, 161}}, {{19, 68, 84, FACETS}}, {{19, 68, 117, 192}}, {{19, 84, 100, 111}}, {{19, 89, 111, FACETS}}, {{19, 89, 161, 192}}, {{19, 117, 161, 192}}, {{20, 43, 103, FACETS}}, {{20, 43, 132, 147}}, {{20, 60, 132, FACETS}}, {{20, 95, 103, FACETS}}, {{20, 95, 106, FACETS}}, {{20, 106, 147, FACETS}}, {{28, 32, 49, FACETS}}, {{28, 32, 133, FACETS}}, {{28, 49, 116, 150}}, {{28, 65, 79, 121}}, {{28, 65, 79, 150}}, {{28, 79, 116, 150}}, {{28, 121, 133, FACETS}}, {{29, 39, 45, 164}}, {{29, 39, 153, 164}}, {{29, 45, 80, FACETS}}, {{29, 59, 76, 127}}, {{29, 59, 76, 153}}, {{29, 76, 153, 164}}, {{29, 80, 127, FACETS}}, {{32, 76, 133, 182}}, {{32, 76, 161, 182}}, {{32, 117, 161, 182}}, {{32, 117, 161, 192}}, {{39, 68, 84, FACETS}}, {{39, 84, 153, 162}}, {{39, 153, 162, 164}}, {{43, 89, 111, FACETS}}, {{43, 89, 132, FACETS}}, {{43, 121, 147, FACETS}}, {{45, 65, 80, FACETS}}, {{45, 132, 147, FACETS}}, {{45, 132, 164, FACETS}}, {{49, 60, 116, FACETS}}, {{49, 146, 150, FACETS}}, {{49, 146, 192, FACETS}}, {{51, 95, 106, 182}}, {{51, 95, 127, 182}}, {{51, 106, 117, 182}}, {{51, 117, 161, 182}}, {{51, 127, 161, 182}}, {{59, 76, 127, 182}}, {{59, 76, 133, 153}}, {{59, 76, 133, 182}}, {{59, 95, 103, FACETS}}, {{59, 95, 127, 182}}, {{60, 116, 162, FACETS}}, {{60, 162, 164, FACETS}}, {{65, 79, 80, 150}}, {{65, 121, 147, FACETS}}, {{68, 146, 192, FACETS}}, {{76, 127, 161, 182}}, {{79, 100, 111, FACETS}}, {{79, 111, 121, FACETS}}, {{84, 100, 162, FACETS}}, {{100, 116, 162, FACETS}}, {{103, 146, FACETS, FACETS}}},\n",
      "    VA {{{3, 44, 80, FACETS}}, {{3, 44, 113, FACETS}}, {{3, 76, 113, 177}}, {{3, 76, 129, 185}}, {{3, 76, 177, 185}}, {{3, 80, 129, 130}}, {{3, 95, 130, 185}}, {{3, 95, 177, 185}}, {{3, 129, 130, 185}}, {{5, 40, 107, 175}}, {{5, 58, 107, 142}}, {{5, 58, 122, 151}}, {{5, 58, 142, 151}}, {{5, 87, 122, 151}}, {{5, 87, 135, 151}}, {{5, 107, 142, 175}}, {{5, 135, 142, 151}}, {{5, 135, 142, 175}}, {{7, 39, 54, 98}}, {{7, 39, 98, 169}}, {{7, 54, 98, 154}}, {{7, 54, 146, 154}}, {{7, 66, 69, 146}}, {{7, 69, 117, 154}}, {{7, 69, 146, 154}}, {{7, 98, 117, 154}}, {{7, 98, 117, 169}}, {{15, 33, 50, 100}}, {{15, 50, 89, 191}}, {{15, 50, 100, 191}}, {{15, 60, 71, FACETS}}, {{15, 60, 108, FACETS}}, {{15, 71, 89, FACETS}}, {{15, 100, 108, 191}}, {{17, 50, 89, 129}}, {{17, 50, 117, 185}}, {{17, 50, 129, 185}}, {{17, 76, 87, 98}}, {{17, 76, 98, 185}}, {{17, 76, 129, 185}}, {{17, 87, 98, 169}}, {{17, 98, 117, 169}}, {{17, 98, 117, 185}}, {{22, 39, 108, 151}}, {{22, 39, 122, 151}}, {{22, 58, 100, 130}}, {{22, 58, 100, 151}}, {{22, 58, 122, 151}}, {{22, 80, 130, 191}}, {{22, 100, 108, 151}}, {{22, 100, 108, 191}}, {{22, 100, 130, 191}}, {{25, 40, 71, FACETS}}, {{25, 40, 107, 146}}, {{25, 54, 60, 177}}, {{25, 54, 146, 154}}, {{25, 54, 154, 177}}, {{25, 60, 71, FACETS}}, {{25, 95, 107, 154}}, {{25, 95, 154, 177}}, {{25, 107, 146, 154}}, {{28, 33, 69, 142}}, {{28, 44, 66, FACETS}}, {{28, 44, 113, FACETS}}, {{28, 66, 69, 175}}, {{28, 69, 142, 175}}, {{28, 113, 135, FACETS}}, {{28, 135, 142, 175}}, {{33, 50, 117, FACETS}}, {{33, 69, 117, FACETS}}, {{33, 100, 142, FACETS}}, {{39, 54, 108, FACETS}}, {{39, 87, 98, 169}}, {{39, 87, 122, 151}}, {{39, 87, 122, 169}}, {{40, 71, 89, FACETS}}, {{40, 89, 176, FACETS}}, {{40, 107, 146, 175}}, {{40, 146, 175, 176}}, {{44, 66, 80, FACETS}}, {{44, 147, FACETS, FACETS}}, {{50, 89, 129, 191}}, {{50, 100, 130, 191}}, {{50, 129, 130, 185}}, {{50, 129, 130, 191}}, {{54, 60, 108, FACETS}}, {{54, 98, 154, 177}}, {{58, 95, 107, FACETS}}, {{58, 95, 130, FACETS}}, {{58, 100, 142, 151}}, {{60, 113, 177, FACETS}}, {{66, 69, 146, 175}}, {{66, 80, 176, FACETS}}, {{66, 146, 175, 176}}, {{69, 107, 142, 175}}, {{69, 107, 146, 154}}, {{69, 107, 146, 175}}, {{71, 147, FACETS, FACETS}}, {{76, 87, 135, FACETS}}, {{76, 98, 177, 185}}, {{76, 113, 135, FACETS}}, {{80, 129, 130, 191}}, {{80, 129, 176, 191}}, {{89, 129, 176, 191}}, {{95, 154, 177, 185}}, {{98, 117, 154, 185}}, {{98, 154, 177, 185}}, {{122, 147, 169, FACETS}}},\n",
      "    VA {{{2, 53, 102, 192}}, {{2, 53, 115, 122}}, {{2, 53, 115, 192}}, {{2, 71, 83, 102}}, {{2, 71, 83, 173}}, {{2, 71, 92, 173}}, {{2, 83, 102, 192}}, {{2, 83, 108, 173}}, {{2, 83, 108, 192}}, {{2, 92, 122, FACETS}}, {{2, 108, 115, 192}}, {{6, 33, 96, FACETS}}, {{6, 33, 126, FACETS}}, {{6, 62, 96, 135}}, {{6, 62, 107, 174}}, {{6, 62, 135, 174}}, {{6, 88, 135, 174}}, {{6, 107, 126, FACETS}}, {{7, 36, 51, FACETS}}, {{7, 36, 79, FACETS}}, {{7, 51, 64, FACETS}}, {{7, 64, 138, FACETS}}, {{7, 79, 138, FACETS}}, {{7, 118, FACETS, FACETS}}, {{11, 43, 44, FACETS}}, {{11, 43, 70, FACETS}}, {{11, 44, 59, 165}}, {{11, 59, 176, FACETS}}, {{11, 70, 84, 176}}, {{11, 84, 130, FACETS}}, {{11, 130, 165, FACETS}}, {{17, 53, 84, FACETS}}, {{17, 53, 102, FACETS}}, {{17, 70, 84, FACETS}}, {{17, 70, 88, FACETS}}, {{17, 88, 102, FACETS}}, {{17, 118, FACETS, FACETS}}, {{21, 33, 96, FACETS}}, {{21, 33, 165, FACETS}}, {{21, 64, 108, 192}}, {{21, 96, 108, 115}}, {{21, 108, 115, 192}}, {{21, 115, 130, 192}}, {{21, 130, 165, FACETS}}, {{24, 43, 44, 138}}, {{24, 43, 135, 174}}, {{24, 43, 138, 174}}, {{24, 44, 92, FACETS}}, {{24, 62, 79, 122}}, {{24, 62, 79, 174}}, {{24, 62, 135, 174}}, {{24, 79, 138, 174}}, {{24, 92, 122, FACETS}}, {{30, 36, 51, 176}}, {{30, 36, 107, FACETS}}, {{30, 51, 83, 173}}, {{30, 51, 173, 176}}, {{30, 59, 71, 126}}, {{30, 59, 71, 173}}, {{30, 59, 173, 176}}, {{30, 71, 83, 173}}, {{30, 107, 126, FACETS}}, {{33, 118, 193, FACETS}}, {{33, 126, 165, 193}}, {{36, 79, 107, FACETS}}, {{36, 84, 176, FACETS}}, {{43, 70, 88, 135}}, {{43, 88, 135, 174}}, {{43, 88, 174, 177}}, {{43, 138, 174, 177}}, {{44, 59, 92, 193}}, {{44, 59, 165, 193}}, {{51, 64, 83, 108}}, {{51, 83, 108, 173}}, {{51, 108, 168, 173}}, {{51, 168, 173, 176}}, {{53, 84, 130, FACETS}}, {{53, 115, 130, 192}}, {{59, 71, 92, 173}}, {{59, 71, 92, 193}}, {{59, 71, 126, 193}}, {{59, 126, 165, 193}}, {{62, 79, 107, 174}}, {{62, 96, 115, FACETS}}, {{62, 115, 122, FACETS}}, {{64, 83, 108, 192}}, {{64, 83, 177, 192}}, {{64, 138, 177, FACETS}}, {{70, 135, 168, FACETS}}, {{70, 168, 176, FACETS}}, {{83, 102, 177, 192}}, {{88, 102, 177, FACETS}}, {{96, 108, 168, FACETS}}, {{96, 135, 168, FACETS}}},\n",
      "    VA {{{1, 52, 82, FACETS}}, {{1, 52, 93, 104}}, {{1, 77, 82, FACETS}}, {{1, 77, 127, FACETS}}, {{1, 104, 114, FACETS}}, {{1, 114, 127, FACETS}}, {{6, 34, 97, 134}}, {{6, 34, 97, 170}}, {{6, 34, 134, 146}}, {{6, 62, 124, FACETS}}, {{6, 62, 146, FACETS}}, {{6, 89, 97, 111}}, {{6, 89, 97, 134}}, {{6, 89, 111, 124}}, {{6, 97, 111, 170}}, {{9, 36, 47, 181}}, {{9, 36, 142, 181}}, {{9, 36, 142, 184}}, {{9, 47, 117, 181}}, {{9, 65, 70, 142}}, {{9, 65, 130, 184}}, {{9, 65, 142, 184}}, {{9, 70, 117, 181}}, {{9, 70, 142, 181}}, {{12, 42, 45, 148}}, {{12, 42, 108, 148}}, {{12, 45, 138, 177}}, {{12, 45, 148, 177}}, {{12, 56, 73, 177}}, {{12, 56, 73, 188}}, {{12, 56, 108, 148}}, {{12, 56, 108, 188}}, {{12, 56, 148, 177}}, {{12, 73, 87, 138}}, {{12, 73, 87, 188}}, {{12, 73, 138, 177}}, {{18, 47, 87, 127}}, {{18, 47, 87, 181}}, {{18, 47, 117, 181}}, {{18, 77, 89, 97}}, {{18, 77, 127, FACETS}}, {{18, 89, 97, 134}}, {{18, 97, 117, 134}}, {{18, 117, 134, 181}}, {{20, 42, 108, 148}}, {{20, 42, 124, 130}}, {{20, 42, 130, 148}}, {{20, 62, 104, FACETS}}, {{20, 62, 124, FACETS}}, {{20, 93, 104, 108}}, {{20, 93, 108, 148}}, {{26, 34, 70, 146}}, {{26, 34, 177, FACETS}}, {{26, 45, 65, FACETS}}, {{26, 45, 138, 177}}, {{26, 65, 70, FACETS}}, {{26, 114, 138, FACETS}}, {{26, 114, 146, FACETS}}, {{30, 36, 73, 188}}, {{30, 36, 142, 184}}, {{30, 36, 142, 188}}, {{30, 52, 56, 188}}, {{30, 52, 82, 142}}, {{30, 52, 142, 188}}, {{30, 56, 73, 170}}, {{30, 56, 73, 188}}, {{30, 82, 111, 184}}, {{30, 82, 142, 184}}, {{30, 111, 170, FACETS}}, {{34, 70, 117, 134}}, {{34, 70, 134, 146}}, {{34, 97, 117, 134}}, {{34, 170, 177, FACETS}}, {{36, 47, 87, 160}}, {{36, 47, 87, 181}}, {{36, 73, 87, 160}}, {{36, 73, 87, 188}}, {{36, 87, 181, 188}}, {{36, 142, 181, 188}}, {{42, 45, 130, 148}}, {{42, 45, 130, 165}}, {{42, 89, 124, 165}}, {{42, 124, 130, 165}}, {{45, 65, 130, 165}}, {{47, 87, 127, 160}}, {{52, 56, 93, 108}}, {{52, 56, 108, 188}}, {{52, 93, 104, 108}}, {{52, 104, 108, 172}}, {{52, 108, 172, 188}}, {{52, 142, 172, 188}}, {{56, 73, 170, 177}}, {{56, 93, 108, 148}}, {{62, 104, 114, 146}}, {{62, 114, 160, FACETS}}, {{65, 82, 142, 184}}, {{65, 82, 165, 184}}, {{65, 130, 165, 184}}, {{70, 117, 134, 181}}, {{70, 134, 146, 172}}, {{70, 134, 172, 181}}, {{70, 142, 172, 181}}, {{73, 87, 138, 160}}, {{77, 82, 111, 165}}, {{77, 89, 97, 111}}, {{77, 89, 111, 165}}, {{82, 111, 165, 184}}, {{87, 127, 138, 160}}, {{89, 111, 124, 165}}, {{104, 146, 172, FACETS}}, {{111, 124, 165, 184}}, {{114, 127, 138, 160}}, {{124, 130, 165, 184}}, {{142, 172, 181, 188}}},\n",
      "    VA {{{3, 49, 82, 125}}, {{3, 49, 82, 144}}, {{3, 49, 93, 125}}, {{3, 49, 93, 179}}, {{3, 49, 144, 179}}, {{3, 75, 82, 103}}, {{3, 75, 82, 125}}, {{3, 75, 103, 115}}, {{3, 82, 103, 144}}, {{3, 103, 115, 130}}, {{3, 103, 130, 144}}, {{3, 130, 144, 179}}, {{4, 36, 107, FACETS}}, {{4, 36, 133, FACETS}}, {{4, 66, 127, FACETS}}, {{4, 66, 133, 189}}, {{4, 107, 127, FACETS}}, {{4, 117, 189, FACETS}}, {{12, 41, 72, 164}}, {{12, 41, 110, 164}}, {{12, 53, 84, FACETS}}, {{12, 57, 72, 164}}, {{12, 84, 110, FACETS}}, {{13, 35, 122, 147}}, {{13, 35, 122, 172}}, {{13, 35, 147, 159}}, {{13, 46, 62, 139}}, {{13, 46, 62, 147}}, {{13, 46, 89, 139}}, {{13, 46, 89, 159}}, {{13, 46, 147, 159}}, {{13, 62, 79, 122}}, {{13, 62, 79, 139}}, {{13, 62, 122, 147}}, {{13, 79, 122, 172}}, {{16, 84, 110, FACETS}}, {{16, 84, 130, FACETS}}, {{16, 89, 110, 159}}, {{16, 89, 144, FACETS}}, {{16, 117, 159, FACETS}}, {{16, 117, 179, FACETS}}, {{16, 130, 144, 179}}, {{25, 41, 46, 139}}, {{25, 41, 46, 164}}, {{25, 41, 72, 127}}, {{25, 41, 72, 164}}, {{25, 41, 127, 139}}, {{25, 46, 62, 139}}, {{25, 62, 107, 139}}, {{25, 72, 93, 164}}, {{25, 107, 127, 139}}, {{26, 35, 122, 147}}, {{26, 35, 147, 189}}, {{26, 53, 103, 115}}, {{26, 53, 115, 122}}, {{26, 66, 75, 103}}, {{26, 66, 75, 189}}, {{26, 75, 103, 115}}, {{26, 75, 115, 147}}, {{26, 75, 147, 189}}, {{26, 115, 122, 147}}, {{31, 36, 79, FACETS}}, {{31, 36, 133, FACETS}}, {{31, 49, 57, 125}}, {{31, 49, 57, 172}}, {{31, 49, 82, 125}}, {{31, 79, 172, FACETS}}, {{31, 82, 125, 133}}, {{35, 98, 117, FACETS}}, {{35, 98, 172, FACETS}}, {{35, 117, 159, 189}}, {{35, 147, 159, 189}}, {{36, 79, 107, 198}}, {{36, 84, 198, FACETS}}, {{41, 46, 89, 110}}, {{41, 46, 89, 139}}, {{41, 46, 110, 164}}, {{46, 89, 110, 159}}, {{46, 110, 159, 170}}, {{46, 110, 164, 170}}, {{46, 147, 159, 170}}, {{49, 57, 93, 98}}, {{49, 57, 93, 125}}, {{49, 57, 98, 172}}, {{49, 93, 98, 179}}, {{53, 84, 130, 198}}, {{53, 103, 115, 130}}, {{53, 115, 122, 198}}, {{53, 115, 130, 198}}, {{57, 72, 93, 98}}, {{57, 72, 93, 164}}, {{57, 93, 125, 164}}, {{62, 79, 107, 139}}, {{62, 79, 107, 198}}, {{62, 79, 122, 198}}, {{62, 115, 122, 147}}, {{62, 115, 122, 198}}, {{66, 75, 82, 103}}, {{66, 75, 82, 133}}, {{66, 75, 133, 189}}, {{75, 82, 125, 133}}, {{75, 125, 133, 170}}, {{75, 133, 170, 189}}, {{75, 147, 170, 189}}, {{98, 117, 179, FACETS}}, {{125, 164, 170, FACETS}}, {{147, 159, 170, 189}}},\n",
      "    VA {{{0, 81, 107, 148}}, {{0, 81, 138, FACETS}}, {{0, 94, 133, 138}}, {{0, 94, 133, 165}}, {{0, 107, 116, 148}}, {{0, 107, 116, 154}}, {{0, 116, 154, 165}}, {{0, 133, 154, 165}}, {{9, 39, 48, 122}}, {{9, 39, 48, 190}}, {{9, 39, 122, 136}}, {{9, 39, 136, 159}}, {{9, 39, 159, 190}}, {{9, 48, 118, 190}}, {{9, 67, 96, 136}}, {{9, 67, 122, 136}}, {{9, 76, 96, 159}}, {{9, 76, 118, 190}}, {{9, 76, 159, 190}}, {{9, 96, 136, 159}}, {{10, 41, 69, 166}}, {{10, 41, 192, FACETS}}, {{10, 51, 57, 101}}, {{10, 51, 166, FACETS}}, {{10, 57, 192, FACETS}}, {{10, 69, 84, FACETS}}, {{10, 84, 101, FACETS}}, {{15, 34, 71, 103}}, {{15, 34, 71, 179}}, {{15, 34, 103, 195}}, {{15, 34, 106, 179}}, {{15, 34, 106, 195}}, {{15, 55, 60, FACETS}}, {{15, 55, 88, FACETS}}, {{15, 60, 71, 179}}, {{15, 88, 103, 195}}, {{18, 48, 84, 190}}, {{18, 48, 103, 118}}, {{18, 48, 118, 190}}, {{18, 69, 84, 154}}, {{18, 69, 88, FACETS}}, {{18, 84, 154, 190}}, {{18, 88, 103, 195}}, {{18, 103, 118, 195}}, {{18, 118, 133, 190}}, {{18, 118, 133, 195}}, {{18, 133, 154, 190}}, {{22, 39, 101, FACETS}}, {{22, 39, 122, 136}}, {{22, 57, 101, 106}}, {{22, 57, 106, 138}}, {{22, 81, 122, 136}}, {{22, 81, 138, FACETS}}, {{23, 41, 55, 96}}, {{23, 41, 192, FACETS}}, {{23, 55, 60, 159}}, {{23, 55, 96, 159}}, {{23, 60, 159, 165}}, {{23, 76, 94, 165}}, {{23, 76, 96, 159}}, {{23, 76, 159, 165}}, {{23, 94, 192, FACETS}}, {{27, 34, 51, 179}}, {{27, 34, 71, 179}}, {{27, 51, 166, FACETS}}, {{27, 67, 107, 148}}, {{27, 67, 107, 166}}, {{27, 71, 116, 148}}, {{27, 71, 116, 179}}, {{27, 107, 116, 148}}, {{34, 51, 106, 129}}, {{34, 51, 106, 179}}, {{34, 103, 118, 195}}, {{34, 106, 129, 195}}, {{34, 118, 129, 195}}, {{39, 48, 84, 190}}, {{39, 84, 101, FACETS}}, {{41, 55, 88, 188}}, {{41, 55, 96, 188}}, {{41, 69, 88, 188}}, {{41, 69, 166, 188}}, {{41, 96, 166, 188}}, {{48, 103, 156, FACETS}}, {{48, 122, 156, FACETS}}, {{51, 57, 101, 106}}, {{51, 57, 106, 129}}, {{51, 101, 106, 179}}, {{55, 96, 136, 159}}, {{55, 96, 136, 188}}, {{57, 94, 129, 138}}, {{57, 94, 192, FACETS}}, {{57, 106, 129, 138}}, {{60, 71, 116, 179}}, {{60, 116, 165, FACETS}}, {{67, 81, 107, 148}}, {{67, 81, 107, 188}}, {{67, 81, 122, 136}}, {{67, 81, 122, 148}}, {{67, 81, 136, 188}}, {{67, 96, 136, 188}}, {{67, 96, 166, 188}}, {{67, 107, 166, 188}}, {{69, 107, 154, FACETS}}, {{69, 107, 166, 188}}, {{71, 103, 156, FACETS}}, {{71, 148, 156, FACETS}}, {{76, 94, 129, 133}}, {{76, 94, 133, 165}}, {{76, 118, 129, 133}}, {{76, 118, 133, 190}}, {{76, 133, 165, 190}}, {{76, 159, 165, 190}}, {{94, 129, 133, 138}}, {{106, 129, 138, 195}}, {{118, 129, 133, 195}}, {{122, 148, 156, FACETS}}, {{129, 133, 138, 195}}, {{133, 154, 165, 190}}, {{156, 192, FACETS, FACETS}}},\n",
      "    VA {{{3, 47, 81, 99}}, {{3, 47, 81, 168}}, {{3, 47, 94, 168}}, {{3, 70, 81, 143}}, {{3, 70, 81, 168}}, {{3, 70, 143, 156}}, {{3, 81, 99, 143}}, {{3, 94, 132, FACETS}}, {{3, 99, 114, 143}}, {{3, 114, 132, 156}}, {{3, 114, 143, 156}}, {{6, 33, 96, 112}}, {{6, 33, 96, 198}}, {{6, 60, 112, 162}}, {{6, 88, 135, 198}}, {{6, 96, 112, 162}}, {{6, 96, 135, 162}}, {{6, 96, 135, 198}}, {{8, 39, 45, 139}}, {{8, 39, 45, 196}}, {{8, 45, 118, 139}}, {{8, 45, 118, 147}}, {{8, 45, 147, 196}}, {{8, 66, 73, 123}}, {{8, 66, 106, 123}}, {{8, 73, 118, 123}}, {{8, 73, 118, 139}}, {{8, 106, 123, 147}}, {{8, 106, 147, 196}}, {{8, 118, 123, 147}}, {{10, 40, 52, 158}}, {{10, 40, 184, FACETS}}, {{10, 52, 191, FACETS}}, {{10, 58, 77, 128}}, {{10, 58, 158, FACETS}}, {{10, 77, 86, 128}}, {{10, 77, 86, 191}}, {{10, 86, 128, 184}}, {{17, 45, 86, 139}}, {{17, 45, 86, 156}}, {{17, 45, 118, 139}}, {{17, 70, 88, 198}}, {{17, 70, 156, FACETS}}, {{17, 86, 139, 184}}, {{17, 88, 184, FACETS}}, {{17, 118, 198, FACETS}}, {{20, 40, 106, 158}}, {{20, 60, 132, 196}}, {{20, 94, 132, 147}}, {{20, 94, 147, 158}}, {{20, 106, 147, 158}}, {{20, 106, 147, 196}}, {{20, 132, 147, 196}}, {{27, 33, 73, 123}}, {{27, 33, 112, FACETS}}, {{27, 52, 66, 123}}, {{27, 52, 66, 143}}, {{27, 52, 143, 191}}, {{27, 66, 73, 99}}, {{27, 66, 73, 123}}, {{27, 66, 99, 143}}, {{27, 99, 114, 143}}, {{27, 112, 114, 191}}, {{27, 114, 143, 191}}, {{31, 39, 77, 128}}, {{31, 39, 77, 162}}, {{31, 47, 58, 128}}, {{31, 47, 58, 168}}, {{31, 47, 81, 168}}, {{31, 58, 77, 96}}, {{31, 58, 77, 128}}, {{31, 58, 96, 168}}, {{31, 77, 96, 162}}, {{31, 81, 135, 168}}, {{31, 96, 135, 162}}, {{31, 96, 135, 168}}, {{33, 73, 118, 123}}, {{33, 118, 198, FACETS}}, {{39, 45, 86, 139}}, {{39, 45, 86, 164}}, {{39, 45, 164, 196}}, {{39, 77, 86, 128}}, {{39, 77, 86, 164}}, {{39, 77, 162, 164}}, {{39, 86, 128, 139}}, {{39, 162, 164, 196}}, {{40, 52, 106, 158}}, {{40, 52, 106, 178}}, {{40, 88, 178, FACETS}}, {{40, 88, 184, FACETS}}, {{45, 86, 156, 164}}, {{45, 132, 147, 196}}, {{45, 132, 156, 164}}, {{45, 132, 164, 196}}, {{47, 58, 94, 168}}, {{47, 99, 154, FACETS}}, {{47, 128, 154, FACETS}}, {{52, 66, 106, 123}}, {{52, 66, 106, 178}}, {{52, 66, 143, 178}}, {{52, 106, 123, 158}}, {{58, 94, 158, FACETS}}, {{60, 112, 114, 164}}, {{60, 112, 162, 164}}, {{60, 114, 132, 164}}, {{60, 132, 164, 196}}, {{60, 162, 164, 196}}, {{66, 81, 99, 143}}, {{66, 81, 143, 178}}, {{70, 81, 135, 168}}, {{70, 81, 135, 178}}, {{70, 81, 143, 178}}, {{70, 88, 135, 178}}, {{70, 88, 135, 198}}, {{70, 135, 168, 198}}, {{73, 99, 154, FACETS}}, {{73, 139, 154, FACETS}}, {{77, 86, 164, 191}}, {{77, 96, 112, 162}}, {{77, 112, 162, 164}}, {{77, 112, 164, 191}}, {{86, 128, 139, 184}}, {{86, 156, 164, 191}}, {{96, 135, 168, 198}}, {{106, 123, 147, 158}}, {{112, 114, 164, 191}}, {{114, 132, 156, 164}}, {{114, 143, 156, 191}}, {{114, 156, 164, 191}}, {{128, 139, 154, 184}}},\n",
      "    VA {{{1, 54, 94, FACETS}}, {{1, 54, 115, 145}}, {{1, 79, 80, 190}}, {{1, 79, 94, FACETS}}, {{1, 115, 190, FACETS}}, {{5, 41, 105, 143}}, {{5, 41, 143, 173}}, {{5, 56, 105, FACETS}}, {{5, 56, 135, FACETS}}, {{5, 87, 103, 135}}, {{5, 87, 103, 173}}, {{5, 87, 143, 173}}, {{8, 37, 106, FACETS}}, {{8, 37, 172, FACETS}}, {{8, 50, 64, 172}}, {{8, 50, 117, FACETS}}, {{8, 64, 72, FACETS}}, {{8, 72, 97, FACETS}}, {{8, 97, 106, 117}}, {{14, 33, 75, 148}}, {{14, 33, 136, FACETS}}, {{14, 44, 90, 164}}, {{14, 44, 148, FACETS}}, {{14, 60, 75, FACETS}}, {{14, 60, 164, FACETS}}, {{14, 90, 136, FACETS}}, {{16, 87, 106, 145}}, {{16, 87, 143, 173}}, {{16, 87, 145, 173}}, {{16, 90, 136, 143}}, {{16, 90, 143, 173}}, {{16, 106, 117, FACETS}}, {{16, 117, 136, FACETS}}, {{25, 41, 72, 164}}, {{25, 41, 105, FACETS}}, {{25, 54, 60, FACETS}}, {{25, 54, 94, 97}}, {{25, 60, 164, FACETS}}, {{25, 72, 97, FACETS}}, {{25, 94, 105, FACETS}}, {{26, 33, 50, FACETS}}, {{26, 33, 75, FACETS}}, {{26, 50, 64, 190}}, {{26, 75, 103, 115}}, {{26, 115, 190, FACETS}}, {{31, 37, 135, FACETS}}, {{31, 37, 172, FACETS}}, {{31, 44, 80, FACETS}}, {{31, 44, 148, FACETS}}, {{31, 56, 79, FACETS}}, {{31, 56, 135, 148}}, {{31, 79, 80, 172}}, {{33, 50, 117, 136}}, {{33, 117, 171, FACETS}}, {{33, 148, 171, FACETS}}, {{37, 87, 106, FACETS}}, {{37, 87, 135, FACETS}}, {{41, 90, 143, 173}}, {{41, 90, 164, FACETS}}, {{50, 64, 172, 190}}, {{50, 99, 136, FACETS}}, {{50, 99, 172, 190}}, {{54, 60, 115, FACETS}}, {{54, 97, 106, FACETS}}, {{54, 106, 145, FACETS}}, {{56, 79, 94, 105}}, {{56, 94, 171, FACETS}}, {{56, 148, 171, FACETS}}, {{60, 75, 115, FACETS}}, {{64, 80, 172, 190}}, {{75, 103, 135, FACETS}}, {{75, 135, 148, FACETS}}, {{79, 80, 172, 190}}, {{79, 99, 105, FACETS}}, {{79, 99, 172, 190}}, {{87, 103, 145, 173}}, {{94, 97, 171, FACETS}}, {{97, 117, 171, FACETS}}, {{99, 105, 143, FACETS}}, {{99, 136, 143, FACETS}}, {{103, 115, 145, FACETS}}},\n",
      "    VA {{{1, 52, 82, 123}}, {{1, 52, 82, 199}}, {{1, 52, 104, 199}}, {{1, 74, 92, FACETS}}, {{1, 74, 104, 114}}, {{1, 92, 123, FACETS}}, {{1, 104, 114, 199}}, {{4, 39, 101, 171}}, {{4, 39, 105, 128}}, {{4, 39, 128, 171}}, {{4, 65, 101, 135}}, {{4, 65, 101, 171}}, {{4, 65, 135, 168}}, {{4, 105, 120, 128}}, {{4, 120, 168, FACETS}}, {{11, 43, 44, 198}}, {{11, 43, 70, 172}}, {{11, 43, 70, 198}}, {{11, 44, 59, 139}}, {{11, 44, 59, 198}}, {{11, 59, 136, 139}}, {{11, 59, 136, 176}}, {{11, 59, 176, 198}}, {{11, 70, 146, 172}}, {{11, 70, 146, 176}}, {{11, 70, 176, 198}}, {{11, 86, 136, 139}}, {{11, 86, 136, 146}}, {{11, 86, 146, 172}}, {{11, 136, 146, 176}}, {{15, 32, 55, FACETS}}, {{15, 32, 72, 158}}, {{15, 55, 60, 201}}, {{15, 60, 163, 179}}, {{15, 60, 179, 201}}, {{15, 72, 91, 158}}, {{15, 72, 91, 163}}, {{15, 91, 106, 158}}, {{15, 91, 106, 179}}, {{15, 91, 163, 179}}, {{15, 106, 179, 201}}, {{19, 52, 91, 158}}, {{19, 52, 91, 172}}, {{19, 52, 104, 172}}, {{19, 72, 91, 158}}, {{19, 72, 120, 128}}, {{19, 72, 120, 158}}, {{19, 86, 104, 105}}, {{19, 86, 104, 172}}, {{19, 86, 105, 128}}, {{19, 105, 120, 128}}, {{22, 39, 101, 171}}, {{22, 39, 101, 201}}, {{22, 39, 136, 139}}, {{22, 39, 136, 201}}, {{22, 39, 139, 171}}, {{22, 59, 123, FACETS}}, {{22, 59, 136, 139}}, {{22, 82, 101, 106}}, {{22, 82, 101, 171}}, {{22, 82, 106, 123}}, {{22, 101, 106, 201}}, {{24, 43, 44, 163}}, {{24, 43, 44, 198}}, {{24, 43, 135, 179}}, {{24, 43, 135, 198}}, {{24, 43, 163, 179}}, {{24, 44, 92, 198}}, {{24, 60, 74, FACETS}}, {{24, 60, 163, 179}}, {{24, 74, 92, FACETS}}, {{26, 32, 55, 176}}, {{26, 32, 168, 176}}, {{26, 55, 114, 146}}, {{26, 55, 146, 176}}, {{26, 65, 70, 168}}, {{26, 65, 70, 199}}, {{26, 70, 146, 176}}, {{26, 70, 146, 199}}, {{26, 70, 168, 176}}, {{26, 114, 146, 199}}, {{32, 72, 120, 158}}, {{32, 120, 158, 173}}, {{32, 120, 168, 173}}, {{32, 168, 173, 176}}, {{39, 86, 105, 128}}, {{39, 86, 105, 159}}, {{39, 86, 128, 139}}, {{39, 86, 136, 139}}, {{39, 86, 136, 159}}, {{39, 128, 139, 171}}, {{39, 136, 159, 201}}, {{43, 70, 135, 142}}, {{43, 70, 135, 198}}, {{43, 70, 142, 172}}, {{43, 91, 142, 172}}, {{43, 91, 142, 179}}, {{43, 91, 163, 179}}, {{43, 135, 142, 179}}, {{44, 59, 92, 198}}, {{52, 82, 106, 123}}, {{52, 82, 106, 142}}, {{52, 82, 142, 199}}, {{52, 91, 106, 142}}, {{52, 91, 106, 158}}, {{52, 91, 142, 172}}, {{52, 104, 172, 199}}, {{52, 106, 123, 158}}, {{52, 142, 172, 199}}, {{55, 60, 114, 159}}, {{55, 60, 159, 201}}, {{55, 114, 146, 159}}, {{55, 136, 146, 159}}, {{55, 136, 146, 176}}, {{55, 136, 159, 201}}, {{59, 92, 123, 173}}, {{59, 92, 173, 198}}, {{59, 173, 176, 198}}, {{60, 74, 114, 159}}, {{65, 70, 135, 142}}, {{65, 70, 135, 168}}, {{65, 70, 142, 199}}, {{65, 82, 101, 142}}, {{65, 82, 101, 171}}, {{65, 82, 142, 199}}, {{65, 101, 135, 142}}, {{70, 135, 168, 198}}, {{70, 142, 172, 199}}, {{70, 146, 172, 199}}, {{70, 168, 176, 198}}, {{74, 104, 105, 159}}, {{74, 104, 114, 159}}, {{82, 101, 106, 142}}, {{86, 104, 105, 159}}, {{86, 104, 146, 159}}, {{86, 104, 146, 172}}, {{86, 136, 146, 159}}, {{91, 106, 142, 179}}, {{101, 106, 142, 179}}, {{101, 106, 179, 201}}, {{101, 135, 142, 179}}, {{104, 114, 146, 159}}, {{104, 114, 146, 199}}, {{104, 146, 172, 199}}, {{123, 158, 173, FACETS}}, {{168, 173, 176, 198}}},\n",
      "    VA {{{1, 51, 83, 100}}, {{1, 51, 83, 167}}, {{1, 51, 95, 167}}, {{1, 51, 95, 196}}, {{1, 51, 100, 196}}, {{1, 69, 83, 141}}, {{1, 69, 83, 167}}, {{1, 83, 100, 141}}, {{1, 100, 116, 141}}, {{1, 100, 116, 196}}, {{6, 35, 98, FACETS}}, {{6, 35, 135, 162}}, {{6, 60, 162, 202}}, {{6, 60, 180, FACETS}}, {{6, 88, 105, FACETS}}, {{6, 88, 135, 202}}, {{6, 98, 105, 180}}, {{6, 135, 162, 202}}, {{9, 38, 44, 140}}, {{9, 38, 44, 187}}, {{9, 38, 140, 173}}, {{9, 44, 119, 140}}, {{9, 44, 119, 149}}, {{9, 44, 149, 187}}, {{9, 67, 78, 122}}, {{9, 67, 78, 173}}, {{9, 67, 122, 136}}, {{9, 78, 119, 122}}, {{9, 78, 119, 140}}, {{9, 78, 140, 173}}, {{9, 119, 122, 149}}, {{9, 122, 136, 149}}, {{9, 136, 149, 187}}, {{12, 40, 53, 171}}, {{12, 40, 106, 178}}, {{12, 40, 171, 178}}, {{12, 53, 200, FACETS}}, {{12, 57, 72, 129}}, {{12, 57, 72, 200}}, {{12, 57, 106, 129}}, {{12, 72, 85, 129}}, {{12, 85, 129, 178}}, {{12, 85, 171, 178}}, {{12, 106, 129, 178}}, {{18, 44, 85, 140}}, {{18, 44, 119, 140}}, {{18, 69, 88, 171}}, {{18, 85, 140, 178}}, {{18, 85, 171, 178}}, {{18, 88, 135, 178}}, {{18, 88, 171, 178}}, {{18, 119, 135, 140}}, {{18, 135, 140, 178}}, {{20, 40, 106, 202}}, {{20, 40, 136, FACETS}}, {{20, 60, 187, FACETS}}, {{20, 60, 196, 202}}, {{20, 95, 106, 196}}, {{20, 95, 149, FACETS}}, {{20, 106, 196, 202}}, {{20, 136, 149, 187}}, {{26, 35, 78, 122}}, {{26, 35, 78, 162}}, {{26, 35, 122, 200}}, {{26, 53, 67, 122}}, {{26, 53, 67, 141}}, {{26, 53, 122, 200}}, {{26, 67, 78, 100}}, {{26, 67, 78, 122}}, {{26, 67, 100, 141}}, {{26, 78, 100, 162}}, {{26, 100, 116, 141}}, {{26, 100, 116, 162}}, {{30, 38, 72, 129}}, {{30, 38, 72, 180}}, {{30, 38, 129, 173}}, {{30, 51, 57, 129}}, {{30, 51, 57, 167}}, {{30, 51, 83, 167}}, {{30, 51, 83, 173}}, {{30, 51, 129, 173}}, {{30, 57, 72, 98}}, {{30, 57, 72, 129}}, {{30, 57, 98, 167}}, {{30, 72, 98, 180}}, {{30, 83, 105, 167}}, {{30, 98, 105, 167}}, {{30, 98, 105, 180}}, {{35, 78, 119, 122}}, {{35, 78, 119, 135}}, {{35, 78, 135, 162}}, {{35, 98, 172, 200}}, {{35, 119, 122, 172}}, {{35, 122, 172, 200}}, {{38, 44, 85, 140}}, {{38, 44, 85, 165}}, {{38, 44, 165, 187}}, {{38, 72, 85, 129}}, {{38, 72, 85, 165}}, {{38, 72, 165, 180}}, {{38, 85, 129, 140}}, {{38, 129, 140, 173}}, {{38, 165, 180, 187}}, {{40, 53, 136, 160}}, {{40, 53, 160, 171}}, {{40, 88, 160, 171}}, {{40, 88, 171, 178}}, {{40, 88, 178, 202}}, {{40, 106, 178, 202}}, {{51, 57, 95, 106}}, {{51, 57, 95, 167}}, {{51, 57, 106, 129}}, {{51, 83, 100, 173}}, {{51, 95, 106, 196}}, {{53, 67, 122, 136}}, {{53, 67, 136, 160}}, {{53, 67, 141, 160}}, {{53, 141, 160, 171}}, {{57, 72, 98, 200}}, {{57, 95, 167, 172}}, {{57, 98, 167, 172}}, {{57, 98, 172, 200}}, {{60, 116, 162, 196}}, {{60, 116, 165, FACETS}}, {{60, 162, 196, 202}}, {{60, 165, 180, 187}}, {{67, 78, 100, 173}}, {{67, 83, 100, 141}}, {{67, 83, 100, 173}}, {{67, 83, 141, 160}}, {{69, 83, 105, 160}}, {{69, 83, 105, 167}}, {{69, 83, 141, 160}}, {{69, 88, 105, 160}}, {{69, 88, 160, 171}}, {{69, 141, 160, 171}}, {{78, 119, 135, 140}}, {{85, 129, 140, 178}}, {{88, 135, 178, 202}}, {{95, 149, 172, FACETS}}, {{100, 116, 162, 196}}, {{119, 122, 149, 172}}},\n",
      "    VA {{{3, 44, 80, 193}}, {{3, 44, 92, 183}}, {{3, 44, 92, 193}}, {{3, 78, 80, 179}}, {{3, 78, 80, 193}}, {{3, 78, 121, 193}}, {{3, 92, 121, 137}}, {{3, 92, 121, 193}}, {{3, 92, 137, 183}}, {{3, 116, 137, 183}}, {{3, 116, 179, FACETS}}, {{6, 32, 107, 174}}, {{6, 62, 107, 146}}, {{6, 62, 107, 174}}, {{6, 62, 124, 174}}, {{6, 62, 124, 199}}, {{6, 62, 146, 199}}, {{6, 89, 124, 199}}, {{6, 89, 134, 199}}, {{6, 134, 146, 199}}, {{8, 37, 53, 104}}, {{8, 37, 104, 172}}, {{8, 37, 172, 203}}, {{8, 53, 120, FACETS}}, {{8, 64, 72, 151}}, {{8, 64, 72, 203}}, {{8, 64, 108, 151}}, {{8, 64, 108, 172}}, {{8, 64, 172, 203}}, {{8, 72, 120, 151}}, {{8, 104, 108, 172}}, {{10, 42, 51, 101}}, {{10, 51, 101, 201}}, {{10, 51, 166, 201}}, {{10, 59, 69, 166}}, {{10, 69, 84, 201}}, {{10, 69, 166, 201}}, {{10, 84, 101, 201}}, {{17, 53, 84, FACETS}}, {{17, 53, 120, 121}}, {{17, 78, 89, 101}}, {{17, 78, 121, FACETS}}, {{17, 84, 101, FACETS}}, {{20, 42, 108, 199}}, {{20, 42, 124, 199}}, {{20, 62, 104, 137}}, {{20, 62, 104, 199}}, {{20, 62, 124, 183}}, {{20, 62, 124, 199}}, {{20, 62, 137, 183}}, {{20, 92, 137, 183}}, {{20, 104, 108, 199}}, {{27, 32, 72, 151}}, {{27, 32, 72, 174}}, {{27, 32, 107, 166}}, {{27, 32, 107, 174}}, {{27, 32, 151, 166}}, {{27, 51, 64, 151}}, {{27, 51, 64, 179}}, {{27, 51, 151, 166}}, {{27, 51, 166, 201}}, {{27, 51, 179, 201}}, {{27, 64, 72, 151}}, {{27, 107, 116, 174}}, {{27, 107, 116, 201}}, {{27, 107, 166, 201}}, {{27, 116, 179, 201}}, {{31, 37, 69, 146}}, {{31, 37, 146, 172}}, {{31, 37, 172, 203}}, {{31, 44, 59, 193}}, {{31, 44, 80, 193}}, {{31, 44, 80, 203}}, {{31, 59, 69, FACETS}}, {{31, 80, 134, 172}}, {{31, 80, 134, 193}}, {{31, 80, 172, 203}}, {{31, 134, 146, 172}}, {{32, 72, 120, 151}}, {{32, 120, 151, 178}}, {{32, 151, 166, 178}}, {{37, 53, 84, 154}}, {{37, 53, 104, 154}}, {{37, 69, 84, 154}}, {{37, 69, 146, 154}}, {{37, 104, 146, 154}}, {{37, 104, 146, 172}}, {{42, 51, 108, FACETS}}, {{42, 89, 101, FACETS}}, {{42, 89, 124, 199}}, {{44, 59, 92, 193}}, {{44, 164, 183, FACETS}}, {{44, 164, 203, FACETS}}, {{51, 64, 108, 151}}, {{51, 101, 179, 201}}, {{53, 104, 137, 154}}, {{53, 121, 137, FACETS}}, {{59, 92, 178, 193}}, {{59, 166, 178, FACETS}}, {{62, 104, 137, 154}}, {{62, 104, 146, 154}}, {{62, 104, 146, 199}}, {{62, 107, 116, 154}}, {{62, 107, 116, 174}}, {{62, 107, 146, 154}}, {{62, 116, 137, 154}}, {{62, 116, 137, 183}}, {{62, 116, 174, 183}}, {{62, 124, 174, 183}}, {{64, 80, 172, 203}}, {{64, 80, 179, FACETS}}, {{69, 84, 154, 201}}, {{69, 107, 146, 154}}, {{69, 107, 154, 201}}, {{69, 107, 166, 201}}, {{72, 164, 174, FACETS}}, {{72, 164, 203, FACETS}}, {{78, 80, 134, 193}}, {{78, 89, 134, FACETS}}, {{78, 101, 179, FACETS}}, {{92, 121, 178, 193}}, {{104, 108, 172, 199}}, {{104, 146, 172, 199}}, {{107, 116, 154, 201}}, {{120, 121, 178, FACETS}}, {{124, 164, 174, 183}}, {{134, 146, 172, 199}}},\n",
      "    VA {{{2, 55, 83, 124}}, {{2, 55, 98, FACETS}}, {{2, 72, 93, 98}}, {{2, 72, 113, FACETS}}, {{2, 83, 108, 173}}, {{2, 83, 124, 173}}, {{2, 93, 108, FACETS}}, {{2, 113, 124, 173}}, {{4, 37, 100, 156}}, {{4, 37, 127, FACETS}}, {{4, 67, 100, 134}}, {{4, 67, 107, FACETS}}, {{4, 100, 134, 156}}, {{4, 107, 127, 200}}, {{4, 117, 134, 156}}, {{4, 117, 200, FACETS}}, {{10, 40, 52, 202}}, {{10, 40, 74, 184}}, {{10, 40, 184, 202}}, {{10, 52, 56, 191}}, {{10, 52, 191, 202}}, {{10, 56, 149, FACETS}}, {{10, 74, 149, FACETS}}, {{10, 86, 184, 202}}, {{10, 86, 191, 202}}, {{14, 34, 44, FACETS}}, {{14, 34, 70, 169}}, {{14, 44, 63, 138}}, {{14, 63, 178, FACETS}}, {{14, 70, 88, 169}}, {{14, 70, 88, 178}}, {{14, 88, 137, 169}}, {{14, 137, 138, FACETS}}, {{17, 55, 88, 169}}, {{17, 55, 88, 184}}, {{17, 55, 98, 169}}, {{17, 70, 88, 169}}, {{17, 70, 88, 202}}, {{17, 70, 117, 156}}, {{17, 70, 117, 169}}, {{17, 70, 156, 202}}, {{17, 86, 156, 202}}, {{17, 86, 184, 202}}, {{17, 88, 184, 202}}, {{17, 98, 117, 169}}, {{22, 37, 100, 191}}, {{22, 37, 138, FACETS}}, {{22, 56, 108, 191}}, {{22, 83, 100, 108}}, {{22, 83, 137, FACETS}}, {{22, 100, 108, 191}}, {{22, 137, 138, FACETS}}, {{25, 40, 52, 178}}, {{25, 40, 107, FACETS}}, {{25, 52, 93, FACETS}}, {{25, 63, 72, 127}}, {{25, 63, 178, FACETS}}, {{25, 72, 93, 200}}, {{25, 72, 127, 200}}, {{25, 107, 127, 200}}, {{28, 34, 44, 149}}, {{28, 34, 134, FACETS}}, {{28, 44, 113, FACETS}}, {{28, 67, 74, 124}}, {{28, 67, 124, 173}}, {{28, 67, 134, 173}}, {{28, 74, 149, FACETS}}, {{28, 113, 124, 173}}, {{34, 70, 117, 134}}, {{34, 70, 117, 169}}, {{34, 117, 169, 179}}, {{34, 149, 179, FACETS}}, {{37, 86, 156, 191}}, {{37, 100, 156, 191}}, {{37, 127, 138, FACETS}}, {{40, 52, 178, 202}}, {{40, 74, 107, 153}}, {{40, 74, 153, 184}}, {{40, 88, 153, 184}}, {{40, 88, 178, 202}}, {{40, 88, 184, 202}}, {{44, 63, 113, FACETS}}, {{52, 56, 93, 108}}, {{52, 56, 108, 191}}, {{52, 108, 143, 191}}, {{52, 143, 178, 202}}, {{52, 143, 191, 202}}, {{55, 83, 124, 153}}, {{55, 83, 137, 153}}, {{55, 88, 137, 153}}, {{55, 88, 137, 169}}, {{55, 88, 153, 184}}, {{55, 124, 153, 184}}, {{56, 93, 179, FACETS}}, {{56, 149, 179, FACETS}}, {{63, 72, 113, FACETS}}, {{63, 127, 138, FACETS}}, {{67, 74, 107, 153}}, {{67, 74, 124, 153}}, {{67, 83, 100, 173}}, {{67, 83, 124, 153}}, {{67, 83, 124, 173}}, {{67, 100, 134, 173}}, {{70, 88, 178, 202}}, {{70, 117, 134, 156}}, {{70, 134, 143, 156}}, {{70, 143, 156, 202}}, {{70, 143, 178, 202}}, {{72, 93, 98, 200}}, {{74, 124, 153, 184}}, {{83, 100, 108, 173}}, {{86, 156, 191, 202}}, {{93, 98, 179, 200}}, {{98, 117, 169, 179}}, {{98, 117, 179, 200}}, {{100, 108, 143, 173}}, {{100, 108, 143, 191}}, {{100, 134, 143, 156}}, {{100, 134, 143, 173}}, {{100, 143, 156, 191}}, {{143, 156, 191, 202}}},\n",
      "    VA {{{0, 83, 131, 139}}, {{0, 83, 131, 164}}, {{0, 93, 148, 176}}, {{0, 93, 164, 176}}, {{0, 107, 116, 139}}, {{0, 107, 116, 148}}, {{0, 116, 131, 139}}, {{0, 116, 131, 176}}, {{0, 116, 148, 176}}, {{0, 131, 164, 176}}, {{9, 37, 76, 96}}, {{9, 37, 130, FACETS}}, {{9, 47, 64, 159}}, {{9, 47, 117, 159}}, {{9, 47, 117, 199}}, {{9, 64, 76, 159}}, {{9, 76, 96, 159}}, {{9, 96, 117, 159}}, {{9, 130, 199, FACETS}}, {{10, 43, 54, 125}}, {{10, 43, 180, FACETS}}, {{10, 54, 85, FACETS}}, {{10, 57, 101, FACETS}}, {{10, 57, 125, FACETS}}, {{10, 79, 85, FACETS}}, {{10, 79, 101, 180}}, {{15, 35, 68, 143}}, {{15, 35, 68, 189}}, {{15, 35, 143, 150}}, {{15, 53, 63, 103}}, {{15, 53, 63, 150}}, {{15, 53, 103, 195}}, {{15, 53, 143, 150}}, {{15, 53, 143, 195}}, {{15, 63, 103, 109}}, {{15, 68, 88, 189}}, {{15, 68, 88, 195}}, {{15, 68, 143, 195}}, {{15, 88, 103, 109}}, {{15, 88, 103, 195}}, {{15, 88, 109, 189}}, {{19, 54, 85, 96}}, {{19, 54, 88, 189}}, {{19, 54, 96, 189}}, {{19, 68, 88, 189}}, {{19, 68, 117, 189}}, {{19, 85, 107, FACETS}}, {{19, 96, 117, 189}}, {{20, 43, 103, 109}}, {{20, 43, 109, 125}}, {{20, 63, 103, 109}}, {{20, 63, 103, 130}}, {{20, 63, 109, 176}}, {{20, 63, 130, 148}}, {{20, 63, 148, 176}}, {{20, 93, 125, 176}}, {{20, 93, 148, 176}}, {{20, 93, 148, 199}}, {{20, 109, 125, 176}}, {{20, 130, 148, 199}}, {{28, 35, 47, 101}}, {{28, 35, 47, 159}}, {{28, 35, 101, 150}}, {{28, 47, 64, 159}}, {{28, 47, 64, 180}}, {{28, 47, 101, 180}}, {{28, 64, 131, 139}}, {{28, 64, 131, 159}}, {{28, 64, 139, 180}}, {{28, 79, 101, 150}}, {{28, 79, 101, 180}}, {{28, 79, 116, 139}}, {{28, 79, 116, 150}}, {{28, 79, 139, 180}}, {{28, 116, 131, 139}}, {{29, 37, 53, FACETS}}, {{29, 37, 76, FACETS}}, {{29, 53, 143, 195}}, {{29, 57, 143, FACETS}}, {{29, 57, 164, FACETS}}, {{29, 76, 83, 164}}, {{29, 83, 195, FACETS}}, {{35, 47, 117, 159}}, {{35, 68, 117, 189}}, {{35, 101, 143, 150}}, {{35, 117, 159, 189}}, {{37, 53, 123, 130}}, {{37, 85, 96, FACETS}}, {{37, 85, 123, FACETS}}, {{43, 54, 88, 109}}, {{43, 54, 109, 125}}, {{43, 88, 103, 109}}, {{43, 88, 103, 151}}, {{43, 151, 180, FACETS}}, {{53, 63, 103, 130}}, {{53, 63, 123, 130}}, {{53, 63, 123, 150}}, {{54, 88, 109, 189}}, {{57, 93, 125, 164}}, {{57, 101, 143, FACETS}}, {{63, 116, 123, 148}}, {{63, 116, 123, 150}}, {{63, 116, 148, 176}}, {{63, 123, 130, 148}}, {{64, 76, 83, 131}}, {{64, 76, 131, 159}}, {{64, 83, 131, 139}}, {{64, 83, 139, 151}}, {{64, 139, 151, 180}}, {{76, 83, 131, 164}}, {{79, 85, 107, 123}}, {{79, 107, 116, 123}}, {{79, 107, 116, 139}}, {{79, 116, 123, 150}}, {{83, 151, 195, FACETS}}, {{88, 103, 151, 195}}, {{93, 125, 164, 176}}, {{96, 117, 159, 189}}, {{107, 116, 123, 148}}},\n",
      "    VA {{{3, 47, 99, FACETS}}, {{3, 47, 115, 129}}, {{3, 78, 80, 179}}, {{3, 78, 93, 99}}, {{3, 78, 93, 179}}, {{3, 80, 129, 130}}, {{3, 80, 130, 179}}, {{3, 93, 179, 200}}, {{3, 115, 129, 130}}, {{3, 115, 130, 200}}, {{3, 130, 179, 200}}, {{6, 33, 96, 198}}, {{6, 33, 126, 131}}, {{6, 33, 126, 198}}, {{6, 62, 96, 198}}, {{6, 62, 107, 146}}, {{6, 62, 107, 198}}, {{6, 90, 107, 126}}, {{6, 90, 107, 146}}, {{6, 90, 126, 131}}, {{6, 107, 126, 198}}, {{8, 39, 45, 151}}, {{8, 39, 45, 196}}, {{8, 39, 68, 196}}, {{8, 45, 65, 165}}, {{8, 45, 65, 196}}, {{8, 45, 151, 165}}, {{8, 65, 109, 165}}, {{8, 68, 141, FACETS}}, {{8, 109, 120, 141}}, {{8, 109, 120, 165}}, {{8, 120, 151, 165}}, {{10, 40, 52, 207}}, {{10, 40, 74, 181}}, {{10, 40, 74, 207}}, {{10, 52, 56, 207}}, {{10, 56, 149, 157}}, {{10, 56, 149, 207}}, {{10, 74, 87, 149}}, {{10, 74, 87, 181}}, {{10, 74, 149, 207}}, {{10, 87, 149, 157}}, {{18, 47, 87, 181}}, {{18, 47, 99, FACETS}}, {{18, 74, 87, 151}}, {{18, 74, 87, 181}}, {{18, 74, 90, 126}}, {{18, 74, 90, 181}}, {{18, 74, 126, 151}}, {{18, 90, 126, 131}}, {{18, 99, 120, 131}}, {{18, 120, 126, 131}}, {{18, 120, 126, 151}}, {{21, 33, 96, 198}}, {{21, 33, 109, 165}}, {{21, 33, 165, 198}}, {{21, 65, 109, 165}}, {{21, 65, 129, 130}}, {{21, 65, 130, 165}}, {{21, 96, 115, 198}}, {{21, 115, 129, 130}}, {{21, 115, 130, 198}}, {{21, 130, 165, 198}}, {{25, 40, 52, 207}}, {{25, 40, 107, 146}}, {{25, 40, 107, 207}}, {{25, 52, 93, 141}}, {{25, 52, 93, 207}}, {{25, 62, 68, 146}}, {{25, 62, 107, 146}}, {{25, 62, 107, 200}}, {{25, 68, 141, FACETS}}, {{25, 93, 200, 207}}, {{25, 107, 200, 207}}, {{29, 39, 45, 149}}, {{29, 39, 45, 196}}, {{29, 39, 149, 157}}, {{29, 45, 80, 179}}, {{29, 45, 80, 196}}, {{29, 45, 149, 179}}, {{29, 56, 78, 179}}, {{29, 56, 149, 157}}, {{29, 56, 149, 179}}, {{29, 78, 80, 179}}, {{33, 109, 120, 165}}, {{33, 120, 126, 131}}, {{33, 120, 126, 165}}, {{33, 126, 165, 198}}, {{39, 45, 149, 151}}, {{39, 68, 167, FACETS}}, {{39, 87, 149, 151}}, {{39, 87, 149, 157}}, {{39, 87, 157, 167}}, {{40, 74, 90, 107}}, {{40, 74, 90, 181}}, {{40, 74, 107, 207}}, {{40, 90, 107, 146}}, {{40, 90, 146, 150}}, {{40, 90, 150, 181}}, {{45, 65, 80, 130}}, {{45, 65, 80, 196}}, {{45, 65, 130, 165}}, {{45, 80, 130, 179}}, {{47, 87, 167, FACETS}}, {{47, 115, 167, FACETS}}, {{47, 129, 181, FACETS}}, {{52, 56, 93, 207}}, {{52, 109, 141, FACETS}}, {{56, 78, 93, 179}}, {{56, 93, 179, 207}}, {{56, 149, 179, 207}}, {{62, 68, 167, FACETS}}, {{62, 96, 115, 167}}, {{62, 96, 115, 198}}, {{62, 107, 198, 200}}, {{62, 115, 198, 200}}, {{65, 80, 129, 130}}, {{65, 80, 129, 150}}, {{65, 80, 150, 196}}, {{68, 146, 196, FACETS}}, {{74, 87, 149, 151}}, {{74, 90, 107, 126}}, {{78, 99, 131, FACETS}}, {{93, 99, 141, FACETS}}, {{93, 179, 200, 207}}, {{96, 157, 167, FACETS}}, {{99, 120, 141, FACETS}}, {{115, 130, 198, 200}}, {{120, 126, 151, 165}}, {{129, 150, 181, FACETS}}, {{146, 150, 196, FACETS}}},\n",
      "    VA {{{1, 52, 104, 204}}, {{1, 52, 116, 123}}, {{1, 52, 123, 204}}, {{1, 74, 81, 104}}, {{1, 74, 92, 204}}, {{1, 74, 104, 204}}, {{1, 92, 123, 150}}, {{1, 92, 123, 204}}, {{1, 116, 123, 150}}, {{6, 34, 97, 170}}, {{6, 34, 105, 125}}, {{6, 34, 125, 170}}, {{6, 63, 97, 170}}, {{6, 63, 133, 170}}, {{6, 88, 105, 182}}, {{6, 105, 125, 182}}, {{6, 125, 133, 170}}, {{6, 125, 133, 182}}, {{9, 36, 47, FACETS}}, {{9, 36, 78, 158}}, {{9, 47, 64, FACETS}}, {{9, 64, 132, 140}}, {{9, 78, 140, 173}}, {{9, 78, 158, 173}}, {{9, 120, 132, 173}}, {{9, 120, 158, 173}}, {{9, 132, 140, 173}}, {{12, 42, 45, 156}}, {{12, 42, 68, FACETS}}, {{12, 45, 57, 164}}, {{12, 45, 156, 164}}, {{12, 57, 164, 200}}, {{12, 68, 84, FACETS}}, {{12, 84, 110, 200}}, {{12, 110, 156, 164}}, {{12, 110, 164, 200}}, {{19, 52, 84, 158}}, {{19, 52, 104, 204}}, {{19, 52, 158, 204}}, {{19, 68, 84, FACETS}}, {{19, 68, 88, FACETS}}, {{19, 88, 104, 105}}, {{19, 104, 105, 204}}, {{19, 105, 120, 204}}, {{19, 120, 158, 204}}, {{21, 34, 97, 170}}, {{21, 34, 132, 164}}, {{21, 34, 164, 170}}, {{21, 64, 132, 156}}, {{21, 97, 116, 170}}, {{21, 110, 116, 170}}, {{21, 110, 156, 164}}, {{21, 110, 164, 170}}, {{21, 132, 156, 164}}, {{23, 42, 45, 140}}, {{23, 45, 92, 173}}, {{23, 45, 140, 173}}, {{23, 63, 78, 123}}, {{23, 63, 123, 150}}, {{23, 78, 123, 173}}, {{23, 78, 140, 173}}, {{23, 92, 123, 150}}, {{23, 92, 123, 173}}, {{31, 36, 47, FACETS}}, {{31, 36, 133, 200}}, {{31, 47, 81, FACETS}}, {{31, 57, 74, 125}}, {{31, 57, 125, 200}}, {{31, 74, 81, 182}}, {{31, 74, 125, 182}}, {{31, 125, 133, 182}}, {{31, 125, 133, 200}}, {{34, 105, 120, FACETS}}, {{34, 120, 132, FACETS}}, {{34, 125, 164, 170}}, {{36, 78, 133, FACETS}}, {{36, 84, 158, FACETS}}, {{36, 84, 200, FACETS}}, {{42, 45, 140, 156}}, {{42, 68, 88, FACETS}}, {{42, 88, 157, FACETS}}, {{42, 140, 156, 157}}, {{45, 57, 92, FACETS}}, {{45, 132, 140, 156}}, {{45, 132, 140, 173}}, {{45, 132, 156, 164}}, {{47, 64, 81, FACETS}}, {{47, 166, FACETS, FACETS}}, {{52, 84, 110, FACETS}}, {{52, 110, 116, FACETS}}, {{52, 123, 158, 204}}, {{57, 74, 92, FACETS}}, {{57, 125, 164, 200}}, {{63, 78, 133, FACETS}}, {{63, 97, 116, 150}}, {{63, 97, 116, 170}}, {{63, 116, 123, 150}}, {{64, 81, 157, FACETS}}, {{64, 132, 140, 156}}, {{64, 140, 156, 157}}, {{68, 166, FACETS, FACETS}}, {{74, 81, 104, 182}}, {{74, 104, 105, 182}}, {{74, 104, 105, 204}}, {{74, 105, 125, 182}}, {{78, 123, 158, 173}}, {{81, 104, 157, 182}}, {{88, 104, 105, 182}}, {{88, 104, 157, 182}}, {{92, 123, 173, 204}}, {{97, 150, 166, FACETS}}, {{110, 164, 170, 200}}, {{120, 158, 173, 204}}, {{123, 158, 173, 204}}, {{125, 133, 170, 200}}, {{125, 164, 170, 200}}},\n",
      "    VA {{{1, 46, 80, FACETS}}, {{1, 46, 113, FACETS}}, {{1, 77, 113, FACETS}}, {{1, 77, 127, 199}}, {{1, 80, 127, FACETS}}, {{1, 93, 199, FACETS}}, {{5, 40, 133, 183}}, {{5, 57, 121, 194}}, {{5, 57, 143, 194}}, {{5, 86, 105, 183}}, {{5, 86, 105, 194}}, {{5, 86, 121, 133}}, {{5, 86, 121, 194}}, {{5, 86, 133, 183}}, {{5, 105, 143, 194}}, {{8, 38, 55, 97}}, {{8, 38, 55, 155}}, {{8, 38, 110, 155}}, {{8, 55, 144, 155}}, {{8, 67, 68, 144}}, {{8, 67, 68, 185}}, {{8, 67, 110, 155}}, {{8, 67, 110, 185}}, {{8, 67, 144, 155}}, {{8, 68, 117, 185}}, {{8, 97, 117, FACETS}}, {{14, 35, 47, 101}}, {{14, 35, 47, 154}}, {{14, 35, 154, 157}}, {{14, 47, 91, 154}}, {{14, 60, 75, 157}}, {{14, 60, 132, FACETS}}, {{14, 75, 91, 154}}, {{14, 75, 154, 157}}, {{14, 101, 132, FACETS}}, {{18, 47, 91, 127}}, {{18, 47, 91, 154}}, {{18, 47, 117, 154}}, {{18, 47, 117, 199}}, {{18, 47, 127, 199}}, {{18, 77, 86, 97}}, {{18, 77, 86, 183}}, {{18, 77, 97, 199}}, {{18, 77, 127, 183}}, {{18, 77, 127, 199}}, {{18, 86, 133, 183}}, {{18, 91, 127, 183}}, {{18, 91, 133, 154}}, {{18, 91, 133, 183}}, {{18, 97, 117, 199}}, {{22, 38, 110, 121}}, {{22, 38, 110, 155}}, {{22, 38, 121, 194}}, {{22, 38, 132, 155}}, {{22, 38, 132, 194}}, {{22, 57, 101, 194}}, {{22, 57, 121, 194}}, {{22, 80, 110, 155}}, {{22, 101, 132, 194}}, {{23, 40, 75, FACETS}}, {{23, 40, 144, FACETS}}, {{23, 55, 60, FACETS}}, {{23, 55, 144, FACETS}}, {{23, 60, 75, FACETS}}, {{23, 93, FACETS, FACETS}}, {{27, 35, 68, 143}}, {{27, 35, 68, 185}}, {{27, 35, 157, 185}}, {{27, 46, 67, 185}}, {{27, 46, 113, 157}}, {{27, 46, 157, 185}}, {{27, 67, 68, 185}}, {{27, 105, 113, FACETS}}, {{27, 105, 143, FACETS}}, {{35, 47, 101, 208}}, {{35, 47, 117, 154}}, {{35, 47, 117, 208}}, {{35, 68, 117, 185}}, {{35, 68, 117, 208}}, {{35, 68, 143, 208}}, {{35, 101, 143, 208}}, {{35, 117, 154, 185}}, {{35, 154, 157, 185}}, {{38, 55, 132, 155}}, {{38, 86, 97, FACETS}}, {{38, 86, 121, 194}}, {{40, 75, 91, 133}}, {{40, 91, 133, 183}}, {{40, 91, 158, 183}}, {{40, 144, 158, FACETS}}, {{46, 67, 80, 110}}, {{46, 67, 110, 185}}, {{46, 110, 149, 185}}, {{46, 149, 157, 185}}, {{47, 117, 199, 208}}, {{55, 60, 132, FACETS}}, {{57, 93, 208, FACETS}}, {{57, 101, 143, 194}}, {{57, 101, 143, 208}}, {{60, 113, 157, FACETS}}, {{67, 80, 110, 155}}, {{67, 80, 155, 158}}, {{67, 144, 155, 158}}, {{75, 91, 133, 154}}, {{75, 133, 149, 154}}, {{75, 149, 154, 157}}, {{77, 86, 105, 183}}, {{77, 105, 113, FACETS}}, {{80, 127, 158, FACETS}}, {{91, 127, 158, 183}}, {{93, 199, 208, FACETS}}, {{110, 121, 149, FACETS}}, {{121, 133, 149, FACETS}}, {{149, 154, 157, 185}}},\n",
      "    VA {{{2, 53, 81, 122}}, {{2, 53, 102, 198}}, {{2, 53, 122, 198}}, {{2, 71, 92, 162}}, {{2, 71, 92, 198}}, {{2, 71, 102, 116}}, {{2, 71, 102, 198}}, {{2, 71, 116, 162}}, {{2, 81, 109, 122}}, {{2, 92, 109, 122}}, {{2, 92, 109, 162}}, {{2, 92, 122, 198}}, {{4, 38, 99, 189}}, {{4, 38, 129, 189}}, {{4, 66, 99, 105}}, {{4, 66, 99, 189}}, {{4, 66, 105, 167}}, {{4, 66, 133, 167}}, {{4, 66, 133, 189}}, {{4, 105, 167, 193}}, {{4, 118, 129, 133}}, {{4, 118, 133, 167}}, {{4, 118, 167, 193}}, {{4, 129, 133, 189}}, {{10, 41, 46, 185}}, {{10, 41, 69, FACETS}}, {{10, 46, 58, 140}}, {{10, 46, 140, 185}}, {{10, 58, 158, FACETS}}, {{10, 69, 144, 158}}, {{10, 85, 140, 185}}, {{10, 85, 144, FACETS}}, {{14, 32, 49, 151}}, {{14, 32, 49, 196}}, {{14, 32, 76, 196}}, {{14, 49, 60, 196}}, {{14, 60, 164, 196}}, {{14, 60, 164, 203}}, {{14, 76, 90, 164}}, {{14, 76, 164, 196}}, {{14, 90, 136, 203}}, {{14, 90, 164, 203}}, {{14, 136, 151, FACETS}}, {{17, 53, 90, FACETS}}, {{17, 53, 102, 198}}, {{17, 76, 90, 185}}, {{17, 76, 118, 129}}, {{17, 76, 129, 185}}, {{17, 85, 102, FACETS}}, {{17, 85, 129, 185}}, {{17, 118, 198, FACETS}}, {{22, 38, 99, 189}}, {{22, 38, 140, 189}}, {{22, 58, 109, 122}}, {{22, 58, 109, 140}}, {{22, 58, 122, 151}}, {{22, 81, 99, 136}}, {{22, 81, 99, 189}}, {{22, 81, 109, 122}}, {{22, 81, 109, 189}}, {{22, 81, 122, 136}}, {{22, 109, 140, 189}}, {{22, 122, 136, 151}}, {{25, 41, 46, 164}}, {{25, 41, 105, 203}}, {{25, 41, 164, 203}}, {{25, 46, 92, 162}}, {{25, 46, 162, 164}}, {{25, 60, 71, 162}}, {{25, 60, 162, 164}}, {{25, 60, 164, 203}}, {{25, 71, 92, 162}}, {{25, 71, 92, 193}}, {{25, 105, 193, FACETS}}, {{28, 32, 49, 158}}, {{28, 32, 49, 196}}, {{28, 32, 133, 167}}, {{28, 32, 133, 196}}, {{28, 32, 158, 167}}, {{28, 49, 116, 144}}, {{28, 49, 116, 196}}, {{28, 49, 144, 158}}, {{28, 66, 69, 167}}, {{28, 66, 133, 167}}, {{28, 69, 144, 158}}, {{28, 69, 158, 167}}, {{32, 49, 151, 158}}, {{32, 76, 118, 133}}, {{32, 76, 133, 196}}, {{32, 118, 133, 167}}, {{38, 85, 129, 140}}, {{38, 85, 179, FACETS}}, {{38, 129, 140, 189}}, {{41, 46, 164, 185}}, {{41, 69, 105, 143}}, {{41, 90, 143, 203}}, {{41, 90, 164, 185}}, {{41, 90, 164, 203}}, {{41, 105, 143, 203}}, {{46, 58, 92, 109}}, {{46, 58, 109, 140}}, {{46, 92, 109, 162}}, {{46, 109, 140, 153}}, {{46, 109, 153, 162}}, {{46, 140, 153, 185}}, {{46, 153, 162, 164}}, {{46, 153, 164, 185}}, {{49, 60, 116, 179}}, {{49, 60, 116, 196}}, {{49, 116, 144, 179}}, {{53, 81, 122, 136}}, {{53, 81, 136, 143}}, {{53, 90, 136, 143}}, {{58, 92, 109, 122}}, {{58, 151, 158, FACETS}}, {{60, 71, 116, 162}}, {{60, 71, 116, 179}}, {{60, 116, 162, 196}}, {{60, 162, 164, 196}}, {{66, 69, 105, 143}}, {{66, 69, 105, 167}}, {{66, 81, 99, 143}}, {{66, 81, 99, 189}}, {{66, 99, 105, 143}}, {{71, 92, 193, 198}}, {{71, 102, 116, 179}}, {{76, 90, 164, 185}}, {{76, 118, 129, 133}}, {{76, 129, 133, 153}}, {{76, 129, 153, 185}}, {{76, 133, 153, 196}}, {{76, 153, 164, 185}}, {{76, 153, 164, 196}}, {{81, 99, 136, 143}}, {{85, 102, 144, 179}}, {{85, 129, 140, 185}}, {{90, 136, 143, 203}}, {{99, 105, 143, 203}}, {{99, 136, 143, 203}}, {{102, 116, 144, 179}}, {{109, 140, 153, 189}}, {{118, 193, 198, FACETS}}, {{129, 133, 153, 189}}, {{129, 140, 153, 185}}, {{129, 140, 153, 189}}, {{153, 162, 164, 196}}},\n",
      "    VA {{{0, 81, 135, 178}}, {{0, 81, 138, FACETS}}, {{0, 92, 160, FACETS}}, {{0, 92, 178, FACETS}}, {{0, 105, 113, FACETS}}, {{0, 105, 138, 160}}, {{0, 113, 135, FACETS}}, {{9, 38, 70, 145}}, {{9, 38, 132, 145}}, {{9, 38, 132, 194}}, {{9, 48, 65, 102}}, {{9, 48, 65, 142}}, {{9, 48, 102, 190}}, {{9, 48, 118, 142}}, {{9, 48, 118, 190}}, {{9, 65, 70, 142}}, {{9, 65, 70, 145}}, {{9, 65, 102, 145}}, {{9, 102, 132, 145}}, {{9, 102, 132, 190}}, {{9, 118, 190, 194}}, {{9, 132, 190, 194}}, {{10, 42, 51, 128}}, {{10, 42, 51, 206}}, {{10, 51, 86, 128}}, {{10, 51, 86, 166}}, {{10, 51, 166, 206}}, {{10, 59, 97, 166}}, {{10, 59, 97, 186}}, {{10, 59, 166, 206}}, {{10, 77, 86, 97}}, {{10, 77, 86, 128}}, {{10, 77, 97, 186}}, {{10, 86, 97, 166}}, {{15, 33, 73, 100}}, {{15, 33, 73, 153}}, {{15, 33, 100, 197}}, {{15, 55, 60, FACETS}}, {{15, 55, 153, FACETS}}, {{15, 60, 108, 197}}, {{15, 73, 90, 100}}, {{15, 90, 100, 108}}, {{15, 100, 108, 197}}, {{19, 51, 86, 128}}, {{19, 51, 90, 100}}, {{19, 51, 90, 128}}, {{19, 73, 90, 100}}, {{19, 73, 90, 138}}, {{19, 73, 100, 118}}, {{19, 73, 118, 160}}, {{19, 73, 138, 160}}, {{19, 86, 105, 128}}, {{19, 86, 105, 194}}, {{19, 90, 128, 138}}, {{19, 105, 128, 138}}, {{19, 105, 138, 160}}, {{19, 105, 160, 194}}, {{19, 118, 160, 194}}, {{20, 42, 102, FACETS}}, {{20, 42, 108, 206}}, {{20, 60, 108, FACETS}}, {{20, 60, 132, FACETS}}, {{20, 92, 190, FACETS}}, {{20, 92, 206, FACETS}}, {{20, 102, 132, 190}}, {{28, 33, 48, 142}}, {{28, 33, 48, 186}}, {{28, 33, 142, 197}}, {{28, 48, 65, 142}}, {{28, 65, 135, 142}}, {{28, 77, 113, FACETS}}, {{28, 77, 186, FACETS}}, {{28, 113, 135, 197}}, {{28, 135, 142, 197}}, {{29, 38, 55, 97}}, {{29, 38, 55, 145}}, {{29, 38, 70, 145}}, {{29, 38, 70, 166}}, {{29, 38, 97, 166}}, {{29, 55, 97, 153}}, {{29, 59, 97, 153}}, {{29, 59, 97, 166}}, {{29, 59, 166, 178}}, {{29, 70, 81, 145}}, {{29, 70, 81, 178}}, {{29, 70, 166, 178}}, {{33, 48, 118, 123}}, {{33, 48, 118, 142}}, {{33, 48, 123, 186}}, {{33, 73, 100, 118}}, {{33, 73, 118, 123}}, {{33, 73, 123, 153}}, {{33, 100, 118, 142}}, {{33, 100, 142, 197}}, {{33, 123, 153, 186}}, {{38, 55, 97, 211}}, {{38, 55, 132, 145}}, {{38, 55, 132, 211}}, {{38, 86, 97, 166}}, {{38, 86, 97, 211}}, {{38, 86, 194, 211}}, {{38, 132, 194, 211}}, {{42, 51, 90, 108}}, {{42, 51, 90, 128}}, {{42, 51, 108, 206}}, {{48, 118, 123, 190}}, {{51, 90, 100, 108}}, {{51, 100, 108, 151}}, {{51, 108, 151, 206}}, {{51, 151, 166, 206}}, {{55, 60, 132, 211}}, {{59, 92, 123, FACETS}}, {{59, 92, 178, 206}}, {{59, 97, 153, 186}}, {{59, 123, 153, 186}}, {{59, 166, 178, 206}}, {{60, 113, 197, FACETS}}, {{60, 113, 211, FACETS}}, {{65, 70, 81, 135}}, {{65, 70, 81, 145}}, {{65, 70, 135, 142}}, {{70, 81, 135, 178}}, {{70, 135, 142, 151}}, {{70, 135, 151, 178}}, {{70, 151, 166, 178}}, {{73, 118, 123, 160}}, {{77, 86, 97, 211}}, {{77, 86, 105, 128}}, {{77, 86, 105, 211}}, {{77, 105, 113, 211}}, {{86, 105, 194, 211}}, {{92, 123, 160, 190}}, {{100, 108, 151, 197}}, {{100, 142, 151, 197}}, {{118, 123, 160, 190}}, {{118, 160, 190, 194}}, {{135, 142, 151, 197}}, {{151, 166, 178, 206}}},\n",
      "    VA {{{2, 45, 80, FACETS}}, {{2, 45, 113, 173}}, {{2, 72, 93, 128}}, {{2, 72, 93, 207}}, {{2, 72, 113, 207}}, {{2, 80, 128, 187}}, {{2, 93, 108, 187}}, {{2, 93, 108, 207}}, {{2, 93, 128, 187}}, {{2, 108, 173, 207}}, {{2, 113, 173, 207}}, {{6, 33, 126, 131}}, {{6, 33, 131, 144}}, {{6, 63, 97, 111}}, {{6, 63, 111, 185}}, {{6, 63, 126, 185}}, {{6, 89, 97, 111}}, {{6, 89, 144, FACETS}}, {{6, 126, 131, 185}}, {{7, 36, 79, 178}}, {{7, 36, 143, 178}}, {{7, 52, 119, 143}}, {{7, 52, 121, 178}}, {{7, 52, 143, 178}}, {{7, 65, 79, 121}}, {{7, 65, 183, FACETS}}, {{7, 79, 121, 178}}, {{7, 119, 183, FACETS}}, {{11, 43, 132, 147}}, {{11, 43, 132, 167}}, {{11, 47, 58, 160}}, {{11, 47, 87, 160}}, {{11, 47, 87, 167}}, {{11, 58, 75, 160}}, {{11, 75, 147, 189}}, {{11, 75, 160, 189}}, {{11, 87, 132, 167}}, {{11, 87, 132, 189}}, {{11, 87, 160, 189}}, {{11, 132, 147, 189}}, {{16, 87, 132, 167}}, {{16, 87, 132, 173}}, {{16, 87, 143, 173}}, {{16, 89, 132, 167}}, {{16, 89, 144, FACETS}}, {{16, 108, 119, 143}}, {{16, 108, 119, 144}}, {{16, 108, 143, 173}}, {{25, 43, 97, 111}}, {{25, 43, 111, 121}}, {{25, 52, 93, 207}}, {{25, 52, 121, 178}}, {{25, 52, 178, 207}}, {{25, 63, 72, 97}}, {{25, 63, 72, 207}}, {{25, 63, 97, 111}}, {{25, 63, 111, 178}}, {{25, 63, 178, 207}}, {{25, 72, 93, 207}}, {{25, 111, 121, 178}}, {{26, 33, 75, 126}}, {{26, 33, 183, FACETS}}, {{26, 45, 65, 147}}, {{26, 45, 113, 189}}, {{26, 45, 147, 189}}, {{26, 65, 183, FACETS}}, {{26, 75, 126, 189}}, {{26, 75, 147, 189}}, {{26, 113, 126, 189}}, {{31, 36, 47, 160}}, {{31, 36, 79, 185}}, {{31, 36, 160, 185}}, {{31, 47, 58, 128}}, {{31, 47, 58, 160}}, {{31, 58, 128, 187}}, {{31, 58, 131, 160}}, {{31, 58, 131, 187}}, {{31, 79, 80, FACETS}}, {{31, 80, 128, 187}}, {{31, 131, 160, 185}}, {{33, 75, 104, 131}}, {{33, 75, 126, 131}}, {{33, 104, 119, 144}}, {{33, 104, 131, 144}}, {{33, 119, 183, FACETS}}, {{36, 47, 87, 160}}, {{36, 79, 178, 185}}, {{36, 87, 143, FACETS}}, {{43, 89, 97, 111}}, {{43, 89, 97, 167}}, {{43, 89, 111, 196}}, {{43, 89, 132, 167}}, {{43, 89, 132, 196}}, {{43, 111, 121, 196}}, {{43, 121, 147, 196}}, {{43, 132, 147, 196}}, {{45, 65, 80, 196}}, {{45, 65, 147, 196}}, {{45, 113, 173, 189}}, {{45, 132, 147, 189}}, {{45, 132, 147, 196}}, {{45, 132, 173, 189}}, {{47, 128, 175, FACETS}}, {{47, 167, 175, FACETS}}, {{52, 93, 104, 108}}, {{52, 93, 108, 207}}, {{52, 104, 108, 119}}, {{52, 108, 119, 143}}, {{52, 108, 143, 207}}, {{52, 143, 178, 207}}, {{58, 75, 104, 131}}, {{58, 75, 131, 160}}, {{58, 93, 104, 187}}, {{58, 93, 128, 187}}, {{58, 104, 131, 187}}, {{63, 72, 113, 207}}, {{63, 111, 178, 185}}, {{63, 113, 126, FACETS}}, {{65, 79, 80, 196}}, {{65, 79, 121, 196}}, {{65, 121, 147, 196}}, {{72, 97, 175, FACETS}}, {{72, 128, 175, FACETS}}, {{75, 126, 131, 160}}, {{75, 126, 160, 189}}, {{79, 111, 121, 178}}, {{79, 111, 121, 196}}, {{79, 111, 178, 185}}, {{87, 132, 173, 189}}, {{93, 104, 108, 187}}, {{97, 167, 175, FACETS}}, {{104, 108, 119, 144}}, {{104, 108, 144, 187}}, {{104, 131, 144, 187}}, {{108, 143, 173, 207}}, {{126, 131, 160, 185}}, {{175, 183, FACETS, FACETS}}},\n",
      "    VA {{{1, 46, 80, 190}}, {{1, 46, 80, 211}}, {{1, 46, 175, 190}}, {{1, 69, 93, 145}}, {{1, 69, 115, 145}}, {{1, 69, 115, 175}}, {{1, 80, 190, 203}}, {{1, 93, 211, FACETS}}, {{1, 115, 145, 203}}, {{1, 115, 175, 190}}, {{1, 115, 190, 203}}, {{4, 36, 107, 188}}, {{4, 36, 186, 188}}, {{4, 64, 131, 177}}, {{4, 64, 131, 186}}, {{4, 107, 119, 166}}, {{4, 107, 166, 188}}, {{4, 119, 166, 177}}, {{4, 131, 166, 177}}, {{4, 131, 166, 188}}, {{4, 131, 186, 188}}, {{11, 42, 49, 98}}, {{11, 42, 49, 124}}, {{11, 42, 76, 98}}, {{11, 42, 76, 165}}, {{11, 42, 124, 165}}, {{11, 49, 57, 98}}, {{11, 57, 137, FACETS}}, {{11, 76, 165, 182}}, {{11, 85, 124, 165}}, {{11, 85, 137, 182}}, {{11, 85, 165, 182}}, {{15, 34, 53, 103}}, {{15, 34, 53, 121}}, {{15, 34, 71, 103}}, {{15, 34, 71, 149}}, {{15, 34, 121, 149}}, {{15, 53, 63, 103}}, {{15, 53, 63, 181}}, {{15, 53, 121, 181}}, {{15, 71, 89, 149}}, {{15, 89, 110, 149}}, {{15, 110, 121, 149}}, {{15, 110, 121, 181}}, {{19, 46, 89, 149}}, {{19, 46, 89, 165}}, {{19, 46, 165, 175}}, {{19, 71, 89, 124}}, {{19, 71, 89, 149}}, {{19, 71, 119, 149}}, {{19, 85, 107, 175}}, {{19, 85, 124, 165}}, {{19, 85, 165, 175}}, {{19, 89, 124, 165}}, {{19, 107, 119, FACETS}}, {{22, 36, 137, 181}}, {{22, 36, 181, 186}}, {{22, 57, 121, 137}}, {{22, 57, 121, 211}}, {{22, 80, 110, 186}}, {{22, 80, 110, 211}}, {{22, 110, 121, 181}}, {{22, 110, 121, 211}}, {{22, 110, 181, 186}}, {{22, 121, 137, 181}}, {{24, 42, 49, 98}}, {{24, 42, 98, 131}}, {{24, 49, 93, 98}}, {{24, 49, 93, 145}}, {{24, 63, 69, 145}}, {{24, 63, 69, 188}}, {{24, 69, 93, 145}}, {{24, 69, 93, 166}}, {{24, 69, 166, 188}}, {{24, 93, 98, 166}}, {{24, 98, 131, 166}}, {{24, 131, 166, 188}}, {{26, 34, 53, 103}}, {{26, 34, 177, FACETS}}, {{26, 53, 103, 115}}, {{26, 53, 115, 182}}, {{26, 64, 76, 177}}, {{26, 64, 76, 190}}, {{26, 64, 190, 203}}, {{26, 76, 182, 190}}, {{26, 103, 115, 203}}, {{26, 115, 182, 190}}, {{26, 115, 190, 203}}, {{34, 71, 119, 149}}, {{34, 119, 177, FACETS}}, {{36, 85, 107, 142}}, {{36, 85, 137, 142}}, {{36, 107, 142, 188}}, {{36, 137, 142, 181}}, {{36, 142, 181, 188}}, {{36, 181, 186, 188}}, {{42, 76, 98, 131}}, {{42, 76, 131, 159}}, {{42, 76, 159, 165}}, {{42, 89, 124, 165}}, {{42, 89, 159, 165}}, {{46, 80, 110, 159}}, {{46, 80, 110, 211}}, {{46, 80, 159, 190}}, {{46, 89, 110, 149}}, {{46, 89, 110, 159}}, {{46, 89, 159, 165}}, {{46, 110, 149, 211}}, {{46, 159, 165, 190}}, {{46, 165, 175, 190}}, {{49, 57, 93, 98}}, {{49, 124, 173, FACETS}}, {{49, 145, 173, FACETS}}, {{53, 63, 103, 115}}, {{53, 63, 115, 142}}, {{53, 63, 142, 181}}, {{53, 115, 142, 182}}, {{53, 121, 137, 181}}, {{53, 137, 142, 181}}, {{53, 137, 142, 182}}, {{57, 93, 211, FACETS}}, {{63, 69, 115, 142}}, {{63, 69, 115, 145}}, {{63, 69, 142, 188}}, {{63, 103, 115, 145}}, {{63, 142, 181, 188}}, {{64, 76, 131, 159}}, {{64, 76, 131, 177}}, {{64, 76, 159, 190}}, {{64, 80, 159, 186}}, {{64, 80, 159, 190}}, {{64, 80, 190, 203}}, {{64, 131, 159, 186}}, {{69, 107, 142, 175}}, {{69, 107, 142, 188}}, {{69, 107, 166, 188}}, {{69, 115, 142, 175}}, {{71, 103, 173, FACETS}}, {{71, 124, 173, FACETS}}, {{76, 98, 131, 177}}, {{76, 159, 165, 190}}, {{76, 165, 182, 190}}, {{80, 110, 159, 186}}, {{85, 107, 142, 175}}, {{85, 137, 142, 182}}, {{85, 142, 175, 182}}, {{85, 165, 175, 182}}, {{98, 131, 166, 177}}, {{103, 115, 145, 203}}, {{103, 145, 173, 203}}, {{110, 121, 149, 211}}, {{115, 142, 175, 182}}, {{115, 175, 182, 190}}, {{165, 175, 182, 190}}},\n",
      "    VA {{{3, 44, 80, 197}}, {{3, 44, 80, 206}}, {{3, 44, 183, 206}}, {{3, 70, 95, 144}}, {{3, 70, 116, 144}}, {{3, 70, 116, 183}}, {{3, 80, 130, 179}}, {{3, 80, 130, 197}}, {{3, 80, 179, 206}}, {{3, 95, 130, 144}}, {{3, 95, 130, 197}}, {{3, 116, 144, 179}}, {{3, 116, 179, 206}}, {{3, 116, 183, 206}}, {{3, 130, 144, 179}}, {{4, 36, 133, 195}}, {{4, 36, 186, 195}}, {{4, 36, 186, 215}}, {{4, 64, 111, 157}}, {{4, 64, 111, 186}}, {{4, 64, 186, 215}}, {{4, 111, 118, 157}}, {{4, 111, 118, 195}}, {{4, 111, 186, 195}}, {{4, 118, 133, 167}}, {{4, 118, 133, 195}}, {{4, 118, 157, 167}}, {{12, 41, 55, 96}}, {{12, 41, 55, 126}}, {{12, 41, 72, 96}}, {{12, 41, 72, 164}}, {{12, 41, 126, 164}}, {{12, 55, 58, 96}}, {{12, 55, 58, 161}}, {{12, 55, 126, 161}}, {{12, 58, 109, 161}}, {{12, 72, 164, 174}}, {{12, 86, 109, 161}}, {{12, 86, 109, 174}}, {{12, 86, 126, 161}}, {{12, 86, 126, 164}}, {{12, 86, 164, 174}}, {{13, 35, 52, 102}}, {{13, 35, 52, 122}}, {{13, 35, 74, 102}}, {{13, 35, 74, 147}}, {{13, 35, 122, 147}}, {{13, 52, 61, 102}}, {{13, 61, 173, FACETS}}, {{13, 74, 90, 147}}, {{13, 90, 173, FACETS}}, {{18, 44, 90, 147}}, {{18, 44, 90, 164}}, {{18, 44, 164, 183}}, {{18, 74, 90, 126}}, {{18, 74, 90, 147}}, {{18, 74, 118, 147}}, {{18, 74, 118, 195}}, {{18, 74, 126, 195}}, {{18, 86, 126, 164}}, {{18, 86, 126, 195}}, {{18, 86, 133, 183}}, {{18, 86, 133, 195}}, {{18, 86, 164, 183}}, {{18, 90, 126, 164}}, {{18, 118, 133, 195}}, {{22, 36, 109, 161}}, {{22, 36, 161, 186}}, {{22, 36, 186, 215}}, {{22, 58, 109, 122}}, {{22, 58, 109, 161}}, {{22, 58, 122, 197}}, {{22, 58, 130, 161}}, {{22, 58, 130, 197}}, {{22, 80, 130, 186}}, {{22, 80, 130, 197}}, {{22, 80, 186, 215}}, {{22, 130, 161, 186}}, {{23, 41, 55, 96}}, {{23, 41, 173, FACETS}}, {{23, 55, 95, 96}}, {{23, 55, 95, 144}}, {{23, 61, 70, 144}}, {{23, 61, 173, FACETS}}, {{23, 70, 95, 144}}, {{23, 70, 95, 167}}, {{23, 95, 96, 167}}, {{27, 35, 52, 102}}, {{27, 35, 102, 111}}, {{27, 35, 111, 157}}, {{27, 52, 102, 116}}, {{27, 52, 116, 174}}, {{27, 64, 72, 157}}, {{27, 64, 72, 206}}, {{27, 64, 111, 157}}, {{27, 64, 111, 179}}, {{27, 64, 179, 206}}, {{27, 72, 174, 206}}, {{27, 102, 111, 179}}, {{27, 102, 116, 179}}, {{27, 116, 174, 206}}, {{27, 116, 179, 206}}, {{35, 74, 102, 111}}, {{35, 74, 111, 118}}, {{35, 74, 118, 147}}, {{35, 111, 118, 157}}, {{36, 86, 109, 141}}, {{36, 86, 109, 161}}, {{36, 86, 133, 141}}, {{36, 86, 133, 195}}, {{36, 86, 161, 195}}, {{36, 161, 186, 195}}, {{41, 72, 164, 203}}, {{41, 90, 126, 164}}, {{41, 90, 164, 203}}, {{41, 90, 173, 203}}, {{44, 80, 203, 206}}, {{44, 90, 164, 203}}, {{44, 147, 197, FACETS}}, {{44, 164, 183, 206}}, {{44, 164, 203, 206}}, {{52, 61, 102, 116}}, {{52, 61, 116, 141}}, {{52, 109, 122, FACETS}}, {{52, 109, 141, 174}}, {{52, 116, 141, 174}}, {{55, 58, 95, 96}}, {{55, 58, 95, 130}}, {{55, 58, 130, 161}}, {{55, 95, 130, 144}}, {{58, 95, 130, 197}}, {{61, 70, 116, 141}}, {{61, 70, 116, 144}}, {{61, 102, 116, 144}}, {{64, 72, 203, 206}}, {{64, 80, 179, 186}}, {{64, 80, 179, 206}}, {{64, 80, 186, 215}}, {{64, 80, 203, 206}}, {{64, 80, 203, 215}}, {{64, 111, 179, 186}}, {{70, 116, 141, 183}}, {{70, 133, 141, 183}}, {{70, 133, 167, FACETS}}, {{72, 96, 157, FACETS}}, {{72, 164, 174, 206}}, {{72, 164, 203, 206}}, {{74, 111, 118, 195}}, {{80, 130, 179, 186}}, {{86, 109, 141, 174}}, {{86, 126, 161, 195}}, {{86, 133, 141, 183}}, {{86, 141, 174, 183}}, {{86, 164, 174, 183}}, {{96, 157, 167, FACETS}}, {{102, 116, 144, 179}}, {{116, 141, 174, 183}}, {{116, 174, 183, 206}}, {{122, 147, 197, FACETS}}, {{164, 174, 183, 206}}, {{173, 203, 215, FACETS}}},\n",
      "    VA {{{3, 47, 81, 99}}, {{3, 47, 81, 180}}, {{3, 47, 99, 209}}, {{3, 47, 115, 180}}, {{3, 47, 115, 209}}, {{3, 75, 115, 180}}, {{3, 75, 115, 200}}, {{3, 75, 125, 188}}, {{3, 75, 125, 200}}, {{3, 75, 180, 188}}, {{3, 81, 99, 136}}, {{3, 81, 136, 188}}, {{3, 81, 180, 188}}, {{3, 93, 99, 136}}, {{3, 93, 99, 209}}, {{3, 93, 125, 136}}, {{3, 93, 125, 200}}, {{3, 93, 200, 209}}, {{3, 115, 200, 209}}, {{3, 125, 136, 188}}, {{5, 42, 102, FACETS}}, {{5, 42, 112, 141}}, {{5, 59, 112, 141}}, {{5, 59, 112, 173}}, {{5, 59, 123, 173}}, {{5, 85, 102, 134}}, {{5, 85, 123, 134}}, {{5, 123, 134, 173}}, {{7, 37, 46, 138}}, {{7, 37, 46, 170}}, {{7, 46, 138, 162}}, {{7, 46, 162, 164}}, {{7, 46, 164, 170}}, {{7, 64, 77, 152}}, {{7, 64, 77, 162}}, {{7, 64, 138, 162}}, {{7, 77, 119, 152}}, {{7, 77, 119, 164}}, {{7, 77, 162, 164}}, {{7, 119, 164, 170}}, {{15, 32, 55, 184}}, {{15, 32, 55, 204}}, {{15, 32, 158, 167}}, {{15, 32, 158, 204}}, {{15, 32, 167, 184}}, {{15, 55, 88, 184}}, {{15, 55, 88, 201}}, {{15, 55, 201, 204}}, {{15, 62, 68, 167}}, {{15, 62, 68, 195}}, {{15, 62, 106, 158}}, {{15, 62, 106, 195}}, {{15, 62, 158, 167}}, {{15, 68, 88, 184}}, {{15, 68, 88, 195}}, {{15, 68, 167, 184}}, {{15, 88, 195, 201}}, {{15, 106, 158, 204}}, {{15, 106, 195, 201}}, {{15, 106, 201, 204}}, {{17, 55, 88, 184}}, {{17, 55, 88, 188}}, {{17, 55, 119, 125}}, {{17, 55, 119, 184}}, {{17, 55, 125, 188}}, {{17, 75, 85, 102}}, {{17, 75, 85, 170}}, {{17, 75, 102, 188}}, {{17, 75, 125, 170}}, {{17, 75, 125, 188}}, {{17, 88, 102, 188}}, {{17, 119, 125, 170}}, {{22, 37, 106, 123}}, {{22, 37, 106, 138}}, {{22, 59, 99, 136}}, {{22, 59, 123, 204}}, {{22, 59, 136, 204}}, {{22, 81, 99, 136}}, {{22, 81, 136, 201}}, {{22, 81, 138, 201}}, {{22, 106, 123, 204}}, {{22, 106, 138, 201}}, {{22, 106, 201, 204}}, {{22, 136, 201, 204}}, {{25, 42, 68, 141}}, {{25, 42, 68, 195}}, {{25, 42, 112, 141}}, {{25, 42, 112, 162}}, {{25, 42, 162, 195}}, {{25, 46, 62, 195}}, {{25, 46, 62, 200}}, {{25, 46, 162, 164}}, {{25, 46, 162, 195}}, {{25, 46, 164, 200}}, {{25, 62, 68, 195}}, {{25, 62, 68, 209}}, {{25, 62, 200, 209}}, {{25, 68, 141, 209}}, {{25, 93, 112, 141}}, {{25, 93, 112, 164}}, {{25, 93, 141, 209}}, {{25, 93, 164, 200}}, {{25, 93, 200, 209}}, {{25, 112, 162, 164}}, {{28, 32, 77, 152}}, {{28, 32, 77, 173}}, {{28, 32, 152, 167}}, {{28, 32, 158, 167}}, {{28, 32, 158, 173}}, {{28, 47, 64, 152}}, {{28, 47, 64, 180}}, {{28, 47, 115, 167}}, {{28, 47, 115, 180}}, {{28, 47, 152, 167}}, {{28, 64, 77, 152}}, {{28, 115, 134, 158}}, {{28, 115, 134, 180}}, {{28, 115, 158, 167}}, {{28, 134, 158, 173}}, {{32, 55, 119, 176}}, {{32, 55, 119, 184}}, {{32, 55, 176, 204}}, {{32, 77, 119, 152}}, {{32, 77, 119, 176}}, {{32, 77, 173, 176}}, {{32, 119, 152, 184}}, {{32, 152, 167, 184}}, {{32, 158, 173, 204}}, {{32, 173, 176, 204}}, {{37, 46, 106, 138}}, {{37, 46, 106, 147}}, {{37, 46, 147, 170}}, {{37, 85, 123, 147}}, {{37, 85, 147, 170}}, {{37, 106, 123, 147}}, {{42, 68, 88, 195}}, {{42, 88, 102, FACETS}}, {{46, 62, 106, 147}}, {{46, 62, 106, 195}}, {{46, 62, 147, 200}}, {{46, 106, 138, 195}}, {{46, 138, 162, 195}}, {{46, 147, 170, 200}}, {{46, 164, 170, 200}}, {{47, 64, 81, 180}}, {{47, 115, 167, 209}}, {{55, 88, 188, 201}}, {{55, 119, 125, 176}}, {{55, 125, 136, 176}}, {{55, 125, 136, 188}}, {{55, 136, 176, 204}}, {{55, 136, 188, 201}}, {{55, 136, 201, 204}}, {{59, 93, 99, 136}}, {{59, 93, 99, 141}}, {{59, 93, 112, 141}}, {{59, 93, 112, 176}}, {{59, 93, 136, 176}}, {{59, 112, 173, 176}}, {{59, 123, 173, 204}}, {{59, 136, 176, 204}}, {{59, 173, 176, 204}}, {{62, 68, 167, 209}}, {{62, 106, 147, 158}}, {{62, 115, 147, 158}}, {{62, 115, 147, 200}}, {{62, 115, 158, 167}}, {{62, 115, 167, 209}}, {{62, 115, 200, 209}}, {{64, 81, 138, FACETS}}, {{75, 85, 102, 134}}, {{75, 85, 134, 147}}, {{75, 85, 147, 170}}, {{75, 102, 134, 180}}, {{75, 102, 180, 188}}, {{75, 115, 134, 147}}, {{75, 115, 134, 180}}, {{75, 115, 147, 200}}, {{75, 125, 170, 200}}, {{75, 147, 170, 200}}, {{77, 112, 162, 164}}, {{77, 112, 164, 176}}, {{77, 112, 173, 176}}, {{77, 119, 164, 176}}, {{81, 136, 188, 201}}, {{85, 123, 134, 147}}, {{93, 99, 141, 209}}, {{93, 112, 164, 176}}, {{93, 125, 136, 176}}, {{93, 125, 164, 176}}, {{93, 125, 164, 200}}, {{106, 123, 147, 158}}, {{106, 123, 158, 204}}, {{106, 138, 195, 201}}, {{115, 134, 147, 158}}, {{119, 125, 164, 170}}, {{119, 125, 164, 176}}, {{123, 134, 147, 158}}, {{123, 134, 158, 173}}, {{123, 158, 173, 204}}, {{125, 164, 170, 200}}},\n",
      "    VA {{{0, 80, 158, FACETS}}, {{0, 80, 176, FACETS}}, {{0, 94, 158, 165}}, {{0, 94, 165, 201}}, {{0, 116, 148, 176}}, {{0, 116, 148, 201}}, {{0, 116, 165, 201}}, {{4, 37, 127, 207}}, {{4, 37, 156, 207}}, {{4, 66, 99, 189}}, {{4, 66, 127, 200}}, {{4, 66, 189, 200}}, {{4, 99, 189, 192}}, {{4, 117, 156, 192}}, {{4, 117, 156, 207}}, {{4, 117, 189, 192}}, {{4, 117, 189, 200}}, {{4, 117, 200, 207}}, {{4, 127, 200, 207}}, {{5, 43, 121, FACETS}}, {{5, 43, 142, 151}}, {{5, 58, 104, FACETS}}, {{5, 58, 142, 151}}, {{5, 86, 104, 194}}, {{5, 86, 121, 194}}, {{6, 35, 98, 185}}, {{6, 35, 98, 205}}, {{6, 35, 145, 162}}, {{6, 35, 145, 185}}, {{6, 35, 162, 205}}, {{6, 60, 162, 205}}, {{6, 60, 180, 205}}, {{6, 90, 98, 180}}, {{6, 90, 98, 185}}, {{6, 90, 152, 185}}, {{6, 98, 180, 205}}, {{6, 145, 152, 185}}, {{17, 86, 121, 148}}, {{17, 86, 148, 156}}, {{17, 86, 156, 207}}, {{17, 90, 98, 185}}, {{17, 90, 121, FACETS}}, {{17, 98, 117, 185}}, {{17, 98, 117, 207}}, {{17, 117, 156, 207}}, {{23, 43, 99, 142}}, {{23, 43, 142, 151}}, {{23, 43, 151, 180}}, {{23, 60, 165, 180}}, {{23, 60, 165, 201}}, {{23, 94, 142, 151}}, {{23, 94, 142, 192}}, {{23, 94, 151, 165}}, {{23, 94, 165, 201}}, {{23, 94, 192, 201}}, {{23, 99, 142, 192}}, {{23, 151, 165, 180}}, {{26, 35, 162, 205}}, {{26, 35, 189, 200}}, {{26, 35, 200, 205}}, {{26, 66, 176, FACETS}}, {{26, 66, 189, 200}}, {{26, 116, 162, 194}}, {{26, 116, 162, 205}}, {{26, 116, 176, 194}}, {{29, 37, 104, FACETS}}, {{29, 37, 127, FACETS}}, {{29, 58, 104, 145}}, {{29, 58, 158, FACETS}}, {{29, 80, 127, 158}}, {{29, 80, 152, FACETS}}, {{29, 145, 152, FACETS}}, {{35, 68, 117, 185}}, {{35, 68, 117, 189}}, {{35, 68, 145, 185}}, {{35, 98, 117, 185}}, {{35, 98, 117, 200}}, {{35, 98, 200, 205}}, {{35, 117, 189, 200}}, {{37, 71, 86, 104}}, {{37, 71, 86, 156}}, {{37, 86, 156, 207}}, {{43, 73, 90, 121}}, {{43, 73, 99, FACETS}}, {{43, 90, 180, FACETS}}, {{58, 68, 94, 142}}, {{58, 68, 145, FACETS}}, {{58, 94, 142, 151}}, {{58, 94, 151, 158}}, {{60, 71, 116, 162}}, {{60, 71, 116, 201}}, {{60, 116, 162, 205}}, {{60, 116, 165, 201}}, {{60, 116, 165, 205}}, {{60, 165, 180, 205}}, {{66, 73, 80, 176}}, {{66, 73, 99, FACETS}}, {{66, 80, 127, FACETS}}, {{68, 94, 142, 192}}, {{68, 117, 189, 192}}, {{68, 142, 189, 192}}, {{71, 86, 104, 194}}, {{71, 86, 148, 156}}, {{71, 86, 148, 194}}, {{71, 104, 162, 194}}, {{71, 116, 148, 194}}, {{71, 116, 148, 201}}, {{71, 116, 162, 194}}, {{71, 148, 156, 201}}, {{72, 98, 180, 205}}, {{72, 98, 200, 205}}, {{72, 98, 200, 207}}, {{72, 127, 158, FACETS}}, {{72, 127, 200, 207}}, {{72, 151, 158, 165}}, {{72, 151, 165, 180}}, {{72, 165, 180, 205}}, {{73, 80, 152, FACETS}}, {{73, 90, 152, FACETS}}, {{73, 121, 176, FACETS}}, {{86, 121, 148, 194}}, {{94, 151, 158, 165}}, {{98, 117, 200, 207}}, {{99, 142, 189, 192}}, {{104, 145, 162, FACETS}}, {{116, 148, 176, 194}}, {{121, 148, 176, 194}}, {{156, 192, 201, FACETS}}},\n",
      "    VA {{{2, 45, 92, 152}}, {{2, 45, 152, 186}}, {{2, 68, 82, 166}}, {{2, 68, 114, 166}}, {{2, 68, 114, 186}}, {{2, 82, 162, 166}}, {{2, 92, 109, 152}}, {{2, 92, 109, 162}}, {{2, 109, 114, 152}}, {{2, 109, 114, 166}}, {{2, 109, 162, 166}}, {{2, 114, 152, 186}}, {{5, 40, 175, 183}}, {{5, 40, 175, 197}}, {{5, 40, 183, 211}}, {{5, 56, 105, 183}}, {{5, 56, 105, 203}}, {{5, 56, 135, 175}}, {{5, 56, 135, 203}}, {{5, 56, 175, 183}}, {{5, 87, 135, 197}}, {{5, 87, 135, 203}}, {{5, 87, 143, 203}}, {{5, 105, 143, 203}}, {{5, 105, 143, 211}}, {{5, 105, 183, 211}}, {{5, 135, 175, 197}}, {{9, 37, 49, 96}}, {{9, 37, 49, 126}}, {{9, 37, 76, 96}}, {{9, 37, 76, 163}}, {{9, 37, 126, 163}}, {{9, 49, 67, 96}}, {{9, 49, 67, 158}}, {{9, 49, 126, 158}}, {{9, 67, 96, 201}}, {{9, 76, 96, 201}}, {{9, 76, 118, 163}}, {{9, 76, 118, 201}}, {{9, 118, 137, 163}}, {{9, 126, 137, 158}}, {{9, 126, 137, 163}}, {{13, 34, 51, 99}}, {{13, 34, 51, 129}}, {{13, 34, 79, 99}}, {{13, 34, 79, 139}}, {{13, 34, 129, 139}}, {{13, 51, 63, 99}}, {{13, 51, 63, 176}}, {{13, 51, 129, 176}}, {{13, 63, 99, 172}}, {{13, 79, 99, 172}}, {{13, 79, 139, 200}}, {{13, 79, 172, 200}}, {{13, 89, 129, 139}}, {{13, 89, 129, 176}}, {{13, 89, 139, 200}}, {{17, 45, 118, 139}}, {{17, 45, 118, 163}}, {{17, 45, 163, 186}}, {{17, 76, 87, 163}}, {{17, 76, 87, 197}}, {{17, 76, 118, 129}}, {{17, 76, 118, 163}}, {{17, 76, 129, 197}}, {{17, 87, 163, 186}}, {{17, 89, 129, 139}}, {{17, 89, 129, 197}}, {{17, 118, 129, 139}}, {{20, 40, 158, 183}}, {{20, 40, 175, 176}}, {{20, 40, 175, 183}}, {{20, 63, 109, 152}}, {{20, 63, 109, 176}}, {{20, 63, 126, 152}}, {{20, 92, 109, 152}}, {{20, 92, 109, 175}}, {{20, 92, 137, 152}}, {{20, 92, 137, 183}}, {{20, 92, 175, 183}}, {{20, 109, 175, 176}}, {{20, 126, 137, 152}}, {{20, 126, 137, 158}}, {{20, 137, 158, 183}}, {{27, 34, 51, 99}}, {{27, 34, 51, 201}}, {{27, 34, 99, 105}}, {{27, 51, 99, 114}}, {{27, 51, 114, 166}}, {{27, 51, 166, 201}}, {{27, 67, 68, 166}}, {{27, 67, 68, 211}}, {{27, 67, 166, 201}}, {{27, 68, 114, 143}}, {{27, 68, 114, 166}}, {{27, 68, 143, 211}}, {{27, 99, 105, 143}}, {{27, 99, 114, 143}}, {{27, 105, 143, 211}}, {{31, 37, 49, 96}}, {{31, 37, 49, 172}}, {{31, 37, 96, 135}}, {{31, 37, 135, 203}}, {{31, 37, 172, 203}}, {{31, 49, 82, 96}}, {{31, 49, 82, 200}}, {{31, 49, 172, 200}}, {{31, 56, 79, 203}}, {{31, 56, 135, 162}}, {{31, 56, 135, 203}}, {{31, 79, 172, 200}}, {{31, 79, 172, 203}}, {{31, 82, 96, 162}}, {{31, 96, 135, 162}}, {{34, 51, 129, 201}}, {{34, 79, 99, 105}}, {{34, 79, 105, 180}}, {{34, 79, 139, 180}}, {{34, 118, 129, 139}}, {{34, 118, 129, 201}}, {{34, 118, 139, 180}}, {{37, 49, 126, 172}}, {{37, 76, 87, 135}}, {{37, 76, 87, 163}}, {{37, 76, 96, 135}}, {{37, 87, 135, 203}}, {{40, 89, 144, FACETS}}, {{40, 89, 176, 197}}, {{40, 144, 158, 211}}, {{40, 158, 183, 211}}, {{40, 175, 176, 197}}, {{45, 92, 137, 152}}, {{45, 92, 137, 180}}, {{45, 118, 137, 163}}, {{45, 118, 137, 180}}, {{45, 118, 139, 180}}, {{45, 137, 152, 163}}, {{45, 152, 163, 186}}, {{49, 67, 82, 96}}, {{49, 67, 82, 144}}, {{49, 67, 144, 158}}, {{49, 82, 144, 200}}, {{51, 63, 99, 114}}, {{51, 63, 109, 114}}, {{51, 63, 109, 176}}, {{51, 109, 114, 166}}, {{56, 79, 105, 180}}, {{56, 79, 105, 203}}, {{56, 92, 162, 175}}, {{56, 92, 175, 183}}, {{56, 92, 180, 183}}, {{56, 105, 180, 183}}, {{56, 135, 162, 175}}, {{63, 109, 114, 152}}, {{63, 126, 172, FACETS}}, {{67, 68, 82, 144}}, {{67, 68, 82, 166}}, {{67, 68, 144, 211}}, {{67, 82, 96, 166}}, {{67, 96, 166, 201}}, {{67, 144, 158, 211}}, {{68, 114, 143, 186}}, {{76, 87, 135, 197}}, {{76, 118, 129, 201}}, {{79, 99, 105, 203}}, {{79, 99, 172, 203}}, {{82, 96, 162, 166}}, {{87, 143, 186, FACETS}}, {{89, 129, 176, 197}}, {{89, 144, 200, FACETS}}, {{92, 109, 162, 175}}, {{92, 137, 180, 183}}, {{99, 105, 143, 203}}, {{126, 137, 152, 163}}},\n",
      "    VA {{{1, 54, 94, 126}}, {{1, 54, 96, 189}}, {{1, 54, 126, 189}}, {{1, 77, 82, 96}}, {{1, 77, 96, 189}}, {{1, 77, 113, 189}}, {{1, 82, 174, FACETS}}, {{1, 94, 174, FACETS}}, {{1, 113, 126, 189}}, {{5, 42, 102, 217}}, {{5, 42, 112, 122}}, {{5, 42, 112, 217}}, {{5, 57, 102, 134}}, {{5, 57, 134, 143}}, {{5, 87, 112, 122}}, {{5, 87, 112, 173}}, {{5, 87, 143, 173}}, {{5, 102, 134, 217}}, {{5, 112, 173, 217}}, {{5, 134, 143, 173}}, {{5, 134, 173, 217}}, {{8, 36, 50, 185}}, {{8, 36, 73, 160}}, {{8, 36, 160, 185}}, {{8, 50, 64, FACETS}}, {{8, 64, 139, 180}}, {{8, 73, 118, 139}}, {{8, 73, 118, 160}}, {{8, 110, 118, 160}}, {{8, 110, 118, 180}}, {{8, 110, 160, 185}}, {{8, 118, 139, 180}}, {{14, 34, 44, 207}}, {{14, 34, 70, 207}}, {{14, 44, 63, 148}}, {{14, 44, 63, 207}}, {{14, 63, 130, 148}}, {{14, 63, 130, 178}}, {{14, 63, 178, 207}}, {{14, 70, 166, 178}}, {{14, 70, 178, 207}}, {{14, 91, 130, 148}}, {{14, 91, 130, 166}}, {{14, 130, 166, 178}}, {{19, 54, 96, 189}}, {{19, 54, 118, 160}}, {{19, 54, 160, 189}}, {{19, 73, 87, 122}}, {{19, 73, 87, 160}}, {{19, 73, 118, 160}}, {{19, 87, 112, 122}}, {{19, 87, 112, 189}}, {{19, 87, 160, 189}}, {{19, 91, 96, 112}}, {{19, 91, 112, 122}}, {{19, 96, 112, 189}}, {{20, 42, 102, FACETS}}, {{20, 42, 130, 148}}, {{20, 63, 126, 185}}, {{20, 63, 130, 148}}, {{20, 63, 130, 185}}, {{20, 94, 102, 110}}, {{20, 94, 110, 126}}, {{20, 110, 126, 185}}, {{28, 34, 44, 139}}, {{28, 34, 44, 207}}, {{28, 34, 134, 180}}, {{28, 34, 134, 207}}, {{28, 34, 139, 180}}, {{28, 44, 113, 207}}, {{28, 64, 77, 217}}, {{28, 64, 139, 180}}, {{28, 64, 180, 217}}, {{28, 77, 113, 173}}, {{28, 77, 173, 217}}, {{28, 113, 173, 207}}, {{28, 134, 173, 207}}, {{28, 134, 173, 217}}, {{28, 134, 180, 217}}, {{29, 36, 50, 178}}, {{29, 36, 143, 178}}, {{29, 50, 82, 166}}, {{29, 50, 166, 178}}, {{29, 57, 70, 143}}, {{29, 57, 174, FACETS}}, {{29, 70, 143, 178}}, {{29, 70, 166, 178}}, {{29, 82, 174, FACETS}}, {{34, 70, 134, 146}}, {{34, 70, 134, 207}}, {{34, 118, 139, 180}}, {{34, 118, 146, 180}}, {{34, 134, 146, 180}}, {{36, 50, 178, 185}}, {{36, 73, 87, 160}}, {{36, 87, 143, 214}}, {{36, 87, 160, 214}}, {{36, 143, 178, 214}}, {{36, 160, 185, 214}}, {{36, 178, 185, 214}}, {{42, 91, 112, 122}}, {{42, 91, 112, 162}}, {{42, 91, 122, 148}}, {{42, 91, 130, 148}}, {{42, 91, 130, 162}}, {{42, 112, 162, 217}}, {{44, 63, 113, 207}}, {{44, 139, 182, FACETS}}, {{44, 148, 182, FACETS}}, {{50, 64, 82, 162}}, {{50, 82, 162, 166}}, {{50, 130, 162, 166}}, {{50, 130, 166, 178}}, {{50, 130, 178, 185}}, {{54, 94, 110, 126}}, {{54, 94, 110, 146}}, {{54, 110, 118, 146}}, {{54, 110, 118, 160}}, {{54, 110, 126, 160}}, {{54, 126, 160, 189}}, {{57, 70, 134, 143}}, {{57, 70, 134, 146}}, {{57, 94, 102, 146}}, {{57, 94, 174, FACETS}}, {{57, 102, 134, 146}}, {{63, 113, 126, 214}}, {{63, 113, 207, 214}}, {{63, 126, 185, 214}}, {{63, 130, 178, 185}}, {{63, 178, 185, 214}}, {{63, 178, 207, 214}}, {{64, 77, 82, 162}}, {{64, 77, 162, 217}}, {{70, 134, 143, 207}}, {{70, 143, 178, 207}}, {{73, 122, 182, FACETS}}, {{73, 139, 182, FACETS}}, {{77, 82, 96, 162}}, {{77, 96, 112, 162}}, {{77, 96, 112, 189}}, {{77, 112, 162, 217}}, {{77, 112, 173, 189}}, {{77, 112, 173, 217}}, {{77, 113, 173, 189}}, {{82, 96, 162, 166}}, {{87, 112, 173, 189}}, {{87, 143, 173, 214}}, {{87, 160, 189, 214}}, {{87, 173, 189, 214}}, {{91, 96, 112, 162}}, {{91, 96, 162, 166}}, {{91, 130, 162, 166}}, {{94, 102, 110, 146}}, {{102, 110, 146, 180}}, {{102, 134, 146, 180}}, {{102, 134, 180, 217}}, {{110, 118, 146, 180}}, {{110, 126, 160, 185}}, {{113, 126, 189, 214}}, {{113, 173, 189, 214}}, {{113, 173, 207, 214}}, {{122, 148, 182, FACETS}}, {{126, 160, 185, 214}}, {{126, 160, 189, 214}}, {{134, 143, 173, 207}}, {{143, 173, 207, 214}}, {{143, 178, 207, 214}}, {{174, 182, FACETS, FACETS}}},\n",
      "    VA {{{0, 81, 107, 148}}, {{0, 81, 107, 163}}, {{0, 81, 135, 148}}, {{0, 81, 135, 178}}, {{0, 81, 163, 178}}, {{0, 93, 135, 140}}, {{0, 93, 135, 148}}, {{0, 93, 148, 208}}, {{0, 107, 148, 208}}, {{0, 115, 140, 178}}, {{0, 115, 163, 178}}, {{0, 135, 140, 178}}, {{8, 39, 68, 144}}, {{8, 39, 68, 196}}, {{8, 39, 196, 202}}, {{8, 55, 66, 97}}, {{8, 55, 97, 211}}, {{8, 55, 144, 211}}, {{8, 66, 97, 106}}, {{8, 66, 106, 202}}, {{8, 68, 117, 196}}, {{8, 68, 117, 211}}, {{8, 68, 144, 211}}, {{8, 97, 106, 117}}, {{8, 97, 117, 211}}, {{8, 106, 117, 196}}, {{8, 106, 196, 202}}, {{11, 41, 78, 100}}, {{11, 41, 100, 152}}, {{11, 41, 137, 152}}, {{11, 48, 56, 162}}, {{11, 48, 56, 170}}, {{11, 48, 84, 162}}, {{11, 56, 78, 162}}, {{11, 78, 100, 162}}, {{11, 84, 100, 152}}, {{11, 84, 100, 162}}, {{11, 137, 170, FACETS}}, {{13, 34, 51, 129}}, {{13, 34, 177, FACETS}}, {{13, 51, 90, 173}}, {{13, 51, 129, 173}}, {{13, 61, 102, 216}}, {{13, 61, 129, 173}}, {{13, 61, 173, 216}}, {{13, 74, 90, 216}}, {{13, 74, 102, 177}}, {{13, 74, 102, 216}}, {{13, 90, 173, 216}}, {{19, 51, 90, 100}}, {{19, 51, 100, 196}}, {{19, 51, 117, 196}}, {{19, 68, 84, 196}}, {{19, 68, 117, 196}}, {{19, 68, 117, 208}}, {{19, 84, 100, 152}}, {{19, 84, 100, 196}}, {{19, 90, 100, 152}}, {{19, 90, 107, 152}}, {{19, 107, 208, FACETS}}, {{21, 34, 97, 106}}, {{21, 34, 97, 170}}, {{21, 34, 106, 129}}, {{21, 66, 97, 106}}, {{21, 66, 97, 137}}, {{21, 66, 106, 178}}, {{21, 66, 137, 163}}, {{21, 66, 163, 178}}, {{21, 97, 137, 170}}, {{21, 106, 129, 178}}, {{21, 115, 129, 178}}, {{21, 115, 163, 178}}, {{23, 41, 55, 216}}, {{23, 41, 78, 173}}, {{23, 41, 173, 216}}, {{23, 55, 144, 211}}, {{23, 55, 144, 216}}, {{23, 61, 140, 173}}, {{23, 61, 144, 216}}, {{23, 61, 173, 216}}, {{23, 78, 93, 140}}, {{23, 78, 140, 173}}, {{23, 93, 211, FACETS}}, {{31, 39, 48, 102}}, {{31, 39, 48, 162}}, {{31, 39, 162, 202}}, {{31, 48, 56, 162}}, {{31, 48, 56, 177}}, {{31, 48, 102, 177}}, {{31, 56, 135, 148}}, {{31, 56, 135, 162}}, {{31, 56, 148, 177}}, {{31, 74, 81, 148}}, {{31, 74, 102, 177}}, {{31, 74, 148, 177}}, {{31, 81, 135, 148}}, {{31, 81, 135, 202}}, {{31, 135, 162, 202}}, {{34, 51, 106, 117}}, {{34, 51, 106, 129}}, {{34, 97, 106, 117}}, {{34, 97, 117, 199}}, {{34, 97, 170, 199}}, {{34, 170, 177, 199}}, {{39, 48, 84, 162}}, {{39, 48, 84, 190}}, {{39, 48, 102, 190}}, {{39, 68, 84, 190}}, {{39, 68, 84, 196}}, {{39, 68, 144, 190}}, {{39, 84, 162, 196}}, {{39, 102, 144, 190}}, {{39, 162, 196, 202}}, {{41, 55, 126, 137}}, {{41, 55, 126, 216}}, {{41, 78, 100, 173}}, {{41, 90, 100, 152}}, {{41, 90, 100, 173}}, {{41, 90, 126, 152}}, {{41, 90, 126, 216}}, {{41, 90, 173, 216}}, {{41, 126, 137, 152}}, {{48, 56, 170, 177}}, {{51, 90, 100, 173}}, {{51, 100, 173, 205}}, {{51, 100, 196, 205}}, {{51, 106, 117, 196}}, {{51, 106, 129, 205}}, {{51, 106, 196, 205}}, {{51, 129, 173, 205}}, {{55, 66, 97, 137}}, {{55, 66, 126, 137}}, {{56, 78, 93, 135}}, {{56, 78, 135, 162}}, {{56, 93, 135, 148}}, {{56, 93, 148, 199}}, {{56, 148, 177, 199}}, {{56, 170, 177, 199}}, {{61, 102, 144, 190}}, {{61, 102, 144, 216}}, {{61, 115, 129, 140}}, {{61, 115, 190, FACETS}}, {{61, 129, 140, 173}}, {{66, 81, 126, 163}}, {{66, 81, 163, 178}}, {{66, 81, 178, 202}}, {{66, 106, 178, 202}}, {{66, 126, 137, 163}}, {{68, 117, 208, 211}}, {{74, 81, 107, 126}}, {{74, 81, 107, 148}}, {{74, 90, 107, 126}}, {{74, 90, 126, 216}}, {{78, 93, 135, 140}}, {{78, 100, 162, 205}}, {{78, 100, 173, 205}}, {{78, 135, 140, 205}}, {{78, 135, 162, 205}}, {{78, 140, 173, 205}}, {{81, 107, 126, 163}}, {{81, 135, 178, 202}}, {{84, 100, 162, 196}}, {{90, 107, 126, 152}}, {{93, 148, 199, 208}}, {{93, 199, 208, 211}}, {{97, 117, 199, 211}}, {{100, 162, 196, 205}}, {{106, 129, 178, 205}}, {{106, 178, 202, 205}}, {{106, 196, 202, 205}}, {{107, 126, 152, 163}}, {{115, 129, 140, 178}}, {{117, 199, 208, 211}}, {{126, 137, 152, 163}}, {{129, 140, 173, 205}}, {{129, 140, 178, 205}}, {{135, 140, 178, 205}}, {{135, 162, 202, 205}}, {{135, 178, 202, 205}}, {{162, 196, 202, 205}}},\n",
      "    VA {{{0, 80, 134, 158}}, {{0, 80, 134, 172}}, {{0, 80, 158, 218}}, {{0, 94, 105, 147}}, {{0, 94, 147, 158}}, {{0, 94, 158, 218}}, {{0, 105, 113, 181}}, {{0, 105, 147, 181}}, {{0, 113, 172, 181}}, {{0, 134, 147, 158}}, {{0, 134, 147, 181}}, {{0, 134, 172, 181}}, {{7, 38, 74, 103}}, {{7, 38, 74, 182}}, {{7, 38, 103, 152}}, {{7, 38, 152, 179}}, {{7, 38, 179, 182}}, {{7, 51, 64, 179}}, {{7, 51, 64, 198}}, {{7, 51, 179, 182}}, {{7, 64, 152, 179}}, {{7, 74, 103, 118}}, {{7, 118, 198, FACETS}}, {{12, 42, 68, 168}}, {{12, 42, 108, 168}}, {{12, 42, 108, 199}}, {{12, 55, 58, 96}}, {{12, 55, 58, 145}}, {{12, 55, 87, 145}}, {{12, 55, 87, 188}}, {{12, 55, 96, 188}}, {{12, 58, 68, 145}}, {{12, 58, 68, 168}}, {{12, 58, 96, 168}}, {{12, 87, 188, 199}}, {{12, 96, 108, 168}}, {{12, 96, 108, 188}}, {{12, 108, 188, 199}}, {{14, 33, 48, 123}}, {{14, 33, 136, FACETS}}, {{14, 48, 89, 123}}, {{14, 48, 89, 141}}, {{14, 61, 101, 141}}, {{14, 61, 101, 175}}, {{14, 61, 136, 175}}, {{14, 78, 89, 101}}, {{14, 78, 89, 123}}, {{14, 78, 101, 175}}, {{14, 89, 101, 141}}, {{18, 48, 89, 123}}, {{18, 48, 103, 118}}, {{18, 48, 118, 123}}, {{18, 74, 87, 103}}, {{18, 74, 87, 181}}, {{18, 74, 103, 118}}, {{18, 74, 118, 147}}, {{18, 74, 147, 181}}, {{18, 87, 181, 199}}, {{18, 89, 123, 134}}, {{18, 89, 134, 199}}, {{18, 118, 123, 147}}, {{18, 123, 134, 147}}, {{18, 134, 147, 181}}, {{18, 134, 181, 199}}, {{21, 33, 96, 136}}, {{21, 33, 96, 198}}, {{21, 64, 108, 172}}, {{21, 64, 108, 198}}, {{21, 96, 108, 188}}, {{21, 96, 108, 198}}, {{21, 96, 136, 188}}, {{21, 108, 172, 188}}, {{21, 113, 136, 188}}, {{21, 113, 172, 188}}, {{25, 42, 51, 101}}, {{25, 42, 51, 168}}, {{25, 42, 68, 141}}, {{25, 42, 68, 168}}, {{25, 42, 101, 141}}, {{25, 51, 101, 182}}, {{25, 61, 101, 141}}, {{25, 61, 101, 182}}, {{25, 61, 105, 182}}, {{25, 68, 94, 168}}, {{25, 94, 105, FACETS}}, {{29, 38, 55, 145}}, {{29, 38, 55, 175}}, {{29, 38, 145, 152}}, {{29, 38, 152, 179}}, {{29, 38, 175, 179}}, {{29, 55, 58, 145}}, {{29, 58, 145, 218}}, {{29, 58, 158, 218}}, {{29, 78, 80, 158}}, {{29, 78, 80, 179}}, {{29, 78, 175, 179}}, {{29, 80, 152, 179}}, {{29, 80, 152, 218}}, {{29, 80, 158, 218}}, {{29, 145, 152, 218}}, {{33, 48, 118, 123}}, {{33, 96, 198, 202}}, {{33, 118, 123, 202}}, {{33, 118, 198, 202}}, {{38, 55, 87, 125}}, {{38, 55, 87, 145}}, {{38, 55, 125, 175}}, {{38, 74, 87, 103}}, {{38, 74, 87, 125}}, {{38, 74, 125, 182}}, {{38, 87, 103, 145}}, {{38, 103, 145, 152}}, {{38, 125, 175, 182}}, {{38, 175, 179, 182}}, {{42, 51, 101, 206}}, {{42, 51, 108, 168}}, {{42, 51, 108, 206}}, {{42, 89, 101, 141}}, {{42, 89, 101, 206}}, {{42, 89, 199, 206}}, {{42, 108, 199, 206}}, {{48, 103, 185, FACETS}}, {{48, 141, 185, FACETS}}, {{51, 64, 108, 198}}, {{51, 64, 108, 206}}, {{51, 64, 179, 206}}, {{51, 101, 179, 182}}, {{51, 101, 179, 206}}, {{51, 108, 168, 198}}, {{55, 87, 125, 188}}, {{55, 96, 136, 188}}, {{55, 125, 136, 175}}, {{55, 125, 136, 188}}, {{58, 68, 94, 168}}, {{58, 68, 94, 218}}, {{58, 68, 145, 218}}, {{58, 94, 158, 202}}, {{58, 94, 158, 218}}, {{58, 94, 168, 202}}, {{58, 96, 168, 202}}, {{61, 101, 175, 182}}, {{61, 105, 113, 125}}, {{61, 105, 125, 182}}, {{61, 113, 125, 136}}, {{61, 125, 136, 175}}, {{61, 125, 175, 182}}, {{64, 80, 152, 179}}, {{64, 80, 172, 206}}, {{64, 80, 179, 206}}, {{64, 108, 172, 206}}, {{68, 141, 185, FACETS}}, {{68, 145, 185, 218}}, {{74, 87, 125, 181}}, {{74, 105, 125, 181}}, {{74, 105, 125, 182}}, {{74, 105, 147, 181}}, {{78, 80, 134, 158}}, {{78, 80, 134, 206}}, {{78, 80, 179, 206}}, {{78, 89, 101, 206}}, {{78, 89, 123, 134}}, {{78, 89, 134, 206}}, {{78, 101, 175, 179}}, {{78, 101, 179, 206}}, {{78, 123, 134, 158}}, {{80, 134, 172, 206}}, {{87, 125, 181, 188}}, {{87, 181, 188, 199}}, {{89, 134, 199, 206}}, {{94, 147, 158, 202}}, {{96, 108, 168, 198}}, {{96, 168, 198, 202}}, {{101, 175, 179, 182}}, {{103, 145, 152, 185}}, {{105, 113, 125, 181}}, {{108, 172, 188, 199}}, {{108, 172, 199, 206}}, {{113, 125, 136, 188}}, {{113, 125, 181, 188}}, {{113, 172, 181, 188}}, {{118, 123, 147, 202}}, {{123, 134, 147, 158}}, {{123, 147, 158, 202}}, {{134, 172, 181, 199}}, {{134, 172, 199, 206}}, {{145, 152, 185, 218}}, {{172, 181, 188, 199}}},\n",
      "    VA {{{2, 50, 82, 101}}, {{2, 50, 82, 166}}, {{2, 50, 93, 166}}, {{2, 50, 93, 187}}, {{2, 50, 101, 187}}, {{2, 68, 82, 142}}, {{2, 68, 82, 166}}, {{2, 68, 142, 192}}, {{2, 82, 101, 142}}, {{2, 93, 108, 187}}, {{2, 101, 115, 142}}, {{2, 101, 115, 187}}, {{2, 108, 115, 187}}, {{2, 108, 115, 192}}, {{2, 115, 142, 192}}, {{6, 34, 97, 134}}, {{6, 34, 97, 210}}, {{6, 34, 105, 180}}, {{6, 34, 105, 210}}, {{6, 34, 134, 180}}, {{6, 60, 134, 180}}, {{6, 60, 180, 205}}, {{6, 60, 202, 205}}, {{6, 88, 105, 205}}, {{6, 88, 105, 210}}, {{6, 88, 202, 205}}, {{6, 105, 180, 205}}, {{7, 37, 46, 138}}, {{7, 37, 154, FACETS}}, {{7, 46, 120, 138}}, {{7, 46, 120, 148}}, {{7, 65, 79, 121}}, {{7, 65, 154, FACETS}}, {{7, 79, 120, 121}}, {{7, 79, 120, 138}}, {{7, 120, 121, 148}}, {{11, 40, 48, 176}}, {{11, 40, 48, 189}}, {{11, 40, 136, 160}}, {{11, 40, 136, 176}}, {{11, 40, 160, 189}}, {{11, 48, 155, 189}}, {{11, 59, 76, 127}}, {{11, 59, 127, 136}}, {{11, 59, 136, 176}}, {{11, 76, 87, 127}}, {{11, 76, 87, 155}}, {{11, 87, 127, 160}}, {{11, 87, 155, 189}}, {{11, 87, 160, 189}}, {{11, 127, 136, 160}}, {{19, 46, 87, 138}}, {{19, 46, 87, 192}}, {{19, 46, 120, 138}}, {{19, 68, 88, 189}}, {{19, 68, 88, 210}}, {{19, 68, 189, 192}}, {{19, 87, 138, 160}}, {{19, 87, 160, 189}}, {{19, 87, 189, 192}}, {{19, 88, 105, 160}}, {{19, 88, 105, 210}}, {{19, 88, 160, 189}}, {{19, 105, 120, 138}}, {{19, 105, 120, 210}}, {{19, 105, 138, 160}}, {{20, 40, 136, 176}}, {{20, 40, 136, 205}}, {{20, 40, 202, 205}}, {{20, 60, 108, 187}}, {{20, 60, 187, 205}}, {{20, 60, 202, 205}}, {{20, 93, 108, 148}}, {{20, 93, 108, 187}}, {{20, 93, 136, 176}}, {{20, 93, 136, 187}}, {{20, 93, 148, 176}}, {{20, 136, 187, 205}}, {{28, 34, 79, 121}}, {{28, 34, 79, 180}}, {{28, 34, 134, 180}}, {{28, 48, 65, 121}}, {{28, 48, 65, 142}}, {{28, 48, 142, 155}}, {{28, 65, 79, 101}}, {{28, 65, 79, 121}}, {{28, 65, 101, 142}}, {{28, 79, 101, 180}}, {{28, 101, 115, 142}}, {{28, 101, 115, 180}}, {{28, 115, 134, 155}}, {{28, 115, 134, 180}}, {{28, 115, 142, 155}}, {{29, 37, 76, 127}}, {{29, 37, 154, FACETS}}, {{29, 50, 59, 127}}, {{29, 50, 59, 166}}, {{29, 50, 82, 166}}, {{29, 59, 76, 97}}, {{29, 59, 76, 127}}, {{29, 59, 97, 166}}, {{29, 82, 154, FACETS}}, {{34, 79, 105, 120}}, {{34, 79, 105, 180}}, {{34, 79, 120, 121}}, {{34, 105, 120, 210}}, {{37, 46, 87, 138}}, {{37, 46, 87, 163}}, {{37, 76, 87, 127}}, {{37, 76, 87, 163}}, {{37, 87, 127, 138}}, {{40, 48, 184, 189}}, {{40, 88, 160, 189}}, {{40, 88, 160, 205}}, {{40, 88, 184, 189}}, {{40, 88, 184, 202}}, {{40, 88, 202, 205}}, {{40, 136, 160, 205}}, {{46, 87, 163, 192}}, {{46, 108, 148, FACETS}}, {{46, 108, 163, 192}}, {{48, 65, 142, 184}}, {{48, 121, 176, FACETS}}, {{48, 142, 155, 189}}, {{48, 142, 184, 189}}, {{50, 59, 93, 136}}, {{50, 59, 93, 166}}, {{50, 59, 127, 136}}, {{50, 93, 136, 187}}, {{59, 93, 136, 176}}, {{60, 108, 115, 163}}, {{60, 108, 115, 187}}, {{60, 115, 134, 163}}, {{60, 115, 134, 180}}, {{60, 115, 180, 187}}, {{60, 180, 187, 205}}, {{65, 82, 101, 142}}, {{65, 82, 142, 184}}, {{65, 82, 154, 184}}, {{68, 82, 142, 184}}, {{68, 88, 184, 189}}, {{68, 142, 184, 189}}, {{68, 142, 189, 192}}, {{68, 166, 210, FACETS}}, {{76, 87, 155, 163}}, {{76, 97, 134, FACETS}}, {{76, 134, 155, 163}}, {{79, 105, 120, 138}}, {{87, 127, 138, 160}}, {{87, 155, 163, 192}}, {{87, 155, 189, 192}}, {{88, 105, 160, 205}}, {{97, 166, 210, FACETS}}, {{101, 115, 180, 187}}, {{108, 115, 163, 192}}, {{115, 134, 155, 163}}, {{115, 142, 155, 192}}, {{115, 155, 163, 192}}, {{121, 148, 176, FACETS}}, {{142, 155, 189, 192}}, {{154, 184, 202, FACETS}}},\n",
      "    VA {{{2, 53, 81, 157}}, {{2, 53, 81, 212}}, {{2, 53, 94, 102}}, {{2, 53, 94, 157}}, {{2, 53, 102, 212}}, {{2, 72, 81, 157}}, {{2, 72, 128, FACETS}}, {{2, 94, 102, 110}}, {{2, 102, 110, 116}}, {{2, 102, 116, 212}}, {{2, 110, 116, 128}}, {{6, 33, 96, 112}}, {{6, 33, 96, 209}}, {{6, 33, 112, 144}}, {{6, 33, 131, 144}}, {{6, 33, 131, 209}}, {{6, 61, 125, 190}}, {{6, 61, 131, 144}}, {{6, 61, 144, 190}}, {{6, 91, 96, 112}}, {{6, 91, 112, 190}}, {{6, 91, 125, 190}}, {{6, 112, 144, 190}}, {{7, 36, 51, 161}}, {{7, 36, 143, 161}}, {{7, 36, 143, 178}}, {{7, 51, 117, 161}}, {{7, 51, 117, 169}}, {{7, 66, 69, 143}}, {{7, 66, 69, 197}}, {{7, 66, 143, 178}}, {{7, 69, 117, 161}}, {{7, 69, 117, 197}}, {{7, 69, 143, 161}}, {{7, 117, 169, 197}}, {{11, 43, 44, 147}}, {{11, 43, 44, 204}}, {{11, 43, 132, 147}}, {{11, 43, 132, 172}}, {{11, 43, 172, 204}}, {{11, 44, 139, 204}}, {{11, 56, 78, 195}}, {{11, 56, 132, 147}}, {{11, 56, 132, 195}}, {{11, 78, 86, 139}}, {{11, 78, 86, 195}}, {{11, 86, 139, 204}}, {{11, 86, 172, 195}}, {{11, 86, 172, 204}}, {{11, 132, 172, 195}}, {{19, 51, 86, 128}}, {{19, 51, 86, 161}}, {{19, 51, 117, 161}}, {{19, 72, 91, 96}}, {{19, 72, 91, 204}}, {{19, 72, 128, 204}}, {{19, 86, 128, 204}}, {{19, 86, 161, 172}}, {{19, 86, 172, 204}}, {{19, 91, 96, 112}}, {{19, 91, 112, 172}}, {{19, 91, 172, 204}}, {{19, 96, 112, 117}}, {{19, 112, 117, 161}}, {{19, 112, 161, 172}}, {{20, 43, 125, 190}}, {{20, 43, 132, 147}}, {{20, 43, 132, 190}}, {{20, 61, 102, 110}}, {{20, 61, 102, 190}}, {{20, 61, 125, 190}}, {{20, 94, 102, 110}}, {{20, 94, 102, 132}}, {{20, 94, 110, 169}}, {{20, 94, 132, 147}}, {{20, 94, 147, 169}}, {{20, 102, 132, 190}}, {{28, 33, 69, 144}}, {{28, 33, 69, 197}}, {{28, 33, 131, 144}}, {{28, 44, 66, 197}}, {{28, 44, 139, FACETS}}, {{28, 66, 69, 197}}, {{28, 66, 69, 212}}, {{28, 69, 144, 212}}, {{28, 116, 131, 139}}, {{28, 116, 131, 144}}, {{28, 116, 144, 212}}, {{29, 36, 78, 195}}, {{29, 36, 143, 178}}, {{29, 36, 143, 195}}, {{29, 53, 56, 157}}, {{29, 53, 56, 195}}, {{29, 53, 81, 143}}, {{29, 53, 81, 157}}, {{29, 53, 143, 195}}, {{29, 56, 78, 195}}, {{29, 56, 78, 209}}, {{29, 56, 157, 209}}, {{29, 81, 143, 178}}, {{33, 69, 112, 117}}, {{33, 69, 112, 144}}, {{33, 69, 117, 197}}, {{33, 96, 112, 117}}, {{36, 51, 86, 161}}, {{36, 51, 86, 184}}, {{36, 78, 86, 184}}, {{36, 78, 86, 195}}, {{36, 86, 161, 195}}, {{36, 143, 161, 195}}, {{43, 44, 163, 204}}, {{43, 91, 125, 163}}, {{43, 91, 125, 190}}, {{43, 91, 163, 204}}, {{43, 91, 172, 190}}, {{43, 91, 172, 204}}, {{43, 132, 172, 190}}, {{44, 66, 163, FACETS}}, {{44, 147, 197, FACETS}}, {{51, 86, 128, 184}}, {{51, 110, 128, 184}}, {{51, 110, 169, FACETS}}, {{53, 56, 94, 132}}, {{53, 56, 94, 157}}, {{53, 56, 132, 195}}, {{53, 81, 143, 212}}, {{53, 94, 102, 132}}, {{56, 94, 132, 147}}, {{61, 102, 110, 116}}, {{61, 102, 116, 144}}, {{61, 102, 144, 190}}, {{61, 110, 116, 184}}, {{61, 116, 131, 144}}, {{61, 116, 131, 184}}, {{66, 69, 143, 212}}, {{66, 81, 143, 178}}, {{66, 81, 143, 212}}, {{66, 81, 163, 178}}, {{69, 112, 117, 161}}, {{72, 81, 163, FACETS}}, {{72, 91, 163, 204}}, {{72, 96, 157, FACETS}}, {{78, 86, 139, 184}}, {{78, 131, 139, 184}}, {{78, 131, 209, FACETS}}, {{86, 128, 139, 184}}, {{86, 128, 139, 204}}, {{86, 161, 172, 195}}, {{91, 112, 172, 190}}, {{96, 157, 209, FACETS}}, {{102, 116, 144, 212}}, {{110, 116, 128, 184}}, {{116, 128, 139, 184}}, {{116, 131, 139, 184}}, {{125, 163, 178, FACETS}}, {{147, 169, 197, FACETS}}},\n",
      "    VA {{{3, 49, 93, 179}}, {{3, 49, 97, 116}}, {{3, 49, 116, 179}}, {{3, 78, 93, 179}}, {{3, 78, 121, 206}}, {{3, 78, 179, 206}}, {{3, 83, 97, 137}}, {{3, 83, 121, 137}}, {{3, 97, 116, 137}}, {{3, 116, 137, 206}}, {{3, 116, 179, 206}}, {{3, 121, 137, 206}}, {{4, 39, 101, 204}}, {{4, 39, 105, 167}}, {{4, 39, 105, 204}}, {{4, 66, 105, 167}}, {{4, 66, 127, FACETS}}, {{4, 101, 119, 135}}, {{4, 101, 135, 204}}, {{4, 119, 127, 135}}, {{12, 40, 53, FACETS}}, {{12, 40, 145, 161}}, {{12, 53, 84, 154}}, {{12, 58, 68, 145}}, {{12, 58, 68, 190}}, {{12, 58, 109, 161}}, {{12, 58, 109, 190}}, {{12, 58, 145, 161}}, {{12, 68, 84, 190}}, {{12, 84, 154, 190}}, {{12, 109, 154, 190}}, {{13, 33, 46, 165}}, {{13, 33, 155, FACETS}}, {{13, 46, 147, 159}}, {{13, 46, 159, 165}}, {{13, 60, 74, 159}}, {{13, 60, 159, 165}}, {{13, 74, 90, 147}}, {{13, 74, 147, 159}}, {{13, 90, 155, FACETS}}, {{17, 53, 84, 206}}, {{17, 53, 90, 121}}, {{17, 53, 121, 206}}, {{17, 78, 101, 119}}, {{17, 78, 101, 206}}, {{17, 78, 121, 206}}, {{17, 84, 101, 206}}, {{17, 90, 155, FACETS}}, {{17, 119, 155, FACETS}}, {{21, 33, 109, 127}}, {{21, 33, 109, 165}}, {{21, 66, 97, 137}}, {{21, 66, 127, FACETS}}, {{21, 97, 116, 137}}, {{21, 109, 154, 165}}, {{21, 116, 137, 154}}, {{21, 116, 154, 165}}, {{24, 40, 74, FACETS}}, {{24, 40, 145, 161}}, {{24, 49, 60, 179}}, {{24, 49, 93, 145}}, {{24, 49, 93, 179}}, {{24, 60, 74, 204}}, {{24, 60, 179, 204}}, {{24, 93, 135, 161}}, {{24, 93, 135, 179}}, {{24, 93, 145, 161}}, {{24, 135, 179, 204}}, {{30, 39, 68, 167}}, {{30, 39, 68, 190}}, {{30, 39, 105, 159}}, {{30, 39, 105, 167}}, {{30, 39, 159, 190}}, {{30, 46, 58, 190}}, {{30, 46, 147, 159}}, {{30, 46, 159, 190}}, {{30, 58, 68, 190}}, {{30, 83, 105, 147}}, {{30, 83, 105, 167}}, {{30, 105, 147, 159}}, {{33, 46, 109, 140}}, {{33, 46, 109, 165}}, {{33, 109, 127, 140}}, {{33, 119, 127, 140}}, {{33, 119, 155, FACETS}}, {{39, 68, 84, 190}}, {{39, 84, 101, 201}}, {{39, 84, 190, 201}}, {{39, 101, 201, 204}}, {{39, 105, 159, 204}}, {{39, 159, 190, 201}}, {{39, 159, 201, 204}}, {{40, 53, 90, 181}}, {{40, 74, 90, 181}}, {{46, 58, 109, 140}}, {{46, 58, 109, 190}}, {{46, 109, 165, 190}}, {{46, 159, 165, 190}}, {{49, 60, 116, 179}}, {{49, 97, 191, FACETS}}, {{49, 145, 191, FACETS}}, {{53, 84, 154, 206}}, {{53, 90, 121, 181}}, {{53, 121, 137, 181}}, {{53, 121, 137, 206}}, {{53, 137, 154, 206}}, {{58, 93, 140, 161}}, {{58, 93, 145, 161}}, {{58, 109, 140, 161}}, {{60, 74, 159, 204}}, {{60, 116, 165, 201}}, {{60, 116, 179, 201}}, {{60, 159, 165, 201}}, {{60, 159, 201, 204}}, {{60, 179, 201, 204}}, {{66, 83, 97, 137}}, {{66, 83, 97, 167}}, {{66, 83, 105, 167}}, {{66, 83, 105, 181}}, {{66, 83, 137, 181}}, {{68, 145, 191, FACETS}}, {{68, 167, 191, FACETS}}, {{74, 90, 147, 181}}, {{74, 105, 147, 159}}, {{74, 105, 147, 181}}, {{74, 105, 159, 204}}, {{78, 93, 135, 140}}, {{78, 93, 135, 179}}, {{78, 101, 119, 135}}, {{78, 101, 135, 179}}, {{78, 101, 179, 206}}, {{78, 119, 135, 140}}, {{83, 105, 147, 181}}, {{83, 121, 137, 181}}, {{83, 121, 147, 181}}, {{84, 101, 201, 206}}, {{84, 154, 190, 201}}, {{84, 154, 201, 206}}, {{90, 121, 147, 181}}, {{93, 135, 140, 161}}, {{97, 167, 191, FACETS}}, {{101, 135, 179, 204}}, {{101, 179, 201, 204}}, {{101, 179, 201, 206}}, {{109, 127, 140, 161}}, {{109, 154, 165, 190}}, {{116, 137, 154, 206}}, {{116, 154, 165, 201}}, {{116, 154, 201, 206}}, {{116, 179, 201, 206}}, {{119, 127, 135, 140}}, {{127, 135, 140, 161}}, {{154, 165, 190, 201}}, {{155, 191, FACETS, FACETS}}, {{159, 165, 190, 201}}},\n",
      "    VA {{{1, 54, 81, 145}}, {{1, 54, 81, 189}}, {{1, 54, 96, 115}}, {{1, 54, 96, 189}}, {{1, 54, 115, 145}}, {{1, 69, 115, 145}}, {{1, 69, 115, 167}}, {{1, 69, 167, 205}}, {{1, 95, 96, 167}}, {{1, 95, 96, 189}}, {{1, 95, 167, 205}}, {{1, 96, 115, 167}}, {{5, 42, 102, FACETS}}, {{5, 42, 131, 159}}, {{5, 56, 159, FACETS}}, {{5, 56, 179, FACETS}}, {{5, 84, 111, FACETS}}, {{5, 84, 131, FACETS}}, {{5, 102, 111, 179}}, {{8, 36, 50, FACETS}}, {{8, 36, 109, 176}}, {{8, 50, 172, FACETS}}, {{8, 65, 71, 125}}, {{8, 65, 109, 125}}, {{8, 71, 119, 125}}, {{8, 71, 119, 172}}, {{8, 109, 125, 176}}, {{8, 119, 125, 176}}, {{14, 34, 44, 164}}, {{14, 34, 44, 207}}, {{14, 34, 169, 207}}, {{14, 44, 90, 138}}, {{14, 44, 90, 164}}, {{14, 44, 138, 207}}, {{14, 62, 76, 128}}, {{14, 62, 128, 137}}, {{14, 62, 137, 169}}, {{14, 76, 90, 128}}, {{14, 76, 90, 164}}, {{14, 90, 128, 138}}, {{14, 128, 137, 138}}, {{14, 137, 138, 207}}, {{14, 137, 169, 207}}, {{18, 44, 90, 164}}, {{18, 44, 119, 164}}, {{18, 44, 119, 205}}, {{18, 69, 84, FACETS}}, {{18, 69, 205, FACETS}}, {{18, 84, 131, 176}}, {{18, 90, 131, 164}}, {{18, 119, 164, 176}}, {{18, 131, 164, 176}}, {{22, 36, 109, FACETS}}, {{22, 36, 137, FACETS}}, {{22, 56, 189, FACETS}}, {{22, 56, 207, FACETS}}, {{22, 81, 109, 189}}, {{22, 81, 138, FACETS}}, {{22, 137, 138, 207}}, {{23, 42, 76, 128}}, {{23, 42, 76, 159}}, {{23, 50, 62, 128}}, {{23, 50, 62, 167}}, {{23, 50, 167, 172}}, {{23, 62, 76, 96}}, {{23, 62, 76, 128}}, {{23, 62, 96, 167}}, {{23, 76, 96, 159}}, {{23, 95, 96, 159}}, {{23, 95, 96, 167}}, {{23, 95, 167, 172}}, {{27, 34, 71, 125}}, {{27, 34, 71, 179}}, {{27, 34, 169, 179}}, {{27, 54, 65, 125}}, {{27, 54, 65, 145}}, {{27, 54, 115, 145}}, {{27, 65, 71, 102}}, {{27, 65, 71, 125}}, {{27, 65, 102, 145}}, {{27, 71, 102, 179}}, {{27, 102, 111, 145}}, {{27, 102, 111, 179}}, {{27, 111, 115, 145}}, {{27, 111, 115, 169}}, {{27, 111, 169, 179}}, {{34, 44, 119, 149}}, {{34, 44, 119, 164}}, {{34, 44, 149, 207}}, {{34, 71, 119, 125}}, {{34, 71, 119, 149}}, {{34, 71, 149, 179}}, {{34, 119, 125, 164}}, {{34, 149, 179, 207}}, {{34, 169, 179, 207}}, {{36, 50, 137, 158}}, {{36, 84, 158, FACETS}}, {{36, 84, 176, FACETS}}, {{42, 76, 90, 128}}, {{42, 76, 90, 131}}, {{42, 76, 131, 159}}, {{42, 90, 128, 213}}, {{42, 102, 213, FACETS}}, {{44, 119, 149, 205}}, {{50, 62, 128, 137}}, {{50, 62, 137, 158}}, {{50, 62, 158, 167}}, {{54, 65, 81, 109}}, {{54, 65, 81, 145}}, {{54, 65, 109, 125}}, {{54, 81, 109, 189}}, {{54, 96, 189, 208}}, {{54, 109, 125, 208}}, {{54, 109, 189, 208}}, {{56, 95, 149, FACETS}}, {{56, 95, 159, 189}}, {{56, 149, 179, 207}}, {{62, 96, 115, 167}}, {{62, 115, 158, 167}}, {{62, 115, 158, 169}}, {{62, 137, 158, 169}}, {{65, 81, 145, 213}}, {{65, 102, 145, 213}}, {{69, 84, 111, 158}}, {{69, 111, 115, 145}}, {{69, 111, 115, 158}}, {{69, 115, 158, 167}}, {{71, 119, 149, 172}}, {{76, 90, 131, 164}}, {{76, 96, 159, 208}}, {{76, 131, 159, 208}}, {{76, 131, 164, 208}}, {{81, 138, 213, FACETS}}, {{90, 128, 138, 213}}, {{95, 96, 159, 189}}, {{95, 149, 172, 205}}, {{95, 167, 172, 205}}, {{96, 159, 189, 208}}, {{109, 125, 176, 208}}, {{111, 115, 158, 169}}, {{119, 125, 164, 176}}, {{119, 149, 172, 205}}, {{125, 164, 176, 208}}, {{131, 164, 176, 208}}},\n",
      "    VA {{{1, 51, 100, 151}}, {{1, 51, 100, 196}}, {{1, 51, 114, 127}}, {{1, 51, 114, 151}}, {{1, 51, 127, 196}}, {{1, 79, 80, 196}}, {{1, 79, 80, 203}}, {{1, 79, 94, 100}}, {{1, 79, 94, 203}}, {{1, 79, 100, 196}}, {{1, 80, 127, 196}}, {{1, 94, 100, 151}}, {{6, 35, 98, 185}}, {{6, 35, 111, 124}}, {{6, 35, 111, 185}}, {{6, 61, 98, 131}}, {{6, 61, 131, 144}}, {{6, 89, 111, 124}}, {{6, 89, 111, 214}}, {{6, 89, 144, 214}}, {{6, 98, 131, 185}}, {{6, 111, 185, 214}}, {{6, 131, 144, 214}}, {{6, 131, 185, 214}}, {{9, 38, 44, 187}}, {{9, 38, 44, 194}}, {{9, 38, 70, 187}}, {{9, 38, 70, 213}}, {{9, 38, 194, 213}}, {{9, 44, 66, 163}}, {{9, 44, 66, 187}}, {{9, 44, 163, 194}}, {{9, 66, 137, 163}}, {{9, 66, 137, 181}}, {{9, 66, 181, 187}}, {{9, 70, 142, 181}}, {{9, 70, 142, 213}}, {{9, 70, 181, 187}}, {{9, 118, 137, 142}}, {{9, 118, 137, 163}}, {{9, 118, 142, 213}}, {{9, 118, 163, 194}}, {{9, 118, 194, 213}}, {{9, 137, 142, 181}}, {{12, 40, 53, 171}}, {{12, 40, 53, 225}}, {{12, 40, 71, 161}}, {{12, 40, 71, 171}}, {{12, 40, 161, 225}}, {{12, 53, 56, 154}}, {{12, 53, 56, 171}}, {{12, 53, 154, 225}}, {{12, 56, 148, 171}}, {{12, 56, 148, 177}}, {{12, 56, 154, 177}}, {{12, 71, 86, 148}}, {{12, 71, 86, 161}}, {{12, 71, 148, 171}}, {{12, 86, 109, 161}}, {{12, 86, 109, 177}}, {{12, 86, 148, 177}}, {{12, 109, 154, 177}}, {{12, 109, 154, 225}}, {{12, 109, 161, 225}}, {{19, 51, 86, 161}}, {{19, 51, 86, 213}}, {{19, 51, 100, 196}}, {{19, 51, 100, 213}}, {{19, 51, 161, 196}}, {{19, 71, 86, 161}}, {{19, 71, 86, 194}}, {{19, 71, 89, 124}}, {{19, 71, 89, 161}}, {{19, 71, 124, 194}}, {{19, 86, 194, 213}}, {{19, 89, 111, 124}}, {{19, 89, 111, 196}}, {{19, 89, 161, 196}}, {{19, 100, 111, 118}}, {{19, 100, 111, 196}}, {{19, 100, 118, 213}}, {{19, 111, 118, 124}}, {{19, 118, 124, 194}}, {{19, 118, 194, 213}}, {{21, 35, 98, 154}}, {{21, 35, 137, 154}}, {{21, 35, 137, 163}}, {{21, 66, 127, 225}}, {{21, 66, 137, 163}}, {{21, 66, 137, 225}}, {{21, 98, 109, 114}}, {{21, 98, 109, 154}}, {{21, 109, 114, 127}}, {{21, 109, 127, 225}}, {{21, 109, 154, 225}}, {{21, 137, 154, 225}}, {{23, 40, 53, 171}}, {{23, 40, 53, 181}}, {{23, 40, 144, 181}}, {{23, 53, 94, 142}}, {{23, 53, 94, 171}}, {{23, 53, 142, 181}}, {{23, 61, 70, 144}}, {{23, 61, 70, 151}}, {{23, 70, 142, 151}}, {{23, 70, 142, 181}}, {{23, 70, 144, 181}}, {{23, 94, 142, 151}}, {{31, 38, 44, 148}}, {{31, 38, 44, 187}}, {{31, 38, 131, 177}}, {{31, 38, 131, 187}}, {{31, 38, 148, 177}}, {{31, 44, 80, 187}}, {{31, 44, 80, 203}}, {{31, 44, 148, 203}}, {{31, 56, 79, 185}}, {{31, 56, 79, 203}}, {{31, 56, 148, 177}}, {{31, 56, 148, 203}}, {{31, 56, 177, 185}}, {{31, 79, 80, 203}}, {{31, 79, 80, 214}}, {{31, 79, 185, 214}}, {{31, 80, 187, 214}}, {{31, 131, 177, 185}}, {{31, 131, 185, 214}}, {{31, 131, 187, 214}}, {{35, 98, 154, 185}}, {{35, 111, 118, 124}}, {{35, 111, 118, 157}}, {{35, 111, 157, 185}}, {{35, 118, 124, 163}}, {{35, 118, 137, 157}}, {{35, 118, 137, 163}}, {{35, 137, 154, 157}}, {{35, 154, 157, 185}}, {{38, 44, 148, 194}}, {{38, 70, 131, 166}}, {{38, 70, 131, 187}}, {{38, 70, 166, 213}}, {{38, 86, 148, 177}}, {{38, 86, 148, 194}}, {{38, 86, 166, 177}}, {{38, 86, 166, 213}}, {{38, 86, 194, 213}}, {{38, 131, 166, 177}}, {{40, 53, 181, 225}}, {{40, 71, 89, 161}}, {{40, 89, 144, FACETS}}, {{44, 66, 80, 187}}, {{51, 86, 109, 161}}, {{51, 86, 109, 166}}, {{51, 86, 166, 213}}, {{51, 100, 151, 213}}, {{51, 109, 114, 127}}, {{51, 109, 114, 166}}, {{51, 109, 127, 161}}, {{51, 114, 151, 166}}, {{51, 127, 161, 196}}, {{51, 151, 166, 213}}, {{53, 56, 94, 157}}, {{53, 56, 94, 171}}, {{53, 56, 154, 157}}, {{53, 94, 142, 157}}, {{53, 137, 142, 157}}, {{53, 137, 142, 181}}, {{53, 137, 154, 157}}, {{53, 137, 154, 225}}, {{53, 137, 181, 225}}, {{56, 79, 94, 157}}, {{56, 79, 94, 203}}, {{56, 79, 157, 185}}, {{56, 94, 171, 203}}, {{56, 148, 171, 203}}, {{56, 154, 157, 185}}, {{56, 154, 177, 185}}, {{61, 70, 131, 144}}, {{61, 70, 131, 166}}, {{61, 70, 151, 166}}, {{61, 98, 114, 166}}, {{61, 98, 131, 166}}, {{61, 114, 151, 166}}, {{66, 80, 127, FACETS}}, {{66, 137, 181, 225}}, {{70, 131, 144, 187}}, {{70, 142, 151, 213}}, {{70, 144, 181, 187}}, {{70, 151, 166, 213}}, {{71, 86, 148, 194}}, {{79, 80, 196, 214}}, {{79, 94, 100, 157}}, {{79, 100, 111, 157}}, {{79, 100, 111, 196}}, {{79, 111, 157, 185}}, {{79, 111, 185, 214}}, {{79, 111, 196, 214}}, {{86, 109, 166, 177}}, {{89, 111, 196, 214}}, {{94, 100, 142, 151}}, {{94, 100, 142, 157}}, {{98, 109, 114, 166}}, {{98, 109, 154, 177}}, {{98, 109, 166, 177}}, {{98, 131, 166, 177}}, {{98, 131, 177, 185}}, {{98, 154, 177, 185}}, {{100, 111, 118, 157}}, {{100, 118, 142, 157}}, {{100, 118, 142, 213}}, {{100, 142, 151, 213}}, {{109, 127, 161, 225}}, {{118, 124, 163, 194}}, {{118, 137, 142, 157}}, {{131, 144, 187, 214}}},\n",
      "    VA {{{1, 82, 96, FACETS}}, {{1, 82, 123, 204}}, {{1, 92, 123, 190}}, {{1, 92, 123, 204}}, {{1, 92, 175, 190}}, {{1, 96, 115, 167}}, {{1, 115, 167, 175}}, {{1, 115, 175, 190}}, {{7, 36, 143, 161}}, {{7, 36, 143, 214}}, {{7, 67, 124, 164}}, {{7, 67, 161, 170}}, {{7, 67, 164, 170}}, {{7, 119, 143, 170}}, {{7, 119, 143, 214}}, {{7, 119, 164, 170}}, {{7, 119, 164, 183}}, {{7, 119, 183, 214}}, {{7, 124, 164, 183}}, {{7, 143, 161, 170}}, {{10, 42, 157, FACETS}}, {{10, 42, 206, 213}}, {{10, 59, 181, 186}}, {{10, 59, 186, 213}}, {{10, 59, 206, 213}}, {{10, 87, 157, 209}}, {{10, 87, 181, 186}}, {{10, 87, 181, 209}}, {{13, 34, 129, 139}}, {{13, 34, 129, 221}}, {{13, 34, 177, 221}}, {{13, 61, 102, 221}}, {{13, 61, 129, 221}}, {{13, 88, 102, 177}}, {{13, 88, 171, FACETS}}, {{13, 102, 177, 221}}, {{13, 139, 171, FACETS}}, {{16, 87, 143, 214}}, {{16, 87, 157, 167}}, {{16, 87, 167, 214}}, {{16, 88, 157, FACETS}}, {{16, 88, 177, FACETS}}, {{16, 119, 143, 177}}, {{16, 119, 143, 214}}, {{20, 42, 102, 213}}, {{20, 42, 124, 206}}, {{20, 42, 206, 213}}, {{20, 61, 102, 190}}, {{20, 61, 175, 190}}, {{20, 92, 175, 183}}, {{20, 92, 175, 190}}, {{20, 92, 183, 206}}, {{20, 92, 190, 213}}, {{20, 92, 206, 213}}, {{20, 102, 190, 213}}, {{20, 124, 183, 206}}, {{21, 34, 129, 221}}, {{21, 34, 164, 170}}, {{21, 34, 170, 221}}, {{21, 67, 96, FACETS}}, {{21, 67, 164, 170}}, {{21, 96, 115, 209}}, {{21, 115, 129, 209}}, {{21, 115, 129, 221}}, {{22, 36, 161, 186}}, {{22, 36, 181, 186}}, {{22, 59, 123, 186}}, {{22, 59, 123, 204}}, {{22, 59, 139, 181}}, {{22, 59, 139, 204}}, {{22, 59, 181, 186}}, {{22, 82, 123, 161}}, {{22, 82, 123, 204}}, {{22, 82, 171, 204}}, {{22, 123, 161, 186}}, {{22, 139, 171, 204}}, {{34, 44, 119, 164}}, {{34, 44, 139, FACETS}}, {{34, 119, 164, 170}}, {{34, 119, 170, 177}}, {{34, 170, 177, 221}}, {{36, 47, 87, 181}}, {{36, 47, 87, 214}}, {{36, 87, 143, 186}}, {{36, 87, 143, 214}}, {{36, 87, 181, 186}}, {{36, 143, 161, 186}}, {{42, 49, 88, 157}}, {{42, 49, 124, FACETS}}, {{42, 88, 102, FACETS}}, {{44, 59, 92, 204}}, {{44, 59, 92, 206}}, {{44, 59, 139, 204}}, {{44, 92, 183, 206}}, {{44, 119, 164, 183}}, {{44, 164, 183, 206}}, {{47, 61, 115, 129}}, {{47, 61, 115, 175}}, {{47, 87, 167, 209}}, {{47, 87, 167, 214}}, {{47, 87, 181, 209}}, {{47, 115, 129, 209}}, {{47, 115, 167, 175}}, {{47, 115, 167, 209}}, {{47, 129, 181, 209}}, {{47, 167, 175, 214}}, {{48, 102, 177, 221}}, {{48, 102, 190, 213}}, {{48, 102, 190, 221}}, {{48, 123, 161, 186}}, {{48, 123, 186, 213}}, {{48, 123, 190, 213}}, {{48, 143, 161, 170}}, {{48, 143, 161, 186}}, {{48, 143, 170, 177}}, {{48, 170, 177, 221}}, {{49, 67, 82, 96}}, {{49, 67, 124, FACETS}}, {{49, 82, 171, FACETS}}, {{49, 88, 171, FACETS}}, {{49, 96, 157, FACETS}}, {{59, 92, 123, 204}}, {{59, 92, 123, 213}}, {{59, 92, 206, 213}}, {{59, 123, 186, 213}}, {{61, 102, 190, 221}}, {{61, 115, 129, 221}}, {{61, 115, 175, 190}}, {{61, 115, 190, 221}}, {{67, 82, 161, FACETS}}, {{87, 157, 167, 209}}, {{92, 123, 190, 213}}, {{96, 115, 167, 209}}, {{96, 157, 167, 209}}, {{119, 143, 170, 177}}, {{124, 164, 183, 206}}, {{129, 139, 181, FACETS}}, {{175, 183, 214, FACETS}}},\n",
      "    VA {{{1, 52, 93, 104}}, {{1, 52, 93, 141}}, {{1, 52, 104, 210}}, {{1, 52, 116, 141}}, {{1, 52, 116, 210}}, {{1, 69, 93, 141}}, {{1, 69, 93, 145}}, {{1, 69, 141, 205}}, {{1, 69, 145, 226}}, {{1, 69, 205, 226}}, {{1, 81, 104, 145}}, {{1, 81, 104, 210}}, {{1, 81, 145, 226}}, {{1, 93, 104, 145}}, {{1, 116, 141, 205}}, {{4, 39, 101, 171}}, {{4, 39, 134, 157}}, {{4, 39, 134, 171}}, {{4, 64, 156, 157}}, {{4, 64, 156, 192}}, {{4, 64, 177, 192}}, {{4, 101, 112, 171}}, {{4, 101, 112, 177}}, {{4, 112, 117, 171}}, {{4, 112, 117, 192}}, {{4, 112, 177, 192}}, {{4, 117, 134, 156}}, {{4, 117, 134, 171}}, {{4, 117, 156, 192}}, {{4, 134, 156, 157}}, {{11, 43, 44, 147}}, {{11, 43, 44, 198}}, {{11, 43, 147, 214}}, {{11, 44, 85, 147}}, {{11, 44, 85, 165}}, {{11, 44, 165, 198}}, {{11, 58, 75, 124}}, {{11, 58, 75, 214}}, {{11, 58, 124, 130}}, {{11, 75, 85, 124}}, {{11, 75, 85, 147}}, {{11, 75, 147, 214}}, {{11, 85, 124, 165}}, {{11, 124, 130, 165}}, {{11, 130, 165, 198}}, {{15, 32, 55, 184}}, {{15, 32, 110, 181}}, {{15, 32, 110, 184}}, {{15, 55, 153, 184}}, {{15, 55, 153, 213}}, {{15, 61, 73, 121}}, {{15, 61, 73, 153}}, {{15, 61, 110, 121}}, {{15, 61, 110, 184}}, {{15, 61, 153, 184}}, {{15, 73, 90, 121}}, {{15, 73, 90, 213}}, {{15, 73, 153, 213}}, {{15, 90, 121, 181}}, {{15, 110, 121, 181}}, {{18, 44, 85, 147}}, {{18, 44, 85, 205}}, {{18, 44, 90, 147}}, {{18, 44, 90, 226}}, {{18, 44, 205, 226}}, {{18, 69, 117, 171}}, {{18, 69, 171, 205}}, {{18, 69, 205, 226}}, {{18, 85, 134, 147}}, {{18, 85, 134, 171}}, {{18, 85, 171, 205}}, {{18, 90, 147, 181}}, {{18, 117, 134, 171}}, {{18, 117, 134, 181}}, {{18, 134, 147, 181}}, {{21, 32, 110, 156}}, {{21, 32, 110, 184}}, {{21, 32, 130, 184}}, {{21, 32, 130, 192}}, {{21, 32, 156, 192}}, {{21, 64, 156, 192}}, {{21, 64, 156, 210}}, {{21, 64, 192, 198}}, {{21, 110, 116, 184}}, {{21, 110, 116, 210}}, {{21, 110, 156, 210}}, {{21, 116, 165, 184}}, {{21, 130, 165, 184}}, {{21, 130, 165, 198}}, {{21, 130, 192, 198}}, {{25, 43, 73, 121}}, {{25, 43, 73, 177}}, {{25, 43, 121, 214}}, {{25, 52, 61, 121}}, {{25, 52, 61, 141}}, {{25, 52, 93, 141}}, {{25, 52, 93, 214}}, {{25, 52, 121, 214}}, {{25, 61, 73, 101}}, {{25, 61, 73, 121}}, {{25, 61, 101, 141}}, {{25, 73, 101, 177}}, {{25, 93, 112, 141}}, {{25, 101, 112, 141}}, {{25, 101, 112, 177}}, {{29, 39, 75, 124}}, {{29, 39, 75, 157}}, {{29, 39, 124, 153}}, {{29, 55, 58, 124}}, {{29, 55, 58, 145}}, {{29, 55, 124, 153}}, {{29, 55, 145, 213}}, {{29, 55, 153, 213}}, {{29, 58, 75, 104}}, {{29, 58, 75, 124}}, {{29, 58, 104, 145}}, {{29, 75, 104, 157}}, {{29, 81, 104, 145}}, {{29, 81, 104, 157}}, {{29, 81, 145, 213}}, {{32, 55, 130, 161}}, {{32, 55, 130, 184}}, {{32, 110, 156, 181}}, {{32, 117, 156, 181}}, {{32, 117, 156, 192}}, {{32, 117, 161, 192}}, {{32, 130, 161, 192}}, {{39, 75, 85, 124}}, {{39, 75, 85, 134}}, {{39, 75, 134, 157}}, {{39, 85, 134, 171}}, {{39, 101, 153, FACETS}}, {{43, 44, 90, 138}}, {{43, 44, 90, 147}}, {{43, 44, 138, 198}}, {{43, 73, 90, 121}}, {{43, 73, 90, 138}}, {{43, 73, 138, 177}}, {{43, 90, 121, 147}}, {{43, 121, 147, 214}}, {{43, 138, 177, 198}}, {{44, 85, 165, 205}}, {{44, 90, 138, 226}}, {{52, 61, 110, 116}}, {{52, 61, 110, 121}}, {{52, 61, 116, 141}}, {{52, 93, 104, 214}}, {{52, 110, 116, 210}}, {{55, 58, 124, 130}}, {{55, 58, 130, 161}}, {{55, 58, 145, 161}}, {{55, 124, 130, 184}}, {{55, 124, 153, 184}}, {{58, 75, 104, 214}}, {{58, 93, 104, 145}}, {{58, 93, 104, 214}}, {{58, 93, 145, 161}}, {{61, 73, 101, 153}}, {{61, 110, 116, 184}}, {{64, 81, 138, FACETS}}, {{64, 81, 157, 210}}, {{64, 138, 177, 198}}, {{64, 156, 157, 210}}, {{64, 177, 192, 198}}, {{69, 93, 112, 141}}, {{69, 93, 112, 161}}, {{69, 93, 145, 161}}, {{69, 112, 117, 161}}, {{69, 112, 117, 171}}, {{69, 112, 141, 171}}, {{69, 141, 171, 205}}, {{73, 90, 138, 213}}, {{75, 85, 134, 147}}, {{81, 104, 157, 210}}, {{81, 138, 213, 226}}, {{81, 145, 213, 226}}, {{90, 121, 147, 181}}, {{90, 138, 213, 226}}, {{101, 112, 141, 171}}, {{112, 117, 161, 192}}, {{116, 165, 205, FACETS}}, {{117, 134, 156, 181}}, {{124, 130, 165, 184}}},\n",
      "    VA {{{3, 44, 92, 188}}, {{3, 44, 92, 193}}, {{3, 44, 113, 188}}, {{3, 75, 82, 125}}, {{3, 75, 92, 188}}, {{3, 75, 125, 188}}, {{3, 82, 125, 171}}, {{3, 82, 132, 171}}, {{3, 113, 125, 171}}, {{3, 113, 125, 188}}, {{3, 132, 193, FACETS}}, {{5, 42, 112, 122}}, {{5, 42, 112, 141}}, {{5, 42, 122, 131}}, {{5, 42, 131, 159}}, {{5, 42, 141, 159}}, {{5, 58, 104, 131}}, {{5, 58, 104, 218}}, {{5, 58, 122, 131}}, {{5, 58, 122, 151}}, {{5, 58, 151, 218}}, {{5, 86, 104, 159}}, {{5, 86, 104, 218}}, {{5, 86, 141, 159}}, {{5, 104, 131, 159}}, {{5, 112, 122, 151}}, {{7, 37, 138, 223}}, {{7, 37, 146, 154}}, {{7, 37, 154, 223}}, {{7, 54, 65, 154}}, {{7, 54, 118, 146}}, {{7, 54, 146, 154}}, {{7, 65, 79, 223}}, {{7, 65, 154, 223}}, {{7, 79, 138, 198}}, {{7, 79, 138, 223}}, {{7, 118, 198, FACETS}}, {{15, 32, 72, 158}}, {{15, 32, 72, 181}}, {{15, 32, 110, 167}}, {{15, 32, 110, 181}}, {{15, 32, 158, 167}}, {{15, 50, 89, 167}}, {{15, 50, 127, 158}}, {{15, 50, 158, 167}}, {{15, 63, 72, 127}}, {{15, 63, 72, 181}}, {{15, 63, 181, 215}}, {{15, 72, 127, 158}}, {{15, 89, 110, 167}}, {{15, 89, 110, 215}}, {{15, 110, 181, 215}}, {{16, 86, 141, 159}}, {{16, 86, 146, 159}}, {{16, 89, 110, 159}}, {{16, 89, 110, 167}}, {{16, 89, 132, 141}}, {{16, 89, 132, 167}}, {{16, 89, 141, 159}}, {{16, 110, 118, 146}}, {{16, 110, 118, 167}}, {{16, 110, 146, 159}}, {{16, 118, 167, 193}}, {{16, 132, 167, 193}}, {{24, 42, 79, 122}}, {{24, 42, 122, 131}}, {{24, 42, 131, 215}}, {{24, 44, 63, 138}}, {{24, 44, 63, 188}}, {{24, 44, 92, 188}}, {{24, 44, 92, 198}}, {{24, 44, 138, 198}}, {{24, 63, 188, 215}}, {{24, 79, 122, 198}}, {{24, 79, 138, 198}}, {{24, 92, 122, 131}}, {{24, 92, 122, 198}}, {{24, 92, 131, 188}}, {{24, 131, 188, 215}}, {{27, 32, 54, 181}}, {{27, 32, 72, 151}}, {{27, 32, 72, 181}}, {{27, 54, 65, 125}}, {{27, 54, 125, 181}}, {{27, 65, 112, 171}}, {{27, 65, 125, 171}}, {{27, 72, 113, 181}}, {{27, 112, 151, FACETS}}, {{27, 113, 125, 171}}, {{27, 113, 125, 181}}, {{29, 37, 104, 154}}, {{29, 37, 104, 218}}, {{29, 37, 127, 218}}, {{29, 37, 127, 223}}, {{29, 37, 154, 223}}, {{29, 50, 82, 223}}, {{29, 50, 127, 158}}, {{29, 50, 127, 223}}, {{29, 58, 75, 104}}, {{29, 58, 104, 218}}, {{29, 58, 158, 218}}, {{29, 75, 82, 154}}, {{29, 75, 104, 154}}, {{29, 82, 154, 223}}, {{29, 127, 158, 218}}, {{32, 54, 110, 118}}, {{32, 54, 110, 181}}, {{32, 72, 151, 158}}, {{32, 110, 118, 167}}, {{32, 118, 167, 212}}, {{32, 151, 158, 212}}, {{32, 158, 167, 212}}, {{37, 86, 104, 146}}, {{37, 86, 104, 218}}, {{37, 86, 207, 218}}, {{37, 104, 146, 154}}, {{37, 127, 138, 207}}, {{37, 127, 138, 223}}, {{37, 127, 207, 218}}, {{42, 79, 101, 112}}, {{42, 79, 112, 122}}, {{42, 89, 101, 141}}, {{42, 89, 141, 159}}, {{42, 89, 159, 215}}, {{42, 101, 112, 141}}, {{42, 131, 159, 215}}, {{44, 63, 113, 188}}, {{44, 63, 113, 207}}, {{44, 63, 138, 207}}, {{44, 92, 193, 198}}, {{50, 82, 101, 132}}, {{50, 82, 101, 223}}, {{50, 89, 101, 132}}, {{50, 89, 132, 167}}, {{54, 65, 125, 154}}, {{54, 110, 118, 146}}, {{54, 110, 146, 186}}, {{54, 110, 181, 186}}, {{54, 125, 154, 186}}, {{54, 125, 181, 186}}, {{54, 146, 154, 186}}, {{58, 75, 92, 131}}, {{58, 75, 104, 131}}, {{58, 92, 122, 131}}, {{58, 92, 122, 212}}, {{58, 122, 151, 212}}, {{58, 151, 158, 212}}, {{58, 151, 158, 218}}, {{63, 72, 113, 181}}, {{63, 72, 113, 207}}, {{63, 72, 127, 207}}, {{63, 113, 181, 188}}, {{63, 127, 138, 207}}, {{63, 181, 188, 215}}, {{65, 79, 101, 112}}, {{65, 79, 101, 223}}, {{65, 82, 101, 171}}, {{65, 82, 101, 223}}, {{65, 82, 125, 154}}, {{65, 82, 125, 171}}, {{65, 82, 154, 223}}, {{65, 101, 112, 171}}, {{72, 127, 158, 218}}, {{72, 127, 207, 218}}, {{72, 151, 158, 218}}, {{75, 82, 125, 154}}, {{75, 92, 131, 188}}, {{75, 104, 131, 186}}, {{75, 104, 154, 186}}, {{75, 125, 154, 186}}, {{75, 125, 186, 188}}, {{75, 131, 186, 188}}, {{82, 101, 132, 171}}, {{86, 104, 146, 159}}, {{89, 101, 132, 141}}, {{89, 110, 159, 215}}, {{92, 122, 198, 212}}, {{92, 193, 198, 212}}, {{101, 112, 141, 171}}, {{101, 132, 141, 171}}, {{104, 131, 159, 186}}, {{104, 146, 154, 186}}, {{104, 146, 159, 186}}, {{110, 146, 159, 186}}, {{110, 159, 186, 215}}, {{110, 181, 186, 215}}, {{113, 125, 181, 188}}, {{118, 167, 193, 212}}, {{118, 193, 198, 212}}, {{125, 181, 186, 188}}, {{131, 159, 186, 215}}, {{131, 186, 188, 215}}, {{181, 186, 188, 215}}},\n",
      "    VA {{{2, 50, 93, 128}}, {{2, 50, 93, 166}}, {{2, 50, 116, 128}}, {{2, 50, 116, 162}}, {{2, 50, 162, 166}}, {{2, 72, 81, 98}}, {{2, 72, 81, 224}}, {{2, 72, 93, 98}}, {{2, 72, 93, 128}}, {{2, 72, 128, 224}}, {{2, 81, 98, 109}}, {{2, 81, 109, 212}}, {{2, 81, 212, 224}}, {{2, 93, 98, 166}}, {{2, 98, 109, 166}}, {{2, 109, 162, 166}}, {{2, 109, 162, 212}}, {{2, 116, 128, 224}}, {{2, 116, 162, 212}}, {{2, 116, 212, 224}}, {{5, 40, 133, 153}}, {{5, 40, 133, 211}}, {{5, 57, 111, 121}}, {{5, 57, 121, 211}}, {{5, 84, 111, 196}}, {{5, 84, 153, 196}}, {{5, 111, 121, 196}}, {{5, 121, 133, 196}}, {{5, 121, 133, 211}}, {{5, 133, 153, 196}}, {{9, 37, 126, 163}}, {{9, 37, 126, 191}}, {{9, 37, 130, 191}}, {{9, 44, 66, 149}}, {{9, 44, 66, 163}}, {{9, 44, 119, 149}}, {{9, 66, 75, 126}}, {{9, 66, 75, 149}}, {{9, 66, 126, 163}}, {{9, 75, 126, 191}}, {{9, 119, 130, FACETS}}, {{13, 34, 79, 139}}, {{13, 34, 139, 228}}, {{13, 34, 177, 228}}, {{13, 54, 88, 160}}, {{13, 54, 88, 177}}, {{13, 54, 156, 160}}, {{13, 62, 79, 139}}, {{13, 62, 79, 156}}, {{13, 62, 139, 171}}, {{13, 62, 156, 160}}, {{13, 62, 160, 171}}, {{13, 88, 160, 171}}, {{13, 88, 171, 228}}, {{13, 88, 177, 228}}, {{13, 139, 171, 228}}, {{16, 84, 130, 162}}, {{16, 84, 153, 162}}, {{16, 88, 109, 153}}, {{16, 88, 109, 177}}, {{16, 88, 177, 228}}, {{16, 109, 153, 162}}, {{16, 109, 162, 166}}, {{16, 109, 166, 177}}, {{16, 119, 130, 166}}, {{16, 119, 166, 177}}, {{16, 119, 177, 228}}, {{16, 130, 162, 166}}, {{23, 40, 75, 160}}, {{23, 40, 75, 211}}, {{23, 40, 160, 171}}, {{23, 50, 62, 128}}, {{23, 50, 62, 191}}, {{23, 50, 93, 128}}, {{23, 62, 128, 171}}, {{23, 62, 160, 171}}, {{23, 62, 160, 191}}, {{23, 75, 160, 191}}, {{23, 93, 211, FACETS}}, {{28, 34, 44, 139}}, {{28, 34, 44, 149}}, {{28, 34, 79, 121}}, {{28, 34, 79, 139}}, {{28, 34, 121, 149}}, {{28, 44, 66, 149}}, {{28, 44, 66, 224}}, {{28, 44, 139, 224}}, {{28, 66, 133, 149}}, {{28, 66, 133, 212}}, {{28, 66, 212, 224}}, {{28, 79, 116, 139}}, {{28, 79, 116, 196}}, {{28, 79, 121, 196}}, {{28, 116, 139, 224}}, {{28, 116, 196, 212}}, {{28, 116, 212, 224}}, {{28, 121, 133, 149}}, {{28, 121, 133, 196}}, {{28, 133, 196, 212}}, {{30, 37, 111, 156}}, {{30, 37, 126, 156}}, {{30, 37, 126, 163}}, {{30, 54, 81, 98}}, {{30, 54, 81, 126}}, {{30, 54, 126, 156}}, {{30, 57, 72, 98}}, {{30, 57, 111, FACETS}}, {{30, 72, 81, 98}}, {{30, 72, 81, 163}}, {{30, 81, 126, 163}}, {{34, 44, 119, 149}}, {{34, 44, 119, 228}}, {{34, 44, 139, 228}}, {{34, 119, 149, 215}}, {{34, 119, 177, 215}}, {{34, 119, 177, 228}}, {{34, 121, 149, 215}}, {{37, 84, 100, 111}}, {{37, 84, 100, 130}}, {{37, 100, 111, 156}}, {{37, 100, 130, 191}}, {{37, 100, 156, 191}}, {{37, 126, 156, 191}}, {{40, 75, 133, 189}}, {{40, 75, 133, 211}}, {{40, 75, 160, 189}}, {{40, 88, 153, 189}}, {{40, 88, 160, 171}}, {{40, 88, 160, 189}}, {{40, 133, 153, 189}}, {{44, 66, 163, 224}}, {{44, 139, 204, 224}}, {{44, 139, 204, 228}}, {{44, 163, 204, 224}}, {{50, 62, 100, 116}}, {{50, 62, 100, 191}}, {{50, 62, 116, 128}}, {{50, 100, 116, 162}}, {{50, 100, 130, 162}}, {{50, 100, 130, 191}}, {{50, 130, 162, 166}}, {{54, 81, 98, 109}}, {{54, 81, 109, 189}}, {{54, 81, 126, 189}}, {{54, 88, 109, 177}}, {{54, 88, 109, 189}}, {{54, 88, 160, 189}}, {{54, 98, 109, 177}}, {{54, 126, 156, 160}}, {{54, 126, 160, 189}}, {{57, 72, 93, 98}}, {{57, 93, 98, 215}}, {{57, 93, 211, 215}}, {{57, 121, 211, 215}}, {{62, 79, 100, 116}}, {{62, 79, 100, 156}}, {{62, 79, 116, 139}}, {{62, 100, 156, 191}}, {{62, 116, 128, 139}}, {{62, 128, 139, 171}}, {{62, 156, 160, 191}}, {{66, 75, 126, 189}}, {{66, 75, 133, 149}}, {{66, 75, 133, 189}}, {{66, 81, 126, 163}}, {{66, 81, 126, 189}}, {{66, 81, 163, 224}}, {{66, 81, 189, 212}}, {{66, 81, 212, 224}}, {{66, 133, 189, 212}}, {{72, 81, 163, 224}}, {{72, 128, 204, 224}}, {{72, 163, 204, 224}}, {{75, 126, 160, 189}}, {{75, 126, 160, 191}}, {{75, 133, 149, 211}}, {{79, 100, 111, 156}}, {{79, 100, 111, 196}}, {{79, 100, 116, 196}}, {{79, 111, 121, 196}}, {{81, 109, 189, 212}}, {{84, 100, 111, 196}}, {{84, 100, 130, 162}}, {{84, 100, 162, 196}}, {{84, 153, 162, 196}}, {{88, 109, 153, 189}}, {{93, 98, 166, 215}}, {{98, 109, 166, 177}}, {{98, 166, 177, 215}}, {{100, 116, 162, 196}}, {{109, 153, 162, 212}}, {{109, 153, 189, 212}}, {{116, 128, 139, 224}}, {{116, 162, 196, 212}}, {{119, 166, 177, 215}}, {{121, 133, 149, 211}}, {{121, 149, 211, 215}}, {{126, 156, 160, 191}}, {{128, 139, 171, 204}}, {{128, 139, 204, 224}}, {{133, 153, 189, 212}}, {{133, 153, 196, 212}}, {{139, 171, 204, 228}}, {{153, 162, 196, 212}}},\n",
      "    VA {{{3, 48, 83, 121}}, {{3, 48, 83, 185}}, {{3, 48, 103, 185}}, {{3, 75, 92, 180}}, {{3, 75, 103, 115}}, {{3, 75, 115, 180}}, {{3, 83, 121, 137}}, {{3, 83, 137, 153}}, {{3, 83, 153, 185}}, {{3, 92, 121, 137}}, {{3, 92, 137, 180}}, {{3, 103, 115, 185}}, {{3, 115, 153, 180}}, {{3, 115, 153, 185}}, {{3, 137, 153, 180}}, {{4, 37, 100, 207}}, {{4, 37, 127, 135}}, {{4, 37, 127, 207}}, {{4, 67, 100, 207}}, {{4, 67, 107, 166}}, {{4, 67, 107, 207}}, {{4, 107, 119, 127}}, {{4, 107, 119, 166}}, {{4, 107, 127, 207}}, {{4, 119, 127, 135}}, {{4, 119, 135, 150}}, {{4, 119, 150, 166}}, {{12, 42, 45, 199}}, {{12, 42, 45, 210}}, {{12, 42, 68, 210}}, {{12, 42, 68, 222}}, {{12, 42, 199, 222}}, {{12, 45, 57, 138}}, {{12, 45, 57, 210}}, {{12, 45, 138, 199}}, {{12, 57, 106, 138}}, {{12, 68, 145, 222}}, {{12, 87, 106, 138}}, {{12, 87, 106, 145}}, {{12, 87, 138, 199}}, {{12, 87, 145, 222}}, {{12, 87, 199, 222}}, {{13, 32, 54, 187}}, {{13, 32, 54, 194}}, {{13, 32, 77, 176}}, {{13, 32, 77, 187}}, {{13, 32, 176, 194}}, {{13, 54, 60, 187}}, {{13, 60, 159, 165}}, {{13, 60, 165, 187}}, {{13, 77, 89, 165}}, {{13, 77, 89, 176}}, {{13, 77, 165, 187}}, {{13, 89, 159, 165}}, {{18, 48, 89, 176}}, {{18, 48, 89, 222}}, {{18, 48, 103, 222}}, {{18, 77, 89, 176}}, {{18, 77, 89, 199}}, {{18, 77, 119, 127}}, {{18, 77, 119, 176}}, {{18, 77, 127, 199}}, {{18, 87, 103, 135}}, {{18, 87, 103, 222}}, {{18, 87, 127, 135}}, {{18, 87, 127, 199}}, {{18, 87, 199, 222}}, {{18, 89, 199, 222}}, {{18, 119, 127, 135}}, {{22, 37, 100, 207}}, {{22, 37, 106, 138}}, {{22, 37, 138, 207}}, {{22, 57, 106, 138}}, {{22, 57, 106, 194}}, {{22, 57, 121, 137}}, {{22, 57, 121, 194}}, {{22, 57, 137, 138}}, {{22, 83, 100, 207}}, {{22, 83, 121, 137}}, {{22, 83, 137, 207}}, {{22, 137, 138, 207}}, {{23, 42, 45, 165}}, {{23, 42, 45, 210}}, {{23, 42, 159, 165}}, {{23, 45, 92, 180}}, {{23, 45, 92, 210}}, {{23, 45, 165, 180}}, {{23, 60, 75, 180}}, {{23, 60, 159, 165}}, {{23, 60, 165, 180}}, {{23, 75, 92, 150}}, {{23, 75, 92, 180}}, {{23, 92, 150, 210}}, {{27, 32, 54, 187}}, {{27, 32, 107, 166}}, {{27, 32, 107, 187}}, {{27, 54, 115, 145}}, {{27, 54, 115, 187}}, {{27, 67, 68, 166}}, {{27, 67, 68, 185}}, {{27, 67, 107, 153}}, {{27, 67, 107, 166}}, {{27, 67, 153, 185}}, {{27, 68, 145, 185}}, {{27, 107, 153, 187}}, {{27, 115, 145, 185}}, {{27, 115, 153, 185}}, {{27, 115, 153, 187}}, {{32, 77, 107, 119}}, {{32, 77, 107, 187}}, {{32, 77, 119, 176}}, {{32, 107, 119, 166}}, {{37, 87, 106, 138}}, {{37, 87, 106, 203}}, {{37, 87, 127, 135}}, {{37, 87, 127, 138}}, {{37, 87, 135, 203}}, {{37, 127, 138, 207}}, {{42, 45, 165, 199}}, {{42, 68, 141, 222}}, {{42, 89, 141, 159}}, {{42, 89, 141, 222}}, {{42, 89, 159, 165}}, {{42, 89, 165, 199}}, {{42, 89, 199, 222}}, {{45, 57, 92, 137}}, {{45, 57, 92, 210}}, {{45, 57, 137, 138}}, {{45, 92, 137, 180}}, {{48, 83, 141, 185}}, {{48, 89, 141, 222}}, {{48, 103, 185, 222}}, {{48, 121, 176, FACETS}}, {{48, 141, 185, 222}}, {{54, 60, 115, 187}}, {{54, 60, 115, 203}}, {{54, 106, 145, 203}}, {{54, 106, 194, FACETS}}, {{54, 115, 145, 203}}, {{57, 92, 121, 137}}, {{60, 75, 115, 180}}, {{60, 75, 115, 203}}, {{60, 115, 180, 187}}, {{60, 165, 180, 187}}, {{67, 68, 141, 185}}, {{67, 83, 100, 141}}, {{67, 83, 100, 207}}, {{67, 83, 141, 185}}, {{67, 83, 153, 185}}, {{67, 83, 153, 207}}, {{67, 107, 153, 207}}, {{68, 141, 185, 222}}, {{68, 145, 185, 222}}, {{68, 166, 210, FACETS}}, {{75, 103, 115, 203}}, {{75, 103, 135, 203}}, {{75, 135, 150, FACETS}}, {{77, 89, 165, 199}}, {{77, 107, 119, 127}}, {{83, 137, 153, 207}}, {{87, 103, 135, 203}}, {{87, 103, 145, 203}}, {{87, 103, 145, 222}}, {{87, 106, 145, 203}}, {{87, 127, 138, 199}}, {{100, 141, 159, FACETS}}, {{103, 115, 145, 185}}, {{103, 115, 145, 203}}, {{103, 145, 185, 222}}, {{115, 153, 180, 187}}, {{121, 176, 194, FACETS}}, {{150, 166, 210, FACETS}}},\n",
      "    VA {{{2, 45, 113, FACETS}}, {{2, 45, 186, 219}}, {{2, 68, 82, 142}}, {{2, 68, 82, 219}}, {{2, 68, 94, 142}}, {{2, 68, 94, 186}}, {{2, 68, 186, 219}}, {{2, 82, 106, 142}}, {{2, 94, 142, 157}}, {{2, 106, 113, 157}}, {{2, 106, 142, 157}}, {{6, 32, 190, FACETS}}, {{6, 32, 206, FACETS}}, {{6, 60, 112, FACETS}}, {{6, 60, 134, FACETS}}, {{6, 89, 134, 206}}, {{6, 89, 144, FACETS}}, {{6, 112, 144, 190}}, {{7, 38, 52, 103}}, {{7, 38, 52, 121}}, {{7, 38, 74, 103}}, {{7, 38, 74, 148}}, {{7, 38, 121, 148}}, {{7, 52, 66, 103}}, {{7, 52, 66, 178}}, {{7, 52, 121, 178}}, {{7, 74, 148, 153}}, {{7, 120, 121, 148}}, {{7, 120, 121, 178}}, {{7, 120, 148, 153}}, {{11, 41, 47, 100}}, {{11, 41, 47, 127}}, {{11, 41, 78, 100}}, {{11, 41, 78, 139}}, {{11, 41, 127, 139}}, {{11, 47, 58, 100}}, {{11, 47, 58, 160}}, {{11, 47, 127, 160}}, {{11, 58, 150, 160}}, {{11, 78, 86, 139}}, {{11, 86, 136, 139}}, {{11, 86, 136, 150}}, {{11, 127, 136, 139}}, {{11, 127, 136, 160}}, {{11, 136, 150, 160}}, {{17, 45, 86, 139}}, {{17, 45, 86, 148}}, {{17, 45, 139, 219}}, {{17, 45, 148, 186}}, {{17, 45, 186, 219}}, {{17, 78, 86, 121}}, {{17, 78, 86, 139}}, {{17, 78, 89, 139}}, {{17, 78, 89, 206}}, {{17, 78, 121, 206}}, {{17, 86, 121, 148}}, {{17, 89, 139, 219}}, {{17, 120, 121, 148}}, {{17, 120, 121, 206}}, {{17, 120, 148, 186}}, {{21, 32, 160, FACETS}}, {{21, 32, 178, FACETS}}, {{21, 66, 106, 178}}, {{21, 66, 127, FACETS}}, {{21, 106, 113, FACETS}}, {{21, 113, 136, FACETS}}, {{21, 127, 136, 160}}, {{24, 41, 47, 100}}, {{24, 41, 100, 134}}, {{24, 47, 94, 100}}, {{24, 47, 94, 153}}, {{24, 60, 74, FACETS}}, {{24, 60, 134, 157}}, {{24, 74, 153, FACETS}}, {{24, 94, 100, 157}}, {{24, 100, 134, 157}}, {{30, 38, 52, 103}}, {{30, 38, 103, 112}}, {{30, 38, 112, 150}}, {{30, 52, 82, 103}}, {{30, 52, 82, 142}}, {{30, 58, 68, 142}}, {{30, 58, 68, 190}}, {{30, 58, 150, 190}}, {{30, 68, 82, 142}}, {{30, 68, 82, 144}}, {{30, 68, 144, 190}}, {{30, 82, 103, 144}}, {{30, 103, 112, 144}}, {{30, 112, 144, 190}}, {{30, 112, 150, 190}}, {{32, 120, 168, FACETS}}, {{32, 120, 178, 206}}, {{32, 160, 168, 190}}, {{38, 74, 103, 112}}, {{38, 74, 112, 177}}, {{38, 74, 148, 177}}, {{38, 86, 121, 148}}, {{38, 86, 148, 177}}, {{38, 86, 150, 177}}, {{38, 112, 150, 177}}, {{41, 78, 89, 134}}, {{41, 78, 89, 139}}, {{41, 78, 100, 134}}, {{41, 89, 139, 200}}, {{41, 127, 139, 200}}, {{45, 86, 136, 139}}, {{45, 86, 136, 177}}, {{45, 86, 148, 177}}, {{45, 113, 136, 177}}, {{47, 58, 94, 100}}, {{47, 58, 94, 168}}, {{47, 58, 160, 168}}, {{47, 94, 153, 168}}, {{52, 66, 82, 103}}, {{52, 66, 82, 106}}, {{52, 66, 106, 178}}, {{52, 82, 106, 142}}, {{52, 106, 142, 193}}, {{52, 106, 178, 193}}, {{52, 121, 178, 193}}, {{58, 68, 94, 142}}, {{58, 68, 94, 168}}, {{58, 68, 168, 190}}, {{58, 94, 100, 142}}, {{58, 150, 160, 190}}, {{58, 160, 168, 190}}, {{60, 74, 112, 177}}, {{60, 113, 157, FACETS}}, {{60, 113, 177, FACETS}}, {{66, 82, 103, 200}}, {{66, 127, 200, FACETS}}, {{68, 82, 144, 219}}, {{68, 94, 168, 186}}, {{78, 89, 134, 206}}, {{78, 100, 134, 193}}, {{78, 121, 193, 206}}, {{78, 134, 193, 206}}, {{82, 103, 144, 200}}, {{82, 144, 200, 219}}, {{86, 136, 150, 177}}, {{89, 139, 200, 219}}, {{89, 144, 200, 219}}, {{94, 100, 142, 157}}, {{94, 153, 168, 186}}, {{100, 134, 157, 193}}, {{100, 142, 157, 193}}, {{106, 142, 157, 193}}, {{120, 121, 178, 206}}, {{120, 148, 153, 186}}, {{120, 153, 168, 186}}, {{121, 178, 193, 206}}},\n",
      "    VA {{{1, 51, 95, 127}}, {{1, 51, 95, 167}}, {{1, 51, 114, 127}}, {{1, 77, 82, 96}}, {{1, 77, 82, 199}}, {{1, 77, 95, 96}}, {{1, 77, 95, 127}}, {{1, 77, 127, 199}}, {{1, 82, 96, 228}}, {{1, 82, 199, 204}}, {{1, 82, 204, 228}}, {{1, 95, 96, 167}}, {{1, 96, 167, 228}}, {{1, 114, 127, 199}}, {{1, 114, 199, 204}}, {{5, 40, 107, 153}}, {{5, 40, 107, 197}}, {{5, 40, 153, 231}}, {{5, 58, 107, 187}}, {{5, 58, 107, 197}}, {{5, 58, 122, 131}}, {{5, 58, 122, 197}}, {{5, 58, 131, 187}}, {{5, 84, 131, 187}}, {{5, 84, 153, 187}}, {{5, 84, 153, 231}}, {{5, 107, 153, 187}}, {{8, 38, 110, 155}}, {{8, 38, 110, 180}}, {{8, 38, 125, 155}}, {{8, 38, 125, 165}}, {{8, 38, 165, 180}}, {{8, 45, 65, 147}}, {{8, 45, 65, 165}}, {{8, 45, 118, 147}}, {{8, 45, 118, 180}}, {{8, 45, 165, 180}}, {{8, 65, 71, 125}}, {{8, 65, 71, 147}}, {{8, 65, 125, 165}}, {{8, 71, 125, 155}}, {{8, 110, 118, 180}}, {{14, 35, 78, 138}}, {{14, 35, 137, 138}}, {{14, 35, 137, 157}}, {{14, 49, 88, 157}}, {{14, 49, 88, 178}}, {{14, 49, 178, 192}}, {{14, 63, 78, 138}}, {{14, 63, 78, 192}}, {{14, 63, 138, 207}}, {{14, 63, 178, 192}}, {{14, 63, 178, 207}}, {{14, 88, 137, 157}}, {{14, 88, 137, 207}}, {{14, 88, 178, 207}}, {{14, 137, 138, 207}}, {{16, 84, 110, 180}}, {{16, 84, 153, 180}}, {{16, 84, 153, 231}}, {{16, 88, 137, 153}}, {{16, 88, 137, 157}}, {{16, 88, 153, 231}}, {{16, 88, 157, 228}}, {{16, 88, 228, 231}}, {{16, 110, 118, 167}}, {{16, 110, 118, 180}}, {{16, 118, 137, 157}}, {{16, 118, 137, 180}}, {{16, 118, 157, 167}}, {{16, 137, 153, 180}}, {{16, 157, 167, 228}}, {{25, 40, 71, 178}}, {{25, 40, 71, 197}}, {{25, 40, 107, 197}}, {{25, 40, 107, 207}}, {{25, 40, 178, 207}}, {{25, 51, 63, 127}}, {{25, 51, 63, 155}}, {{25, 51, 95, 127}}, {{25, 63, 127, 207}}, {{25, 63, 155, 178}}, {{25, 63, 178, 207}}, {{25, 71, 155, 178}}, {{25, 95, 107, 127}}, {{25, 95, 107, 197}}, {{25, 107, 127, 207}}, {{26, 35, 45, 138}}, {{26, 35, 45, 147}}, {{26, 35, 78, 122}}, {{26, 35, 78, 138}}, {{26, 35, 122, 147}}, {{26, 45, 65, 147}}, {{26, 45, 65, 199}}, {{26, 45, 138, 199}}, {{26, 65, 199, 204}}, {{26, 78, 114, 138}}, {{26, 114, 138, 199}}, {{26, 114, 199, 204}}, {{31, 38, 125, 165}}, {{31, 38, 125, 192}}, {{31, 38, 131, 187}}, {{31, 38, 131, 192}}, {{31, 38, 165, 187}}, {{31, 49, 82, 96}}, {{31, 49, 82, 125}}, {{31, 49, 125, 192}}, {{31, 58, 77, 96}}, {{31, 58, 77, 187}}, {{31, 58, 131, 187}}, {{31, 77, 82, 96}}, {{31, 77, 82, 165}}, {{31, 77, 165, 187}}, {{31, 82, 125, 165}}, {{35, 45, 118, 137}}, {{35, 45, 118, 147}}, {{35, 45, 137, 138}}, {{35, 118, 137, 157}}, {{35, 118, 147, 216}}, {{35, 118, 157, 216}}, {{35, 122, 147, 216}}, {{38, 84, 99, 110}}, {{38, 84, 99, 131}}, {{38, 84, 110, 180}}, {{38, 84, 131, 187}}, {{38, 84, 180, 187}}, {{38, 99, 110, 155}}, {{38, 99, 131, 192}}, {{38, 99, 155, 192}}, {{38, 125, 155, 192}}, {{38, 165, 180, 187}}, {{40, 71, 171, 178}}, {{40, 88, 153, 207}}, {{40, 88, 153, 231}}, {{40, 88, 171, 178}}, {{40, 88, 171, 231}}, {{40, 88, 178, 207}}, {{40, 107, 153, 207}}, {{45, 65, 165, 199}}, {{45, 118, 137, 180}}, {{45, 137, 138, 232}}, {{45, 137, 180, 232}}, {{45, 138, 199, 232}}, {{45, 165, 180, 232}}, {{45, 165, 199, 232}}, {{49, 82, 96, 228}}, {{49, 82, 125, 171}}, {{49, 82, 171, 228}}, {{49, 88, 157, 228}}, {{49, 88, 171, 178}}, {{49, 88, 171, 228}}, {{49, 96, 157, 228}}, {{49, 125, 171, 178}}, {{49, 125, 178, 192}}, {{51, 63, 99, 114}}, {{51, 63, 99, 155}}, {{51, 63, 114, 127}}, {{51, 99, 110, 155}}, {{51, 110, 167, FACETS}}, {{58, 77, 95, 96}}, {{58, 77, 95, 107}}, {{58, 77, 107, 187}}, {{58, 95, 96, 216}}, {{58, 95, 107, 197}}, {{58, 95, 197, 216}}, {{58, 122, 197, 216}}, {{63, 78, 99, 114}}, {{63, 78, 99, 192}}, {{63, 78, 114, 138}}, {{63, 99, 155, 192}}, {{63, 114, 127, 138}}, {{63, 127, 138, 207}}, {{63, 155, 178, 192}}, {{65, 71, 125, 171}}, {{65, 82, 125, 165}}, {{65, 82, 125, 171}}, {{65, 82, 165, 199}}, {{65, 82, 171, 204}}, {{65, 82, 199, 204}}, {{71, 125, 155, 178}}, {{71, 125, 171, 178}}, {{71, 147, 197, FACETS}}, {{77, 82, 165, 199}}, {{77, 95, 107, 127}}, {{77, 107, 127, 232}}, {{77, 107, 187, 232}}, {{77, 127, 199, 232}}, {{77, 165, 187, 232}}, {{77, 165, 199, 232}}, {{78, 99, 131, 192}}, {{78, 122, 131, FACETS}}, {{82, 171, 204, 228}}, {{84, 153, 180, 187}}, {{88, 137, 153, 207}}, {{88, 171, 228, 231}}, {{95, 96, 167, 216}}, {{96, 157, 167, 216}}, {{96, 157, 167, 228}}, {{107, 127, 207, 232}}, {{107, 153, 187, 232}}, {{107, 153, 207, 232}}, {{114, 127, 138, 199}}, {{118, 157, 167, 216}}, {{122, 147, 197, 216}}, {{125, 155, 178, 192}}, {{127, 138, 199, 232}}, {{127, 138, 207, 232}}, {{137, 138, 207, 232}}, {{137, 153, 180, 232}}, {{137, 153, 207, 232}}, {{153, 180, 187, 232}}, {{165, 180, 187, 232}}, {{171, 204, 228, 231}}},\n",
      "    VA {{{0, 80, 155, 158}}, {{0, 80, 155, 191}}, {{0, 80, 158, 218}}, {{0, 80, 176, 191}}, {{0, 80, 176, 218}}, {{0, 92, 111, 155}}, {{0, 92, 111, 184}}, {{0, 92, 131, 184}}, {{0, 92, 131, 191}}, {{0, 92, 155, 191}}, {{0, 111, 155, 158}}, {{0, 111, 158, 165}}, {{0, 111, 165, 184}}, {{0, 116, 131, 176}}, {{0, 116, 131, 184}}, {{0, 116, 165, 184}}, {{0, 116, 165, 218}}, {{0, 116, 176, 218}}, {{0, 131, 176, 191}}, {{0, 158, 165, 218}}, {{7, 39, 54, 124}}, {{7, 39, 54, 197}}, {{7, 39, 124, 153}}, {{7, 54, 118, 124}}, {{7, 54, 118, 146}}, {{7, 54, 146, 197}}, {{7, 66, 103, 146}}, {{7, 66, 103, 233}}, {{7, 66, 146, 197}}, {{7, 74, 103, 118}}, {{7, 74, 103, 233}}, {{7, 74, 118, 124}}, {{7, 74, 124, 153}}, {{7, 74, 153, 233}}, {{7, 103, 118, 146}}, {{12, 41, 72, 96}}, {{12, 41, 72, 200}}, {{12, 41, 96, 188}}, {{12, 53, 56, 171}}, {{12, 53, 171, 205}}, {{12, 53, 200, 205}}, {{12, 56, 108, 171}}, {{12, 56, 108, 188}}, {{12, 72, 85, 96}}, {{12, 72, 85, 205}}, {{12, 72, 200, 205}}, {{12, 85, 96, 108}}, {{12, 85, 108, 171}}, {{12, 85, 171, 205}}, {{12, 96, 108, 188}}, {{14, 34, 70, 141}}, {{14, 34, 70, 220}}, {{14, 34, 132, 141}}, {{14, 47, 61, 101}}, {{14, 47, 61, 166}}, {{14, 47, 91, 166}}, {{14, 47, 91, 211}}, {{14, 47, 101, 211}}, {{14, 61, 70, 141}}, {{14, 61, 70, 166}}, {{14, 61, 101, 141}}, {{14, 70, 166, 220}}, {{14, 91, 166, 220}}, {{14, 101, 132, 141}}, {{14, 101, 132, 211}}, {{19, 54, 85, 96}}, {{19, 54, 85, 124}}, {{19, 54, 96, 220}}, {{19, 54, 118, 124}}, {{19, 54, 118, 220}}, {{19, 72, 85, 96}}, {{19, 72, 85, 165}}, {{19, 72, 91, 96}}, {{19, 72, 91, 158}}, {{19, 72, 158, 165}}, {{19, 85, 124, 165}}, {{19, 91, 96, 220}}, {{19, 111, 118, 124}}, {{19, 111, 124, 165}}, {{19, 111, 158, 165}}, {{22, 39, 101, 171}}, {{22, 39, 108, 171}}, {{22, 39, 108, 197}}, {{22, 56, 108, 171}}, {{22, 56, 108, 191}}, {{22, 56, 132, 155}}, {{22, 56, 132, 171}}, {{22, 56, 155, 191}}, {{22, 80, 155, 191}}, {{22, 80, 155, 211}}, {{22, 80, 191, 197}}, {{22, 101, 132, 171}}, {{22, 101, 132, 211}}, {{22, 108, 191, 197}}, {{22, 132, 155, 211}}, {{24, 41, 47, 166}}, {{24, 41, 47, 233}}, {{24, 41, 166, 188}}, {{24, 47, 61, 153}}, {{24, 47, 61, 166}}, {{24, 47, 153, 233}}, {{24, 61, 131, 166}}, {{24, 61, 131, 184}}, {{24, 61, 153, 184}}, {{24, 74, 92, 184}}, {{24, 74, 153, 184}}, {{24, 74, 153, 233}}, {{24, 92, 131, 184}}, {{24, 92, 131, 188}}, {{24, 131, 166, 188}}, {{26, 34, 53, 103}}, {{26, 34, 53, 141}}, {{26, 34, 70, 141}}, {{26, 34, 70, 146}}, {{26, 34, 103, 146}}, {{26, 53, 103, 200}}, {{26, 53, 141, 205}}, {{26, 53, 200, 205}}, {{26, 66, 103, 146}}, {{26, 66, 103, 200}}, {{26, 66, 146, 176}}, {{26, 66, 176, 218}}, {{26, 66, 200, 218}}, {{26, 70, 116, 141}}, {{26, 70, 116, 176}}, {{26, 70, 146, 176}}, {{26, 116, 141, 205}}, {{26, 116, 176, 218}}, {{26, 116, 205, 218}}, {{26, 200, 205, 218}}, {{34, 53, 103, 195}}, {{34, 53, 132, 141}}, {{34, 53, 132, 195}}, {{34, 70, 146, 220}}, {{34, 103, 118, 146}}, {{34, 103, 118, 195}}, {{34, 118, 146, 220}}, {{39, 54, 85, 108}}, {{39, 54, 85, 124}}, {{39, 54, 108, 197}}, {{39, 85, 108, 171}}, {{39, 85, 124, 229}}, {{39, 85, 171, 229}}, {{39, 101, 153, 229}}, {{39, 101, 171, 229}}, {{39, 124, 153, 229}}, {{41, 47, 91, 127}}, {{41, 47, 91, 166}}, {{41, 47, 127, 233}}, {{41, 72, 91, 96}}, {{41, 72, 91, 127}}, {{41, 72, 127, 200}}, {{41, 91, 96, 166}}, {{41, 96, 166, 188}}, {{41, 127, 200, 233}}, {{47, 61, 101, 153}}, {{47, 91, 127, 211}}, {{53, 56, 132, 171}}, {{53, 56, 132, 195}}, {{53, 132, 141, 171}}, {{53, 141, 171, 205}}, {{54, 85, 96, 108}}, {{54, 118, 146, 220}}, {{56, 92, 155, 191}}, {{56, 92, 155, 195}}, {{56, 92, 188, 191}}, {{56, 108, 188, 191}}, {{56, 132, 155, 195}}, {{61, 70, 116, 131}}, {{61, 70, 116, 141}}, {{61, 70, 131, 166}}, {{61, 101, 141, 229}}, {{61, 101, 153, 229}}, {{61, 116, 131, 184}}, {{61, 116, 141, 229}}, {{61, 116, 184, 229}}, {{61, 153, 184, 229}}, {{66, 80, 127, 218}}, {{66, 80, 176, 197}}, {{66, 80, 176, 218}}, {{66, 103, 200, 233}}, {{66, 127, 200, 218}}, {{66, 127, 200, 233}}, {{66, 146, 176, 197}}, {{70, 116, 131, 176}}, {{72, 85, 165, 205}}, {{72, 91, 127, 158}}, {{72, 127, 158, 218}}, {{72, 127, 200, 218}}, {{72, 158, 165, 218}}, {{72, 165, 205, 218}}, {{72, 200, 205, 218}}, {{74, 92, 111, 184}}, {{74, 92, 111, 195}}, {{74, 103, 118, 195}}, {{74, 111, 118, 124}}, {{74, 111, 118, 195}}, {{74, 111, 124, 184}}, {{74, 124, 153, 184}}, {{80, 127, 158, 211}}, {{80, 127, 158, 218}}, {{80, 155, 158, 211}}, {{80, 176, 191, 197}}, {{85, 124, 165, 229}}, {{85, 165, 205, 229}}, {{85, 171, 205, 229}}, {{91, 96, 166, 220}}, {{91, 127, 158, 211}}, {{92, 111, 155, 195}}, {{92, 131, 188, 191}}, {{101, 132, 141, 171}}, {{101, 141, 171, 229}}, {{111, 124, 165, 184}}, {{116, 141, 205, 229}}, {{116, 165, 184, 229}}, {{116, 165, 205, 218}}, {{116, 165, 205, 229}}, {{124, 153, 184, 229}}, {{124, 165, 184, 229}}, {{141, 171, 205, 229}}},\n",
      "    VA {{{1, 83, 100, 141}}, {{1, 83, 100, 151}}, {{1, 83, 151, 195}}, {{1, 94, 100, 151}}, {{1, 94, 100, 174}}, {{1, 94, 126, 151}}, {{1, 94, 126, 220}}, {{1, 94, 174, 220}}, {{1, 100, 141, 174}}, {{1, 113, 126, 195}}, {{1, 113, 126, 220}}, {{1, 126, 151, 195}}, {{7, 38, 121, 148}}, {{7, 38, 148, 182}}, {{7, 38, 179, 182}}, {{7, 65, 98, 154}}, {{7, 65, 121, 223}}, {{7, 65, 154, 223}}, {{7, 98, 117, 154}}, {{7, 98, 117, 179}}, {{7, 117, 179, 182}}, {{7, 121, 148, 223}}, {{10, 40, 144, 158}}, {{10, 40, 158, 202}}, {{10, 40, 184, 202}}, {{10, 58, 128, 140}}, {{10, 58, 128, 202}}, {{10, 58, 140, 212}}, {{10, 58, 158, 202}}, {{10, 58, 158, 212}}, {{10, 85, 140, 212}}, {{10, 85, 144, 212}}, {{10, 128, 184, 202}}, {{10, 144, 158, 212}}, {{13, 35, 159, 200}}, {{13, 35, 172, 188}}, {{13, 35, 172, 200}}, {{13, 63, 172, 188}}, {{13, 63, 172, 219}}, {{13, 63, 176, 194}}, {{13, 63, 176, 219}}, {{13, 63, 188, 194}}, {{13, 89, 159, 200}}, {{13, 89, 159, 232}}, {{13, 89, 176, 219}}, {{13, 89, 176, 232}}, {{13, 89, 200, 219}}, {{13, 172, 200, 219}}, {{13, 176, 194, 232}}, {{16, 85, 144, 179}}, {{16, 85, 179, 182}}, {{16, 89, 141, 159}}, {{16, 89, 144, 200}}, {{16, 89, 159, 200}}, {{16, 117, 159, 174}}, {{16, 117, 159, 200}}, {{16, 117, 174, 182}}, {{16, 117, 179, 182}}, {{16, 117, 179, 200}}, {{16, 141, 159, 174}}, {{16, 144, 179, 200}}, {{20, 40, 158, 202}}, {{20, 40, 158, 219}}, {{20, 40, 176, 219}}, {{20, 40, 176, 223}}, {{20, 40, 202, 223}}, {{20, 63, 126, 219}}, {{20, 63, 126, 220}}, {{20, 63, 148, 176}}, {{20, 63, 148, 220}}, {{20, 63, 176, 219}}, {{20, 94, 126, 158}}, {{20, 94, 126, 220}}, {{20, 94, 158, 202}}, {{20, 126, 158, 219}}, {{20, 148, 176, 223}}, {{21, 35, 98, 154}}, {{21, 35, 98, 172}}, {{21, 35, 128, 154}}, {{21, 35, 128, 188}}, {{21, 35, 172, 188}}, {{21, 65, 98, 154}}, {{21, 65, 98, 195}}, {{21, 65, 154, 184}}, {{21, 98, 172, 195}}, {{21, 113, 172, 188}}, {{21, 113, 172, 195}}, {{21, 128, 154, 184}}, {{22, 38, 121, 194}}, {{22, 38, 140, 194}}, {{22, 38, 140, 212}}, {{22, 58, 100, 151}}, {{22, 58, 140, 212}}, {{22, 58, 151, 212}}, {{22, 83, 100, 151}}, {{22, 83, 100, 232}}, {{22, 83, 121, 232}}, {{22, 121, 194, 232}}, {{35, 47, 117, 154}}, {{35, 47, 117, 159}}, {{35, 47, 128, 154}}, {{35, 98, 117, 154}}, {{35, 98, 117, 200}}, {{35, 98, 172, 200}}, {{35, 117, 159, 200}}, {{38, 44, 85, 140}}, {{38, 44, 85, 182}}, {{38, 44, 140, 194}}, {{38, 44, 148, 182}}, {{38, 44, 148, 194}}, {{38, 85, 140, 212}}, {{38, 85, 179, 182}}, {{38, 85, 179, 212}}, {{38, 121, 148, 194}}, {{40, 48, 89, 176}}, {{40, 48, 176, 223}}, {{40, 48, 184, 223}}, {{40, 89, 144, 219}}, {{40, 89, 176, 219}}, {{40, 144, 158, 219}}, {{40, 184, 202, 223}}, {{44, 63, 113, 188}}, {{44, 63, 113, 220}}, {{44, 63, 148, 194}}, {{44, 63, 148, 220}}, {{44, 63, 188, 194}}, {{44, 140, 188, 194}}, {{44, 148, 182, 220}}, {{47, 58, 94, 100}}, {{47, 58, 94, 202}}, {{47, 58, 128, 202}}, {{47, 94, 100, 174}}, {{47, 100, 159, 174}}, {{47, 117, 159, 174}}, {{47, 128, 154, 202}}, {{48, 65, 83, 121}}, {{48, 65, 121, 223}}, {{48, 65, 184, 223}}, {{48, 83, 121, 232}}, {{48, 83, 141, 232}}, {{48, 89, 141, 232}}, {{48, 89, 176, 232}}, {{48, 121, 176, 223}}, {{48, 121, 176, 232}}, {{49, 98, 172, 195}}, {{49, 98, 172, 200}}, {{49, 98, 179, 200}}, {{49, 126, 151, 158}}, {{49, 126, 151, 195}}, {{49, 126, 158, 219}}, {{49, 126, 172, 195}}, {{49, 126, 172, 219}}, {{49, 144, 158, 212}}, {{49, 144, 158, 219}}, {{49, 144, 179, 200}}, {{49, 144, 179, 212}}, {{49, 144, 200, 219}}, {{49, 151, 158, 212}}, {{49, 172, 200, 219}}, {{58, 94, 100, 151}}, {{58, 94, 151, 158}}, {{58, 94, 158, 202}}, {{58, 151, 158, 212}}, {{63, 113, 126, 172}}, {{63, 113, 126, 220}}, {{63, 113, 172, 188}}, {{63, 126, 172, 219}}, {{63, 148, 176, 194}}, {{65, 83, 195, FACETS}}, {{65, 154, 184, 223}}, {{83, 100, 141, 232}}, {{85, 144, 179, 212}}, {{89, 141, 159, 232}}, {{89, 144, 200, 219}}, {{94, 126, 151, 158}}, {{98, 117, 179, 200}}, {{100, 141, 159, 174}}, {{100, 141, 159, 232}}, {{113, 126, 172, 195}}, {{121, 148, 176, 194}}, {{121, 148, 176, 223}}, {{121, 176, 194, 232}}, {{128, 140, 188, FACETS}}, {{128, 154, 184, 202}}, {{154, 184, 202, 223}}, {{174, 182, 220, FACETS}}},\n",
      "    VA {{{0, 83, 139, 181}}, {{0, 83, 139, 208}}, {{0, 83, 147, 181}}, {{0, 95, 107, 139}}, {{0, 95, 107, 163}}, {{0, 95, 134, 163}}, {{0, 95, 134, 181}}, {{0, 95, 139, 181}}, {{0, 107, 139, 208}}, {{0, 107, 163, 221}}, {{0, 107, 208, 221}}, {{0, 115, 134, 147}}, {{0, 115, 134, 163}}, {{0, 115, 163, 221}}, {{0, 134, 147, 181}}, {{7, 38, 52, 121}}, {{7, 38, 52, 152}}, {{7, 38, 121, 236}}, {{7, 38, 152, 179}}, {{7, 38, 179, 236}}, {{7, 52, 119, 152}}, {{7, 52, 119, 214}}, {{7, 52, 121, 214}}, {{7, 65, 98, 183}}, {{7, 65, 98, 236}}, {{7, 65, 121, 214}}, {{7, 65, 121, 236}}, {{7, 65, 183, 214}}, {{7, 77, 98, 179}}, {{7, 77, 98, 183}}, {{7, 77, 119, 152}}, {{7, 77, 119, 183}}, {{7, 77, 152, 179}}, {{7, 98, 179, 236}}, {{7, 119, 183, 214}}, {{12, 42, 68, 168}}, {{12, 42, 68, 210}}, {{12, 42, 156, 210}}, {{12, 50, 59, 99}}, {{12, 50, 99, 190}}, {{12, 50, 168, 190}}, {{12, 59, 99, 110}}, {{12, 59, 110, 156}}, {{12, 68, 84, 190}}, {{12, 68, 84, 210}}, {{12, 68, 168, 190}}, {{12, 84, 99, 110}}, {{12, 84, 99, 190}}, {{12, 84, 110, 210}}, {{12, 110, 156, 210}}, {{14, 33, 75, 104}}, {{14, 33, 75, 203}}, {{14, 33, 136, 203}}, {{14, 49, 60, 157}}, {{14, 49, 60, 212}}, {{14, 49, 88, 151}}, {{14, 49, 88, 157}}, {{14, 49, 151, 212}}, {{14, 60, 75, 157}}, {{14, 60, 75, 203}}, {{14, 60, 203, 212}}, {{14, 75, 104, 157}}, {{14, 88, 104, 157}}, {{14, 136, 151, 212}}, {{14, 136, 203, 212}}, {{19, 52, 84, 152}}, {{19, 52, 84, 210}}, {{19, 52, 104, 119}}, {{19, 52, 104, 210}}, {{19, 52, 119, 152}}, {{19, 68, 84, 210}}, {{19, 68, 84, 221}}, {{19, 68, 88, 208}}, {{19, 68, 88, 210}}, {{19, 68, 208, 221}}, {{19, 84, 152, 221}}, {{19, 88, 104, 210}}, {{19, 107, 119, 152}}, {{19, 107, 152, 221}}, {{19, 107, 208, 221}}, {{22, 38, 99, 110}}, {{22, 38, 99, 212}}, {{22, 38, 110, 121}}, {{22, 38, 121, 236}}, {{22, 38, 212, 236}}, {{22, 59, 99, 110}}, {{22, 59, 99, 136}}, {{22, 59, 110, 181}}, {{22, 59, 136, 139}}, {{22, 59, 139, 181}}, {{22, 83, 121, 181}}, {{22, 83, 121, 236}}, {{22, 83, 139, 151}}, {{22, 83, 139, 181}}, {{22, 83, 151, 236}}, {{22, 99, 136, 212}}, {{22, 110, 121, 181}}, {{22, 136, 139, 151}}, {{22, 136, 151, 212}}, {{22, 151, 212, 236}}, {{24, 42, 49, 98}}, {{24, 42, 49, 157}}, {{24, 42, 156, 157}}, {{24, 49, 60, 157}}, {{24, 49, 60, 179}}, {{24, 49, 98, 179}}, {{24, 60, 134, 157}}, {{24, 60, 134, 163}}, {{24, 60, 163, 179}}, {{24, 77, 95, 163}}, {{24, 77, 98, 179}}, {{24, 77, 163, 179}}, {{24, 95, 134, 156}}, {{24, 95, 134, 163}}, {{24, 134, 156, 157}}, {{26, 33, 50, 183}}, {{26, 33, 50, 203}}, {{26, 33, 75, 203}}, {{26, 33, 75, 214}}, {{26, 33, 183, 214}}, {{26, 50, 168, 183}}, {{26, 50, 168, 190}}, {{26, 50, 190, 203}}, {{26, 65, 147, 214}}, {{26, 65, 168, 183}}, {{26, 65, 183, 214}}, {{26, 75, 115, 147}}, {{26, 75, 115, 203}}, {{26, 75, 147, 214}}, {{26, 115, 190, 203}}, {{33, 50, 127, 136}}, {{33, 50, 127, 183}}, {{33, 50, 136, 203}}, {{33, 75, 104, 214}}, {{33, 104, 119, 214}}, {{33, 119, 127, 183}}, {{33, 119, 183, 214}}, {{38, 52, 84, 110}}, {{38, 52, 84, 152}}, {{38, 52, 110, 121}}, {{38, 84, 99, 110}}, {{38, 179, 212, 236}}, {{42, 49, 88, 157}}, {{42, 49, 88, 195}}, {{42, 49, 98, 195}}, {{42, 68, 88, 195}}, {{42, 68, 88, 210}}, {{42, 68, 168, 195}}, {{42, 88, 157, 210}}, {{42, 98, 168, 195}}, {{42, 156, 157, 210}}, {{49, 60, 179, 212}}, {{49, 88, 151, 195}}, {{49, 98, 179, 236}}, {{49, 98, 195, 236}}, {{49, 151, 195, 236}}, {{49, 151, 212, 236}}, {{49, 179, 212, 236}}, {{50, 59, 99, 136}}, {{50, 59, 127, 136}}, {{50, 99, 136, 203}}, {{50, 99, 190, 203}}, {{52, 84, 110, 210}}, {{52, 104, 119, 214}}, {{52, 104, 210, 229}}, {{52, 104, 214, 229}}, {{52, 110, 121, 229}}, {{52, 110, 210, 229}}, {{52, 121, 214, 229}}, {{59, 95, 127, 139}}, {{59, 95, 139, 181}}, {{59, 95, 156, 181}}, {{59, 110, 156, 181}}, {{59, 127, 136, 139}}, {{60, 75, 115, 134}}, {{60, 75, 115, 203}}, {{60, 75, 134, 157}}, {{60, 115, 134, 163}}, {{65, 83, 121, 147}}, {{65, 83, 121, 236}}, {{65, 83, 195, 236}}, {{65, 98, 168, 183}}, {{65, 98, 168, 195}}, {{65, 98, 195, 236}}, {{65, 121, 147, 214}}, {{68, 84, 190, 221}}, {{68, 88, 195, 208}}, {{75, 104, 157, 229}}, {{75, 104, 214, 229}}, {{75, 115, 134, 147}}, {{75, 134, 147, 229}}, {{75, 134, 157, 229}}, {{75, 147, 214, 229}}, {{77, 95, 107, 127}}, {{77, 95, 107, 163}}, {{77, 107, 119, 127}}, {{77, 107, 119, 152}}, {{77, 107, 152, 163}}, {{77, 119, 127, 183}}, {{77, 152, 163, 179}}, {{83, 121, 147, 181}}, {{83, 139, 151, 208}}, {{83, 151, 195, 208}}, {{83, 151, 195, 236}}, {{88, 104, 157, 210}}, {{88, 151, 195, 208}}, {{95, 107, 127, 139}}, {{95, 134, 156, 181}}, {{99, 136, 203, 212}}, {{104, 157, 210, 229}}, {{107, 152, 163, 221}}, {{110, 121, 181, 229}}, {{110, 156, 181, 229}}, {{110, 156, 210, 229}}, {{115, 190, 221, FACETS}}, {{121, 147, 181, 229}}, {{121, 147, 214, 229}}, {{134, 147, 181, 229}}, {{134, 156, 157, 229}}, {{134, 156, 181, 229}}, {{156, 157, 210, 229}}},\n",
      "    VA {{{0, 82, 111, 140}}, {{0, 82, 111, 184}}, {{0, 82, 140, 161}}, {{0, 92, 111, 178}}, {{0, 92, 111, 184}}, {{0, 92, 178, 213}}, {{0, 111, 140, 178}}, {{0, 113, 135, 161}}, {{0, 113, 135, 213}}, {{0, 135, 140, 161}}, {{0, 135, 140, 178}}, {{0, 135, 178, 213}}, {{8, 39, 68, 144}}, {{8, 39, 68, 209}}, {{8, 39, 108, 144}}, {{8, 39, 108, 151}}, {{8, 39, 151, 209}}, {{8, 53, 67, 104}}, {{8, 53, 67, 141}}, {{8, 53, 104, 206}}, {{8, 53, 120, 141}}, {{8, 53, 120, 206}}, {{8, 67, 68, 141}}, {{8, 67, 68, 144}}, {{8, 67, 104, 144}}, {{8, 68, 141, 209}}, {{8, 104, 108, 144}}, {{8, 104, 108, 206}}, {{8, 108, 151, 206}}, {{8, 120, 141, 209}}, {{8, 120, 151, 206}}, {{8, 120, 151, 209}}, {{11, 41, 47, 127}}, {{11, 41, 47, 152}}, {{11, 41, 127, 182}}, {{11, 41, 137, 152}}, {{11, 41, 137, 182}}, {{11, 47, 87, 127}}, {{11, 47, 87, 167}}, {{11, 47, 152, 167}}, {{11, 57, 98, 167}}, {{11, 57, 98, 215}}, {{11, 57, 137, 152}}, {{11, 57, 137, 215}}, {{11, 57, 152, 167}}, {{11, 76, 87, 98}}, {{11, 76, 87, 127}}, {{11, 76, 98, 215}}, {{11, 76, 127, 182}}, {{11, 76, 182, 215}}, {{11, 87, 98, 167}}, {{11, 137, 182, 215}}, {{13, 34, 79, 99}}, {{13, 34, 79, 231}}, {{13, 34, 177, 231}}, {{13, 54, 60, 177}}, {{13, 54, 60, 187}}, {{13, 54, 156, 187}}, {{13, 54, 156, 231}}, {{13, 54, 177, 231}}, {{13, 79, 91, 99}}, {{13, 79, 91, 156}}, {{13, 79, 156, 231}}, {{13, 91, 156, 187}}, {{18, 47, 87, 127}}, {{18, 47, 87, 209}}, {{18, 47, 91, 99}}, {{18, 47, 91, 127}}, {{18, 47, 99, 209}}, {{18, 79, 91, 99}}, {{18, 79, 91, 140}}, {{18, 79, 99, 120}}, {{18, 79, 120, 178}}, {{18, 79, 140, 178}}, {{18, 87, 127, 135}}, {{18, 87, 135, 151}}, {{18, 87, 151, 209}}, {{18, 91, 127, 140}}, {{18, 99, 120, 209}}, {{18, 120, 151, 178}}, {{18, 120, 151, 209}}, {{18, 127, 135, 140}}, {{18, 135, 140, 178}}, {{18, 135, 151, 178}}, {{20, 41, 104, 137}}, {{20, 41, 104, 187}}, {{20, 41, 137, 152}}, {{20, 60, 108, 187}}, {{20, 60, 108, 213}}, {{20, 92, 137, 152}}, {{20, 92, 137, 206}}, {{20, 92, 206, 213}}, {{20, 104, 108, 187}}, {{20, 104, 108, 206}}, {{20, 104, 137, 206}}, {{20, 108, 206, 213}}, {{26, 34, 53, 141}}, {{26, 34, 53, 215}}, {{26, 34, 177, 215}}, {{26, 53, 67, 141}}, {{26, 53, 67, 182}}, {{26, 53, 182, 215}}, {{26, 67, 161, 182}}, {{26, 76, 113, 161}}, {{26, 76, 113, 177}}, {{26, 76, 161, 182}}, {{26, 76, 177, 215}}, {{26, 76, 182, 215}}, {{30, 39, 54, 98}}, {{30, 39, 54, 144}}, {{30, 39, 68, 144}}, {{30, 39, 68, 167}}, {{30, 39, 98, 167}}, {{30, 54, 98, 231}}, {{30, 54, 144, 156}}, {{30, 54, 156, 231}}, {{30, 57, 98, 167}}, {{30, 57, 98, 231}}, {{30, 57, 111, 184}}, {{30, 57, 111, 231}}, {{30, 57, 167, 184}}, {{30, 68, 82, 144}}, {{30, 68, 82, 184}}, {{30, 68, 167, 184}}, {{30, 82, 111, 156}}, {{30, 82, 111, 184}}, {{30, 82, 144, 156}}, {{30, 111, 156, 231}}, {{34, 53, 120, 121}}, {{34, 53, 120, 141}}, {{34, 53, 121, 215}}, {{34, 79, 99, 120}}, {{34, 79, 120, 121}}, {{34, 79, 121, 231}}, {{34, 99, 120, 141}}, {{34, 121, 215, 231}}, {{34, 177, 215, 231}}, {{39, 54, 98, 197}}, {{39, 54, 108, 144}}, {{39, 54, 108, 197}}, {{39, 68, 167, 209}}, {{39, 87, 98, 167}}, {{39, 87, 98, 197}}, {{39, 87, 151, 197}}, {{39, 87, 151, 209}}, {{39, 87, 167, 209}}, {{39, 108, 151, 197}}, {{41, 47, 91, 127}}, {{41, 91, 187, FACETS}}, {{41, 104, 137, 182}}, {{47, 87, 167, 209}}, {{47, 99, 209, 217}}, {{47, 152, 167, 217}}, {{47, 167, 209, 217}}, {{53, 67, 104, 182}}, {{53, 104, 137, 182}}, {{53, 104, 137, 206}}, {{53, 120, 121, 206}}, {{53, 121, 137, 206}}, {{53, 121, 137, 215}}, {{53, 137, 182, 215}}, {{54, 60, 108, 187}}, {{54, 60, 108, 197}}, {{54, 60, 177, 197}}, {{54, 98, 177, 197}}, {{54, 98, 177, 231}}, {{54, 108, 144, 187}}, {{54, 144, 156, 187}}, {{57, 92, 111, 121}}, {{57, 92, 111, 184}}, {{57, 92, 121, 137}}, {{57, 92, 137, 152}}, {{57, 92, 152, 184}}, {{57, 98, 215, 231}}, {{57, 111, 121, 231}}, {{57, 121, 137, 215}}, {{57, 121, 215, 231}}, {{57, 152, 167, 184}}, {{60, 108, 197, 213}}, {{60, 113, 177, 197}}, {{60, 113, 197, 213}}, {{67, 68, 82, 144}}, {{67, 82, 161, FACETS}}, {{68, 141, 209, 217}}, {{68, 167, 184, 217}}, {{68, 167, 209, 217}}, {{76, 87, 98, 197}}, {{76, 87, 127, 135}}, {{76, 87, 135, 197}}, {{76, 98, 177, 197}}, {{76, 98, 177, 215}}, {{76, 113, 135, 161}}, {{76, 113, 135, 197}}, {{76, 113, 177, 197}}, {{76, 127, 135, 161}}, {{76, 127, 161, 182}}, {{79, 91, 140, 156}}, {{79, 111, 121, 178}}, {{79, 111, 121, 231}}, {{79, 111, 140, 156}}, {{79, 111, 140, 178}}, {{79, 111, 156, 231}}, {{79, 120, 121, 178}}, {{82, 111, 140, 156}}, {{87, 135, 151, 197}}, {{92, 111, 121, 178}}, {{92, 121, 137, 206}}, {{92, 121, 178, 206}}, {{92, 178, 206, 213}}, {{98, 177, 215, 231}}, {{99, 120, 141, 209}}, {{99, 141, 209, 217}}, {{104, 108, 144, 187}}, {{108, 151, 197, 213}}, {{108, 151, 206, 213}}, {{113, 135, 197, 213}}, {{120, 121, 178, 206}}, {{120, 151, 178, 206}}, {{127, 135, 140, 161}}, {{135, 151, 178, 213}}, {{135, 151, 197, 213}}, {{151, 178, 206, 213}}, {{152, 167, 184, 217}}},\n",
      "    VA {{{0, 80, 112, 172}}, {{0, 80, 112, 176}}, {{0, 80, 172, 222}}, {{0, 80, 176, 218}}, {{0, 80, 218, 222}}, {{0, 93, 112, 161}}, {{0, 93, 112, 176}}, {{0, 93, 135, 148}}, {{0, 93, 135, 161}}, {{0, 93, 148, 176}}, {{0, 112, 161, 172}}, {{0, 113, 135, 161}}, {{0, 113, 161, 172}}, {{0, 113, 172, 222}}, {{0, 148, 176, 218}}, {{9, 39, 75, 102}}, {{9, 39, 75, 174}}, {{9, 39, 102, 190}}, {{9, 39, 159, 174}}, {{9, 39, 159, 190}}, {{9, 47, 64, 159}}, {{9, 47, 64, 210}}, {{9, 47, 159, 174}}, {{9, 64, 132, 190}}, {{9, 64, 132, 210}}, {{9, 64, 159, 190}}, {{9, 75, 102, 120}}, {{9, 102, 120, 132}}, {{9, 102, 132, 190}}, {{9, 120, 132, 210}}, {{10, 41, 69, 166}}, {{10, 41, 69, 212}}, {{10, 41, 185, 212}}, {{10, 54, 59, 97}}, {{10, 54, 59, 144}}, {{10, 54, 85, 144}}, {{10, 59, 69, 144}}, {{10, 59, 69, 166}}, {{10, 59, 97, 166}}, {{10, 69, 144, 212}}, {{10, 85, 144, 212}}, {{10, 85, 185, 212}}, {{15, 34, 53, 121}}, {{15, 34, 53, 195}}, {{15, 34, 106, 195}}, {{15, 53, 90, 121}}, {{15, 53, 90, 143}}, {{15, 53, 143, 195}}, {{15, 62, 100, 143}}, {{15, 62, 100, 183}}, {{15, 62, 106, 183}}, {{15, 62, 106, 195}}, {{15, 62, 143, 195}}, {{15, 73, 90, 100}}, {{15, 73, 90, 121}}, {{15, 73, 100, 183}}, {{15, 90, 100, 143}}, {{17, 53, 90, 121}}, {{17, 53, 90, 212}}, {{17, 53, 102, 120}}, {{17, 53, 102, 212}}, {{17, 53, 120, 121}}, {{17, 75, 85, 102}}, {{17, 75, 102, 120}}, {{17, 75, 120, 148}}, {{17, 85, 102, 212}}, {{17, 85, 185, 212}}, {{17, 90, 121, 218}}, {{17, 90, 185, 212}}, {{17, 90, 185, 218}}, {{17, 120, 121, 148}}, {{17, 121, 148, 218}}, {{21, 34, 97, 106}}, {{21, 34, 97, 210}}, {{21, 34, 106, 195}}, {{21, 34, 132, 195}}, {{21, 34, 132, 210}}, {{21, 64, 132, 172}}, {{21, 64, 132, 210}}, {{21, 64, 172, 222}}, {{21, 106, 113, 195}}, {{21, 113, 172, 195}}, {{21, 113, 172, 222}}, {{21, 132, 172, 195}}, {{24, 41, 47, 100}}, {{24, 41, 47, 166}}, {{24, 41, 69, 143}}, {{24, 41, 69, 166}}, {{24, 41, 100, 143}}, {{24, 47, 100, 174}}, {{24, 62, 100, 143}}, {{24, 62, 100, 174}}, {{24, 62, 135, 161}}, {{24, 62, 135, 174}}, {{24, 62, 143, 161}}, {{24, 69, 93, 161}}, {{24, 69, 93, 166}}, {{24, 69, 143, 161}}, {{24, 93, 135, 161}}, {{30, 39, 54, 144}}, {{30, 39, 54, 183}}, {{30, 39, 144, 190}}, {{30, 39, 159, 183}}, {{30, 39, 159, 190}}, {{30, 54, 59, 144}}, {{30, 59, 112, 144}}, {{30, 59, 112, 176}}, {{30, 73, 80, 159}}, {{30, 73, 80, 176}}, {{30, 73, 159, 183}}, {{30, 80, 112, 176}}, {{30, 80, 112, 190}}, {{30, 80, 159, 190}}, {{30, 112, 144, 190}}, {{34, 53, 120, 121}}, {{34, 53, 120, 132}}, {{34, 53, 132, 195}}, {{34, 97, 210, 223}}, {{34, 120, 121, 223}}, {{34, 120, 132, 210}}, {{34, 120, 210, 223}}, {{39, 54, 85, 124}}, {{39, 54, 85, 144}}, {{39, 54, 124, 183}}, {{39, 75, 85, 102}}, {{39, 75, 85, 124}}, {{39, 75, 124, 174}}, {{39, 85, 102, 144}}, {{39, 102, 144, 190}}, {{39, 124, 174, 183}}, {{39, 159, 174, 183}}, {{41, 47, 100, 152}}, {{41, 69, 143, 212}}, {{41, 90, 100, 143}}, {{41, 90, 100, 152}}, {{41, 90, 143, 212}}, {{41, 90, 152, 185}}, {{41, 90, 185, 212}}, {{47, 64, 152, 159}}, {{47, 100, 152, 159}}, {{47, 100, 159, 174}}, {{47, 166, 210, FACETS}}, {{53, 90, 143, 212}}, {{53, 102, 120, 132}}, {{53, 102, 132, 224}}, {{53, 102, 212, 224}}, {{53, 132, 195, 224}}, {{53, 143, 195, 224}}, {{53, 143, 212, 224}}, {{54, 97, 106, FACETS}}, {{54, 106, 124, 183}}, {{59, 69, 93, 112}}, {{59, 69, 93, 166}}, {{59, 69, 112, 144}}, {{59, 93, 112, 176}}, {{59, 93, 166, 223}}, {{59, 93, 176, 223}}, {{59, 97, 166, 223}}, {{62, 100, 174, 183}}, {{62, 106, 113, 124}}, {{62, 106, 113, 195}}, {{62, 106, 124, 183}}, {{62, 113, 124, 135}}, {{62, 113, 135, 161}}, {{62, 113, 161, 195}}, {{62, 124, 135, 174}}, {{62, 124, 174, 183}}, {{62, 143, 161, 195}}, {{64, 80, 152, 159}}, {{64, 80, 152, 222}}, {{64, 80, 159, 190}}, {{64, 80, 172, 190}}, {{64, 80, 172, 222}}, {{64, 132, 172, 190}}, {{69, 93, 112, 161}}, {{69, 112, 144, 224}}, {{69, 112, 161, 224}}, {{69, 143, 161, 224}}, {{69, 143, 212, 224}}, {{69, 144, 212, 224}}, {{73, 80, 152, 159}}, {{73, 80, 152, 218}}, {{73, 80, 176, 218}}, {{73, 90, 100, 152}}, {{73, 90, 121, 218}}, {{73, 90, 152, 218}}, {{73, 100, 152, 159}}, {{73, 100, 159, 183}}, {{73, 121, 176, 218}}, {{75, 124, 135, 174}}, {{75, 135, 148, FACETS}}, {{80, 112, 172, 190}}, {{80, 152, 218, 222}}, {{85, 102, 144, 212}}, {{90, 152, 185, 218}}, {{93, 148, 176, 223}}, {{97, 166, 210, 223}}, {{100, 159, 174, 183}}, {{102, 132, 190, 224}}, {{102, 144, 190, 224}}, {{102, 144, 212, 224}}, {{112, 144, 190, 224}}, {{112, 161, 172, 224}}, {{112, 172, 190, 224}}, {{113, 161, 172, 195}}, {{120, 121, 148, 223}}, {{121, 148, 176, 218}}, {{121, 148, 176, 223}}, {{132, 172, 190, 224}}, {{132, 172, 195, 224}}, {{143, 161, 195, 224}}, {{152, 185, 218, 222}}, {{161, 172, 195, 224}}},\n",
      "    VA {{{0, 83, 105, 147}}, {{0, 83, 105, 160}}, {{0, 83, 160, 164}}, {{0, 94, 105, 138}}, {{0, 94, 105, 147}}, {{0, 94, 133, 138}}, {{0, 94, 133, 169}}, {{0, 94, 147, 169}}, {{0, 105, 138, 160}}, {{0, 114, 133, 138}}, {{0, 114, 138, 160}}, {{0, 114, 160, 164}}, {{9, 38, 70, 145}}, {{9, 38, 70, 187}}, {{9, 38, 145, 173}}, {{9, 38, 173, 205}}, {{9, 38, 187, 205}}, {{9, 49, 67, 96}}, {{9, 49, 67, 173}}, {{9, 49, 145, 173}}, {{9, 67, 96, 136}}, {{9, 67, 136, 205}}, {{9, 67, 173, 205}}, {{9, 70, 117, 187}}, {{9, 96, 117, 136}}, {{9, 117, 136, 187}}, {{9, 136, 187, 205}}, {{10, 42, 79, 101}}, {{10, 42, 79, 157}}, {{10, 42, 101, 206}}, {{10, 42, 157, 228}}, {{10, 42, 206, 228}}, {{10, 52, 56, 180}}, {{10, 52, 56, 209}}, {{10, 52, 84, 180}}, {{10, 56, 79, 157}}, {{10, 56, 79, 180}}, {{10, 56, 157, 209}}, {{10, 79, 101, 180}}, {{10, 84, 101, 180}}, {{10, 84, 101, 206}}, {{10, 157, 209, 228}}, {{15, 33, 50, 127}}, {{15, 33, 50, 197}}, {{15, 33, 109, 127}}, {{15, 50, 89, 197}}, {{15, 50, 89, 230}}, {{15, 50, 127, 230}}, {{15, 63, 103, 109}}, {{15, 63, 103, 215}}, {{15, 63, 109, 127}}, {{15, 63, 127, 230}}, {{15, 63, 215, 230}}, {{15, 71, 89, 197}}, {{15, 71, 89, 215}}, {{15, 71, 103, 215}}, {{15, 89, 215, 230}}, {{17, 50, 89, 101}}, {{17, 50, 89, 197}}, {{17, 50, 101, 187}}, {{17, 50, 117, 187}}, {{17, 50, 117, 197}}, {{17, 70, 84, 187}}, {{17, 70, 117, 169}}, {{17, 70, 117, 187}}, {{17, 84, 101, 187}}, {{17, 84, 101, 206}}, {{17, 89, 101, 206}}, {{17, 117, 169, 197}}, {{21, 33, 96, 136}}, {{21, 33, 96, 209}}, {{21, 33, 109, 127}}, {{21, 33, 109, 209}}, {{21, 33, 127, 136}}, {{21, 67, 96, 136}}, {{21, 67, 96, 228}}, {{21, 67, 136, 160}}, {{21, 67, 160, 164}}, {{21, 67, 164, 228}}, {{21, 96, 209, 228}}, {{21, 109, 114, 127}}, {{21, 114, 127, 160}}, {{21, 114, 160, 164}}, {{21, 127, 136, 160}}, {{24, 42, 49, 157}}, {{24, 42, 49, 215}}, {{24, 42, 79, 157}}, {{24, 42, 79, 230}}, {{24, 42, 215, 230}}, {{24, 49, 145, 215}}, {{24, 63, 133, 138}}, {{24, 63, 133, 145}}, {{24, 63, 138, 230}}, {{24, 63, 145, 215}}, {{24, 63, 215, 230}}, {{24, 79, 94, 138}}, {{24, 79, 94, 157}}, {{24, 79, 138, 230}}, {{24, 94, 133, 138}}, {{30, 38, 52, 103}}, {{30, 38, 52, 180}}, {{30, 38, 103, 173}}, {{30, 38, 173, 205}}, {{30, 38, 180, 205}}, {{30, 52, 56, 180}}, {{30, 56, 105, 147}}, {{30, 56, 105, 180}}, {{30, 71, 83, 147}}, {{30, 71, 83, 173}}, {{30, 71, 103, 173}}, {{30, 83, 105, 147}}, {{30, 83, 105, 205}}, {{30, 83, 173, 205}}, {{30, 105, 180, 205}}, {{33, 50, 117, 136}}, {{33, 50, 117, 197}}, {{33, 50, 127, 136}}, {{33, 96, 117, 136}}, {{33, 96, 117, 224}}, {{33, 96, 209, 224}}, {{33, 117, 197, 224}}, {{38, 52, 84, 152}}, {{38, 52, 84, 180}}, {{38, 52, 103, 152}}, {{38, 70, 84, 152}}, {{38, 70, 84, 187}}, {{38, 70, 145, 152}}, {{38, 84, 180, 187}}, {{38, 103, 145, 152}}, {{38, 103, 145, 173}}, {{38, 180, 187, 205}}, {{42, 49, 124, 215}}, {{42, 49, 124, 228}}, {{42, 49, 157, 228}}, {{42, 79, 101, 230}}, {{42, 89, 101, 206}}, {{42, 89, 101, 230}}, {{42, 89, 124, 206}}, {{42, 89, 124, 215}}, {{42, 89, 215, 230}}, {{42, 124, 206, 228}}, {{49, 67, 96, 228}}, {{49, 67, 124, 173}}, {{49, 67, 124, 228}}, {{49, 96, 157, 228}}, {{49, 124, 173, 215}}, {{49, 145, 173, 215}}, {{50, 89, 101, 230}}, {{50, 101, 187, 223}}, {{50, 101, 223, 230}}, {{50, 117, 136, 187}}, {{50, 127, 136, 223}}, {{50, 127, 223, 230}}, {{50, 136, 187, 223}}, {{52, 103, 109, 152}}, {{52, 109, 209, FACETS}}, {{56, 79, 94, 105}}, {{56, 79, 94, 157}}, {{56, 79, 105, 180}}, {{56, 94, 105, 147}}, {{56, 94, 147, 224}}, {{56, 94, 157, 224}}, {{56, 157, 209, 224}}, {{63, 103, 109, 152}}, {{63, 103, 145, 152}}, {{63, 103, 145, 215}}, {{63, 109, 114, 127}}, {{63, 109, 114, 152}}, {{63, 114, 127, 138}}, {{63, 114, 133, 138}}, {{63, 114, 133, 152}}, {{63, 127, 138, 230}}, {{63, 133, 145, 152}}, {{67, 83, 124, 164}}, {{67, 83, 124, 173}}, {{67, 83, 160, 164}}, {{67, 83, 160, 205}}, {{67, 83, 173, 205}}, {{67, 124, 164, 228}}, {{67, 136, 160, 205}}, {{70, 133, 145, 152}}, {{70, 133, 169, FACETS}}, {{71, 83, 124, 173}}, {{71, 89, 124, 215}}, {{71, 103, 173, 215}}, {{71, 124, 173, 215}}, {{71, 147, 197, FACETS}}, {{79, 94, 105, 138}}, {{79, 101, 180, 223}}, {{79, 101, 223, 230}}, {{79, 105, 138, 223}}, {{79, 105, 180, 223}}, {{79, 138, 223, 230}}, {{83, 105, 160, 205}}, {{84, 101, 180, 187}}, {{94, 147, 169, 224}}, {{96, 157, 209, 224}}, {{96, 157, 209, 228}}, {{101, 180, 187, 223}}, {{103, 145, 173, 215}}, {{105, 138, 160, 223}}, {{105, 160, 205, 223}}, {{105, 180, 205, 223}}, {{114, 127, 138, 160}}, {{117, 169, 197, 224}}, {{124, 164, 206, 228}}, {{127, 136, 160, 223}}, {{127, 138, 160, 223}}, {{127, 138, 223, 230}}, {{136, 160, 205, 223}}, {{136, 187, 205, 223}}, {{147, 169, 197, 224}}, {{180, 187, 205, 223}}},\n",
      "    VA {{{3, 48, 83, 121}}, {{3, 48, 83, 177}}, {{3, 48, 114, 121}}, {{3, 48, 114, 143}}, {{3, 48, 143, 177}}, {{3, 78, 93, 99}}, {{3, 78, 93, 225}}, {{3, 78, 99, 114}}, {{3, 78, 114, 121}}, {{3, 78, 121, 225}}, {{3, 83, 121, 225}}, {{3, 93, 99, 136}}, {{3, 99, 114, 143}}, {{3, 99, 136, 143}}, {{3, 136, 143, 177}}, {{6, 32, 107, 152}}, {{6, 32, 107, 174}}, {{6, 32, 133, 152}}, {{6, 32, 133, 182}}, {{6, 32, 174, 182}}, {{6, 63, 126, 152}}, {{6, 63, 133, 152}}, {{6, 63, 133, 210}}, {{6, 88, 174, 182}}, {{6, 88, 174, 198}}, {{6, 88, 182, 210}}, {{6, 107, 126, 152}}, {{6, 107, 126, 198}}, {{6, 107, 174, 198}}, {{6, 133, 182, 210}}, {{8, 37, 71, 147}}, {{8, 37, 71, 172}}, {{8, 37, 106, 147}}, {{8, 37, 106, 203}}, {{8, 37, 172, 203}}, {{8, 50, 117, 203}}, {{8, 50, 172, 203}}, {{8, 50, 172, 226}}, {{8, 65, 71, 147}}, {{8, 65, 71, 226}}, {{8, 65, 147, 196}}, {{8, 71, 172, 226}}, {{8, 106, 117, 196}}, {{8, 106, 117, 203}}, {{8, 106, 147, 196}}, {{10, 42, 128, 140}}, {{10, 42, 128, 213}}, {{10, 42, 140, 157}}, {{10, 42, 157, 228}}, {{10, 42, 213, 228}}, {{10, 46, 58, 140}}, {{10, 46, 58, 163}}, {{10, 46, 87, 157}}, {{10, 46, 87, 163}}, {{10, 46, 140, 157}}, {{10, 58, 77, 128}}, {{10, 58, 77, 163}}, {{10, 58, 128, 140}}, {{10, 77, 128, 213}}, {{10, 77, 163, 186}}, {{10, 77, 186, 213}}, {{10, 87, 157, 228}}, {{10, 87, 163, 186}}, {{10, 87, 186, 228}}, {{10, 186, 213, 228}}, {{16, 87, 106, 157}}, {{16, 87, 106, 203}}, {{16, 87, 143, 203}}, {{16, 87, 143, 228}}, {{16, 87, 157, 228}}, {{16, 88, 157, 182}}, {{16, 88, 157, 228}}, {{16, 88, 174, 177}}, {{16, 88, 174, 182}}, {{16, 88, 177, 228}}, {{16, 106, 117, 182}}, {{16, 106, 117, 203}}, {{16, 106, 157, 182}}, {{16, 117, 136, 174}}, {{16, 117, 136, 203}}, {{16, 117, 174, 182}}, {{16, 136, 143, 177}}, {{16, 136, 143, 203}}, {{16, 136, 174, 177}}, {{16, 143, 177, 228}}, {{23, 42, 128, 140}}, {{23, 42, 128, 226}}, {{23, 42, 140, 210}}, {{23, 50, 93, 99}}, {{23, 50, 93, 128}}, {{23, 50, 99, 172}}, {{23, 50, 128, 226}}, {{23, 50, 172, 226}}, {{23, 63, 78, 99}}, {{23, 63, 78, 210}}, {{23, 63, 99, 172}}, {{23, 78, 93, 99}}, {{23, 78, 93, 140}}, {{23, 78, 140, 210}}, {{23, 93, 128, 140}}, {{28, 32, 77, 152}}, {{28, 32, 133, 152}}, {{28, 32, 133, 196}}, {{28, 48, 65, 121}}, {{28, 48, 65, 213}}, {{28, 48, 114, 121}}, {{28, 48, 114, 186}}, {{28, 48, 186, 213}}, {{28, 65, 121, 196}}, {{28, 77, 152, 186}}, {{28, 77, 186, 213}}, {{28, 114, 121, 133}}, {{28, 114, 133, 152}}, {{28, 114, 152, 186}}, {{28, 121, 133, 196}}, {{30, 37, 46, 147}}, {{30, 37, 46, 163}}, {{30, 37, 71, 126}}, {{30, 37, 71, 147}}, {{30, 37, 126, 163}}, {{30, 46, 58, 163}}, {{30, 46, 58, 225}}, {{30, 46, 147, 225}}, {{30, 58, 107, 163}}, {{30, 71, 83, 147}}, {{30, 71, 83, 198}}, {{30, 71, 126, 198}}, {{30, 83, 147, 225}}, {{30, 107, 126, 163}}, {{30, 107, 126, 198}}, {{32, 77, 107, 152}}, {{32, 77, 107, 187}}, {{32, 107, 174, 187}}, {{32, 117, 174, 182}}, {{32, 117, 174, 187}}, {{32, 117, 182, 196}}, {{32, 133, 182, 196}}, {{37, 46, 87, 106}}, {{37, 46, 87, 163}}, {{37, 46, 106, 147}}, {{37, 71, 126, 172}}, {{37, 87, 106, 203}}, {{37, 87, 163, 219}}, {{37, 87, 203, 219}}, {{37, 126, 163, 219}}, {{37, 126, 172, 219}}, {{37, 172, 203, 219}}, {{42, 88, 102, 228}}, {{42, 88, 157, 210}}, {{42, 88, 157, 228}}, {{42, 102, 213, 226}}, {{42, 102, 213, 228}}, {{42, 128, 213, 226}}, {{42, 140, 157, 210}}, {{46, 58, 140, 225}}, {{46, 87, 106, 157}}, {{48, 65, 83, 102}}, {{48, 65, 83, 121}}, {{48, 65, 102, 213}}, {{48, 83, 102, 177}}, {{48, 102, 177, 228}}, {{48, 102, 213, 228}}, {{48, 114, 143, 186}}, {{48, 143, 177, 228}}, {{48, 143, 186, 228}}, {{48, 186, 213, 228}}, {{50, 93, 99, 136}}, {{50, 93, 128, 187}}, {{50, 93, 136, 187}}, {{50, 99, 136, 203}}, {{50, 99, 172, 203}}, {{50, 117, 136, 187}}, {{50, 117, 136, 203}}, {{58, 77, 107, 163}}, {{58, 77, 107, 187}}, {{58, 77, 128, 187}}, {{58, 93, 128, 140}}, {{58, 93, 128, 187}}, {{58, 93, 140, 225}}, {{63, 78, 99, 114}}, {{63, 78, 114, 133}}, {{63, 78, 133, 210}}, {{63, 99, 114, 219}}, {{63, 99, 172, 219}}, {{63, 114, 133, 152}}, {{63, 114, 152, 219}}, {{63, 126, 152, 219}}, {{63, 126, 172, 219}}, {{65, 71, 83, 102}}, {{65, 71, 83, 147}}, {{65, 71, 102, 226}}, {{65, 83, 121, 147}}, {{65, 102, 213, 226}}, {{65, 121, 147, 196}}, {{71, 83, 102, 198}}, {{77, 107, 152, 163}}, {{77, 152, 163, 186}}, {{78, 93, 140, 225}}, {{78, 114, 121, 133}}, {{83, 102, 177, 198}}, {{83, 121, 147, 225}}, {{87, 143, 186, 219}}, {{87, 143, 186, 228}}, {{87, 143, 203, 219}}, {{87, 163, 186, 219}}, {{88, 102, 177, 198}}, {{88, 102, 177, 228}}, {{88, 157, 182, 210}}, {{88, 174, 177, 198}}, {{99, 114, 143, 219}}, {{99, 136, 143, 203}}, {{99, 143, 203, 219}}, {{99, 172, 203, 219}}, {{106, 117, 182, 196}}, {{107, 126, 152, 163}}, {{114, 143, 186, 219}}, {{114, 152, 186, 219}}, {{117, 136, 174, 187}}, {{126, 152, 163, 219}}, {{152, 163, 186, 219}}},\n",
      "    VA {{{0, 81, 138, 213}}, {{0, 81, 163, 178}}, {{0, 81, 178, 213}}, {{0, 92, 155, 178}}, {{0, 92, 155, 191}}, {{0, 92, 160, 191}}, {{0, 92, 160, 213}}, {{0, 92, 178, 213}}, {{0, 114, 138, 160}}, {{0, 114, 160, 191}}, {{0, 138, 160, 213}}, {{0, 155, 163, 178}}, {{4, 39, 101, 225}}, {{4, 39, 101, 229}}, {{4, 39, 157, 167}}, {{4, 39, 157, 229}}, {{4, 39, 167, 225}}, {{4, 64, 157, 216}}, {{4, 64, 157, 229}}, {{4, 64, 177, 215}}, {{4, 64, 177, 229}}, {{4, 64, 215, 216}}, {{4, 101, 119, 177}}, {{4, 101, 119, 225}}, {{4, 101, 177, 229}}, {{4, 119, 177, 215}}, {{4, 157, 167, 216}}, {{5, 41, 123, 173}}, {{5, 41, 123, 187}}, {{5, 41, 173, 203}}, {{5, 59, 103, 173}}, {{5, 59, 103, 196}}, {{5, 59, 123, 153}}, {{5, 59, 123, 173}}, {{5, 59, 153, 196}}, {{5, 84, 153, 187}}, {{5, 84, 153, 196}}, {{5, 103, 173, 203}}, {{5, 123, 153, 187}}, {{6, 34, 125, 170}}, {{6, 34, 146, 199}}, {{6, 34, 170, 199}}, {{6, 62, 96, 209}}, {{6, 62, 146, 199}}, {{6, 62, 146, 209}}, {{6, 91, 96, 224}}, {{6, 91, 125, 170}}, {{6, 91, 125, 224}}, {{6, 96, 209, 224}}, {{17, 84, 101, 187}}, {{17, 84, 101, 225}}, {{17, 91, 125, 163}}, {{17, 91, 125, 170}}, {{17, 91, 170, 187}}, {{17, 101, 119, 170}}, {{17, 101, 119, 225}}, {{17, 101, 170, 187}}, {{17, 119, 125, 155}}, {{17, 119, 125, 170}}, {{17, 119, 155, 225}}, {{17, 125, 155, 163}}, {{23, 41, 96, 216}}, {{23, 41, 123, 173}}, {{23, 41, 173, 216}}, {{23, 62, 96, 167}}, {{23, 62, 160, 191}}, {{23, 62, 167, 191}}, {{23, 92, 123, 160}}, {{23, 92, 123, 173}}, {{23, 92, 160, 191}}, {{23, 96, 167, 216}}, {{26, 34, 103, 146}}, {{26, 34, 103, 215}}, {{26, 34, 146, 199}}, {{26, 34, 177, 199}}, {{26, 34, 177, 215}}, {{26, 64, 138, 177}}, {{26, 64, 177, 215}}, {{26, 64, 203, 215}}, {{26, 103, 203, 215}}, {{26, 114, 138, 199}}, {{26, 114, 146, 199}}, {{26, 138, 177, 199}}, {{29, 39, 153, 196}}, {{29, 39, 153, 229}}, {{29, 39, 157, 209}}, {{29, 39, 157, 229}}, {{29, 39, 196, 209}}, {{29, 59, 153, 196}}, {{29, 59, 153, 213}}, {{29, 59, 178, 213}}, {{29, 81, 157, 224}}, {{29, 81, 157, 229}}, {{29, 81, 178, 213}}, {{29, 81, 178, 224}}, {{29, 81, 213, 229}}, {{29, 153, 213, 229}}, {{29, 157, 209, 224}}, {{34, 71, 103, 215}}, {{34, 71, 119, 125}}, {{34, 71, 119, 215}}, {{34, 119, 125, 170}}, {{34, 119, 170, 177}}, {{34, 119, 177, 215}}, {{34, 170, 177, 199}}, {{39, 68, 84, 196}}, {{39, 68, 84, 225}}, {{39, 68, 167, 209}}, {{39, 68, 167, 225}}, {{39, 68, 196, 209}}, {{39, 84, 101, 153}}, {{39, 84, 101, 225}}, {{39, 84, 153, 196}}, {{39, 101, 153, 229}}, {{39, 157, 167, 209}}, {{41, 72, 91, 96}}, {{41, 72, 96, 216}}, {{41, 72, 203, 216}}, {{41, 91, 187, FACETS}}, {{41, 173, 203, 216}}, {{59, 71, 92, 173}}, {{59, 71, 92, 178}}, {{59, 71, 103, 173}}, {{59, 92, 123, 173}}, {{59, 92, 123, 213}}, {{59, 92, 178, 213}}, {{59, 123, 153, 213}}, {{62, 68, 114, 146}}, {{62, 68, 114, 191}}, {{62, 68, 146, 209}}, {{62, 68, 167, 191}}, {{62, 68, 167, 209}}, {{62, 96, 167, 209}}, {{62, 114, 146, 199}}, {{62, 114, 160, 191}}, {{62, 114, 160, 199}}, {{64, 72, 81, 157}}, {{64, 72, 157, 216}}, {{64, 72, 203, 216}}, {{64, 81, 138, 229}}, {{64, 81, 157, 229}}, {{64, 138, 177, 229}}, {{64, 203, 215, 216}}, {{68, 146, 196, 209}}, {{68, 167, 191, 225}}, {{71, 92, 155, 178}}, {{71, 103, 173, 215}}, {{71, 119, 125, 155}}, {{71, 125, 155, 178}}, {{72, 81, 157, 224}}, {{72, 81, 163, 224}}, {{72, 91, 96, 224}}, {{72, 91, 163, 224}}, {{72, 96, 157, 216}}, {{72, 96, 157, 224}}, {{73, 101, 153, 187}}, {{73, 101, 153, 229}}, {{73, 101, 170, 177}}, {{73, 101, 170, 187}}, {{73, 101, 177, 229}}, {{73, 123, 153, 187}}, {{73, 123, 153, 213}}, {{73, 123, 160, 213}}, {{73, 138, 160, 199}}, {{73, 138, 160, 213}}, {{73, 138, 177, 199}}, {{73, 138, 177, 229}}, {{73, 138, 213, 229}}, {{73, 153, 213, 229}}, {{73, 170, 177, 199}}, {{81, 138, 213, 229}}, {{81, 163, 178, 224}}, {{84, 101, 153, 187}}, {{91, 125, 163, 224}}, {{92, 123, 160, 213}}, {{96, 157, 167, 209}}, {{96, 157, 167, 216}}, {{96, 157, 209, 224}}, {{101, 119, 170, 177}}, {{103, 146, 196, FACETS}}, {{103, 173, 203, 215}}, {{114, 138, 160, 199}}, {{125, 155, 163, 178}}, {{125, 163, 178, 224}}, {{155, 191, 225, FACETS}}, {{173, 203, 215, 216}}},\n",
      "    VA {{{3, 44, 80, 193}}, {{3, 44, 80, 197}}, {{3, 44, 113, 197}}, {{3, 44, 113, 230}}, {{3, 44, 193, 230}}, {{3, 76, 94, 129}}, {{3, 76, 94, 171}}, {{3, 76, 113, 171}}, {{3, 76, 113, 197}}, {{3, 76, 129, 197}}, {{3, 80, 129, 197}}, {{3, 94, 132, 171}}, {{3, 113, 171, 230}}, {{3, 132, 171, 230}}, {{3, 132, 193, 230}}, {{6, 35, 111, 124}}, {{6, 35, 111, 145}}, {{6, 35, 124, 135}}, {{6, 35, 135, 162}}, {{6, 35, 145, 162}}, {{6, 62, 96, 135}}, {{6, 62, 96, 242}}, {{6, 62, 124, 135}}, {{6, 62, 124, 199}}, {{6, 62, 199, 242}}, {{6, 91, 96, 162}}, {{6, 91, 96, 242}}, {{6, 91, 145, 162}}, {{6, 91, 145, 170}}, {{6, 91, 170, 242}}, {{6, 96, 135, 162}}, {{6, 111, 124, 199}}, {{6, 111, 145, 170}}, {{6, 111, 170, 199}}, {{6, 170, 199, 242}}, {{8, 36, 73, 160}}, {{8, 36, 73, 176}}, {{8, 36, 109, 141}}, {{8, 36, 109, 176}}, {{8, 36, 141, 160}}, {{8, 53, 120, 141}}, {{8, 53, 123, 160}}, {{8, 53, 141, 160}}, {{8, 66, 73, 123}}, {{8, 66, 73, 176}}, {{8, 66, 175, 176}}, {{8, 73, 123, 160}}, {{8, 109, 120, 141}}, {{8, 109, 120, 175}}, {{8, 109, 175, 176}}, {{10, 41, 149, 192}}, {{10, 41, 166, 201}}, {{10, 41, 192, 201}}, {{10, 51, 57, 184}}, {{10, 51, 57, 201}}, {{10, 51, 86, 166}}, {{10, 51, 86, 184}}, {{10, 51, 166, 201}}, {{10, 57, 74, 184}}, {{10, 57, 74, 192}}, {{10, 57, 192, 201}}, {{10, 74, 149, 192}}, {{10, 74, 149, 207}}, {{10, 74, 184, 207}}, {{10, 86, 184, 207}}, {{16, 86, 109, 141}}, {{16, 86, 109, 166}}, {{16, 86, 141, 230}}, {{16, 91, 145, 162}}, {{16, 91, 145, 193}}, {{16, 91, 162, 166}}, {{16, 109, 120, 141}}, {{16, 109, 120, 162}}, {{16, 109, 162, 166}}, {{16, 120, 132, 141}}, {{16, 120, 132, 145}}, {{16, 120, 145, 162}}, {{16, 132, 141, 230}}, {{16, 132, 145, 193}}, {{16, 132, 193, 230}}, {{23, 41, 96, 201}}, {{23, 41, 96, 242}}, {{23, 41, 123, 192}}, {{23, 41, 123, 242}}, {{23, 41, 192, 201}}, {{23, 53, 94, 171}}, {{23, 53, 94, 192}}, {{23, 53, 123, 160}}, {{23, 53, 123, 192}}, {{23, 53, 160, 171}}, {{23, 62, 76, 96}}, {{23, 62, 76, 171}}, {{23, 62, 96, 242}}, {{23, 62, 160, 171}}, {{23, 62, 160, 242}}, {{23, 76, 94, 171}}, {{23, 76, 94, 201}}, {{23, 76, 96, 201}}, {{23, 94, 192, 201}}, {{23, 123, 160, 242}}, {{28, 35, 74, 124}}, {{28, 35, 124, 135}}, {{28, 35, 135, 175}}, {{28, 44, 66, 149}}, {{28, 44, 66, 197}}, {{28, 44, 113, 197}}, {{28, 44, 113, 207}}, {{28, 44, 149, 207}}, {{28, 66, 175, 197}}, {{28, 74, 124, 207}}, {{28, 74, 149, 207}}, {{28, 113, 124, 135}}, {{28, 113, 124, 207}}, {{28, 113, 135, 197}}, {{28, 135, 175, 197}}, {{30, 36, 51, 176}}, {{30, 36, 51, 184}}, {{30, 36, 73, 176}}, {{30, 36, 73, 199}}, {{30, 36, 184, 199}}, {{30, 51, 57, 129}}, {{30, 51, 57, 184}}, {{30, 51, 129, 176}}, {{30, 57, 111, 184}}, {{30, 73, 80, 170}}, {{30, 73, 80, 176}}, {{30, 73, 170, 199}}, {{30, 80, 129, 176}}, {{30, 111, 170, 199}}, {{30, 111, 184, 199}}, {{35, 74, 102, 111}}, {{35, 74, 111, 124}}, {{35, 102, 111, 145}}, {{35, 102, 120, 145}}, {{35, 120, 145, 162}}, {{35, 120, 162, 175}}, {{35, 135, 162, 175}}, {{36, 51, 86, 109}}, {{36, 51, 86, 184}}, {{36, 51, 109, 176}}, {{36, 73, 160, 199}}, {{36, 86, 109, 141}}, {{41, 91, 96, 166}}, {{41, 91, 96, 242}}, {{41, 91, 187, 242}}, {{41, 96, 166, 201}}, {{41, 123, 149, 187}}, {{41, 123, 149, 192}}, {{41, 123, 187, 242}}, {{44, 66, 80, 187}}, {{44, 66, 80, 197}}, {{44, 66, 149, 187}}, {{44, 80, 187, 193}}, {{44, 113, 207, 230}}, {{51, 57, 129, 201}}, {{51, 86, 109, 166}}, {{51, 109, 166, 219}}, {{51, 109, 176, 219}}, {{51, 129, 176, 219}}, {{51, 129, 201, 219}}, {{51, 166, 201, 219}}, {{53, 94, 102, 132}}, {{53, 94, 102, 192}}, {{53, 94, 132, 171}}, {{53, 102, 120, 132}}, {{53, 120, 132, 141}}, {{53, 132, 141, 171}}, {{53, 141, 160, 171}}, {{57, 74, 102, 111}}, {{57, 74, 102, 192}}, {{57, 74, 111, 184}}, {{57, 94, 102, 192}}, {{57, 94, 129, 201}}, {{57, 94, 192, 201}}, {{62, 76, 96, 135}}, {{62, 76, 113, 135}}, {{62, 76, 113, 171}}, {{62, 113, 124, 135}}, {{62, 160, 199, 242}}, {{66, 73, 80, 176}}, {{66, 73, 80, 187}}, {{66, 73, 123, 187}}, {{66, 80, 176, 197}}, {{66, 123, 149, 187}}, {{66, 175, 176, 197}}, {{73, 80, 170, 187}}, {{73, 123, 160, 242}}, {{73, 123, 187, 242}}, {{73, 160, 199, 242}}, {{73, 170, 187, 242}}, {{73, 170, 199, 242}}, {{74, 111, 124, 184}}, {{74, 124, 184, 207}}, {{76, 94, 129, 201}}, {{76, 96, 135, 219}}, {{76, 96, 201, 219}}, {{76, 113, 135, 197}}, {{76, 129, 197, 219}}, {{76, 129, 201, 219}}, {{76, 135, 197, 219}}, {{80, 129, 176, 197}}, {{80, 170, 187, 193}}, {{86, 207, 230, FACETS}}, {{91, 96, 162, 166}}, {{91, 145, 170, 193}}, {{91, 170, 187, 193}}, {{91, 170, 187, 242}}, {{96, 135, 162, 219}}, {{96, 162, 166, 219}}, {{96, 166, 201, 219}}, {{102, 120, 132, 145}}, {{109, 120, 162, 175}}, {{109, 162, 166, 219}}, {{109, 162, 175, 219}}, {{109, 175, 176, 219}}, {{111, 124, 184, 199}}, {{129, 176, 197, 219}}, {{132, 141, 171, 230}}, {{135, 162, 175, 219}}, {{135, 175, 197, 219}}, {{175, 176, 197, 219}}},\n",
      "    VA {{{2, 55, 83, 124}}, {{2, 55, 83, 146}}, {{2, 55, 95, 124}}, {{2, 55, 95, 159}}, {{2, 55, 146, 159}}, {{2, 71, 83, 102}}, {{2, 71, 83, 124}}, {{2, 71, 102, 116}}, {{2, 71, 116, 194}}, {{2, 71, 124, 194}}, {{2, 83, 102, 146}}, {{2, 95, 124, 194}}, {{2, 95, 159, 170}}, {{2, 95, 170, 194}}, {{2, 102, 110, 116}}, {{2, 102, 110, 146}}, {{2, 110, 116, 170}}, {{2, 110, 146, 159}}, {{2, 110, 159, 170}}, {{2, 116, 170, 194}}, {{4, 36, 133, 195}}, {{4, 36, 133, 200}}, {{4, 65, 112, 129}}, {{4, 65, 112, 171}}, {{4, 65, 129, 195}}, {{4, 112, 117, 171}}, {{4, 112, 117, 189}}, {{4, 112, 129, 189}}, {{4, 117, 189, 200}}, {{4, 129, 133, 189}}, {{4, 129, 133, 195}}, {{4, 133, 189, 200}}, {{10, 43, 77, 163}}, {{10, 43, 77, 191}}, {{10, 43, 180, 191}}, {{10, 52, 84, 158}}, {{10, 52, 84, 180}}, {{10, 52, 158, 202}}, {{10, 52, 180, 191}}, {{10, 52, 191, 202}}, {{10, 58, 77, 163}}, {{10, 58, 77, 202}}, {{10, 58, 158, 202}}, {{10, 77, 191, 202}}, {{14, 33, 123, 148}}, {{14, 33, 123, 222}}, {{14, 33, 136, 203}}, {{14, 33, 136, 222}}, {{14, 33, 148, 203}}, {{14, 44, 63, 138}}, {{14, 44, 63, 148}}, {{14, 44, 90, 138}}, {{14, 44, 90, 203}}, {{14, 44, 148, 203}}, {{14, 63, 78, 123}}, {{14, 63, 78, 138}}, {{14, 63, 123, 148}}, {{14, 78, 123, 222}}, {{14, 78, 138, 175}}, {{14, 78, 175, 222}}, {{14, 90, 136, 175}}, {{14, 90, 136, 203}}, {{14, 90, 138, 175}}, {{14, 136, 175, 222}}, {{16, 84, 110, 180}}, {{16, 84, 110, 200}}, {{16, 90, 136, 146}}, {{16, 90, 136, 203}}, {{16, 90, 146, 180}}, {{16, 110, 146, 159}}, {{16, 110, 146, 180}}, {{16, 110, 159, 200}}, {{16, 117, 136, 159}}, {{16, 117, 136, 203}}, {{16, 117, 159, 200}}, {{16, 136, 146, 159}}, {{24, 43, 44, 138}}, {{24, 43, 44, 163}}, {{24, 43, 77, 129}}, {{24, 43, 77, 163}}, {{24, 43, 129, 138}}, {{24, 44, 63, 138}}, {{24, 44, 63, 194}}, {{24, 44, 163, 194}}, {{24, 63, 133, 138}}, {{24, 63, 133, 170}}, {{24, 63, 170, 194}}, {{24, 77, 95, 163}}, {{24, 77, 95, 189}}, {{24, 77, 129, 189}}, {{24, 95, 163, 194}}, {{24, 95, 170, 189}}, {{24, 95, 170, 194}}, {{24, 129, 133, 138}}, {{24, 129, 133, 189}}, {{24, 133, 170, 189}}, {{27, 33, 112, 171}}, {{27, 33, 112, 202}}, {{27, 33, 123, 148}}, {{27, 33, 123, 202}}, {{27, 33, 148, 171}}, {{27, 52, 102, 116}}, {{27, 52, 102, 191}}, {{27, 52, 116, 123}}, {{27, 52, 123, 202}}, {{27, 52, 191, 202}}, {{27, 65, 71, 102}}, {{27, 65, 71, 171}}, {{27, 65, 102, 191}}, {{27, 65, 112, 171}}, {{27, 65, 112, 191}}, {{27, 71, 102, 116}}, {{27, 71, 116, 148}}, {{27, 71, 148, 171}}, {{27, 112, 191, 202}}, {{27, 116, 123, 148}}, {{29, 36, 78, 158}}, {{29, 36, 78, 195}}, {{29, 55, 58, 124}}, {{29, 55, 58, 222}}, {{29, 55, 83, 124}}, {{29, 55, 83, 175}}, {{29, 55, 175, 222}}, {{29, 58, 158, 222}}, {{29, 78, 158, 222}}, {{29, 78, 175, 195}}, {{29, 78, 175, 222}}, {{29, 83, 175, 195}}, {{33, 96, 112, 117}}, {{33, 96, 112, 202}}, {{33, 96, 117, 136}}, {{33, 96, 136, 222}}, {{33, 96, 202, 222}}, {{33, 112, 117, 171}}, {{33, 117, 136, 203}}, {{33, 117, 171, 203}}, {{33, 123, 202, 222}}, {{33, 148, 171, 203}}, {{36, 78, 133, 195}}, {{36, 78, 133, 210}}, {{36, 78, 158, 210}}, {{36, 84, 158, 210}}, {{36, 84, 200, 210}}, {{36, 133, 200, 210}}, {{43, 44, 90, 138}}, {{43, 77, 129, 191}}, {{43, 90, 180, FACETS}}, {{44, 63, 148, 194}}, {{44, 148, 194, 227}}, {{44, 148, 203, 227}}, {{44, 163, 194, 227}}, {{52, 84, 110, 180}}, {{52, 84, 110, 210}}, {{52, 84, 158, 210}}, {{52, 102, 110, 116}}, {{52, 102, 110, 180}}, {{52, 102, 180, 191}}, {{52, 110, 116, 210}}, {{52, 116, 123, 210}}, {{52, 123, 158, 202}}, {{52, 123, 158, 210}}, {{55, 58, 95, 96}}, {{55, 58, 95, 124}}, {{55, 58, 96, 222}}, {{55, 83, 146, 175}}, {{55, 95, 96, 159}}, {{55, 96, 136, 159}}, {{55, 96, 136, 222}}, {{55, 136, 146, 159}}, {{55, 136, 146, 175}}, {{55, 136, 175, 222}}, {{58, 77, 95, 96}}, {{58, 77, 95, 163}}, {{58, 77, 96, 202}}, {{58, 95, 124, 163}}, {{58, 96, 202, 222}}, {{58, 158, 202, 222}}, {{63, 78, 123, 210}}, {{63, 78, 133, 138}}, {{63, 78, 133, 210}}, {{63, 116, 123, 148}}, {{63, 116, 123, 210}}, {{63, 116, 148, 194}}, {{63, 116, 170, 194}}, {{63, 116, 170, 210}}, {{63, 133, 170, 210}}, {{65, 71, 83, 102}}, {{65, 83, 195, FACETS}}, {{65, 112, 129, 191}}, {{71, 116, 148, 194}}, {{71, 124, 194, 227}}, {{71, 148, 171, 227}}, {{71, 148, 194, 227}}, {{77, 95, 96, 189}}, {{77, 96, 112, 189}}, {{77, 96, 112, 202}}, {{77, 112, 129, 189}}, {{77, 112, 129, 191}}, {{77, 112, 191, 202}}, {{78, 123, 158, 210}}, {{78, 123, 158, 222}}, {{78, 133, 138, 195}}, {{78, 138, 175, 195}}, {{84, 110, 200, 210}}, {{90, 136, 146, 175}}, {{95, 96, 159, 189}}, {{95, 124, 163, 194}}, {{95, 159, 170, 189}}, {{96, 112, 117, 189}}, {{96, 117, 136, 159}}, {{96, 117, 159, 189}}, {{102, 110, 146, 180}}, {{110, 116, 170, 210}}, {{110, 159, 170, 200}}, {{110, 170, 200, 210}}, {{117, 159, 189, 200}}, {{123, 158, 202, 222}}, {{124, 163, 194, 227}}, {{129, 133, 138, 195}}, {{133, 170, 189, 200}}, {{133, 170, 200, 210}}, {{148, 171, 203, 227}}, {{159, 170, 189, 200}}},\n",
      "    VA {{{1, 46, 92, 150}}, {{1, 46, 92, 195}}, {{1, 46, 113, 195}}, {{1, 74, 81, 126}}, {{1, 74, 81, 210}}, {{1, 74, 92, 195}}, {{1, 74, 92, 210}}, {{1, 74, 126, 195}}, {{1, 81, 126, 189}}, {{1, 92, 150, 210}}, {{1, 113, 126, 189}}, {{1, 113, 126, 195}}, {{5, 43, 111, 121}}, {{5, 43, 111, 179}}, {{5, 43, 121, 218}}, {{5, 43, 142, 179}}, {{5, 43, 142, 218}}, {{5, 57, 102, 111}}, {{5, 57, 102, 134}}, {{5, 57, 111, 121}}, {{5, 57, 121, 194}}, {{5, 57, 134, 194}}, {{5, 85, 102, 134}}, {{5, 85, 102, 179}}, {{5, 85, 142, 179}}, {{5, 102, 111, 179}}, {{5, 121, 194, 218}}, {{8, 39, 108, 139}}, {{8, 39, 108, 144}}, {{8, 39, 139, 202}}, {{8, 39, 144, 221}}, {{8, 39, 202, 221}}, {{8, 55, 66, 176}}, {{8, 55, 66, 221}}, {{8, 55, 119, 144}}, {{8, 55, 119, 176}}, {{8, 55, 144, 221}}, {{8, 66, 73, 176}}, {{8, 66, 73, 202}}, {{8, 66, 202, 221}}, {{8, 73, 139, 202}}, {{8, 108, 119, 144}}, {{14, 32, 76, 161}}, {{14, 32, 130, 161}}, {{14, 32, 130, 166}}, {{14, 47, 91, 154}}, {{14, 47, 91, 166}}, {{14, 47, 128, 154}}, {{14, 62, 76, 128}}, {{14, 62, 76, 161}}, {{14, 62, 128, 154}}, {{14, 62, 154, 186}}, {{14, 62, 161, 186}}, {{14, 91, 130, 166}}, {{14, 91, 130, 186}}, {{14, 91, 154, 186}}, {{14, 130, 161, 186}}, {{16, 85, 108, 144}}, {{16, 85, 142, 179}}, {{16, 85, 144, 179}}, {{16, 91, 130, 166}}, {{16, 91, 130, 179}}, {{16, 91, 142, 179}}, {{16, 108, 119, 144}}, {{16, 108, 119, 150}}, {{16, 119, 130, 144}}, {{16, 119, 130, 166}}, {{16, 119, 150, 166}}, {{16, 130, 144, 179}}, {{25, 43, 73, 121}}, {{25, 43, 73, 154}}, {{25, 43, 111, 121}}, {{25, 43, 111, 186}}, {{25, 43, 154, 186}}, {{25, 46, 62, 139}}, {{25, 46, 62, 195}}, {{25, 46, 92, 195}}, {{25, 62, 139, 154}}, {{25, 62, 154, 186}}, {{25, 62, 186, 195}}, {{25, 73, 139, 154}}, {{25, 92, 111, 121}}, {{25, 92, 111, 195}}, {{25, 111, 186, 195}}, {{26, 32, 55, 161}}, {{26, 32, 55, 176}}, {{26, 32, 76, 161}}, {{26, 32, 76, 194}}, {{26, 32, 176, 194}}, {{26, 55, 66, 126}}, {{26, 55, 66, 176}}, {{26, 55, 126, 161}}, {{26, 66, 126, 189}}, {{26, 66, 176, 218}}, {{26, 66, 189, 218}}, {{26, 76, 113, 161}}, {{26, 113, 126, 161}}, {{26, 113, 126, 189}}, {{26, 176, 194, 218}}, {{31, 39, 102, 134}}, {{31, 39, 102, 221}}, {{31, 39, 128, 134}}, {{31, 39, 128, 202}}, {{31, 39, 202, 221}}, {{31, 47, 81, 202}}, {{31, 47, 81, 210}}, {{31, 47, 128, 202}}, {{31, 57, 74, 102}}, {{31, 57, 74, 210}}, {{31, 57, 102, 134}}, {{31, 74, 81, 210}}, {{31, 74, 81, 221}}, {{31, 74, 102, 221}}, {{31, 81, 202, 221}}, {{32, 55, 119, 130}}, {{32, 55, 119, 176}}, {{32, 55, 130, 161}}, {{32, 119, 130, 166}}, {{32, 119, 166, 232}}, {{32, 119, 176, 232}}, {{32, 176, 194, 232}}, {{39, 85, 102, 134}}, {{39, 85, 102, 144}}, {{39, 85, 108, 144}}, {{39, 85, 108, 171}}, {{39, 85, 134, 171}}, {{39, 102, 144, 221}}, {{39, 108, 139, 171}}, {{39, 128, 134, 171}}, {{39, 128, 139, 171}}, {{39, 128, 139, 202}}, {{43, 73, 99, 154}}, {{43, 73, 99, 218}}, {{43, 73, 121, 218}}, {{43, 91, 99, 142}}, {{43, 91, 99, 154}}, {{43, 91, 142, 179}}, {{43, 91, 154, 186}}, {{43, 91, 179, 186}}, {{43, 99, 142, 218}}, {{43, 111, 179, 186}}, {{46, 62, 113, 171}}, {{46, 62, 113, 195}}, {{46, 62, 139, 171}}, {{46, 108, 139, 171}}, {{46, 108, 150, FACETS}}, {{47, 81, 99, 202}}, {{47, 91, 99, 154}}, {{47, 99, 154, 202}}, {{47, 128, 154, 202}}, {{47, 166, 210, FACETS}}, {{55, 66, 126, 221}}, {{55, 119, 130, 144}}, {{55, 126, 161, 216}}, {{55, 126, 216, 221}}, {{55, 130, 144, 216}}, {{55, 130, 161, 216}}, {{55, 144, 216, 221}}, {{57, 74, 92, 111}}, {{57, 74, 92, 210}}, {{57, 74, 102, 111}}, {{57, 92, 111, 121}}, {{57, 92, 121, 232}}, {{57, 92, 210, 232}}, {{57, 121, 194, 232}}, {{62, 76, 113, 161}}, {{62, 76, 113, 171}}, {{62, 76, 128, 171}}, {{62, 113, 161, 195}}, {{62, 128, 139, 154}}, {{62, 128, 139, 171}}, {{62, 161, 186, 195}}, {{66, 73, 99, 202}}, {{66, 73, 99, 218}}, {{66, 73, 176, 218}}, {{66, 81, 99, 189}}, {{66, 81, 99, 202}}, {{66, 81, 126, 189}}, {{66, 81, 126, 221}}, {{66, 81, 202, 221}}, {{66, 99, 189, 218}}, {{73, 99, 154, 202}}, {{73, 121, 176, 218}}, {{73, 139, 154, 202}}, {{74, 81, 126, 221}}, {{74, 92, 111, 195}}, {{74, 102, 111, 216}}, {{74, 102, 216, 221}}, {{74, 111, 195, 216}}, {{74, 126, 195, 216}}, {{74, 126, 216, 221}}, {{76, 128, 134, 171}}, {{76, 134, 194, FACETS}}, {{85, 102, 144, 179}}, {{91, 130, 179, 186}}, {{92, 150, 210, 232}}, {{99, 142, 189, 218}}, {{102, 111, 179, 216}}, {{102, 144, 179, 216}}, {{102, 144, 216, 221}}, {{111, 179, 186, 216}}, {{111, 186, 195, 216}}, {{113, 126, 161, 195}}, {{119, 150, 166, 232}}, {{121, 176, 194, 218}}, {{121, 176, 194, 232}}, {{126, 161, 195, 216}}, {{128, 139, 154, 202}}, {{130, 144, 179, 216}}, {{130, 161, 186, 216}}, {{130, 179, 186, 216}}, {{150, 166, 210, 232}}, {{161, 186, 195, 216}}},\n",
      "    VA {{{1, 54, 81, 126}}, {{1, 54, 81, 145}}, {{1, 54, 94, 126}}, {{1, 54, 94, 203}}, {{1, 54, 145, 203}}, {{1, 74, 81, 104}}, {{1, 74, 81, 126}}, {{1, 74, 104, 114}}, {{1, 74, 114, 151}}, {{1, 74, 126, 151}}, {{1, 81, 104, 145}}, {{1, 94, 126, 151}}, {{1, 94, 151, 227}}, {{1, 94, 203, 227}}, {{1, 114, 151, 227}}, {{4, 36, 107, 188}}, {{4, 36, 107, 200}}, {{4, 36, 200, 244}}, {{4, 67, 107, 188}}, {{4, 67, 107, 207}}, {{4, 67, 128, 134}}, {{4, 67, 128, 188}}, {{4, 67, 134, 207}}, {{4, 107, 200, 207}}, {{4, 117, 134, 171}}, {{4, 117, 134, 207}}, {{4, 117, 171, 244}}, {{4, 117, 200, 207}}, {{4, 117, 200, 244}}, {{4, 128, 134, 171}}, {{11, 42, 76, 155}}, {{11, 42, 76, 165}}, {{11, 42, 130, 162}}, {{11, 42, 130, 165}}, {{11, 42, 155, 162}}, {{11, 48, 84, 162}}, {{11, 48, 84, 176}}, {{11, 48, 155, 162}}, {{11, 48, 155, 223}}, {{11, 48, 176, 223}}, {{11, 59, 76, 165}}, {{11, 59, 76, 223}}, {{11, 59, 165, 198}}, {{11, 59, 176, 198}}, {{11, 59, 176, 223}}, {{11, 76, 155, 223}}, {{11, 84, 130, 162}}, {{11, 84, 130, 198}}, {{11, 84, 176, 198}}, {{11, 130, 165, 198}}, {{15, 34, 106, 179}}, {{15, 34, 106, 239}}, {{15, 34, 121, 149}}, {{15, 34, 121, 239}}, {{15, 34, 149, 179}}, {{15, 45, 61, 140}}, {{15, 45, 61, 149}}, {{15, 45, 91, 140}}, {{15, 45, 91, 179}}, {{15, 45, 149, 179}}, {{15, 61, 73, 121}}, {{15, 61, 73, 140}}, {{15, 61, 121, 149}}, {{15, 73, 121, 239}}, {{15, 73, 140, 183}}, {{15, 73, 183, 239}}, {{15, 91, 106, 179}}, {{15, 91, 106, 183}}, {{15, 91, 140, 183}}, {{15, 106, 183, 239}}, {{16, 84, 130, 162}}, {{16, 84, 130, 200}}, {{16, 84, 200, 244}}, {{16, 91, 106, 145}}, {{16, 91, 106, 179}}, {{16, 91, 130, 162}}, {{16, 91, 130, 179}}, {{16, 91, 145, 162}}, {{16, 106, 117, 179}}, {{16, 106, 117, 203}}, {{16, 106, 145, 203}}, {{16, 117, 179, 200}}, {{16, 117, 200, 244}}, {{16, 117, 203, 244}}, {{16, 130, 179, 200}}, {{23, 42, 45, 140}}, {{23, 42, 45, 165}}, {{23, 42, 76, 128}}, {{23, 42, 76, 165}}, {{23, 42, 128, 140}}, {{23, 45, 61, 140}}, {{23, 45, 61, 151}}, {{23, 45, 151, 165}}, {{23, 61, 151, 227}}, {{23, 76, 94, 165}}, {{23, 76, 94, 171}}, {{23, 76, 128, 171}}, {{23, 94, 151, 165}}, {{23, 94, 151, 227}}, {{23, 94, 171, 227}}, {{28, 34, 121, 149}}, {{28, 34, 121, 223}}, {{28, 34, 134, 207}}, {{28, 34, 134, 223}}, {{28, 34, 149, 207}}, {{28, 48, 104, 114}}, {{28, 48, 104, 155}}, {{28, 48, 114, 121}}, {{28, 48, 121, 223}}, {{28, 48, 155, 223}}, {{28, 67, 74, 104}}, {{28, 67, 74, 207}}, {{28, 67, 104, 155}}, {{28, 67, 134, 155}}, {{28, 67, 134, 207}}, {{28, 74, 104, 114}}, {{28, 74, 114, 149}}, {{28, 74, 149, 207}}, {{28, 114, 121, 149}}, {{28, 134, 155, 223}}, {{30, 36, 73, 176}}, {{30, 36, 73, 188}}, {{30, 36, 107, 188}}, {{30, 36, 107, 198}}, {{30, 36, 176, 198}}, {{30, 54, 59, 126}}, {{30, 54, 59, 239}}, {{30, 54, 81, 126}}, {{30, 54, 81, 183}}, {{30, 54, 183, 239}}, {{30, 59, 126, 198}}, {{30, 59, 176, 198}}, {{30, 59, 176, 239}}, {{30, 73, 176, 239}}, {{30, 73, 183, 188}}, {{30, 73, 183, 239}}, {{30, 81, 107, 126}}, {{30, 81, 107, 188}}, {{30, 81, 183, 188}}, {{30, 107, 126, 198}}, {{34, 97, 106, 117}}, {{34, 97, 106, 239}}, {{34, 97, 117, 134}}, {{34, 97, 134, 223}}, {{34, 97, 223, 239}}, {{34, 106, 117, 179}}, {{34, 117, 134, 207}}, {{34, 117, 179, 207}}, {{34, 121, 223, 239}}, {{34, 149, 179, 207}}, {{36, 84, 176, 198}}, {{36, 84, 198, 200}}, {{36, 84, 200, 244}}, {{36, 107, 198, 200}}, {{42, 45, 91, 130}}, {{42, 45, 91, 140}}, {{42, 45, 130, 165}}, {{42, 76, 128, 155}}, {{42, 91, 130, 162}}, {{45, 61, 149, 151}}, {{45, 91, 130, 179}}, {{45, 130, 165, 209}}, {{45, 130, 179, 209}}, {{45, 149, 151, 209}}, {{45, 149, 179, 209}}, {{45, 151, 165, 209}}, {{48, 104, 155, 162}}, {{48, 121, 176, 223}}, {{54, 59, 94, 97}}, {{54, 59, 94, 126}}, {{54, 59, 97, 239}}, {{54, 81, 145, 183}}, {{54, 94, 97, 203}}, {{54, 97, 106, 203}}, {{54, 97, 106, 239}}, {{54, 106, 145, 183}}, {{54, 106, 145, 203}}, {{54, 106, 183, 239}}, {{59, 76, 94, 97}}, {{59, 76, 94, 165}}, {{59, 76, 97, 223}}, {{59, 94, 126, 165}}, {{59, 97, 223, 239}}, {{59, 126, 165, 198}}, {{59, 176, 223, 239}}, {{61, 114, 121, 149}}, {{61, 114, 149, 151}}, {{61, 114, 151, 227}}, {{67, 74, 81, 104}}, {{67, 74, 81, 107}}, {{67, 74, 107, 207}}, {{67, 81, 107, 188}}, {{67, 128, 134, 155}}, {{73, 121, 176, 239}}, {{73, 140, 183, 188}}, {{74, 81, 107, 126}}, {{74, 107, 126, 209}}, {{74, 107, 207, 209}}, {{74, 114, 149, 151}}, {{74, 126, 151, 209}}, {{74, 149, 151, 209}}, {{74, 149, 207, 209}}, {{76, 94, 97, 171}}, {{76, 97, 134, 171}}, {{76, 97, 134, 223}}, {{76, 128, 134, 155}}, {{76, 128, 134, 171}}, {{76, 134, 155, 223}}, {{84, 130, 198, 200}}, {{91, 106, 145, 183}}, {{94, 97, 171, 203}}, {{94, 126, 151, 165}}, {{94, 171, 203, 227}}, {{97, 106, 117, 203}}, {{97, 117, 134, 171}}, {{97, 117, 171, 203}}, {{104, 145, 162, FACETS}}, {{107, 126, 198, 209}}, {{107, 198, 200, 209}}, {{107, 200, 207, 209}}, {{117, 171, 203, 244}}, {{117, 179, 200, 207}}, {{121, 176, 223, 239}}, {{126, 151, 165, 209}}, {{126, 165, 198, 209}}, {{128, 140, 188, FACETS}}, {{130, 165, 198, 209}}, {{130, 179, 200, 209}}, {{130, 198, 200, 209}}, {{149, 179, 207, 209}}, {{171, 203, 227, 244}}, {{179, 200, 207, 209}}},\n",
      "    VA {{{1, 52, 82, 174}}, {{1, 52, 82, 199}}, {{1, 52, 93, 141}}, {{1, 52, 93, 199}}, {{1, 52, 141, 174}}, {{1, 77, 82, 199}}, {{1, 77, 82, 220}}, {{1, 77, 113, 211}}, {{1, 77, 113, 220}}, {{1, 77, 199, 211}}, {{1, 82, 174, 220}}, {{1, 93, 199, 211}}, {{1, 113, 220, 236}}, {{1, 141, 174, 236}}, {{1, 174, 220, 236}}, {{4, 37, 111, 156}}, {{4, 37, 111, 168}}, {{4, 37, 156, 218}}, {{4, 64, 111, 156}}, {{4, 64, 111, 186}}, {{4, 64, 131, 186}}, {{4, 64, 131, 192}}, {{4, 64, 156, 192}}, {{4, 99, 120, 131}}, {{4, 99, 131, 192}}, {{4, 99, 192, 218}}, {{4, 111, 168, 186}}, {{4, 120, 131, 186}}, {{4, 120, 168, 186}}, {{4, 156, 192, 218}}, {{11, 41, 78, 139}}, {{11, 41, 78, 221}}, {{11, 41, 137, 182}}, {{11, 41, 137, 221}}, {{11, 41, 139, 182}}, {{11, 44, 85, 147}}, {{11, 44, 85, 182}}, {{11, 44, 139, 182}}, {{11, 44, 139, 224}}, {{11, 44, 147, 224}}, {{11, 56, 78, 221}}, {{11, 56, 78, 224}}, {{11, 56, 147, 170}}, {{11, 56, 147, 224}}, {{11, 56, 170, 221}}, {{11, 78, 139, 224}}, {{11, 85, 137, 170}}, {{11, 85, 137, 182}}, {{11, 85, 147, 170}}, {{11, 137, 170, 221}}, {{15, 33, 109, 153}}, {{15, 33, 109, 240}}, {{15, 33, 153, 213}}, {{15, 33, 197, 213}}, {{15, 33, 197, 240}}, {{15, 55, 60, 201}}, {{15, 55, 60, 213}}, {{15, 55, 88, 153}}, {{15, 55, 88, 201}}, {{15, 55, 153, 213}}, {{15, 60, 71, 197}}, {{15, 60, 71, 201}}, {{15, 60, 197, 213}}, {{15, 71, 103, 201}}, {{15, 71, 103, 240}}, {{15, 71, 197, 240}}, {{15, 88, 103, 109}}, {{15, 88, 103, 201}}, {{15, 88, 109, 153}}, {{15, 103, 109, 240}}, {{16, 85, 137, 168}}, {{16, 85, 137, 182}}, {{16, 85, 182, 236}}, {{16, 88, 109, 153}}, {{16, 88, 109, 174}}, {{16, 88, 137, 153}}, {{16, 88, 137, 182}}, {{16, 88, 174, 182}}, {{16, 109, 120, 141}}, {{16, 109, 120, 153}}, {{16, 109, 141, 174}}, {{16, 120, 153, 168}}, {{16, 137, 153, 168}}, {{16, 141, 174, 236}}, {{16, 174, 182, 236}}, {{23, 41, 55, 201}}, {{23, 41, 55, 221}}, {{23, 41, 78, 192}}, {{23, 41, 78, 221}}, {{23, 41, 192, 201}}, {{23, 55, 60, 201}}, {{23, 55, 60, 211}}, {{23, 55, 211, 221}}, {{23, 60, 201, 218}}, {{23, 78, 93, 99}}, {{23, 78, 93, 221}}, {{23, 78, 99, 192}}, {{23, 93, 211, 221}}, {{23, 99, 192, 218}}, {{23, 192, 201, 218}}, {{28, 33, 131, 186}}, {{28, 33, 131, 224}}, {{28, 33, 186, 213}}, {{28, 33, 197, 213}}, {{28, 33, 197, 224}}, {{28, 44, 113, 197}}, {{28, 44, 113, 220}}, {{28, 44, 139, 220}}, {{28, 44, 139, 224}}, {{28, 44, 197, 224}}, {{28, 64, 77, 186}}, {{28, 64, 77, 220}}, {{28, 64, 131, 139}}, {{28, 64, 131, 186}}, {{28, 64, 139, 220}}, {{28, 77, 113, 213}}, {{28, 77, 113, 220}}, {{28, 77, 186, 213}}, {{28, 113, 197, 213}}, {{28, 131, 139, 224}}, {{30, 37, 71, 147}}, {{30, 37, 71, 156}}, {{30, 37, 111, 156}}, {{30, 37, 111, 170}}, {{30, 37, 147, 170}}, {{30, 52, 56, 199}}, {{30, 52, 56, 240}}, {{30, 52, 82, 103}}, {{30, 52, 82, 199}}, {{30, 52, 103, 240}}, {{30, 56, 147, 170}}, {{30, 56, 147, 240}}, {{30, 56, 170, 199}}, {{30, 71, 103, 156}}, {{30, 71, 103, 240}}, {{30, 71, 147, 240}}, {{30, 82, 103, 156}}, {{30, 82, 111, 156}}, {{30, 82, 111, 199}}, {{30, 111, 170, 199}}, {{33, 109, 120, 153}}, {{33, 109, 120, 209}}, {{33, 109, 209, 240}}, {{33, 120, 131, 186}}, {{33, 120, 131, 209}}, {{33, 120, 153, 186}}, {{33, 131, 209, 224}}, {{33, 153, 186, 213}}, {{33, 197, 224, 240}}, {{33, 209, 224, 240}}, {{37, 71, 156, 218}}, {{37, 85, 147, 170}}, {{37, 85, 168, 170}}, {{37, 111, 168, 170}}, {{41, 55, 88, 137}}, {{41, 55, 88, 201}}, {{41, 55, 137, 221}}, {{41, 78, 139, 192}}, {{41, 88, 137, 182}}, {{44, 85, 182, 236}}, {{44, 113, 220, 236}}, {{44, 139, 182, 220}}, {{44, 147, 197, 224}}, {{44, 182, 220, 236}}, {{52, 56, 93, 199}}, {{52, 56, 93, 209}}, {{52, 56, 209, 240}}, {{52, 82, 103, 174}}, {{52, 93, 141, 209}}, {{52, 103, 109, 174}}, {{52, 103, 109, 240}}, {{52, 109, 141, 174}}, {{52, 109, 141, 209}}, {{52, 109, 209, 240}}, {{55, 60, 211, 213}}, {{55, 88, 137, 153}}, {{55, 97, 137, 153}}, {{55, 97, 137, 221}}, {{55, 97, 153, 213}}, {{55, 97, 211, 213}}, {{55, 97, 211, 221}}, {{56, 78, 93, 209}}, {{56, 78, 93, 221}}, {{56, 78, 209, 224}}, {{56, 93, 199, 221}}, {{56, 147, 224, 240}}, {{56, 170, 199, 221}}, {{56, 209, 224, 240}}, {{60, 71, 201, 218}}, {{60, 113, 197, 213}}, {{60, 113, 211, 213}}, {{64, 77, 82, 111}}, {{64, 77, 82, 220}}, {{64, 77, 111, 186}}, {{64, 82, 111, 156}}, {{64, 131, 139, 192}}, {{71, 103, 156, 201}}, {{71, 147, 197, 240}}, {{71, 156, 201, 218}}, {{77, 82, 111, 199}}, {{77, 97, 111, 186}}, {{77, 97, 111, 199}}, {{77, 97, 186, 213}}, {{77, 97, 199, 211}}, {{77, 97, 211, 213}}, {{77, 113, 211, 213}}, {{78, 93, 99, 209}}, {{78, 99, 131, 192}}, {{78, 99, 131, 209}}, {{78, 131, 139, 192}}, {{78, 131, 139, 224}}, {{78, 131, 209, 224}}, {{85, 137, 168, 170}}, {{88, 103, 109, 174}}, {{93, 99, 141, 209}}, {{93, 199, 211, 221}}, {{97, 111, 168, 170}}, {{97, 111, 168, 186}}, {{97, 111, 170, 199}}, {{97, 137, 153, 168}}, {{97, 137, 168, 170}}, {{97, 137, 170, 221}}, {{97, 153, 168, 186}}, {{97, 153, 186, 213}}, {{97, 170, 199, 221}}, {{97, 199, 211, 221}}, {{99, 120, 131, 209}}, {{99, 120, 141, 209}}, {{109, 120, 141, 209}}, {{120, 153, 168, 186}}, {{147, 197, 224, 240}}, {{156, 192, 201, 218}}, {{174, 182, 220, 236}}},\n",
      "    VA {{{2, 55, 95, 124}}, {{2, 55, 98, 207}}, {{2, 55, 124, 207}}, {{2, 72, 81, 98}}, {{2, 72, 81, 157}}, {{2, 72, 98, 207}}, {{2, 72, 113, 157}}, {{2, 72, 113, 207}}, {{2, 81, 157, 182}}, {{2, 95, 106, 124}}, {{2, 95, 106, 182}}, {{2, 106, 113, 124}}, {{2, 106, 113, 157}}, {{2, 106, 157, 182}}, {{2, 113, 124, 207}}, {{5, 43, 103, 151}}, {{5, 43, 103, 196}}, {{5, 43, 121, 196}}, {{5, 43, 121, 218}}, {{5, 43, 151, 218}}, {{5, 59, 103, 112}}, {{5, 59, 103, 196}}, {{5, 59, 112, 141}}, {{5, 59, 133, 141}}, {{5, 59, 133, 196}}, {{5, 86, 121, 133}}, {{5, 86, 121, 218}}, {{5, 86, 133, 141}}, {{5, 86, 141, 230}}, {{5, 86, 218, 230}}, {{5, 103, 112, 151}}, {{5, 112, 141, 230}}, {{5, 112, 151, 230}}, {{5, 121, 133, 196}}, {{5, 151, 218, 230}}, {{9, 36, 47, 199}}, {{9, 36, 47, 210}}, {{9, 36, 78, 184}}, {{9, 36, 78, 210}}, {{9, 36, 184, 199}}, {{9, 47, 64, 208}}, {{9, 47, 64, 210}}, {{9, 47, 199, 208}}, {{9, 64, 140, 210}}, {{9, 78, 119, 140}}, {{9, 78, 119, 184}}, {{9, 78, 140, 210}}, {{9, 119, 130, 184}}, {{9, 130, 184, 199}}, {{9, 130, 199, 208}}, {{13, 33, 46, 171}}, {{13, 33, 46, 225}}, {{13, 33, 69, 155}}, {{13, 33, 69, 171}}, {{13, 33, 155, 225}}, {{13, 46, 62, 147}}, {{13, 46, 62, 171}}, {{13, 46, 147, 225}}, {{13, 62, 160, 171}}, {{13, 69, 155, 168}}, {{13, 69, 160, 168}}, {{13, 69, 160, 171}}, {{13, 90, 147, 225}}, {{13, 90, 155, 168}}, {{13, 90, 155, 225}}, {{17, 55, 98, 155}}, {{17, 55, 98, 207}}, {{17, 55, 119, 155}}, {{17, 55, 119, 184}}, {{17, 55, 184, 207}}, {{17, 78, 86, 121}}, {{17, 78, 86, 184}}, {{17, 78, 119, 184}}, {{17, 78, 119, 225}}, {{17, 78, 121, 225}}, {{17, 86, 121, 218}}, {{17, 86, 184, 207}}, {{17, 86, 207, 218}}, {{17, 90, 98, 155}}, {{17, 90, 98, 218}}, {{17, 90, 121, 218}}, {{17, 90, 121, 225}}, {{17, 90, 155, 225}}, {{17, 98, 207, 218}}, {{17, 119, 155, 225}}, {{20, 43, 103, 196}}, {{20, 43, 103, 208}}, {{20, 43, 147, 196}}, {{20, 62, 106, 124}}, {{20, 62, 106, 147}}, {{20, 62, 124, 199}}, {{20, 95, 103, 130}}, {{20, 95, 103, 196}}, {{20, 95, 106, 124}}, {{20, 95, 106, 196}}, {{20, 95, 124, 130}}, {{20, 103, 130, 208}}, {{20, 106, 147, 196}}, {{20, 124, 130, 199}}, {{20, 130, 199, 208}}, {{27, 33, 46, 140}}, {{27, 33, 46, 171}}, {{27, 33, 112, 171}}, {{27, 46, 113, 157}}, {{27, 46, 113, 171}}, {{27, 46, 140, 157}}, {{27, 64, 72, 151}}, {{27, 64, 72, 157}}, {{27, 64, 140, 157}}, {{27, 72, 113, 157}}, {{27, 72, 113, 230}}, {{27, 72, 151, 230}}, {{27, 112, 151, 230}}, {{27, 112, 171, 230}}, {{27, 113, 171, 230}}, {{31, 36, 47, 160}}, {{31, 36, 47, 210}}, {{31, 36, 133, 141}}, {{31, 36, 133, 210}}, {{31, 36, 141, 160}}, {{31, 47, 81, 168}}, {{31, 47, 81, 210}}, {{31, 47, 160, 168}}, {{31, 59, 69, 141}}, {{31, 59, 133, 141}}, {{31, 59, 133, 182}}, {{31, 69, 141, 160}}, {{31, 69, 160, 168}}, {{31, 81, 182, 210}}, {{31, 133, 182, 210}}, {{33, 46, 140, 225}}, {{33, 69, 112, 144}}, {{33, 69, 112, 171}}, {{33, 69, 144, 155}}, {{33, 119, 140, 225}}, {{33, 119, 144, 155}}, {{33, 119, 155, 225}}, {{36, 47, 160, 199}}, {{36, 78, 86, 133}}, {{36, 78, 86, 184}}, {{36, 78, 133, 210}}, {{36, 86, 133, 141}}, {{36, 86, 141, 243}}, {{36, 86, 184, 243}}, {{36, 141, 160, 243}}, {{36, 160, 199, 243}}, {{36, 184, 199, 243}}, {{43, 90, 121, 147}}, {{43, 90, 121, 218}}, {{43, 90, 180, 218}}, {{43, 103, 151, 208}}, {{43, 121, 147, 196}}, {{43, 151, 180, 208}}, {{43, 151, 180, 218}}, {{46, 62, 106, 113}}, {{46, 62, 106, 147}}, {{46, 62, 113, 171}}, {{46, 106, 113, 157}}, {{46, 106, 147, 241}}, {{46, 106, 157, 241}}, {{46, 140, 157, 241}}, {{46, 140, 225, 241}}, {{46, 147, 225, 241}}, {{47, 64, 81, 180}}, {{47, 64, 81, 210}}, {{47, 64, 180, 208}}, {{47, 81, 168, 180}}, {{55, 95, 124, 130}}, {{55, 95, 130, 144}}, {{55, 119, 130, 144}}, {{55, 119, 130, 184}}, {{55, 119, 144, 155}}, {{55, 124, 130, 184}}, {{55, 124, 184, 207}}, {{59, 69, 112, 141}}, {{59, 69, 112, 144}}, {{59, 95, 103, 144}}, {{59, 95, 103, 196}}, {{59, 95, 182, 196}}, {{59, 103, 112, 144}}, {{59, 133, 182, 196}}, {{62, 106, 113, 124}}, {{62, 113, 124, 243}}, {{62, 113, 171, 243}}, {{62, 124, 199, 243}}, {{62, 160, 171, 243}}, {{62, 160, 199, 243}}, {{64, 72, 81, 157}}, {{64, 72, 81, 180}}, {{64, 72, 151, 180}}, {{64, 81, 157, 210}}, {{64, 140, 157, 210}}, {{64, 151, 180, 208}}, {{69, 112, 141, 171}}, {{69, 141, 160, 171}}, {{72, 81, 98, 180}}, {{72, 98, 180, 218}}, {{72, 98, 207, 218}}, {{72, 113, 207, 230}}, {{72, 151, 180, 218}}, {{72, 151, 218, 230}}, {{72, 207, 218, 230}}, {{78, 86, 121, 133}}, {{78, 119, 140, 225}}, {{78, 121, 133, 241}}, {{78, 121, 225, 241}}, {{78, 133, 210, 241}}, {{78, 140, 210, 241}}, {{78, 140, 225, 241}}, {{81, 98, 168, 180}}, {{81, 157, 182, 210}}, {{86, 141, 230, 243}}, {{86, 184, 207, 243}}, {{86, 207, 218, 230}}, {{86, 207, 230, 243}}, {{90, 98, 155, 168}}, {{90, 98, 168, 180}}, {{90, 98, 180, 218}}, {{90, 121, 147, 225}}, {{95, 103, 130, 144}}, {{95, 106, 182, 196}}, {{106, 147, 196, 241}}, {{106, 157, 182, 241}}, {{106, 182, 196, 241}}, {{112, 141, 171, 230}}, {{113, 124, 207, 243}}, {{113, 171, 230, 243}}, {{113, 207, 230, 243}}, {{121, 133, 196, 241}}, {{121, 147, 196, 241}}, {{121, 147, 225, 241}}, {{124, 130, 184, 199}}, {{124, 184, 199, 243}}, {{124, 184, 207, 243}}, {{133, 182, 196, 241}}, {{133, 182, 210, 241}}, {{140, 157, 210, 241}}, {{141, 160, 171, 243}}, {{141, 171, 230, 243}}, {{157, 182, 210, 241}}},\n",
      "    VA {{{0, 83, 105, 160}}, {{0, 83, 105, 181}}, {{0, 83, 131, 139}}, {{0, 83, 131, 160}}, {{0, 83, 139, 181}}, {{0, 92, 131, 160}}, {{0, 92, 131, 184}}, {{0, 92, 160, 213}}, {{0, 92, 184, 238}}, {{0, 92, 213, 238}}, {{0, 105, 113, 181}}, {{0, 105, 113, 213}}, {{0, 105, 160, 213}}, {{0, 113, 213, 238}}, {{0, 131, 139, 184}}, {{7, 37, 69, 146}}, {{7, 37, 69, 170}}, {{7, 37, 170, 217}}, {{7, 52, 66, 103}}, {{7, 52, 66, 143}}, {{7, 52, 103, 152}}, {{7, 52, 119, 143}}, {{7, 52, 119, 152}}, {{7, 66, 69, 143}}, {{7, 66, 69, 146}}, {{7, 66, 103, 146}}, {{7, 69, 143, 170}}, {{7, 119, 143, 170}}, {{7, 119, 152, 217}}, {{7, 119, 170, 217}}, {{12, 43, 50, 129}}, {{12, 43, 50, 190}}, {{12, 43, 109, 174}}, {{12, 43, 109, 190}}, {{12, 43, 129, 174}}, {{12, 50, 85, 129}}, {{12, 50, 85, 168}}, {{12, 50, 168, 190}}, {{12, 58, 96, 168}}, {{12, 58, 96, 216}}, {{12, 58, 109, 190}}, {{12, 58, 109, 216}}, {{12, 58, 168, 190}}, {{12, 72, 85, 96}}, {{12, 72, 85, 129}}, {{12, 72, 96, 216}}, {{12, 72, 129, 174}}, {{12, 72, 174, 216}}, {{12, 85, 96, 168}}, {{12, 109, 174, 216}}, {{14, 35, 78, 101}}, {{14, 35, 78, 234}}, {{14, 35, 101, 211}}, {{14, 35, 157, 211}}, {{14, 35, 157, 234}}, {{14, 49, 60, 157}}, {{14, 49, 60, 196}}, {{14, 49, 157, 234}}, {{14, 49, 192, 196}}, {{14, 49, 192, 234}}, {{14, 60, 132, 196}}, {{14, 60, 132, 211}}, {{14, 60, 157, 211}}, {{14, 78, 89, 101}}, {{14, 78, 89, 192}}, {{14, 78, 192, 234}}, {{14, 89, 101, 132}}, {{14, 89, 132, 196}}, {{14, 89, 192, 196}}, {{14, 101, 132, 211}}, {{17, 50, 85, 129}}, {{17, 50, 85, 170}}, {{17, 50, 89, 101}}, {{17, 50, 89, 129}}, {{17, 50, 101, 170}}, {{17, 78, 89, 101}}, {{17, 78, 89, 139}}, {{17, 78, 101, 119}}, {{17, 78, 119, 184}}, {{17, 78, 139, 184}}, {{17, 85, 170, 217}}, {{17, 89, 129, 139}}, {{17, 101, 119, 170}}, {{17, 119, 170, 217}}, {{17, 119, 184, 217}}, {{20, 43, 103, 109}}, {{20, 43, 103, 196}}, {{20, 43, 109, 190}}, {{20, 43, 132, 190}}, {{20, 43, 132, 196}}, {{20, 60, 132, 196}}, {{20, 60, 132, 213}}, {{20, 60, 213, 238}}, {{20, 92, 109, 152}}, {{20, 92, 109, 190}}, {{20, 92, 152, 238}}, {{20, 92, 190, 213}}, {{20, 92, 213, 238}}, {{20, 103, 109, 152}}, {{20, 132, 190, 213}}, {{27, 35, 52, 143}}, {{27, 35, 52, 216}}, {{27, 35, 143, 211}}, {{27, 35, 157, 211}}, {{27, 35, 157, 216}}, {{27, 52, 66, 143}}, {{27, 52, 66, 174}}, {{27, 52, 174, 216}}, {{27, 66, 105, 143}}, {{27, 66, 105, 181}}, {{27, 66, 174, 181}}, {{27, 72, 113, 157}}, {{27, 72, 113, 181}}, {{27, 72, 157, 216}}, {{27, 72, 174, 181}}, {{27, 72, 174, 216}}, {{27, 105, 113, 181}}, {{27, 105, 113, 211}}, {{27, 105, 143, 211}}, {{27, 113, 157, 211}}, {{31, 37, 49, 96}}, {{31, 37, 49, 146}}, {{31, 37, 69, 146}}, {{31, 37, 69, 168}}, {{31, 37, 96, 168}}, {{31, 49, 96, 234}}, {{31, 49, 146, 192}}, {{31, 49, 192, 234}}, {{31, 58, 96, 168}}, {{31, 58, 96, 234}}, {{31, 58, 131, 160}}, {{31, 58, 131, 234}}, {{31, 58, 160, 168}}, {{31, 69, 83, 146}}, {{31, 69, 83, 160}}, {{31, 69, 160, 168}}, {{31, 83, 131, 160}}, {{31, 83, 131, 192}}, {{31, 83, 146, 192}}, {{31, 131, 192, 234}}, {{35, 52, 119, 122}}, {{35, 52, 119, 143}}, {{35, 52, 122, 216}}, {{35, 78, 101, 119}}, {{35, 78, 119, 122}}, {{35, 78, 122, 234}}, {{35, 101, 119, 143}}, {{35, 101, 143, 211}}, {{35, 122, 216, 234}}, {{35, 157, 216, 234}}, {{37, 69, 168, 170}}, {{37, 85, 96, 168}}, {{37, 85, 168, 170}}, {{37, 85, 170, 217}}, {{43, 50, 89, 129}}, {{43, 50, 89, 132}}, {{43, 50, 132, 190}}, {{43, 89, 132, 196}}, {{43, 103, 109, 174}}, {{49, 96, 157, 234}}, {{49, 146, 192, 196}}, {{50, 85, 168, 170}}, {{50, 89, 101, 132}}, {{50, 101, 132, 194}}, {{50, 101, 170, 194}}, {{50, 132, 190, 194}}, {{50, 168, 170, 194}}, {{50, 168, 190, 194}}, {{52, 66, 103, 174}}, {{52, 103, 109, 152}}, {{52, 103, 109, 174}}, {{52, 109, 122, 152}}, {{52, 109, 122, 216}}, {{52, 109, 174, 216}}, {{52, 119, 122, 152}}, {{58, 92, 109, 122}}, {{58, 92, 109, 190}}, {{58, 92, 122, 131}}, {{58, 92, 131, 160}}, {{58, 92, 160, 190}}, {{58, 96, 216, 234}}, {{58, 109, 122, 216}}, {{58, 122, 131, 234}}, {{58, 122, 216, 234}}, {{58, 160, 168, 190}}, {{60, 113, 157, 211}}, {{60, 113, 211, 213}}, {{60, 113, 213, 238}}, {{60, 132, 211, 213}}, {{66, 69, 83, 105}}, {{66, 69, 83, 146}}, {{66, 69, 105, 143}}, {{66, 83, 105, 181}}, {{69, 83, 105, 160}}, {{69, 105, 143, 194}}, {{69, 105, 160, 194}}, {{69, 143, 170, 194}}, {{69, 160, 168, 194}}, {{69, 168, 170, 194}}, {{72, 96, 157, 216}}, {{72, 129, 174, 181}}, {{78, 89, 139, 192}}, {{78, 119, 122, 184}}, {{78, 122, 131, 184}}, {{78, 122, 131, 234}}, {{78, 131, 139, 184}}, {{78, 131, 139, 192}}, {{78, 131, 192, 234}}, {{83, 131, 139, 192}}, {{92, 109, 122, 152}}, {{92, 122, 131, 184}}, {{92, 122, 152, 184}}, {{92, 152, 184, 238}}, {{92, 160, 190, 213}}, {{96, 157, 216, 234}}, {{101, 119, 143, 170}}, {{101, 132, 194, 211}}, {{101, 143, 170, 194}}, {{101, 143, 194, 211}}, {{103, 146, 196, FACETS}}, {{105, 113, 211, 213}}, {{105, 143, 194, 211}}, {{105, 160, 194, 213}}, {{105, 194, 211, 213}}, {{119, 122, 152, 184}}, {{119, 152, 184, 217}}, {{129, 139, 181, FACETS}}, {{132, 190, 194, 213}}, {{132, 194, 211, 213}}, {{152, 184, 217, 238}}, {{160, 168, 190, 194}}, {{160, 190, 194, 213}}},\n",
      "    VA {{{0, 82, 133, 149}}, {{0, 82, 133, 169}}, {{0, 82, 140, 161}}, {{0, 82, 140, 169}}, {{0, 82, 149, 161}}, {{0, 93, 112, 161}}, {{0, 93, 112, 164}}, {{0, 93, 140, 161}}, {{0, 112, 114, 149}}, {{0, 112, 114, 164}}, {{0, 112, 149, 161}}, {{0, 114, 133, 149}}, {{0, 114, 133, 240}}, {{0, 114, 164, 240}}, {{0, 133, 169, 240}}, {{8, 37, 53, 123}}, {{8, 37, 53, 206}}, {{8, 37, 106, 123}}, {{8, 37, 106, 203}}, {{8, 37, 203, 206}}, {{8, 53, 120, 206}}, {{8, 53, 120, 243}}, {{8, 53, 123, 243}}, {{8, 66, 97, 106}}, {{8, 66, 97, 175}}, {{8, 66, 106, 123}}, {{8, 66, 123, 243}}, {{8, 66, 175, 243}}, {{8, 72, 97, 175}}, {{8, 72, 97, 203}}, {{8, 72, 120, 175}}, {{8, 72, 120, 206}}, {{8, 72, 203, 206}}, {{8, 97, 106, 203}}, {{8, 120, 175, 243}}, {{11, 43, 70, 167}}, {{11, 43, 70, 198}}, {{11, 43, 167, 214}}, {{11, 43, 198, 229}}, {{11, 43, 214, 229}}, {{11, 47, 58, 100}}, {{11, 47, 58, 214}}, {{11, 47, 100, 152}}, {{11, 47, 152, 167}}, {{11, 47, 167, 214}}, {{11, 58, 100, 130}}, {{11, 58, 130, 229}}, {{11, 58, 214, 229}}, {{11, 70, 84, 152}}, {{11, 70, 84, 198}}, {{11, 70, 152, 167}}, {{11, 84, 100, 130}}, {{11, 84, 100, 152}}, {{11, 84, 130, 198}}, {{11, 130, 198, 229}}, {{13, 35, 74, 102}}, {{13, 35, 74, 159}}, {{13, 35, 102, 188}}, {{13, 35, 159, 236}}, {{13, 35, 188, 236}}, {{13, 54, 60, 177}}, {{13, 54, 60, 232}}, {{13, 54, 88, 177}}, {{13, 54, 88, 194}}, {{13, 54, 194, 232}}, {{13, 60, 74, 159}}, {{13, 60, 74, 177}}, {{13, 60, 159, 232}}, {{13, 74, 102, 177}}, {{13, 88, 102, 177}}, {{13, 88, 102, 188}}, {{13, 88, 188, 194}}, {{13, 159, 232, 236}}, {{13, 188, 194, 236}}, {{13, 194, 232, 236}}, {{17, 53, 84, 198}}, {{17, 53, 84, 206}}, {{17, 53, 102, 120}}, {{17, 53, 102, 198}}, {{17, 53, 120, 206}}, {{17, 70, 84, 198}}, {{17, 70, 84, 240}}, {{17, 70, 88, 169}}, {{17, 70, 88, 198}}, {{17, 70, 169, 240}}, {{17, 84, 206, 240}}, {{17, 88, 102, 188}}, {{17, 88, 102, 198}}, {{17, 88, 169, 188}}, {{17, 102, 120, 188}}, {{22, 37, 100, 130}}, {{22, 37, 100, 232}}, {{22, 37, 106, 123}}, {{22, 37, 106, 232}}, {{22, 37, 123, 130}}, {{22, 58, 100, 130}}, {{22, 58, 100, 236}}, {{22, 58, 130, 161}}, {{22, 58, 140, 161}}, {{22, 58, 140, 236}}, {{22, 82, 106, 123}}, {{22, 82, 106, 194}}, {{22, 82, 123, 161}}, {{22, 82, 140, 161}}, {{22, 82, 140, 194}}, {{22, 100, 232, 236}}, {{22, 106, 194, 232}}, {{22, 123, 130, 161}}, {{22, 140, 194, 236}}, {{22, 194, 232, 236}}, {{25, 43, 54, 97}}, {{25, 43, 54, 177}}, {{25, 43, 97, 214}}, {{25, 43, 177, 229}}, {{25, 43, 214, 229}}, {{25, 54, 60, 177}}, {{25, 54, 60, 203}}, {{25, 54, 97, 203}}, {{25, 60, 112, 164}}, {{25, 60, 112, 177}}, {{25, 60, 164, 203}}, {{25, 72, 93, 164}}, {{25, 72, 93, 214}}, {{25, 72, 97, 203}}, {{25, 72, 97, 214}}, {{25, 72, 164, 203}}, {{25, 93, 112, 164}}, {{25, 93, 112, 229}}, {{25, 93, 214, 229}}, {{25, 112, 177, 229}}, {{28, 35, 47, 159}}, {{28, 35, 47, 175}}, {{28, 35, 74, 159}}, {{28, 35, 74, 243}}, {{28, 35, 175, 243}}, {{28, 47, 152, 159}}, {{28, 47, 152, 167}}, {{28, 47, 167, 175}}, {{28, 66, 133, 149}}, {{28, 66, 133, 167}}, {{28, 66, 149, 243}}, {{28, 66, 167, 175}}, {{28, 66, 175, 243}}, {{28, 74, 114, 149}}, {{28, 74, 114, 159}}, {{28, 74, 149, 243}}, {{28, 114, 133, 149}}, {{28, 114, 133, 152}}, {{28, 114, 152, 159}}, {{28, 133, 152, 167}}, {{35, 47, 128, 175}}, {{35, 47, 128, 236}}, {{35, 47, 159, 236}}, {{35, 74, 102, 243}}, {{35, 102, 120, 188}}, {{35, 102, 120, 243}}, {{35, 120, 128, 175}}, {{35, 120, 128, 188}}, {{35, 120, 175, 243}}, {{35, 128, 188, 236}}, {{37, 53, 84, 130}}, {{37, 53, 84, 206}}, {{37, 53, 123, 130}}, {{37, 84, 100, 130}}, {{37, 106, 203, 232}}, {{43, 54, 88, 177}}, {{43, 70, 88, 198}}, {{43, 88, 177, 198}}, {{43, 97, 167, 214}}, {{43, 177, 198, 229}}, {{47, 58, 100, 236}}, {{47, 58, 128, 214}}, {{47, 58, 128, 236}}, {{47, 100, 152, 159}}, {{47, 100, 159, 236}}, {{47, 128, 175, 214}}, {{47, 167, 175, 214}}, {{53, 84, 130, 198}}, {{53, 102, 120, 243}}, {{53, 102, 192, 198}}, {{53, 102, 192, 243}}, {{53, 123, 130, 192}}, {{53, 123, 192, 243}}, {{53, 130, 192, 198}}, {{54, 60, 203, 232}}, {{54, 97, 106, 203}}, {{54, 106, 194, 232}}, {{54, 106, 203, 232}}, {{58, 93, 128, 140}}, {{58, 93, 128, 214}}, {{58, 93, 140, 161}}, {{58, 93, 161, 229}}, {{58, 93, 214, 229}}, {{58, 128, 140, 236}}, {{58, 130, 161, 229}}, {{60, 74, 112, 114}}, {{60, 74, 112, 177}}, {{60, 74, 114, 159}}, {{60, 112, 114, 164}}, {{66, 82, 106, 123}}, {{66, 82, 123, 149}}, {{66, 82, 133, 149}}, {{66, 97, 167, 175}}, {{66, 123, 149, 243}}, {{70, 84, 152, 240}}, {{70, 133, 152, 167}}, {{70, 133, 152, 240}}, {{70, 133, 169, 240}}, {{72, 93, 128, 214}}, {{72, 97, 175, 214}}, {{72, 120, 128, 175}}, {{72, 128, 175, 214}}, {{72, 164, 203, 206}}, {{74, 102, 177, 192}}, {{74, 102, 192, 243}}, {{74, 112, 114, 149}}, {{74, 112, 149, 192}}, {{74, 112, 177, 192}}, {{74, 149, 192, 243}}, {{82, 123, 149, 161}}, {{82, 140, 169, 194}}, {{88, 102, 177, 198}}, {{88, 169, 188, 194}}, {{93, 112, 161, 229}}, {{97, 167, 175, 214}}, {{100, 159, 232, 236}}, {{102, 177, 192, 198}}, {{112, 149, 161, 192}}, {{112, 161, 192, 229}}, {{112, 177, 192, 229}}, {{114, 133, 152, 240}}, {{123, 130, 161, 192}}, {{123, 149, 161, 192}}, {{123, 149, 192, 243}}, {{128, 140, 188, 236}}, {{130, 161, 192, 229}}, {{130, 192, 198, 229}}, {{140, 169, 188, 194}}, {{140, 188, 194, 236}}, {{164, 206, 240, FACETS}}, {{177, 192, 198, 229}}},\n",
      "    VA {{{0, 80, 112, 172}}, {{0, 80, 112, 191}}, {{0, 80, 134, 155}}, {{0, 80, 134, 172}}, {{0, 80, 155, 191}}, {{0, 95, 134, 163}}, {{0, 95, 134, 172}}, {{0, 95, 149, 172}}, {{0, 112, 114, 149}}, {{0, 112, 114, 191}}, {{0, 112, 149, 172}}, {{0, 114, 191, 242}}, {{0, 134, 155, 163}}, {{0, 155, 163, 242}}, {{0, 155, 191, 242}}, {{7, 36, 79, 198}}, {{7, 36, 79, 214}}, {{7, 36, 214, 228}}, {{7, 54, 65, 183}}, {{7, 54, 65, 230}}, {{7, 54, 118, 124}}, {{7, 54, 118, 230}}, {{7, 54, 124, 183}}, {{7, 65, 79, 214}}, {{7, 65, 79, 230}}, {{7, 65, 183, 214}}, {{7, 79, 198, 230}}, {{7, 118, 198, 230}}, {{7, 124, 183, 228}}, {{7, 183, 214, 228}}, {{12, 40, 53, 205}}, {{12, 40, 53, 225}}, {{12, 40, 106, 145}}, {{12, 40, 106, 205}}, {{12, 40, 145, 225}}, {{12, 53, 84, 200}}, {{12, 53, 84, 225}}, {{12, 53, 200, 205}}, {{12, 57, 106, 205}}, {{12, 57, 106, 232}}, {{12, 57, 200, 205}}, {{12, 57, 200, 210}}, {{12, 57, 210, 232}}, {{12, 68, 84, 210}}, {{12, 68, 84, 225}}, {{12, 68, 145, 225}}, {{12, 68, 145, 232}}, {{12, 68, 210, 232}}, {{12, 84, 200, 210}}, {{12, 106, 145, 232}}, {{14, 32, 76, 212}}, {{14, 32, 76, 245}}, {{14, 32, 151, 166}}, {{14, 32, 151, 212}}, {{14, 32, 166, 245}}, {{14, 47, 61, 166}}, {{14, 47, 61, 175}}, {{14, 47, 128, 175}}, {{14, 47, 128, 245}}, {{14, 47, 166, 245}}, {{14, 61, 136, 151}}, {{14, 61, 136, 175}}, {{14, 61, 151, 166}}, {{14, 76, 90, 128}}, {{14, 76, 90, 212}}, {{14, 76, 128, 245}}, {{14, 90, 128, 175}}, {{14, 90, 136, 175}}, {{14, 90, 136, 212}}, {{14, 136, 151, 212}}, {{17, 53, 84, 198}}, {{17, 53, 84, 225}}, {{17, 53, 90, 212}}, {{17, 53, 90, 225}}, {{17, 53, 198, 212}}, {{17, 76, 90, 155}}, {{17, 76, 90, 212}}, {{17, 76, 118, 163}}, {{17, 76, 118, 212}}, {{17, 76, 155, 163}}, {{17, 84, 225, 242}}, {{17, 90, 155, 225}}, {{17, 118, 198, 212}}, {{17, 155, 163, 242}}, {{17, 155, 225, 242}}, {{20, 40, 106, 183}}, {{20, 40, 106, 205}}, {{20, 40, 136, 175}}, {{20, 40, 136, 205}}, {{20, 40, 175, 183}}, {{20, 61, 136, 149}}, {{20, 61, 136, 175}}, {{20, 61, 175, 228}}, {{20, 95, 106, 124}}, {{20, 95, 106, 205}}, {{20, 95, 149, 205}}, {{20, 106, 124, 183}}, {{20, 124, 183, 228}}, {{20, 136, 149, 205}}, {{20, 175, 183, 228}}, {{27, 32, 54, 230}}, {{27, 32, 54, 232}}, {{27, 32, 151, 166}}, {{27, 32, 151, 230}}, {{27, 32, 166, 232}}, {{27, 54, 65, 145}}, {{27, 54, 65, 230}}, {{27, 54, 145, 232}}, {{27, 65, 112, 191}}, {{27, 65, 112, 230}}, {{27, 65, 145, 191}}, {{27, 68, 114, 166}}, {{27, 68, 114, 191}}, {{27, 68, 145, 191}}, {{27, 68, 145, 232}}, {{27, 68, 166, 232}}, {{27, 112, 114, 151}}, {{27, 112, 114, 191}}, {{27, 112, 151, 230}}, {{27, 114, 151, 166}}, {{31, 36, 47, 210}}, {{31, 36, 47, 214}}, {{31, 36, 79, 200}}, {{31, 36, 79, 214}}, {{31, 36, 200, 210}}, {{31, 47, 128, 214}}, {{31, 47, 128, 245}}, {{31, 47, 210, 245}}, {{31, 57, 134, 172}}, {{31, 57, 134, 245}}, {{31, 57, 172, 200}}, {{31, 57, 200, 210}}, {{31, 57, 210, 245}}, {{31, 79, 80, 172}}, {{31, 79, 80, 214}}, {{31, 79, 172, 200}}, {{31, 80, 128, 134}}, {{31, 80, 128, 214}}, {{31, 80, 134, 172}}, {{31, 128, 134, 245}}, {{32, 54, 118, 194}}, {{32, 54, 118, 230}}, {{32, 54, 194, 232}}, {{32, 76, 118, 194}}, {{32, 76, 118, 212}}, {{32, 76, 194, 245}}, {{32, 118, 212, 230}}, {{32, 151, 212, 230}}, {{32, 166, 232, 245}}, {{32, 194, 232, 245}}, {{36, 47, 214, 228}}, {{36, 79, 198, 200}}, {{36, 84, 198, 200}}, {{36, 84, 200, 210}}, {{40, 53, 90, 136}}, {{40, 53, 90, 225}}, {{40, 53, 136, 205}}, {{40, 90, 136, 175}}, {{40, 106, 145, 183}}, {{47, 61, 175, 228}}, {{47, 128, 175, 214}}, {{47, 166, 210, 245}}, {{47, 175, 214, 228}}, {{53, 84, 198, 200}}, {{53, 90, 136, 212}}, {{53, 122, 136, 205}}, {{53, 122, 136, 212}}, {{53, 122, 198, 200}}, {{53, 122, 198, 212}}, {{53, 122, 200, 205}}, {{54, 65, 145, 183}}, {{54, 106, 124, 183}}, {{54, 106, 124, 194}}, {{54, 106, 145, 183}}, {{54, 106, 145, 232}}, {{54, 106, 194, 232}}, {{54, 118, 124, 194}}, {{57, 95, 106, 194}}, {{57, 95, 106, 205}}, {{57, 95, 134, 172}}, {{57, 95, 134, 194}}, {{57, 95, 172, 205}}, {{57, 106, 194, 232}}, {{57, 134, 194, 245}}, {{57, 172, 200, 205}}, {{57, 194, 232, 245}}, {{57, 210, 232, 245}}, {{61, 114, 149, 151}}, {{61, 114, 151, 166}}, {{61, 136, 149, 151}}, {{65, 79, 80, 112}}, {{65, 79, 80, 214}}, {{65, 79, 112, 230}}, {{65, 80, 112, 191}}, {{68, 84, 225, 242}}, {{68, 114, 191, 242}}, {{68, 145, 191, 225}}, {{68, 166, 210, 232}}, {{68, 191, 225, 242}}, {{76, 90, 128, 155}}, {{76, 118, 163, 194}}, {{76, 128, 134, 155}}, {{76, 128, 134, 245}}, {{76, 134, 155, 163}}, {{76, 134, 163, 194}}, {{76, 134, 194, 245}}, {{79, 80, 112, 172}}, {{79, 112, 122, 172}}, {{79, 112, 122, 230}}, {{79, 122, 172, 200}}, {{79, 122, 198, 200}}, {{79, 122, 198, 230}}, {{80, 128, 134, 155}}, {{95, 106, 124, 194}}, {{95, 124, 163, 194}}, {{95, 134, 163, 194}}, {{95, 149, 172, 205}}, {{112, 114, 149, 151}}, {{112, 122, 149, 151}}, {{112, 122, 149, 172}}, {{112, 122, 151, 230}}, {{118, 124, 163, 194}}, {{118, 198, 212, 230}}, {{122, 136, 149, 151}}, {{122, 136, 149, 205}}, {{122, 136, 151, 212}}, {{122, 149, 172, 205}}, {{122, 151, 212, 230}}, {{122, 172, 200, 205}}, {{122, 198, 212, 230}}, {{155, 191, 225, 242}}, {{166, 210, 232, 245}}, {{175, 183, 214, 228}}},\n",
      "    VA {{{1, 54, 94, 203}}, {{1, 54, 94, 220}}, {{1, 54, 96, 115}}, {{1, 54, 96, 220}}, {{1, 54, 115, 203}}, {{1, 79, 94, 174}}, {{1, 79, 94, 203}}, {{1, 79, 123, 174}}, {{1, 79, 123, 190}}, {{1, 79, 190, 203}}, {{1, 82, 96, 220}}, {{1, 82, 96, 228}}, {{1, 82, 123, 174}}, {{1, 82, 123, 228}}, {{1, 82, 174, 220}}, {{1, 94, 174, 220}}, {{1, 96, 115, 228}}, {{1, 115, 190, 203}}, {{1, 115, 190, 228}}, {{1, 123, 190, 228}}, {{4, 38, 99, 131}}, {{4, 38, 99, 212}}, {{4, 38, 131, 166}}, {{4, 67, 128, 188}}, {{4, 67, 128, 193}}, {{4, 67, 166, 188}}, {{4, 99, 105, 120}}, {{4, 99, 105, 212}}, {{4, 99, 120, 131}}, {{4, 105, 120, 128}}, {{4, 105, 128, 193}}, {{4, 105, 193, 212}}, {{4, 120, 128, 188}}, {{4, 120, 131, 188}}, {{4, 131, 166, 188}}, {{11, 40, 48, 170}}, {{11, 40, 48, 176}}, {{11, 40, 146, 176}}, {{11, 48, 84, 176}}, {{11, 48, 84, 221}}, {{11, 48, 170, 221}}, {{11, 57, 70, 146}}, {{11, 57, 70, 152}}, {{11, 57, 137, 152}}, {{11, 70, 84, 152}}, {{11, 70, 84, 176}}, {{11, 70, 146, 176}}, {{11, 84, 152, 221}}, {{11, 137, 152, 221}}, {{11, 137, 170, 221}}, {{15, 35, 45, 163}}, {{15, 35, 108, 163}}, {{15, 35, 108, 191}}, {{15, 45, 149, 179}}, {{15, 45, 163, 179}}, {{15, 60, 71, 179}}, {{15, 60, 71, 197}}, {{15, 60, 108, 163}}, {{15, 60, 108, 197}}, {{15, 60, 163, 179}}, {{15, 71, 89, 149}}, {{15, 71, 89, 197}}, {{15, 71, 149, 179}}, {{15, 89, 191, 197}}, {{15, 108, 191, 197}}, {{18, 48, 84, 176}}, {{18, 48, 84, 190}}, {{18, 48, 89, 123}}, {{18, 48, 89, 176}}, {{18, 48, 123, 190}}, {{18, 79, 99, 120}}, {{18, 79, 99, 190}}, {{18, 79, 123, 190}}, {{18, 84, 99, 131}}, {{18, 84, 99, 190}}, {{18, 84, 131, 176}}, {{18, 89, 176, 191}}, {{18, 99, 120, 131}}, {{18, 120, 131, 191}}, {{18, 131, 176, 191}}, {{21, 35, 108, 163}}, {{21, 35, 108, 188}}, {{21, 35, 128, 137}}, {{21, 35, 128, 188}}, {{21, 35, 137, 163}}, {{21, 67, 96, 188}}, {{21, 67, 96, 228}}, {{21, 67, 128, 170}}, {{21, 67, 128, 188}}, {{21, 67, 170, 228}}, {{21, 96, 108, 115}}, {{21, 96, 108, 188}}, {{21, 96, 115, 228}}, {{21, 108, 115, 163}}, {{21, 115, 163, 221}}, {{21, 115, 221, 228}}, {{21, 128, 137, 170}}, {{21, 137, 163, 221}}, {{21, 137, 170, 221}}, {{21, 170, 221, 228}}, {{25, 40, 71, 193}}, {{25, 40, 71, 197}}, {{25, 40, 146, 197}}, {{25, 54, 60, 197}}, {{25, 54, 60, 203}}, {{25, 54, 94, 146}}, {{25, 54, 94, 203}}, {{25, 54, 146, 197}}, {{25, 60, 71, 197}}, {{25, 60, 71, 212}}, {{25, 60, 203, 212}}, {{25, 71, 193, 212}}, {{25, 94, 105, 203}}, {{25, 105, 193, 212}}, {{25, 105, 203, 212}}, {{29, 38, 70, 152}}, {{29, 38, 70, 166}}, {{29, 38, 152, 179}}, {{29, 45, 57, 152}}, {{29, 45, 57, 174}}, {{29, 45, 149, 174}}, {{29, 45, 149, 179}}, {{29, 45, 152, 179}}, {{29, 57, 70, 152}}, {{29, 57, 70, 220}}, {{29, 57, 174, 220}}, {{29, 70, 166, 220}}, {{29, 82, 149, 174}}, {{29, 82, 166, 220}}, {{29, 82, 174, 220}}, {{35, 45, 137, 138}}, {{35, 45, 137, 163}}, {{35, 108, 188, 191}}, {{35, 120, 128, 138}}, {{35, 120, 128, 188}}, {{35, 120, 188, 191}}, {{35, 128, 137, 138}}, {{38, 70, 84, 131}}, {{38, 70, 84, 152}}, {{38, 70, 131, 166}}, {{38, 84, 99, 131}}, {{38, 84, 99, 237}}, {{38, 84, 152, 237}}, {{38, 99, 212, 237}}, {{38, 152, 179, 237}}, {{38, 179, 212, 237}}, {{40, 48, 89, 161}}, {{40, 48, 89, 176}}, {{40, 48, 161, 170}}, {{40, 71, 89, 161}}, {{40, 71, 89, 197}}, {{40, 71, 161, 193}}, {{40, 89, 176, 197}}, {{40, 146, 176, 197}}, {{40, 161, 170, 193}}, {{45, 57, 137, 138}}, {{45, 57, 137, 152}}, {{45, 57, 138, 174}}, {{45, 137, 152, 163}}, {{45, 152, 163, 179}}, {{48, 84, 190, 221}}, {{48, 89, 123, 161}}, {{48, 123, 161, 228}}, {{48, 123, 190, 228}}, {{48, 161, 170, 228}}, {{48, 170, 221, 228}}, {{48, 190, 221, 228}}, {{54, 60, 108, 115}}, {{54, 60, 108, 197}}, {{54, 60, 115, 203}}, {{54, 94, 146, 220}}, {{54, 96, 108, 115}}, {{54, 96, 108, 235}}, {{54, 96, 220, 235}}, {{54, 108, 197, 235}}, {{54, 146, 197, 235}}, {{54, 146, 220, 235}}, {{57, 70, 146, 220}}, {{57, 94, 138, 174}}, {{57, 94, 146, 220}}, {{57, 94, 174, 220}}, {{60, 71, 179, 212}}, {{60, 108, 115, 163}}, {{60, 115, 163, 237}}, {{60, 115, 203, 237}}, {{60, 163, 179, 237}}, {{60, 179, 212, 237}}, {{60, 203, 212, 237}}, {{67, 82, 96, 166}}, {{67, 82, 96, 228}}, {{67, 82, 161, 228}}, {{67, 96, 166, 188}}, {{67, 128, 170, 193}}, {{67, 161, 170, 193}}, {{67, 161, 170, 228}}, {{70, 84, 131, 176}}, {{70, 131, 166, 235}}, {{70, 131, 176, 235}}, {{70, 146, 176, 235}}, {{70, 146, 220, 235}}, {{70, 166, 220, 235}}, {{71, 89, 149, 161}}, {{79, 94, 105, 138}}, {{79, 94, 105, 203}}, {{79, 94, 138, 174}}, {{79, 99, 105, 120}}, {{79, 99, 105, 203}}, {{79, 99, 190, 203}}, {{79, 105, 120, 138}}, {{82, 96, 166, 220}}, {{82, 123, 149, 161}}, {{82, 123, 149, 174}}, {{82, 123, 161, 228}}, {{84, 99, 190, 237}}, {{84, 152, 221, 237}}, {{84, 190, 221, 237}}, {{89, 123, 149, 161}}, {{89, 176, 191, 197}}, {{96, 108, 188, 235}}, {{96, 166, 188, 235}}, {{96, 166, 220, 235}}, {{99, 105, 203, 212}}, {{99, 190, 203, 237}}, {{99, 203, 212, 237}}, {{105, 120, 128, 138}}, {{108, 188, 191, 235}}, {{108, 191, 197, 235}}, {{115, 163, 221, 237}}, {{115, 190, 203, 237}}, {{115, 190, 221, 228}}, {{115, 190, 221, 237}}, {{120, 131, 188, 191}}, {{131, 166, 188, 235}}, {{131, 176, 191, 235}}, {{131, 188, 191, 235}}, {{137, 152, 163, 221}}, {{146, 176, 197, 235}}, {{152, 163, 179, 237}}, {{152, 163, 221, 237}}, {{176, 191, 197, 235}}},\n",
      "    VA {{{1, 46, 80, 150}}, {{1, 46, 80, 211}}, {{1, 46, 113, 211}}, {{1, 46, 113, 245}}, {{1, 46, 150, 245}}, {{1, 77, 95, 127}}, {{1, 77, 95, 189}}, {{1, 77, 113, 189}}, {{1, 77, 113, 211}}, {{1, 77, 127, 211}}, {{1, 80, 127, 196}}, {{1, 80, 127, 211}}, {{1, 80, 150, 196}}, {{1, 95, 127, 196}}, {{1, 113, 189, 245}}, {{6, 34, 105, 125}}, {{6, 34, 105, 180}}, {{6, 34, 125, 242}}, {{6, 34, 146, 180}}, {{6, 34, 146, 242}}, {{6, 61, 98, 105}}, {{6, 61, 98, 131}}, {{6, 61, 105, 125}}, {{6, 61, 125, 224}}, {{6, 61, 131, 224}}, {{6, 90, 98, 131}}, {{6, 90, 98, 180}}, {{6, 90, 131, 209}}, {{6, 90, 146, 180}}, {{6, 90, 146, 209}}, {{6, 98, 105, 180}}, {{6, 125, 224, 242}}, {{6, 131, 209, 224}}, {{6, 146, 209, 242}}, {{6, 209, 224, 242}}, {{9, 36, 78, 158}}, {{9, 36, 78, 184}}, {{9, 36, 137, 142}}, {{9, 36, 137, 158}}, {{9, 36, 142, 184}}, {{9, 48, 118, 142}}, {{9, 48, 118, 201}}, {{9, 48, 122, 184}}, {{9, 48, 122, 201}}, {{9, 48, 142, 184}}, {{9, 67, 78, 122}}, {{9, 67, 78, 158}}, {{9, 67, 122, 201}}, {{9, 67, 158, 219}}, {{9, 67, 201, 219}}, {{9, 78, 122, 184}}, {{9, 118, 137, 142}}, {{9, 118, 137, 219}}, {{9, 118, 201, 219}}, {{9, 137, 158, 219}}, {{12, 42, 108, 148}}, {{12, 42, 108, 168}}, {{12, 42, 148, 156}}, {{12, 42, 156, 237}}, {{12, 42, 168, 237}}, {{12, 50, 59, 178}}, {{12, 50, 59, 237}}, {{12, 50, 85, 168}}, {{12, 50, 85, 178}}, {{12, 50, 168, 237}}, {{12, 59, 71, 156}}, {{12, 59, 71, 178}}, {{12, 59, 156, 237}}, {{12, 71, 148, 156}}, {{12, 71, 148, 171}}, {{12, 71, 171, 178}}, {{12, 85, 108, 168}}, {{12, 85, 108, 171}}, {{12, 85, 171, 178}}, {{12, 108, 148, 171}}, {{16, 85, 108, 168}}, {{16, 85, 108, 245}}, {{16, 85, 137, 142}}, {{16, 85, 137, 168}}, {{16, 85, 142, 245}}, {{16, 90, 108, 150}}, {{16, 90, 108, 168}}, {{16, 90, 146, 150}}, {{16, 90, 146, 180}}, {{16, 90, 168, 180}}, {{16, 108, 150, 245}}, {{16, 118, 137, 142}}, {{16, 118, 137, 180}}, {{16, 118, 146, 180}}, {{16, 137, 168, 180}}, {{24, 42, 98, 131}}, {{24, 42, 98, 237}}, {{24, 42, 122, 131}}, {{24, 42, 122, 156}}, {{24, 42, 156, 237}}, {{24, 48, 95, 156}}, {{24, 48, 95, 189}}, {{24, 48, 122, 156}}, {{24, 48, 122, 184}}, {{24, 48, 184, 189}}, {{24, 61, 77, 98}}, {{24, 61, 77, 189}}, {{24, 61, 98, 131}}, {{24, 61, 131, 184}}, {{24, 61, 184, 189}}, {{24, 77, 95, 189}}, {{24, 77, 95, 237}}, {{24, 77, 98, 237}}, {{24, 95, 156, 237}}, {{24, 122, 131, 184}}, {{27, 34, 71, 125}}, {{27, 34, 71, 201}}, {{27, 34, 105, 125}}, {{27, 34, 105, 219}}, {{27, 34, 201, 219}}, {{27, 46, 67, 148}}, {{27, 46, 67, 211}}, {{27, 46, 113, 171}}, {{27, 46, 113, 211}}, {{27, 46, 148, 171}}, {{27, 67, 148, 201}}, {{27, 67, 201, 219}}, {{27, 67, 211, 219}}, {{27, 71, 125, 171}}, {{27, 71, 148, 171}}, {{27, 71, 148, 201}}, {{27, 105, 113, 125}}, {{27, 105, 113, 211}}, {{27, 105, 211, 219}}, {{27, 113, 125, 171}}, {{29, 36, 50, 158}}, {{29, 36, 50, 178}}, {{29, 36, 78, 158}}, {{29, 36, 78, 224}}, {{29, 36, 178, 224}}, {{29, 50, 59, 127}}, {{29, 50, 59, 178}}, {{29, 50, 127, 158}}, {{29, 59, 127, 196}}, {{29, 59, 178, 242}}, {{29, 59, 196, 242}}, {{29, 78, 80, 158}}, {{29, 78, 80, 209}}, {{29, 78, 209, 224}}, {{29, 80, 127, 158}}, {{29, 80, 127, 196}}, {{29, 80, 196, 209}}, {{29, 178, 224, 242}}, {{29, 196, 209, 242}}, {{29, 209, 224, 242}}, {{34, 71, 103, 201}}, {{34, 71, 103, 242}}, {{34, 71, 125, 242}}, {{34, 103, 118, 146}}, {{34, 103, 118, 201}}, {{34, 103, 146, 242}}, {{34, 105, 180, 219}}, {{34, 118, 146, 180}}, {{34, 118, 180, 219}}, {{34, 118, 201, 219}}, {{36, 50, 85, 137}}, {{36, 50, 85, 178}}, {{36, 50, 137, 158}}, {{36, 78, 184, 224}}, {{36, 85, 137, 142}}, {{42, 90, 98, 131}}, {{42, 90, 98, 168}}, {{42, 90, 108, 168}}, {{42, 98, 168, 237}}, {{42, 122, 148, 156}}, {{46, 67, 80, 211}}, {{46, 108, 148, 171}}, {{46, 108, 150, 245}}, {{46, 108, 171, 245}}, {{46, 113, 171, 245}}, {{48, 95, 103, 156}}, {{48, 103, 118, 201}}, {{48, 103, 156, 201}}, {{48, 122, 156, 201}}, {{48, 142, 184, 189}}, {{50, 59, 127, 237}}, {{50, 85, 137, 168}}, {{50, 127, 158, 183}}, {{50, 127, 183, 237}}, {{50, 137, 158, 183}}, {{50, 137, 168, 183}}, {{50, 168, 183, 237}}, {{59, 71, 103, 156}}, {{59, 71, 103, 242}}, {{59, 71, 178, 242}}, {{59, 95, 103, 156}}, {{59, 95, 103, 196}}, {{59, 95, 127, 196}}, {{59, 95, 127, 237}}, {{59, 95, 156, 237}}, {{59, 103, 196, 242}}, {{61, 77, 98, 105}}, {{61, 77, 105, 113}}, {{61, 77, 113, 189}}, {{61, 105, 113, 125}}, {{61, 131, 184, 224}}, {{67, 78, 80, 158}}, {{67, 80, 158, 211}}, {{67, 122, 148, 201}}, {{67, 158, 211, 219}}, {{71, 103, 156, 201}}, {{71, 125, 171, 178}}, {{71, 125, 178, 242}}, {{71, 148, 156, 201}}, {{77, 95, 127, 237}}, {{77, 98, 105, 183}}, {{77, 98, 183, 237}}, {{77, 105, 113, 211}}, {{77, 105, 183, 211}}, {{77, 127, 183, 211}}, {{77, 127, 183, 237}}, {{78, 122, 131, 184}}, {{78, 131, 184, 224}}, {{78, 131, 209, 224}}, {{80, 127, 158, 211}}, {{80, 150, 196, 209}}, {{85, 108, 171, 245}}, {{90, 98, 168, 180}}, {{90, 146, 150, 209}}, {{98, 105, 180, 183}}, {{98, 168, 180, 183}}, {{98, 168, 183, 237}}, {{103, 146, 196, 242}}, {{105, 180, 183, 219}}, {{105, 183, 211, 219}}, {{118, 137, 180, 219}}, {{122, 148, 156, 201}}, {{125, 178, 224, 242}}, {{127, 158, 183, 211}}, {{137, 158, 183, 219}}, {{137, 168, 180, 183}}, {{137, 180, 183, 219}}, {{142, 189, 245, FACETS}}, {{146, 150, 196, 209}}, {{146, 196, 209, 242}}, {{158, 183, 211, 219}}},\n",
      "    VA {{{3, 48, 103, 156}}, {{3, 48, 103, 232}}, {{3, 48, 114, 121}}, {{3, 48, 114, 156}}, {{3, 48, 121, 232}}, {{3, 75, 82, 103}}, {{3, 75, 82, 230}}, {{3, 75, 92, 230}}, {{3, 75, 92, 232}}, {{3, 75, 103, 232}}, {{3, 82, 103, 156}}, {{3, 82, 132, 156}}, {{3, 82, 132, 230}}, {{3, 92, 121, 193}}, {{3, 92, 121, 232}}, {{3, 92, 193, 230}}, {{3, 114, 121, 193}}, {{3, 114, 132, 156}}, {{3, 114, 132, 193}}, {{3, 132, 193, 230}}, {{6, 35, 98, 205}}, {{6, 35, 98, 227}}, {{6, 35, 124, 135}}, {{6, 35, 124, 227}}, {{6, 35, 135, 205}}, {{6, 61, 98, 105}}, {{6, 61, 98, 227}}, {{6, 61, 105, 182}}, {{6, 88, 105, 182}}, {{6, 88, 105, 205}}, {{6, 88, 135, 174}}, {{6, 88, 135, 205}}, {{6, 88, 174, 182}}, {{6, 98, 105, 205}}, {{6, 124, 135, 174}}, {{8, 36, 50, 220}}, {{8, 36, 50, 226}}, {{8, 36, 73, 176}}, {{8, 36, 73, 220}}, {{8, 36, 176, 226}}, {{8, 50, 64, 172}}, {{8, 50, 64, 220}}, {{8, 50, 172, 226}}, {{8, 64, 108, 139}}, {{8, 64, 108, 172}}, {{8, 64, 139, 220}}, {{8, 73, 139, 220}}, {{8, 73, 139, 245}}, {{8, 73, 176, 245}}, {{8, 108, 119, 172}}, {{8, 108, 119, 245}}, {{8, 108, 139, 245}}, {{8, 119, 172, 226}}, {{8, 119, 176, 226}}, {{8, 119, 176, 245}}, {{10, 41, 46, 192}}, {{10, 41, 46, 212}}, {{10, 41, 69, 201}}, {{10, 41, 69, 212}}, {{10, 41, 192, 201}}, {{10, 46, 58, 163}}, {{10, 46, 58, 212}}, {{10, 46, 163, 192}}, {{10, 58, 158, 212}}, {{10, 58, 158, 244}}, {{10, 58, 163, 244}}, {{10, 69, 84, 158}}, {{10, 69, 84, 201}}, {{10, 69, 158, 212}}, {{10, 84, 158, 244}}, {{18, 48, 84, 176}}, {{18, 48, 84, 201}}, {{18, 48, 103, 201}}, {{18, 48, 103, 232}}, {{18, 48, 176, 232}}, {{18, 69, 84, 201}}, {{18, 69, 84, 226}}, {{18, 69, 88, 201}}, {{18, 69, 88, 205}}, {{18, 69, 205, 226}}, {{18, 84, 176, 226}}, {{18, 88, 103, 135}}, {{18, 88, 103, 201}}, {{18, 88, 135, 205}}, {{18, 103, 135, 232}}, {{18, 119, 135, 205}}, {{18, 119, 135, 232}}, {{18, 119, 176, 226}}, {{18, 119, 176, 232}}, {{18, 119, 205, 226}}, {{21, 35, 98, 172}}, {{21, 35, 98, 227}}, {{21, 35, 108, 163}}, {{21, 35, 108, 172}}, {{21, 35, 163, 227}}, {{21, 64, 108, 172}}, {{21, 64, 108, 192}}, {{21, 64, 132, 156}}, {{21, 64, 132, 172}}, {{21, 64, 156, 192}}, {{21, 98, 114, 132}}, {{21, 98, 114, 227}}, {{21, 98, 132, 172}}, {{21, 108, 163, 192}}, {{21, 114, 132, 156}}, {{25, 41, 46, 139}}, {{25, 41, 46, 212}}, {{25, 41, 105, 182}}, {{25, 41, 105, 212}}, {{25, 41, 139, 182}}, {{25, 46, 92, 212}}, {{25, 46, 92, 245}}, {{25, 46, 139, 245}}, {{25, 61, 73, 121}}, {{25, 61, 73, 182}}, {{25, 61, 105, 182}}, {{25, 61, 105, 193}}, {{25, 61, 121, 193}}, {{25, 73, 121, 245}}, {{25, 73, 139, 182}}, {{25, 73, 139, 245}}, {{25, 92, 121, 193}}, {{25, 92, 121, 245}}, {{25, 92, 193, 212}}, {{25, 105, 193, 212}}, {{29, 36, 50, 158}}, {{29, 36, 50, 220}}, {{29, 36, 158, 244}}, {{29, 50, 82, 220}}, {{29, 50, 82, 230}}, {{29, 50, 158, 230}}, {{29, 58, 75, 124}}, {{29, 58, 75, 230}}, {{29, 58, 124, 244}}, {{29, 58, 158, 230}}, {{29, 58, 158, 244}}, {{29, 75, 82, 174}}, {{29, 75, 82, 230}}, {{29, 75, 124, 174}}, {{29, 82, 174, 220}}, {{35, 98, 172, 205}}, {{35, 108, 119, 150}}, {{35, 108, 119, 172}}, {{35, 108, 150, 163}}, {{35, 119, 135, 150}}, {{35, 119, 135, 205}}, {{35, 119, 172, 205}}, {{35, 124, 135, 150}}, {{35, 124, 150, 163}}, {{35, 124, 163, 227}}, {{36, 50, 158, 226}}, {{36, 73, 176, 246}}, {{36, 84, 158, 226}}, {{36, 84, 158, 244}}, {{36, 84, 176, 226}}, {{36, 84, 176, 246}}, {{36, 84, 244, 246}}, {{41, 46, 139, 192}}, {{41, 69, 88, 105}}, {{41, 69, 88, 201}}, {{41, 69, 105, 212}}, {{41, 88, 105, 182}}, {{41, 88, 182, 247}}, {{41, 88, 201, 247}}, {{41, 139, 182, 247}}, {{41, 139, 192, 247}}, {{41, 192, 201, 247}}, {{46, 58, 92, 150}}, {{46, 58, 92, 212}}, {{46, 58, 150, 163}}, {{46, 92, 150, 245}}, {{46, 108, 139, 192}}, {{46, 108, 139, 245}}, {{46, 108, 150, 163}}, {{46, 108, 150, 245}}, {{46, 108, 163, 192}}, {{48, 84, 176, 246}}, {{48, 103, 156, 201}}, {{48, 114, 121, 246}}, {{48, 121, 176, 232}}, {{48, 121, 176, 246}}, {{50, 64, 82, 132}}, {{50, 64, 82, 220}}, {{50, 64, 132, 172}}, {{50, 82, 132, 230}}, {{50, 132, 167, 172}}, {{50, 132, 167, 230}}, {{50, 158, 167, 226}}, {{50, 158, 167, 230}}, {{50, 167, 172, 226}}, {{58, 75, 92, 150}}, {{58, 75, 92, 230}}, {{58, 75, 124, 150}}, {{58, 92, 212, 230}}, {{58, 124, 150, 163}}, {{58, 124, 163, 244}}, {{58, 158, 212, 230}}, {{61, 73, 121, 246}}, {{61, 98, 105, 193}}, {{61, 98, 114, 193}}, {{61, 98, 114, 227}}, {{61, 114, 121, 193}}, {{61, 114, 121, 246}}, {{61, 114, 227, 246}}, {{64, 82, 132, 156}}, {{64, 82, 156, 247}}, {{64, 82, 220, 247}}, {{64, 108, 139, 192}}, {{64, 139, 192, 247}}, {{64, 139, 220, 247}}, {{64, 156, 192, 247}}, {{69, 84, 158, 226}}, {{69, 88, 105, 205}}, {{69, 105, 167, 205}}, {{69, 105, 167, 212}}, {{69, 158, 167, 212}}, {{69, 158, 167, 226}}, {{69, 167, 205, 226}}, {{73, 121, 176, 245}}, {{73, 121, 176, 246}}, {{73, 139, 182, 220}}, {{75, 82, 103, 174}}, {{75, 92, 150, 232}}, {{75, 103, 135, 174}}, {{75, 103, 135, 232}}, {{75, 124, 135, 150}}, {{75, 124, 135, 174}}, {{75, 135, 150, 232}}, {{82, 103, 156, 247}}, {{82, 103, 174, 247}}, {{82, 174, 220, 247}}, {{88, 103, 135, 174}}, {{88, 103, 174, 247}}, {{88, 103, 201, 247}}, {{88, 174, 182, 247}}, {{92, 121, 232, 245}}, {{92, 150, 232, 245}}, {{92, 193, 212, 230}}, {{98, 105, 167, 193}}, {{98, 105, 167, 205}}, {{98, 114, 132, 193}}, {{98, 132, 167, 172}}, {{98, 132, 167, 193}}, {{98, 167, 172, 205}}, {{103, 156, 201, 247}}, {{105, 167, 193, 212}}, {{108, 119, 150, 245}}, {{119, 135, 150, 232}}, {{119, 150, 232, 245}}, {{119, 172, 205, 226}}, {{119, 176, 232, 245}}, {{121, 176, 232, 245}}, {{124, 163, 227, 244}}, {{132, 167, 193, 230}}, {{139, 182, 220, 247}}, {{156, 192, 201, 247}}, {{158, 167, 212, 230}}, {{167, 172, 205, 226}}, {{167, 193, 212, 230}}, {{174, 182, 220, 247}}, {{227, 244, 246, FACETS}}},\n",
      "    VA {{{3, 44, 113, 188}}, {{3, 44, 113, 197}}, {{3, 44, 183, 188}}, {{3, 44, 183, 216}}, {{3, 44, 197, 216}}, {{3, 70, 81, 143}}, {{3, 70, 81, 183}}, {{3, 70, 95, 143}}, {{3, 70, 95, 216}}, {{3, 70, 183, 216}}, {{3, 81, 136, 143}}, {{3, 81, 136, 188}}, {{3, 81, 183, 188}}, {{3, 95, 143, 177}}, {{3, 95, 177, 197}}, {{3, 95, 197, 216}}, {{3, 113, 136, 177}}, {{3, 113, 136, 188}}, {{3, 113, 177, 197}}, {{3, 136, 143, 177}}, {{6, 32, 133, 152}}, {{6, 32, 133, 190}}, {{6, 32, 190, 233}}, {{6, 60, 112, 162}}, {{6, 60, 112, 233}}, {{6, 60, 162, 218}}, {{6, 91, 112, 162}}, {{6, 91, 112, 190}}, {{6, 91, 133, 145}}, {{6, 91, 133, 190}}, {{6, 91, 145, 162}}, {{6, 112, 190, 233}}, {{6, 133, 145, 152}}, {{6, 145, 152, 218}}, {{6, 145, 162, 218}}, {{8, 37, 53, 104}}, {{8, 37, 53, 123}}, {{8, 37, 71, 104}}, {{8, 37, 71, 147}}, {{8, 37, 123, 147}}, {{8, 53, 67, 104}}, {{8, 53, 67, 160}}, {{8, 53, 123, 160}}, {{8, 67, 104, 155}}, {{8, 67, 110, 155}}, {{8, 67, 110, 160}}, {{8, 71, 104, 155}}, {{8, 71, 147, 234}}, {{8, 71, 155, 234}}, {{8, 110, 118, 160}}, {{8, 110, 118, 234}}, {{8, 110, 155, 234}}, {{8, 118, 123, 147}}, {{8, 118, 123, 160}}, {{8, 118, 147, 234}}, {{10, 42, 51, 101}}, {{10, 42, 51, 128}}, {{10, 42, 79, 101}}, {{10, 42, 79, 140}}, {{10, 42, 128, 140}}, {{10, 51, 57, 101}}, {{10, 51, 57, 184}}, {{10, 51, 128, 184}}, {{10, 57, 101, 208}}, {{10, 79, 85, 140}}, {{10, 79, 85, 208}}, {{10, 79, 101, 208}}, {{10, 85, 140, 236}}, {{10, 128, 140, 236}}, {{10, 128, 184, 236}}, {{18, 44, 85, 140}}, {{18, 44, 85, 147}}, {{18, 44, 140, 183}}, {{18, 44, 147, 216}}, {{18, 44, 183, 216}}, {{18, 79, 85, 123}}, {{18, 79, 85, 140}}, {{18, 79, 91, 140}}, {{18, 79, 91, 190}}, {{18, 79, 123, 190}}, {{18, 85, 123, 147}}, {{18, 91, 133, 183}}, {{18, 91, 133, 190}}, {{18, 91, 140, 183}}, {{18, 118, 123, 147}}, {{18, 118, 123, 190}}, {{18, 118, 133, 190}}, {{18, 118, 133, 216}}, {{18, 118, 147, 216}}, {{18, 133, 183, 216}}, {{21, 32, 110, 160}}, {{21, 32, 110, 184}}, {{21, 32, 160, 233}}, {{21, 67, 110, 128}}, {{21, 67, 110, 160}}, {{21, 67, 128, 188}}, {{21, 67, 136, 160}}, {{21, 67, 136, 188}}, {{21, 110, 128, 184}}, {{21, 113, 136, 188}}, {{21, 113, 136, 233}}, {{21, 113, 188, 236}}, {{21, 128, 184, 236}}, {{21, 128, 188, 236}}, {{21, 136, 160, 233}}, {{25, 42, 51, 101}}, {{25, 42, 51, 155}}, {{25, 42, 101, 112}}, {{25, 42, 112, 162}}, {{25, 42, 155, 162}}, {{25, 51, 95, 101}}, {{25, 51, 95, 234}}, {{25, 51, 155, 234}}, {{25, 60, 71, 162}}, {{25, 60, 71, 197}}, {{25, 60, 112, 162}}, {{25, 60, 112, 177}}, {{25, 60, 177, 197}}, {{25, 71, 155, 162}}, {{25, 71, 155, 234}}, {{25, 71, 197, 234}}, {{25, 95, 101, 177}}, {{25, 95, 177, 197}}, {{25, 95, 197, 234}}, {{25, 101, 112, 177}}, {{29, 37, 53, 104}}, {{29, 37, 53, 208}}, {{29, 37, 104, 218}}, {{29, 53, 81, 104}}, {{29, 53, 81, 143}}, {{29, 53, 143, 208}}, {{29, 57, 70, 143}}, {{29, 57, 70, 152}}, {{29, 57, 143, 208}}, {{29, 70, 81, 143}}, {{29, 70, 81, 145}}, {{29, 70, 145, 152}}, {{29, 81, 104, 145}}, {{29, 104, 145, 218}}, {{29, 145, 152, 218}}, {{32, 110, 118, 160}}, {{32, 110, 118, 167}}, {{32, 110, 167, 184}}, {{32, 118, 133, 167}}, {{32, 118, 133, 190}}, {{32, 118, 160, 190}}, {{32, 133, 152, 167}}, {{32, 152, 167, 184}}, {{32, 160, 190, 233}}, {{37, 53, 123, 208}}, {{37, 71, 104, 218}}, {{37, 71, 147, 247}}, {{37, 71, 218, 247}}, {{37, 85, 123, 147}}, {{37, 85, 123, 208}}, {{37, 85, 147, 247}}, {{42, 51, 128, 155}}, {{42, 79, 91, 112}}, {{42, 79, 91, 140}}, {{42, 79, 101, 112}}, {{42, 91, 112, 162}}, {{42, 91, 140, 246}}, {{42, 91, 162, 246}}, {{42, 128, 140, 246}}, {{42, 128, 155, 246}}, {{42, 155, 162, 246}}, {{44, 85, 140, 236}}, {{44, 85, 147, 247}}, {{44, 85, 236, 247}}, {{44, 113, 188, 236}}, {{44, 113, 197, 247}}, {{44, 113, 236, 247}}, {{44, 140, 183, 188}}, {{44, 140, 188, 236}}, {{44, 147, 197, 216}}, {{44, 147, 197, 247}}, {{51, 57, 95, 101}}, {{51, 57, 95, 167}}, {{51, 57, 167, 184}}, {{51, 95, 167, 234}}, {{51, 110, 128, 155}}, {{51, 110, 128, 184}}, {{51, 110, 155, 234}}, {{51, 110, 167, 184}}, {{51, 110, 167, 234}}, {{53, 67, 81, 104}}, {{53, 67, 81, 136}}, {{53, 67, 136, 160}}, {{53, 81, 136, 143}}, {{53, 123, 150, 160}}, {{53, 123, 150, 208}}, {{53, 136, 143, 150}}, {{53, 136, 150, 160}}, {{53, 143, 150, 208}}, {{57, 70, 95, 143}}, {{57, 70, 95, 167}}, {{57, 70, 152, 167}}, {{57, 95, 101, 143}}, {{57, 101, 143, 208}}, {{57, 152, 167, 184}}, {{60, 71, 162, 218}}, {{60, 71, 197, 247}}, {{60, 71, 218, 247}}, {{60, 112, 177, 233}}, {{60, 113, 177, 197}}, {{60, 113, 177, 233}}, {{60, 113, 197, 247}}, {{67, 81, 104, 246}}, {{67, 81, 136, 188}}, {{67, 81, 188, 246}}, {{67, 104, 155, 246}}, {{67, 110, 128, 155}}, {{67, 128, 155, 246}}, {{67, 128, 188, 246}}, {{70, 81, 145, 183}}, {{70, 95, 167, 216}}, {{70, 133, 145, 152}}, {{70, 133, 145, 183}}, {{70, 133, 152, 167}}, {{70, 133, 167, 216}}, {{70, 133, 183, 216}}, {{71, 104, 155, 162}}, {{71, 104, 162, 218}}, {{71, 147, 197, 234}}, {{71, 147, 197, 247}}, {{79, 85, 123, 208}}, {{79, 91, 112, 190}}, {{79, 101, 112, 150}}, {{79, 101, 150, 208}}, {{79, 112, 150, 190}}, {{79, 123, 150, 190}}, {{79, 123, 150, 208}}, {{81, 104, 145, 246}}, {{81, 145, 183, 246}}, {{81, 183, 188, 246}}, {{91, 133, 145, 183}}, {{91, 140, 183, 246}}, {{91, 145, 162, 246}}, {{91, 145, 183, 246}}, {{95, 101, 143, 177}}, {{95, 167, 216, 234}}, {{95, 197, 216, 234}}, {{101, 112, 150, 177}}, {{101, 143, 150, 177}}, {{101, 143, 150, 208}}, {{104, 145, 162, 218}}, {{104, 145, 162, 246}}, {{104, 155, 162, 246}}, {{110, 118, 167, 234}}, {{112, 150, 177, 233}}, {{112, 150, 190, 233}}, {{113, 136, 177, 233}}, {{118, 123, 160, 190}}, {{118, 133, 167, 216}}, {{118, 147, 216, 234}}, {{118, 167, 216, 234}}, {{123, 150, 160, 190}}, {{128, 140, 188, 236}}, {{128, 140, 188, 246}}, {{136, 143, 150, 177}}, {{136, 150, 160, 233}}, {{136, 150, 177, 233}}, {{140, 183, 188, 246}}, {{147, 197, 216, 234}}, {{150, 160, 190, 233}}},\n",
      "    VA {{{3, 49, 93, 125}}, {{3, 49, 93, 225}}, {{3, 49, 97, 171}}, {{3, 49, 97, 225}}, {{3, 49, 125, 171}}, {{3, 76, 83, 97}}, {{3, 76, 83, 177}}, {{3, 76, 97, 171}}, {{3, 76, 113, 171}}, {{3, 76, 113, 177}}, {{3, 83, 97, 225}}, {{3, 83, 177, 241}}, {{3, 83, 225, 241}}, {{3, 93, 125, 136}}, {{3, 93, 136, 241}}, {{3, 93, 225, 241}}, {{3, 113, 125, 136}}, {{3, 113, 125, 171}}, {{3, 113, 136, 177}}, {{3, 136, 177, 241}}, {{5, 41, 104, 187}}, {{5, 41, 104, 194}}, {{5, 41, 123, 134}}, {{5, 41, 123, 187}}, {{5, 41, 134, 194}}, {{5, 58, 104, 187}}, {{5, 58, 104, 218}}, {{5, 58, 107, 142}}, {{5, 58, 107, 187}}, {{5, 58, 142, 218}}, {{5, 85, 107, 123}}, {{5, 85, 107, 142}}, {{5, 85, 123, 134}}, {{5, 85, 134, 245}}, {{5, 85, 142, 245}}, {{5, 104, 194, 218}}, {{5, 107, 123, 187}}, {{5, 134, 194, 245}}, {{5, 142, 218, 245}}, {{5, 194, 218, 245}}, {{7, 36, 51, 198}}, {{7, 36, 51, 224}}, {{7, 36, 79, 178}}, {{7, 36, 79, 198}}, {{7, 36, 178, 224}}, {{7, 51, 64, 169}}, {{7, 51, 64, 198}}, {{7, 51, 169, 224}}, {{7, 64, 138, 162}}, {{7, 64, 138, 198}}, {{7, 64, 162, 169}}, {{7, 79, 120, 138}}, {{7, 79, 120, 178}}, {{7, 79, 138, 198}}, {{7, 120, 138, 162}}, {{15, 35, 45, 189}}, {{15, 35, 45, 252}}, {{15, 35, 68, 189}}, {{15, 35, 68, 191}}, {{15, 35, 191, 252}}, {{15, 45, 61, 149}}, {{15, 45, 61, 189}}, {{15, 45, 149, 252}}, {{15, 61, 110, 149}}, {{15, 61, 110, 184}}, {{15, 61, 184, 189}}, {{15, 68, 167, 184}}, {{15, 68, 167, 191}}, {{15, 68, 184, 189}}, {{15, 89, 110, 149}}, {{15, 89, 110, 167}}, {{15, 89, 149, 252}}, {{15, 89, 167, 191}}, {{15, 89, 191, 252}}, {{15, 110, 167, 184}}, {{18, 49, 97, 171}}, {{18, 49, 97, 191}}, {{18, 49, 120, 178}}, {{18, 49, 120, 191}}, {{18, 49, 171, 178}}, {{18, 79, 85, 123}}, {{18, 79, 85, 178}}, {{18, 79, 120, 178}}, {{18, 79, 120, 252}}, {{18, 79, 123, 252}}, {{18, 85, 123, 134}}, {{18, 85, 134, 171}}, {{18, 85, 171, 178}}, {{18, 89, 97, 134}}, {{18, 89, 97, 191}}, {{18, 89, 123, 134}}, {{18, 89, 123, 252}}, {{18, 89, 191, 252}}, {{18, 97, 134, 171}}, {{18, 120, 191, 252}}, {{20, 41, 104, 169}}, {{20, 41, 104, 187}}, {{20, 41, 110, 149}}, {{20, 41, 110, 169}}, {{20, 41, 149, 187}}, {{20, 61, 110, 149}}, {{20, 61, 110, 224}}, {{20, 61, 125, 136}}, {{20, 61, 125, 224}}, {{20, 61, 136, 149}}, {{20, 93, 104, 187}}, {{20, 93, 125, 136}}, {{20, 93, 136, 187}}, {{20, 110, 169, 224}}, {{20, 136, 149, 187}}, {{26, 35, 45, 138}}, {{26, 35, 45, 189}}, {{26, 35, 138, 162}}, {{26, 35, 162, 218}}, {{26, 35, 189, 218}}, {{26, 45, 113, 177}}, {{26, 45, 113, 189}}, {{26, 45, 138, 177}}, {{26, 64, 76, 177}}, {{26, 64, 76, 194}}, {{26, 64, 138, 162}}, {{26, 64, 138, 177}}, {{26, 64, 162, 194}}, {{26, 76, 113, 177}}, {{26, 76, 113, 245}}, {{26, 76, 194, 245}}, {{26, 113, 189, 245}}, {{26, 162, 194, 218}}, {{26, 189, 218, 245}}, {{26, 194, 218, 245}}, {{30, 36, 51, 184}}, {{30, 36, 51, 198}}, {{30, 36, 107, 142}}, {{30, 36, 107, 198}}, {{30, 36, 142, 184}}, {{30, 51, 83, 167}}, {{30, 51, 83, 198}}, {{30, 51, 167, 184}}, {{30, 58, 68, 142}}, {{30, 58, 68, 225}}, {{30, 58, 107, 142}}, {{30, 58, 107, 241}}, {{30, 58, 225, 241}}, {{30, 68, 142, 184}}, {{30, 68, 167, 184}}, {{30, 68, 167, 225}}, {{30, 83, 167, 225}}, {{30, 83, 198, 241}}, {{30, 83, 225, 241}}, {{30, 107, 198, 241}}, {{35, 45, 138, 252}}, {{35, 68, 145, 191}}, {{35, 68, 145, 218}}, {{35, 68, 189, 218}}, {{35, 120, 138, 162}}, {{35, 120, 138, 252}}, {{35, 120, 145, 162}}, {{35, 120, 145, 191}}, {{35, 120, 191, 252}}, {{35, 145, 162, 218}}, {{36, 51, 184, 224}}, {{36, 79, 85, 107}}, {{36, 79, 85, 178}}, {{36, 79, 107, 198}}, {{36, 85, 107, 142}}, {{36, 85, 142, 253}}, {{36, 85, 178, 253}}, {{36, 142, 184, 253}}, {{36, 178, 224, 253}}, {{36, 184, 224, 253}}, {{41, 89, 110, 149}}, {{41, 89, 123, 134}}, {{41, 89, 123, 149}}, {{41, 104, 169, 194}}, {{41, 123, 149, 187}}, {{45, 61, 113, 136}}, {{45, 61, 113, 189}}, {{45, 61, 136, 149}}, {{45, 113, 136, 177}}, {{45, 136, 149, 174}}, {{45, 136, 174, 177}}, {{45, 138, 174, 177}}, {{45, 138, 174, 252}}, {{45, 149, 174, 252}}, {{49, 93, 145, 225}}, {{49, 97, 191, 225}}, {{49, 120, 145, 191}}, {{49, 125, 171, 178}}, {{49, 145, 191, 225}}, {{51, 64, 83, 198}}, {{51, 110, 167, 184}}, {{51, 110, 169, 224}}, {{51, 110, 184, 224}}, {{58, 68, 142, 218}}, {{58, 68, 145, 218}}, {{58, 68, 145, 225}}, {{58, 93, 104, 145}}, {{58, 93, 104, 187}}, {{58, 93, 145, 225}}, {{58, 93, 187, 241}}, {{58, 93, 225, 241}}, {{58, 104, 145, 218}}, {{58, 107, 187, 241}}, {{61, 110, 184, 224}}, {{61, 113, 125, 136}}, {{61, 113, 125, 253}}, {{61, 113, 189, 253}}, {{61, 125, 224, 253}}, {{61, 184, 189, 253}}, {{61, 184, 224, 253}}, {{64, 76, 83, 177}}, {{64, 83, 177, 198}}, {{64, 138, 177, 198}}, {{64, 162, 169, 194}}, {{68, 142, 184, 189}}, {{68, 142, 189, 218}}, {{68, 145, 191, 225}}, {{68, 167, 191, 225}}, {{76, 97, 134, 171}}, {{76, 113, 171, 245}}, {{76, 134, 171, 245}}, {{76, 134, 194, 245}}, {{79, 85, 107, 123}}, {{79, 107, 123, 174}}, {{79, 107, 174, 198}}, {{79, 120, 138, 252}}, {{79, 123, 174, 252}}, {{79, 138, 174, 198}}, {{79, 138, 174, 252}}, {{83, 97, 167, 225}}, {{83, 177, 198, 241}}, {{85, 134, 171, 245}}, {{85, 142, 245, 253}}, {{85, 171, 178, 253}}, {{85, 171, 245, 253}}, {{89, 97, 167, 191}}, {{89, 123, 149, 252}}, {{93, 136, 187, 241}}, {{97, 167, 191, 225}}, {{104, 145, 162, 218}}, {{104, 162, 169, 194}}, {{104, 162, 194, 218}}, {{107, 123, 174, 187}}, {{107, 174, 187, 241}}, {{107, 174, 198, 241}}, {{113, 125, 171, 253}}, {{113, 171, 245, 253}}, {{113, 189, 245, 253}}, {{123, 149, 174, 187}}, {{123, 149, 174, 252}}, {{125, 171, 178, 253}}, {{125, 178, 224, 253}}, {{136, 149, 174, 187}}, {{136, 174, 177, 241}}, {{136, 174, 187, 241}}, {{138, 174, 177, 198}}, {{142, 184, 189, 253}}, {{142, 189, 218, 245}}, {{142, 189, 245, 253}}, {{174, 177, 198, 241}}},\n",
      "    VA {{{2, 45, 80, 186}}, {{2, 45, 80, 214}}, {{2, 45, 113, 214}}, {{2, 45, 113, 233}}, {{2, 45, 186, 233}}, {{2, 72, 113, 157}}, {{2, 72, 113, 214}}, {{2, 72, 128, 214}}, {{2, 72, 128, 224}}, {{2, 72, 157, 224}}, {{2, 80, 110, 128}}, {{2, 80, 110, 186}}, {{2, 80, 128, 214}}, {{2, 94, 110, 186}}, {{2, 94, 110, 224}}, {{2, 94, 157, 224}}, {{2, 94, 157, 233}}, {{2, 94, 186, 233}}, {{2, 110, 128, 224}}, {{2, 113, 157, 233}}, {{5, 40, 107, 153}}, {{5, 40, 107, 175}}, {{5, 40, 133, 153}}, {{5, 40, 133, 183}}, {{5, 40, 175, 183}}, {{5, 59, 123, 153}}, {{5, 59, 123, 217}}, {{5, 59, 133, 141}}, {{5, 59, 133, 153}}, {{5, 59, 141, 217}}, {{5, 85, 107, 123}}, {{5, 85, 107, 175}}, {{5, 85, 123, 217}}, {{5, 107, 123, 153}}, {{5, 133, 141, 183}}, {{9, 37, 49, 96}}, {{9, 37, 49, 191}}, {{9, 37, 96, 208}}, {{9, 37, 130, 191}}, {{9, 37, 130, 208}}, {{9, 49, 96, 240}}, {{9, 49, 145, 191}}, {{9, 49, 145, 240}}, {{9, 65, 70, 145}}, {{9, 65, 70, 199}}, {{9, 65, 130, 191}}, {{9, 65, 130, 199}}, {{9, 65, 145, 191}}, {{9, 70, 117, 199}}, {{9, 70, 117, 240}}, {{9, 70, 145, 240}}, {{9, 96, 117, 208}}, {{9, 96, 117, 240}}, {{9, 117, 199, 208}}, {{9, 130, 199, 208}}, {{13, 34, 51, 99}}, {{13, 34, 51, 221}}, {{13, 34, 99, 238}}, {{13, 34, 177, 221}}, {{13, 34, 177, 238}}, {{13, 51, 90, 155}}, {{13, 51, 90, 221}}, {{13, 51, 99, 155}}, {{13, 60, 74, 177}}, {{13, 60, 74, 225}}, {{13, 60, 177, 238}}, {{13, 74, 90, 221}}, {{13, 74, 90, 225}}, {{13, 74, 177, 221}}, {{13, 90, 155, 225}}, {{19, 51, 90, 128}}, {{19, 51, 90, 221}}, {{19, 51, 117, 221}}, {{19, 51, 117, 224}}, {{19, 51, 128, 224}}, {{19, 72, 85, 96}}, {{19, 72, 85, 175}}, {{19, 72, 96, 224}}, {{19, 72, 128, 175}}, {{19, 72, 128, 224}}, {{19, 85, 96, 208}}, {{19, 85, 107, 175}}, {{19, 85, 107, 208}}, {{19, 90, 107, 175}}, {{19, 90, 107, 221}}, {{19, 90, 128, 175}}, {{19, 96, 117, 208}}, {{19, 96, 117, 224}}, {{19, 107, 208, 221}}, {{19, 117, 208, 221}}, {{22, 37, 123, 130}}, {{22, 37, 123, 217}}, {{22, 37, 130, 191}}, {{22, 59, 99, 110}}, {{22, 59, 99, 217}}, {{22, 59, 110, 186}}, {{22, 59, 123, 186}}, {{22, 59, 123, 217}}, {{22, 80, 110, 155}}, {{22, 80, 110, 186}}, {{22, 80, 130, 186}}, {{22, 80, 130, 191}}, {{22, 80, 155, 191}}, {{22, 99, 110, 155}}, {{22, 123, 130, 186}}, {{24, 40, 74, 153}}, {{24, 40, 74, 225}}, {{24, 40, 133, 145}}, {{24, 40, 133, 153}}, {{24, 40, 145, 225}}, {{24, 49, 60, 157}}, {{24, 49, 60, 225}}, {{24, 49, 145, 225}}, {{24, 49, 145, 240}}, {{24, 49, 157, 240}}, {{24, 60, 74, 225}}, {{24, 60, 74, 233}}, {{24, 60, 157, 233}}, {{24, 74, 153, 233}}, {{24, 94, 133, 153}}, {{24, 94, 133, 240}}, {{24, 94, 153, 233}}, {{24, 94, 157, 233}}, {{24, 94, 157, 240}}, {{24, 133, 145, 240}}, {{26, 34, 70, 141}}, {{26, 34, 70, 199}}, {{26, 34, 141, 238}}, {{26, 34, 177, 199}}, {{26, 34, 177, 238}}, {{26, 45, 65, 199}}, {{26, 45, 65, 214}}, {{26, 45, 113, 177}}, {{26, 45, 113, 214}}, {{26, 45, 177, 199}}, {{26, 65, 70, 183}}, {{26, 65, 70, 199}}, {{26, 65, 183, 214}}, {{26, 70, 141, 183}}, {{26, 113, 177, 238}}, {{34, 51, 99, 169}}, {{34, 51, 117, 169}}, {{34, 51, 117, 221}}, {{34, 70, 117, 169}}, {{34, 70, 117, 199}}, {{34, 70, 141, 169}}, {{34, 99, 141, 169}}, {{34, 99, 141, 238}}, {{34, 117, 199, 221}}, {{34, 177, 199, 221}}, {{37, 49, 96, 249}}, {{37, 85, 96, 208}}, {{37, 85, 96, 249}}, {{37, 85, 123, 208}}, {{37, 85, 123, 217}}, {{37, 85, 217, 249}}, {{37, 123, 130, 208}}, {{40, 74, 90, 107}}, {{40, 74, 90, 225}}, {{40, 74, 107, 153}}, {{40, 90, 107, 175}}, {{40, 90, 175, 251}}, {{40, 90, 225, 251}}, {{40, 133, 145, 183}}, {{40, 145, 183, 251}}, {{40, 145, 225, 251}}, {{40, 175, 183, 251}}, {{45, 65, 80, 130}}, {{45, 65, 80, 214}}, {{45, 65, 130, 199}}, {{45, 80, 130, 186}}, {{45, 113, 177, 233}}, {{45, 130, 148, 186}}, {{45, 130, 148, 199}}, {{45, 148, 177, 199}}, {{45, 148, 177, 233}}, {{45, 148, 186, 233}}, {{49, 60, 157, 249}}, {{49, 96, 157, 240}}, {{49, 96, 157, 249}}, {{49, 145, 191, 225}}, {{51, 90, 128, 155}}, {{51, 99, 110, 155}}, {{51, 99, 110, 169}}, {{51, 110, 128, 155}}, {{51, 110, 128, 224}}, {{51, 110, 169, 224}}, {{51, 117, 169, 224}}, {{59, 94, 110, 169}}, {{59, 94, 110, 186}}, {{59, 94, 133, 153}}, {{59, 94, 133, 169}}, {{59, 94, 153, 186}}, {{59, 99, 110, 169}}, {{59, 99, 141, 169}}, {{59, 99, 141, 217}}, {{59, 123, 153, 186}}, {{59, 133, 141, 169}}, {{60, 74, 177, 233}}, {{60, 113, 157, 233}}, {{60, 113, 157, 249}}, {{60, 113, 177, 233}}, {{60, 113, 177, 238}}, {{60, 113, 238, 249}}, {{65, 70, 145, 183}}, {{65, 80, 130, 191}}, {{65, 80, 191, 251}}, {{65, 80, 214, 251}}, {{65, 145, 183, 251}}, {{65, 145, 191, 251}}, {{65, 183, 214, 251}}, {{70, 117, 169, 240}}, {{70, 133, 141, 169}}, {{70, 133, 141, 183}}, {{70, 133, 145, 183}}, {{70, 133, 145, 240}}, {{70, 133, 169, 240}}, {{72, 85, 96, 249}}, {{72, 96, 157, 224}}, {{72, 96, 157, 249}}, {{72, 113, 157, 249}}, {{72, 128, 175, 214}}, {{74, 90, 107, 221}}, {{74, 107, 148, 153}}, {{74, 107, 148, 221}}, {{74, 148, 153, 233}}, {{74, 148, 177, 221}}, {{74, 148, 177, 233}}, {{80, 110, 128, 155}}, {{80, 128, 155, 251}}, {{80, 128, 214, 251}}, {{80, 155, 191, 251}}, {{85, 107, 123, 208}}, {{90, 128, 155, 251}}, {{90, 128, 175, 251}}, {{90, 155, 225, 251}}, {{94, 110, 169, 224}}, {{94, 133, 169, 240}}, {{94, 153, 186, 233}}, {{94, 157, 224, 240}}, {{94, 169, 224, 240}}, {{96, 117, 224, 240}}, {{96, 157, 224, 240}}, {{99, 141, 217, 238}}, {{107, 123, 148, 153}}, {{107, 123, 148, 208}}, {{107, 148, 208, 221}}, {{117, 169, 224, 240}}, {{117, 199, 208, 221}}, {{123, 130, 148, 186}}, {{123, 130, 148, 208}}, {{123, 148, 153, 186}}, {{128, 175, 214, 251}}, {{130, 148, 199, 208}}, {{145, 191, 225, 251}}, {{148, 153, 186, 233}}, {{148, 177, 199, 221}}, {{148, 199, 208, 221}}, {{155, 191, 225, 251}}, {{175, 183, 214, 251}}, {{217, 238, 249, FACETS}}},\n",
      "    VA {{{3, 47, 94, 129}}, {{3, 47, 94, 202}}, {{3, 47, 99, 202}}, {{3, 47, 99, 209}}, {{3, 47, 129, 209}}, {{3, 78, 80, 193}}, {{3, 78, 80, 209}}, {{3, 78, 99, 114}}, {{3, 78, 99, 209}}, {{3, 78, 114, 193}}, {{3, 80, 129, 209}}, {{3, 80, 129, 243}}, {{3, 80, 193, 243}}, {{3, 94, 129, 243}}, {{3, 94, 132, 202}}, {{3, 94, 132, 243}}, {{3, 99, 114, 202}}, {{3, 114, 132, 193}}, {{3, 114, 132, 202}}, {{3, 132, 193, 243}}, {{5, 42, 102, 220}}, {{5, 42, 102, 226}}, {{5, 42, 122, 131}}, {{5, 42, 122, 220}}, {{5, 42, 131, 226}}, {{5, 57, 102, 111}}, {{5, 57, 102, 220}}, {{5, 57, 111, 231}}, {{5, 84, 111, 226}}, {{5, 84, 111, 231}}, {{5, 84, 131, 226}}, {{5, 84, 131, 234}}, {{5, 84, 231, 234}}, {{5, 102, 111, 226}}, {{5, 122, 131, 234}}, {{7, 37, 46, 170}}, {{7, 37, 46, 223}}, {{7, 37, 69, 154}}, {{7, 37, 69, 170}}, {{7, 37, 154, 223}}, {{7, 46, 67, 148}}, {{7, 46, 67, 170}}, {{7, 46, 148, 223}}, {{7, 67, 148, 182}}, {{7, 67, 161, 170}}, {{7, 67, 161, 182}}, {{7, 69, 117, 154}}, {{7, 69, 117, 161}}, {{7, 69, 161, 170}}, {{7, 117, 154, 236}}, {{7, 117, 161, 182}}, {{7, 117, 182, 236}}, {{7, 148, 182, 236}}, {{7, 148, 223, 236}}, {{7, 154, 223, 236}}, {{15, 32, 55, 204}}, {{15, 32, 55, 229}}, {{15, 32, 72, 181}}, {{15, 32, 72, 204}}, {{15, 32, 181, 229}}, {{15, 55, 60, 204}}, {{15, 55, 60, 213}}, {{15, 55, 213, 229}}, {{15, 60, 108, 163}}, {{15, 60, 108, 213}}, {{15, 60, 163, 204}}, {{15, 72, 150, 163}}, {{15, 72, 150, 181}}, {{15, 72, 163, 204}}, {{15, 90, 108, 150}}, {{15, 90, 108, 213}}, {{15, 90, 150, 181}}, {{15, 90, 181, 229}}, {{15, 90, 213, 229}}, {{15, 108, 150, 163}}, {{18, 47, 99, 154}}, {{18, 47, 99, 209}}, {{18, 47, 117, 154}}, {{18, 47, 117, 181}}, {{18, 47, 181, 209}}, {{18, 69, 84, 154}}, {{18, 69, 84, 226}}, {{18, 69, 117, 154}}, {{18, 69, 117, 229}}, {{18, 69, 226, 229}}, {{18, 84, 99, 131}}, {{18, 84, 99, 154}}, {{18, 84, 131, 226}}, {{18, 90, 131, 209}}, {{18, 90, 131, 226}}, {{18, 90, 181, 209}}, {{18, 90, 181, 229}}, {{18, 90, 226, 229}}, {{18, 99, 131, 209}}, {{18, 117, 181, 229}}, {{20, 42, 102, 213}}, {{20, 42, 102, 220}}, {{20, 42, 108, 148}}, {{20, 42, 108, 213}}, {{20, 42, 148, 220}}, {{20, 60, 108, 213}}, {{20, 60, 108, 223}}, {{20, 60, 132, 202}}, {{20, 60, 132, 213}}, {{20, 60, 202, 223}}, {{20, 94, 102, 132}}, {{20, 94, 102, 220}}, {{20, 94, 132, 202}}, {{20, 94, 202, 236}}, {{20, 94, 220, 236}}, {{20, 102, 132, 213}}, {{20, 108, 148, 223}}, {{20, 148, 220, 236}}, {{20, 148, 223, 236}}, {{20, 202, 223, 236}}, {{26, 32, 55, 161}}, {{26, 32, 55, 204}}, {{26, 32, 161, 182}}, {{26, 55, 114, 193}}, {{26, 55, 114, 204}}, {{26, 55, 161, 193}}, {{26, 67, 78, 122}}, {{26, 67, 78, 193}}, {{26, 67, 122, 182}}, {{26, 67, 161, 182}}, {{26, 67, 161, 193}}, {{26, 78, 114, 193}}, {{26, 78, 114, 234}}, {{26, 78, 122, 234}}, {{26, 114, 204, 234}}, {{30, 37, 46, 163}}, {{30, 37, 46, 170}}, {{30, 37, 111, 170}}, {{30, 37, 111, 231}}, {{30, 37, 163, 231}}, {{30, 46, 80, 150}}, {{30, 46, 80, 170}}, {{30, 46, 150, 163}}, {{30, 57, 72, 129}}, {{30, 57, 72, 231}}, {{30, 57, 111, 231}}, {{30, 57, 111, 243}}, {{30, 57, 129, 243}}, {{30, 72, 129, 150}}, {{30, 72, 150, 163}}, {{30, 72, 163, 231}}, {{30, 80, 129, 150}}, {{30, 80, 129, 243}}, {{30, 80, 170, 243}}, {{30, 111, 170, 243}}, {{32, 55, 161, 229}}, {{32, 72, 174, 181}}, {{32, 117, 161, 182}}, {{32, 117, 161, 229}}, {{32, 117, 174, 181}}, {{32, 117, 174, 182}}, {{32, 117, 181, 229}}, {{37, 46, 163, 223}}, {{37, 69, 84, 111}}, {{37, 69, 84, 154}}, {{37, 69, 111, 170}}, {{37, 84, 111, 231}}, {{42, 90, 108, 213}}, {{42, 90, 108, 253}}, {{42, 90, 131, 226}}, {{42, 90, 131, 253}}, {{42, 90, 213, 226}}, {{42, 102, 213, 226}}, {{42, 108, 148, 253}}, {{42, 122, 131, 253}}, {{42, 122, 148, 220}}, {{42, 122, 148, 253}}, {{46, 67, 80, 170}}, {{46, 67, 80, 253}}, {{46, 67, 148, 253}}, {{46, 80, 150, 253}}, {{46, 108, 148, 223}}, {{46, 108, 148, 253}}, {{46, 108, 150, 163}}, {{46, 108, 150, 253}}, {{46, 108, 163, 223}}, {{47, 94, 129, 174}}, {{47, 94, 174, 236}}, {{47, 94, 202, 236}}, {{47, 99, 154, 202}}, {{47, 117, 154, 236}}, {{47, 117, 174, 181}}, {{47, 117, 174, 236}}, {{47, 129, 174, 181}}, {{47, 129, 181, 209}}, {{47, 154, 202, 236}}, {{55, 60, 114, 132}}, {{55, 60, 114, 204}}, {{55, 60, 132, 213}}, {{55, 114, 132, 193}}, {{55, 132, 145, 193}}, {{55, 132, 145, 213}}, {{55, 145, 161, 193}}, {{55, 145, 161, 229}}, {{55, 145, 213, 229}}, {{57, 72, 129, 174}}, {{57, 94, 102, 220}}, {{57, 94, 102, 243}}, {{57, 94, 129, 174}}, {{57, 94, 129, 243}}, {{57, 94, 174, 220}}, {{57, 102, 111, 243}}, {{60, 108, 163, 223}}, {{60, 114, 132, 202}}, {{67, 78, 80, 193}}, {{67, 78, 80, 253}}, {{67, 78, 122, 253}}, {{67, 80, 170, 193}}, {{67, 122, 148, 182}}, {{67, 122, 148, 253}}, {{67, 161, 170, 193}}, {{69, 84, 111, 226}}, {{69, 111, 145, 170}}, {{69, 111, 145, 226}}, {{69, 117, 161, 229}}, {{69, 145, 161, 170}}, {{69, 145, 161, 229}}, {{69, 145, 226, 229}}, {{72, 129, 150, 181}}, {{72, 129, 174, 181}}, {{72, 163, 204, 231}}, {{78, 80, 209, 253}}, {{78, 99, 114, 234}}, {{78, 99, 131, 209}}, {{78, 99, 131, 234}}, {{78, 122, 131, 234}}, {{78, 122, 131, 253}}, {{78, 131, 209, 253}}, {{80, 129, 150, 209}}, {{80, 150, 209, 253}}, {{80, 170, 193, 243}}, {{84, 99, 131, 234}}, {{90, 108, 150, 253}}, {{90, 131, 209, 253}}, {{90, 150, 181, 209}}, {{90, 150, 209, 253}}, {{90, 213, 226, 229}}, {{94, 102, 132, 243}}, {{94, 174, 220, 236}}, {{102, 111, 145, 226}}, {{102, 111, 145, 243}}, {{102, 132, 145, 213}}, {{102, 132, 145, 243}}, {{102, 145, 213, 226}}, {{111, 145, 170, 243}}, {{117, 174, 182, 236}}, {{122, 148, 182, 220}}, {{129, 150, 181, 209}}, {{132, 145, 193, 243}}, {{145, 161, 170, 193}}, {{145, 170, 193, 243}}, {{145, 213, 226, 229}}, {{148, 182, 220, 236}}, {{154, 202, 223, 236}}, {{174, 182, 220, 236}}, {{204, 231, 234, FACETS}}},\n",
      "    VA {{{2, 55, 83, 146}}, {{2, 55, 83, 207}}, {{2, 55, 98, 114}}, {{2, 55, 98, 207}}, {{2, 55, 114, 146}}, {{2, 68, 114, 146}}, {{2, 68, 114, 166}}, {{2, 68, 146, 192}}, {{2, 68, 166, 223}}, {{2, 68, 192, 223}}, {{2, 83, 108, 192}}, {{2, 83, 108, 207}}, {{2, 83, 146, 192}}, {{2, 93, 98, 166}}, {{2, 93, 98, 207}}, {{2, 93, 108, 207}}, {{2, 93, 108, 223}}, {{2, 93, 166, 223}}, {{2, 98, 114, 166}}, {{2, 108, 192, 223}}, {{5, 43, 103, 135}}, {{5, 43, 103, 196}}, {{5, 43, 111, 179}}, {{5, 43, 111, 196}}, {{5, 43, 135, 179}}, {{5, 56, 135, 179}}, {{5, 56, 135, 203}}, {{5, 56, 179, 226}}, {{5, 84, 111, 196}}, {{5, 84, 111, 226}}, {{5, 84, 196, 242}}, {{5, 103, 135, 203}}, {{5, 103, 196, 242}}, {{5, 103, 203, 242}}, {{5, 111, 179, 226}}, {{9, 36, 47, 181}}, {{9, 36, 47, 210}}, {{9, 36, 137, 158}}, {{9, 36, 137, 181}}, {{9, 36, 158, 210}}, {{9, 47, 174, 181}}, {{9, 47, 174, 239}}, {{9, 47, 210, 239}}, {{9, 66, 75, 126}}, {{9, 66, 75, 174}}, {{9, 66, 126, 137}}, {{9, 66, 137, 181}}, {{9, 66, 174, 181}}, {{9, 75, 120, 126}}, {{9, 75, 120, 239}}, {{9, 75, 174, 239}}, {{9, 120, 126, 158}}, {{9, 120, 158, 210}}, {{9, 120, 210, 239}}, {{9, 126, 137, 158}}, {{13, 33, 46, 165}}, {{13, 33, 46, 171}}, {{13, 33, 165, 193}}, {{13, 46, 89, 139}}, {{13, 46, 89, 165}}, {{13, 46, 139, 171}}, {{13, 61, 77, 129}}, {{13, 61, 77, 193}}, {{13, 61, 129, 228}}, {{13, 77, 89, 129}}, {{13, 77, 89, 165}}, {{13, 77, 165, 193}}, {{13, 89, 129, 139}}, {{13, 129, 139, 228}}, {{13, 139, 171, 228}}, {{19, 46, 89, 165}}, {{19, 46, 89, 192}}, {{19, 46, 120, 165}}, {{19, 46, 120, 223}}, {{19, 46, 192, 223}}, {{19, 68, 84, 196}}, {{19, 68, 84, 210}}, {{19, 68, 192, 196}}, {{19, 68, 192, 223}}, {{19, 68, 210, 223}}, {{19, 84, 111, 158}}, {{19, 84, 111, 196}}, {{19, 84, 158, 210}}, {{19, 89, 111, 165}}, {{19, 89, 111, 196}}, {{19, 89, 192, 196}}, {{19, 111, 158, 165}}, {{19, 120, 158, 165}}, {{19, 120, 158, 210}}, {{19, 120, 210, 223}}, {{22, 36, 137, 181}}, {{22, 36, 137, 226}}, {{22, 36, 181, 228}}, {{22, 56, 108, 171}}, {{22, 56, 108, 207}}, {{22, 56, 207, 226}}, {{22, 83, 108, 139}}, {{22, 83, 108, 207}}, {{22, 83, 137, 181}}, {{22, 83, 137, 207}}, {{22, 83, 139, 181}}, {{22, 108, 139, 171}}, {{22, 137, 207, 226}}, {{22, 139, 171, 228}}, {{22, 139, 181, 228}}, {{24, 43, 77, 129}}, {{24, 43, 77, 179}}, {{24, 43, 129, 174}}, {{24, 43, 135, 174}}, {{24, 43, 135, 179}}, {{24, 47, 61, 129}}, {{24, 47, 61, 166}}, {{24, 47, 129, 174}}, {{24, 47, 166, 239}}, {{24, 47, 174, 239}}, {{24, 61, 77, 98}}, {{24, 61, 77, 129}}, {{24, 61, 98, 166}}, {{24, 77, 98, 179}}, {{24, 93, 98, 166}}, {{24, 93, 98, 179}}, {{24, 93, 135, 179}}, {{24, 93, 135, 239}}, {{24, 93, 166, 239}}, {{24, 135, 174, 239}}, {{26, 33, 75, 126}}, {{26, 33, 75, 203}}, {{26, 33, 126, 193}}, {{26, 55, 66, 126}}, {{26, 55, 66, 146}}, {{26, 55, 114, 146}}, {{26, 55, 114, 193}}, {{26, 55, 126, 193}}, {{26, 66, 75, 103}}, {{26, 66, 75, 126}}, {{26, 66, 103, 146}}, {{26, 75, 103, 203}}, {{26, 103, 146, 242}}, {{26, 103, 203, 242}}, {{26, 114, 146, 242}}, {{33, 46, 120, 148}}, {{33, 46, 120, 165}}, {{33, 46, 148, 171}}, {{33, 75, 120, 126}}, {{33, 75, 120, 148}}, {{33, 75, 148, 203}}, {{33, 120, 126, 165}}, {{33, 126, 165, 193}}, {{33, 148, 171, 203}}, {{36, 47, 181, 228}}, {{36, 47, 210, 251}}, {{36, 47, 228, 251}}, {{36, 84, 158, 210}}, {{36, 84, 158, 226}}, {{36, 84, 210, 251}}, {{36, 137, 158, 226}}, {{43, 77, 89, 111}}, {{43, 77, 89, 129}}, {{43, 77, 111, 179}}, {{43, 89, 111, 196}}, {{43, 89, 129, 249}}, {{43, 89, 196, 249}}, {{43, 103, 135, 174}}, {{43, 103, 174, 249}}, {{43, 103, 196, 249}}, {{43, 129, 174, 249}}, {{46, 89, 139, 192}}, {{46, 108, 139, 171}}, {{46, 108, 139, 192}}, {{46, 108, 148, 171}}, {{46, 108, 148, 223}}, {{46, 108, 192, 223}}, {{46, 120, 148, 223}}, {{47, 61, 129, 228}}, {{47, 61, 166, 251}}, {{47, 61, 228, 251}}, {{47, 129, 174, 181}}, {{47, 129, 181, 228}}, {{47, 166, 210, 239}}, {{47, 166, 210, 251}}, {{55, 66, 83, 137}}, {{55, 66, 83, 146}}, {{55, 66, 126, 137}}, {{55, 83, 137, 207}}, {{55, 98, 114, 193}}, {{55, 98, 169, 193}}, {{55, 98, 169, 207}}, {{55, 126, 137, 169}}, {{55, 126, 169, 193}}, {{55, 137, 169, 207}}, {{56, 93, 108, 148}}, {{56, 93, 108, 207}}, {{56, 93, 135, 148}}, {{56, 93, 135, 179}}, {{56, 93, 179, 207}}, {{56, 108, 148, 171}}, {{56, 135, 148, 203}}, {{56, 148, 171, 203}}, {{56, 179, 207, 226}}, {{61, 77, 98, 193}}, {{61, 98, 114, 166}}, {{61, 98, 114, 193}}, {{61, 114, 166, 251}}, {{66, 75, 103, 174}}, {{66, 83, 137, 181}}, {{66, 83, 146, 249}}, {{66, 83, 181, 249}}, {{66, 103, 146, 249}}, {{66, 103, 174, 249}}, {{66, 174, 181, 249}}, {{68, 84, 196, 242}}, {{68, 84, 210, 251}}, {{68, 84, 242, 251}}, {{68, 114, 146, 242}}, {{68, 114, 166, 251}}, {{68, 114, 242, 251}}, {{68, 146, 192, 196}}, {{68, 146, 196, 242}}, {{68, 166, 210, 223}}, {{68, 166, 210, 251}}, {{75, 103, 135, 174}}, {{75, 103, 135, 203}}, {{75, 120, 148, 239}}, {{75, 135, 148, 203}}, {{75, 135, 148, 239}}, {{75, 135, 174, 239}}, {{77, 89, 111, 165}}, {{77, 98, 169, 179}}, {{77, 98, 169, 193}}, {{77, 111, 165, 169}}, {{77, 111, 169, 179}}, {{77, 165, 169, 193}}, {{83, 108, 139, 192}}, {{83, 139, 181, 249}}, {{83, 139, 192, 249}}, {{83, 146, 192, 249}}, {{84, 111, 158, 226}}, {{89, 129, 139, 249}}, {{89, 139, 192, 249}}, {{89, 192, 196, 249}}, {{93, 98, 179, 207}}, {{93, 108, 148, 223}}, {{93, 135, 148, 239}}, {{93, 148, 223, 239}}, {{93, 166, 223, 239}}, {{98, 169, 179, 207}}, {{103, 146, 196, 242}}, {{103, 146, 196, 249}}, {{111, 158, 165, 169}}, {{111, 158, 169, 226}}, {{111, 169, 179, 226}}, {{120, 126, 158, 165}}, {{120, 148, 223, 239}}, {{120, 210, 223, 239}}, {{126, 137, 158, 169}}, {{126, 158, 165, 169}}, {{126, 165, 169, 193}}, {{129, 139, 181, 228}}, {{129, 139, 181, 249}}, {{129, 174, 181, 249}}, {{137, 158, 169, 226}}, {{137, 169, 207, 226}}, {{146, 192, 196, 249}}, {{166, 210, 223, 239}}, {{169, 179, 207, 226}}},\n",
      "    VA {{{2, 55, 95, 159}}, {{2, 55, 95, 248}}, {{2, 55, 98, 114}}, {{2, 55, 98, 248}}, {{2, 55, 114, 159}}, {{2, 73, 95, 159}}, {{2, 73, 95, 182}}, {{2, 73, 122, 152}}, {{2, 73, 122, 182}}, {{2, 73, 152, 159}}, {{2, 81, 98, 109}}, {{2, 81, 98, 248}}, {{2, 81, 109, 122}}, {{2, 81, 122, 182}}, {{2, 81, 182, 248}}, {{2, 95, 182, 248}}, {{2, 98, 109, 114}}, {{2, 109, 114, 152}}, {{2, 109, 122, 152}}, {{2, 114, 152, 159}}, {{4, 37, 100, 111}}, {{4, 37, 100, 232}}, {{4, 37, 111, 168}}, {{4, 37, 135, 168}}, {{4, 37, 135, 232}}, {{4, 65, 129, 150}}, {{4, 65, 129, 195}}, {{4, 65, 135, 150}}, {{4, 65, 135, 168}}, {{4, 65, 168, 195}}, {{4, 100, 111, 118}}, {{4, 111, 118, 195}}, {{4, 111, 168, 195}}, {{4, 118, 129, 195}}, {{4, 135, 150, 232}}, {{10, 40, 52, 158}}, {{10, 40, 52, 209}}, {{10, 40, 144, 158}}, {{10, 40, 144, 181}}, {{10, 40, 181, 209}}, {{10, 52, 84, 158}}, {{10, 52, 84, 240}}, {{10, 52, 209, 240}}, {{10, 59, 69, 144}}, {{10, 59, 69, 206}}, {{10, 59, 144, 181}}, {{10, 59, 181, 228}}, {{10, 59, 206, 228}}, {{10, 69, 84, 158}}, {{10, 69, 84, 206}}, {{10, 69, 144, 158}}, {{10, 84, 206, 240}}, {{10, 181, 209, 228}}, {{10, 206, 228, 240}}, {{10, 209, 228, 240}}, {{14, 34, 44, 164}}, {{14, 34, 44, 220}}, {{14, 34, 132, 164}}, {{14, 34, 132, 235}}, {{14, 34, 220, 235}}, {{14, 44, 148, 203}}, {{14, 44, 148, 220}}, {{14, 44, 164, 203}}, {{14, 60, 75, 203}}, {{14, 60, 75, 211}}, {{14, 60, 132, 164}}, {{14, 60, 132, 211}}, {{14, 60, 164, 203}}, {{14, 75, 91, 148}}, {{14, 75, 91, 211}}, {{14, 75, 148, 203}}, {{14, 91, 148, 220}}, {{14, 91, 211, 235}}, {{14, 91, 220, 235}}, {{14, 132, 211, 235}}, {{19, 52, 84, 152}}, {{19, 52, 84, 158}}, {{19, 52, 91, 122}}, {{19, 52, 91, 158}}, {{19, 52, 122, 152}}, {{19, 73, 100, 118}}, {{19, 73, 100, 152}}, {{19, 73, 118, 220}}, {{19, 73, 122, 152}}, {{19, 73, 122, 220}}, {{19, 84, 100, 111}}, {{19, 84, 100, 152}}, {{19, 84, 111, 158}}, {{19, 91, 122, 220}}, {{19, 91, 158, 235}}, {{19, 91, 220, 235}}, {{19, 100, 111, 118}}, {{19, 111, 118, 235}}, {{19, 111, 158, 235}}, {{19, 118, 220, 235}}, {{21, 34, 129, 195}}, {{21, 34, 129, 228}}, {{21, 34, 132, 164}}, {{21, 34, 132, 195}}, {{21, 34, 164, 228}}, {{21, 65, 98, 109}}, {{21, 65, 98, 195}}, {{21, 65, 109, 209}}, {{21, 65, 129, 195}}, {{21, 65, 129, 209}}, {{21, 98, 109, 114}}, {{21, 98, 114, 132}}, {{21, 98, 132, 195}}, {{21, 109, 114, 240}}, {{21, 109, 209, 240}}, {{21, 114, 132, 164}}, {{21, 114, 164, 240}}, {{21, 129, 209, 228}}, {{21, 164, 228, 240}}, {{21, 209, 228, 240}}, {{23, 40, 75, 150}}, {{23, 40, 75, 211}}, {{23, 40, 144, 181}}, {{23, 40, 144, 211}}, {{23, 40, 150, 181}}, {{23, 55, 60, 159}}, {{23, 55, 60, 211}}, {{23, 55, 95, 144}}, {{23, 55, 95, 159}}, {{23, 55, 144, 211}}, {{23, 60, 75, 211}}, {{23, 60, 75, 232}}, {{23, 60, 159, 232}}, {{23, 75, 150, 232}}, {{23, 95, 144, 181}}, {{31, 37, 69, 168}}, {{31, 37, 69, 206}}, {{31, 37, 135, 168}}, {{31, 37, 135, 203}}, {{31, 37, 203, 206}}, {{31, 44, 59, 182}}, {{31, 44, 59, 206}}, {{31, 44, 148, 182}}, {{31, 44, 148, 203}}, {{31, 44, 203, 206}}, {{31, 59, 69, 206}}, {{31, 59, 69, 248}}, {{31, 59, 182, 248}}, {{31, 69, 168, 248}}, {{31, 81, 135, 148}}, {{31, 81, 135, 168}}, {{31, 81, 148, 182}}, {{31, 81, 168, 248}}, {{31, 81, 182, 248}}, {{31, 135, 148, 203}}, {{34, 44, 139, 220}}, {{34, 44, 139, 228}}, {{34, 44, 164, 228}}, {{34, 118, 129, 139}}, {{34, 118, 129, 195}}, {{34, 118, 139, 220}}, {{34, 118, 195, 235}}, {{34, 118, 220, 235}}, {{34, 129, 139, 228}}, {{34, 132, 195, 235}}, {{37, 69, 84, 111}}, {{37, 69, 84, 206}}, {{37, 69, 111, 168}}, {{37, 84, 100, 111}}, {{37, 84, 100, 250}}, {{37, 84, 206, 250}}, {{37, 100, 232, 250}}, {{37, 135, 203, 232}}, {{37, 203, 206, 250}}, {{37, 203, 232, 250}}, {{40, 52, 91, 158}}, {{40, 75, 91, 211}}, {{40, 91, 158, 211}}, {{40, 144, 158, 211}}, {{40, 150, 181, 209}}, {{44, 59, 139, 182}}, {{44, 59, 139, 228}}, {{44, 59, 206, 228}}, {{44, 139, 182, 220}}, {{44, 148, 182, 220}}, {{44, 164, 203, 206}}, {{44, 164, 206, 228}}, {{52, 84, 152, 240}}, {{52, 109, 122, 152}}, {{52, 109, 152, 240}}, {{52, 109, 209, 240}}, {{55, 60, 114, 132}}, {{55, 60, 114, 159}}, {{55, 60, 132, 211}}, {{55, 95, 144, 248}}, {{55, 98, 114, 132}}, {{55, 98, 132, 155}}, {{55, 98, 155, 248}}, {{55, 132, 155, 211}}, {{55, 144, 155, 211}}, {{55, 144, 155, 248}}, {{59, 69, 144, 248}}, {{59, 95, 139, 181}}, {{59, 95, 139, 182}}, {{59, 95, 144, 181}}, {{59, 95, 144, 248}}, {{59, 95, 182, 248}}, {{59, 139, 181, 228}}, {{60, 75, 203, 232}}, {{60, 114, 132, 164}}, {{60, 114, 159, 250}}, {{60, 114, 164, 250}}, {{60, 159, 232, 250}}, {{60, 164, 203, 250}}, {{60, 203, 232, 250}}, {{65, 81, 98, 109}}, {{65, 81, 98, 168}}, {{65, 81, 135, 168}}, {{65, 98, 168, 195}}, {{65, 129, 150, 209}}, {{69, 84, 111, 158}}, {{69, 111, 155, 158}}, {{69, 111, 155, 168}}, {{69, 144, 155, 158}}, {{69, 144, 155, 248}}, {{69, 155, 168, 248}}, {{73, 95, 139, 182}}, {{73, 100, 152, 159}}, {{73, 118, 139, 220}}, {{73, 122, 182, 220}}, {{73, 139, 182, 220}}, {{75, 135, 148, 203}}, {{75, 135, 150, 232}}, {{75, 135, 203, 232}}, {{81, 98, 168, 248}}, {{81, 122, 148, 182}}, {{84, 100, 152, 250}}, {{84, 152, 240, 250}}, {{84, 206, 240, 250}}, {{91, 122, 148, 220}}, {{91, 158, 211, 235}}, {{98, 132, 155, 195}}, {{98, 155, 168, 195}}, {{98, 155, 168, 248}}, {{100, 152, 159, 250}}, {{100, 159, 232, 250}}, {{109, 114, 152, 240}}, {{111, 118, 195, 235}}, {{111, 155, 158, 235}}, {{111, 155, 168, 195}}, {{111, 155, 195, 235}}, {{114, 152, 159, 250}}, {{114, 152, 240, 250}}, {{114, 164, 240, 250}}, {{122, 148, 182, 220}}, {{129, 139, 181, 228}}, {{129, 150, 181, 209}}, {{129, 181, 209, 228}}, {{132, 155, 195, 235}}, {{132, 155, 211, 235}}, {{144, 155, 158, 211}}, {{155, 158, 211, 235}}, {{164, 203, 206, 250}}, {{164, 206, 228, 240}}, {{164, 206, 240, 250}}},\n",
      "    VA {{{2, 45, 92, 173}}, {{2, 45, 92, 219}}, {{2, 45, 113, 173}}, {{2, 45, 113, 233}}, {{2, 45, 219, 233}}, {{2, 71, 92, 162}}, {{2, 71, 92, 173}}, {{2, 71, 124, 173}}, {{2, 71, 124, 194}}, {{2, 71, 162, 194}}, {{2, 82, 106, 194}}, {{2, 82, 106, 233}}, {{2, 82, 162, 194}}, {{2, 82, 162, 219}}, {{2, 82, 219, 233}}, {{2, 92, 162, 219}}, {{2, 106, 113, 124}}, {{2, 106, 113, 233}}, {{2, 106, 124, 194}}, {{2, 113, 124, 173}}, {{4, 36, 107, 200}}, {{4, 36, 107, 215}}, {{4, 36, 133, 200}}, {{4, 36, 133, 216}}, {{4, 36, 215, 216}}, {{4, 66, 127, 200}}, {{4, 66, 127, 225}}, {{4, 66, 133, 167}}, {{4, 66, 133, 200}}, {{4, 66, 167, 225}}, {{4, 107, 119, 127}}, {{4, 107, 119, 215}}, {{4, 107, 127, 200}}, {{4, 119, 127, 225}}, {{4, 119, 215, 242}}, {{4, 119, 225, 242}}, {{4, 133, 167, 216}}, {{4, 167, 216, 242}}, {{4, 167, 225, 242}}, {{4, 215, 216, 242}}, {{10, 43, 54, 97}}, {{10, 43, 54, 208}}, {{10, 43, 97, 191}}, {{10, 43, 180, 191}}, {{10, 43, 180, 208}}, {{10, 54, 85, 208}}, {{10, 54, 85, 239}}, {{10, 54, 97, 239}}, {{10, 56, 79, 180}}, {{10, 56, 79, 185}}, {{10, 56, 180, 191}}, {{10, 79, 85, 185}}, {{10, 79, 85, 208}}, {{10, 79, 180, 208}}, {{10, 85, 185, 239}}, {{14, 33, 48, 104}}, {{14, 33, 48, 222}}, {{14, 33, 104, 237}}, {{14, 33, 136, 222}}, {{14, 33, 136, 237}}, {{14, 48, 104, 169}}, {{14, 48, 141, 169}}, {{14, 48, 141, 222}}, {{14, 61, 70, 141}}, {{14, 61, 70, 151}}, {{14, 61, 136, 151}}, {{14, 61, 136, 222}}, {{14, 61, 141, 222}}, {{14, 70, 88, 151}}, {{14, 70, 88, 169}}, {{14, 70, 141, 169}}, {{14, 88, 104, 169}}, {{14, 88, 104, 237}}, {{14, 88, 151, 237}}, {{14, 136, 151, 237}}, {{19, 54, 85, 124}}, {{19, 54, 85, 208}}, {{19, 54, 88, 194}}, {{19, 54, 88, 208}}, {{19, 54, 124, 194}}, {{19, 71, 104, 119}}, {{19, 71, 104, 194}}, {{19, 71, 119, 215}}, {{19, 71, 124, 194}}, {{19, 71, 124, 215}}, {{19, 85, 107, 208}}, {{19, 85, 107, 215}}, {{19, 85, 124, 215}}, {{19, 88, 104, 194}}, {{19, 88, 104, 237}}, {{19, 88, 208, 237}}, {{19, 104, 119, 237}}, {{19, 107, 119, 215}}, {{19, 107, 119, 237}}, {{19, 107, 208, 237}}, {{21, 33, 127, 136}}, {{21, 33, 127, 225}}, {{21, 33, 136, 222}}, {{21, 66, 97, 106}}, {{21, 66, 97, 225}}, {{21, 66, 106, 233}}, {{21, 66, 127, 225}}, {{21, 66, 127, 233}}, {{21, 97, 106, 239}}, {{21, 106, 113, 233}}, {{21, 106, 113, 239}}, {{21, 113, 136, 222}}, {{21, 113, 136, 233}}, {{21, 113, 222, 239}}, {{21, 127, 136, 233}}, {{23, 43, 70, 151}}, {{23, 43, 70, 167}}, {{23, 43, 151, 180}}, {{23, 43, 167, 191}}, {{23, 43, 180, 191}}, {{23, 45, 61, 151}}, {{23, 45, 61, 173}}, {{23, 45, 92, 173}}, {{23, 45, 92, 180}}, {{23, 45, 151, 180}}, {{23, 61, 70, 151}}, {{23, 61, 70, 216}}, {{23, 61, 173, 216}}, {{23, 70, 167, 216}}, {{23, 92, 173, 242}}, {{23, 92, 180, 191}}, {{23, 92, 191, 242}}, {{23, 167, 191, 242}}, {{23, 167, 216, 242}}, {{23, 173, 216, 242}}, {{31, 36, 79, 185}}, {{31, 36, 79, 200}}, {{31, 36, 133, 141}}, {{31, 36, 133, 200}}, {{31, 36, 141, 185}}, {{31, 48, 56, 162}}, {{31, 48, 56, 185}}, {{31, 48, 141, 169}}, {{31, 48, 141, 185}}, {{31, 48, 162, 169}}, {{31, 56, 79, 185}}, {{31, 56, 79, 219}}, {{31, 56, 162, 219}}, {{31, 79, 200, 219}}, {{31, 82, 133, 169}}, {{31, 82, 133, 200}}, {{31, 82, 162, 169}}, {{31, 82, 162, 219}}, {{31, 82, 200, 219}}, {{31, 133, 141, 169}}, {{33, 48, 104, 155}}, {{33, 104, 119, 155}}, {{33, 104, 119, 237}}, {{33, 119, 127, 225}}, {{33, 119, 127, 237}}, {{33, 119, 155, 225}}, {{33, 127, 136, 237}}, {{36, 79, 85, 107}}, {{36, 79, 85, 185}}, {{36, 79, 107, 200}}, {{36, 85, 107, 215}}, {{36, 133, 141, 216}}, {{43, 54, 88, 208}}, {{43, 54, 88, 250}}, {{43, 54, 97, 250}}, {{43, 70, 88, 151}}, {{43, 70, 88, 250}}, {{43, 70, 167, 250}}, {{43, 88, 151, 208}}, {{43, 97, 167, 191}}, {{43, 97, 167, 250}}, {{43, 151, 180, 208}}, {{45, 61, 113, 136}}, {{45, 61, 113, 173}}, {{45, 61, 136, 151}}, {{45, 92, 180, 219}}, {{45, 113, 136, 233}}, {{45, 136, 139, 151}}, {{45, 136, 139, 233}}, {{45, 139, 151, 180}}, {{45, 139, 180, 219}}, {{45, 139, 219, 233}}, {{48, 56, 155, 162}}, {{48, 104, 155, 162}}, {{48, 104, 162, 169}}, {{48, 141, 185, 222}}, {{54, 85, 124, 239}}, {{54, 88, 194, 250}}, {{54, 97, 106, 239}}, {{54, 97, 106, 250}}, {{54, 106, 124, 194}}, {{54, 106, 124, 239}}, {{54, 106, 194, 250}}, {{56, 79, 180, 219}}, {{56, 92, 155, 162}}, {{56, 92, 155, 191}}, {{56, 92, 162, 219}}, {{56, 92, 180, 191}}, {{56, 92, 180, 219}}, {{61, 70, 141, 216}}, {{61, 113, 136, 222}}, {{66, 82, 106, 233}}, {{66, 82, 106, 250}}, {{66, 82, 133, 200}}, {{66, 82, 133, 250}}, {{66, 82, 200, 233}}, {{66, 97, 106, 250}}, {{66, 97, 167, 225}}, {{66, 97, 167, 250}}, {{66, 127, 200, 233}}, {{66, 133, 167, 250}}, {{70, 88, 169, 250}}, {{70, 133, 141, 169}}, {{70, 133, 141, 216}}, {{70, 133, 167, 216}}, {{70, 133, 167, 250}}, {{70, 133, 169, 250}}, {{71, 92, 155, 162}}, {{71, 92, 155, 242}}, {{71, 92, 173, 242}}, {{71, 104, 119, 155}}, {{71, 104, 155, 162}}, {{71, 104, 162, 194}}, {{71, 119, 155, 242}}, {{71, 119, 215, 242}}, {{71, 124, 173, 215}}, {{71, 173, 215, 242}}, {{79, 85, 107, 208}}, {{79, 107, 139, 200}}, {{79, 107, 139, 208}}, {{79, 139, 180, 208}}, {{79, 139, 180, 219}}, {{79, 139, 200, 219}}, {{82, 106, 194, 250}}, {{82, 133, 169, 250}}, {{82, 162, 169, 194}}, {{82, 169, 194, 250}}, {{82, 200, 219, 233}}, {{88, 104, 169, 194}}, {{88, 151, 208, 237}}, {{88, 169, 194, 250}}, {{92, 155, 191, 242}}, {{97, 167, 191, 225}}, {{104, 162, 169, 194}}, {{106, 113, 124, 239}}, {{107, 119, 127, 237}}, {{107, 127, 139, 200}}, {{107, 127, 139, 237}}, {{107, 139, 208, 237}}, {{119, 155, 225, 242}}, {{127, 136, 139, 233}}, {{127, 136, 139, 237}}, {{127, 139, 200, 233}}, {{136, 139, 151, 237}}, {{139, 151, 180, 208}}, {{139, 151, 208, 237}}, {{139, 200, 219, 233}}, {{155, 191, 225, 242}}, {{167, 191, 225, 242}}, {{173, 215, 216, 242}}, {{185, 222, 239, FACETS}}},\n",
      "    VA {{{1, 46, 113, 195}}, {{1, 46, 113, 211}}, {{1, 46, 175, 195}}, {{1, 46, 175, 215}}, {{1, 46, 211, 215}}, {{1, 69, 83, 141}}, {{1, 69, 83, 175}}, {{1, 69, 93, 141}}, {{1, 69, 93, 215}}, {{1, 69, 175, 215}}, {{1, 83, 141, 236}}, {{1, 83, 175, 195}}, {{1, 83, 195, 236}}, {{1, 93, 141, 247}}, {{1, 93, 211, 215}}, {{1, 93, 211, 247}}, {{1, 113, 195, 236}}, {{1, 113, 211, 247}}, {{1, 113, 236, 247}}, {{1, 141, 236, 247}}, {{6, 32, 107, 152}}, {{6, 32, 107, 206}}, {{6, 32, 152, 255}}, {{6, 32, 206, 233}}, {{6, 32, 233, 255}}, {{6, 60, 134, 180}}, {{6, 60, 134, 233}}, {{6, 60, 180, 218}}, {{6, 60, 218, 255}}, {{6, 60, 233, 255}}, {{6, 90, 107, 146}}, {{6, 90, 107, 152}}, {{6, 90, 146, 180}}, {{6, 90, 152, 218}}, {{6, 90, 180, 218}}, {{6, 107, 146, 206}}, {{6, 134, 146, 180}}, {{6, 134, 146, 206}}, {{6, 134, 206, 233}}, {{6, 152, 218, 255}}, {{9, 39, 48, 102}}, {{9, 39, 48, 122}}, {{9, 39, 75, 102}}, {{9, 39, 75, 149}}, {{9, 39, 122, 149}}, {{9, 48, 65, 102}}, {{9, 48, 65, 184}}, {{9, 48, 122, 184}}, {{9, 65, 102, 191}}, {{9, 65, 130, 184}}, {{9, 65, 130, 191}}, {{9, 75, 102, 191}}, {{9, 75, 149, 231}}, {{9, 75, 191, 231}}, {{9, 119, 122, 149}}, {{9, 119, 122, 184}}, {{9, 119, 130, 184}}, {{9, 119, 130, 231}}, {{9, 119, 149, 231}}, {{9, 130, 191, 231}}, {{12, 43, 50, 99}}, {{12, 43, 50, 129}}, {{12, 43, 73, 99}}, {{12, 43, 73, 138}}, {{12, 43, 129, 138}}, {{12, 50, 59, 99}}, {{12, 50, 59, 178}}, {{12, 50, 129, 178}}, {{12, 59, 99, 169}}, {{12, 59, 169, 193}}, {{12, 59, 178, 193}}, {{12, 73, 87, 138}}, {{12, 73, 87, 169}}, {{12, 73, 99, 169}}, {{12, 87, 106, 138}}, {{12, 87, 106, 193}}, {{12, 87, 169, 193}}, {{12, 106, 129, 138}}, {{12, 106, 129, 178}}, {{12, 106, 178, 193}}, {{19, 46, 87, 138}}, {{19, 46, 87, 149}}, {{19, 46, 138, 175}}, {{19, 46, 149, 215}}, {{19, 46, 175, 215}}, {{19, 73, 87, 122}}, {{19, 73, 87, 138}}, {{19, 73, 90, 138}}, {{19, 73, 90, 152}}, {{19, 73, 122, 152}}, {{19, 87, 122, 149}}, {{19, 90, 107, 152}}, {{19, 90, 107, 175}}, {{19, 90, 138, 175}}, {{19, 107, 119, 152}}, {{19, 107, 119, 215}}, {{19, 107, 175, 215}}, {{19, 119, 122, 149}}, {{19, 119, 122, 152}}, {{19, 119, 149, 215}}, {{21, 32, 130, 178}}, {{21, 32, 130, 184}}, {{21, 32, 178, 233}}, {{21, 32, 184, 255}}, {{21, 32, 233, 255}}, {{21, 65, 129, 130}}, {{21, 65, 129, 195}}, {{21, 65, 130, 184}}, {{21, 65, 184, 236}}, {{21, 65, 195, 236}}, {{21, 106, 113, 195}}, {{21, 106, 113, 233}}, {{21, 106, 129, 178}}, {{21, 106, 129, 195}}, {{21, 106, 178, 233}}, {{21, 113, 195, 236}}, {{21, 113, 233, 255}}, {{21, 113, 236, 255}}, {{21, 129, 130, 178}}, {{21, 184, 236, 255}}, {{23, 43, 50, 99}}, {{23, 43, 50, 191}}, {{23, 43, 99, 218}}, {{23, 43, 180, 191}}, {{23, 43, 180, 218}}, {{23, 50, 93, 99}}, {{23, 50, 93, 231}}, {{23, 50, 191, 231}}, {{23, 60, 75, 180}}, {{23, 60, 75, 211}}, {{23, 60, 180, 218}}, {{23, 60, 211, 247}}, {{23, 60, 218, 247}}, {{23, 75, 180, 191}}, {{23, 75, 191, 231}}, {{23, 75, 211, 231}}, {{23, 93, 99, 247}}, {{23, 93, 211, 231}}, {{23, 93, 211, 247}}, {{23, 99, 218, 247}}, {{31, 39, 48, 102}}, {{31, 39, 48, 169}}, {{31, 39, 102, 134}}, {{31, 39, 134, 193}}, {{31, 39, 169, 193}}, {{31, 48, 83, 102}}, {{31, 48, 83, 141}}, {{31, 48, 141, 169}}, {{31, 59, 69, 141}}, {{31, 59, 69, 206}}, {{31, 59, 141, 169}}, {{31, 59, 169, 193}}, {{31, 59, 193, 206}}, {{31, 69, 83, 141}}, {{31, 69, 83, 146}}, {{31, 69, 146, 206}}, {{31, 83, 102, 146}}, {{31, 102, 134, 146}}, {{31, 134, 146, 206}}, {{31, 134, 193, 206}}, {{32, 107, 119, 152}}, {{32, 107, 119, 166}}, {{32, 107, 166, 206}}, {{32, 119, 130, 166}}, {{32, 119, 130, 184}}, {{32, 119, 152, 184}}, {{32, 130, 166, 178}}, {{32, 152, 184, 255}}, {{32, 166, 178, 206}}, {{32, 178, 206, 233}}, {{39, 48, 122, 169}}, {{39, 75, 102, 134}}, {{39, 75, 134, 157}}, {{39, 75, 149, 157}}, {{39, 87, 122, 149}}, {{39, 87, 122, 169}}, {{39, 87, 149, 157}}, {{39, 87, 157, 193}}, {{39, 87, 169, 193}}, {{39, 134, 157, 193}}, {{43, 50, 129, 191}}, {{43, 73, 90, 138}}, {{43, 73, 90, 218}}, {{43, 73, 99, 218}}, {{43, 90, 138, 244}}, {{43, 90, 180, 218}}, {{43, 90, 180, 244}}, {{43, 129, 138, 244}}, {{43, 129, 191, 244}}, {{43, 180, 191, 244}}, {{46, 87, 106, 138}}, {{46, 87, 106, 157}}, {{46, 87, 149, 157}}, {{46, 106, 113, 157}}, {{46, 106, 113, 195}}, {{46, 106, 138, 195}}, {{46, 113, 157, 211}}, {{46, 138, 175, 195}}, {{46, 149, 157, 211}}, {{46, 149, 211, 215}}, {{48, 65, 83, 102}}, {{48, 65, 83, 236}}, {{48, 65, 184, 236}}, {{48, 83, 141, 236}}, {{50, 59, 93, 99}}, {{50, 59, 93, 166}}, {{50, 59, 166, 178}}, {{50, 93, 166, 231}}, {{50, 129, 130, 178}}, {{50, 129, 130, 191}}, {{50, 130, 166, 178}}, {{50, 130, 166, 231}}, {{50, 130, 191, 231}}, {{59, 69, 93, 141}}, {{59, 69, 93, 166}}, {{59, 69, 166, 206}}, {{59, 93, 99, 141}}, {{59, 99, 141, 169}}, {{59, 166, 178, 206}}, {{59, 178, 193, 206}}, {{60, 75, 134, 157}}, {{60, 75, 134, 180}}, {{60, 75, 157, 211}}, {{60, 113, 157, 211}}, {{60, 113, 157, 233}}, {{60, 113, 211, 247}}, {{60, 113, 233, 255}}, {{60, 113, 247, 255}}, {{60, 134, 157, 233}}, {{60, 218, 247, 255}}, {{65, 83, 102, 244}}, {{65, 83, 195, 236}}, {{65, 83, 195, 244}}, {{65, 102, 191, 244}}, {{65, 129, 130, 191}}, {{65, 129, 191, 244}}, {{65, 129, 195, 244}}, {{69, 83, 146, 175}}, {{69, 93, 166, 215}}, {{69, 107, 146, 175}}, {{69, 107, 146, 206}}, {{69, 107, 166, 206}}, {{69, 107, 166, 215}}, {{69, 107, 175, 215}}, {{73, 87, 122, 169}}, {{73, 90, 152, 218}}, {{75, 102, 134, 180}}, {{75, 102, 180, 191}}, {{75, 149, 157, 211}}, {{75, 149, 211, 231}}, {{83, 102, 146, 244}}, {{83, 146, 175, 244}}, {{83, 175, 195, 244}}, {{87, 106, 157, 193}}, {{90, 107, 146, 175}}, {{90, 138, 175, 244}}, {{90, 146, 175, 244}}, {{90, 146, 180, 244}}, {{93, 99, 141, 247}}, {{93, 166, 215, 231}}, {{93, 211, 215, 231}}, {{102, 134, 146, 180}}, {{102, 146, 180, 244}}, {{102, 180, 191, 244}}, {{106, 113, 157, 233}}, {{106, 129, 138, 195}}, {{106, 157, 193, 233}}, {{106, 178, 193, 233}}, {{107, 119, 166, 215}}, {{113, 236, 247, 255}}, {{119, 122, 152, 184}}, {{119, 130, 166, 231}}, {{119, 149, 215, 231}}, {{119, 166, 215, 231}}, {{129, 138, 195, 244}}, {{134, 157, 193, 233}}, {{134, 193, 206, 233}}, {{138, 175, 195, 244}}, {{149, 211, 215, 231}}, {{178, 193, 206, 233}}},\n",
      "    VA {{{0, 81, 135, 148}}, {{0, 81, 135, 213}}, {{0, 81, 138, 201}}, {{0, 81, 138, 213}}, {{0, 81, 148, 201}}, {{0, 94, 105, 138}}, {{0, 94, 105, 222}}, {{0, 94, 138, 201}}, {{0, 94, 201, 218}}, {{0, 94, 218, 222}}, {{0, 105, 113, 213}}, {{0, 105, 113, 222}}, {{0, 105, 138, 213}}, {{0, 113, 135, 213}}, {{0, 113, 135, 239}}, {{0, 113, 222, 239}}, {{0, 135, 148, 239}}, {{0, 148, 201, 218}}, {{0, 148, 218, 239}}, {{0, 218, 222, 239}}, {{8, 36, 50, 185}}, {{8, 36, 50, 226}}, {{8, 36, 109, 141}}, {{8, 36, 109, 226}}, {{8, 36, 141, 185}}, {{8, 50, 117, 185}}, {{8, 50, 117, 241}}, {{8, 50, 226, 241}}, {{8, 65, 109, 209}}, {{8, 65, 109, 226}}, {{8, 65, 196, 209}}, {{8, 65, 196, 241}}, {{8, 65, 226, 241}}, {{8, 68, 117, 185}}, {{8, 68, 117, 196}}, {{8, 68, 141, 185}}, {{8, 68, 141, 209}}, {{8, 68, 196, 209}}, {{8, 109, 141, 209}}, {{8, 117, 196, 241}}, {{11, 40, 75, 150}}, {{11, 40, 75, 170}}, {{11, 40, 146, 150}}, {{11, 40, 146, 252}}, {{11, 40, 170, 252}}, {{11, 49, 57, 146}}, {{11, 49, 57, 215}}, {{11, 49, 124, 150}}, {{11, 49, 124, 215}}, {{11, 49, 146, 150}}, {{11, 57, 137, 215}}, {{11, 57, 137, 252}}, {{11, 57, 146, 252}}, {{11, 75, 85, 124}}, {{11, 75, 85, 170}}, {{11, 75, 124, 150}}, {{11, 85, 124, 215}}, {{11, 85, 137, 170}}, {{11, 85, 137, 215}}, {{11, 137, 170, 252}}, {{13, 32, 77, 173}}, {{13, 32, 77, 187}}, {{13, 32, 156, 187}}, {{13, 52, 61, 193}}, {{13, 52, 61, 216}}, {{13, 52, 91, 122}}, {{13, 52, 91, 193}}, {{13, 52, 122, 216}}, {{13, 61, 77, 173}}, {{13, 61, 77, 193}}, {{13, 61, 173, 216}}, {{13, 77, 187, 193}}, {{13, 91, 122, 156}}, {{13, 91, 156, 187}}, {{13, 91, 187, 193}}, {{17, 50, 85, 170}}, {{17, 50, 85, 185}}, {{17, 50, 117, 185}}, {{17, 50, 117, 187}}, {{17, 50, 170, 187}}, {{17, 75, 85, 170}}, {{17, 75, 85, 239}}, {{17, 75, 91, 148}}, {{17, 75, 91, 170}}, {{17, 75, 148, 239}}, {{17, 85, 185, 239}}, {{17, 91, 148, 156}}, {{17, 91, 156, 187}}, {{17, 91, 170, 187}}, {{17, 117, 156, 187}}, {{17, 117, 156, 218}}, {{17, 117, 185, 218}}, {{17, 148, 156, 218}}, {{17, 148, 218, 239}}, {{17, 185, 218, 239}}, {{22, 36, 109, 216}}, {{22, 36, 109, 226}}, {{22, 36, 137, 215}}, {{22, 36, 137, 226}}, {{22, 36, 215, 216}}, {{22, 57, 137, 138}}, {{22, 57, 137, 215}}, {{22, 57, 138, 201}}, {{22, 81, 109, 122}}, {{22, 81, 109, 226}}, {{22, 81, 122, 201}}, {{22, 81, 138, 201}}, {{22, 81, 138, 226}}, {{22, 109, 122, 216}}, {{22, 137, 138, 226}}, {{25, 40, 52, 193}}, {{25, 40, 52, 209}}, {{25, 40, 146, 209}}, {{25, 40, 146, 252}}, {{25, 40, 193, 252}}, {{25, 52, 61, 141}}, {{25, 52, 61, 193}}, {{25, 52, 141, 209}}, {{25, 61, 105, 193}}, {{25, 61, 105, 222}}, {{25, 61, 141, 222}}, {{25, 68, 94, 146}}, {{25, 68, 94, 222}}, {{25, 68, 141, 209}}, {{25, 68, 141, 222}}, {{25, 68, 146, 209}}, {{25, 94, 105, 222}}, {{25, 94, 105, 252}}, {{25, 94, 146, 252}}, {{25, 105, 193, 252}}, {{28, 32, 49, 173}}, {{28, 32, 49, 196}}, {{28, 32, 77, 173}}, {{28, 32, 77, 241}}, {{28, 32, 196, 241}}, {{28, 49, 124, 150}}, {{28, 49, 124, 173}}, {{28, 49, 150, 196}}, {{28, 65, 135, 150}}, {{28, 65, 135, 213}}, {{28, 65, 150, 196}}, {{28, 65, 196, 241}}, {{28, 65, 213, 241}}, {{28, 77, 113, 173}}, {{28, 77, 113, 213}}, {{28, 77, 213, 241}}, {{28, 113, 124, 135}}, {{28, 113, 124, 173}}, {{28, 113, 135, 213}}, {{28, 124, 135, 150}}, {{32, 49, 192, 196}}, {{32, 77, 187, 241}}, {{32, 117, 156, 187}}, {{32, 117, 156, 192}}, {{32, 117, 187, 241}}, {{32, 117, 192, 196}}, {{32, 117, 196, 241}}, {{36, 50, 85, 137}}, {{36, 50, 85, 185}}, {{36, 50, 137, 226}}, {{36, 85, 137, 215}}, {{36, 85, 185, 261}}, {{36, 85, 215, 261}}, {{36, 109, 141, 216}}, {{36, 141, 185, 261}}, {{36, 141, 216, 261}}, {{36, 215, 216, 261}}, {{40, 52, 91, 193}}, {{40, 52, 91, 260}}, {{40, 52, 209, 260}}, {{40, 75, 91, 170}}, {{40, 75, 91, 260}}, {{40, 75, 150, 260}}, {{40, 91, 170, 193}}, {{40, 146, 150, 209}}, {{40, 150, 209, 260}}, {{40, 170, 193, 252}}, {{49, 57, 146, 192}}, {{49, 124, 173, 215}}, {{49, 146, 150, 196}}, {{49, 146, 192, 196}}, {{50, 85, 137, 170}}, {{50, 117, 187, 241}}, {{50, 128, 137, 170}}, {{50, 128, 137, 226}}, {{50, 128, 170, 187}}, {{50, 128, 187, 241}}, {{50, 128, 226, 241}}, {{52, 61, 141, 216}}, {{52, 91, 122, 260}}, {{52, 109, 122, 216}}, {{52, 109, 122, 260}}, {{52, 109, 141, 209}}, {{52, 109, 141, 216}}, {{52, 109, 209, 260}}, {{57, 94, 138, 201}}, {{57, 94, 138, 252}}, {{57, 94, 146, 192}}, {{57, 94, 146, 252}}, {{57, 94, 192, 201}}, {{57, 137, 138, 252}}, {{61, 77, 105, 113}}, {{61, 77, 105, 193}}, {{61, 77, 113, 173}}, {{61, 105, 113, 222}}, {{61, 113, 173, 261}}, {{61, 113, 222, 261}}, {{61, 141, 216, 261}}, {{61, 141, 222, 261}}, {{61, 173, 216, 261}}, {{65, 81, 109, 226}}, {{65, 81, 109, 260}}, {{65, 81, 135, 213}}, {{65, 81, 135, 260}}, {{65, 81, 213, 226}}, {{65, 109, 209, 260}}, {{65, 135, 150, 260}}, {{65, 150, 196, 209}}, {{65, 150, 209, 260}}, {{65, 213, 226, 241}}, {{68, 94, 146, 192}}, {{68, 94, 192, 218}}, {{68, 94, 218, 222}}, {{68, 117, 185, 218}}, {{68, 117, 192, 196}}, {{68, 117, 192, 218}}, {{68, 141, 185, 222}}, {{68, 146, 192, 196}}, {{68, 146, 196, 209}}, {{68, 185, 218, 222}}, {{75, 85, 124, 239}}, {{75, 91, 148, 260}}, {{75, 124, 135, 150}}, {{75, 124, 135, 239}}, {{75, 135, 148, 239}}, {{75, 135, 148, 260}}, {{75, 135, 150, 260}}, {{77, 105, 113, 213}}, {{77, 105, 128, 193}}, {{77, 105, 128, 213}}, {{77, 128, 187, 193}}, {{77, 128, 187, 241}}, {{77, 128, 213, 241}}, {{81, 109, 122, 260}}, {{81, 122, 148, 201}}, {{81, 122, 148, 260}}, {{81, 135, 148, 260}}, {{81, 138, 213, 226}}, {{85, 124, 215, 261}}, {{85, 124, 239, 261}}, {{85, 185, 239, 261}}, {{91, 122, 148, 156}}, {{91, 122, 148, 260}}, {{91, 170, 187, 193}}, {{94, 105, 138, 252}}, {{94, 192, 201, 218}}, {{105, 128, 138, 213}}, {{105, 128, 138, 252}}, {{105, 128, 193, 252}}, {{113, 124, 135, 239}}, {{113, 124, 173, 261}}, {{113, 124, 239, 261}}, {{113, 222, 239, 261}}, {{117, 156, 192, 218}}, {{122, 148, 156, 201}}, {{124, 173, 215, 261}}, {{128, 137, 138, 226}}, {{128, 137, 138, 252}}, {{128, 137, 170, 252}}, {{128, 138, 213, 226}}, {{128, 170, 187, 193}}, {{128, 170, 193, 252}}, {{128, 213, 226, 241}}, {{141, 185, 222, 261}}, {{146, 150, 196, 209}}, {{148, 156, 201, 218}}, {{156, 192, 201, 218}}, {{173, 215, 216, 261}}, {{185, 218, 222, 239}}, {{185, 222, 239, 261}}},\n",
      "    VA {{{3, 49, 82, 144}}, {{3, 49, 82, 171}}, {{3, 49, 97, 116}}, {{3, 49, 97, 171}}, {{3, 49, 116, 144}}, {{3, 70, 116, 144}}, {{3, 70, 116, 168}}, {{3, 70, 144, 156}}, {{3, 70, 156, 202}}, {{3, 70, 168, 202}}, {{3, 82, 132, 156}}, {{3, 82, 132, 171}}, {{3, 82, 144, 156}}, {{3, 94, 97, 168}}, {{3, 94, 97, 171}}, {{3, 94, 132, 171}}, {{3, 94, 132, 202}}, {{3, 94, 168, 202}}, {{3, 97, 116, 168}}, {{3, 132, 156, 202}}, {{5, 41, 104, 105}}, {{5, 41, 104, 187}}, {{5, 41, 105, 203}}, {{5, 41, 187, 242}}, {{5, 41, 203, 242}}, {{5, 56, 105, 159}}, {{5, 56, 105, 203}}, {{5, 56, 159, 226}}, {{5, 56, 203, 259}}, {{5, 56, 226, 259}}, {{5, 84, 131, 187}}, {{5, 84, 131, 226}}, {{5, 84, 187, 242}}, {{5, 84, 226, 259}}, {{5, 84, 242, 259}}, {{5, 104, 105, 159}}, {{5, 104, 131, 159}}, {{5, 104, 131, 187}}, {{5, 131, 159, 226}}, {{5, 203, 242, 259}}, {{7, 36, 51, 161}}, {{7, 36, 51, 198}}, {{7, 36, 161, 228}}, {{7, 36, 198, 251}}, {{7, 36, 228, 251}}, {{7, 51, 161, 182}}, {{7, 51, 182, 222}}, {{7, 51, 198, 222}}, {{7, 67, 74, 124}}, {{7, 67, 74, 182}}, {{7, 67, 124, 228}}, {{7, 67, 161, 182}}, {{7, 67, 161, 228}}, {{7, 74, 118, 124}}, {{7, 74, 118, 222}}, {{7, 74, 182, 222}}, {{7, 118, 124, 251}}, {{7, 118, 198, 222}}, {{7, 118, 198, 251}}, {{7, 124, 228, 251}}, {{15, 35, 45, 163}}, {{15, 35, 45, 189}}, {{15, 35, 150, 163}}, {{15, 35, 150, 208}}, {{15, 35, 189, 208}}, {{15, 45, 91, 140}}, {{15, 45, 91, 163}}, {{15, 45, 140, 189}}, {{15, 63, 72, 127}}, {{15, 63, 72, 150}}, {{15, 63, 109, 127}}, {{15, 63, 109, 208}}, {{15, 63, 150, 208}}, {{15, 72, 91, 127}}, {{15, 72, 91, 163}}, {{15, 72, 150, 163}}, {{15, 91, 127, 140}}, {{15, 109, 127, 140}}, {{15, 109, 140, 189}}, {{15, 109, 189, 208}}, {{17, 45, 91, 156}}, {{17, 45, 91, 163}}, {{17, 45, 118, 163}}, {{17, 45, 118, 202}}, {{17, 45, 156, 202}}, {{17, 70, 84, 187}}, {{17, 70, 84, 198}}, {{17, 70, 156, 187}}, {{17, 70, 156, 202}}, {{17, 70, 198, 202}}, {{17, 84, 187, 242}}, {{17, 84, 198, 251}}, {{17, 84, 242, 251}}, {{17, 91, 156, 187}}, {{17, 91, 163, 242}}, {{17, 91, 187, 242}}, {{17, 118, 163, 251}}, {{17, 118, 198, 202}}, {{17, 118, 198, 251}}, {{17, 163, 242, 251}}, {{22, 36, 109, 161}}, {{22, 36, 109, 226}}, {{22, 36, 161, 228}}, {{22, 36, 226, 259}}, {{22, 36, 228, 259}}, {{22, 56, 132, 171}}, {{22, 56, 132, 189}}, {{22, 56, 171, 259}}, {{22, 56, 189, 226}}, {{22, 56, 226, 259}}, {{22, 82, 132, 140}}, {{22, 82, 132, 171}}, {{22, 82, 140, 161}}, {{22, 82, 161, 228}}, {{22, 82, 171, 228}}, {{22, 109, 140, 161}}, {{22, 109, 140, 189}}, {{22, 109, 189, 226}}, {{22, 132, 140, 189}}, {{22, 171, 228, 259}}, {{25, 41, 72, 127}}, {{25, 41, 72, 203}}, {{25, 41, 105, 182}}, {{25, 41, 105, 203}}, {{25, 41, 127, 182}}, {{25, 51, 63, 127}}, {{25, 51, 63, 168}}, {{25, 51, 127, 182}}, {{25, 51, 168, 222}}, {{25, 51, 182, 222}}, {{25, 63, 72, 97}}, {{25, 63, 72, 127}}, {{25, 63, 97, 168}}, {{25, 72, 97, 203}}, {{25, 94, 97, 168}}, {{25, 94, 97, 203}}, {{25, 94, 105, 203}}, {{25, 94, 105, 222}}, {{25, 94, 168, 222}}, {{25, 105, 182, 222}}, {{28, 35, 74, 124}}, {{28, 35, 74, 159}}, {{28, 35, 124, 150}}, {{28, 35, 150, 208}}, {{28, 35, 159, 208}}, {{28, 49, 67, 124}}, {{28, 49, 67, 144}}, {{28, 49, 116, 144}}, {{28, 49, 116, 150}}, {{28, 49, 124, 150}}, {{28, 67, 74, 104}}, {{28, 67, 74, 124}}, {{28, 67, 104, 144}}, {{28, 74, 104, 159}}, {{28, 104, 131, 144}}, {{28, 104, 131, 159}}, {{28, 116, 131, 144}}, {{28, 116, 131, 208}}, {{28, 116, 150, 208}}, {{28, 131, 159, 208}}, {{35, 45, 118, 147}}, {{35, 45, 118, 163}}, {{35, 45, 147, 189}}, {{35, 74, 118, 124}}, {{35, 74, 118, 147}}, {{35, 74, 147, 159}}, {{35, 118, 124, 163}}, {{35, 124, 150, 163}}, {{35, 147, 159, 189}}, {{35, 159, 189, 208}}, {{36, 51, 109, 161}}, {{36, 51, 109, 176}}, {{36, 51, 176, 198}}, {{36, 84, 176, 198}}, {{36, 84, 176, 226}}, {{36, 84, 198, 251}}, {{36, 84, 226, 259}}, {{36, 84, 251, 259}}, {{36, 109, 176, 226}}, {{36, 228, 251, 259}}, {{41, 72, 91, 127}}, {{41, 72, 91, 242}}, {{41, 72, 203, 242}}, {{41, 91, 127, 238}}, {{41, 91, 187, 238}}, {{41, 91, 187, 242}}, {{41, 104, 105, 182}}, {{41, 104, 182, 238}}, {{41, 104, 187, 238}}, {{41, 127, 182, 238}}, {{45, 91, 140, 156}}, {{45, 118, 147, 202}}, {{45, 132, 140, 156}}, {{45, 132, 140, 189}}, {{45, 132, 147, 189}}, {{45, 132, 147, 202}}, {{45, 132, 156, 202}}, {{49, 67, 82, 144}}, {{49, 67, 82, 228}}, {{49, 67, 124, 228}}, {{49, 82, 171, 228}}, {{49, 97, 116, 150}}, {{51, 63, 109, 127}}, {{51, 63, 109, 176}}, {{51, 63, 168, 176}}, {{51, 109, 127, 161}}, {{51, 127, 161, 182}}, {{51, 168, 176, 198}}, {{51, 168, 198, 222}}, {{56, 94, 105, 147}}, {{56, 94, 105, 203}}, {{56, 94, 132, 147}}, {{56, 94, 132, 171}}, {{56, 94, 171, 203}}, {{56, 105, 147, 159}}, {{56, 132, 147, 189}}, {{56, 147, 159, 189}}, {{56, 159, 189, 226}}, {{56, 171, 203, 259}}, {{63, 72, 97, 150}}, {{63, 97, 116, 150}}, {{63, 97, 116, 168}}, {{63, 109, 176, 208}}, {{63, 116, 150, 208}}, {{63, 116, 168, 176}}, {{63, 116, 176, 208}}, {{67, 74, 104, 182}}, {{67, 82, 144, 238}}, {{67, 82, 161, 228}}, {{67, 82, 161, 238}}, {{67, 104, 144, 238}}, {{67, 104, 182, 238}}, {{67, 161, 182, 238}}, {{70, 84, 131, 176}}, {{70, 84, 131, 187}}, {{70, 84, 176, 198}}, {{70, 116, 131, 144}}, {{70, 116, 131, 176}}, {{70, 116, 168, 176}}, {{70, 131, 144, 187}}, {{70, 144, 156, 187}}, {{70, 168, 176, 198}}, {{70, 168, 198, 202}}, {{72, 91, 163, 242}}, {{74, 104, 105, 159}}, {{74, 104, 105, 182}}, {{74, 105, 147, 159}}, {{74, 105, 147, 222}}, {{74, 105, 182, 222}}, {{74, 118, 147, 222}}, {{82, 132, 140, 156}}, {{82, 140, 156, 238}}, {{82, 140, 161, 238}}, {{82, 144, 156, 238}}, {{84, 131, 176, 226}}, {{84, 242, 251, 259}}, {{91, 127, 140, 238}}, {{91, 140, 156, 238}}, {{91, 156, 187, 238}}, {{94, 97, 171, 203}}, {{94, 105, 147, 222}}, {{94, 132, 147, 202}}, {{94, 147, 202, 222}}, {{94, 168, 202, 222}}, {{104, 131, 144, 187}}, {{104, 144, 187, 238}}, {{109, 127, 140, 161}}, {{109, 176, 208, 226}}, {{109, 189, 208, 226}}, {{116, 131, 176, 208}}, {{118, 124, 163, 251}}, {{118, 147, 202, 222}}, {{118, 198, 202, 222}}, {{127, 140, 161, 238}}, {{127, 161, 182, 238}}, {{131, 159, 208, 226}}, {{131, 176, 208, 226}}, {{144, 156, 187, 238}}, {{159, 189, 208, 226}}, {{168, 198, 202, 222}}},\n",
      "    VA {{{1, 51, 83, 151}}, {{1, 51, 83, 167}}, {{1, 51, 114, 151}}, {{1, 51, 114, 234}}, {{1, 51, 167, 234}}, {{1, 74, 92, 195}}, {{1, 74, 92, 204}}, {{1, 74, 114, 151}}, {{1, 74, 114, 204}}, {{1, 74, 151, 195}}, {{1, 83, 151, 195}}, {{1, 83, 167, 175}}, {{1, 83, 175, 195}}, {{1, 92, 175, 195}}, {{1, 92, 175, 228}}, {{1, 92, 204, 228}}, {{1, 114, 204, 234}}, {{1, 167, 175, 228}}, {{1, 167, 228, 234}}, {{1, 204, 228, 234}}, {{6, 33, 112, 144}}, {{6, 33, 112, 202}}, {{6, 33, 144, 214}}, {{6, 60, 112, 202}}, {{6, 60, 112, 233}}, {{6, 60, 134, 223}}, {{6, 60, 134, 233}}, {{6, 60, 202, 223}}, {{6, 89, 97, 134}}, {{6, 89, 97, 214}}, {{6, 89, 134, 233}}, {{6, 89, 144, 214}}, {{6, 89, 144, 233}}, {{6, 97, 134, 223}}, {{6, 112, 144, 233}}, {{9, 37, 76, 163}}, {{9, 37, 76, 208}}, {{9, 37, 130, 208}}, {{9, 37, 130, 231}}, {{9, 37, 163, 231}}, {{9, 44, 119, 140}}, {{9, 44, 119, 231}}, {{9, 44, 140, 194}}, {{9, 44, 163, 194}}, {{9, 44, 163, 231}}, {{9, 64, 76, 194}}, {{9, 64, 76, 208}}, {{9, 64, 140, 194}}, {{9, 64, 140, 248}}, {{9, 64, 208, 248}}, {{9, 76, 163, 194}}, {{9, 119, 130, 231}}, {{9, 119, 130, 248}}, {{9, 119, 140, 248}}, {{9, 130, 208, 248}}, {{12, 41, 110, 169}}, {{12, 41, 110, 200}}, {{12, 41, 169, 188}}, {{12, 41, 188, 235}}, {{12, 41, 200, 235}}, {{12, 53, 56, 154}}, {{12, 53, 56, 235}}, {{12, 53, 84, 154}}, {{12, 53, 84, 200}}, {{12, 53, 200, 235}}, {{12, 56, 73, 154}}, {{12, 56, 73, 188}}, {{12, 56, 188, 235}}, {{12, 73, 99, 154}}, {{12, 73, 99, 169}}, {{12, 73, 169, 188}}, {{12, 84, 99, 110}}, {{12, 84, 99, 154}}, {{12, 84, 110, 200}}, {{12, 99, 110, 169}}, {{16, 84, 110, 200}}, {{16, 84, 110, 234}}, {{16, 84, 130, 200}}, {{16, 84, 130, 231}}, {{16, 84, 231, 234}}, {{16, 89, 110, 167}}, {{16, 89, 110, 200}}, {{16, 89, 144, 200}}, {{16, 89, 144, 214}}, {{16, 89, 167, 214}}, {{16, 110, 167, 234}}, {{16, 119, 130, 144}}, {{16, 119, 130, 231}}, {{16, 119, 144, 214}}, {{16, 119, 214, 228}}, {{16, 119, 228, 231}}, {{16, 130, 144, 200}}, {{16, 167, 214, 228}}, {{16, 167, 228, 234}}, {{16, 228, 231, 234}}, {{24, 41, 134, 194}}, {{24, 41, 134, 233}}, {{24, 41, 188, 194}}, {{24, 41, 188, 235}}, {{24, 41, 233, 235}}, {{24, 44, 92, 188}}, {{24, 44, 92, 204}}, {{24, 44, 163, 194}}, {{24, 44, 163, 204}}, {{24, 44, 188, 194}}, {{24, 60, 74, 204}}, {{24, 60, 74, 233}}, {{24, 60, 134, 163}}, {{24, 60, 134, 233}}, {{24, 60, 163, 204}}, {{24, 74, 92, 204}}, {{24, 74, 92, 235}}, {{24, 74, 233, 235}}, {{24, 92, 188, 235}}, {{24, 134, 163, 194}}, {{27, 33, 73, 140}}, {{27, 33, 73, 202}}, {{27, 33, 112, 202}}, {{27, 33, 112, 248}}, {{27, 33, 140, 248}}, {{27, 51, 64, 151}}, {{27, 51, 64, 169}}, {{27, 51, 99, 114}}, {{27, 51, 99, 169}}, {{27, 51, 114, 151}}, {{27, 64, 140, 169}}, {{27, 64, 140, 248}}, {{27, 64, 151, 248}}, {{27, 73, 99, 169}}, {{27, 73, 99, 202}}, {{27, 73, 140, 169}}, {{27, 99, 114, 202}}, {{27, 112, 114, 151}}, {{27, 112, 114, 202}}, {{27, 112, 151, 248}}, {{29, 37, 53, 154}}, {{29, 37, 53, 208}}, {{29, 37, 76, 208}}, {{29, 37, 76, 223}}, {{29, 37, 154, 223}}, {{29, 53, 56, 154}}, {{29, 53, 56, 195}}, {{29, 53, 195, 208}}, {{29, 56, 175, 195}}, {{29, 76, 83, 97}}, {{29, 76, 83, 208}}, {{29, 76, 97, 223}}, {{29, 83, 97, 175}}, {{29, 83, 175, 195}}, {{29, 83, 195, 208}}, {{33, 73, 140, 183}}, {{33, 112, 144, 248}}, {{33, 119, 140, 183}}, {{33, 119, 140, 248}}, {{33, 119, 144, 214}}, {{33, 119, 144, 248}}, {{33, 119, 183, 214}}, {{37, 53, 84, 130}}, {{37, 53, 84, 154}}, {{37, 53, 130, 208}}, {{37, 76, 163, 223}}, {{37, 84, 130, 231}}, {{37, 84, 154, 258}}, {{37, 84, 231, 258}}, {{37, 154, 223, 258}}, {{37, 163, 223, 258}}, {{37, 163, 231, 258}}, {{41, 89, 110, 200}}, {{41, 89, 110, 256}}, {{41, 89, 134, 233}}, {{41, 89, 134, 256}}, {{41, 89, 200, 233}}, {{41, 110, 169, 256}}, {{41, 134, 194, 256}}, {{41, 169, 188, 194}}, {{41, 169, 194, 256}}, {{41, 200, 233, 235}}, {{44, 92, 183, 188}}, {{44, 92, 183, 228}}, {{44, 92, 204, 228}}, {{44, 119, 140, 183}}, {{44, 119, 183, 228}}, {{44, 119, 228, 231}}, {{44, 140, 183, 188}}, {{44, 140, 188, 194}}, {{44, 163, 204, 231}}, {{44, 204, 228, 231}}, {{51, 64, 83, 151}}, {{51, 64, 83, 256}}, {{51, 64, 169, 256}}, {{51, 83, 167, 256}}, {{51, 99, 110, 169}}, {{51, 99, 110, 234}}, {{51, 99, 114, 234}}, {{51, 110, 167, 234}}, {{51, 110, 167, 256}}, {{51, 110, 169, 256}}, {{53, 56, 195, 235}}, {{53, 84, 130, 200}}, {{53, 103, 130, 200}}, {{53, 103, 130, 208}}, {{53, 103, 195, 208}}, {{53, 103, 195, 235}}, {{53, 103, 200, 235}}, {{56, 73, 183, 188}}, {{56, 92, 175, 183}}, {{56, 92, 175, 195}}, {{56, 92, 183, 188}}, {{56, 92, 188, 235}}, {{56, 92, 195, 235}}, {{60, 74, 112, 114}}, {{60, 74, 112, 233}}, {{60, 74, 114, 204}}, {{60, 112, 114, 202}}, {{60, 114, 202, 258}}, {{60, 114, 204, 258}}, {{60, 134, 163, 223}}, {{60, 163, 204, 258}}, {{60, 163, 223, 258}}, {{60, 202, 223, 258}}, {{64, 76, 83, 208}}, {{64, 76, 83, 256}}, {{64, 76, 194, 256}}, {{64, 83, 151, 208}}, {{64, 140, 169, 194}}, {{64, 151, 208, 248}}, {{64, 169, 194, 256}}, {{73, 99, 154, 202}}, {{73, 140, 169, 188}}, {{73, 140, 183, 188}}, {{74, 92, 195, 235}}, {{74, 103, 112, 151}}, {{74, 103, 112, 233}}, {{74, 103, 151, 195}}, {{74, 103, 195, 235}}, {{74, 103, 233, 235}}, {{74, 112, 114, 151}}, {{76, 83, 97, 256}}, {{76, 97, 134, 223}}, {{76, 97, 134, 256}}, {{76, 134, 163, 194}}, {{76, 134, 163, 223}}, {{76, 134, 194, 256}}, {{83, 97, 167, 175}}, {{83, 97, 167, 256}}, {{83, 151, 195, 208}}, {{84, 99, 110, 234}}, {{84, 99, 154, 258}}, {{84, 99, 234, 258}}, {{84, 231, 234, 258}}, {{89, 97, 134, 256}}, {{89, 97, 167, 214}}, {{89, 97, 167, 256}}, {{89, 110, 167, 256}}, {{89, 144, 200, 233}}, {{92, 175, 183, 228}}, {{97, 167, 175, 214}}, {{99, 114, 202, 258}}, {{99, 114, 234, 258}}, {{99, 154, 202, 258}}, {{103, 112, 144, 233}}, {{103, 112, 144, 248}}, {{103, 112, 151, 248}}, {{103, 130, 144, 200}}, {{103, 130, 144, 248}}, {{103, 130, 208, 248}}, {{103, 144, 200, 233}}, {{103, 151, 195, 208}}, {{103, 151, 208, 248}}, {{103, 200, 233, 235}}, {{114, 204, 234, 258}}, {{119, 130, 144, 248}}, {{119, 183, 214, 228}}, {{140, 169, 188, 194}}, {{154, 202, 223, 258}}, {{163, 204, 231, 258}}, {{167, 175, 214, 228}}, {{175, 183, 214, 228}}, {{204, 228, 231, 234}}, {{204, 231, 234, 258}}},\n",
      "    VA {{{2, 45, 80, 152}}, {{2, 45, 80, 214}}, {{2, 45, 92, 152}}, {{2, 45, 92, 173}}, {{2, 45, 173, 214}}, {{2, 73, 80, 152}}, {{2, 73, 80, 187}}, {{2, 73, 115, 122}}, {{2, 73, 115, 187}}, {{2, 73, 122, 152}}, {{2, 80, 187, 214}}, {{2, 92, 122, 152}}, {{2, 92, 122, 198}}, {{2, 92, 173, 198}}, {{2, 108, 115, 187}}, {{2, 108, 115, 198}}, {{2, 108, 173, 198}}, {{2, 108, 173, 214}}, {{2, 108, 187, 214}}, {{2, 115, 122, 198}}, {{4, 37, 127, 135}}, {{4, 37, 127, 218}}, {{4, 37, 135, 168}}, {{4, 37, 168, 247}}, {{4, 37, 218, 247}}, {{4, 66, 99, 105}}, {{4, 66, 99, 218}}, {{4, 66, 105, 225}}, {{4, 66, 127, 218}}, {{4, 66, 127, 225}}, {{4, 99, 105, 120}}, {{4, 99, 120, 247}}, {{4, 99, 218, 247}}, {{4, 105, 120, 204}}, {{4, 105, 204, 225}}, {{4, 120, 168, 204}}, {{4, 120, 168, 247}}, {{4, 127, 135, 225}}, {{4, 135, 168, 204}}, {{4, 135, 204, 225}}, {{10, 40, 74, 181}}, {{10, 40, 74, 184}}, {{10, 40, 144, 181}}, {{10, 40, 144, 236}}, {{10, 40, 184, 236}}, {{10, 54, 85, 144}}, {{10, 54, 85, 208}}, {{10, 54, 125, 181}}, {{10, 54, 125, 208}}, {{10, 54, 144, 181}}, {{10, 57, 74, 125}}, {{10, 57, 74, 184}}, {{10, 57, 125, 208}}, {{10, 57, 184, 255}}, {{10, 57, 208, 255}}, {{10, 74, 125, 181}}, {{10, 85, 144, 236}}, {{10, 85, 208, 255}}, {{10, 85, 236, 255}}, {{10, 184, 236, 255}}, {{14, 34, 132, 141}}, {{14, 34, 132, 164}}, {{14, 34, 141, 169}}, {{14, 34, 164, 226}}, {{14, 34, 169, 226}}, {{14, 48, 62, 161}}, {{14, 48, 62, 169}}, {{14, 48, 89, 141}}, {{14, 48, 89, 161}}, {{14, 48, 141, 169}}, {{14, 62, 76, 161}}, {{14, 62, 76, 226}}, {{14, 62, 169, 226}}, {{14, 76, 161, 196}}, {{14, 76, 164, 196}}, {{14, 76, 164, 226}}, {{14, 89, 132, 141}}, {{14, 89, 132, 196}}, {{14, 89, 161, 196}}, {{14, 132, 164, 196}}, {{16, 85, 108, 144}}, {{16, 85, 108, 168}}, {{16, 85, 144, 236}}, {{16, 85, 168, 247}}, {{16, 85, 236, 247}}, {{16, 89, 132, 141}}, {{16, 89, 132, 214}}, {{16, 89, 141, 236}}, {{16, 89, 144, 214}}, {{16, 89, 144, 236}}, {{16, 108, 144, 214}}, {{16, 108, 168, 173}}, {{16, 108, 173, 214}}, {{16, 120, 132, 141}}, {{16, 120, 132, 173}}, {{16, 120, 141, 247}}, {{16, 120, 168, 173}}, {{16, 120, 168, 247}}, {{16, 132, 173, 214}}, {{16, 141, 236, 247}}, {{24, 40, 48, 161}}, {{24, 40, 48, 184}}, {{24, 40, 74, 184}}, {{24, 40, 74, 225}}, {{24, 40, 161, 225}}, {{24, 48, 62, 122}}, {{24, 48, 62, 161}}, {{24, 48, 122, 184}}, {{24, 62, 122, 198}}, {{24, 62, 135, 161}}, {{24, 62, 135, 198}}, {{24, 74, 92, 184}}, {{24, 74, 92, 204}}, {{24, 74, 204, 225}}, {{24, 92, 122, 184}}, {{24, 92, 122, 198}}, {{24, 92, 198, 204}}, {{24, 135, 161, 225}}, {{24, 135, 198, 204}}, {{24, 135, 204, 225}}, {{27, 34, 99, 105}}, {{27, 34, 99, 169}}, {{27, 34, 105, 125}}, {{27, 34, 125, 226}}, {{27, 34, 169, 226}}, {{27, 54, 115, 187}}, {{27, 54, 115, 226}}, {{27, 54, 125, 181}}, {{27, 54, 125, 226}}, {{27, 54, 181, 187}}, {{27, 66, 73, 99}}, {{27, 66, 73, 187}}, {{27, 66, 99, 105}}, {{27, 66, 105, 181}}, {{27, 66, 181, 187}}, {{27, 73, 99, 169}}, {{27, 73, 115, 169}}, {{27, 73, 115, 187}}, {{27, 105, 125, 181}}, {{27, 115, 169, 226}}, {{29, 37, 76, 127}}, {{29, 37, 76, 208}}, {{29, 37, 127, 218}}, {{29, 37, 208, 255}}, {{29, 37, 218, 255}}, {{29, 45, 57, 152}}, {{29, 45, 57, 164}}, {{29, 45, 80, 152}}, {{29, 45, 80, 196}}, {{29, 45, 164, 196}}, {{29, 57, 152, 255}}, {{29, 57, 164, 208}}, {{29, 57, 208, 255}}, {{29, 76, 127, 196}}, {{29, 76, 164, 196}}, {{29, 76, 164, 208}}, {{29, 80, 127, 196}}, {{29, 80, 127, 218}}, {{29, 80, 152, 218}}, {{29, 152, 218, 255}}, {{34, 99, 105, 120}}, {{34, 99, 120, 141}}, {{34, 99, 141, 169}}, {{34, 105, 120, 210}}, {{34, 105, 125, 210}}, {{34, 120, 132, 141}}, {{34, 120, 132, 210}}, {{34, 125, 164, 210}}, {{34, 125, 164, 226}}, {{34, 132, 164, 210}}, {{37, 76, 96, 135}}, {{37, 76, 96, 208}}, {{37, 76, 127, 135}}, {{37, 85, 96, 168}}, {{37, 85, 96, 208}}, {{37, 85, 168, 247}}, {{37, 85, 208, 255}}, {{37, 85, 247, 255}}, {{37, 96, 135, 168}}, {{37, 218, 247, 255}}, {{40, 48, 89, 161}}, {{40, 48, 89, 236}}, {{40, 48, 184, 236}}, {{40, 74, 181, 225}}, {{40, 89, 144, 227}}, {{40, 89, 144, 236}}, {{40, 89, 161, 227}}, {{40, 144, 181, 227}}, {{40, 161, 225, 227}}, {{40, 181, 225, 227}}, {{45, 57, 92, 152}}, {{45, 57, 92, 210}}, {{45, 57, 164, 210}}, {{45, 80, 196, 214}}, {{45, 92, 173, 210}}, {{45, 132, 164, 196}}, {{45, 132, 164, 210}}, {{45, 132, 173, 210}}, {{45, 132, 173, 214}}, {{45, 132, 196, 214}}, {{48, 62, 122, 169}}, {{48, 89, 141, 236}}, {{48, 122, 169, 262}}, {{48, 122, 184, 262}}, {{48, 141, 169, 262}}, {{48, 141, 236, 262}}, {{48, 184, 236, 262}}, {{54, 85, 96, 108}}, {{54, 85, 96, 208}}, {{54, 85, 108, 144}}, {{54, 96, 108, 115}}, {{54, 96, 115, 226}}, {{54, 96, 208, 226}}, {{54, 108, 115, 187}}, {{54, 108, 144, 187}}, {{54, 125, 208, 226}}, {{54, 144, 181, 187}}, {{57, 74, 92, 184}}, {{57, 74, 92, 210}}, {{57, 74, 125, 210}}, {{57, 92, 152, 184}}, {{57, 125, 164, 208}}, {{57, 125, 164, 210}}, {{57, 152, 184, 255}}, {{62, 76, 96, 135}}, {{62, 76, 96, 226}}, {{62, 76, 135, 161}}, {{62, 96, 115, 198}}, {{62, 96, 115, 226}}, {{62, 96, 135, 198}}, {{62, 115, 122, 169}}, {{62, 115, 122, 198}}, {{62, 115, 169, 226}}, {{66, 73, 80, 187}}, {{66, 73, 80, 218}}, {{66, 73, 99, 218}}, {{66, 80, 127, 218}}, {{66, 80, 127, 227}}, {{66, 80, 187, 227}}, {{66, 105, 181, 225}}, {{66, 127, 225, 227}}, {{66, 181, 187, 227}}, {{66, 181, 225, 227}}, {{73, 80, 152, 218}}, {{73, 99, 169, 262}}, {{73, 99, 218, 262}}, {{73, 115, 122, 169}}, {{73, 122, 152, 262}}, {{73, 122, 169, 262}}, {{73, 152, 218, 262}}, {{74, 92, 204, 210}}, {{74, 105, 125, 181}}, {{74, 105, 125, 210}}, {{74, 105, 181, 225}}, {{74, 105, 204, 210}}, {{74, 105, 204, 225}}, {{76, 96, 208, 226}}, {{76, 127, 135, 161}}, {{76, 127, 161, 196}}, {{76, 164, 208, 226}}, {{80, 127, 196, 227}}, {{80, 187, 214, 227}}, {{80, 196, 214, 227}}, {{85, 96, 108, 168}}, {{85, 236, 247, 255}}, {{89, 132, 196, 214}}, {{89, 144, 214, 227}}, {{89, 161, 196, 227}}, {{89, 196, 214, 227}}, {{92, 122, 152, 184}}, {{92, 173, 198, 204}}, {{92, 173, 204, 210}}, {{96, 108, 115, 198}}, {{96, 108, 168, 198}}, {{96, 135, 168, 198}}, {{99, 120, 141, 247}}, {{99, 141, 169, 262}}, {{99, 141, 247, 262}}, {{99, 218, 247, 262}}, {{105, 120, 204, 210}}, {{108, 144, 187, 214}}, {{108, 168, 173, 198}}, {{120, 132, 173, 210}}, {{120, 168, 173, 204}}, {{120, 173, 204, 210}}, {{122, 152, 184, 262}}, {{125, 164, 208, 226}}, {{127, 135, 161, 225}}, {{127, 161, 196, 227}}, {{127, 161, 225, 227}}, {{135, 168, 198, 204}}, {{141, 236, 247, 262}}, {{144, 181, 187, 227}}, {{144, 187, 214, 227}}, {{152, 184, 255, 262}}, {{152, 218, 255, 262}}, {{168, 173, 198, 204}}, {{184, 236, 255, 262}}, {{218, 247, 255, 262}}, {{236, 247, 255, 262}}},\n",
      "    VA {{{0, 82, 149, 154}}, {{0, 82, 149, 161}}, {{0, 82, 154, 184}}, {{0, 82, 161, 238}}, {{0, 82, 184, 238}}, {{0, 95, 139, 154}}, {{0, 95, 139, 181}}, {{0, 95, 149, 154}}, {{0, 95, 149, 172}}, {{0, 95, 172, 181}}, {{0, 113, 161, 172}}, {{0, 113, 161, 238}}, {{0, 113, 172, 181}}, {{0, 113, 181, 249}}, {{0, 113, 238, 249}}, {{0, 139, 154, 184}}, {{0, 139, 181, 249}}, {{0, 139, 184, 249}}, {{0, 149, 161, 172}}, {{0, 184, 238, 249}}, {{4, 38, 129, 150}}, {{4, 38, 129, 212}}, {{4, 38, 150, 166}}, {{4, 38, 166, 252}}, {{4, 38, 212, 252}}, {{4, 67, 100, 193}}, {{4, 67, 100, 232}}, {{4, 67, 166, 232}}, {{4, 67, 166, 252}}, {{4, 67, 193, 252}}, {{4, 100, 118, 193}}, {{4, 100, 118, 260}}, {{4, 100, 232, 260}}, {{4, 118, 129, 212}}, {{4, 118, 129, 260}}, {{4, 118, 193, 212}}, {{4, 129, 150, 260}}, {{4, 150, 166, 232}}, {{4, 150, 232, 260}}, {{4, 193, 212, 252}}, {{5, 42, 102, 217}}, {{5, 42, 102, 226}}, {{5, 42, 141, 159}}, {{5, 42, 141, 217}}, {{5, 42, 159, 226}}, {{5, 56, 159, 183}}, {{5, 56, 159, 226}}, {{5, 56, 175, 179}}, {{5, 56, 175, 183}}, {{5, 56, 179, 226}}, {{5, 85, 102, 179}}, {{5, 85, 102, 217}}, {{5, 85, 175, 179}}, {{5, 85, 175, 257}}, {{5, 85, 217, 257}}, {{5, 102, 179, 226}}, {{5, 141, 159, 183}}, {{5, 141, 183, 257}}, {{5, 141, 217, 257}}, {{5, 175, 183, 257}}, {{6, 33, 126, 198}}, {{6, 33, 126, 214}}, {{6, 33, 198, 202}}, {{6, 33, 202, 265}}, {{6, 33, 214, 265}}, {{6, 63, 97, 210}}, {{6, 63, 97, 214}}, {{6, 63, 126, 214}}, {{6, 63, 126, 241}}, {{6, 63, 210, 241}}, {{6, 88, 198, 202}}, {{6, 88, 198, 241}}, {{6, 88, 202, 223}}, {{6, 88, 210, 223}}, {{6, 88, 210, 241}}, {{6, 97, 210, 223}}, {{6, 97, 214, 265}}, {{6, 97, 223, 265}}, {{6, 126, 198, 241}}, {{6, 202, 223, 265}}, {{17, 85, 102, 212}}, {{17, 85, 102, 217}}, {{17, 85, 129, 212}}, {{17, 85, 129, 249}}, {{17, 85, 217, 249}}, {{17, 88, 102, 198}}, {{17, 88, 102, 217}}, {{17, 88, 184, 202}}, {{17, 88, 184, 217}}, {{17, 88, 198, 202}}, {{17, 102, 198, 212}}, {{17, 118, 129, 139}}, {{17, 118, 129, 212}}, {{17, 118, 139, 202}}, {{17, 118, 198, 202}}, {{17, 118, 198, 212}}, {{17, 129, 139, 249}}, {{17, 139, 184, 202}}, {{17, 139, 184, 249}}, {{17, 184, 217, 249}}, {{23, 42, 159, 226}}, {{23, 42, 159, 232}}, {{23, 42, 210, 232}}, {{23, 42, 210, 241}}, {{23, 42, 226, 241}}, {{23, 63, 150, 181}}, {{23, 63, 150, 210}}, {{23, 63, 172, 181}}, {{23, 63, 172, 241}}, {{23, 63, 210, 241}}, {{23, 95, 159, 226}}, {{23, 95, 159, 260}}, {{23, 95, 172, 181}}, {{23, 95, 172, 226}}, {{23, 95, 181, 260}}, {{23, 150, 181, 260}}, {{23, 150, 210, 232}}, {{23, 150, 232, 260}}, {{23, 159, 232, 260}}, {{23, 172, 226, 241}}, {{26, 33, 100, 183}}, {{26, 33, 100, 193}}, {{26, 33, 126, 193}}, {{26, 33, 126, 214}}, {{26, 33, 183, 214}}, {{26, 67, 100, 141}}, {{26, 67, 100, 193}}, {{26, 67, 141, 238}}, {{26, 67, 161, 193}}, {{26, 67, 161, 238}}, {{26, 100, 141, 183}}, {{26, 113, 126, 161}}, {{26, 113, 126, 214}}, {{26, 113, 161, 238}}, {{26, 113, 214, 257}}, {{26, 113, 238, 257}}, {{26, 126, 161, 193}}, {{26, 141, 183, 257}}, {{26, 141, 238, 257}}, {{26, 183, 214, 257}}, {{29, 38, 97, 166}}, {{29, 38, 97, 175}}, {{29, 38, 166, 252}}, {{29, 38, 175, 179}}, {{29, 38, 179, 252}}, {{29, 56, 149, 154}}, {{29, 56, 149, 179}}, {{29, 56, 154, 265}}, {{29, 56, 175, 179}}, {{29, 56, 175, 265}}, {{29, 82, 149, 154}}, {{29, 82, 149, 252}}, {{29, 82, 154, 223}}, {{29, 82, 166, 223}}, {{29, 82, 166, 252}}, {{29, 97, 166, 223}}, {{29, 97, 175, 265}}, {{29, 97, 223, 265}}, {{29, 149, 179, 252}}, {{29, 154, 223, 265}}, {{33, 73, 100, 118}}, {{33, 73, 100, 183}}, {{33, 73, 118, 202}}, {{33, 73, 183, 265}}, {{33, 73, 202, 265}}, {{33, 100, 118, 193}}, {{33, 118, 193, 198}}, {{33, 118, 198, 202}}, {{33, 126, 193, 198}}, {{33, 183, 214, 265}}, {{38, 72, 85, 129}}, {{38, 72, 85, 175}}, {{38, 72, 97, 150}}, {{38, 72, 97, 175}}, {{38, 72, 129, 150}}, {{38, 85, 129, 212}}, {{38, 85, 175, 179}}, {{38, 85, 179, 212}}, {{38, 97, 150, 166}}, {{38, 179, 212, 252}}, {{42, 68, 88, 210}}, {{42, 68, 88, 217}}, {{42, 68, 141, 217}}, {{42, 68, 141, 232}}, {{42, 68, 210, 232}}, {{42, 88, 102, 217}}, {{42, 88, 102, 241}}, {{42, 88, 210, 241}}, {{42, 102, 226, 241}}, {{42, 141, 159, 232}}, {{56, 73, 95, 154}}, {{56, 73, 95, 159}}, {{56, 73, 154, 265}}, {{56, 73, 159, 183}}, {{56, 73, 183, 265}}, {{56, 95, 149, 154}}, {{56, 95, 149, 226}}, {{56, 95, 159, 226}}, {{56, 149, 179, 226}}, {{56, 175, 183, 265}}, {{63, 72, 97, 150}}, {{63, 72, 97, 214}}, {{63, 72, 113, 181}}, {{63, 72, 113, 214}}, {{63, 72, 150, 181}}, {{63, 97, 150, 210}}, {{63, 113, 126, 172}}, {{63, 113, 126, 214}}, {{63, 113, 172, 181}}, {{63, 126, 172, 241}}, {{67, 68, 82, 166}}, {{67, 68, 82, 238}}, {{67, 68, 141, 232}}, {{67, 68, 141, 238}}, {{67, 68, 166, 232}}, {{67, 82, 161, 238}}, {{67, 82, 161, 252}}, {{67, 82, 166, 252}}, {{67, 100, 141, 232}}, {{67, 161, 193, 252}}, {{68, 82, 166, 223}}, {{68, 82, 184, 223}}, {{68, 82, 184, 238}}, {{68, 88, 184, 217}}, {{68, 88, 184, 223}}, {{68, 88, 210, 223}}, {{68, 141, 217, 238}}, {{68, 166, 210, 223}}, {{68, 166, 210, 232}}, {{68, 184, 217, 238}}, {{71, 102, 179, 212}}, {{71, 102, 179, 226}}, {{71, 102, 198, 212}}, {{71, 102, 198, 241}}, {{71, 102, 226, 241}}, {{71, 126, 161, 172}}, {{71, 126, 161, 193}}, {{71, 126, 172, 241}}, {{71, 126, 193, 198}}, {{71, 126, 198, 241}}, {{71, 149, 161, 172}}, {{71, 149, 161, 252}}, {{71, 149, 172, 226}}, {{71, 149, 179, 226}}, {{71, 149, 179, 252}}, {{71, 161, 193, 252}}, {{71, 172, 226, 241}}, {{71, 179, 212, 252}}, {{71, 193, 198, 212}}, {{71, 193, 212, 252}}, {{72, 85, 129, 249}}, {{72, 85, 175, 257}}, {{72, 85, 249, 257}}, {{72, 97, 175, 214}}, {{72, 113, 181, 249}}, {{72, 113, 214, 257}}, {{72, 113, 249, 257}}, {{72, 129, 150, 181}}, {{72, 129, 181, 249}}, {{72, 175, 214, 257}}, {{73, 95, 139, 154}}, {{73, 95, 139, 260}}, {{73, 95, 159, 260}}, {{73, 100, 118, 260}}, {{73, 100, 159, 183}}, {{73, 100, 159, 260}}, {{73, 118, 139, 202}}, {{73, 118, 139, 260}}, {{73, 139, 154, 202}}, {{73, 154, 202, 265}}, {{82, 149, 161, 252}}, {{82, 154, 184, 223}}, {{85, 102, 179, 212}}, {{85, 217, 249, 257}}, {{88, 102, 198, 241}}, {{88, 184, 202, 223}}, {{95, 139, 181, 260}}, {{95, 149, 172, 226}}, {{97, 150, 166, 210}}, {{97, 166, 210, 223}}, {{97, 175, 214, 265}}, {{100, 141, 159, 183}}, {{100, 141, 159, 232}}, {{100, 159, 232, 260}}, {{113, 126, 161, 172}}, {{113, 238, 249, 257}}, {{118, 129, 139, 260}}, {{118, 193, 198, 212}}, {{129, 139, 181, 249}}, {{129, 139, 181, 260}}, {{129, 150, 181, 260}}, {{139, 154, 184, 202}}, {{141, 217, 238, 257}}, {{150, 166, 210, 232}}, {{154, 184, 202, 223}}, {{154, 202, 223, 265}}, {{175, 183, 214, 257}}, {{175, 183, 214, 265}}, {{184, 217, 238, 249}}, {{217, 238, 249, 257}}},\n",
      "    VA {{{0, 81, 107, 163}}, {{0, 81, 107, 201}}, {{0, 81, 138, 201}}, {{0, 81, 138, 242}}, {{0, 81, 163, 242}}, {{0, 95, 107, 154}}, {{0, 95, 107, 163}}, {{0, 95, 149, 154}}, {{0, 95, 149, 251}}, {{0, 95, 163, 251}}, {{0, 107, 154, 201}}, {{0, 114, 133, 138}}, {{0, 114, 133, 149}}, {{0, 114, 138, 242}}, {{0, 114, 149, 251}}, {{0, 114, 242, 251}}, {{0, 133, 138, 201}}, {{0, 133, 149, 154}}, {{0, 133, 154, 201}}, {{0, 163, 242, 251}}, {{8, 38, 72, 97}}, {{8, 38, 72, 180}}, {{8, 38, 97, 211}}, {{8, 38, 110, 180}}, {{8, 38, 110, 211}}, {{8, 50, 64, 203}}, {{8, 50, 64, 220}}, {{8, 50, 117, 185}}, {{8, 50, 117, 203}}, {{8, 50, 185, 220}}, {{8, 64, 72, 180}}, {{8, 64, 72, 203}}, {{8, 64, 180, 220}}, {{8, 72, 97, 203}}, {{8, 97, 117, 203}}, {{8, 97, 117, 211}}, {{8, 110, 180, 220}}, {{8, 110, 185, 211}}, {{8, 110, 185, 220}}, {{8, 117, 185, 211}}, {{11, 42, 49, 124}}, {{11, 42, 49, 195}}, {{11, 42, 124, 130}}, {{11, 42, 130, 162}}, {{11, 42, 162, 195}}, {{11, 49, 86, 150}}, {{11, 49, 86, 195}}, {{11, 49, 124, 150}}, {{11, 58, 100, 130}}, {{11, 58, 100, 233}}, {{11, 58, 124, 130}}, {{11, 58, 124, 150}}, {{11, 58, 150, 233}}, {{11, 78, 86, 195}}, {{11, 78, 86, 233}}, {{11, 78, 100, 162}}, {{11, 78, 100, 233}}, {{11, 78, 162, 195}}, {{11, 86, 150, 233}}, {{11, 100, 130, 162}}, {{13, 33, 69, 142}}, {{13, 33, 69, 171}}, {{13, 33, 142, 193}}, {{13, 33, 171, 259}}, {{13, 33, 193, 259}}, {{13, 52, 61, 102}}, {{13, 52, 61, 193}}, {{13, 52, 102, 188}}, {{13, 52, 142, 188}}, {{13, 52, 142, 193}}, {{13, 61, 102, 228}}, {{13, 61, 193, 259}}, {{13, 61, 228, 259}}, {{13, 69, 88, 171}}, {{13, 69, 88, 188}}, {{13, 69, 142, 188}}, {{13, 88, 102, 188}}, {{13, 88, 102, 228}}, {{13, 88, 171, 228}}, {{13, 171, 228, 259}}, {{18, 49, 86, 97}}, {{18, 49, 86, 195}}, {{18, 49, 88, 171}}, {{18, 49, 88, 195}}, {{18, 49, 97, 171}}, {{18, 69, 88, 171}}, {{18, 69, 88, 201}}, {{18, 69, 117, 154}}, {{18, 69, 117, 171}}, {{18, 69, 154, 201}}, {{18, 86, 97, 211}}, {{18, 86, 133, 195}}, {{18, 86, 133, 211}}, {{18, 88, 195, 201}}, {{18, 97, 117, 171}}, {{18, 97, 117, 211}}, {{18, 117, 154, 211}}, {{18, 133, 154, 201}}, {{18, 133, 154, 211}}, {{18, 133, 195, 201}}, {{20, 42, 102, 220}}, {{20, 42, 102, 228}}, {{20, 42, 124, 130}}, {{20, 42, 124, 228}}, {{20, 42, 130, 220}}, {{20, 61, 102, 110}}, {{20, 61, 102, 228}}, {{20, 61, 110, 149}}, {{20, 61, 149, 251}}, {{20, 61, 228, 251}}, {{20, 95, 124, 130}}, {{20, 95, 124, 251}}, {{20, 95, 130, 185}}, {{20, 95, 149, 185}}, {{20, 95, 149, 251}}, {{20, 102, 110, 220}}, {{20, 110, 149, 185}}, {{20, 110, 185, 220}}, {{20, 124, 228, 251}}, {{20, 130, 185, 220}}, {{26, 33, 50, 100}}, {{26, 33, 50, 203}}, {{26, 33, 100, 193}}, {{26, 33, 193, 259}}, {{26, 33, 203, 259}}, {{26, 50, 64, 162}}, {{26, 50, 64, 203}}, {{26, 50, 100, 162}}, {{26, 64, 138, 162}}, {{26, 64, 138, 242}}, {{26, 64, 203, 242}}, {{26, 78, 100, 162}}, {{26, 78, 100, 193}}, {{26, 78, 114, 138}}, {{26, 78, 114, 193}}, {{26, 78, 138, 162}}, {{26, 114, 138, 242}}, {{26, 114, 193, 259}}, {{26, 114, 242, 259}}, {{26, 203, 242, 259}}, {{30, 38, 52, 180}}, {{30, 38, 52, 233}}, {{30, 38, 72, 150}}, {{30, 38, 72, 180}}, {{30, 38, 150, 233}}, {{30, 52, 142, 188}}, {{30, 52, 142, 233}}, {{30, 52, 180, 188}}, {{30, 58, 107, 142}}, {{30, 58, 107, 163}}, {{30, 58, 142, 233}}, {{30, 58, 150, 163}}, {{30, 58, 150, 233}}, {{30, 72, 81, 163}}, {{30, 72, 81, 180}}, {{30, 72, 150, 163}}, {{30, 81, 107, 163}}, {{30, 81, 107, 188}}, {{30, 81, 180, 188}}, {{30, 107, 142, 188}}, {{33, 50, 100, 197}}, {{33, 50, 117, 197}}, {{33, 50, 117, 203}}, {{33, 69, 117, 171}}, {{33, 69, 117, 197}}, {{33, 69, 142, 197}}, {{33, 100, 142, 193}}, {{33, 100, 142, 197}}, {{33, 117, 171, 203}}, {{33, 171, 203, 259}}, {{38, 52, 110, 121}}, {{38, 52, 110, 180}}, {{38, 52, 121, 233}}, {{38, 72, 97, 150}}, {{38, 86, 97, 150}}, {{38, 86, 97, 211}}, {{38, 86, 121, 211}}, {{38, 86, 121, 233}}, {{38, 86, 150, 233}}, {{38, 110, 121, 211}}, {{42, 49, 88, 195}}, {{42, 49, 88, 228}}, {{42, 49, 124, 228}}, {{42, 88, 102, 217}}, {{42, 88, 102, 228}}, {{42, 88, 195, 217}}, {{42, 102, 217, 220}}, {{42, 130, 162, 220}}, {{42, 162, 195, 217}}, {{42, 162, 217, 220}}, {{49, 86, 97, 150}}, {{49, 88, 171, 228}}, {{49, 97, 150, 264}}, {{49, 97, 171, 264}}, {{49, 124, 150, 264}}, {{49, 124, 228, 264}}, {{49, 171, 228, 264}}, {{50, 64, 162, 220}}, {{50, 100, 130, 162}}, {{50, 100, 130, 197}}, {{50, 117, 185, 197}}, {{50, 130, 162, 220}}, {{50, 130, 185, 197}}, {{50, 130, 185, 220}}, {{52, 61, 102, 110}}, {{52, 61, 110, 121}}, {{52, 61, 121, 193}}, {{52, 102, 110, 180}}, {{52, 102, 180, 188}}, {{52, 121, 193, 233}}, {{52, 142, 193, 233}}, {{58, 95, 107, 163}}, {{58, 95, 107, 197}}, {{58, 95, 124, 130}}, {{58, 95, 124, 163}}, {{58, 95, 130, 197}}, {{58, 100, 130, 197}}, {{58, 100, 142, 197}}, {{58, 100, 142, 233}}, {{58, 107, 142, 197}}, {{58, 124, 150, 163}}, {{61, 110, 121, 149}}, {{61, 114, 121, 149}}, {{61, 114, 121, 193}}, {{61, 114, 149, 251}}, {{61, 114, 193, 259}}, {{61, 114, 251, 259}}, {{61, 228, 251, 259}}, {{64, 72, 81, 180}}, {{64, 72, 81, 242}}, {{64, 72, 203, 242}}, {{64, 81, 138, 217}}, {{64, 81, 138, 242}}, {{64, 81, 180, 217}}, {{64, 138, 162, 217}}, {{64, 162, 217, 220}}, {{64, 180, 217, 220}}, {{69, 88, 188, 201}}, {{69, 107, 142, 188}}, {{69, 107, 142, 197}}, {{69, 107, 154, 197}}, {{69, 107, 154, 201}}, {{69, 107, 188, 201}}, {{69, 117, 154, 197}}, {{72, 81, 163, 242}}, {{72, 97, 150, 264}}, {{72, 97, 203, 264}}, {{72, 150, 163, 264}}, {{72, 163, 242, 264}}, {{72, 203, 242, 264}}, {{78, 86, 121, 133}}, {{78, 86, 121, 233}}, {{78, 86, 133, 195}}, {{78, 100, 193, 233}}, {{78, 114, 121, 133}}, {{78, 114, 121, 193}}, {{78, 114, 133, 138}}, {{78, 121, 193, 233}}, {{78, 133, 138, 195}}, {{78, 138, 162, 195}}, {{81, 107, 188, 201}}, {{81, 138, 201, 217}}, {{81, 180, 188, 217}}, {{81, 188, 201, 217}}, {{86, 121, 133, 211}}, {{88, 102, 188, 217}}, {{88, 188, 201, 217}}, {{88, 195, 201, 217}}, {{95, 107, 154, 197}}, {{95, 124, 163, 251}}, {{95, 130, 185, 197}}, {{95, 149, 154, 185}}, {{95, 154, 185, 197}}, {{97, 117, 171, 203}}, {{97, 171, 203, 264}}, {{100, 142, 193, 233}}, {{102, 110, 180, 220}}, {{102, 180, 188, 217}}, {{102, 180, 217, 220}}, {{110, 121, 149, 211}}, {{110, 149, 185, 211}}, {{114, 121, 133, 149}}, {{114, 242, 251, 259}}, {{117, 154, 185, 197}}, {{117, 154, 185, 211}}, {{121, 133, 149, 211}}, {{124, 150, 163, 264}}, {{124, 163, 251, 264}}, {{124, 228, 251, 264}}, {{133, 138, 195, 201}}, {{133, 149, 154, 211}}, {{138, 162, 195, 217}}, {{138, 195, 201, 217}}, {{149, 154, 185, 211}}, {{163, 242, 251, 264}}, {{171, 203, 259, 264}}, {{171, 228, 259, 264}}, {{203, 242, 259, 264}}, {{228, 251, 259, 264}}, {{242, 251, 259, 264}}},\n",
      "    VA {{{1, 80, 127, 211}}, {{1, 80, 127, 227}}, {{1, 80, 203, 215}}, {{1, 80, 203, 227}}, {{1, 80, 211, 215}}, {{1, 93, 104, 145}}, {{1, 93, 104, 199}}, {{1, 93, 145, 215}}, {{1, 93, 199, 211}}, {{1, 93, 211, 215}}, {{1, 104, 114, 199}}, {{1, 104, 114, 246}}, {{1, 104, 145, 246}}, {{1, 114, 127, 199}}, {{1, 114, 127, 227}}, {{1, 114, 227, 246}}, {{1, 127, 199, 211}}, {{1, 145, 203, 215}}, {{1, 145, 203, 246}}, {{1, 203, 227, 246}}, {{7, 39, 153, 162}}, {{7, 39, 153, 235}}, {{7, 39, 162, 169}}, {{7, 39, 169, 197}}, {{7, 39, 197, 235}}, {{7, 66, 178, 224}}, {{7, 66, 178, 233}}, {{7, 66, 197, 224}}, {{7, 66, 197, 235}}, {{7, 66, 233, 235}}, {{7, 120, 153, 162}}, {{7, 120, 153, 233}}, {{7, 120, 162, 256}}, {{7, 120, 178, 233}}, {{7, 120, 178, 256}}, {{7, 153, 233, 235}}, {{7, 162, 169, 256}}, {{7, 169, 197, 224}}, {{7, 169, 224, 256}}, {{7, 178, 224, 256}}, {{10, 43, 125, 163}}, {{10, 43, 125, 208}}, {{10, 43, 163, 244}}, {{10, 43, 180, 208}}, {{10, 43, 180, 244}}, {{10, 57, 101, 201}}, {{10, 57, 101, 208}}, {{10, 57, 125, 192}}, {{10, 57, 125, 208}}, {{10, 57, 192, 201}}, {{10, 84, 101, 180}}, {{10, 84, 101, 201}}, {{10, 84, 180, 244}}, {{10, 84, 201, 254}}, {{10, 84, 244, 254}}, {{10, 101, 180, 208}}, {{10, 125, 163, 192}}, {{10, 163, 192, 254}}, {{10, 163, 244, 254}}, {{10, 192, 201, 254}}, {{13, 32, 156, 160}}, {{13, 32, 156, 263}}, {{13, 32, 160, 168}}, {{13, 32, 168, 173}}, {{13, 32, 173, 263}}, {{13, 62, 122, 147}}, {{13, 62, 122, 156}}, {{13, 62, 147, 248}}, {{13, 62, 156, 160}}, {{13, 62, 160, 248}}, {{13, 90, 147, 216}}, {{13, 90, 147, 248}}, {{13, 90, 168, 173}}, {{13, 90, 168, 248}}, {{13, 90, 173, 216}}, {{13, 122, 147, 216}}, {{13, 122, 156, 263}}, {{13, 122, 216, 263}}, {{13, 160, 168, 248}}, {{13, 173, 216, 263}}, {{16, 84, 153, 162}}, {{16, 84, 153, 180}}, {{16, 84, 162, 246}}, {{16, 84, 180, 244}}, {{16, 84, 244, 246}}, {{16, 90, 168, 173}}, {{16, 90, 168, 180}}, {{16, 90, 173, 203}}, {{16, 90, 180, 244}}, {{16, 90, 203, 244}}, {{16, 120, 145, 162}}, {{16, 120, 145, 173}}, {{16, 120, 153, 162}}, {{16, 120, 153, 168}}, {{16, 120, 168, 173}}, {{16, 145, 162, 246}}, {{16, 145, 173, 203}}, {{16, 145, 203, 246}}, {{16, 153, 168, 180}}, {{16, 203, 244, 246}}, {{20, 43, 125, 208}}, {{20, 43, 125, 224}}, {{20, 43, 147, 224}}, {{20, 43, 147, 248}}, {{20, 43, 208, 248}}, {{20, 62, 104, 169}}, {{20, 62, 104, 199}}, {{20, 62, 147, 169}}, {{20, 62, 147, 248}}, {{20, 62, 199, 248}}, {{20, 93, 104, 199}}, {{20, 93, 104, 256}}, {{20, 93, 125, 208}}, {{20, 93, 125, 256}}, {{20, 93, 199, 208}}, {{20, 104, 169, 256}}, {{20, 125, 224, 256}}, {{20, 147, 169, 224}}, {{20, 169, 224, 256}}, {{20, 199, 208, 248}}, {{21, 32, 156, 160}}, {{21, 32, 156, 192}}, {{21, 32, 160, 233}}, {{21, 32, 178, 192}}, {{21, 32, 178, 233}}, {{21, 66, 127, 227}}, {{21, 66, 127, 233}}, {{21, 66, 163, 178}}, {{21, 66, 163, 227}}, {{21, 66, 178, 233}}, {{21, 114, 127, 160}}, {{21, 114, 127, 227}}, {{21, 114, 156, 160}}, {{21, 114, 156, 254}}, {{21, 114, 227, 254}}, {{21, 127, 160, 233}}, {{21, 156, 192, 254}}, {{21, 163, 178, 192}}, {{21, 163, 192, 254}}, {{21, 163, 227, 254}}, {{22, 39, 101, 201}}, {{22, 39, 101, 235}}, {{22, 39, 122, 197}}, {{22, 39, 122, 201}}, {{22, 39, 197, 235}}, {{22, 57, 101, 201}}, {{22, 57, 101, 211}}, {{22, 57, 201, 263}}, {{22, 57, 211, 215}}, {{22, 57, 215, 263}}, {{22, 80, 197, 216}}, {{22, 80, 197, 235}}, {{22, 80, 211, 215}}, {{22, 80, 211, 235}}, {{22, 80, 215, 216}}, {{22, 101, 211, 235}}, {{22, 122, 197, 216}}, {{22, 122, 201, 263}}, {{22, 122, 216, 263}}, {{22, 215, 216, 263}}, {{32, 49, 120, 173}}, {{32, 49, 120, 178}}, {{32, 49, 173, 263}}, {{32, 49, 178, 192}}, {{32, 49, 192, 263}}, {{32, 120, 168, 173}}, {{32, 120, 168, 233}}, {{32, 120, 178, 233}}, {{32, 156, 192, 263}}, {{32, 160, 168, 233}}, {{39, 48, 84, 162}}, {{39, 48, 84, 201}}, {{39, 48, 122, 169}}, {{39, 48, 122, 201}}, {{39, 48, 162, 169}}, {{39, 84, 101, 153}}, {{39, 84, 101, 201}}, {{39, 84, 153, 162}}, {{39, 101, 153, 235}}, {{39, 122, 169, 197}}, {{43, 44, 90, 147}}, {{43, 44, 90, 244}}, {{43, 44, 147, 224}}, {{43, 44, 163, 224}}, {{43, 44, 163, 244}}, {{43, 90, 147, 248}}, {{43, 90, 180, 244}}, {{43, 90, 180, 248}}, {{43, 125, 163, 224}}, {{43, 180, 208, 248}}, {{44, 66, 80, 197}}, {{44, 66, 80, 227}}, {{44, 66, 163, 224}}, {{44, 66, 163, 227}}, {{44, 66, 197, 224}}, {{44, 80, 197, 216}}, {{44, 80, 203, 216}}, {{44, 80, 203, 227}}, {{44, 90, 147, 216}}, {{44, 90, 203, 216}}, {{44, 90, 203, 244}}, {{44, 147, 197, 216}}, {{44, 147, 197, 224}}, {{44, 163, 227, 244}}, {{44, 203, 227, 244}}, {{47, 101, 153, 180}}, {{47, 101, 153, 235}}, {{47, 101, 180, 208}}, {{47, 101, 208, 211}}, {{47, 101, 211, 235}}, {{47, 127, 160, 199}}, {{47, 127, 160, 233}}, {{47, 127, 199, 211}}, {{47, 127, 211, 235}}, {{47, 127, 233, 235}}, {{47, 153, 168, 180}}, {{47, 153, 168, 233}}, {{47, 153, 233, 235}}, {{47, 160, 168, 233}}, {{47, 160, 168, 248}}, {{47, 160, 199, 248}}, {{47, 168, 180, 248}}, {{47, 180, 208, 248}}, {{47, 199, 208, 211}}, {{47, 199, 208, 248}}, {{48, 62, 104, 114}}, {{48, 62, 104, 169}}, {{48, 62, 114, 156}}, {{48, 62, 122, 156}}, {{48, 62, 122, 169}}, {{48, 84, 162, 246}}, {{48, 84, 201, 254}}, {{48, 84, 246, 254}}, {{48, 104, 114, 246}}, {{48, 104, 162, 169}}, {{48, 104, 162, 246}}, {{48, 114, 156, 254}}, {{48, 114, 246, 254}}, {{48, 122, 156, 201}}, {{48, 156, 201, 254}}, {{49, 57, 93, 125}}, {{49, 57, 93, 215}}, {{49, 57, 125, 192}}, {{49, 57, 192, 263}}, {{49, 57, 215, 263}}, {{49, 93, 125, 256}}, {{49, 93, 145, 215}}, {{49, 93, 145, 256}}, {{49, 120, 145, 173}}, {{49, 120, 145, 256}}, {{49, 120, 178, 256}}, {{49, 125, 178, 192}}, {{49, 125, 178, 256}}, {{49, 145, 173, 215}}, {{49, 173, 215, 263}}, {{57, 93, 125, 208}}, {{57, 93, 208, 211}}, {{57, 93, 211, 215}}, {{57, 101, 208, 211}}, {{57, 192, 201, 263}}, {{62, 104, 114, 199}}, {{62, 114, 156, 160}}, {{62, 114, 160, 199}}, {{62, 122, 147, 169}}, {{62, 160, 199, 248}}, {{66, 80, 127, 227}}, {{66, 80, 127, 235}}, {{66, 80, 197, 235}}, {{66, 127, 233, 235}}, {{66, 163, 178, 224}}, {{80, 127, 211, 235}}, {{80, 203, 215, 216}}, {{84, 101, 153, 180}}, {{84, 244, 246, 254}}, {{90, 168, 180, 248}}, {{90, 173, 203, 216}}, {{93, 104, 145, 256}}, {{93, 199, 208, 211}}, {{104, 145, 162, 246}}, {{104, 145, 162, 256}}, {{104, 162, 169, 256}}, {{114, 127, 160, 199}}, {{114, 227, 246, 254}}, {{120, 145, 162, 256}}, {{120, 153, 168, 233}}, {{122, 147, 169, 197}}, {{122, 147, 197, 216}}, {{122, 156, 201, 263}}, {{125, 163, 178, 192}}, {{125, 163, 178, 224}}, {{125, 178, 224, 256}}, {{145, 173, 203, 215}}, {{147, 169, 197, 224}}, {{156, 192, 201, 254}}, {{156, 192, 201, 263}}, {{163, 227, 244, 254}}, {{173, 203, 215, 216}}, {{173, 215, 216, 263}}, {{203, 227, 244, 246}}, {{227, 244, 246, 254}}},\n",
      "    VA {{{1, 81, 189, 226}}, {{1, 81, 189, 245}}, {{1, 81, 210, 229}}, {{1, 81, 210, 245}}, {{1, 81, 226, 229}}, {{1, 95, 189, 226}}, {{1, 95, 189, 253}}, {{1, 95, 196, 205}}, {{1, 95, 196, 253}}, {{1, 95, 205, 226}}, {{1, 116, 150, 196}}, {{1, 116, 150, 210}}, {{1, 116, 196, 205}}, {{1, 116, 205, 229}}, {{1, 116, 210, 229}}, {{1, 150, 196, 253}}, {{1, 150, 210, 245}}, {{1, 150, 245, 253}}, {{1, 189, 245, 253}}, {{1, 205, 226, 229}}, {{7, 37, 138, 217}}, {{7, 37, 138, 230}}, {{7, 37, 146, 230}}, {{7, 37, 146, 249}}, {{7, 37, 217, 249}}, {{7, 64, 138, 198}}, {{7, 64, 138, 217}}, {{7, 64, 152, 217}}, {{7, 64, 152, 222}}, {{7, 64, 198, 222}}, {{7, 103, 118, 146}}, {{7, 103, 118, 222}}, {{7, 103, 146, 249}}, {{7, 103, 152, 222}}, {{7, 103, 152, 249}}, {{7, 118, 146, 230}}, {{7, 118, 198, 222}}, {{7, 118, 198, 230}}, {{7, 138, 198, 230}}, {{7, 152, 217, 249}}, {{10, 41, 149, 185}}, {{10, 41, 149, 243}}, {{10, 41, 166, 239}}, {{10, 41, 166, 243}}, {{10, 41, 185, 239}}, {{10, 56, 149, 185}}, {{10, 56, 149, 207}}, {{10, 56, 185, 261}}, {{10, 56, 191, 207}}, {{10, 56, 191, 261}}, {{10, 86, 97, 166}}, {{10, 86, 97, 191}}, {{10, 86, 166, 243}}, {{10, 86, 191, 207}}, {{10, 86, 207, 243}}, {{10, 97, 166, 239}}, {{10, 97, 191, 261}}, {{10, 97, 239, 261}}, {{10, 149, 207, 243}}, {{10, 185, 239, 261}}, {{13, 33, 142, 155}}, {{13, 33, 142, 193}}, {{13, 33, 155, 225}}, {{13, 33, 165, 193}}, {{13, 33, 165, 225}}, {{13, 60, 165, 187}}, {{13, 60, 165, 225}}, {{13, 60, 187, 238}}, {{13, 60, 225, 257}}, {{13, 60, 238, 257}}, {{13, 91, 99, 142}}, {{13, 91, 99, 238}}, {{13, 91, 142, 193}}, {{13, 91, 187, 193}}, {{13, 91, 187, 238}}, {{13, 99, 142, 155}}, {{13, 99, 155, 257}}, {{13, 99, 238, 257}}, {{13, 155, 225, 257}}, {{13, 165, 187, 193}}, {{16, 86, 146, 150}}, {{16, 86, 146, 230}}, {{16, 86, 150, 166}}, {{16, 86, 166, 243}}, {{16, 86, 230, 243}}, {{16, 91, 142, 193}}, {{16, 91, 142, 245}}, {{16, 91, 166, 243}}, {{16, 91, 166, 245}}, {{16, 91, 193, 243}}, {{16, 118, 142, 193}}, {{16, 118, 142, 253}}, {{16, 118, 146, 230}}, {{16, 118, 146, 253}}, {{16, 118, 193, 230}}, {{16, 142, 245, 253}}, {{16, 146, 150, 253}}, {{16, 150, 166, 245}}, {{16, 150, 245, 253}}, {{16, 193, 230, 243}}, {{20, 41, 149, 185}}, {{20, 41, 149, 187}}, {{20, 41, 152, 185}}, {{20, 41, 152, 238}}, {{20, 41, 187, 238}}, {{20, 60, 187, 205}}, {{20, 60, 187, 238}}, {{20, 60, 196, 205}}, {{20, 60, 196, 249}}, {{20, 60, 238, 249}}, {{20, 95, 103, 185}}, {{20, 95, 103, 196}}, {{20, 95, 149, 185}}, {{20, 95, 149, 205}}, {{20, 95, 196, 205}}, {{20, 103, 152, 185}}, {{20, 103, 152, 249}}, {{20, 103, 196, 249}}, {{20, 149, 187, 205}}, {{20, 152, 238, 249}}, {{21, 33, 165, 198}}, {{21, 33, 165, 225}}, {{21, 33, 198, 222}}, {{21, 33, 222, 261}}, {{21, 33, 225, 261}}, {{21, 64, 198, 222}}, {{21, 64, 198, 229}}, {{21, 64, 210, 229}}, {{21, 64, 210, 239}}, {{21, 64, 222, 239}}, {{21, 97, 116, 210}}, {{21, 97, 116, 225}}, {{21, 97, 210, 239}}, {{21, 97, 225, 261}}, {{21, 97, 239, 261}}, {{21, 116, 165, 225}}, {{21, 116, 165, 229}}, {{21, 116, 210, 229}}, {{21, 165, 198, 229}}, {{21, 222, 239, 261}}, {{22, 37, 138, 207}}, {{22, 37, 138, 217}}, {{22, 37, 191, 207}}, {{22, 37, 191, 257}}, {{22, 37, 217, 257}}, {{22, 56, 155, 189}}, {{22, 56, 155, 191}}, {{22, 56, 189, 226}}, {{22, 56, 191, 207}}, {{22, 56, 207, 226}}, {{22, 81, 99, 189}}, {{22, 81, 99, 217}}, {{22, 81, 138, 217}}, {{22, 81, 138, 226}}, {{22, 81, 189, 226}}, {{22, 99, 155, 189}}, {{22, 99, 155, 257}}, {{22, 99, 217, 257}}, {{22, 138, 207, 226}}, {{22, 155, 191, 257}}, {{33, 48, 118, 142}}, {{33, 48, 118, 222}}, {{33, 48, 142, 155}}, {{33, 48, 155, 261}}, {{33, 48, 222, 261}}, {{33, 118, 142, 193}}, {{33, 118, 193, 198}}, {{33, 118, 198, 222}}, {{33, 155, 225, 261}}, {{33, 165, 193, 198}}, {{37, 49, 86, 146}}, {{37, 49, 86, 191}}, {{37, 49, 146, 249}}, {{37, 49, 191, 257}}, {{37, 49, 249, 257}}, {{37, 86, 146, 230}}, {{37, 86, 191, 207}}, {{37, 86, 207, 230}}, {{37, 138, 207, 230}}, {{37, 217, 249, 257}}, {{41, 47, 91, 166}}, {{41, 47, 91, 238}}, {{41, 47, 152, 238}}, {{41, 47, 152, 239}}, {{41, 47, 166, 239}}, {{41, 91, 166, 243}}, {{41, 91, 187, 238}}, {{41, 91, 187, 243}}, {{41, 149, 187, 243}}, {{41, 152, 185, 239}}, {{44, 138, 198, 229}}, {{44, 138, 198, 230}}, {{44, 138, 207, 226}}, {{44, 138, 207, 230}}, {{44, 138, 226, 229}}, {{44, 149, 187, 205}}, {{44, 149, 187, 243}}, {{44, 149, 205, 226}}, {{44, 149, 207, 226}}, {{44, 149, 207, 243}}, {{44, 165, 187, 193}}, {{44, 165, 187, 205}}, {{44, 165, 193, 198}}, {{44, 165, 198, 229}}, {{44, 165, 205, 229}}, {{44, 187, 193, 243}}, {{44, 193, 198, 230}}, {{44, 193, 230, 243}}, {{44, 205, 226, 229}}, {{44, 207, 230, 243}}, {{47, 64, 81, 210}}, {{47, 64, 81, 217}}, {{47, 64, 152, 217}}, {{47, 64, 152, 239}}, {{47, 64, 210, 239}}, {{47, 81, 99, 217}}, {{47, 81, 99, 245}}, {{47, 81, 210, 245}}, {{47, 91, 99, 238}}, {{47, 91, 99, 245}}, {{47, 91, 166, 245}}, {{47, 99, 217, 238}}, {{47, 152, 217, 238}}, {{47, 166, 210, 239}}, {{47, 166, 210, 245}}, {{48, 56, 95, 185}}, {{48, 56, 95, 189}}, {{48, 56, 155, 189}}, {{48, 56, 155, 261}}, {{48, 56, 185, 261}}, {{48, 95, 103, 185}}, {{48, 95, 103, 253}}, {{48, 95, 189, 253}}, {{48, 103, 118, 222}}, {{48, 103, 118, 253}}, {{48, 103, 185, 222}}, {{48, 118, 142, 253}}, {{48, 142, 155, 189}}, {{48, 142, 189, 253}}, {{48, 185, 222, 261}}, {{49, 60, 116, 196}}, {{49, 60, 116, 225}}, {{49, 60, 196, 249}}, {{49, 60, 225, 257}}, {{49, 60, 249, 257}}, {{49, 86, 97, 150}}, {{49, 86, 97, 191}}, {{49, 86, 146, 150}}, {{49, 97, 116, 150}}, {{49, 97, 116, 225}}, {{49, 97, 191, 225}}, {{49, 116, 150, 196}}, {{49, 146, 150, 196}}, {{49, 146, 196, 249}}, {{49, 191, 225, 257}}, {{56, 95, 149, 185}}, {{56, 95, 149, 226}}, {{56, 95, 189, 226}}, {{56, 149, 207, 226}}, {{56, 155, 191, 261}}, {{60, 116, 165, 205}}, {{60, 116, 165, 225}}, {{60, 116, 196, 205}}, {{60, 165, 187, 205}}, {{60, 238, 249, 257}}, {{64, 81, 138, 217}}, {{64, 81, 138, 229}}, {{64, 81, 210, 229}}, {{64, 138, 198, 229}}, {{64, 152, 222, 239}}, {{81, 99, 189, 245}}, {{81, 138, 226, 229}}, {{86, 97, 150, 166}}, {{86, 207, 230, 243}}, {{91, 99, 142, 245}}, {{91, 187, 193, 243}}, {{95, 103, 196, 253}}, {{95, 149, 205, 226}}, {{97, 116, 150, 210}}, {{97, 150, 166, 210}}, {{97, 166, 210, 239}}, {{97, 191, 225, 261}}, {{99, 142, 155, 189}}, {{99, 142, 189, 245}}, {{99, 217, 238, 257}}, {{103, 118, 146, 253}}, {{103, 146, 196, 249}}, {{103, 146, 196, 253}}, {{103, 152, 185, 222}}, {{116, 165, 205, 229}}, {{118, 193, 198, 230}}, {{142, 189, 245, 253}}, {{146, 150, 196, 253}}, {{150, 166, 210, 245}}, {{152, 185, 222, 239}}, {{152, 217, 238, 249}}, {{155, 191, 225, 257}}, {{155, 191, 225, 261}}, {{185, 222, 239, 261}}, {{217, 238, 249, 257}}},\n",
      "    VA {{{0, 83, 147, 237}}, {{0, 83, 147, 240}}, {{0, 83, 164, 208}}, {{0, 83, 164, 240}}, {{0, 83, 208, 237}}, {{0, 93, 140, 221}}, {{0, 93, 140, 250}}, {{0, 93, 164, 208}}, {{0, 93, 164, 250}}, {{0, 93, 208, 221}}, {{0, 115, 140, 169}}, {{0, 115, 140, 221}}, {{0, 115, 147, 169}}, {{0, 115, 147, 237}}, {{0, 115, 221, 237}}, {{0, 140, 169, 250}}, {{0, 147, 169, 240}}, {{0, 164, 240, 250}}, {{0, 169, 240, 250}}, {{0, 208, 221, 237}}, {{4, 36, 186, 188}}, {{4, 36, 186, 195}}, {{4, 36, 188, 246}}, {{4, 36, 195, 244}}, {{4, 36, 244, 246}}, {{4, 65, 168, 195}}, {{4, 65, 168, 204}}, {{4, 65, 171, 204}}, {{4, 65, 171, 244}}, {{4, 65, 195, 244}}, {{4, 120, 128, 188}}, {{4, 120, 128, 204}}, {{4, 120, 168, 186}}, {{4, 120, 168, 204}}, {{4, 120, 186, 188}}, {{4, 128, 171, 204}}, {{4, 128, 171, 246}}, {{4, 128, 188, 246}}, {{4, 168, 186, 195}}, {{4, 171, 244, 246}}, {{5, 40, 197, 219}}, {{5, 40, 197, 234}}, {{5, 40, 211, 219}}, {{5, 40, 211, 231}}, {{5, 40, 231, 234}}, {{5, 57, 143, 211}}, {{5, 57, 143, 220}}, {{5, 57, 211, 231}}, {{5, 57, 220, 258}}, {{5, 57, 231, 258}}, {{5, 87, 122, 197}}, {{5, 87, 122, 220}}, {{5, 87, 143, 219}}, {{5, 87, 143, 220}}, {{5, 87, 197, 219}}, {{5, 122, 197, 234}}, {{5, 122, 220, 258}}, {{5, 122, 234, 258}}, {{5, 143, 211, 219}}, {{5, 231, 234, 258}}, {{6, 32, 174, 182}}, {{6, 32, 174, 206}}, {{6, 32, 182, 190}}, {{6, 32, 190, 233}}, {{6, 32, 206, 233}}, {{6, 61, 144, 190}}, {{6, 61, 144, 227}}, {{6, 61, 182, 190}}, {{6, 61, 182, 254}}, {{6, 61, 227, 254}}, {{6, 89, 124, 206}}, {{6, 89, 124, 227}}, {{6, 89, 144, 227}}, {{6, 89, 144, 233}}, {{6, 89, 206, 233}}, {{6, 124, 174, 206}}, {{6, 124, 174, 254}}, {{6, 124, 227, 254}}, {{6, 144, 190, 233}}, {{6, 174, 182, 254}}, {{17, 87, 169, 188}}, {{17, 87, 169, 197}}, {{17, 87, 186, 188}}, {{17, 87, 186, 219}}, {{17, 87, 197, 219}}, {{17, 89, 197, 219}}, {{17, 89, 197, 240}}, {{17, 89, 206, 233}}, {{17, 89, 206, 240}}, {{17, 89, 219, 233}}, {{17, 120, 186, 188}}, {{17, 120, 186, 233}}, {{17, 120, 188, 250}}, {{17, 120, 206, 233}}, {{17, 120, 206, 250}}, {{17, 169, 188, 250}}, {{17, 169, 197, 240}}, {{17, 169, 240, 250}}, {{17, 186, 219, 233}}, {{17, 206, 240, 250}}, {{23, 40, 144, 211}}, {{23, 40, 144, 227}}, {{23, 40, 171, 227}}, {{23, 40, 171, 231}}, {{23, 40, 211, 231}}, {{23, 61, 140, 221}}, {{23, 61, 140, 246}}, {{23, 61, 144, 221}}, {{23, 61, 144, 227}}, {{23, 61, 227, 246}}, {{23, 93, 128, 140}}, {{23, 93, 128, 231}}, {{23, 93, 140, 221}}, {{23, 93, 211, 221}}, {{23, 93, 211, 231}}, {{23, 128, 140, 246}}, {{23, 128, 171, 231}}, {{23, 128, 171, 246}}, {{23, 144, 211, 221}}, {{23, 171, 227, 246}}, {{26, 32, 168, 190}}, {{26, 32, 168, 204}}, {{26, 32, 182, 190}}, {{26, 32, 182, 258}}, {{26, 32, 204, 258}}, {{26, 65, 147, 234}}, {{26, 65, 147, 237}}, {{26, 65, 168, 204}}, {{26, 65, 168, 237}}, {{26, 65, 204, 234}}, {{26, 115, 122, 147}}, {{26, 115, 122, 182}}, {{26, 115, 147, 237}}, {{26, 115, 182, 190}}, {{26, 115, 190, 237}}, {{26, 122, 147, 234}}, {{26, 122, 182, 258}}, {{26, 122, 234, 258}}, {{26, 168, 190, 237}}, {{26, 204, 234, 258}}, {{29, 36, 143, 195}}, {{29, 36, 143, 220}}, {{29, 36, 195, 244}}, {{29, 36, 220, 254}}, {{29, 36, 244, 254}}, {{29, 57, 143, 208}}, {{29, 57, 143, 220}}, {{29, 57, 164, 174}}, {{29, 57, 164, 208}}, {{29, 57, 174, 220}}, {{29, 83, 124, 164}}, {{29, 83, 124, 244}}, {{29, 83, 164, 208}}, {{29, 83, 195, 208}}, {{29, 83, 195, 244}}, {{29, 124, 164, 174}}, {{29, 124, 174, 254}}, {{29, 124, 244, 254}}, {{29, 143, 195, 208}}, {{29, 174, 220, 254}}, {{32, 72, 120, 204}}, {{32, 72, 120, 206}}, {{32, 72, 174, 206}}, {{32, 72, 174, 258}}, {{32, 72, 204, 258}}, {{32, 120, 168, 204}}, {{32, 120, 168, 233}}, {{32, 120, 206, 233}}, {{32, 168, 190, 233}}, {{32, 174, 182, 258}}, {{36, 73, 87, 188}}, {{36, 73, 87, 220}}, {{36, 73, 188, 246}}, {{36, 73, 220, 254}}, {{36, 73, 246, 254}}, {{36, 87, 143, 186}}, {{36, 87, 143, 220}}, {{36, 87, 186, 188}}, {{36, 143, 186, 195}}, {{36, 244, 246, 254}}, {{40, 71, 89, 197}}, {{40, 71, 89, 227}}, {{40, 71, 171, 227}}, {{40, 71, 171, 234}}, {{40, 71, 197, 234}}, {{40, 89, 144, 219}}, {{40, 89, 144, 227}}, {{40, 89, 197, 219}}, {{40, 144, 211, 219}}, {{40, 171, 231, 234}}, {{57, 72, 93, 164}}, {{57, 72, 93, 231}}, {{57, 72, 164, 174}}, {{57, 72, 174, 258}}, {{57, 72, 231, 258}}, {{57, 93, 164, 208}}, {{57, 93, 208, 211}}, {{57, 93, 211, 231}}, {{57, 143, 208, 211}}, {{57, 174, 220, 258}}, {{61, 73, 115, 140}}, {{61, 73, 115, 182}}, {{61, 73, 140, 246}}, {{61, 73, 182, 254}}, {{61, 73, 246, 254}}, {{61, 115, 140, 221}}, {{61, 115, 182, 190}}, {{61, 115, 190, 221}}, {{61, 144, 190, 221}}, {{61, 227, 246, 254}}, {{65, 71, 83, 147}}, {{65, 71, 83, 244}}, {{65, 71, 147, 234}}, {{65, 71, 171, 234}}, {{65, 71, 171, 244}}, {{65, 83, 147, 237}}, {{65, 83, 195, 237}}, {{65, 83, 195, 244}}, {{65, 168, 195, 237}}, {{65, 171, 204, 234}}, {{68, 143, 186, 195}}, {{68, 143, 186, 219}}, {{68, 143, 195, 208}}, {{68, 143, 208, 211}}, {{68, 143, 211, 219}}, {{68, 144, 190, 221}}, {{68, 144, 190, 233}}, {{68, 144, 211, 219}}, {{68, 144, 211, 221}}, {{68, 144, 219, 233}}, {{68, 168, 186, 195}}, {{68, 168, 186, 233}}, {{68, 168, 190, 233}}, {{68, 168, 190, 237}}, {{68, 168, 195, 237}}, {{68, 186, 219, 233}}, {{68, 190, 221, 237}}, {{68, 195, 208, 237}}, {{68, 208, 211, 221}}, {{68, 208, 221, 237}}, {{71, 83, 124, 240}}, {{71, 83, 124, 244}}, {{71, 83, 147, 240}}, {{71, 89, 124, 227}}, {{71, 89, 124, 240}}, {{71, 89, 197, 240}}, {{71, 124, 227, 244}}, {{71, 147, 197, 234}}, {{71, 147, 197, 240}}, {{71, 171, 227, 244}}, {{72, 93, 128, 231}}, {{72, 93, 128, 250}}, {{72, 93, 164, 250}}, {{72, 120, 128, 204}}, {{72, 120, 128, 250}}, {{72, 120, 206, 250}}, {{72, 128, 204, 231}}, {{72, 164, 174, 206}}, {{72, 164, 206, 250}}, {{72, 204, 231, 258}}, {{73, 87, 122, 169}}, {{73, 87, 122, 220}}, {{73, 87, 169, 188}}, {{73, 115, 122, 169}}, {{73, 115, 122, 182}}, {{73, 115, 140, 169}}, {{73, 122, 182, 220}}, {{73, 140, 169, 188}}, {{73, 140, 188, 246}}, {{73, 182, 220, 254}}, {{83, 124, 164, 240}}, {{83, 195, 208, 237}}, {{87, 122, 169, 197}}, {{87, 143, 186, 219}}, {{89, 124, 206, 240}}, {{89, 144, 219, 233}}, {{93, 128, 140, 250}}, {{93, 208, 211, 221}}, {{115, 122, 147, 169}}, {{115, 190, 221, 237}}, {{120, 128, 188, 250}}, {{120, 168, 186, 233}}, {{122, 147, 169, 197}}, {{122, 147, 197, 234}}, {{122, 182, 220, 258}}, {{124, 164, 174, 206}}, {{124, 164, 206, 240}}, {{124, 227, 244, 254}}, {{128, 140, 188, 246}}, {{128, 140, 188, 250}}, {{128, 171, 204, 231}}, {{140, 169, 188, 250}}, {{147, 169, 197, 240}}, {{164, 206, 240, 250}}, {{171, 204, 231, 234}}, {{171, 227, 244, 246}}, {{174, 182, 220, 254}}, {{174, 182, 220, 258}}, {{204, 231, 234, 258}}, {{227, 244, 246, 254}}},\n"
     ]
    }
   ],
   "source": [
    "for v in range(272):\n",
    "    print(\"    VA {\", end = \"\");\n",
    "    print(\", \".join(\n",
    "        \"{{\" + \", \".join(\"FACETS\" if t == -1 else str(t) for t in list(cli) + [-1]*(4-len(cli)) ) + \"}}\"\n",
    "        for cli in sorted(vcli[v])\n",
    "    ), end = \"},\\n\")"
   ]
  },
  {
   "cell_type": "code",
   "execution_count": null,
   "id": "a9ccdfbe-b810-4096-b49c-11b64ff39049",
   "metadata": {},
   "outputs": [],
   "source": [
    "VA {{{FACETS, FACETS, FACETS}}},"
   ]
  },
  {
   "cell_type": "markdown",
   "id": "d0e67330-f0b1-46d5-a285-8ea8fed2916e",
   "metadata": {
    "jp-MarkdownHeadingCollapsed": true
   },
   "source": [
    "## Data for first Betti number"
   ]
  },
  {
   "cell_type": "markdown",
   "id": "921e2aa9-a617-4a74-aab4-6cead3651532",
   "metadata": {},
   "source": [
    "Here we prepare some data for the program `count-cc.cpp`, \\\n",
    "which is used to compute the first Betti number of $\\widehat M_{i,I}^\\pm$ using the Choi-Park formula.\n",
    "\n",
    "More precisely, we print out C++ code to define:\n",
    "- `graph`, representing the graph $\\mathcal G$ in adjacency list format;\n",
    "- `psi`, the permutation induced by $\\psi$ on vertices of $\\mathcal G$;\n",
    "- `rowspace`, a list of binary vectors given by the union of rowspaces of $A^{(1)}$ (type $+$) and $A^{(3)}$ (type $-$). \\\n",
    "  The vectors $(0,0,0,0,0,0,0,0,0)$ and $(1,1,1,1,1,1,1,1,1)$ are ignored, as they give a connected or empty subgraph."
   ]
  },
  {
   "cell_type": "code",
   "execution_count": 43,
   "id": "ece4323e-cd58-4062-8d9b-68f8d5cc00b2",
   "metadata": {
    "scrolled": true
   },
   "outputs": [
    {
     "name": "stdout",
     "output_type": "stream",
     "text": [
      "const int graph[272][60] = {\n",
      "    { 80,  81,  82,  83,  92,  93,  94,  95, 105, 107, 111, 112, 113, 114, 115, 116, 131, 133, 134, 135,\n",
      "     138, 139, 140, 147, 148, 149, 154, 155, 158, 160, 161, 163, 164, 165, 169, 172, 176, 178, 181, 184,\n",
      "     191, 201, 208, 213, 218, 221, 222, 235, 237, 238, 239, 240, 242, 249, 250, 251, 263, 267, 268, 271},\n",
      "    { 46,  51,  52,  54,  69,  74,  77,  79,  80,  81,  82,  83,  92,  93,  94,  95,  96, 100, 104, 113,\n",
      "     114, 115, 116, 123, 126, 127, 141, 145, 150, 151, 167, 174, 175, 189, 190, 195, 196, 199, 203, 204,\n",
      "     205, 210, 211, 215, 220, 226, 227, 228, 229, 234, 236, 245, 246, 247, 252, 253, 262, 265, 269, 270},\n",
      "    { 45,  50,  53,  55,  68,  71,  72,  73,  80,  81,  82,  83,  92,  93,  94,  95,  98, 101, 102, 106,\n",
      "     108, 109, 110, 113, 114, 115, 116, 122, 124, 128, 142, 146, 152, 157, 159, 162, 166, 170, 173, 182,\n",
      "     186, 187, 192, 194, 198, 207, 212, 214, 219, 223, 224, 231, 233, 244, 248, 257, 259, 260, 261, 266},\n",
      "    { 44,  47,  48,  49,  70,  75,  76,  78,  80,  81,  82,  83,  92,  93,  94,  95,  97,  99, 103, 113,\n",
      "     114, 115, 116, 121, 125, 129, 130, 132, 136, 137, 143, 144, 153, 156, 168, 171, 177, 179, 180, 183,\n",
      "     185, 188, 193, 197, 200, 202, 206, 209, 216, 217, 225, 230, 232, 241, 243, 254, 255, 256, 258, 264},\n",
      "    { 36,  37,  38,  39,  64,  65,  66,  67,  99, 100, 101, 105, 107, 111, 112, 117, 118, 119, 120, 127,\n",
      "     128, 129, 131, 133, 134, 135, 150, 156, 157, 166, 167, 168, 171, 177, 186, 188, 189, 192, 193, 195,\n",
      "     200, 204, 207, 212, 215, 216, 218, 225, 229, 232, 242, 244, 246, 247, 252, 260, 261, 266, 267, 271},\n",
      "    { 40,  41,  42,  43,  56,  57,  58,  59,  84,  85,  86,  87, 102, 103, 104, 105, 107, 111, 112, 121,\n",
      "     122, 123, 131, 133, 134, 135, 141, 142, 143, 151, 153, 159, 173, 175, 179, 183, 187, 194, 196, 197,\n",
      "     203, 211, 217, 218, 219, 220, 226, 230, 231, 234, 242, 245, 248, 256, 257, 258, 259, 264, 267, 271},\n",
      "    { 32,  33,  34,  35,  60,  61,  62,  63,  88,  89,  90,  91,  96,  97,  98, 105, 107, 111, 112, 124,\n",
      "     125, 126, 131, 133, 134, 135, 144, 145, 146, 152, 162, 170, 174, 180, 182, 185, 190, 198, 199, 202,\n",
      "     205, 206, 209, 210, 214, 218, 223, 224, 227, 233, 241, 242, 243, 253, 254, 255, 262, 265, 267, 271},\n",
      "    { 36,  37,  38,  39,  46,  51,  52,  54,  64,  65,  66,  67,  69,  74,  77,  79,  98, 103, 117, 118,\n",
      "     119, 120, 121, 124, 138, 143, 146, 148, 152, 153, 154, 161, 162, 164, 169, 170, 178, 179, 182, 183,\n",
      "     197, 198, 214, 217, 222, 223, 224, 228, 230, 233, 235, 236, 237, 249, 251, 256, 258, 264, 269, 270},\n",
      "    { 36,  37,  38,  39,  45,  50,  53,  55,  64,  65,  66,  67,  68,  71,  72,  73,  97, 104, 106, 108,\n",
      "     109, 110, 117, 118, 119, 120, 123, 125, 139, 141, 144, 147, 151, 155, 160, 165, 172, 175, 176, 180,\n",
      "     185, 196, 202, 203, 206, 209, 211, 220, 221, 226, 234, 238, 241, 243, 245, 250, 254, 255, 263, 268},\n",
      "    { 36,  37,  38,  39,  44,  47,  48,  49,  64,  65,  66,  67,  70,  75,  76,  78,  96, 102, 117, 118,\n",
      "     119, 120, 122, 126, 130, 132, 136, 137, 140, 142, 145, 149, 158, 159, 163, 173, 174, 181, 184, 187,\n",
      "     190, 191, 194, 199, 201, 205, 208, 210, 213, 219, 227, 231, 239, 240, 248, 253, 257, 259, 262, 265},\n",
      "    { 40,  41,  42,  43,  46,  51,  52,  54,  56,  57,  58,  59,  69,  74,  77,  79,  84,  85,  86,  87,\n",
      "      97, 101, 125, 128, 140, 144, 149, 157, 158, 163, 166, 180, 181, 184, 185, 186, 191, 192, 201, 202,\n",
      "     206, 207, 208, 209, 212, 213, 228, 236, 239, 240, 241, 243, 244, 254, 255, 260, 261, 266, 269, 270},\n",
      "    { 40,  41,  42,  43,  44,  47,  48,  49,  56,  57,  58,  59,  70,  75,  76,  78,  84,  85,  86,  87,\n",
      "      98, 100, 124, 127, 130, 132, 136, 137, 139, 146, 147, 150, 152, 155, 160, 162, 165, 167, 170, 172,\n",
      "     176, 182, 189, 195, 198, 204, 214, 215, 221, 223, 224, 229, 233, 238, 246, 247, 250, 252, 263, 268},\n",
      "    { 40,  41,  42,  43,  45,  50,  53,  55,  56,  57,  58,  59,  68,  71,  72,  73,  84,  85,  86,  87,\n",
      "      96,  99, 106, 108, 109, 110, 126, 129, 138, 145, 148, 154, 156, 161, 164, 168, 169, 171, 174, 177,\n",
      "     178, 188, 190, 193, 199, 200, 205, 210, 216, 222, 225, 227, 232, 235, 237, 249, 251, 253, 262, 265},\n",
      "    { 32,  33,  34,  35,  46,  51,  52,  54,  60,  61,  62,  63,  69,  74,  77,  79,  88,  89,  90,  91,\n",
      "      99, 102, 122, 129, 139, 142, 147, 155, 156, 159, 160, 165, 168, 171, 172, 173, 176, 177, 187, 188,\n",
      "     193, 194, 200, 216, 219, 221, 225, 228, 231, 232, 236, 238, 248, 250, 257, 259, 263, 268, 269, 270},\n",
      "    { 32,  33,  34,  35,  44,  47,  48,  49,  60,  61,  62,  63,  70,  75,  76,  78,  88,  89,  90,  91,\n",
      "     101, 104, 123, 128, 130, 132, 136, 137, 138, 141, 148, 151, 154, 157, 161, 164, 166, 169, 175, 178,\n",
      "     186, 192, 196, 203, 207, 211, 212, 220, 222, 226, 234, 235, 237, 244, 245, 249, 251, 260, 261, 266},\n",
      "    { 32,  33,  34,  35,  45,  50,  53,  55,  60,  61,  62,  63,  68,  71,  72,  73,  88,  89,  90,  91,\n",
      "     100, 103, 106, 108, 109, 110, 121, 127, 140, 143, 149, 150, 153, 158, 163, 167, 179, 181, 183, 184,\n",
      "     189, 191, 195, 197, 201, 204, 208, 213, 215, 217, 229, 230, 239, 240, 246, 247, 252, 256, 258, 264},\n",
      "    { 84,  85,  86,  87,  88,  89,  90,  91, 106, 108, 109, 110, 117, 118, 119, 120, 130, 132, 136, 137,\n",
      "     141, 142, 143, 144, 145, 146, 150, 153, 157, 159, 162, 166, 167, 168, 173, 174, 177, 179, 180, 182,\n",
      "     193, 200, 203, 214, 228, 230, 231, 234, 236, 241, 243, 244, 245, 246, 247, 253, 265, 266, 269, 270},\n",
      "    { 45,  50,  53,  55,  70,  75,  76,  78,  84,  85,  86,  87,  88,  89,  90,  91,  98, 101, 102, 117,\n",
      "     118, 119, 120, 121, 125, 129, 139, 148, 155, 156, 163, 169, 170, 184, 185, 186, 187, 188, 197, 198,\n",
      "     202, 206, 207, 212, 217, 218, 219, 225, 233, 239, 240, 242, 248, 249, 250, 251, 263, 264, 267, 271},\n",
      "    { 44,  47,  48,  49,  69,  74,  77,  79,  84,  85,  86,  87,  88,  89,  90,  91,  97,  99, 103, 117,\n",
      "     118, 119, 120, 123, 126, 127, 131, 133, 134, 135, 140, 147, 151, 154, 164, 171, 176, 178, 181, 183,\n",
      "     190, 191, 195, 199, 201, 205, 209, 211, 216, 222, 226, 229, 232, 238, 252, 254, 255, 256, 258, 268},\n",
      "    { 46,  51,  52,  54,  68,  71,  72,  73,  84,  85,  86,  87,  88,  89,  90,  91,  96, 100, 104, 105,\n",
      "     107, 111, 112, 117, 118, 119, 120, 122, 124, 128, 138, 149, 152, 158, 160, 161, 165, 172, 175, 189,\n",
      "     192, 194, 196, 204, 208, 210, 213, 215, 220, 221, 223, 224, 227, 235, 237, 257, 259, 260, 261, 262},\n",
      "    { 40,  41,  42,  43,  60,  61,  62,  63,  92,  93,  94,  95, 102, 103, 104, 106, 108, 109, 110, 124,\n",
      "     125, 126, 130, 132, 136, 137, 147, 148, 149, 152, 158, 169, 175, 176, 183, 185, 187, 190, 196, 199,\n",
      "     202, 205, 206, 208, 213, 219, 220, 223, 224, 228, 236, 238, 248, 249, 251, 256, 258, 268, 269, 270},\n",
      "    { 32,  33,  34,  35,  64,  65,  66,  67,  96,  97,  98, 106, 108, 109, 110, 113, 114, 115, 116, 127,\n",
      "     128, 129, 130, 132, 136, 137, 154, 156, 160, 163, 164, 165, 170, 172, 178, 184, 188, 192, 195, 198,\n",
      "     209, 210, 221, 222, 225, 227, 228, 229, 233, 236, 239, 240, 252, 254, 255, 260, 261, 262, 269, 270},\n",
      "    { 36,  37,  38,  39,  56,  57,  58,  59,  80,  81,  82,  83,  99, 100, 101, 106, 108, 109, 110, 121,\n",
      "     122, 123, 130, 132, 136, 137, 138, 139, 140, 151, 155, 161, 171, 181, 186, 189, 191, 194, 197, 201,\n",
      "     204, 207, 211, 212, 215, 216, 217, 226, 228, 232, 235, 236, 237, 250, 257, 259, 263, 264, 269, 270},\n",
      "    { 40,  41,  42,  43,  45,  50,  53,  55,  60,  61,  62,  63,  70,  75,  76,  78,  92,  93,  94,  95,\n",
      "      96,  99, 123, 128, 140, 142, 144, 150, 151, 159, 160, 165, 167, 171, 172, 173, 180, 181, 191, 192,\n",
      "     201, 210, 211, 216, 218, 221, 226, 227, 231, 232, 241, 242, 243, 246, 247, 260, 261, 262, 267, 271},\n",
      "    { 40,  41,  42,  43,  44,  47,  48,  49,  60,  61,  62,  63,  69,  74,  77,  79,  92,  93,  94,  95,\n",
      "      98, 100, 122, 129, 131, 133, 134, 135, 138, 143, 145, 153, 156, 157, 161, 163, 166, 170, 174, 179,\n",
      "     184, 188, 189, 194, 198, 204, 215, 225, 230, 233, 235, 237, 239, 240, 244, 253, 257, 259, 265, 266},\n",
      "    { 40,  41,  42,  43,  46,  51,  52,  54,  60,  61,  62,  63,  68,  71,  72,  73,  92,  93,  94,  95,\n",
      "      97, 101, 105, 107, 111, 112, 121, 127, 139, 141, 146, 154, 155, 162, 164, 168, 177, 178, 182, 186,\n",
      "     193, 195, 197, 200, 203, 207, 209, 212, 214, 217, 222, 229, 234, 245, 250, 252, 254, 255, 263, 264},\n",
      "    { 32,  33,  34,  35,  45,  50,  53,  55,  64,  65,  66,  67,  70,  75,  76,  78, 100, 103, 113, 114,\n",
      "     115, 116, 122, 126, 138, 141, 146, 147, 161, 162, 168, 176, 177, 182, 183, 189, 190, 193, 194, 199,\n",
      "     200, 203, 204, 205, 214, 215, 218, 234, 235, 237, 238, 242, 245, 256, 257, 258, 259, 267, 268, 271},\n",
      "    { 32,  33,  34,  35,  46,  51,  52,  54,  64,  65,  66,  67,  68,  71,  72,  73,  99, 102, 105, 107,\n",
      "     111, 112, 113, 114, 115, 116, 123, 125, 140, 143, 145, 148, 151, 153, 157, 166, 169, 171, 174, 179,\n",
      "     181, 185, 187, 191, 201, 202, 206, 211, 216, 219, 226, 230, 232, 244, 248, 249, 251, 253, 265, 266},\n",
      "    { 32,  33,  34,  35,  44,  47,  48,  49,  64,  65,  66,  67,  69,  74,  77,  79, 101, 104, 113, 114,\n",
      "     115, 116, 121, 124, 131, 133, 134, 135, 139, 142, 144, 149, 150, 152, 155, 158, 159, 167, 173, 175,\n",
      "     180, 186, 196, 197, 207, 208, 212, 213, 217, 220, 223, 224, 231, 241, 243, 246, 247, 250, 263, 264},\n",
      "    { 36,  37,  38,  39,  45,  50,  53,  55,  56,  57,  58,  59,  70,  75,  76,  78,  80,  81,  82,  83,\n",
      "      97, 104, 124, 127, 143, 145, 149, 152, 153, 154, 157, 158, 164, 166, 174, 175, 178, 179, 195, 196,\n",
      "     208, 209, 213, 218, 220, 222, 223, 224, 229, 230, 242, 244, 252, 253, 254, 255, 265, 266, 267, 271},\n",
      "    { 36,  37,  38,  39,  46,  51,  52,  54,  56,  57,  58,  59,  68,  71,  72,  73,  80,  81,  82,  83,\n",
      "      98, 103, 105, 107, 111, 112, 126, 129, 142, 144, 147, 150, 156, 159, 163, 167, 170, 173, 176, 180,\n",
      "     183, 184, 188, 190, 198, 199, 205, 225, 231, 233, 238, 239, 240, 241, 243, 246, 247, 256, 258, 268},\n",
      "    { 36,  37,  38,  39,  44,  47,  48,  49,  56,  57,  58,  59,  69,  74,  77,  79,  80,  81,  82,  83,\n",
      "      96, 102, 125, 128, 131, 133, 134, 135, 141, 146, 148, 160, 162, 165, 168, 169, 172, 177, 182, 185,\n",
      "     187, 192, 193, 200, 202, 203, 206, 210, 214, 219, 221, 227, 234, 245, 248, 249, 251, 260, 261, 262},\n",
      "    {  6,  13,  14,  15,  21,  26,  27,  28,  49,  54,  55,  72,  76,  77, 107, 110, 117, 118, 119, 120,\n",
      "     130, 133, 151, 152, 156, 158, 160, 161, 166, 167, 168, 173, 174, 176, 178, 181, 182, 184, 187, 190,\n",
      "     192, 194, 196, 204, 206, 212, 217, 229, 230, 232, 233, 241, 245, 251, 255, 258, 262, 263, 269, 271},\n",
      "    {  6,  13,  14,  15,  21,  26,  27,  28,  46,  48,  50,  69,  73,  75,  96, 100, 104, 109, 112, 117,\n",
      "     118, 119, 120, 123, 126, 127, 131, 136, 140, 142, 144, 148, 153, 155, 165, 171, 183, 186, 193, 197,\n",
      "     198, 202, 203, 209, 213, 214, 222, 224, 225, 237, 240, 244, 247, 248, 259, 261, 265, 267, 268, 270},\n",
      "    {  6,  13,  14,  15,  21,  26,  27,  28,  44,  51,  53,  70,  71,  79,  97,  99, 103, 105, 106, 117,\n",
      "     118, 119, 120, 121, 125, 129, 132, 134, 139, 141, 146, 149, 164, 169, 170, 177, 179, 180, 195, 199,\n",
      "     201, 207, 210, 215, 219, 220, 221, 223, 226, 228, 231, 235, 238, 239, 242, 246, 253, 257, 260, 266},\n",
      "    {  6,  13,  14,  15,  21,  26,  27,  28,  45,  47,  52,  68,  74,  78,  98, 101, 102, 108, 111, 117,\n",
      "     118, 119, 120, 122, 124, 128, 135, 137, 138, 143, 145, 147, 150, 154, 157, 159, 162, 163, 172, 175,\n",
      "     185, 188, 189, 191, 200, 205, 208, 211, 216, 218, 227, 234, 236, 243, 249, 250, 252, 254, 256, 264},\n",
      "    {  4,   7,   8,   9,  22,  29,  30,  31,  47,  50,  51,  73,  78,  79,  84,  85,  86,  87, 107, 109,\n",
      "     133, 137, 141, 142, 143, 158, 160, 161, 176, 178, 181, 184, 185, 186, 188, 195, 198, 199, 200, 210,\n",
      "     214, 215, 216, 220, 224, 226, 228, 243, 244, 246, 248, 251, 253, 254, 256, 259, 261, 263, 264, 271},\n",
      "    {  4,   7,   8,   9,  22,  29,  30,  31,  46,  49,  53,  69,  71,  76,  84,  85,  86,  87,  96, 100,\n",
      "     104, 106, 111, 123, 126, 127, 130, 135, 138, 146, 147, 154, 156, 163, 168, 170, 172, 191, 203, 206,\n",
      "     207, 208, 217, 218, 219, 223, 230, 231, 232, 241, 247, 249, 250, 255, 257, 258, 260, 265, 266, 270},\n",
      "    {  4,   7,   8,   9,  22,  29,  30,  31,  44,  52,  55,  70,  72,  74,  84,  85,  86,  87,  97,  99,\n",
      "     103, 110, 112, 121, 125, 129, 131, 132, 140, 145, 148, 150, 152, 155, 165, 166, 173, 175, 177, 179,\n",
      "     180, 182, 187, 189, 192, 194, 205, 211, 212, 213, 222, 227, 233, 234, 236, 237, 240, 252, 267, 268},\n",
      "    {  4,   7,   8,   9,  22,  29,  30,  31,  45,  48,  54,  68,  75,  77,  84,  85,  86,  87,  98, 101,\n",
      "     102, 105, 108, 122, 124, 128, 134, 136, 139, 144, 149, 151, 153, 157, 159, 162, 164, 167, 169, 171,\n",
      "     174, 183, 190, 193, 196, 197, 201, 202, 204, 209, 221, 225, 229, 235, 238, 239, 242, 245, 262, 269},\n",
      "    {  5,  10,  11,  12,  20,  23,  24,  25,  48,  52,  53,  71,  74,  75,  88,  89,  90,  91, 106, 107,\n",
      "     133, 136, 144, 145, 146, 150, 153, 158, 160, 161, 170, 171, 175, 176, 178, 181, 183, 184, 189, 193,\n",
      "     197, 202, 205, 207, 209, 211, 219, 223, 225, 227, 231, 234, 236, 251, 252, 257, 260, 263, 266, 271},\n",
      "    {  5,  10,  11,  12,  20,  23,  24,  25,  46,  47,  55,  69,  72,  78,  88,  89,  90,  91,  96, 100,\n",
      "     104, 105, 110, 123, 126, 127, 134, 137, 139, 143, 149, 152, 164, 166, 169, 173, 182, 185, 187, 188,\n",
      "     192, 194, 200, 201, 203, 212, 216, 221, 233, 235, 238, 239, 242, 243, 247, 254, 256, 264, 265, 270},\n",
      "    {  5,  10,  11,  12,  20,  23,  24,  25,  45,  49,  51,  68,  76,  79,  88,  89,  90,  91,  98, 101,\n",
      "     102, 108, 112, 122, 124, 128, 130, 131, 140, 141, 148, 155, 156, 157, 159, 162, 165, 168, 195, 199,\n",
      "     206, 210, 213, 215, 217, 220, 222, 226, 228, 230, 232, 237, 240, 241, 246, 253, 255, 258, 267, 268},\n",
      "    {  5,  10,  11,  12,  20,  23,  24,  25,  44,  50,  54,  70,  73,  77,  88,  89,  90,  91,  97,  99,\n",
      "     103, 109, 111, 121, 125, 129, 132, 135, 138, 142, 147, 151, 154, 163, 167, 172, 174, 177, 179, 180,\n",
      "     186, 190, 191, 196, 198, 204, 208, 214, 218, 224, 229, 244, 245, 248, 249, 250, 259, 261, 262, 269},\n",
      "    {  3,   9,  11,  14,  18,  24,  28,  31,  34,  38,  43,  59,  63,  66,  80,  85,  90,  92, 113, 119,\n",
      "     138, 139, 140, 147, 148, 149, 163, 164, 165, 182, 183, 187, 188, 193, 194, 197, 198, 203, 204, 205,\n",
      "     206, 207, 216, 220, 224, 226, 227, 228, 229, 230, 231, 236, 243, 244, 247, 255, 260, 265, 269, 270},\n",
      "    {  2,   8,  12,  15,  17,  23,  26,  29,  35,  39,  42,  57,  61,  65,  80,  86,  91,  92, 113, 118,\n",
      "     130, 132, 136, 137, 138, 139, 140, 147, 148, 149, 151, 152, 156, 163, 164, 165, 173, 174, 177, 179,\n",
      "     180, 186, 189, 196, 199, 202, 209, 210, 214, 219, 232, 233, 234, 246, 252, 256, 257, 261, 264, 266},\n",
      "    {  1,   7,  10,  13,  19,  25,  27,  30,  33,  37,  41,  58,  62,  67,  80,  87,  89,  92, 106, 108,\n",
      "     109, 110, 113, 120, 138, 139, 140, 147, 148, 149, 150, 153, 157, 159, 162, 163, 164, 165, 170, 171,\n",
      "     175, 185, 190, 192, 195, 200, 211, 212, 215, 217, 223, 225, 241, 245, 248, 253, 254, 258, 259, 262},\n",
      "    {  3,   9,  11,  14,  18,  24,  28,  31,  35,  36,  41,  58,  61,  64,  81,  87,  91,  94,  99, 100,\n",
      "     101, 115, 117, 127, 128, 129, 152, 153, 154, 159, 160, 166, 167, 168, 174, 175, 180, 181, 199, 202,\n",
      "     208, 209, 210, 211, 214, 217, 228, 233, 235, 236, 238, 239, 245, 248, 250, 251, 258, 259, 269, 270},\n",
      "    {  3,   9,  11,  14,  18,  24,  28,  31,  33,  39,  40,  56,  62,  65,  83,  84,  89,  95, 102, 103,\n",
      "     104, 114, 118, 121, 122, 123, 141, 142, 143, 155, 156, 161, 162, 169, 170, 176, 177, 184, 185, 186,\n",
      "     189, 190, 201, 213, 221, 222, 223, 228, 232, 236, 241, 246, 252, 253, 254, 261, 262, 266, 269, 270},\n",
      "    {  3,   9,  11,  14,  18,  24,  28,  31,  32,  37,  42,  57,  60,  67,  82,  86,  88,  93,  96,  97,\n",
      "      98, 116, 120, 124, 125, 126, 144, 145, 146, 150, 151, 157, 158, 171, 172, 173, 178, 179, 191, 192,\n",
      "     195, 196, 200, 212, 215, 219, 225, 228, 234, 236, 237, 240, 249, 256, 257, 263, 264, 268, 269, 270},\n",
      "    {  2,   8,  12,  15,  17,  23,  26,  29,  33,  36,  43,  59,  62,  64,  82,  85,  89,  93,  99, 100,\n",
      "     101, 116, 117, 127, 128, 129, 130, 132, 136, 137, 158, 162, 166, 167, 168, 170, 172, 178, 183, 185,\n",
      "     187, 190, 191, 194, 197, 203, 220, 223, 226, 230, 231, 237, 240, 241, 249, 253, 254, 262, 263, 268},\n",
      "    {  1,   7,  10,  13,  19,  25,  27,  30,  34,  36,  42,  57,  63,  64,  83,  86,  90,  95,  99, 100,\n",
      "     101, 106, 108, 109, 110, 114, 117, 127, 128, 129, 151, 155, 161, 166, 167, 168, 169, 173, 176, 179,\n",
      "     182, 184, 196, 198, 201, 205, 206, 213, 219, 221, 222, 224, 227, 234, 243, 255, 256, 257, 264, 265},\n",
      "    {  1,   7,  10,  13,  19,  25,  27,  30,  35,  38,  40,  56,  61,  66,  82,  84,  91,  93, 102, 103,\n",
      "     104, 106, 108, 109, 110, 116, 119, 121, 122, 123, 141, 142, 143, 152, 158, 172, 174, 178, 180, 188,\n",
      "     191, 193, 199, 202, 204, 207, 209, 210, 214, 216, 229, 233, 237, 240, 244, 247, 249, 260, 263, 268},\n",
      "    {  2,   8,  12,  15,  17,  23,  26,  29,  34,  37,  40,  56,  63,  67,  81,  84,  90,  94, 102, 103,\n",
      "     104, 115, 120, 121, 122, 123, 130, 132, 136, 137, 141, 142, 143, 150, 154, 157, 160, 171, 181, 182,\n",
      "     192, 195, 198, 200, 205, 206, 208, 212, 215, 224, 225, 227, 235, 238, 239, 243, 250, 251, 255, 265},\n",
      "    {  1,   7,  10,  13,  19,  25,  27,  30,  32,  39,  43,  59,  60,  65,  81,  85,  88,  94,  96,  97,\n",
      "      98, 106, 108, 109, 110, 115, 118, 124, 125, 126, 144, 145, 146, 154, 156, 160, 177, 181, 183, 186,\n",
      "     187, 189, 194, 197, 203, 208, 220, 226, 230, 231, 232, 235, 238, 239, 246, 250, 251, 252, 261, 266},\n",
      "    {  2,   8,  12,  15,  17,  23,  26,  29,  32,  38,  41,  58,  60,  66,  83,  87,  88,  95,  96,  97,\n",
      "      98, 114, 119, 124, 125, 126, 130, 132, 136, 137, 144, 145, 146, 153, 155, 159, 161, 169, 175, 176,\n",
      "     184, 188, 193, 201, 204, 207, 211, 213, 216, 217, 221, 222, 229, 244, 245, 247, 248, 258, 259, 260},\n",
      "    {  5,  10,  11,  12,  22,  29,  30,  31,  48,  52,  53,  73,  78,  79,  92,  93,  94,  95, 105, 108,\n",
      "     132, 135, 147, 148, 149, 154, 155, 157, 159, 162, 170, 171, 175, 177, 179, 180, 183, 185, 188, 189,\n",
      "     191, 195, 199, 203, 207, 209, 219, 221, 224, 226, 227, 235, 240, 247, 259, 261, 264, 265, 267, 270},\n",
      "    {  5,  10,  11,  12,  22,  29,  30,  31,  45,  49,  51,  70,  72,  74,  92,  93,  94,  95,  98, 101,\n",
      "     102, 106, 111, 121, 125, 129, 134, 137, 138, 143, 146, 152, 164, 167, 172, 174, 184, 192, 194, 200,\n",
      "     201, 205, 208, 210, 211, 215, 220, 231, 232, 238, 243, 245, 251, 252, 255, 258, 263, 266, 269, 271},\n",
      "    {  5,  10,  11,  12,  22,  29,  30,  31,  46,  47,  55,  68,  75,  77,  92,  93,  94,  95,  96, 100,\n",
      "     104, 107, 109, 122, 124, 128, 130, 131, 140, 142, 145, 150, 151, 158, 160, 161, 163, 168, 187, 190,\n",
      "     197, 202, 212, 214, 216, 218, 222, 225, 229, 230, 233, 234, 236, 241, 244, 249, 250, 254, 256, 268},\n",
      "    {  5,  10,  11,  12,  22,  29,  30,  31,  44,  50,  54,  69,  71,  76,  92,  93,  94,  95,  97,  99,\n",
      "     103, 110, 112, 123, 126, 127, 133, 136, 139, 141, 144, 153, 156, 165, 166, 169, 173, 176, 178, 181,\n",
      "     182, 186, 193, 196, 198, 204, 206, 213, 217, 223, 228, 237, 239, 242, 246, 248, 253, 257, 260, 262},\n",
      "    {  6,  13,  14,  15,  20,  23,  24,  25,  49,  54,  55,  71,  74,  75, 108, 112, 113, 114, 115, 116,\n",
      "     132, 134, 157, 159, 162, 163, 164, 165, 177, 179, 180, 187, 196, 197, 201, 202, 203, 204, 205, 211,\n",
      "     212, 213, 218, 223, 225, 232, 233, 237, 238, 247, 249, 250, 252, 255, 257, 258, 260, 262, 265, 270},\n",
      "    {  6,  13,  14,  15,  20,  23,  24,  25,  45,  47,  52,  70,  73,  77,  98, 101, 102, 105, 110, 113,\n",
      "     114, 115, 116, 121, 125, 129, 131, 136, 140, 141, 144, 149, 151, 153, 166, 173, 175, 182, 184, 189,\n",
      "     190, 193, 216, 221, 222, 224, 227, 228, 229, 235, 246, 251, 253, 254, 256, 259, 261, 263, 268, 271},\n",
      "    {  6,  13,  14,  15,  20,  23,  24,  25,  46,  48,  50,  68,  76,  79,  96, 100, 104, 106, 107, 113,\n",
      "     114, 115, 116, 122, 124, 128, 135, 137, 139, 143, 146, 147, 154, 156, 158, 160, 161, 167, 169, 171,\n",
      "     174, 183, 186, 191, 195, 198, 199, 200, 206, 209, 217, 226, 231, 239, 242, 243, 245, 248, 266, 269},\n",
      "    {  6,  13,  14,  15,  20,  23,  24,  25,  44,  51,  53,  69,  72,  78,  97,  99, 103, 109, 111, 113,\n",
      "     114, 115, 116, 123, 126, 127, 130, 133, 138, 142, 145, 148, 150, 152, 155, 168, 170, 172, 176, 178,\n",
      "     181, 185, 188, 192, 194, 207, 208, 210, 214, 215, 219, 220, 230, 234, 236, 240, 241, 244, 264, 267},\n",
      "    {  4,   7,   8,   9,  21,  26,  27,  28,  47,  50,  51,  72,  76,  77,  80,  81,  82,  83, 108, 111,\n",
      "     131, 132, 138, 139, 140, 151, 152, 156, 157, 159, 162, 169, 172, 177, 179, 180, 186, 190, 192, 194,\n",
      "     198, 203, 206, 208, 210, 215, 216, 217, 220, 222, 229, 239, 242, 247, 248, 254, 256, 265, 268, 270},\n",
      "    {  4,   7,   8,   9,  21,  26,  27,  28,  45,  48,  54,  70,  71,  79,  80,  81,  82,  83,  98, 101,\n",
      "     102, 109, 112, 121, 125, 129, 130, 135, 142, 145, 147, 150, 154, 165, 168, 171, 183, 184, 191, 195,\n",
      "     196, 199, 204, 209, 213, 214, 223, 226, 230, 234, 236, 237, 241, 244, 251, 257, 260, 262, 263, 271},\n",
      "    {  4,   7,   8,   9,  21,  26,  27,  28,  44,  52,  55,  69,  73,  75,  80,  81,  82,  83,  97,  99,\n",
      "     103, 105, 106, 123, 126, 127, 133, 137, 143, 146, 149, 163, 167, 174, 175, 176, 178, 181, 187, 189,\n",
      "     197, 200, 202, 212, 218, 221, 224, 225, 227, 231, 233, 235, 243, 245, 249, 250, 259, 261, 266, 269},\n",
      "    {  4,   7,   8,   9,  21,  26,  27,  28,  46,  49,  53,  68,  74,  78,  80,  81,  82,  83,  96, 100,\n",
      "     104, 107, 110, 122, 124, 128, 134, 136, 141, 144, 148, 153, 155, 158, 160, 161, 164, 166, 170, 173,\n",
      "     182, 185, 188, 193, 201, 205, 207, 211, 219, 228, 232, 238, 240, 246, 252, 253, 255, 258, 264, 267},\n",
      "    {  2,   8,  12,  15,  19,  25,  27,  30,  35,  39,  42,  58,  62,  67,  82,  84,  88,  94, 114, 117,\n",
      "     141, 142, 143, 144, 145, 146, 166, 167, 168, 184, 185, 186, 189, 190, 191, 192, 195, 196, 208, 209,\n",
      "     210, 211, 217, 218, 219, 221, 222, 223, 225, 232, 233, 237, 238, 242, 251, 256, 259, 263, 267, 271},\n",
      "    {  1,   7,  10,  13,  18,  24,  28,  31,  33,  37,  41,  59,  63,  66,  83,  84,  88,  93, 105, 107,\n",
      "     111, 112, 115, 117, 141, 142, 143, 144, 145, 146, 154, 155, 158, 160, 161, 166, 167, 168, 170, 171,\n",
      "     175, 188, 194, 197, 201, 205, 206, 212, 215, 224, 226, 229, 239, 248, 249, 254, 258, 260, 262, 268},\n",
      "    {  3,   9,  11,  14,  17,  23,  26,  29,  34,  38,  43,  57,  61,  65,  81,  84,  88,  95, 116, 117,\n",
      "     131, 133, 134, 135, 141, 142, 143, 144, 145, 146, 151, 152, 156, 166, 167, 168, 169, 172, 176, 178,\n",
      "     181, 183, 187, 198, 199, 202, 204, 207, 213, 216, 220, 227, 235, 240, 250, 252, 255, 257, 261, 264},\n",
      "    {  2,   8,  12,  15,  19,  25,  27,  30,  34,  37,  40,  59,  60,  65,  83,  86,  89,  92, 102, 103,\n",
      "     104, 116, 119, 124, 125, 126, 147, 148, 149, 155, 156, 161, 162, 171, 172, 173, 178, 179, 193, 194,\n",
      "     197, 198, 201, 212, 215, 218, 226, 227, 234, 240, 241, 242, 244, 247, 252, 253, 255, 261, 267, 271},\n",
      "    {  2,   8,  12,  15,  19,  25,  27,  30,  32,  38,  41,  57,  63,  64,  81,  85,  91,  93,  96,  97,\n",
      "      98, 113, 120, 127, 128, 129, 150, 151, 157, 158, 163, 164, 165, 174, 175, 180, 181, 200, 203, 204,\n",
      "     205, 206, 207, 214, 216, 218, 224, 230, 231, 235, 242, 248, 249, 250, 257, 258, 264, 267, 268, 271},\n",
      "    {  2,   8,  12,  15,  19,  25,  27,  30,  33,  36,  43,  56,  61,  66,  80,  87,  90,  95,  99, 100,\n",
      "     101, 115, 118, 121, 122, 123, 138, 139, 140, 152, 153, 154, 159, 160, 169, 170, 176, 177, 182, 183,\n",
      "     187, 188, 199, 202, 213, 218, 220, 229, 239, 242, 243, 245, 246, 254, 260, 262, 265, 266, 267, 271},\n",
      "    {  1,   7,  10,  13,  18,  24,  28,  31,  35,  38,  40,  57,  60,  67,  81,  87,  90,  92, 102, 103,\n",
      "     104, 105, 107, 111, 112, 114, 118, 124, 125, 126, 147, 148, 149, 151, 153, 159, 177, 181, 182, 184,\n",
      "     192, 195, 204, 207, 209, 210, 216, 221, 222, 225, 233, 235, 243, 245, 246, 250, 257, 264, 265, 266},\n",
      "    {  3,   9,  11,  14,  17,  23,  26,  29,  33,  39,  40,  58,  60,  66,  82,  85,  91,  92, 102, 103,\n",
      "     104, 115, 120, 124, 125, 126, 131, 133, 134, 135, 147, 148, 149, 150, 154, 157, 160, 170, 174, 180,\n",
      "     186, 188, 189, 191, 200, 203, 211, 214, 217, 229, 230, 231, 232, 237, 239, 254, 259, 260, 262, 263},\n",
      "    {  3,   9,  11,  14,  17,  23,  26,  29,  32,  37,  42,  59,  62,  64,  83,  87,  90,  94,  96,  97,\n",
      "      98, 113, 118, 127, 128, 129, 131, 133, 134, 135, 153, 155, 159, 161, 163, 164, 165, 171, 177, 182,\n",
      "     185, 190, 194, 196, 197, 201, 208, 212, 215, 219, 223, 226, 238, 243, 245, 246, 251, 256, 265, 266},\n",
      "    {  1,   7,  10,  13,  18,  24,  28,  31,  32,  39,  43,  58,  61,  64,  82,  86,  89,  95,  96,  97,\n",
      "      98, 105, 107, 111, 112, 113, 119, 127, 128, 129, 152, 162, 163, 164, 165, 169, 173, 176, 179, 183,\n",
      "     186, 187, 189, 191, 193, 199, 202, 211, 213, 217, 220, 232, 234, 237, 241, 244, 247, 253, 259, 263},\n",
      "    {  3,   9,  11,  14,  17,  23,  26,  29,  35,  36,  41,  56,  63,  67,  80,  86,  89,  93,  99, 100,\n",
      "     101, 114, 119, 121, 122, 123, 131, 133, 134, 135, 138, 139, 140, 158, 162, 173, 175, 179, 184, 192,\n",
      "     193, 195, 205, 206, 209, 210, 221, 222, 224, 225, 233, 234, 241, 244, 247, 248, 249, 253, 258, 268},\n",
      "    {  1,   7,  10,  13,  18,  24,  28,  31,  34,  36,  42,  56,  62,  65,  80,  85,  91,  94,  99, 100,\n",
      "     101, 105, 107, 111, 112, 116, 120, 121, 122, 123, 138, 139, 140, 150, 156, 157, 172, 174, 178, 180,\n",
      "     185, 190, 196, 198, 200, 203, 208, 214, 219, 223, 227, 230, 231, 238, 240, 251, 252, 255, 256, 261},\n",
      "    {  0,   1,   2,   3,  22,  29,  30,  31,  44,  45,  46,  64,  65,  66,  67,  73,  78,  79, 110, 112,\n",
      "     127, 128, 129, 130, 134, 150, 152, 155, 158, 159, 170, 172, 176, 179, 186, 187, 190, 191, 193, 196,\n",
      "     197, 203, 206, 209, 211, 214, 215, 216, 218, 222, 227, 235, 239, 243, 251, 253, 257, 258, 266, 269},\n",
      "    {  0,   1,   2,   3,  22,  29,  30,  31,  47,  53,  54,  64,  65,  66,  67,  70,  72,  74,  98,  99,\n",
      "     104, 107, 109, 122, 126, 135, 136, 138, 143, 145, 148, 157, 163, 168, 178, 180, 182, 183, 188, 189,\n",
      "     201, 202, 210, 212, 213, 217, 221, 224, 226, 229, 231, 242, 245, 246, 248, 255, 260, 263, 268, 270},\n",
      "    {  0,   1,   2,   3,  22,  29,  30,  31,  49,  50,  52,  64,  65,  66,  67,  68,  75,  77,  96, 101,\n",
      "     103, 106, 111, 123, 125, 132, 133, 140, 142, 144, 149, 154, 156, 161, 162, 165, 166, 169, 171, 174,\n",
      "     184, 194, 199, 200, 204, 219, 220, 223, 228, 230, 233, 234, 238, 247, 250, 252, 254, 261, 264, 267},\n",
      "    {  0,   1,   2,   3,  22,  29,  30,  31,  48,  51,  55,  64,  65,  66,  67,  69,  71,  76,  97, 100,\n",
      "     102, 105, 108, 121, 124, 131, 137, 139, 141, 146, 147, 151, 153, 160, 164, 167, 173, 175, 177, 181,\n",
      "     185, 192, 195, 198, 205, 207, 208, 225, 232, 236, 237, 240, 241, 244, 249, 256, 259, 262, 265, 271},\n",
      "    {  5,  10,  11,  12,  16,  17,  18,  19,  36,  37,  38,  39,  48,  52,  53,  68,  69,  70,  99, 100,\n",
      "     101, 110, 111, 130, 131, 152, 153, 154, 158, 162, 176, 180, 187, 190, 196, 198, 200, 201, 206, 210,\n",
      "     221, 225, 226, 231, 234, 237, 240, 242, 244, 246, 250, 251, 252, 254, 258, 259, 260, 264, 265, 269},\n",
      "    {  5,  10,  11,  12,  16,  17,  18,  19,  36,  37,  38,  39,  44,  50,  54,  72,  75,  79,  96, 102,\n",
      "     107, 108, 123, 124, 129, 134, 137, 140, 142, 144, 147, 165, 168, 170, 171, 175, 178, 179, 182, 185,\n",
      "     205, 208, 212, 215, 217, 229, 235, 236, 239, 245, 247, 249, 253, 255, 256, 257, 261, 263, 266, 267},\n",
      "    {  5,  10,  11,  12,  16,  17,  18,  19,  36,  37,  38,  39,  45,  49,  51,  71,  77,  78,  97, 104,\n",
      "     105, 109, 121, 126, 128, 133, 136, 139, 141, 146, 148, 150, 156, 159, 161, 164, 166, 172, 174, 177,\n",
      "     183, 184, 191, 194, 195, 202, 204, 207, 211, 213, 216, 218, 224, 227, 230, 233, 243, 248, 268, 270},\n",
      "    {  5,  10,  11,  12,  16,  17,  18,  19,  36,  37,  38,  39,  46,  47,  55,  73,  74,  76,  98, 103,\n",
      "     106, 112, 122, 125, 127, 132, 135, 138, 143, 145, 149, 151, 155, 157, 160, 163, 167, 169, 173, 181,\n",
      "     186, 188, 189, 192, 193, 197, 199, 203, 209, 214, 219, 220, 222, 223, 228, 232, 238, 241, 262, 271},\n",
      "    {  6,  13,  14,  15,  16,  17,  18,  19,  40,  41,  42,  43,  49,  54,  55,  68,  69,  70, 102, 103,\n",
      "     104, 105, 109, 135, 137, 151, 153, 157, 160, 169, 171, 174, 177, 178, 182, 184, 188, 189, 194, 195,\n",
      "     198, 201, 202, 205, 207, 208, 210, 217, 223, 228, 231, 234, 237, 241, 247, 250, 254, 261, 267, 268},\n",
      "    {  6,  13,  14,  15,  16,  17,  18,  19,  40,  41,  42,  43,  46,  48,  50,  71,  77,  78,  97, 101,\n",
      "     110, 111, 123, 124, 129, 132, 134, 139, 141, 144, 149, 159, 161, 165, 167, 176, 191, 192, 196, 197,\n",
      "     199, 200, 206, 214, 215, 219, 222, 227, 230, 232, 233, 236, 240, 249, 252, 256, 259, 265, 266, 271},\n",
      "    {  6,  13,  14,  15,  16,  17,  18,  19,  40,  41,  42,  43,  44,  51,  53,  73,  74,  76,  98, 100,\n",
      "     107, 108, 121, 126, 128, 131, 136, 138, 143, 146, 147, 150, 152, 155, 164, 168, 173, 175, 180, 181,\n",
      "     185, 203, 209, 212, 213, 216, 218, 221, 225, 226, 229, 239, 244, 248, 251, 253, 257, 258, 262, 269},\n",
      "    {  6,  13,  14,  15,  16,  17,  18,  19,  40,  41,  42,  43,  45,  47,  52,  72,  75,  79,  96,  99,\n",
      "     106, 112, 122, 125, 127, 130, 133, 140, 142, 145, 148, 154, 156, 158, 162, 163, 166, 170, 172, 179,\n",
      "     183, 186, 187, 190, 193, 204, 211, 220, 224, 235, 238, 242, 243, 245, 246, 255, 260, 263, 264, 270},\n",
      "    {  0,   1,   2,   3,  20,  23,  24,  25,  44,  45,  46,  56,  57,  58,  59,  71,  74,  75, 109, 111,\n",
      "     121, 122, 123, 131, 137, 150, 152, 155, 160, 162, 173, 175, 178, 180, 183, 184, 188, 190, 191, 193,\n",
      "     195, 198, 204, 206, 210, 212, 213, 219, 228, 230, 232, 235, 238, 242, 245, 249, 254, 261, 265, 266},\n",
      "    {  0,   1,   2,   3,  20,  23,  24,  25,  49,  50,  52,  56,  57,  58,  59,  69,  72,  78,  98,  99,\n",
      "     104, 108, 112, 125, 128, 135, 136, 140, 141, 145, 148, 161, 164, 166, 176, 179, 187, 199, 200, 207,\n",
      "     208, 209, 211, 214, 215, 217, 221, 223, 225, 229, 231, 239, 241, 247, 250, 256, 259, 262, 269, 271},\n",
      "    {  0,   1,   2,   3,  20,  23,  24,  25,  47,  53,  54,  56,  57,  58,  59,  68,  76,  79,  97, 100,\n",
      "     102, 105, 110, 126, 129, 132, 133, 138, 142, 146, 147, 151, 153, 157, 158, 165, 168, 169, 171, 174,\n",
      "     186, 192, 201, 202, 203, 218, 220, 222, 224, 227, 233, 236, 240, 243, 246, 252, 257, 258, 263, 264},\n",
      "    {  0,   1,   2,   3,  20,  23,  24,  25,  48,  51,  55,  56,  57,  58,  59,  70,  73,  77,  96, 101,\n",
      "     103, 106, 107, 124, 127, 130, 134, 139, 143, 144, 149, 154, 156, 159, 163, 167, 170, 172, 177, 181,\n",
      "     182, 185, 189, 194, 196, 197, 205, 216, 226, 234, 237, 244, 248, 251, 253, 255, 260, 267, 268, 270},\n",
      "    {  1,   6,   9,  12,  19,  21,  23,  31,  33,  37,  41,  49,  54,  55,  58,  62,  67,  72,  76,  77,\n",
      "      82,  85,  91,  95, 108, 112, 115, 117, 135, 136, 157, 159, 162, 166, 167, 168, 188, 189, 198, 201,\n",
      "     202, 208, 209, 216, 219, 220, 222, 224, 226, 228, 234, 235, 240, 242, 243, 244, 249, 252, 257, 266},\n",
      "    {  3,   6,   8,  10,  18,  21,  25,  29,  34,  38,  43,  49,  54,  55,  59,  63,  66,  72,  76,  77,\n",
      "      83,  86,  89,  94, 106, 111, 116, 117, 134, 137, 150, 153, 166, 167, 168, 170, 171, 175, 186, 191,\n",
      "     199, 203, 210, 211, 213, 214, 221, 223, 225, 239, 246, 247, 250, 256, 261, 264, 265, 267, 268, 270},\n",
      "    {  2,   6,   7,  11,  17,  21,  24,  30,  35,  39,  42,  49,  54,  55,  57,  61,  65,  72,  76,  77,\n",
      "      81,  87,  90,  93, 105, 109, 114, 117, 131, 132, 154, 155, 166, 167, 168, 169, 172, 177, 179, 180,\n",
      "     183, 185, 193, 195, 197, 200, 205, 207, 215, 218, 227, 231, 236, 237, 238, 248, 253, 254, 259, 260},\n",
      "    {  3,   4,  12,  13,  18,  22,  23,  27,  34,  38,  43,  47,  50,  51,  59,  63,  66,  73,  78,  79,\n",
      "      81,  84,  91,  93, 105, 110, 114, 120, 131, 136, 141, 142, 143, 154, 155, 169, 172, 189, 190, 192,\n",
      "     202, 203, 209, 212, 217, 218, 219, 234, 237, 238, 241, 245, 247, 252, 257, 258, 262, 265, 266, 270},\n",
      "    {  1,   4,  11,  15,  19,  22,  24,  26,  33,  37,  41,  47,  50,  51,  58,  62,  67,  73,  78,  79,\n",
      "      83,  84,  90,  94, 108, 111, 116, 118, 130, 134, 141, 142, 143, 151, 152, 156, 157, 159, 162, 173,\n",
      "     174, 183, 191, 193, 196, 197, 205, 207, 213, 221, 227, 231, 232, 233, 236, 239, 250, 260, 267, 268},\n",
      "    {  2,   4,  10,  14,  17,  22,  25,  28,  35,  39,  42,  47,  50,  51,  57,  61,  65,  73,  78,  79,\n",
      "      82,  84,  89,  95, 106, 112, 115, 119, 132, 135, 141, 142, 143, 150, 153, 170, 171, 175, 177, 179,\n",
      "     180, 182, 187, 194, 201, 204, 206, 208, 211, 222, 223, 225, 229, 230, 235, 240, 242, 249, 255, 269},\n",
      "    {  2,   5,   9,  13,  17,  20,  27,  31,  35,  39,  42,  48,  52,  53,  57,  61,  65,  71,  74,  75,\n",
      "      83,  85,  88,  94, 110, 111, 116, 120, 132, 134, 144, 145, 146, 177, 179, 180, 188, 190, 191, 192,\n",
      "     198, 212, 213, 216, 217, 220, 221, 224, 226, 228, 239, 241, 243, 244, 245, 250, 258, 262, 267, 268},\n",
      "    {  3,   5,   7,  15,  18,  20,  26,  30,  34,  38,  43,  48,  52,  53,  59,  63,  66,  71,  74,  75,\n",
      "      82,  87,  88,  95, 109, 112, 115, 118, 130, 135, 144, 145, 146, 151, 152, 156, 173, 174, 185, 195,\n",
      "     196, 200, 201, 203, 208, 215, 222, 232, 233, 235, 240, 242, 247, 248, 249, 253, 254, 259, 265, 270},\n",
      "    {  1,   5,   8,  14,  19,  20,  28,  29,  33,  37,  41,  48,  52,  53,  58,  62,  67,  71,  74,  75,\n",
      "      81,  86,  88,  93, 105, 108, 114, 119, 131, 137, 144, 145, 146, 154, 155, 157, 159, 162, 169, 172,\n",
      "     182, 186, 187, 194, 199, 204, 206, 210, 214, 218, 229, 230, 237, 238, 246, 255, 256, 261, 264, 269},\n",
      "    {  0,   4,   5,   6,  19,  25,  27,  30,  34,  39,  41,  56,  61,  66,  69,  74,  77,  79,  83,  86,\n",
      "      88,  94,  98,  99, 104, 113, 120, 125, 128, 138, 143, 147, 159, 160, 167, 180, 181, 182, 183, 193,\n",
      "     194, 203, 204, 205, 210, 211, 212, 213, 219, 222, 223, 225, 240, 249, 252, 253, 254, 263, 264, 266},\n",
      "    {  2,   8,  12,  15,  16,  20,  21,  22,  34,  37,  40,  46,  51,  52,  54,  57,  62,  66,  82,  87,\n",
      "      91,  95,  97, 101, 113, 117, 123, 124, 129, 138, 142, 145, 147, 157, 158, 178, 179, 182, 183, 193,\n",
      "     194, 195, 196, 201, 202, 203, 204, 205, 217, 221, 232, 233, 239, 241, 246, 248, 250, 251, 261, 262},\n",
      "    {  0,   4,   5,   6,  19,  25,  27,  30,  32,  36,  40,  58,  62,  67,  69,  74,  77,  79,  81,  85,\n",
      "      90,  95, 116, 119, 123, 126, 127, 139, 142, 146, 148, 152, 153, 154, 163, 166, 174, 175, 187, 188,\n",
      "     197, 198, 200, 201, 206, 207, 208, 209, 215, 221, 232, 234, 237, 241, 246, 256, 257, 261, 262, 268},\n",
      "    {  2,   8,  12,  15,  16,  20,  21,  22,  35,  39,  42,  46,  51,  52,  54,  56,  60,  64,  83,  85,\n",
      "      90,  93,  96, 100, 104, 115, 119, 139, 143, 144, 148, 150, 151, 163, 168, 171, 172, 173, 187, 188,\n",
      "     191, 192, 197, 198, 199, 206, 207, 213, 214, 222, 223, 235, 238, 245, 252, 253, 254, 258, 259, 266},\n",
      "    {  2,   8,  12,  15,  16,  20,  21,  22,  33,  36,  43,  46,  51,  52,  54,  58,  63,  65,  81,  86,\n",
      "      88,  92,  98, 103, 114, 120, 122, 125, 127, 140, 141, 152, 153, 154, 161, 162, 165, 166, 174, 175,\n",
      "     176, 177, 189, 190, 208, 209, 212, 216, 219, 225, 226, 227, 231, 240, 243, 247, 249, 260, 263, 264},\n",
      "    {  2,   8,  12,  15,  16,  20,  21,  22,  32,  38,  41,  46,  51,  52,  54,  59,  61,  67,  80,  84,\n",
      "      89,  94,  99, 102, 116, 118, 121, 126, 128, 146, 149, 155, 156, 159, 160, 164, 167, 169, 170, 180,\n",
      "     181, 184, 185, 186, 200, 210, 211, 215, 220, 224, 229, 230, 234, 237, 244, 255, 256, 257, 265, 268},\n",
      "    {  0,   4,   5,   6,  19,  25,  27,  30,  35,  37,  43,  57,  63,  64,  69,  74,  77,  79,  82,  84,\n",
      "      89,  92,  97, 100, 102, 115, 118, 121, 124, 140, 145, 155, 156, 157, 158, 165, 168, 169, 170, 178,\n",
      "     179, 184, 185, 186, 195, 196, 199, 214, 216, 226, 227, 231, 235, 238, 243, 245, 247, 258, 259, 260},\n",
      "    {  0,   4,   5,   6,  19,  25,  27,  30,  33,  38,  42,  59,  60,  65,  69,  74,  77,  79,  80,  87,\n",
      "      91,  93,  96, 101, 103, 114, 117, 122, 129, 141, 144, 149, 150, 151, 161, 162, 164, 171, 172, 173,\n",
      "     176, 177, 189, 190, 191, 192, 202, 217, 220, 224, 229, 230, 233, 239, 244, 248, 250, 251, 255, 265},\n",
      "    {  0,   1,   2,   3,  21,  26,  27,  28,  44,  45,  46,  60,  61,  62,  63,  72,  76,  77, 105, 106,\n",
      "     124, 125, 126, 135, 136, 157, 161, 171, 172, 173, 177, 181, 188, 189, 195, 197, 207, 211, 213, 214,\n",
      "     220, 222, 230, 233, 236, 238, 239, 243, 245, 247, 248, 249, 253, 255, 256, 257, 261, 262, 263, 267},\n",
      "    {  0,   1,   2,   3,  21,  26,  27,  28,  48,  51,  55,  60,  61,  62,  63,  68,  74,  78,  98,  99,\n",
      "     104, 109, 112, 121, 127, 132, 133, 138, 143, 146, 149, 151, 152, 156, 159, 160, 164, 166, 186, 191,\n",
      "     193, 199, 202, 204, 219, 227, 234, 240, 241, 242, 246, 250, 251, 254, 258, 259, 260, 265, 268, 269},\n",
      "    {  0,   1,   2,   3,  21,  26,  27,  28,  47,  53,  54,  60,  61,  62,  63,  69,  73,  75,  96, 101,\n",
      "     103, 108, 111, 122, 129, 130, 134, 140, 142, 145, 147, 153, 155, 158, 163, 167, 169, 175, 178, 180,\n",
      "     182, 185, 187, 190, 192, 198, 200, 203, 209, 215, 217, 221, 223, 226, 228, 232, 237, 252, 266, 271},\n",
      "    {  0,   1,   2,   3,  21,  26,  27,  28,  49,  50,  52,  60,  61,  62,  63,  70,  71,  79,  97, 100,\n",
      "     102, 107, 110, 123, 128, 131, 137, 139, 141, 144, 148, 150, 154, 162, 165, 168, 170, 174, 176, 179,\n",
      "     183, 184, 194, 196, 201, 205, 206, 208, 210, 212, 216, 218, 224, 225, 229, 231, 235, 244, 264, 270},\n",
      "    {  4,   7,   8,   9,  16,  17,  18,  19,  32,  33,  34,  35,  47,  50,  51,  68,  69,  70,  96,  97,\n",
      "      98, 106, 112, 134, 136, 154, 156, 159, 161, 169, 171, 174, 179, 181, 182, 185, 187, 189, 192, 196,\n",
      "     197, 199, 200, 203, 207, 208, 211, 218, 221, 224, 229, 236, 240, 241, 244, 246, 257, 258, 263, 268},\n",
      "    {  4,   7,   8,   9,  16,  17,  18,  19,  32,  33,  34,  35,  45,  48,  54,  73,  74,  76, 100, 103,\n",
      "     110, 111, 123, 124, 129, 133, 137, 139, 142, 146, 147, 157, 160, 163, 167, 180, 190, 193, 194, 195,\n",
      "     198, 201, 202, 212, 213, 216, 219, 220, 222, 227, 230, 234, 235, 251, 253, 255, 260, 264, 267, 270},\n",
      "    {  4,   7,   8,   9,  16,  17,  18,  19,  32,  33,  34,  35,  44,  52,  55,  71,  77,  78, 101, 104,\n",
      "     107, 108, 122, 125, 127, 130, 135, 140, 143, 144, 149, 150, 152, 155, 164, 166, 170, 172, 176, 177,\n",
      "     183, 184, 205, 214, 215, 217, 225, 226, 228, 231, 232, 237, 242, 245, 248, 249, 254, 261, 262, 265},\n",
      "    {  4,   7,   8,   9,  16,  17,  18,  19,  32,  33,  34,  35,  46,  49,  53,  72,  75,  79,  99, 102,\n",
      "     105, 109, 121, 126, 128, 131, 132, 138, 141, 145, 148, 151, 153, 158, 162, 165, 168, 173, 175, 178,\n",
      "     186, 188, 191, 204, 206, 209, 210, 223, 233, 238, 239, 243, 247, 250, 252, 256, 259, 266, 269, 271},\n",
      "    {  3,   5,   7,  15,  17,  22,  25,  28,  34,  38,  43,  48,  52,  53,  57,  61,  65,  73,  78,  79,\n",
      "      83,  86,  90,  92, 110, 111, 114, 120, 133, 137, 147, 148, 149, 176, 178, 181, 193, 194, 196, 206,\n",
      "     211, 214, 215, 218, 223, 225, 229, 231, 232, 233, 236, 237, 238, 239, 241, 245, 246, 248, 254, 268},\n",
      "    {  2,   5,   9,  13,  19,  22,  24,  26,  35,  39,  42,  48,  52,  53,  58,  62,  67,  73,  78,  79,\n",
      "      81,  87,  91,  92, 109, 112, 115, 119, 131, 136, 147, 148, 149, 151, 152, 156, 169, 172, 182, 184,\n",
      "     197, 198, 200, 201, 205, 212, 216, 220, 230, 234, 249, 251, 253, 258, 260, 262, 263, 266, 269, 271},\n",
      "    {  1,   5,   8,  14,  18,  22,  23,  27,  33,  37,  41,  48,  52,  53,  59,  63,  66,  73,  78,  79,\n",
      "      82,  85,  89,  92, 106, 107, 116, 118, 130, 134, 147, 148, 149, 150, 153, 158, 160, 161, 173, 174,\n",
      "     186, 187, 190, 192, 202, 204, 208, 210, 213, 217, 222, 228, 242, 243, 244, 250, 252, 255, 256, 257},\n",
      "    {  2,   6,   7,  11,  19,  20,  28,  29,  35,  39,  42,  49,  54,  55,  58,  62,  67,  71,  74,  75,\n",
      "      83,  85,  89,  95, 106, 111, 113, 118, 130, 135, 150, 153, 163, 164, 165, 173, 174, 183, 184, 194,\n",
      "     199, 206, 207, 215, 227, 228, 229, 235, 239, 240, 243, 244, 248, 251, 254, 261, 263, 264, 268, 271},\n",
      "    {  3,   6,   8,  10,  17,  20,  27,  31,  34,  38,  43,  49,  54,  55,  57,  61,  65,  71,  74,  75,\n",
      "      82,  87,  91,  93, 105, 109, 113, 119, 133, 136, 154, 155, 163, 164, 165, 170, 171, 175, 176, 178,\n",
      "     181, 182, 186, 188, 190, 192, 200, 208, 210, 217, 222, 224, 226, 230, 234, 242, 253, 256, 266, 269},\n",
      "    {  1,   6,   9,  12,  18,  20,  26,  30,  33,  37,  41,  49,  54,  55,  59,  63,  66,  71,  74,  75,\n",
      "      81,  86,  90,  94, 107, 110, 113, 120, 131, 137, 151, 152, 156, 158, 160, 161, 163, 164, 165, 169,\n",
      "     172, 185, 189, 191, 193, 195, 198, 209, 214, 216, 219, 220, 221, 231, 236, 241, 245, 246, 259, 267},\n",
      "    {  1,   4,  11,  15,  18,  21,  25,  29,  33,  37,  41,  47,  50,  51,  59,  63,  66,  72,  76,  77,\n",
      "      80,  87,  91,  95, 107, 109, 114, 119, 135, 136, 138, 139, 140, 158, 160, 161, 182, 183, 196, 199,\n",
      "     200, 207, 211, 218, 223, 225, 227, 230, 232, 233, 234, 235, 237, 238, 240, 253, 261, 264, 266, 269},\n",
      "    {  2,   4,  10,  14,  19,  21,  23,  31,  35,  39,  42,  47,  50,  51,  58,  62,  67,  72,  76,  77,\n",
      "      80,  86,  90,  93, 105, 110, 116, 120, 134, 137, 138, 139, 140, 154, 155, 170, 171, 175, 184, 187,\n",
      "     188, 193, 202, 204, 213, 214, 224, 226, 231, 236, 241, 245, 246, 250, 251, 252, 255, 257, 263, 271},\n",
      "    {  3,   4,  12,  13,  17,  21,  24,  30,  34,  38,  43,  47,  50,  51,  57,  61,  65,  72,  76,  77,\n",
      "      80,  85,  89,  94, 106, 112, 115, 118, 130, 133, 138, 139, 140, 150, 153, 173, 174, 176, 178, 181,\n",
      "     185, 189, 191, 195, 197, 201, 205, 209, 212, 219, 221, 228, 243, 244, 249, 258, 259, 260, 262, 267},\n",
      "    {  3,   9,  11,  14,  16,  20,  21,  22,  32,  37,  42,  45,  50,  53,  55,  58,  63,  65,  80,  84,\n",
      "      91,  95, 100, 103, 115, 119, 123, 124, 129, 144, 148, 161, 162, 165, 166, 178, 179, 184, 185, 186,\n",
      "     191, 192, 197, 198, 199, 200, 208, 209, 216, 220, 229, 231, 245, 246, 248, 250, 257, 262, 265, 268},\n",
      "    {  0,   4,   5,   6,  18,  24,  28,  31,  33,  38,  42,  58,  61,  64,  70,  75,  76,  78,  83,  84,\n",
      "      90,  92,  98,  99, 104, 116, 120, 122, 126, 139, 144, 159, 160, 164, 166, 176, 177, 184, 185, 186,\n",
      "     187, 188, 191, 192, 208, 209, 214, 215, 224, 226, 227, 230, 234, 235, 247, 249, 252, 253, 258, 264},\n",
      "    {  3,   9,  11,  14,  16,  20,  21,  22,  34,  38,  43,  45,  50,  53,  55,  56,  60,  64,  82,  87,\n",
      "      89,  94,  98, 101, 102, 114, 120, 140, 141, 145, 147, 155, 156, 164, 167, 171, 172, 173, 189, 190,\n",
      "     193, 194, 195, 196, 202, 210, 211, 213, 214, 224, 230, 235, 239, 243, 249, 254, 258, 260, 264, 266},\n",
      "    {  0,   4,   5,   6,  18,  24,  28,  31,  32,  36,  40,  59,  63,  66,  70,  75,  76,  78,  82,  86,\n",
      "      91,  94, 114, 118, 121, 125, 129, 138, 141, 145, 149, 152, 153, 154, 165, 167, 169, 170, 182, 183,\n",
      "     189, 190, 195, 196, 200, 201, 210, 211, 212, 216, 231, 240, 241, 244, 248, 250, 255, 257, 261, 268},\n",
      "    {  0,   4,   5,   6,  18,  24,  28,  31,  34,  39,  41,  57,  60,  67,  70,  75,  76,  78,  80,  85,\n",
      "      89,  95,  97, 100, 102, 115, 117, 123, 128, 143, 146, 147, 155, 156, 157, 158, 163, 171, 172, 173,\n",
      "     180, 181, 193, 194, 199, 206, 207, 217, 220, 222, 223, 229, 233, 237, 245, 246, 251, 256, 262, 265},\n",
      "    {  0,   4,   5,   6,  18,  24,  28,  31,  35,  37,  43,  56,  62,  65,  70,  75,  76,  78,  81,  87,\n",
      "      88,  93,  96, 101, 103, 113, 119, 124, 127, 140, 142, 148, 150, 151, 161, 162, 168, 174, 175, 178,\n",
      "     179, 197, 198, 202, 203, 204, 205, 213, 219, 221, 225, 232, 238, 239, 243, 254, 259, 260, 263, 266},\n",
      "    {  3,   9,  11,  14,  16,  20,  21,  22,  33,  39,  40,  45,  50,  53,  55,  59,  61,  67,  81,  86,\n",
      "      90,  93,  96,  99, 113, 117, 122, 125, 127, 139, 143, 146, 149, 150, 151, 159, 160, 174, 175, 176,\n",
      "     177, 187, 188, 201, 203, 204, 205, 212, 217, 222, 223, 233, 237, 240, 241, 244, 251, 255, 256, 261},\n",
      "    {  3,   9,  11,  14,  16,  20,  21,  22,  35,  36,  41,  45,  50,  53,  55,  57,  62,  66,  83,  85,\n",
      "      88,  92,  97, 104, 116, 118, 121, 126, 128, 138, 142, 152, 153, 154, 157, 158, 163, 168, 169, 170,\n",
      "     180, 181, 182, 183, 206, 207, 215, 219, 221, 225, 226, 227, 232, 234, 238, 247, 252, 253, 259, 263},\n",
      "    {  0,   7,  12,  14,  19,  22,  24,  26,  35,  37,  43,  44,  45,  46,  57,  63,  64,  73,  78,  79,\n",
      "      81,  87,  90,  94, 105, 106, 114, 120, 127, 128, 129, 133, 137, 160, 162, 174, 175, 177, 195, 198,\n",
      "     199, 201, 207, 213, 217, 223, 226, 229, 230, 232, 234, 240, 242, 244, 252, 256, 262, 263, 268, 270},\n",
      "    {  0,   8,  11,  13,  17,  22,  25,  28,  34,  39,  41,  44,  45,  46,  59,  62,  64,  73,  78,  79,\n",
      "      83,  86,  89,  95, 107, 108, 116, 118, 127, 128, 129, 131, 136, 151, 154, 171, 180, 181, 182, 184,\n",
      "     192, 200, 202, 204, 208, 219, 220, 224, 228, 231, 233, 237, 245, 247, 249, 254, 259, 260, 261, 267},\n",
      "    {  0,   9,  10,  15,  18,  22,  23,  27,  33,  38,  42,  44,  45,  46,  58,  61,  64,  73,  78,  79,\n",
      "      82,  85,  91,  93, 109, 111, 115, 119, 127, 128, 129, 132, 135, 153, 156, 157, 161, 169, 173, 178,\n",
      "     183, 185, 188, 189, 194, 205, 210, 212, 221, 225, 236, 238, 241, 246, 248, 250, 255, 264, 265, 271},\n",
      "    {  1,   5,   8,  14,  16,  25,  26,  31,  34,  36,  42,  48,  52,  53,  59,  61,  67,  68,  69,  70,\n",
      "      83,  86,  89,  93,  99, 100, 101, 109, 112, 116, 120, 132, 133, 159, 160, 169, 171, 174, 183, 185,\n",
      "     205, 209, 216, 217, 222, 229, 230, 232, 235, 236, 238, 243, 247, 248, 257, 261, 262, 263, 266, 267},\n",
      "    {  2,   5,   9,  13,  16,  23,  28,  30,  33,  36,  43,  48,  52,  53,  58,  63,  65,  68,  69,  70,\n",
      "      82,  85,  91,  94,  99, 100, 101, 106, 107, 115, 118, 135, 137, 151, 155, 157, 172, 175, 179, 181,\n",
      "     182, 184, 188, 189, 192, 193, 197, 199, 204, 213, 215, 218, 223, 227, 233, 245, 253, 256, 268, 270},\n",
      "    {  3,   5,   7,  15,  16,  24,  27,  29,  35,  36,  41,  48,  52,  53,  57,  62,  66,  68,  69,  70,\n",
      "      81,  87,  90,  95,  99, 100, 101, 105, 108, 114, 119, 134, 136, 150, 156, 161, 170, 173, 177, 178,\n",
      "     186, 191, 194, 195, 202, 203, 207, 208, 211, 212, 214, 219, 220, 224, 228, 239, 241, 249, 255, 271},\n",
      "    {  3,   6,   8,  10,  16,  23,  28,  30,  33,  39,  40,  49,  54,  55,  59,  61,  67,  68,  69,  70,\n",
      "      82,  85,  89,  95, 102, 103, 104, 108, 112, 116, 119, 130, 131, 155, 156, 158, 179, 181, 187, 190,\n",
      "     200, 211, 212, 214, 216, 219, 221, 224, 227, 233, 236, 238, 239, 245, 248, 260, 264, 265, 266, 271},\n",
      "    {  1,   6,   9,  12,  16,  24,  27,  29,  35,  38,  40,  49,  54,  55,  58,  63,  65,  68,  69,  70,\n",
      "      81,  87,  91,  93, 102, 103, 104, 106, 111, 115, 120, 132, 133, 152, 161, 162, 170, 173, 183, 185,\n",
      "     191, 193, 203, 213, 215, 218, 222, 225, 226, 229, 232, 240, 243, 246, 251, 255, 256, 257, 258, 269},\n",
      "    {  2,   6,   7,  11,  16,  25,  26,  31,  34,  37,  40,  49,  54,  55,  57,  62,  66,  68,  69,  70,\n",
      "      83,  86,  90,  94, 102, 103, 104, 107, 110, 114, 118, 134, 136, 150, 154, 159, 172, 175, 176, 180,\n",
      "     186, 192, 196, 197, 199, 204, 206, 209, 220, 230, 235, 242, 244, 249, 252, 253, 259, 262, 263, 270},\n",
      "    {  0,   8,  11,  13,  18,  20,  26,  30,  35,  37,  43,  44,  45,  46,  56,  62,  65,  71,  74,  75,\n",
      "      83,  85,  90,  94, 105, 106, 115, 118, 121, 122, 123, 132, 134, 158, 159, 169, 170, 181, 189, 196,\n",
      "     197, 200, 202, 214, 216, 217, 222, 224, 225, 229, 234, 237, 240, 241, 247, 248, 255, 264, 269, 271},\n",
      "    {  0,   7,  12,  14,  17,  20,  27,  31,  33,  38,  42,  44,  45,  46,  56,  63,  67,  71,  74,  75,\n",
      "      81,  86,  91,  93, 107, 108, 116, 120, 121, 122, 123, 130, 135, 153, 156, 171, 176, 177, 182, 186,\n",
      "     194, 199, 201, 203, 208, 218, 220, 221, 223, 227, 233, 236, 239, 244, 253, 257, 258, 259, 260, 263},\n",
      "    {  0,   9,  10,  15,  19,  20,  28,  29,  34,  39,  41,  44,  45,  46,  56,  61,  66,  71,  74,  75,\n",
      "      82,  87,  89,  95, 110, 112, 114, 119, 121, 122, 123, 133, 136, 151, 154, 157, 161, 172, 174, 179,\n",
      "     185, 187, 192, 205, 207, 209, 211, 215, 226, 231, 243, 246, 250, 251, 252, 256, 262, 267, 268, 270},\n",
      "    {  1,   4,  11,  15,  16,  23,  28,  30,  35,  38,  40,  46,  49,  53,  58,  63,  65,  72,  75,  79,\n",
      "      80,  86,  90,  92,  97, 101, 108, 112, 116, 119, 123, 124, 129, 135, 136, 143, 146, 160, 163, 166,\n",
      "     177, 181, 190, 196, 208, 209, 210, 232, 233, 245, 253, 254, 255, 258, 260, 263, 264, 267, 268, 270},\n",
      "    {  1,   5,   8,  14,  18,  22,  23,  27,  32,  39,  43,  45,  49,  51,  58,  61,  64,  70,  72,  74,\n",
      "      83,  87,  88,  94, 100, 103, 108, 112, 114, 120, 122, 126, 135, 136, 139, 142, 149, 158, 165, 166,\n",
      "     178, 180, 195, 197, 206, 208, 209, 212, 213, 218, 227, 230, 236, 237, 238, 246, 248, 251, 261, 265},\n",
      "    {  2,   6,   7,  11,  19,  20,  28,  29,  32,  38,  41,  45,  47,  52,  57,  63,  64,  70,  73,  77,\n",
      "      80,  84,  90,  92, 100, 103, 107, 109, 114, 119, 122, 126, 133, 137, 145, 159, 163, 167, 179, 184,\n",
      "     185, 186, 217, 218, 219, 221, 222, 237, 238, 239, 240, 241, 249, 250, 252, 255, 260, 262, 266, 270},\n",
      "    {  3,   5,   7,  15,  16,  24,  27,  29,  33,  39,  40,  46,  47,  55,  59,  61,  67,  73,  74,  76,\n",
      "      83,  84,  88,  94,  97, 101, 107, 109, 115, 120, 123, 124, 129, 133, 137, 140, 148, 162, 164, 168,\n",
      "     180, 184, 185, 186, 187, 189, 196, 207, 212, 213, 229, 231, 232, 233, 234, 235, 242, 247, 257, 269},\n",
      "    {  0,   7,  12,  14,  18,  21,  25,  29,  35,  37,  43,  47,  53,  54,  56,  62,  65,  69,  73,  75,\n",
      "      82,  84,  91,  95,  98,  99, 104, 107, 109, 116, 117, 125, 128, 133, 137, 139, 146, 149, 157, 165,\n",
      "     177, 184, 185, 186, 190, 197, 201, 202, 206, 211, 223, 225, 227, 230, 236, 245, 258, 265, 267, 268},\n",
      "    {  0,   8,  11,  13,  17,  22,  25,  28,  33,  38,  42,  48,  51,  55,  56,  63,  67,  69,  71,  76,\n",
      "      80,  87,  90,  92,  98,  99, 104, 110, 111, 115, 119, 125, 128, 132, 134, 142, 144, 158, 162, 163,\n",
      "     168, 178, 189, 191, 192, 195, 211, 223, 225, 234, 235, 242, 246, 248, 251, 255, 257, 260, 261, 270},\n",
      "    {  3,   4,  12,  13,  17,  21,  24,  30,  32,  37,  42,  45,  48,  54,  59,  62,  64,  70,  71,  79,\n",
      "      82,  86,  91,  95, 100, 103, 110, 111, 114, 117, 122, 126, 132, 134, 140, 143, 144, 148, 157, 160,\n",
      "     164, 181, 187, 191, 192, 201, 202, 207, 210, 218, 229, 231, 237, 238, 247, 253, 254, 263, 264, 269},\n",
      "    {  2,   4,  10,  14,  16,  24,  27,  29,  35,  39,  42,  46,  49,  53,  56,  60,  64,  72,  75,  79,\n",
      "      81,  87,  88,  94,  96, 100, 104, 106, 111, 113, 118, 134, 137, 140, 142, 149, 154, 156, 167, 182,\n",
      "     185, 193, 209, 210, 211, 216, 224, 227, 228, 229, 233, 234, 237, 240, 241, 242, 248, 249, 257, 262},\n",
      "    {  0,   9,  10,  15,  19,  20,  28,  29,  32,  36,  40,  49,  50,  52,  58,  62,  67,  69,  72,  78,\n",
      "      80,  84,  91,  94, 106, 111, 115, 120, 123, 126, 127, 134, 137, 144, 147, 151, 155, 165, 167, 169,\n",
      "     173, 183, 202, 204, 210, 211, 212, 217, 218, 219, 222, 226, 230, 235, 236, 244, 253, 254, 259, 260},\n",
      "    {  2,   5,   9,  13,  16,  23,  28,  30,  35,  39,  42,  46,  47,  55,  56,  60,  64,  73,  74,  76,\n",
      "      80,  86,  89,  95,  96, 100, 104, 105, 110, 114, 117, 131, 136, 141, 146, 147, 152, 165, 170, 174,\n",
      "     183, 186, 189, 190, 200, 201, 204, 208, 215, 225, 226, 230, 232, 236, 239, 244, 250, 260, 264, 267},\n",
      "    {  0,   8,  11,  13,  19,  21,  23,  31,  32,  36,  40,  47,  53,  54,  58,  62,  67,  69,  73,  75,\n",
      "      83,  87,  88,  92, 105, 110, 114, 118, 123, 126, 127, 131, 136, 138, 141, 150, 156, 164, 168, 171,\n",
      "     185, 189, 190, 191, 194, 199, 205, 213, 214, 220, 223, 231, 233, 240, 242, 243, 248, 249, 255, 269},\n",
      "    {  0,   7,  12,  14,  19,  22,  24,  26,  32,  36,  40,  48,  51,  55,  58,  62,  67,  69,  71,  76,\n",
      "      82,  86,  89,  93, 109, 112, 113, 117, 123, 126, 127, 130, 135, 140, 143, 145, 149, 170, 172, 182,\n",
      "     186, 192, 193, 195, 196, 216, 224, 225, 227, 228, 229, 238, 239, 245, 250, 252, 258, 264, 266, 267},\n",
      "    {  2,   6,   7,  11,  16,  25,  26,  31,  35,  39,  42,  46,  48,  50,  56,  60,  64,  71,  77,  78,\n",
      "      82,  84,  91,  92,  96, 100, 104, 109, 112, 116, 120, 130, 135, 138, 145, 153, 155, 164, 166, 169,\n",
      "     175, 194, 195, 196, 202, 205, 212, 217, 218, 219, 220, 221, 231, 243, 246, 255, 256, 261, 268, 269},\n",
      "    {  0,   9,  10,  15,  17,  21,  24,  30,  35,  37,  43,  44,  45,  46,  58,  60,  66,  72,  76,  77,\n",
      "      81,  87,  91,  95, 107, 108, 115, 118, 124, 125, 126, 134, 137, 150, 152, 155, 178, 179, 186, 192,\n",
      "     194, 204, 219, 221, 223, 224, 227, 231, 237, 241, 242, 244, 251, 252, 254, 258, 264, 265, 268, 269},\n",
      "    {  0,   7,  12,  14,  18,  21,  25,  29,  34,  39,  41,  44,  45,  46,  57,  60,  67,  72,  76,  77,\n",
      "      83,  86,  90,  93, 110, 112, 114, 119, 124, 125, 126, 131, 132, 153, 156, 160, 162, 170, 174, 176,\n",
      "     183, 185, 191, 196, 200, 202, 203, 206, 208, 210, 212, 216, 217, 226, 228, 240, 250, 260, 266, 271},\n",
      "    {  0,   8,  11,  13,  19,  21,  23,  31,  33,  38,  42,  44,  45,  46,  59,  60,  65,  72,  76,  77,\n",
      "      82,  85,  89,  94, 109, 111, 116, 120, 124, 125, 126, 130, 133, 151, 154, 158, 159, 169, 175, 180,\n",
      "     182, 184, 187, 190, 193, 198, 199, 201, 205, 209, 215, 218, 225, 229, 232, 234, 235, 246, 259, 270},\n",
      "    {  2,   4,  10,  14,  16,  24,  27,  29,  32,  38,  41,  47,  50,  51,  59,  61,  67,  68,  69,  70,\n",
      "      82,  86,  91,  93,  96,  97,  98, 107, 109, 114, 119, 130, 131, 150, 151, 162, 177, 178, 188, 201,\n",
      "     206, 210, 213, 215, 219, 220, 223, 227, 231, 232, 235, 239, 243, 245, 251, 252, 259, 262, 267, 270},\n",
      "    {  1,   4,  11,  15,  16,  23,  28,  30,  32,  39,  43,  47,  50,  51,  57,  62,  66,  68,  69,  70,\n",
      "      83,  87,  89,  95,  96,  97,  98, 105, 110, 115, 118, 132, 133, 152, 157, 158, 172, 175, 184, 191,\n",
      "     193, 205, 209, 212, 214, 216, 217, 225, 226, 228, 230, 234, 238, 242, 250, 254, 255, 256, 261, 265},\n",
      "    {  3,   4,  12,  13,  16,  25,  26,  31,  32,  37,  42,  47,  50,  51,  58,  63,  65,  68,  69,  70,\n",
      "      81,  85,  90,  94,  96,  97,  98, 108, 111, 116, 120, 135, 137, 153, 155, 160, 170, 173, 176, 180,\n",
      "     183, 186, 190, 194, 195, 198, 202, 204, 222, 233, 237, 247, 248, 249, 253, 260, 264, 266, 269, 271},\n",
      "    {  0,   7,  12,  14,  17,  20,  27,  31,  34,  39,  41,  48,  51,  55,  59,  62,  64,  70,  73,  77,\n",
      "      82,  87,  88,  94,  98,  99, 104, 110, 111, 115, 117, 122, 126, 133, 137, 140, 141, 147, 158, 162,\n",
      "     165, 179, 188, 193, 194, 197, 207, 224, 226, 240, 250, 256, 257, 259, 261, 262, 265, 266, 269, 271},\n",
      "    {  2,   6,   7,  11,  17,  21,  24,  30,  34,  37,  40,  46,  48,  50,  56,  63,  67,  69,  73,  75,\n",
      "      80,  85,  91,  95,  97, 101, 110, 111, 116, 119, 125, 128, 133, 137, 143, 145, 147, 159, 161, 164,\n",
      "     168, 177, 187, 189, 193, 194, 199, 200, 210, 217, 221, 228, 242, 243, 244, 247, 249, 252, 258, 263},\n",
      "    {  3,   4,  12,  13,  18,  22,  23,  27,  33,  39,  40,  46,  49,  53,  56,  62,  65,  69,  71,  76,\n",
      "      82,  85,  88,  94,  97, 101, 108, 112, 113, 117, 125, 128, 132, 134, 139, 141, 148, 160, 178, 203,\n",
      "     204, 205, 227, 228, 229, 230, 231, 234, 235, 243, 244, 245, 246, 248, 253, 256, 259, 264, 268, 271},\n",
      "    {  0,   8,  11,  13,  19,  21,  23,  31,  35,  37,  43,  49,  50,  52,  57,  63,  64,  70,  71,  79,\n",
      "      80,  86,  91,  95,  98,  99, 104, 108, 112, 113, 119, 122, 126, 132, 134, 142, 146, 149, 161, 167,\n",
      "     181, 188, 190, 195, 199, 200, 203, 204, 205, 206, 219, 222, 224, 226, 236, 239, 241, 251, 254, 267},\n",
      "    {  2,   5,   9,  13,  16,  23,  28,  30,  32,  38,  41,  45,  49,  51,  59,  61,  67,  71,  77,  78,\n",
      "      83,  87,  90,  92, 100, 103, 108, 112, 113, 120, 123, 124, 129, 132, 134, 140, 143, 145, 158, 168,\n",
      "     176, 189, 198, 203, 204, 205, 207, 210, 214, 215, 216, 217, 220, 221, 240, 242, 261, 263, 266, 269},\n",
      "    {  1,   6,   9,  12,  16,  24,  27,  29,  32,  39,  43,  45,  47,  52,  57,  62,  66,  72,  75,  79,\n",
      "      82,  86,  88,  94, 100, 103, 107, 109, 116, 117, 123, 124, 129, 135, 136, 138, 141, 149, 159, 164,\n",
      "     177, 181, 182, 183, 187, 198, 206, 216, 220, 236, 239, 241, 247, 249, 252, 254, 256, 258, 259, 271},\n",
      "    {  1,   5,   8,  14,  19,  20,  28,  29,  35,  38,  40,  46,  47,  55,  56,  61,  66,  69,  72,  78,\n",
      "      83,  85,  90,  92,  97, 101, 107, 109, 115, 120, 125, 128, 135, 136, 138, 142, 146, 162, 165, 167,\n",
      "     176, 179, 182, 183, 190, 195, 197, 214, 215, 219, 222, 228, 243, 244, 250, 251, 257, 262, 265, 267},\n",
      "    {  0,   8,  11,  13,  18,  20,  26,  30,  32,  36,  40,  48,  51,  55,  59,  63,  66,  70,  73,  77,\n",
      "      80,  84,  89,  93, 109, 112, 116, 119, 121, 125, 129, 131, 136, 146, 148, 164, 168, 173, 175, 191,\n",
      "     194, 197, 198, 204, 208, 217, 218, 219, 223, 226, 232, 235, 236, 239, 243, 245, 246, 252, 254, 264},\n",
      "    {  3,   4,  12,  13,  16,  25,  26,  31,  34,  38,  43,  45,  48,  54,  56,  60,  64,  73,  74,  76,\n",
      "      83,  86,  88,  95,  98, 101, 102, 109, 112, 113, 119, 131, 136, 138, 143, 148, 150, 154, 166, 170,\n",
      "     174, 185, 192, 197, 198, 199, 215, 221, 227, 228, 229, 231, 233, 238, 241, 242, 250, 255, 256, 257},\n",
      "    {  0,   7,  12,  14,  18,  21,  25,  29,  32,  36,  40,  49,  50,  52,  59,  63,  66,  70,  71,  79,\n",
      "      81,  85,  88,  92, 106, 111, 115, 120, 121, 125, 129, 130, 135, 140, 143, 151, 155, 163, 166, 171,\n",
      "     185, 192, 193, 202, 205, 206, 207, 213, 214, 220, 221, 224, 233, 234, 238, 242, 253, 256, 262, 269},\n",
      "    {  3,   5,   7,  15,  16,  24,  27,  29,  34,  38,  43,  45,  49,  51,  56,  60,  64,  71,  77,  78,\n",
      "      80,  85,  91,  93,  98, 101, 102, 106, 111, 116, 117, 130, 135, 142, 144, 149, 152, 163, 169, 175,\n",
      "     182, 186, 200, 201, 204, 206, 207, 209, 212, 216, 222, 225, 226, 236, 237, 245, 246, 252, 259, 267},\n",
      "    {  3,   6,   8,  10,  16,  23,  28,  30,  34,  38,  43,  45,  47,  52,  56,  60,  64,  72,  75,  79,\n",
      "      81,  84,  90,  92,  98, 101, 102, 105, 110, 115, 118, 134, 137, 139, 146, 151, 153, 165, 168, 183,\n",
      "     187, 188, 191, 205, 208, 217, 218, 219, 220, 223, 232, 234, 240, 244, 248, 253, 261, 262, 268, 269},\n",
      "    {  0,   9,  10,  15,  18,  22,  23,  27,  32,  36,  40,  47,  53,  54,  59,  63,  66,  70,  72,  74,\n",
      "      83,  87,  90,  95, 105, 110, 113, 117, 121, 125, 129, 134, 137, 139, 142, 144, 147, 150, 156, 172,\n",
      "     174, 186, 187, 188, 199, 209, 215, 222, 225, 227, 228, 229, 230, 237, 249, 258, 259, 260, 266, 267},\n",
      "    {  2,   6,   7,  11,  16,  25,  26,  31,  32,  38,  41,  44,  51,  53,  59,  61,  67,  73,  74,  76,\n",
      "      81,  85,  88,  95, 101, 104, 105, 106, 115, 117, 122, 125, 127, 133, 137, 139, 142, 148, 157, 161,\n",
      "     165, 174, 175, 179, 190, 196, 210, 215, 220, 222, 236, 238, 241, 247, 248, 254, 258, 260, 264, 271},\n",
      "    {  3,   5,   7,  15,  18,  20,  26,  30,  33,  39,  40,  44,  50,  54,  56,  62,  65,  70,  73,  77,\n",
      "      81,  86,  91,  92,  98, 100, 105, 106, 116, 119, 124, 127, 133, 137, 140, 141, 145, 158, 159, 164,\n",
      "     168, 174, 175, 180, 188, 206, 211, 214, 216, 219, 228, 237, 239, 246, 251, 253, 255, 257, 265, 267},\n",
      "    {  0,   9,  10,  15,  17,  21,  24,  30,  32,  36,  40,  48,  51,  55,  57,  61,  65,  68,  74,  78,\n",
      "      82,  86,  88,  92, 110, 111, 116, 119, 122, 124, 128, 130, 131, 139, 142, 152, 153, 154, 165, 167,\n",
      "     189, 199, 202, 207, 217, 223, 224, 229, 235, 236, 238, 243, 248, 249, 253, 255, 256, 262, 266, 267},\n",
      "    {  3,   6,   8,  10,  17,  20,  27,  31,  35,  36,  41,  46,  48,  50,  56,  63,  67,  68,  76,  79,\n",
      "      83,  85,  90,  95,  98, 103, 110, 111, 115, 117, 126, 129, 130, 131, 140, 141, 145, 149, 152, 153,\n",
      "     154, 157, 160, 164, 177, 178, 197, 211, 212, 214, 218, 220, 222, 227, 232, 239, 261, 263, 268, 270},\n",
      "    {  2,   4,  10,  14,  17,  22,  25,  28,  33,  36,  43,  45,  48,  54,  59,  62,  64,  68,  75,  77,\n",
      "      80,  87,  91,  94,  97, 104, 110, 111, 114, 120, 123, 125, 130, 131, 143, 146, 148, 152, 153, 154,\n",
      "     159, 161, 163, 168, 179, 181, 188, 195, 213, 215, 216, 219, 228, 230, 233, 241, 245, 247, 257, 271},\n",
      "    {  2,   5,   9,  13,  17,  20,  27,  31,  32,  38,  41,  44,  50,  54,  58,  60,  66,  70,  73,  77,\n",
      "      80,  84,  91,  93, 101, 104, 107, 108, 115, 117, 123, 128, 131, 136, 144, 149, 153, 156, 165, 170,\n",
      "     174, 180, 181, 193, 205, 214, 223, 227, 232, 234, 238, 240, 241, 242, 243, 256, 263, 264, 266, 270},\n",
      "    {  3,   4,  12,  13,  17,  21,  24,  30,  35,  36,  41,  44,  52,  55,  56,  63,  67,  69,  73,  75,\n",
      "      81,  87,  88,  92,  96, 102, 107, 108, 113, 120, 125, 128, 131, 136, 140, 142, 166, 169, 172, 180,\n",
      "     181, 183, 186, 191, 194, 199, 201, 215, 217, 222, 230, 235, 236, 246, 250, 252, 255, 265, 268, 271},\n",
      "    {  1,   4,  11,  15,  19,  22,  24,  26,  35,  38,  40,  45,  48,  54,  56,  61,  66,  68,  75,  77,\n",
      "      81,  87,  88,  95,  96,  99, 109, 112, 113, 117, 126, 129, 132, 133, 140, 142, 147, 153, 155, 159,\n",
      "     160, 170, 173, 184, 192, 200, 208, 212, 214, 218, 220, 223, 226, 231, 244, 245, 253, 256, 264, 270},\n",
      "    {  1,   6,   9,  12,  18,  20,  26,  30,  32,  39,  43,  46,  48,  50,  58,  61,  64,  68,  76,  79,\n",
      "      80,  84,  91,  92,  99, 102, 109, 112, 115, 118, 123, 125, 132, 133, 144, 150, 154, 159, 160, 165,\n",
      "     168, 172, 175, 182, 194, 201, 203, 213, 215, 221, 224, 225, 228, 233, 237, 239, 249, 252, 255, 271},\n",
      "    {  0,   9,  10,  15,  18,  22,  23,  27,  35,  37,  43,  49,  50,  52,  56,  62,  65,  68,  75,  77,\n",
      "      80,  86,  89,  92,  97, 100, 102, 108, 112, 114, 120, 126, 129, 130, 131, 143, 145, 155, 156, 160,\n",
      "     164, 167, 176, 180, 188, 197, 202, 207, 225, 231, 235, 242, 244, 251, 252, 256, 257, 261, 262, 270},\n",
      "    {  2,   4,  10,  14,  19,  21,  23,  31,  32,  38,  41,  46,  49,  53,  57,  63,  64,  68,  74,  78,\n",
      "      83,  87,  89,  94,  99, 102, 108, 112, 115, 117, 123, 125, 130, 131, 139, 142, 146, 149, 155, 156,\n",
      "     161, 163, 177, 178, 189, 196, 198, 201, 218, 223, 229, 234, 243, 247, 249, 250, 254, 259, 263, 269},\n",
      "    {  3,   4,  12,  13,  16,  25,  26,  31,  33,  39,  40,  44,  52,  55,  59,  61,  67,  71,  77,  78,\n",
      "      80,  87,  91,  92,  98, 100, 105, 106, 114, 118, 121, 126, 128, 132, 134, 142, 145, 157, 161, 165,\n",
      "     167, 169, 170, 178, 187, 198, 206, 212, 230, 233, 243, 252, 254, 258, 259, 262, 263, 267, 268, 270},\n",
      "    {  2,   5,   9,  13,  19,  22,  24,  26,  32,  38,  41,  44,  50,  54,  57,  63,  64,  69,  71,  76,\n",
      "      82,  86,  88,  95, 101, 104, 105, 106, 116, 118, 121, 124, 132, 134, 140, 143, 148, 160, 162, 163,\n",
      "     168, 169, 170, 176, 188, 190, 211, 213, 218, 227, 232, 236, 244, 245, 249, 250, 251, 256, 261, 265},\n",
      "    {  1,   4,  11,  15,  18,  21,  25,  29,  34,  36,  42,  46,  49,  53,  56,  62,  65,  68,  74,  78,\n",
      "      83,  86,  88,  92,  98, 103, 106, 111, 113, 118, 126, 129, 132, 133, 138, 143, 151, 155, 161, 162,\n",
      "     168, 172, 175, 186, 201, 208, 216, 217, 224, 235, 236, 237, 239, 244, 245, 260, 262, 265, 268, 271},\n",
      "    {  1,   5,   8,  14,  19,  20,  28,  29,  32,  39,  43,  45,  49,  51,  59,  60,  65,  68,  76,  79,\n",
      "      80,  84,  89,  95, 100, 103, 106, 111, 116, 117, 121, 127, 132, 133, 146, 147, 150, 153, 161, 162,\n",
      "     164, 182, 192, 202, 205, 209, 212, 214, 221, 227, 231, 241, 242, 248, 249, 253, 259, 263, 266, 270},\n",
      "    {  3,   5,   7,  15,  17,  22,  25,  28,  33,  39,  40,  44,  50,  54,  58,  60,  66,  69,  71,  76,\n",
      "      80,  87,  89,  95,  98, 100, 107, 108, 113, 117, 122, 129, 130, 135, 142, 146, 147, 151, 154, 169,\n",
      "     175, 176, 177, 185, 191, 213, 216, 219, 224, 234, 235, 238, 240, 243, 247, 252, 255, 268, 269, 271},\n",
      "    {  2,   6,   7,  11,  17,  21,  24,  30,  33,  36,  43,  44,  51,  53,  59,  62,  64,  70,  71,  79,\n",
      "      83,  84,  88,  92,  96, 102, 107, 108, 115, 118, 122, 126, 130, 135, 138, 165, 168, 173, 174, 176,\n",
      "     177, 192, 193, 200, 202, 204, 209, 212, 222, 229, 230, 241, 246, 250, 251, 256, 264, 266, 267, 270},\n",
      "    {  1,   6,   9,  12,  18,  20,  26,  30,  34,  36,  42,  45,  47,  52,  56,  62,  65,  70,  73,  77,\n",
      "      82,  87,  89,  93,  97, 104, 108, 111, 114, 117, 124, 127, 130, 134, 138, 142, 146, 148, 160, 165,\n",
      "     170, 172, 177, 181, 184, 188, 204, 206, 208, 211, 221, 222, 232, 234, 242, 243, 247, 248, 257, 269},\n",
      "    {  3,   4,  12,  13,  16,  25,  26,  31,  35,  36,  41,  46,  49,  53,  57,  62,  66,  72,  75,  79,\n",
      "      82,  84,  89,  93,  98, 103, 107, 110, 115, 117, 122, 125, 127, 130, 133, 139, 144, 147, 159, 164,\n",
      "     170, 172, 179, 189, 198, 205, 207, 209, 210, 217, 218, 219, 233, 235, 236, 244, 246, 251, 261, 265},\n",
      "    {  0,   9,  10,  15,  18,  22,  23,  27,  34,  39,  41,  48,  51,  55,  57,  60,  67,  69,  71,  76,\n",
      "      81,  84,  88,  94,  96, 101, 103, 106, 107, 116, 118, 122, 129, 133, 136, 138, 148, 154, 156, 159,\n",
      "     165, 166, 179, 188, 190, 192, 195, 204, 206, 217, 218, 219, 225, 243, 247, 253, 254, 263, 268, 269},\n",
      "    {  3,   6,   8,  10,  17,  20,  27,  31,  33,  39,  40,  45,  47,  52,  58,  60,  66,  70,  73,  77,\n",
      "      81,  86,  88,  94,  96,  99, 106, 112, 114, 118, 123, 128, 132, 135, 139, 143, 147, 154, 156, 158,\n",
      "     162, 164, 168, 178, 184, 191, 196, 198, 205, 207, 221, 222, 223, 236, 244, 245, 258, 264, 265, 267},\n",
      "    {  1,   5,   8,  14,  16,  25,  26,  31,  33,  37,  41,  44,  50,  54,  56,  60,  64,  72,  75,  79,\n",
      "      80,  87,  90,  94,  97,  99, 103, 105, 106, 115, 117, 135, 136, 143, 145, 148, 164, 171, 172, 173,\n",
      "     190, 206, 212, 215, 216, 219, 227, 232, 237, 241, 242, 244, 246, 250, 252, 259, 260, 264, 268, 269},\n",
      "    {  1,   4,  11,  15,  19,  22,  24,  26,  32,  39,  43,  44,  52,  55,  59,  60,  65,  70,  72,  74,\n",
      "      82,  86,  91,  92, 101, 104, 105, 106, 114, 120, 123, 128, 135, 136, 139, 142, 146, 158, 159, 163,\n",
      "     168, 171, 172, 173, 176, 179, 198, 199, 201, 210, 217, 224, 225, 228, 231, 234, 258, 265, 266, 271},\n",
      "    {  1,   6,   9,  12,  18,  20,  26,  30,  35,  38,  40,  44,  51,  53,  57,  60,  67,  69,  72,  78,\n",
      "      83,  85,  88,  95,  98, 100, 105, 106, 116, 119, 122, 129, 135, 136, 140, 141, 149, 160, 162, 165,\n",
      "     167, 171, 172, 173, 178, 180, 187, 196, 200, 202, 218, 221, 223, 226, 229, 235, 240, 251, 254, 270},\n",
      "    {  3,   6,   8,  10,  17,  20,  27,  31,  32,  37,  42,  44,  51,  53,  59,  62,  64,  69,  72,  78,\n",
      "      80,  84,  89,  92, 101, 104, 107, 108, 116, 120, 121, 124, 134, 137, 146, 151, 154, 164, 166, 172,\n",
      "     174, 178, 179, 183, 193, 199, 201, 203, 213, 216, 222, 225, 228, 233, 238, 240, 250, 260, 262, 271},\n",
      "    {  2,   4,  10,  14,  17,  22,  25,  28,  34,  37,  40,  44,  52,  55,  56,  63,  67,  70,  72,  74,\n",
      "      83,  86,  88,  93,  98, 100, 107, 108, 113, 117, 124, 127, 134, 137, 138, 143, 149, 153, 156, 169,\n",
      "     173, 178, 179, 184, 191, 200, 202, 209, 214, 218, 220, 226, 230, 232, 234, 243, 246, 248, 259, 270},\n",
      "    {  0,   9,  10,  15,  19,  20,  28,  29,  35,  37,  43,  47,  53,  54,  57,  63,  64,  68,  76,  79,\n",
      "      83,  85,  88,  93,  96, 101, 103, 107, 109, 116, 117, 123, 125, 130, 131, 139, 143, 148, 150, 151,\n",
      "     159, 164, 176, 180, 189, 195, 199, 211, 221, 226, 237, 248, 255, 257, 261, 264, 265, 266, 269, 271},\n",
      "    {  3,   6,   8,  10,  18,  21,  25,  29,  33,  39,  40,  45,  47,  52,  56,  62,  65,  68,  74,  78,\n",
      "      80,  87,  90,  93,  96,  99, 107, 109, 115, 120, 126, 129, 130, 131, 141, 146, 149, 150, 151, 157,\n",
      "     165, 167, 179, 181, 196, 198, 200, 207, 217, 224, 228, 238, 240, 242, 246, 247, 253, 258, 260, 263},\n",
      "    {  1,   6,   9,  12,  19,  21,  23,  31,  34,  36,  42,  45,  47,  52,  57,  63,  64,  68,  74,  78,\n",
      "      81,  84,  88,  92,  97, 104, 105, 110, 116, 120, 123, 125, 132, 133, 140, 150, 156, 157, 158, 164,\n",
      "     166, 170, 173, 182, 200, 204, 223, 229, 232, 237, 239, 241, 244, 245, 248, 251, 259, 266, 267, 270},\n",
      "    {  1,   5,   8,  14,  18,  22,  23,  27,  35,  38,  40,  46,  47,  55,  57,  60,  67,  68,  75,  77,\n",
      "      80,  86,  91,  93,  97, 101, 105, 110, 113, 117, 121, 127, 132, 133, 143, 144, 149, 154, 155, 157,\n",
      "     158, 183, 185, 194, 199, 208, 213, 215, 219, 221, 231, 235, 247, 249, 253, 260, 262, 268, 269, 271},\n",
      "    {  2,   4,  10,  14,  17,  22,  25,  28,  32,  38,  41,  46,  49,  53,  58,  60,  66,  69,  71,  76,\n",
      "      81,  85,  90,  92,  99, 102, 105, 109, 116, 118, 122, 129, 133, 136, 140, 143, 144, 151, 153, 158,\n",
      "     162, 164, 167, 179, 185, 189, 193, 196, 198, 203, 224, 230, 231, 236, 237, 239, 251, 252, 254, 267},\n",
      "    {  0,   9,  10,  15,  19,  20,  28,  29,  33,  38,  42,  48,  51,  55,  59,  60,  65,  70,  73,  77,\n",
      "      81,  86,  90,  92,  97, 100, 102, 105, 108, 113, 118, 123, 128, 132, 135, 138, 142, 145, 151, 153,\n",
      "     160, 166, 178, 186, 190, 194, 197, 206, 211, 226, 227, 228, 229, 238, 241, 242, 247, 249, 258, 263},\n",
      "    {  2,   6,   7,  11,  16,  25,  26,  31,  33,  36,  43,  45,  47,  52,  58,  63,  65,  72,  75,  79,\n",
      "      80,  87,  89,  93,  97, 104, 108, 111, 113, 119, 121, 126, 128, 131, 132, 143, 144, 147, 160, 167,\n",
      "     173, 175, 178, 183, 185, 187, 189, 196, 207, 220, 227, 228, 229, 237, 250, 251, 257, 265, 266, 267},\n",
      "    {  1,   4,  11,  15,  19,  22,  24,  26,  34,  36,  42,  46,  49,  53,  57,  63,  64,  69,  71,  76,\n",
      "      80,  85,  89,  93,  98, 103, 107, 110, 115, 119, 121, 124, 131, 137, 142, 145, 149, 159, 165, 166,\n",
      "     173, 175, 177, 181, 182, 186, 188, 190, 203, 211, 216, 230, 231, 238, 240, 242, 261, 262, 263, 269},\n",
      "    {  3,   4,  12,  13,  18,  22,  23,  27,  35,  36,  41,  44,  52,  55,  58,  61,  64,  70,  72,  74,\n",
      "      80,  86,  90,  95,  96, 102, 109, 111, 116, 118, 122, 126, 130, 133, 141, 144, 147, 157, 161, 164,\n",
      "     167, 173, 174, 179, 183, 186, 195, 197, 203, 206, 215, 221, 234, 242, 245, 249, 255, 261, 263, 269},\n",
      "    {  3,   5,   7,  15,  17,  22,  25,  28,  32,  37,  42,  46,  47,  55,  59,  62,  64,  68,  75,  77,\n",
      "      81,  85,  88,  93,  99, 102, 106, 112, 115, 119, 123, 125, 134, 136, 138, 141, 147, 152, 158, 162,\n",
      "     164, 167, 170, 173, 176, 180, 184, 188, 195, 200, 201, 204, 209, 220, 238, 249, 257, 267, 268, 270},\n",
      "    {  0,   4,   5,   6,  17,  23,  26,  29,  35,  37,  43,  58,  60,  66,  68,  71,  72,  73,  80,  86,\n",
      "      90,  94,  98,  99, 104, 116, 117, 121, 127, 142, 145, 148, 151, 152, 156, 158, 162, 165, 176, 180,\n",
      "     185, 189, 192, 194, 200, 201, 205, 207, 222, 230, 235, 239, 245, 247, 248, 255, 256, 262, 263, 266},\n",
      "    {  2,   5,   9,  13,  17,  20,  27,  31,  34,  37,  40,  45,  49,  51,  56,  63,  67,  68,  76,  79,\n",
      "      82,  87,  89,  92,  96,  99, 105, 109, 114, 118, 126, 129, 135, 137, 139, 143, 144, 152, 158, 162,\n",
      "     163, 166, 172, 175, 176, 180, 183, 186, 197, 200, 201, 203, 211, 233, 236, 241, 243, 253, 261, 271},\n",
      "    {  1,   5,   8,  14,  19,  20,  28,  29,  34,  36,  42,  44,  50,  54,  57,  63,  64,  70,  73,  77,\n",
      "      82,  87,  91,  94,  96, 102, 110, 112, 113, 118, 122, 126, 130, 134, 139, 143, 146, 148, 160, 162,\n",
      "     166, 173, 174, 178, 180, 182, 185, 189, 207, 214, 217, 235, 236, 247, 252, 254, 258, 260, 268, 271},\n",
      "    {  0,   8,  11,  13,  19,  21,  23,  31,  34,  39,  41,  48,  51,  55,  56,  61,  66,  68,  74,  78,\n",
      "      81,  84,  90,  93,  97, 100, 102, 106, 107, 115, 117, 126, 129, 135, 137, 140, 144, 148, 152, 162,\n",
      "     163, 170, 173, 177, 178, 190, 196, 199, 202, 205, 208, 211, 216, 228, 237, 245, 247, 252, 257, 271},\n",
      "    {  0,   7,  12,  14,  18,  21,  25,  29,  33,  38,  42,  48,  51,  55,  58,  61,  64,  68,  74,  78,\n",
      "      80,  87,  89,  94,  96, 101, 103, 105, 108, 113, 118, 123, 125, 134, 136, 141, 145, 147, 152, 158,\n",
      "     168, 172, 175, 179, 181, 182, 185, 188, 198, 199, 202, 206, 218, 232, 239, 244, 261, 263, 264, 270},\n",
      "    {  2,   6,   7,  11,  19,  20,  28,  29,  34,  37,  40,  46,  48,  50,  59,  60,  65,  68,  76,  79,\n",
      "      82,  87,  88,  93,  97, 101, 105, 108, 115, 120, 121, 127, 134, 136, 138, 142, 148, 154, 155, 160,\n",
      "     163, 166, 176, 180, 184, 187, 189, 192, 202, 205, 210, 230, 236, 239, 240, 246, 258, 259, 265, 267},\n",
      "    {  2,   6,   7,  11,  19,  20,  28,  29,  33,  36,  43,  44,  51,  53,  56,  61,  66,  69,  72,  78,\n",
      "      81,  86,  91,  94,  96, 102, 110, 112, 116, 117, 125, 128, 131, 132, 139, 143, 144, 147, 157, 161,\n",
      "     163, 169, 172, 178, 184, 190, 195, 197, 204, 209, 212, 231, 239, 240, 242, 247, 253, 256, 257, 269},\n",
      "    {  3,   4,  12,  13,  17,  21,  24,  30,  33,  39,  40,  46,  49,  53,  58,  60,  66,  68,  74,  78,\n",
      "      83,  84,  90,  93,  97, 101, 105, 109, 116, 119, 121, 127, 135, 137, 140, 145, 147, 154, 155, 159,\n",
      "     161, 165, 167, 179, 181, 190, 191, 201, 204, 206, 227, 241, 242, 248, 251, 256, 257, 261, 266, 270},\n",
      "    {  1,   5,   8,  14,  18,  22,  23,  27,  34,  36,  42,  44,  50,  54,  56,  62,  65,  69,  71,  76,\n",
      "      81,  84,  90,  95,  96, 102, 109, 111, 115, 119, 125, 128, 131, 137, 138, 145, 149, 158, 159, 164,\n",
      "     167, 169, 172, 176, 179, 189, 205, 207, 208, 213, 229, 241, 254, 258, 259, 263, 264, 266, 267, 270},\n",
      "    {  1,   6,   9,  12,  19,  21,  23,  31,  35,  38,  40,  44,  51,  53,  56,  61,  66,  70,  71,  79,\n",
      "      80,  86,  89,  94,  98, 100, 109, 111, 114, 118, 124, 127, 131, 137, 142, 144, 148, 151, 154, 157,\n",
      "     161, 163, 166, 171, 177, 181, 185, 187, 194, 196, 203, 213, 214, 225, 244, 246, 254, 266, 269, 271},\n",
      "    {  1,   7,  10,  13,  16,  20,  21,  22,  34,  36,  42,  44,  47,  48,  49,  59,  61,  67,  82,  87,\n",
      "      88,  92,  96, 102, 115, 119, 123, 124, 129, 139, 143, 157, 161, 164, 167, 170, 171, 175, 177, 181,\n",
      "     183, 186, 190, 204, 206, 209, 213, 214, 221, 231, 234, 240, 241, 251, 252, 259, 260, 264, 265, 268},\n",
      "    {  1,   4,  11,  15,  18,  21,  25,  29,  32,  39,  43,  44,  52,  55,  58,  61,  64,  69,  73,  75,\n",
      "      81,  85,  90,  93, 101, 104, 110, 112, 116, 117, 121, 124, 130, 134, 138, 141, 145, 147, 153, 156,\n",
      "     157, 161, 165, 171, 177, 181, 184, 192, 198, 205, 210, 213, 214, 226, 235, 237, 242, 250, 258, 270},\n",
      "    {  3,   5,   7,  15,  16,  24,  27,  29,  32,  37,  42,  44,  50,  54,  58,  63,  65,  72,  75,  79,\n",
      "      82,  86,  89,  92, 101, 104, 110, 112, 113, 118, 122, 125, 127, 131, 132, 138, 141, 146, 151, 154,\n",
      "     158, 159, 167, 171, 181, 186, 188, 193, 198, 207, 212, 215, 218, 223, 240, 243, 248, 251, 254, 270},\n",
      "    {  2,   5,   9,  13,  16,  23,  28,  30,  34,  37,  40,  44,  50,  54,  57,  62,  66,  72,  75,  79,\n",
      "      81,  84,  88,  93,  98, 100, 109, 111, 116, 119, 121, 126, 128, 130, 133, 139, 149, 153, 156, 160,\n",
      "     162, 163, 166, 171, 177, 189, 191, 196, 204, 211, 212, 215, 224, 228, 234, 238, 258, 262, 265, 271},\n",
      "    {  3,   4,  12,  13,  18,  22,  23,  27,  32,  37,  42,  45,  48,  54,  57,  60,  67,  68,  75,  77,\n",
      "      83,  87,  89,  92, 100, 103, 106, 107, 115, 119, 121, 127, 135, 137, 138, 141, 145, 150, 153, 159,\n",
      "     165, 166, 176, 180, 185, 187, 194, 199, 203, 207, 210, 222, 234, 236, 245, 250, 251, 254, 260, 267},\n",
      "    {  2,   6,   7,  11,  17,  21,  24,  30,  32,  38,  41,  45,  47,  52,  58,  60,  66,  68,  74,  78,\n",
      "      82,  86,  89,  94, 100, 103, 106, 112, 113, 120, 121, 127, 134, 136, 139, 142, 144, 148, 150, 153,\n",
      "     157, 160, 168, 177, 178, 186, 190, 193, 200, 206, 219, 235, 255, 257, 261, 262, 265, 268, 269, 271},\n",
      "    {  1,   5,   8,  14,  16,  25,  26,  31,  35,  38,  40,  45,  49,  51,  58,  63,  65,  71,  77,  78,\n",
      "      82,  84,  88,  95,  96,  99, 107, 110, 114, 118, 122, 125, 127, 131, 137, 138, 147, 153, 155, 157,\n",
      "     165, 167, 171, 178, 180, 187, 192, 197, 199, 204, 207, 216, 228, 231, 232, 249, 255, 258, 265, 271},\n",
      "    {  0,   7,  12,  14,  19,  22,  24,  26,  34,  39,  41,  47,  53,  54,  56,  61,  66,  70,  72,  74,\n",
      "      80,  85,  91,  92,  96, 101, 103, 108, 111, 116, 118, 124, 127, 131, 132, 141, 146, 153, 155, 158,\n",
      "     165, 166, 171, 176, 184, 188, 191, 195, 197, 200, 205, 211, 218, 220, 229, 233, 252, 260, 265, 269},\n",
      "    {  1,   7,  10,  13,  16,  20,  21,  22,  35,  38,  40,  44,  47,  48,  49,  58,  63,  65,  83,  85,\n",
      "      89,  94,  98, 100, 113, 117, 121, 126, 128, 140, 141, 144, 148, 151, 154, 158, 159, 172, 174, 176,\n",
      "     179, 182, 184, 188, 194, 195, 200, 202, 212, 219, 220, 223, 232, 237, 247, 250, 255, 258, 262, 266},\n",
      "    {  0,   7,  12,  14,  19,  22,  24,  26,  33,  38,  42,  49,  50,  52,  59,  60,  65,  68,  75,  77,\n",
      "      83,  84,  88,  95,  98,  99, 104, 107, 110, 115, 119, 121, 127, 134, 136, 139, 147, 151, 152, 156,\n",
      "     157, 163, 168, 179, 181, 183, 190, 195, 203, 208, 210, 212, 214, 221, 229, 236, 252, 253, 261, 271},\n",
      "    {  0,   8,  11,  13,  18,  20,  26,  30,  34,  39,  41,  47,  53,  54,  57,  60,  67,  68,  76,  79,\n",
      "      82,  87,  91,  92,  98,  99, 104, 108, 111, 113, 120, 121, 127, 135, 137, 140, 141, 144, 151, 152,\n",
      "     156, 161, 167, 177, 178, 182, 184, 187, 197, 206, 209, 213, 215, 217, 231, 249, 257, 264, 267, 270},\n",
      "    {  0,   9,  10,  15,  17,  21,  24,  30,  34,  39,  41,  47,  53,  54,  59,  62,  64,  69,  73,  75,\n",
      "      80,  85,  90,  93,  97, 100, 102, 106, 112, 113, 120, 121, 124, 132, 135, 143, 144, 148, 152, 159,\n",
      "     161, 166, 172, 174, 176, 183, 185, 190, 195, 210, 212, 218, 222, 223, 224, 246, 259, 261, 263, 270},\n",
      "    {  0,   9,  10,  15,  17,  21,  24,  30,  33,  38,  42,  49,  50,  52,  56,  63,  67,  70,  71,  79,\n",
      "      83,  84,  89,  94,  96, 101, 103, 105, 109, 114, 117, 124, 127, 133, 136, 138, 145, 147, 152, 157,\n",
      "     160, 164, 169, 173, 180, 187, 197, 205, 206, 209, 215, 223, 224, 228, 230, 247, 250, 257, 260, 271},\n",
      "    {  3,   6,   8,  10,  16,  23,  28,  30,  32,  37,  42,  46,  48,  50,  58,  63,  65,  71,  77,  78,\n",
      "      83,  87,  88,  93,  99, 102, 106, 107, 114, 117, 121, 126, 128, 133, 136, 140, 143, 147, 152, 157,\n",
      "     163, 172, 174, 177, 182, 186, 187, 196, 198, 203, 210, 213, 219, 225, 226, 228, 248, 256, 263, 267},\n",
      "    {  0,   4,   5,   6,  17,  23,  26,  29,  34,  39,  41,  59,  62,  64,  68,  71,  72,  73,  81,  84,\n",
      "      91,  92,  96, 101, 103, 114, 119, 123, 125, 138, 146, 153, 155, 157, 160, 163, 167, 170, 173, 177,\n",
      "     178, 187, 191, 196, 199, 203, 209, 213, 215, 216, 224, 225, 229, 243, 251, 253, 259, 261, 264, 268},\n",
      "    {  3,   6,   8,  10,  16,  23,  28,  30,  35,  36,  41,  44,  51,  53,  57,  62,  66,  73,  74,  76,\n",
      "      80,  86,  91,  94,  96, 102, 109, 111, 113, 120, 123, 124, 129, 132, 135, 141, 145, 149, 160, 162,\n",
      "     166, 170, 171, 175, 176, 184, 187, 192, 193, 197, 199, 201, 207, 219, 230, 242, 248, 250, 258, 270},\n",
      "    {  2,   4,  10,  14,  16,  24,  27,  29,  33,  36,  43,  44,  52,  55,  58,  63,  65,  71,  77,  78,\n",
      "      83,  84,  90,  95,  96, 102, 110, 112, 116, 117, 123, 124, 129, 133, 136, 138, 146, 148, 158, 159,\n",
      "     163, 170, 171, 175, 180, 189, 191, 194, 195, 200, 202, 203, 210, 222, 227, 246, 254, 262, 269, 271},\n",
      "    {  1,   5,   8,  14,  16,  25,  26,  31,  32,  39,  43,  46,  47,  55,  57,  62,  66,  73,  74,  76,\n",
      "      81,  85,  91,  92,  99, 102, 108, 111, 113, 119, 121, 126, 128, 130, 134, 139, 142, 144, 150, 154,\n",
      "     161, 166, 171, 176, 179, 186, 189, 194, 195, 202, 210, 216, 218, 221, 232, 251, 253, 254, 256, 270},\n",
      "    {  1,   4,  11,  15,  16,  23,  28,  30,  34,  36,  42,  45,  48,  54,  59,  61,  67,  73,  74,  76,\n",
      "      81,  84,  91,  94,  97, 104, 106, 107, 114, 117, 121, 126, 128, 130, 134, 140, 145, 149, 151, 155,\n",
      "     162, 165, 171, 176, 179, 183, 188, 198, 200, 203, 207, 209, 223, 227, 239, 244, 254, 255, 269, 271},\n",
      "    {  1,   4,  11,  15,  16,  23,  28,  30,  33,  37,  41,  44,  52,  55,  56,  60,  64,  71,  77,  78,\n",
      "      82,  85,  88,  93,  97,  99, 103, 109, 111, 113, 120, 131, 137, 139, 141, 147, 153, 156, 168, 170,\n",
      "     174, 182, 186, 192, 197, 199, 201, 209, 211, 213, 218, 220, 221, 224, 236, 240, 254, 255, 262, 266},\n",
      "    {  2,   5,   9,  13,  17,  20,  27,  31,  33,  36,  43,  46,  47,  55,  59,  62,  64,  69,  72,  78,\n",
      "      81,  86,  90,  95,  98, 103, 106, 112, 113, 119, 121, 124, 130, 133, 140, 141, 144, 147, 151, 155,\n",
      "     157, 160, 168, 171, 180, 182, 184, 196, 199, 207, 208, 210, 218, 225, 230, 241, 243, 260, 265, 269},\n",
      "    {  0,   7,  12,  14,  17,  20,  27,  31,  35,  37,  43,  49,  50,  52,  58,  60,  66,  69,  72,  78,\n",
      "      83,  85,  89,  92,  96, 101, 103, 105, 109, 113, 119, 122, 129, 131, 132, 139, 143, 146, 152, 157,\n",
      "     160, 168, 170, 174, 181, 184, 190, 192, 194, 196, 211, 213, 216, 217, 234, 238, 257, 259, 267, 270},\n",
      "    {  0,   8,  11,  13,  17,  22,  25,  28,  35,  37,  43,  47,  53,  54,  58,  60,  66,  70,  72,  74,\n",
      "      82,  84,  88,  93,  97, 100, 102, 106, 112, 114, 120, 123, 128, 130, 133, 140, 149, 152, 159, 161,\n",
      "     164, 167, 169, 175, 177, 188, 192, 194, 198, 203, 206, 214, 229, 232, 236, 240, 243, 260, 261, 271},\n",
      "    {  0,   7,  12,  14,  17,  20,  27,  31,  32,  36,  40,  47,  53,  54,  57,  61,  65,  68,  76,  79,\n",
      "      80,  84,  90,  95, 106, 112, 114, 118, 122, 124, 128, 134, 136, 145, 149, 151, 155, 163, 166, 172,\n",
      "     175, 183, 191, 194, 198, 200, 205, 210, 212, 214, 225, 228, 230, 232, 242, 245, 257, 259, 264, 268},\n",
      "    {  1,   4,  11,  15,  18,  21,  25,  29,  35,  38,  40,  45,  48,  54,  57,  60,  67,  70,  71,  79,\n",
      "      82,  84,  89,  94,  96,  99, 105, 108, 115, 120, 123, 128, 131, 137, 138, 146, 149, 152, 161, 163,\n",
      "     166, 170, 174, 176, 179, 188, 190, 191, 193, 197, 203, 212, 220, 221, 228, 235, 237, 256, 263, 267},\n",
      "    {  1,   6,   9,  12,  16,  24,  27,  29,  34,  36,  42,  46,  48,  50,  59,  61,  67,  71,  77,  78,\n",
      "      80,  85,  90,  95,  98, 103, 105, 108, 113, 118, 122, 125, 127, 131, 137, 142, 146, 148, 150, 156,\n",
      "     158, 168, 171, 178, 180, 183, 184, 189, 196, 201, 209, 211, 219, 224, 237, 242, 245, 256, 258, 270},\n",
      "    {  3,   6,   8,  10,  18,  21,  25,  29,  35,  36,  41,  46,  48,  50,  58,  61,  64,  69,  73,  75,\n",
      "      82,  84,  88,  92,  98, 103, 105, 108, 114, 119, 121, 124, 132, 135, 139, 150, 156, 158, 163, 167,\n",
      "     172, 174, 176, 182, 192, 193, 201, 205, 212, 220, 226, 227, 230, 232, 244, 245, 246, 247, 269, 271},\n",
      "    {  3,   6,   8,  10,  18,  21,  25,  29,  32,  37,  42,  44,  51,  53,  57,  60,  67,  70,  71,  79,\n",
      "      81,  85,  91,  95, 101, 104, 110, 112, 113, 118, 123, 128, 133, 136, 140, 143, 145, 147, 150, 152,\n",
      "     155, 160, 162, 167, 177, 183, 184, 188, 190, 197, 208, 216, 218, 233, 234, 236, 246, 247, 262, 266},\n",
      "    {  3,   5,   7,  15,  18,  20,  26,  30,  35,  36,  41,  45,  49,  51,  58,  61,  64,  68,  76,  79,\n",
      "      83,  85,  89,  93,  97, 104, 107, 110, 113, 120, 123, 125, 134, 136, 138, 142, 145, 149, 162, 167,\n",
      "     169, 171, 174, 177, 178, 184, 187, 189, 191, 194, 198, 218, 224, 225, 241, 245, 252, 253, 265, 269},\n",
      "    {  2,   5,   9,  13,  19,  22,  24,  26,  34,  37,  40,  45,  49,  51,  59,  60,  65,  70,  72,  74,\n",
      "      80,  85,  90,  94,  96,  99, 107, 110, 113, 117, 123, 128, 130, 133, 141, 145, 148, 153, 155, 157,\n",
      "     169, 175, 177, 183, 186, 191, 199, 208, 214, 217, 221, 224, 225, 233, 238, 240, 249, 251, 267, 270},\n",
      "    {  3,   5,   7,  15,  18,  20,  26,  30,  32,  37,  42,  46,  47,  55,  57,  60,  67,  69,  72,  78,\n",
      "      80,  84,  90,  94,  99, 102, 108, 111, 114, 117, 122, 129, 131, 132, 145, 148, 150, 154, 161, 163,\n",
      "     170, 174, 181, 182, 193, 202, 204, 209, 213, 220, 223, 226, 229, 231, 234, 236, 243, 253, 265, 271},\n",
      "    {  2,   5,   9,  13,  19,  22,  24,  26,  33,  36,  43,  46,  47,  55,  56,  61,  66,  68,  75,  77,\n",
      "      83,  84,  89,  93,  98, 103, 108, 111, 114, 120, 126, 129, 135, 137, 139, 146, 148, 158, 165, 166,\n",
      "     169, 171, 174, 179, 181, 192, 193, 196, 203, 207, 210, 223, 226, 228, 239, 242, 249, 251, 264, 268},\n",
      "    {  2,   4,  10,  14,  19,  21,  23,  31,  34,  37,  40,  44,  52,  55,  59,  60,  65,  69,  73,  75,\n",
      "      81,  84,  91,  95,  98, 100, 109, 111, 114, 118, 122, 129, 132, 135, 139, 144, 148, 150, 152, 155,\n",
      "     158, 159, 164, 168, 181, 182, 195, 203, 206, 209, 211, 220, 228, 232, 235, 240, 248, 250, 263, 267},\n",
      "    {  2,   4,  10,  14,  19,  21,  23,  31,  33,  36,  43,  45,  48,  54,  56,  61,  66,  70,  71,  79,\n",
      "      82,  85,  88,  92,  97, 104, 106, 107, 113, 119, 124, 127, 133, 136, 139, 141, 151, 155, 162, 167,\n",
      "     169, 173, 180, 185, 191, 194, 200, 208, 215, 216, 219, 222, 225, 233, 237, 239, 242, 250, 263, 270},\n",
      "    {  1,   6,   9,  12,  19,  21,  23,  31,  32,  39,  43,  46,  48,  50,  59,  60,  65,  69,  73,  75,\n",
      "      83,  87,  90,  93,  99, 102, 106, 107, 113, 119, 122, 129, 130, 134, 138, 141, 146, 149, 152, 157,\n",
      "     166, 169, 175, 178, 180, 184, 191, 193, 195, 206, 211, 215, 218, 231, 233, 236, 244, 247, 255, 266},\n",
      "    {  0,   8,  11,  13,  17,  22,  25,  28,  32,  36,  40,  49,  50,  52,  57,  61,  65,  68,  75,  77,\n",
      "      81,  85,  91,  94, 105, 109, 113, 117, 122, 124, 128, 135, 137, 138, 141, 146, 148, 150, 156, 170,\n",
      "     173, 185, 187, 192, 193, 196, 201, 209, 213, 215, 216, 218, 222, 226, 239, 241, 252, 260, 261, 269},\n",
      "    {  3,   5,   7,  15,  17,  22,  25,  28,  35,  36,  41,  45,  49,  51,  56,  63,  67,  70,  72,  74,\n",
      "      82,  84,  91,  94,  97, 104, 105, 109, 116, 118, 124, 127, 131, 132, 140, 144, 147, 150, 156, 159,\n",
      "     161, 163, 168, 171, 176, 182, 187, 189, 198, 202, 203, 208, 222, 226, 228, 238, 242, 251, 259, 268},\n",
      "    {  1,   6,   9,  12,  16,  24,  27,  29,  33,  37,  41,  44,  51,  53,  56,  60,  64,  73,  74,  76,\n",
      "      83,  84,  89,  92,  97,  99, 103, 110, 112, 114, 119, 130, 134, 140, 144, 151, 154, 163, 167, 169,\n",
      "     175, 183, 188, 194, 195, 200, 202, 204, 208, 214, 223, 228, 231, 233, 234, 235, 248, 256, 258, 267},\n",
      "    {  2,   4,  10,  14,  16,  24,  27,  29,  34,  37,  40,  45,  48,  54,  57,  62,  66,  73,  74,  76,\n",
      "      80,  85,  89,  92,  96,  99, 105, 108, 115, 120, 122, 125, 127, 132, 135, 141, 144, 152, 161, 164,\n",
      "     168, 169, 173, 181, 184, 187, 196, 198, 204, 208, 210, 214, 218, 225, 226, 227, 236, 247, 255, 262},\n",
      "    {  0,   4,   5,   6,  17,  23,  26,  29,  33,  38,  42,  56,  63,  67,  68,  71,  72,  73,  82,  85,\n",
      "      88,  95,  97, 100, 102, 113, 118, 126, 129, 139, 141, 149, 150, 154, 159, 161, 166, 172, 175, 179,\n",
      "     181, 183, 184, 193, 198, 202, 210, 212, 214, 217, 223, 226, 232, 238, 241, 249, 252, 257, 260, 265},\n",
      "    {  0,   8,  11,  13,  18,  20,  26,  30,  33,  38,  42,  49,  50,  52,  58,  61,  64,  69,  72,  78,\n",
      "      81,  86,  88,  95,  97, 100, 102, 107, 110, 114, 117, 121, 124, 130, 133, 138, 142, 149, 150, 154,\n",
      "     162, 163, 171, 180, 185, 188, 193, 195, 197, 201, 203, 211, 217, 220, 228, 233, 242, 251, 259, 264},\n",
      "    {  1,   7,  10,  13,  16,  20,  21,  22,  32,  39,  43,  44,  47,  48,  49,  57,  62,  66,  80,  84,\n",
      "      90,  93, 101, 104, 114, 120, 122, 125, 127, 145, 147, 153, 156, 160, 162, 163, 168, 169, 173, 178,\n",
      "     180, 192, 197, 199, 201, 203, 208, 211, 215, 216, 224, 227, 233, 235, 244, 246, 248, 254, 256, 263},\n",
      "    {  1,   7,  10,  13,  16,  20,  21,  22,  33,  37,  41,  44,  47,  48,  49,  56,  60,  64,  81,  86,\n",
      "      91,  95,  97,  99, 103, 116, 118, 138, 142, 146, 149, 150, 152, 155, 165, 166, 185, 187, 189, 191,\n",
      "     193, 196, 198, 205, 207, 210, 217, 222, 225, 226, 229, 230, 238, 239, 243, 245, 249, 253, 257, 261},\n",
      "    {  0,   4,   5,   6,  17,  23,  26,  29,  32,  36,  40,  57,  61,  65,  68,  71,  72,  73,  83,  87,\n",
      "      89,  93, 115, 120, 122, 124, 128, 140, 143, 144, 147, 164, 168, 169, 171, 174, 182, 186, 188, 190,\n",
      "     195, 197, 204, 206, 208, 211, 219, 220, 221, 227, 231, 233, 234, 237, 240, 244, 246, 250, 254, 258},\n",
      "};\n"
     ]
    }
   ],
   "source": [
    "print(\"const int graph[272][60] = {\")\n",
    "for i in range(272):\n",
    "    nb = sorted(graph[i])\n",
    "    for k in range(3): # print in 3 lines\n",
    "        print(\"    \" \n",
    "              + (\"{\" if k == 0 else \" \") \n",
    "              + \", \".join(str(j).rjust(3) for j in nb[k*20:(k+1)*20]) \n",
    "              + (\"},\" if k == 2 else \",\"))\n",
    "print(\"};\")"
   ]
  },
  {
   "cell_type": "code",
   "execution_count": 44,
   "id": "bbac7fd2-566e-4e4d-8d8c-02df11ca4656",
   "metadata": {},
   "outputs": [],
   "source": [
    "psi = G((a*b*c*d*e)^2)\n",
    "psi_q = rho_ori.Image(psi)\n",
    "psi_perm = [action_on_vertices(j, psi_q) for j in range(272)]"
   ]
  },
  {
   "cell_type": "code",
   "execution_count": 45,
   "id": "0f04cf2e-5e03-423c-9ef6-00a7914d7cac",
   "metadata": {},
   "outputs": [
    {
     "name": "stdout",
     "output_type": "stream",
     "text": [
      "const int psi[272] = {\n",
      "     56,  60,  64,  16,  19,  61,  66,  67,  62,  58,  57,  65,  17,  18,  63,  59,  32,\n",
      "     36,  40,   0,   3,  37,  42,  43,  38,  34,  33,  41,   1,   2,  39,  35, 127,  69,\n",
      "    126, 123, 124, 122, 128,  68,  70, 129, 125, 121, 236, 186, 201, 150, 145, 234, 248,\n",
      "    164, 134, 198, 238,  50, 102,  45, 101,  98,  99,  97, 103,  44,  46, 104, 100,  96,\n",
      "    242, 205, 214, 169, 139, 239, 252, 142, 109, 211, 244,  74, 159, 108, 157, 162, 251,\n",
      "    184, 271, 263, 178, 133, 176, 181, 179, 180, 177, 132, 249, 231,   8,  90, 112, 210,\n",
      "    256, 193, 115, 221, 156, 235, 217, 206,  76, 149, 105, 247, 203, 270, 265, 160, 161,\n",
      "    158, 107, 246, 222,  24,  82, 137, 197, 260, 208,  86, 230, 175, 241, 227, 189,  52,\n",
      "    168, 130, 148, 195,  10,   6, 229, 173, 167, 187,  26,  48, 188,  94, 204,  25,  80,\n",
      "    166,  53, 226,  87, 192,  95, 190, 135, 240,  27,  22, 219, 154,  72, 196, 119, 185,\n",
      "      9,  88, 147,  77, 233, 116, 183, 120, 207, 110, 245,  11,  21, 144,  29, 243, 215,\n",
      "     47,  85, 213, 225,   5, 138, 117, 140,  71, 114, 141,   7,  75, 118,  12, 143,  13,\n",
      "    237, 202, 200, 220,  92, 146, 163,  23,  51,  93,  28, 165,  89, 253,  73, 216, 113,\n",
      "    191, 170,  81,  83,  84,  20, 250,  49, 223, 182, 151,  91,   4,  14, 267, 255, 155,\n",
      "    209,  30,  31, 269, 259, 174, 194,  15,  54, 262, 254,  78,  79, 264, 257,  55, 106,\n",
      "    266, 153, 131, 136, 268, 172, 111, 218, 199, 228, 212, 152, 224, 171, 232, 258, 261,\n",
      "};\n"
     ]
    }
   ],
   "source": [
    "print(\"const int psi[272] = {\")\n",
    "for i in range(16):\n",
    "    print(\"    \" + \", \".join(str(j).rjust(3) for j in psi_perm[i*17:(i+1)*17]) + \",\")\n",
    "print(\"};\")"
   ]
  },
  {
   "cell_type": "code",
   "execution_count": 46,
   "id": "b42c91d1-e25b-4c0a-9ef3-4077a3fdce3f",
   "metadata": {},
   "outputs": [],
   "source": [
    "def minrot(v):\n",
    "    \"\"\"Returns the smallest rotation of a vector v.\"\"\"\n",
    "    m = v\n",
    "    for j in range(len(v)):\n",
    "        v = vector([v[-1]] + list(v[:-1]))\n",
    "        if v < m:\n",
    "            m = v\n",
    "    m.set_immutable()\n",
    "    return m"
   ]
  },
  {
   "cell_type": "code",
   "execution_count": 47,
   "id": "1b627170-cab5-42ed-b35e-71f3bf0f886b",
   "metadata": {},
   "outputs": [],
   "source": [
    "rowspace = (sorted({minrot(v) for v in Ai[0][1].row_space() if any(v) and not all(v)})\n",
    "          + sorted({minrot(v) for v in Ai[2][1].row_space() if any(v) and not all(v)}))"
   ]
  },
  {
   "cell_type": "code",
   "execution_count": 48,
   "id": "daf50dcb-017e-4469-a1ca-24bd14acc85d",
   "metadata": {
    "scrolled": true
   },
   "outputs": [
    {
     "name": "stdout",
     "output_type": "stream",
     "text": [
      "const int rowspace[60][17] = {\n",
      "    {1, 1, 1, 0, 1, 0, 1, 1, 1, 0, 0, 0, 0, 0, 0, 0, 0},\n",
      "    {1, 0, 0, 1, 1, 1, 1, 0, 0, 1, 0, 0, 0, 0, 0, 0, 0},\n",
      "    {1, 0, 1, 0, 0, 1, 0, 0, 1, 0, 1, 0, 0, 0, 0, 0, 0},\n",
      "    {1, 1, 0, 1, 0, 0, 0, 1, 0, 1, 1, 0, 0, 0, 0, 0, 0},\n",
      "    {1, 1, 0, 0, 1, 1, 0, 0, 0, 0, 0, 1, 0, 0, 0, 0, 0},\n",
      "    {1, 0, 1, 1, 1, 0, 0, 1, 1, 1, 0, 1, 0, 0, 0, 0, 0},\n",
      "    {1, 1, 1, 1, 0, 1, 1, 0, 1, 1, 1, 1, 0, 0, 0, 0, 0},\n",
      "    {1, 0, 0, 0, 1, 1, 0, 1, 1, 0, 0, 0, 1, 0, 0, 0, 0},\n",
      "    {1, 1, 1, 1, 1, 0, 0, 0, 0, 1, 0, 0, 1, 0, 0, 0, 0},\n",
      "    {1, 1, 0, 0, 0, 0, 1, 0, 1, 0, 1, 0, 1, 0, 0, 0, 0},\n",
      "    {1, 0, 1, 1, 0, 1, 1, 1, 0, 1, 1, 0, 1, 0, 0, 0, 0},\n",
      "    {1, 1, 0, 1, 1, 1, 1, 1, 1, 1, 0, 1, 1, 0, 0, 0, 0},\n",
      "    {1, 1, 1, 0, 0, 1, 0, 1, 0, 0, 1, 1, 1, 0, 0, 0, 0},\n",
      "    {1, 0, 1, 0, 1, 1, 0, 1, 0, 1, 0, 0, 0, 1, 0, 0, 0},\n",
      "    {1, 0, 0, 1, 0, 1, 1, 1, 1, 0, 1, 0, 0, 1, 0, 0, 0},\n",
      "    {1, 1, 1, 0, 0, 0, 1, 0, 0, 1, 1, 0, 0, 1, 0, 0, 0},\n",
      "    {1, 1, 1, 1, 1, 1, 1, 1, 0, 0, 0, 1, 0, 1, 0, 0, 0},\n",
      "    {1, 1, 0, 0, 0, 1, 0, 1, 1, 1, 1, 1, 0, 1, 0, 0, 0},\n",
      "    {1, 1, 0, 0, 1, 0, 1, 1, 0, 1, 0, 0, 1, 1, 0, 0, 0},\n",
      "    {1, 1, 1, 1, 0, 0, 0, 1, 1, 0, 1, 0, 1, 1, 0, 0, 0},\n",
      "    {1, 1, 1, 0, 1, 1, 0, 0, 1, 1, 0, 1, 1, 1, 0, 0, 0},\n",
      "    {1, 1, 0, 1, 0, 1, 0, 1, 1, 0, 0, 1, 0, 0, 1, 0, 0},\n",
      "    {1, 1, 1, 0, 1, 1, 1, 1, 0, 1, 1, 1, 0, 0, 1, 0, 0},\n",
      "    {1, 1, 0, 1, 1, 0, 1, 1, 0, 0, 1, 0, 1, 0, 1, 0, 0},\n",
      "    {1, 0, 1, 0, 1, 1, 1, 0, 1, 1, 1, 0, 1, 0, 1, 0, 0},\n",
      "    {1, 0, 1, 1, 0, 0, 1, 1, 1, 0, 0, 1, 1, 0, 1, 0, 0},\n",
      "    {1, 1, 1, 1, 1, 1, 0, 0, 1, 0, 1, 1, 1, 0, 1, 0, 0},\n",
      "    {1, 1, 1, 1, 1, 0, 1, 1, 1, 1, 1, 0, 0, 1, 1, 0, 0},\n",
      "    {1, 1, 1, 1, 0, 1, 0, 1, 0, 1, 0, 1, 1, 1, 1, 0, 0},\n",
      "    {1, 1, 1, 1, 1, 1, 0, 1, 0, 1, 1, 0, 1, 1, 0, 1, 0},\n",
      "    {1, 0, 0, 1, 1, 1, 0, 0, 1, 0, 0, 0, 0, 0, 0, 0, 0},\n",
      "    {1, 1, 0, 1, 0, 0, 1, 0, 1, 1, 0, 0, 0, 0, 0, 0, 0},\n",
      "    {1, 0, 1, 1, 1, 0, 1, 1, 1, 0, 1, 0, 0, 0, 0, 0, 0},\n",
      "    {1, 1, 1, 1, 0, 1, 0, 1, 1, 1, 1, 0, 0, 0, 0, 0, 0},\n",
      "    {1, 0, 0, 0, 1, 1, 1, 1, 0, 0, 0, 1, 0, 0, 0, 0, 0},\n",
      "    {1, 1, 0, 0, 0, 0, 0, 1, 0, 1, 0, 1, 0, 0, 0, 0, 0},\n",
      "    {1, 1, 1, 0, 0, 1, 1, 0, 0, 1, 1, 1, 0, 0, 0, 0, 0},\n",
      "    {1, 1, 0, 1, 1, 0, 1, 1, 0, 0, 0, 0, 1, 0, 0, 0, 0},\n",
      "    {1, 0, 0, 1, 0, 1, 0, 1, 0, 1, 0, 0, 1, 0, 0, 0, 0},\n",
      "    {1, 1, 1, 1, 1, 1, 0, 0, 0, 0, 1, 0, 1, 0, 0, 0, 0},\n",
      "    {1, 0, 1, 1, 0, 0, 1, 0, 0, 1, 1, 0, 1, 0, 0, 0, 0},\n",
      "    {1, 1, 0, 0, 1, 0, 0, 0, 1, 0, 0, 1, 1, 0, 0, 0, 0},\n",
      "    {1, 1, 1, 0, 1, 1, 1, 1, 1, 0, 1, 1, 1, 0, 0, 0, 0},\n",
      "    {1, 0, 1, 1, 1, 1, 1, 1, 0, 1, 0, 0, 0, 1, 0, 0, 0},\n",
      "    {1, 1, 0, 1, 0, 1, 1, 0, 0, 0, 1, 0, 0, 1, 0, 0, 0},\n",
      "    {1, 1, 1, 0, 0, 0, 1, 0, 1, 0, 0, 1, 0, 1, 0, 0, 0},\n",
      "    {1, 0, 1, 0, 1, 1, 0, 0, 1, 1, 0, 1, 0, 1, 0, 0, 0},\n",
      "    {1, 1, 0, 0, 0, 1, 0, 1, 1, 0, 1, 1, 0, 1, 0, 0, 0},\n",
      "    {1, 1, 1, 1, 1, 0, 0, 0, 1, 1, 0, 0, 1, 1, 0, 0, 0},\n",
      "    {1, 1, 0, 1, 1, 1, 1, 1, 1, 1, 1, 0, 1, 1, 0, 0, 0},\n",
      "    {1, 1, 1, 0, 1, 0, 1, 1, 0, 1, 0, 1, 1, 1, 0, 0, 0},\n",
      "    {1, 1, 1, 1, 0, 1, 1, 1, 1, 0, 0, 1, 0, 0, 1, 0, 0},\n",
      "    {1, 0, 1, 1, 1, 0, 0, 1, 1, 1, 0, 1, 0, 0, 1, 0, 0},\n",
      "    {1, 1, 1, 0, 1, 1, 0, 1, 1, 1, 0, 0, 1, 0, 1, 0, 0},\n",
      "    {1, 1, 0, 0, 1, 0, 1, 0, 1, 1, 1, 0, 1, 0, 1, 0, 0},\n",
      "    {1, 1, 1, 1, 1, 1, 1, 0, 0, 1, 0, 1, 1, 0, 1, 0, 0},\n",
      "    {1, 1, 0, 1, 1, 0, 0, 1, 0, 1, 1, 1, 1, 0, 1, 0, 0},\n",
      "    {1, 1, 1, 1, 0, 0, 1, 1, 0, 1, 1, 1, 0, 1, 1, 0, 0},\n",
      "    {1, 1, 1, 1, 1, 0, 1, 0, 1, 0, 1, 1, 1, 1, 1, 0, 0},\n",
      "    {1, 1, 0, 1, 1, 1, 1, 0, 1, 1, 0, 1, 0, 1, 0, 1, 0},\n",
      "};\n"
     ]
    }
   ],
   "source": [
    "print(\"const int rowspace[\" + str(len(rowspace)) + \"][17] = {\")\n",
    "for v in rowspace:\n",
    "    print(\"    {\" + str(v)[1:-1] + \"},\")\n",
    "print(\"};\")"
   ]
  },
  {
   "cell_type": "code",
   "execution_count": null,
   "id": "4144315b-ec35-40c6-9a16-db4e83472ac2",
   "metadata": {},
   "outputs": [],
   "source": []
  }
 ],
 "metadata": {
  "kernelspec": {
   "display_name": "SageMath 10.5",
   "language": "sage",
   "name": "sagemath"
  },
  "language_info": {
   "codemirror_mode": {
    "name": "ipython",
    "version": 3
   },
   "file_extension": ".py",
   "mimetype": "text/x-python",
   "name": "python",
   "nbconvert_exporter": "python",
   "pygments_lexer": "ipython3",
   "version": "3.13.1"
  }
 },
 "nbformat": 4,
 "nbformat_minor": 5
}
