{
 "cells": [
  {
   "cell_type": "markdown",
   "id": "38e89daa-e81c-476d-a1af-62b9659be41e",
   "metadata": {},
   "source": [
    "# Geodesics in $\\Gamma$"
   ]
  },
  {
   "cell_type": "markdown",
   "id": "87c5decb-2443-4918-93f6-bbfee0723f75",
   "metadata": {},
   "source": [
    "This notebook provides a proof for the proposition\n",
    "\n",
    "***Proposition***. The manifolds $N_{i,I}^\\pm$ are uniquely tessellated by copies of $P$.\n",
    "\n",
    "The proof strategy can be described as follows:\n",
    "- let $T$ be the lift to $\\mathbb H^5$ of the standard tessellation of $N_{i,I}^\\pm$, as constructed in the paper;\n",
    "- for concreteness, we can assume that $T$ is the tessellation induced by the canonical representation of the Coxeter group $\\Gamma$;\n",
    "- assume that there exists another tessellation, then it can be described as the projection of $\\gamma(T)$ for some $\\gamma \\in \\mathrm{Isom}(\\mathbb H^5)$;\n",
    "- we show that, give a manifold $N_{i,I}^\\pm$, we can find some specific _shapes_ in its universal cover $\\mathbb H^5$\n",
    "  (based on geodesics and hyperbolic subspaces), ultimately inducing a configuration of five orthogonal lines;\n",
    "- we also show that these configurations can only occur in $32$ positions with respect to the tessellation;\n",
    "- of these $32$, only $8$ are distinct, of which $7$ can be excluded as they do not project to a valid tessellation of $N_{i,I}^\\pm$;\n",
    "- due to these constraints, the tessellation $T$ is unique."
   ]
  },
  {
   "cell_type": "code",
   "execution_count": 1,
   "id": "7394d7d7-a4ed-4896-b3fa-92fa652a3667",
   "metadata": {
    "tags": []
   },
   "outputs": [],
   "source": [
    "import itertools\n",
    "import functools\n",
    "import random\n",
    "from collections import deque, defaultdict"
   ]
  },
  {
   "cell_type": "code",
   "execution_count": 2,
   "id": "9228b8d2-675f-49df-86a5-fb49f4ec1317",
   "metadata": {
    "tags": []
   },
   "outputs": [],
   "source": [
    "def multiset(it):\n",
    "    d = defaultdict(int)\n",
    "    for k in it:\n",
    "        d[k] += 1\n",
    "    return dict(d)\n",
    "\n",
    "def multimap(it):\n",
    "    d = defaultdict(set)\n",
    "    for k,v in it:\n",
    "        d[k].add(v)\n",
    "    return dict(d)"
   ]
  },
  {
   "cell_type": "code",
   "execution_count": 3,
   "id": "e34348a6-95dc-48a5-8de3-41dafce71fd5",
   "metadata": {
    "tags": []
   },
   "outputs": [],
   "source": [
    "def print_matrix(m, digits=3):\n",
    "    print(m.str(rep_mapping=lambda x: str(x.n(digits=digits))))"
   ]
  },
  {
   "cell_type": "code",
   "execution_count": 4,
   "id": "1e91c745-4baa-4a76-85d8-cb6fc28a89d3",
   "metadata": {},
   "outputs": [],
   "source": [
    "def make_coxeter_group(F, edges):\n",
    "    n = F.ngens()\n",
    "    all_edges = {(i, j) : 1 if i == j else 2 for i in range(n) for j in range(i,n)}\n",
    "    for a,b,e in edges:\n",
    "        all_edges[min(a,b), max(a,b)] = e\n",
    "    rels = [(F.gen(k[0])*F.gen(k[1]))^v for k,v in all_edges.items() if v >= 0 and v != oo]\n",
    "    return F/rels"
   ]
  },
  {
   "cell_type": "code",
   "execution_count": 5,
   "id": "f52b3055-af37-4cf2-a4a1-de87d3bfe76c",
   "metadata": {},
   "outputs": [
    {
     "name": "stdout",
     "output_type": "stream",
     "text": []
    },
    {
     "data": {
      "text/plain": [
       "Finitely presented group < a, b, c, d, e | a^2, (a*b)^5, (a*c)^2, (a*d)^2, (a*e)^2, b^2, (b*c)^3, (b*d)^2, (b*e)^2, c^2, (c*d)^3, (c*e)^2, d^2, (d*e)^3, e^2 >"
      ]
     },
     "execution_count": 5,
     "metadata": {},
     "output_type": "execute_result"
    }
   ],
   "source": [
    "fr.<a,b,c,d,e> = FreeGroup()\n",
    "cox_edges = [(0,1,5),(1,2,3),(2,3,3),(3,4,3)]\n",
    "G = make_coxeter_group(fr, cox_edges); G"
   ]
  },
  {
   "cell_type": "code",
   "execution_count": 6,
   "id": "22727cd1-1c71-44a3-b793-753a566d282e",
   "metadata": {
    "tags": []
   },
   "outputs": [],
   "source": [
    "long_words = [\n",
    "    a*b*c*d*e,\n",
    "    b*a*b*c*b*a*b*a*c*b*a*d*c*e*d*c*b*a*b*a*c*d*e*b*c*a*b*a*b*c*d*c*b*a*b*c*a*b*a*b*c,\n",
    "    b*a*b*c*b*a*d*c*b*a*b*a*c*b*a*d*e*d*c*b*a*b*c*d*e*a*b*a*b*c*d*b*a*b*c*a*b*a*b*c*d*c*b,\n",
    "    b*c*b*a*b*a*d*c*b*a*b*a*c*b*a*b*c*d*c*b*a*b*a*c*d*b*c*a*b*a*b*c*d*e*b*c*a*b*a*b*c*d*b*a*b*c*a*b,\n",
    "    b*a*b*a*c*d*c*b*a*b*a*c*b*a*d*c*b*a*b*c*d*e*d*c*b*a*b*c*d*a*b*c*a*b*a*b*c*d*e*b*a*b*c*d*b*c*a*b*a*b*c\n",
    "]\n",
    "W = d*b*c*a*e*d*b*c*e*d*e\n",
    "w1,w2,w3,w4,w5 = [W * w * W^-1 for w in long_words]"
   ]
  },
  {
   "cell_type": "markdown",
   "id": "5286d2c4-6aea-4c2c-96d7-71c70d5f2804",
   "metadata": {},
   "source": [
    "The following are generators for the fundamental groups of the Long manifolds. \\\n",
    "In order, they generate the groups $H_i' \\coloneqq W \\cdot H_i \\cdot W^{-1}$, where $H_i$ is one of $H_1, H_4, H_5, H_8, H_2, H_3, H_6, H_7$. \\\n",
    "Conjugation with the word $W$ will be useful later: it allows for each $W \\cdot H \\cdot W^{-1}$ to contain $(bdace)^2$, \\\n",
    "an isometry whose axis intersects the fundamental chamber $P$ in the canonical representation. \\\n",
    "Note that $(H_1, H_8)$ and $(H_3, H_6)$ are conjugate pairs in $G$."
   ]
  },
  {
   "cell_type": "code",
   "execution_count": 7,
   "id": "6dce0c11-c9d0-403d-8410-c926a35983cb",
   "metadata": {
    "tags": []
   },
   "outputs": [],
   "source": [
    "long_gens = [\n",
    "    [w2^-2, w3, w4*w2^-1, w4^-1*w2^-1, w2*w1*w2^-1, w2*w3*w2^-1, w1, w5],\n",
    "    [w1, w2^-2, w3*w2^-1, w3^-1*w2^-1, w4*w2^-1, w4^-1*w2^-1, w5*w2^-1, w5^-1*w2^-1],\n",
    "    [w1^-2, w2, w3, w4*w1^-1, w1*w2*w1^-1, w1*w3*w1^-1, w5],\n",
    "    [w1^-2, w3*w1^-1, w3^-1*w1^-1, w2, w4*w1^-1, w5*w1^-1],\n",
    "    \n",
    "    [w1, w2^-2, w3, w4*w2^-1, w5*w2^-1, w2*w1*w2^-1, w2*w3*w2^-1, w4^-1*w2^-1, w5^-1*w2^-1],\n",
    "    [w1, w2^-2, w3*w2^-1, w3^-1*w2^-1, w4*w2^-1, w4^-1*w2^-1, w5],\n",
    "    [w1^-2, w3, w4*w1^-1, w1*w2*w1^-1, w2, w5*w1^-1, w5^-1*w1^-1],\n",
    "    \n",
    "    [w1^-2, w2, w5, w3*w1^-1, w4*w1^-1, w3^-1*w1^-1]\n",
    "]"
   ]
  },
  {
   "cell_type": "code",
   "execution_count": 8,
   "id": "77080eea-4e34-45fc-a06d-478ae7431cb2",
   "metadata": {
    "tags": []
   },
   "outputs": [],
   "source": [
    "CK = G.subgroup(long_words)"
   ]
  },
  {
   "cell_type": "code",
   "execution_count": 9,
   "id": "a8ac6559-78b8-4c9b-b857-139440f190d7",
   "metadata": {
    "tags": []
   },
   "outputs": [],
   "source": [
    "SGs = [G.subgroup(long_gen) for long_gen in long_gens]"
   ]
  },
  {
   "cell_type": "markdown",
   "id": "74729443-3815-43bb-a97c-fc54b14d5320",
   "metadata": {
    "jp-MarkdownHeadingCollapsed": true
   },
   "source": [
    "## Basic definitions"
   ]
  },
  {
   "cell_type": "code",
   "execution_count": 10,
   "id": "2c4ef7b4-9b69-48f5-bcca-386e87ee5db6",
   "metadata": {
    "tags": []
   },
   "outputs": [],
   "source": [
    "def nf_element(x):\n",
    "    \"\"\"Returns the algebraic number x as a number field element.\"\"\"\n",
    "    return QQ[x].gen(0)"
   ]
  },
  {
   "cell_type": "code",
   "execution_count": 11,
   "id": "f9236c8f-81d8-452b-9c46-1627037d96b3",
   "metadata": {
    "tags": []
   },
   "outputs": [
    {
     "name": "stdout",
     "output_type": "stream",
     "text": [
      "1.61803398874989\n"
     ]
    }
   ],
   "source": [
    "Qphi.<phi> = NumberField(x^2-x-1, embedding=1.6)\n",
    "print(phi.n())"
   ]
  },
  {
   "cell_type": "markdown",
   "id": "4306152b-2dc6-4f4f-9010-90fd0239c185",
   "metadata": {},
   "source": [
    "Next, we define the standard Lorentzian form on $\\mathbb R^{5,1}$, `J`,\\\n",
    "and the defining form `Jphi` of the prism $P$.\n",
    "\n",
    "`Jphi` defines a model of $\\mathbb H^5$, which we shall call the _scaled hyperboloid model_:\\\n",
    "$$\\mathbb H^5 \\simeq \\{v \\in \\mathbb R^{5,1} \\mid v^t\\cdot \\mathtt{Jphi}\\cdot v = -\\varphi, v_0 > 0\\}.$$"
   ]
  },
  {
   "cell_type": "code",
   "execution_count": 12,
   "id": "72550386-8877-4937-858a-8c9c17b70f66",
   "metadata": {
    "tags": []
   },
   "outputs": [],
   "source": [
    "J = diagonal_matrix([-1,1,1,1,1,1])\n",
    "Jphi = diagonal_matrix([-phi,1,1,1,1,1])"
   ]
  },
  {
   "cell_type": "code",
   "execution_count": 13,
   "id": "c72a1fcf-bd4f-4680-be91-68943532dd8a",
   "metadata": {},
   "outputs": [],
   "source": [
    "def normalize(v, ring = AA):\n",
    "    \"\"\"\n",
    "    Returns a multiple of v lying on the scaled hyperboloid model.\n",
    "    Assumes that v is already in the positive cone of the model.\n",
    "    \"\"\"\n",
    "    return vector(ring, v / sqrt(-v * Jphi * v / phi), immutable=True)"
   ]
  },
  {
   "cell_type": "code",
   "execution_count": 14,
   "id": "23e5f2f7-c2c0-4677-8f69-a67294520625",
   "metadata": {
    "tags": []
   },
   "outputs": [],
   "source": [
    "def cosh_dist(v,w):\n",
    "    \"\"\"Returns the hyperbolic cosine of the distance between two points v, w in the scaled hyperboloid model.\"\"\"\n",
    "    return -v * Jphi * w / phi"
   ]
  },
  {
   "cell_type": "code",
   "execution_count": 15,
   "id": "01d0d2a2-940b-4e9a-bccb-b966710e3ae8",
   "metadata": {
    "tags": []
   },
   "outputs": [],
   "source": [
    "def pyth(a,b):\n",
    "    \"\"\"Returns the hypotenuse of a hyperbolic right triangle of sides a, b.\"\"\"\n",
    "    return acosh(cosh(a)*cosh(b))"
   ]
  },
  {
   "cell_type": "code",
   "execution_count": 16,
   "id": "77fcad1a-18bc-4466-bfe1-a5b16dac9552",
   "metadata": {
    "tags": []
   },
   "outputs": [],
   "source": [
    "def midpoint(v, w):\n",
    "    \"\"\"Returns the midpoint of two points v, w in the scaled hyperboloid model.\"\"\"\n",
    "    return normalize(v + w)"
   ]
  },
  {
   "cell_type": "markdown",
   "id": "b8637930-6da6-467e-8c95-2fe15116ddeb",
   "metadata": {},
   "source": [
    "The outer normal vectors to each facet:"
   ]
  },
  {
   "cell_type": "code",
   "execution_count": 17,
   "id": "1cc63271-4cfc-4b5c-bada-51a295e7ba4b",
   "metadata": {},
   "outputs": [],
   "source": [
    "facet_normals = [vector(Qphi, l, immutable=True) for l in [\n",
    "    (1, phi^2, 0, 0, 0, 0),\n",
    "    (0, -1, 1, 0, 0, 0),\n",
    "    (0, 0, -1, 1, 0, 0),\n",
    "    (0, 0, 0, -1, 1, 0),\n",
    "    (0, 0, 0, 0, -1, 1),\n",
    "    (0, 0, 0, 0, 0, -1),\n",
    "    (phi, 1, 1, 1, 1, 1),\n",
    "]]"
   ]
  },
  {
   "cell_type": "code",
   "execution_count": 18,
   "id": "adb4809f-586f-4567-b325-4bd02ba72862",
   "metadata": {},
   "outputs": [
    {
     "data": {
      "text/plain": [
       "[\n",
       "[ phi   -1    0    0    0    0]  [1 0 0 0 0 0]  [1 0 0 0 0 0]\n",
       "[ phi -phi    0    0    0    0]  [0 0 1 0 0 0]  [0 1 0 0 0 0]\n",
       "[   0    0    1    0    0    0]  [0 1 0 0 0 0]  [0 0 0 1 0 0]\n",
       "[   0    0    0    1    0    0]  [0 0 0 1 0 0]  [0 0 1 0 0 0]\n",
       "[   0    0    0    0    1    0]  [0 0 0 0 1 0]  [0 0 0 0 1 0]\n",
       "[   0    0    0    0    0    1], [0 0 0 0 0 1], [0 0 0 0 0 1],\n",
       "\n",
       "[1 0 0 0 0 0]  [1 0 0 0 0 0]  [ 1  0  0  0  0  0]\n",
       "[0 1 0 0 0 0]  [0 1 0 0 0 0]  [ 0  1  0  0  0  0]\n",
       "[0 0 1 0 0 0]  [0 0 1 0 0 0]  [ 0  0  1  0  0  0]\n",
       "[0 0 0 0 1 0]  [0 0 0 1 0 0]  [ 0  0  0  1  0  0]\n",
       "[0 0 0 1 0 0]  [0 0 0 0 0 1]  [ 0  0  0  0  1  0]\n",
       "[0 0 0 0 0 1], [0 0 0 0 1 0], [ 0  0  0  0  0 -1],\n",
       "\n",
       "[ 5*phi + 4 -2*phi - 1 -2*phi - 1 -2*phi - 1 -2*phi - 1 -2*phi - 1]\n",
       "[ 3*phi + 2       -phi   -phi - 1   -phi - 1   -phi - 1   -phi - 1]\n",
       "[ 3*phi + 2   -phi - 1       -phi   -phi - 1   -phi - 1   -phi - 1]\n",
       "[ 3*phi + 2   -phi - 1   -phi - 1       -phi   -phi - 1   -phi - 1]\n",
       "[ 3*phi + 2   -phi - 1   -phi - 1   -phi - 1       -phi   -phi - 1]\n",
       "[ 3*phi + 2   -phi - 1   -phi - 1   -phi - 1   -phi - 1       -phi]\n",
       "]"
      ]
     },
     "execution_count": 18,
     "metadata": {},
     "output_type": "execute_result"
    }
   ],
   "source": [
    "facet_reflections = [\n",
    "    matrix(Qphi, 1-2*(u.outer_product(u*Jphi))/(u*Jphi*u), immutable=True) for u in facet_normals\n",
    "]\n",
    "facet_reflections"
   ]
  },
  {
   "cell_type": "code",
   "execution_count": 19,
   "id": "73611397-3319-44e2-9496-2e934b621be4",
   "metadata": {},
   "outputs": [],
   "source": [
    "facet_hyperplanes = [\n",
    "    (m-1).right_kernel() for m in facet_reflections\n",
    "]"
   ]
  },
  {
   "cell_type": "markdown",
   "id": "9c0ea898-c123-41a0-8d50-dc512fed8895",
   "metadata": {},
   "source": [
    "Facets incident to each of the 10 vertices of $P$,\n",
    "where $0,1,\\dots,6$ stand for $a,b,\\dots,g$."
   ]
  },
  {
   "cell_type": "code",
   "execution_count": 20,
   "id": "0c3f3b71-86b1-40d4-8de9-ee6a1286021b",
   "metadata": {},
   "outputs": [],
   "source": [
    "vertices_facets = [\n",
    "    (0,1,2,3,5),\n",
    "    (0,1,2,4,5),\n",
    "    (0,1,3,4,5),\n",
    "    (0,2,3,4,5),\n",
    "    (1,2,3,4,5),\n",
    "    (0,1,2,3,6),\n",
    "    (0,1,2,4,6),\n",
    "    (0,1,3,4,6),\n",
    "    (0,2,3,4,6),\n",
    "    (1,2,3,4,6),\n",
    "]"
   ]
  },
  {
   "cell_type": "code",
   "execution_count": 21,
   "id": "c27abe01-d80f-45cc-b631-190454cc701d",
   "metadata": {},
   "outputs": [],
   "source": [
    "def intersect_facets(facet_indices):\n",
    "    inters = functools.reduce(\n",
    "        lambda V, W: V.intersection(W),\n",
    "        (facet_hyperplanes[j] for j in facet_indices)\n",
    "    ).gen(0)\n",
    "    return vector(\n",
    "        AA, normalize(inters), immutable = True\n",
    "    )"
   ]
  },
  {
   "cell_type": "code",
   "execution_count": 22,
   "id": "6bb160e3-62cb-46cb-a79c-2242938ff5db",
   "metadata": {},
   "outputs": [],
   "source": [
    "vertices = [\n",
    "    intersect_facets(fs)\n",
    "    for fs in vertices_facets\n",
    "]"
   ]
  },
  {
   "cell_type": "code",
   "execution_count": 23,
   "id": "beee4515-9c9b-433a-80c3-89918df9759a",
   "metadata": {},
   "outputs": [
    {
     "data": {
      "text/plain": [
       "[(4.236067977499789?, 2.618033988749895?, 2.618033988749895?, 2.618033988749895?, 2.618033988749895?, 0),\n",
       " (1.851229586821916?, 1.144122805635369?, 1.144122805635369?, 1.144122805635369?, 0, 0),\n",
       " (1.376381920471174?, 0.8506508083520399?, 0.8506508083520399?, 0, 0, 0),\n",
       " (1.144122805635369?, 0.7071067811865475?, 0, 0, 0, 0),\n",
       " (1, 0, 0, 0, 0, 0),\n",
       " (4.846581979279201?, 2.995352392457285?, 2.995352392457285?, 2.995352392457285?, 2.995352392457285?, 0.7071067811865475?),\n",
       " (2.995352392457285?, 1.851229586821916?, 1.851229586821916?, 1.851229586821916?, 1.144122805635369?, 1.144122805635369?),\n",
       " (2.727546913047446?, 1.685716698173176?, 1.685716698173176?, 1.256459042640573?, 1.256459042640573?, 1.256459042640573?),\n",
       " (2.618033988749895?, 1.618033988749895?, 1.309016994374948?, 1.309016994374948?, 1.309016994374948?, 1.309016994374948?),\n",
       " (2.558336368008464?, 1.339562313220224?, 1.339562313220224?, 1.339562313220224?, 1.339562313220224?, 1.339562313220224?)]"
      ]
     },
     "execution_count": 23,
     "metadata": {},
     "output_type": "execute_result"
    }
   ],
   "source": [
    "vertices"
   ]
  },
  {
   "cell_type": "markdown",
   "id": "c8cfd799-210e-48bf-a6c9-3fd2b1907f71",
   "metadata": {},
   "source": [
    "Checking that `facet_normals` are indeed _outer_ normals:"
   ]
  },
  {
   "cell_type": "code",
   "execution_count": 24,
   "id": "7350e7c3-23d9-4616-bdc6-4b6d65c00522",
   "metadata": {},
   "outputs": [
    {
     "data": {
      "text/plain": [
       "[True, True, True, True, True, True, True]"
      ]
     },
     "execution_count": 24,
     "metadata": {},
     "output_type": "execute_result"
    }
   ],
   "source": [
    "[sum(vertices) * Jphi * rv < 0 for rv in facet_normals]"
   ]
  },
  {
   "cell_type": "markdown",
   "id": "b437c24b-6e2a-42b6-a540-bef2db1c4e28",
   "metadata": {},
   "source": [
    "A special point of $P$:"
   ]
  },
  {
   "cell_type": "code",
   "execution_count": 25,
   "id": "e5e02ffe-ebb5-400b-987e-f69f35940e1f",
   "metadata": {},
   "outputs": [],
   "source": [
    "mid = midpoint(vertices[4], vertices[5])"
   ]
  },
  {
   "cell_type": "code",
   "execution_count": 26,
   "id": "1ea98c4e-ddf7-491b-99e2-c1f453688f02",
   "metadata": {},
   "outputs": [
    {
     "data": {
      "text/plain": [
       "[1.57337286723525?,\n",
       " 1.30698302899770?,\n",
       " 1.43225365432768?,\n",
       " 1.57337286723526?,\n",
       " 1.709763430899024?,\n",
       " 1.70976343089902?,\n",
       " 1.34913003104219?,\n",
       " 1.31727239286769?,\n",
       " 1.30698302899770?,\n",
       " 1.30215779520651?]"
      ]
     },
     "execution_count": 26,
     "metadata": {},
     "output_type": "execute_result"
    }
   ],
   "source": [
    "[cosh_dist(mid, v) for v in vertices]"
   ]
  },
  {
   "cell_type": "markdown",
   "id": "672cca81-31e5-4354-ab61-836cab4fdf36",
   "metadata": {},
   "source": [
    "The point `mid` has maximum distance $\\cosh^{-1}(1.70976\\dots)$ from a vertex of $P$. \\\n",
    "By convexity, a ball of this radius centered on `mid` contains $P$."
   ]
  },
  {
   "cell_type": "code",
   "execution_count": 27,
   "id": "d831033d-0166-465b-9184-91051ec4120f",
   "metadata": {},
   "outputs": [],
   "source": [
    "cosh_radius = cosh_dist(mid, vertices[4])"
   ]
  },
  {
   "cell_type": "code",
   "execution_count": 28,
   "id": "cb4a2421-018a-49be-9a58-c6273f7d88bc",
   "metadata": {
    "tags": []
   },
   "outputs": [],
   "source": [
    "def axis(m, l):\n",
    "    \"\"\"Returns the axis of a hyperbolic isometry m, assuming that it has an eigenvalue l with |l| != 1.\"\"\"\n",
    "    return ((m - l) * (m - 1/l)).right_kernel()"
   ]
  },
  {
   "cell_type": "code",
   "execution_count": 29,
   "id": "0796ae1a-12c0-4a60-9640-b32dce702b74",
   "metadata": {
    "tags": []
   },
   "outputs": [],
   "source": [
    "def orthogonal_projection(bm):\n",
    "    \"\"\"Given a subspace S spanned by the columns of bm, returns the orthogonal projection matrix onto S.\"\"\" \n",
    "    return bm * (bm.transpose() * Jphi * bm)^-1 * bm.transpose() * Jphi"
   ]
  },
  {
   "cell_type": "code",
   "execution_count": 30,
   "id": "ece003df-2a36-4140-b8e3-f351833c5ef3",
   "metadata": {
    "tags": []
   },
   "outputs": [],
   "source": [
    "def double_projection(p1, p2):\n",
    "    \"\"\"Returns the composition of two projections, first onto p2, then onto p1\"\"\"\n",
    "    return orthogonal_projection(p1.basis_matrix().transpose()) * orthogonal_projection(p2.basis_matrix().transpose())"
   ]
  },
  {
   "cell_type": "code",
   "execution_count": 31,
   "id": "8b9ced8c-5a68-45ba-a40a-620aa39929cb",
   "metadata": {
    "tags": []
   },
   "outputs": [],
   "source": [
    "def cosh_dist_hyperbolic_flats(p1, p2):\n",
    "    \"\"\"\n",
    "    Returns the hyperbolic cosine of the minimum distance\n",
    "    between two hyperbolic subspaces of the scaled hyperboloid model.\n",
    "    \"\"\"\n",
    "    dp = double_projection(p1, p2)\n",
    "    return sqrt(max((x for x in dp.eigenvalues() if x > 1), default = 1))"
   ]
  },
  {
   "cell_type": "code",
   "execution_count": 32,
   "id": "0e5bc217-fce1-4f00-a799-59c299b96339",
   "metadata": {
    "tags": []
   },
   "outputs": [],
   "source": [
    "def cos_angle_hyperbolic_flats(p1, p2):\n",
    "    \"\"\"\n",
    "    Returns the cosine of the angle between two intersecting\n",
    "    hyperbolic subspaces of the scaled hyperboloid model.\n",
    "    \"\"\"\n",
    "    dp = double_projection(p1, p2)\n",
    "    return sqrt(min((abs(x) for x in dp.eigenvalues() if 0 < abs(x) < 1), default = 1))"
   ]
  },
  {
   "cell_type": "code",
   "execution_count": 33,
   "id": "4a6923f4-7e92-4240-907c-0560f8c7e13a",
   "metadata": {},
   "outputs": [],
   "source": [
    "def free_word(w):\n",
    "    char_to_gen = dict(zip(\"abcde\", fr.gens()))\n",
    "    return product(char_to_gen[ch] for ch in w)"
   ]
  },
  {
   "cell_type": "code",
   "execution_count": 34,
   "id": "6c310aec-b294-47cf-b87c-7228487484c2",
   "metadata": {},
   "outputs": [],
   "source": [
    "def G_matrix(w):\n",
    "    if not w or w == fr.one():\n",
    "        return identity_matrix(Jphi, 6)\n",
    "    if isinstance(w, str):\n",
    "        w = free_word(w)\n",
    "    return w(facet_reflections[:5])"
   ]
  },
  {
   "cell_type": "markdown",
   "id": "c972f15c-bbaa-4f23-a988-d4ef79272c2b",
   "metadata": {
    "jp-MarkdownHeadingCollapsed": true
   },
   "source": [
    "## Possible eigenvalues of hyperbolic isometries"
   ]
  },
  {
   "cell_type": "markdown",
   "id": "02c31f80-d15f-418c-98a4-8b971b4d0a58",
   "metadata": {},
   "source": [
    "> **_Note:_** This section may be skipped; it is dedicated to computing possible eigenvalues of hyperbolic isometries, \\\n",
    "which may be useful to classify geodesics of $\\Gamma$ of various lengths."
   ]
  },
  {
   "cell_type": "markdown",
   "id": "b3530347-4cbd-4259-8b9d-ff73d044a808",
   "metadata": {},
   "source": [
    "The largest eigenvalue of a hyperbolic isometry defined over $\\mathbb Q(\\sqrt 5)$ is a positive algebraic integer $\\lambda$.\n",
    "Its conjugates are $1/\\lambda$ and some unit complex numbers. \\\n",
    "Hence, $\\lambda$ is one of:\n",
    "1. a unit of the ring of integers of $\\mathbb Q(\\sqrt 5)$ (if it has no unit norm conjugates);\n",
    "2. a Salem number.\n",
    "\n",
    "Moreover, if we consider isometries of $\\mathbb R^{5,1}$, the degree of $\\lambda$ over $\\mathbb Q$ is at most $12$.\n",
    "\n",
    "Lists of small Salem numbers can be found at <http://wayback.cecm.sfu.ca/~mjm/Lehmer/lists/>, complete up to $2.2$. \\\n",
    "To them we should add the powers of the golden ratio $\\varphi$, to cover case 1. However, already $\\varphi^2 > 2.2$. Hence, we only add $\\varphi$."
   ]
  },
  {
   "cell_type": "code",
   "execution_count": 38,
   "id": "0a0d5a73-bd83-4a1a-9e09-8ac97bfe5e77",
   "metadata": {},
   "outputs": [],
   "source": [
    "import urllib.request"
   ]
  },
  {
   "cell_type": "code",
   "execution_count": 39,
   "id": "3792c43c-e750-4b9c-b44b-57bc0ea09d00",
   "metadata": {},
   "outputs": [],
   "source": [
    "def fetch_salem_numbers(url):\n",
    "    sl = []\n",
    "    with urllib.request.urlopen(url) as txt:\n",
    "        for line in txt:\n",
    "            deg, value, poly = line.decode().split()\n",
    "            sl.append((float(value), QQ[x](sage_eval(poly, locals={\"z\":x}))))\n",
    "    return sl"
   ]
  },
  {
   "cell_type": "code",
   "execution_count": 40,
   "id": "20a70965-b281-4e0f-879e-e912b2d3cefb",
   "metadata": {},
   "outputs": [
    {
     "name": "stdout",
     "output_type": "stream",
     "text": [
      "CPU times: user 205 ms, sys: 1.58 ms, total: 207 ms\n",
      "Wall time: 2.58 s\n"
     ]
    }
   ],
   "source": [
    "%time salem_numbers = sum([fetch_salem_numbers(f\"http://wayback.cecm.sfu.ca/~mjm/Lehmer/lists/S{deg}.txt\") for deg in (4,6,8,10,12)], [])"
   ]
  },
  {
   "cell_type": "code",
   "execution_count": 41,
   "id": "ea3886db-07a0-4dfa-be1d-30fd9d329fca",
   "metadata": {},
   "outputs": [],
   "source": [
    "eigenvalues = salem_numbers + [(phi.n(), QQ[x](x^2-x-1))] # add phi to the list"
   ]
  },
  {
   "cell_type": "code",
   "execution_count": 42,
   "id": "dde7dc72-7353-4723-9a30-58950faccb69",
   "metadata": {},
   "outputs": [],
   "source": [
    "eigenvalues.sort()"
   ]
  },
  {
   "cell_type": "code",
   "execution_count": 43,
   "id": "78d707fb-591b-49a0-a84b-34cedc456cb9",
   "metadata": {},
   "outputs": [
    {
     "data": {
      "text/plain": [
       "[(1.17628081825992, x^10 + x^9 - x^7 - x^6 - x^5 - x^4 - x^3 + x + 1),\n",
       " (1.21639166113827, x^10 - x^6 - x^5 - x^4 + 1),\n",
       " (1.23039143440722, x^10 - x^7 - x^5 - x^3 + 1),\n",
       " (1.24072642365254, x^12 - x^11 + x^10 - x^9 - x^6 - x^3 + x^2 - x + 1),\n",
       " (1.26123096113714, x^10 - x^8 - x^5 - x^2 + 1),\n",
       " (1.28063815626776, x^8 - x^5 - x^4 - x^3 + 1),\n",
       " (1.29348595312545, x^10 - x^8 - x^7 + x^5 - x^3 - x^2 + 1),\n",
       " (1.30226880509433, x^12 - x^11 - x^7 + x^6 - x^5 - x + 1),\n",
       " (1.31591443192595, x^12 - x^8 - x^7 - x^6 - x^5 - x^4 + 1),\n",
       " (1.33731321020199, x^10 - x^9 - x^5 - x + 1)]"
      ]
     },
     "execution_count": 43,
     "metadata": {},
     "output_type": "execute_result"
    }
   ],
   "source": [
    "eigenvalues[:10]"
   ]
  },
  {
   "cell_type": "markdown",
   "id": "934ce71b-7a31-4d38-ac5d-c20d8df26ad6",
   "metadata": {},
   "source": [
    "Next, we remove all possible eigenvalues $>2.2$, or of degree $>6$ whose number field is not an extension of $\\mathbb Q(\\sqrt 5)$."
   ]
  },
  {
   "cell_type": "code",
   "execution_count": 44,
   "id": "9d8504cb-86c1-4abe-9cc6-46bade767029",
   "metadata": {},
   "outputs": [
    {
     "name": "stdout",
     "output_type": "stream",
     "text": [
      "CPU times: user 2.33 s, sys: 1.78 ms, total: 2.34 s\n",
      "Wall time: 2.35 s\n"
     ]
    }
   ],
   "source": [
    "%%time\n",
    "eigenvalues_filtered = [t for t in eigenvalues\n",
    "                        if t[0] < 2.201\n",
    "                        and not (t[1].degree() > 6 and QQ[x](x^2-x-1).change_ring(NumberField(t[1], \"a\")).is_irreducible())]"
   ]
  },
  {
   "cell_type": "code",
   "execution_count": 45,
   "id": "c35df0a7-2276-476e-9988-07badfc96d51",
   "metadata": {
    "scrolled": true
   },
   "outputs": [
    {
     "data": {
      "text/plain": [
       "[(1.3599997117115, x^8 - x^7 + x^6 - 2*x^5 + x^4 - 2*x^3 + x^2 - x + 1),\n",
       " (1.40126836793985, x^6 - x^4 - x^3 - x^2 + 1),\n",
       " (1.41810868701378,\n",
       "  x^12 - 2*x^11 + 2*x^10 - 2*x^9 + x^8 - x^7 + x^6 - x^5 + x^4 - 2*x^3 + 2*x^2 - 2*x + 1),\n",
       " (1.48856532775194,\n",
       "  x^12 + x^11 - x^9 - 2*x^8 - 3*x^7 - 3*x^6 - 3*x^5 - 2*x^4 - x^3 + x + 1),\n",
       " (1.50613567955384, x^6 - x^5 - x^3 - x + 1),\n",
       " (1.54719696562639,\n",
       "  x^8 - 2*x^7 + 2*x^6 - 3*x^5 + 3*x^4 - 3*x^3 + 2*x^2 - 2*x + 1),\n",
       " (1.55603019132268, x^6 - x^5 - x^4 + x^3 - x^2 - x + 1),\n",
       " (1.58234718368046, x^6 - x^4 - 2*x^3 - x^2 + 1),\n",
       " (1.61803398874989, x^2 - x - 1),\n",
       " (1.63557312992222, x^6 - 2*x^5 + 2*x^4 - 3*x^3 + 2*x^2 - 2*x + 1),\n",
       " (1.64859385517863,\n",
       "  x^12 - 2*x^11 + x^10 - x^9 + x^8 - 2*x^7 + 3*x^6 - 2*x^5 + x^4 - x^3 + x^2 - 2*x + 1),\n",
       " (1.69207764384217,\n",
       "  x^12 - 3*x^11 + 4*x^10 - 5*x^9 + 6*x^8 - 7*x^7 + 7*x^6 - 7*x^5 + 6*x^4 - 5*x^3 + 4*x^2 - 3*x + 1),\n",
       " (1.72208380573905, x^4 - x^3 - x^2 - x + 1),\n",
       " (1.72757204869731,\n",
       "  x^12 - x^10 - x^9 - 2*x^8 - 2*x^7 - x^6 - 2*x^5 - 2*x^4 - x^3 - x^2 + 1),\n",
       " (1.73336396362049, x^12 - x^11 - x^10 - x^7 - x^5 - x^2 - x + 1),\n",
       " (1.781643598608, x^6 - x^5 - x^4 - x^2 - x + 1),\n",
       " (1.80017173933249,\n",
       "  x^8 - 3*x^7 + 4*x^6 - 5*x^5 + 5*x^4 - 5*x^3 + 4*x^2 - 3*x + 1),\n",
       " (1.83107582510231, x^6 - 2*x^5 + x^3 - 2*x + 1),\n",
       " (1.84959921585537, x^8 + x^7 - x^6 - 4*x^5 - 5*x^4 - 4*x^3 - x^2 + x + 1),\n",
       " (1.88320350591353, x^4 - 2*x^3 + x^2 - 2*x + 1),\n",
       " (1.91649826367085, x^8 - x^7 - x^6 - x^5 - x^3 - x^2 - x + 1),\n",
       " (1.94685626827188, x^6 - x^5 - x^4 - x^3 - x^2 - x + 1),\n",
       " (1.95530180508213, x^8 - 2*x^7 - x^5 + 3*x^4 - x^3 - 2*x + 1),\n",
       " (1.96355303898882, x^6 - 2*x^5 - x^4 + 3*x^3 - x^2 - 2*x + 1),\n",
       " (1.97481870829771, x^6 - 2*x^5 + x^4 - 2*x^3 + x^2 - 2*x + 1),\n",
       " (1.98779316684622, x^6 - 2*x^4 - 3*x^3 - 2*x^2 + 1),\n",
       " (2.01103224818394,\n",
       "  x^12 - 2*x^10 - 2*x^9 - x^8 - 3*x^7 - 5*x^6 - 3*x^5 - x^4 - 2*x^3 - 2*x^2 + 1),\n",
       " (2.01854676887552,\n",
       "  x^12 - 3*x^11 + 4*x^10 - 7*x^9 + 9*x^8 - 10*x^7 + 11*x^6 - 10*x^5 + 9*x^4 - 7*x^3 + 4*x^2 - 3*x + 1),\n",
       " (2.02441384179332,\n",
       "  x^12 - 2*x^11 + x^9 - 2*x^8 - x^7 + 2*x^6 - x^5 - 2*x^4 + x^3 - 2*x + 1),\n",
       " (2.04249053394081, x^6 - 3*x^5 + 3*x^4 - 3*x^3 + 3*x^2 - 3*x + 1),\n",
       " (2.06149844119604,\n",
       "  x^12 - x^11 - x^10 - x^9 - 2*x^8 - x^7 - x^6 - x^5 - 2*x^4 - x^3 - x^2 - x + 1),\n",
       " (2.08101899662454, x^4 - x^3 - 2*x^2 - x + 1),\n",
       " (2.12971030981632,\n",
       "  x^12 + x^11 - 2*x^10 - 6*x^9 - 6*x^8 - 3*x^7 - x^6 - 3*x^5 - 6*x^4 - 6*x^3 - 2*x^2 + x + 1),\n",
       " (2.15372137554177, x^4 - 3*x^3 + 3*x^2 - 3*x + 1),\n",
       " (2.19564673649222, x^6 - x^5 - x^4 - 3*x^3 - x^2 - x + 1)]"
      ]
     },
     "execution_count": 45,
     "metadata": {},
     "output_type": "execute_result"
    }
   ],
   "source": [
    "eigenvalues_filtered"
   ]
  },
  {
   "cell_type": "code",
   "execution_count": 46,
   "id": "24538fa2-01ea-4262-adf8-19a110db1183",
   "metadata": {
    "tags": []
   },
   "outputs": [
    {
     "name": "stdout",
     "output_type": "stream",
     "text": [
      " 0: 1.35999971171150\n",
      " 1: 1.40126836793985\n",
      " 2: 1.41810868701378\n",
      " 3: 1.48856532775194\n",
      " 4: 1.50613567955384\n",
      " 5: 1.54719696562639\n",
      " 6: 1.55603019132268\n",
      " 7: 1.58234718368046\n",
      " 8: 1.61803398874989\n",
      " 9: 1.63557312992222\n",
      "10: 1.64859385517863\n",
      "11: 1.69207764384217\n",
      "12: 1.72208380573904\n",
      "13: 1.72757204869729\n",
      "14: 1.73336396362049\n",
      "15: 1.78164359860800\n",
      "16: 1.80017173933249\n",
      "17: 1.83107582510231\n",
      "18: 1.84959921585537\n",
      "19: 1.88320350591353\n",
      "20: 1.91649826367085\n",
      "21: 1.94685626827188\n",
      "22: 1.95530180508213\n",
      "23: 1.96355303898882\n",
      "24: 1.97481870829771\n",
      "25: 1.98779316684622\n",
      "26: 2.01103224818394\n",
      "27: 2.01854676887552\n",
      "28: 2.02441384179332\n",
      "29: 2.04249053394077\n",
      "30: 2.06149844119604\n",
      "31: 2.08101899662454\n",
      "32: 2.12971030981632\n",
      "33: 2.15372137554177\n",
      "34: 2.19564673649222\n"
     ]
    }
   ],
   "source": [
    "lambda_fields = [QQ[AA.polynomial_root(ZZ[x](p), RIF(1,2.5))] for v,p in eigenvalues_filtered]\n",
    "lambdas       = [fld.gen(0) for fld in lambda_fields]\n",
    "lambdas_rif   = [RIF(l) for l in lambdas]\n",
    "\n",
    "for j,l in enumerate(lambdas):\n",
    "    print(f\"{j:>2}: {l.n()}\")"
   ]
  },
  {
   "cell_type": "markdown",
   "id": "66a57d24-ac57-4b81-8ef3-b92c637e5049",
   "metadata": {
    "jp-MarkdownHeadingCollapsed": true
   },
   "source": [
    "## A special eigenvalue"
   ]
  },
  {
   "cell_type": "code",
   "execution_count": 35,
   "id": "65947e66-5a34-4c4e-8a92-6f613a4caff2",
   "metadata": {},
   "outputs": [
    {
     "name": "stdout",
     "output_type": "stream",
     "text": [
      "1.84959921585537\n"
     ]
    }
   ],
   "source": [
    "# Qlam, lam = lambda_fields[18], lambdas[18]\n",
    "Qlam.<lam> = NumberField(x^8+x^7-x^6-4*x^5-5*x^4-4*x^3-x^2+x+1, embedding=1.85)\n",
    "print(lam.n())"
   ]
  },
  {
   "cell_type": "code",
   "execution_count": 36,
   "id": "7580cb12-9cdd-47ab-a95c-cdea405a0ddf",
   "metadata": {},
   "outputs": [],
   "source": [
    "lam_rif = RIF(lam)"
   ]
  },
  {
   "cell_type": "markdown",
   "id": "401329fa-25d9-4d7c-9b5e-308155563267",
   "metadata": {
    "jp-MarkdownHeadingCollapsed": true,
    "tags": []
   },
   "source": [
    "## Tessellation search"
   ]
  },
  {
   "cell_type": "code",
   "execution_count": 37,
   "id": "e4abfb05-a313-432b-a373-3eb22a8a369a",
   "metadata": {
    "tags": []
   },
   "outputs": [],
   "source": [
    "def cosh_dist_bound(x, rad):\n",
    "    \"\"\"\n",
    "    Bounds the translation distance of a certain point under a hyperbolic isometry g\n",
    "    whose axis intersects P, given:\n",
    "        - x:    exp of translation distance of g\n",
    "        - rad:  cosh of the radius of a ball centered on the point\n",
    "                and containing P\n",
    "    Return type:\n",
    "        - real interval with 53 bits of precision\n",
    "    Return value:\n",
    "        - cosh of an upper bound on the translation distance\n",
    "    \"\"\"\n",
    "    return RIF((x+1)^2/(2*x) * rad^2 - 1)"
   ]
  },
  {
   "cell_type": "code",
   "execution_count": 38,
   "id": "a9fdff28-6110-402f-8d9d-f35ac761fdce",
   "metadata": {
    "tags": []
   },
   "outputs": [
    {
     "data": {
      "text/plain": [
       "(5.416999196353712?, 8.88178419700125e-16)"
      ]
     },
     "execution_count": 38,
     "metadata": {},
     "output_type": "execute_result"
    }
   ],
   "source": [
    "COSH_MAXD = cosh_dist_bound(lam, cosh_radius)\n",
    "COSH_MAXD, COSH_MAXD.absolute_diameter()"
   ]
  },
  {
   "cell_type": "code",
   "execution_count": 39,
   "id": "adacac76-4b33-4ea7-a67b-6af7ea96d3f7",
   "metadata": {
    "tags": []
   },
   "outputs": [],
   "source": [
    "def tessellation_search(cosh_maxd, pivot = None, string = False):\n",
    "    \"\"\"\n",
    "    Performs a breadth-first search on the dual graph of the tessellation\n",
    "    of H^5 into copies of P.\n",
    "        - cosh_maxd:   cosh of maximum translation\n",
    "        - pivot:       a normalized point in P, or None for the centroid \"mid\"\n",
    "        - string:      whether to also yield the group element as a word\n",
    "    Yield type: tuple\n",
    "    Yield value:\n",
    "        - an exact matrix\n",
    "        - a RIF matrix\n",
    "        - (if string) a list of integers\n",
    "    \"\"\"\n",
    "    if pivot is None:\n",
    "        pivot = mid\n",
    "    pivot_rif = pivot.change_ring(RIF)\n",
    "    cosh_maxd_phi = cosh_maxd * RIF(phi)\n",
    "    I6 = matrix(identity_matrix(Qphi, 6), immutable=True)\n",
    "    seen = {I6}\n",
    "    q = deque()\n",
    "    \n",
    "    q.append((I6, I6.change_ring(RIF), []) if string else (I6, I6.change_ring(RIF)))\n",
    "    \n",
    "    refl_rif = [r.change_ring(RIF) for r in facet_reflections]\n",
    "    J_rif = Jphi.change_ring(RIF)\n",
    "    idx = 0\n",
    "    s = None\n",
    "\n",
    "    while q:\n",
    "        if idx % 100 == 0:\n",
    "            print(idx, end=\"\\r\", flush=True)\n",
    "            \n",
    "        tup = q.popleft()\n",
    "        yield tup\n",
    "        if string:\n",
    "            m, m_rif, s = tup\n",
    "        else:\n",
    "            m, m_rif = tup\n",
    "            \n",
    "        for j,(r,r_rif) in enumerate(zip(facet_reflections, refl_rif)):\n",
    "            mm = m * r\n",
    "            mm.set_immutable()\n",
    "            if mm in seen:\n",
    "                continue\n",
    "            mm_rif = m_rif * r_rif\n",
    "            v = mm_rif * pivot_rif\n",
    "            if -pivot_rif * J_rif * v > cosh_maxd_phi:\n",
    "                continue\n",
    "            q.append((mm,mm_rif,s+[j]) if string else (mm,mm_rif))\n",
    "            seen.add(mm)\n",
    "        idx += 1\n",
    "    print()"
   ]
  },
  {
   "cell_type": "code",
   "execution_count": 40,
   "id": "d1203114-c56a-49e1-b72c-8eac22f02d54",
   "metadata": {
    "tags": []
   },
   "outputs": [],
   "source": [
    "def is_hyperbolic(m):\n",
    "    \"\"\"Every hyperbolic element has largest eigenvalue > 4/3.\"\"\"\n",
    "    return det(4/3 - m) < 0"
   ]
  },
  {
   "cell_type": "code",
   "execution_count": 41,
   "id": "4578235c-d560-4ef8-8074-92075b7eda7a",
   "metadata": {},
   "outputs": [],
   "source": [
    "def has_eigenvalue(m, eigv):\n",
    "    return det(eigv - m) == 0"
   ]
  },
  {
   "cell_type": "code",
   "execution_count": 42,
   "id": "d0fcdf60-9513-445a-bdd1-e121c0237364",
   "metadata": {},
   "outputs": [],
   "source": [
    "def has_eigenvalue_rif(m, eigv):\n",
    "    return det(eigv - m).contains_zero()"
   ]
  },
  {
   "cell_type": "markdown",
   "id": "3fd59ad4-0124-4a41-9889-04d09078ab88",
   "metadata": {},
   "source": [
    "We now search for hyperbolic isometries of translation length up to $\\log(1.849599\\dots)$, corresponding to `COSH_MAXD`."
   ]
  },
  {
   "cell_type": "code",
   "execution_count": 43,
   "id": "849f7297-eb7d-4d76-b393-362bdb3c4157",
   "metadata": {},
   "outputs": [
    {
     "name": "stdout",
     "output_type": "stream",
     "text": [
      "2592300\n",
      "CPU times: user 50min 4s, sys: 15.6 s, total: 50min 20s\n",
      "Wall time: 50min 24s\n"
     ]
    }
   ],
   "source": [
    "%time geodesics_lam = [m0 for m0, m1 in tessellation_search(COSH_MAXD) if has_eigenvalue_rif(m1, lam_rif)]"
   ]
  },
  {
   "cell_type": "code",
   "execution_count": 44,
   "id": "abc4abd9-78c1-4a0e-805e-43d6ec145df9",
   "metadata": {},
   "outputs": [
    {
     "data": {
      "text/plain": [
       "22080"
      ]
     },
     "execution_count": 44,
     "metadata": {},
     "output_type": "execute_result"
    }
   ],
   "source": [
    "len(geodesics_lam)"
   ]
  },
  {
   "cell_type": "markdown",
   "id": "1ca76ced-83cd-4a14-9bb7-1cafe0d384e3",
   "metadata": {
    "jupyter": {
     "source_hidden": true
    },
    "tags": []
   },
   "source": [
    "The main search, performed for geodesics of length up to $2.153721\\dots$\n",
    "(note the `bounds[-1]`.)\n",
    "\n",
    "Code:\n",
    "```\n",
    "%%time\n",
    "mats_len = [m0 for m0,m1 in bfs_norepr_exact_iterator(bounds[-1]) if check_pos_eigval_exact(m0)]\n",
    "```\n",
    "Output:\n",
    "```\n",
    "3306500\n",
    "CPU times: user 1h 8min 10s, sys: 1min 46s, total: 1h 9min 57s\n",
    "Wall time: 1h 10min 3s\n",
    "```\n",
    "\n",
    "Code:\n",
    "```\n",
    "%time mats_len2 = [m for m in mats_len if det(9/4-m) > 0]\n",
    "```\n",
    "Output:\n",
    "```\n",
    "CPU times: user 7min 3s, sys: 32.3 s, total: 7min 35s\n",
    "Wall time: 7min 36s\n",
    "```\n",
    "\n",
    "We have `(len(mats_len), len(mats_len2)) == (2878944, 293640)`.\n",
    "\n",
    "Saved as:\n",
    "```\n",
    "with open(\"geodesics-2_15372.dat\", \"wb\") as fil:\n",
    "    pickle.dump(mats_len2, fil)\n",
    "```"
   ]
  },
  {
   "cell_type": "markdown",
   "id": "ffe2fc7b-d7fd-40e8-9302-aea6cf179881",
   "metadata": {
    "jp-MarkdownHeadingCollapsed": true
   },
   "source": [
    "## Representatives for isometries up to conjugacy"
   ]
  },
  {
   "cell_type": "code",
   "execution_count": 43,
   "id": "2c8a110b-8c5f-43da-b99f-07205693ba74",
   "metadata": {
    "tags": []
   },
   "outputs": [
    {
     "name": "stdout",
     "output_type": "stream",
     "text": [
      "True\n"
     ]
    }
   ],
   "source": [
    "def facet_prods(pt):\n",
    "    return [pt * Jphi * fn for fn in facet_normals]\n",
    "\n",
    "def facet_signs(pt):\n",
    "    return [sign(pr) for pr in facet_prods(pt)]\n",
    "\n",
    "def inside_fundamental_chamber(pt):\n",
    "    \"\"\"Checks whether pt is in the *closed* fundamental chamber.\"\"\"\n",
    "    return all(pr <= 0 for pr in facet_prods(pt))\n",
    "\n",
    "Jphi_fn_rif = [(Jphi * fn).change_ring(RIF) for fn in facet_normals]\n",
    "def outside_fundamental_chamber_rif(pt):\n",
    "    pt_rif = pt.change_ring(RIF)\n",
    "    return any(pt * v > 0 for v in Jphi_fn_rif)\n",
    "    \n",
    "print(inside_fundamental_chamber(sum(vertices)))"
   ]
  },
  {
   "cell_type": "code",
   "execution_count": 44,
   "id": "7bab4d49-e608-474b-a4cb-69941aa1bc66",
   "metadata": {
    "tags": []
   },
   "outputs": [],
   "source": [
    "def conjugate_axis_intersecting_P(m, eigv = None, axis_coeff = 2, pivot_phi = None, silent=True):\n",
    "    \"\"\"\n",
    "    Returns a conjugate of the hyperbolic isometry m\n",
    "    whose axis intersects P in a nontrivial segment.\n",
    "        - eigv:        largest eigenvalue of m (optional)\n",
    "        - axis_coeff:  used to choose a point q on the axis (default: 2)\n",
    "        - pivot_phi:   a point of P whose distance from q is minimized\n",
    "                       (default: sum of vertices of P)\n",
    "    Return type:\n",
    "        - tuple[matrix, list[int]]\n",
    "    Return value:\n",
    "        - a conjugate matrix m\n",
    "        - a list of indices, corresponding to a word in G: the conjugating element\n",
    "    \"\"\"\n",
    "    if eigv is None:\n",
    "        print(max(m.eigenvalues()))\n",
    "        lam = nf_element(max(m.eigenvalues()))\n",
    "    else:\n",
    "        lam = eigv\n",
    "    k1 = (m-lam).right_kernel().gen(0).n()\n",
    "    k2 = (m-1/lam).right_kernel().gen(0).n()\n",
    "    if k1[0] < 0:\n",
    "        k1 = -k1\n",
    "    if k2[0] < 0:\n",
    "        k2 = -k2\n",
    "        \n",
    "    axis_pt = k1 + k2*axis_coeff\n",
    "    axis_pt = normalize(axis_pt, RDF)\n",
    "    \n",
    "    if pivot_phi is None:\n",
    "        bary_phi = normalize(sum(vertices).n(), RDF)\n",
    "    else:\n",
    "        bary_phi = pivot_phi\n",
    "    \n",
    "    def dist(p):\n",
    "        return acosh(-p * Jphi * bary_phi), p[0] #tuple(acosh(-p * Jphi * verts_phi[j]).n() for j in (0,1,2,3,4,5))\n",
    "    dst = dist(axis_pt)\n",
    "    word = []\n",
    "    EPSILON = 1e-7\n",
    "    while True:\n",
    "        cur = -1\n",
    "        if not silent:\n",
    "            print()\n",
    "            print()\n",
    "            print(dst)\n",
    "            print(facet_signs(axis_pt))\n",
    "        for k,r in enumerate(facet_reflections):\n",
    "            if word and k == word[-1]:\n",
    "                continue\n",
    "            mr = r * m * r\n",
    "            axis_ptr = r * axis_pt\n",
    "            dst2 = dist(axis_ptr)\n",
    "            if not silent:\n",
    "                print(f\"{k} {dst2[0]:.5f} {dst[1]:.2f}\", end = \"\\t\")\n",
    "            if dst2[0] < dst[0] - EPSILON or dst2[0] < dst[0] + EPSILON and dst2[1] < dst[1] - EPSILON:\n",
    "                dst = dst2\n",
    "                newm = mr\n",
    "                new_axis_pt = axis_ptr\n",
    "                cur = k\n",
    "        if cur != -1:\n",
    "            word.append(cur)\n",
    "            m = newm\n",
    "            axis_pt = new_axis_pt\n",
    "        else:\n",
    "            if not silent:\n",
    "                print()\n",
    "                print(f\"Final point on the axis: {axis_pt} @ distance {dst}\")\n",
    "                print(f\"Final signs: {fc_prods(axis_pt)}\")\n",
    "            m.set_immutable()\n",
    "            return (m, word[::-1])"
   ]
  },
  {
   "cell_type": "code",
   "execution_count": 45,
   "id": "600164af-5096-419e-9eba-398a86948c93",
   "metadata": {
    "tags": []
   },
   "outputs": [],
   "source": [
    "def axis_segment_endpoints(ax, silent=True):\n",
    "    \"\"\"\n",
    "    Given a 2-dimensional subspace ax of the scaled hyperboloid model,\n",
    "    intersecting the fundamental chamber P in a nontrivial segment,\n",
    "    returns the two endpoints of this segment.\n",
    "    \"\"\"\n",
    "    inters = [fp.change_ring(ax.base_ring()).intersection(ax) for fp in facet_hyperplanes]\n",
    "    if not silent:\n",
    "        print(\"Dimensions of intersections:\", [sp.dimension() for sp in inters])\n",
    "    \n",
    "    endpoints = set()\n",
    "    for sp in inters:\n",
    "        if sp.dimension() != 1:\n",
    "            continue\n",
    "        pt = sp.gen(0)\n",
    "        pt.set_immutable()\n",
    "        if inside_fundamental_chamber(pt):\n",
    "            endpoints.add(pt)\n",
    "            \n",
    "    if len(endpoints) != 2:\n",
    "        #print(matrix([facet_signs(sp.gen(0)) for sp in inters]))\n",
    "        print(\"Dimensions of intersections:\", [sp.dimension() for sp in inters])\n",
    "        raise ValueError(f\"Found {len(endpoints)} endpoints instead of 2\")\n",
    "    return sorted(endpoints)"
   ]
  },
  {
   "cell_type": "code",
   "execution_count": 46,
   "id": "038d0ea2-fce9-468f-b518-c0db1494b78d",
   "metadata": {
    "tags": []
   },
   "outputs": [],
   "source": [
    "def composite_reflection(pt, silent=True):\n",
    "    supp_facets = [pt * Jphi * fac == 0 for fac in facet_normals]\n",
    "    if not silent:\n",
    "        print(\"\".join(\"abcdefg\"[j] for j,ch in enumerate(supp_facets) if ch))\n",
    "    face = functools.reduce(lambda a,b: a&b, (pl for pl, cond in zip(facet_hyperplanes, supp_facets) if cond))\n",
    "    bm = face.basis_matrix().transpose()\n",
    "    proj = bm * (bm.transpose() * Jphi * bm)^-1 * bm.transpose() * Jphi\n",
    "    return 1 - 2 * proj"
   ]
  },
  {
   "cell_type": "code",
   "execution_count": 47,
   "id": "86743be8-9929-48e4-ae0e-0a1a5d0caaf8",
   "metadata": {
    "tags": []
   },
   "outputs": [],
   "source": [
    "@functools.cache\n",
    "def standardize_intersecting_P(m, eigv, return_points = False, silent = True):\n",
    "    ax = axis(m, eigv)\n",
    "    mats = [m]\n",
    "    pts = axis_segment_endpoints(ax, silent)\n",
    "    while len(pts) <= 2 or pts[-2:] != pts[:2]:\n",
    "        cref = composite_reflection(pts[-1], silent)\n",
    "        if not silent:\n",
    "            print(\"---cref---\")\n",
    "            print(cref)\n",
    "            print()\n",
    "        m = cref * m * cref\n",
    "        m.set_immutable()\n",
    "        mats.append(m)\n",
    "        pts2 = axis_segment_endpoints(axis(m, eigv), silent)\n",
    "        if not silent:\n",
    "            print(f\"> {pts2[0].change_ring(RDF)}\\n> {pts2[1].change_ring(RDF)}\")\n",
    "        xn = [p for p in pts2 if p != pts[-1]]\n",
    "        assert(len(xn) == 1)\n",
    "        if not silent:\n",
    "            print(xn[0].change_ring(RDF))\n",
    "        pts.append(xn[0])\n",
    "        \n",
    "        \n",
    "        if not silent:\n",
    "            for pt in pts:\n",
    "                print(f\">> {pt.change_ring(RDF)}\")\n",
    "                \n",
    "    min_mat = min(mats)\n",
    "    min_mat.set_immutable()\n",
    "    return (min_mat, tuple(pts[:-2])) if return_points else min_mat"
   ]
  },
  {
   "cell_type": "code",
   "execution_count": 48,
   "id": "a2006888-cb36-43ba-81a8-7777d97488d6",
   "metadata": {
    "tags": []
   },
   "outputs": [],
   "source": [
    "def conjugacy_representative(m, eigv = None, return_points = False, silent = True):\n",
    "    if eigv is None:\n",
    "        lam = nf_element(max(m.eigenvalues()))\n",
    "    else:\n",
    "        lam = eigv\n",
    "    m, word = conjugate_axis_intersecting_P(m, lam, silent=silent)\n",
    "    return standardize_intersecting_P(m, lam, return_points=return_points, silent=silent)"
   ]
  },
  {
   "cell_type": "code",
   "execution_count": 51,
   "id": "70ae8557-8156-4ebb-bff6-c63ae9ab4a89",
   "metadata": {
    "scrolled": true
   },
   "outputs": [
    {
     "name": "stdout",
     "output_type": "stream",
     "text": [
      "Done 22080 out of 22080\n",
      "CPU times: user 31min 18s, sys: 14.4 s, total: 31min 33s\n",
      "Wall time: 31min 11s\n"
     ]
    }
   ],
   "source": [
    "%%time\n",
    "geodesics_repr = set()\n",
    "for j, gl in enumerate(geodesics_lam):\n",
    "    geodesics_repr.add(conjugacy_representative(gl, lam))\n",
    "    print(f\"Done {j+1:>4} out of {len(geodesics_lam)}\", end=\"\\r\", flush=True)\n",
    "print()"
   ]
  },
  {
   "cell_type": "code",
   "execution_count": 52,
   "id": "0516f80e-e522-4fb4-b657-af9a845b96ce",
   "metadata": {},
   "outputs": [
    {
     "data": {
      "text/plain": [
       "2"
      ]
     },
     "execution_count": 52,
     "metadata": {},
     "output_type": "execute_result"
    }
   ],
   "source": [
    "len(geodesics_repr)"
   ]
  },
  {
   "cell_type": "code",
   "execution_count": 53,
   "id": "b0f14e08-7f92-4795-830f-f8dd8ed550ab",
   "metadata": {},
   "outputs": [
    {
     "data": {
      "text/plain": [
       "[(\n",
       "   [phi + 1    -phi       0      -1       0       0]\n",
       "   [      0       0       0       0       0       1]\n",
       "   [phi + 1    -phi       0    -phi       0       0]\n",
       "   [      0       0       0       0       1       0]\n",
       "   [    phi    -phi       0       0       0       0]\n",
       "1, [      0       0       1       0       0       0]\n",
       "),\n",
       " (\n",
       "-1,\n",
       "\n",
       "[ 6*phi + 4 -3*phi - 1 -2*phi - 1 -2*phi - 2 -2*phi - 1 -2*phi - 1]\n",
       "[ 3*phi + 2   -phi - 1   -phi - 1   -phi - 1   -phi - 1       -phi]\n",
       "[ 4*phi + 3 -2*phi - 1   -phi - 1 -2*phi - 1   -phi - 1   -phi - 1]\n",
       "[ 3*phi + 2   -phi - 1   -phi - 1   -phi - 1       -phi   -phi - 1]\n",
       "[ 4*phi + 2 -2*phi - 1   -phi - 1   -phi - 1   -phi - 1   -phi - 1]\n",
       "[ 3*phi + 2   -phi - 1       -phi   -phi - 1   -phi - 1   -phi - 1]\n",
       ")]"
      ]
     },
     "execution_count": 53,
     "metadata": {},
     "output_type": "execute_result"
    }
   ],
   "source": [
    "[(m.det(), m) for m in sorted(geodesics_repr)]"
   ]
  },
  {
   "cell_type": "markdown",
   "id": "9fbaabfa-1364-4ed3-9bb1-9502691e6ae2",
   "metadata": {},
   "source": [
    "Up to conjugacy in $\\Gamma$, there is exactly one hyperbolic isometry with largest eigenvalue $1.849599\\dots$ and determinant $1$,\n",
    "corresponding to a _nice geodesic_:"
   ]
  },
  {
   "cell_type": "code",
   "execution_count": 54,
   "id": "aa1b4b4d-bf2f-4992-af50-c1439a79e8ea",
   "metadata": {},
   "outputs": [
    {
     "data": {
      "text/plain": [
       "[phi + 1    -phi       0      -1       0       0]\n",
       "[      0       0       0       0       0       1]\n",
       "[phi + 1    -phi       0    -phi       0       0]\n",
       "[      0       0       0       0       1       0]\n",
       "[    phi    -phi       0       0       0       0]\n",
       "[      0       0       1       0       0       0]"
      ]
     },
     "execution_count": 54,
     "metadata": {},
     "output_type": "execute_result"
    }
   ],
   "source": [
    "nice_geodesic1 = sorted(geodesics_repr)[0]\n",
    "nice_geodesic1"
   ]
  },
  {
   "cell_type": "markdown",
   "id": "d53e9eb2-b1bf-4498-94a9-81b4501e8af5",
   "metadata": {},
   "source": [
    "Here is a cached result to skip the computation:"
   ]
  },
  {
   "cell_type": "code",
   "execution_count": 49,
   "id": "81ef5bf4-2cf9-4b11-ab0a-66feffc5b201",
   "metadata": {},
   "outputs": [],
   "source": [
    "nice_geodesic1 = matrix(Qphi, 6, 6, [\n",
    "    [phi + 1,   -phi,      0,     -1,      0,      0],\n",
    "    [      0,      0,      0,      0,      0,      1],\n",
    "    [phi + 1,   -phi,      0,   -phi,      0,      0],\n",
    "    [      0,      0,      0,      0,      1,      0],\n",
    "    [    phi,   -phi,      0,      0,      0,      0],\n",
    "    [      0,      0,      1,      0,      0,      0]\n",
    "], immutable=True)"
   ]
  },
  {
   "cell_type": "code",
   "execution_count": 50,
   "id": "6eed9288-ab60-43fd-b69d-4a80910f6e75",
   "metadata": {},
   "outputs": [
    {
     "data": {
      "text/plain": [
       "True"
      ]
     },
     "execution_count": 50,
     "metadata": {},
     "output_type": "execute_result"
    }
   ],
   "source": [
    "G_matrix((b*d*a*c*e)^2) == nice_geodesic1"
   ]
  },
  {
   "cell_type": "markdown",
   "id": "96fdb457-ca93-4805-85cd-8146afde3260",
   "metadata": {},
   "source": [
    "Every Long manifold has a nice geodesic:"
   ]
  },
  {
   "cell_type": "code",
   "execution_count": 51,
   "id": "ca63ceb4-4c19-4e22-b3dd-cfb5c4eb09fd",
   "metadata": {},
   "outputs": [
    {
     "data": {
      "text/plain": [
       "[True, True, True, True, True, True, True, True]"
      ]
     },
     "execution_count": 51,
     "metadata": {},
     "output_type": "execute_result"
    }
   ],
   "source": [
    "[G((b*d*a*c*e)^2) in sg for sg in SGs]"
   ]
  },
  {
   "cell_type": "code",
   "execution_count": 56,
   "id": "aa8aeb64-afa8-40a5-aeee-512db55bab86",
   "metadata": {
    "jupyter": {
     "source_hidden": true
    },
    "tags": []
   },
   "outputs": [],
   "source": [
    "def word_search(m, silent=True):\n",
    "    mid_phi = sum(P^-1*v for v in vertsH).change_ring(RDF)\n",
    "    mid_phi = mid_phi / sqrt(-mid_phi * Jphi * mid_phi / phi.n())\n",
    "    def dist(m):\n",
    "        return acosh(-mid_phi * Jphi * m.change_ring(RDF) * mid_phi)\n",
    "    dst = dist(m)\n",
    "    word = []\n",
    "    end1 = 5\n",
    "    while True:\n",
    "        cur = -1\n",
    "        if not silent:\n",
    "            print()\n",
    "            print(dst.n())\n",
    "        for k,r in enumerate(refl_phi[:end1]):\n",
    "            mr = m * r\n",
    "            dst2 = dist(mr)\n",
    "            if not silent:\n",
    "                print(k,dst2.n())\n",
    "            if dst2 is not None and dst2.n() < dst.n():\n",
    "                dst = dst2\n",
    "                newm = mr\n",
    "                cur = k\n",
    "        if cur != -1:\n",
    "            word.append(cur)\n",
    "            m = newm\n",
    "        elif end1 == 5:\n",
    "            end1 = 7\n",
    "        else:\n",
    "            if not silent:\n",
    "                print()\n",
    "            return (m, word[::-1])"
   ]
  },
  {
   "cell_type": "markdown",
   "id": "1364d61d-8be3-4aed-9adc-59d2e6e2803a",
   "metadata": {
    "jp-MarkdownHeadingCollapsed": true
   },
   "source": [
    "## Nice pairs"
   ]
  },
  {
   "cell_type": "markdown",
   "id": "23aa0884-6e28-43d6-bd4d-c9ec056777b4",
   "metadata": {},
   "source": [
    "Two nice geodesics $\\gamma_1, \\gamma_2$ in $\\mathbb H^5$ form a _nice pair_ if their distance is $\\cosh^{-1}(3 + \\sqrt{5}) = 2.339472\\dots$ \\\n",
    "and, if $S$ is the segment realizing their distance and $\\pi \\colon \\mathbb H^5 \\to \\mathbb H^4$ is an orthogonal projection along $S$, \\\n",
    "then $\\pi(\\gamma_1), \\pi(\\gamma_2)$ make an angle of $\\cos^{-1}\\left[\\frac{1}{\\sqrt{29}}\\sqrt{22-2\\sqrt{5}}\\right] \\sim 38.97^\\circ$."
   ]
  },
  {
   "cell_type": "code",
   "execution_count": 52,
   "id": "6544b1ce-b6a7-422b-86f8-4b62d513a2fe",
   "metadata": {
    "tags": []
   },
   "outputs": [],
   "source": [
    "def image_vector_space(m, vs):\n",
    "    \"\"\"Returns the image of the vector space vs through the matrix m.\"\"\"\n",
    "    return span(m*v for v in vs.basis_matrix())"
   ]
  },
  {
   "cell_type": "code",
   "execution_count": 53,
   "id": "14f47a1f-d178-4948-ac14-d64704e010a6",
   "metadata": {
    "tags": []
   },
   "outputs": [],
   "source": [
    "def midplane_reflection(v1,v2, ring=AA):\n",
    "    \"\"\"\n",
    "    Returns the reflection in the mid-plane of v1, v2.\n",
    "        - v1, v2 are 1-dimensional vector spaces.\n",
    "    \"\"\"\n",
    "    v1v2orth = ((v1+v2).basis_matrix() * Jphi).right_kernel().basis_matrix()\n",
    "    V1 = v1.basis_matrix()\n",
    "    V2 = v2.basis_matrix()\n",
    "    bas = block_matrix([[V1], [V2], [v1v2orth]], subdivide=False).transpose()\n",
    "    #print(bas.change_ring(RDF))\n",
    "    w1 = V1.row(0)\n",
    "    w2 = V2.row(0)\n",
    "    ratio = sqrt((w1 * Jphi * w1)/(w2 * Jphi * w2))\n",
    "    isometry = block_diagonal_matrix([matrix(ring, [[0,1/ratio],[ratio,0]])] + [matrix([[1]])]*4, subdivide=False)\n",
    "    return bas * isometry * bas^-1"
   ]
  },
  {
   "cell_type": "code",
   "execution_count": 54,
   "id": "6aff3318-a2ce-4832-903c-86dce36bfcec",
   "metadata": {
    "tags": []
   },
   "outputs": [],
   "source": [
    "def spectrum_double_projection_nontriv(p1, p2):\n",
    "    ab = orthogonal_projection(p1.basis_matrix().transpose()) * orthogonal_projection(p2.basis_matrix().transpose())\n",
    "    return ab.eigenvalues()"
   ]
  },
  {
   "cell_type": "code",
   "execution_count": 55,
   "id": "8dead238-ebb0-4035-aacc-a5d085bec0ca",
   "metadata": {
    "tags": []
   },
   "outputs": [],
   "source": [
    "def least_distance_point(p1, p2):\n",
    "    \"\"\"Returns the point of p1 which realizes the least distance from p2, as a 1-dimensional vector space.\"\"\"\n",
    "    ab = double_projection(p1, p2)\n",
    "    eig = max(max(ab.eigenvalues()), 1)\n",
    "    return (ab-eig).right_kernel()"
   ]
  },
  {
   "cell_type": "markdown",
   "id": "cd7b672e-1d51-4c89-b67a-ada05139b81d",
   "metadata": {},
   "source": [
    "Every Long manifold has a nice pair, involving the axes of $(bdace)^2$ and \\\n",
    "$babc(ba)^2cbdcbe(dc(ba)^2cbabc)^2dcedc(ba)^2cbabcdc(ba)^2cbabdcbabcdedc(ba)^2cb$:"
   ]
  },
  {
   "cell_type": "code",
   "execution_count": 56,
   "id": "64df03b7-1159-4c66-ae7b-ceac61907b67",
   "metadata": {},
   "outputs": [
    {
     "name": "stdout",
     "output_type": "stream",
     "text": [
      "[True, True, True, True, True, True, True, True]\n"
     ]
    }
   ],
   "source": [
    "print([G(free_word(\"babcbabacbdcbedcbabacbabcdcbabacbabcdcedcbabacbabcdcbabacbabdcbabcdedcbabacb\")) in sg for sg in SGs])"
   ]
  },
  {
   "cell_type": "code",
   "execution_count": 57,
   "id": "bacdd297-fd4a-4ced-89f6-57172fe8512e",
   "metadata": {},
   "outputs": [],
   "source": [
    "nice_geodesic2 = G_matrix(\"babcbabacbdcbedcbabacbabcdcbabacbabcdcedcbabacbabcdcbabacbabdcbabcdedcbabacb\")"
   ]
  },
  {
   "cell_type": "code",
   "execution_count": 58,
   "id": "5cea62bf-5377-4254-8c23-b40e21648d2a",
   "metadata": {},
   "outputs": [
    {
     "data": {
      "text/plain": [
       "True"
      ]
     },
     "execution_count": 58,
     "metadata": {},
     "output_type": "execute_result"
    }
   ],
   "source": [
    "conjugacy_representative(nice_geodesic2) == nice_geodesic1"
   ]
  },
  {
   "cell_type": "code",
   "execution_count": 59,
   "id": "e27171ad-35a7-4d25-9036-3084a09b8df5",
   "metadata": {},
   "outputs": [],
   "source": [
    "axis1 = axis(nice_geodesic1, lam)\n",
    "axis2 = axis(nice_geodesic2, lam)"
   ]
  },
  {
   "cell_type": "code",
   "execution_count": 60,
   "id": "9d417005-59a9-455a-b1fd-654b12deb030",
   "metadata": {},
   "outputs": [
    {
     "data": {
      "text/plain": [
       "False"
      ]
     },
     "execution_count": 60,
     "metadata": {},
     "output_type": "execute_result"
    }
   ],
   "source": [
    "axis1 == axis2"
   ]
  },
  {
   "cell_type": "code",
   "execution_count": 61,
   "id": "af7678b4-4fe7-45f0-8f56-0997a5ac1c22",
   "metadata": {},
   "outputs": [
    {
     "data": {
      "text/plain": [
       "2*phi + 2"
      ]
     },
     "execution_count": 61,
     "metadata": {},
     "output_type": "execute_result"
    }
   ],
   "source": [
    "cosh_dist_axes = Qphi(cosh_dist_hyperbolic_flats(axis1, axis2))\n",
    "cosh_dist_axes"
   ]
  },
  {
   "cell_type": "code",
   "execution_count": 62,
   "id": "c060765e-fb37-4fdf-ba40-3411919a2a29",
   "metadata": {},
   "outputs": [],
   "source": [
    "ldp1 = least_distance_point(axis1, axis2)\n",
    "ldp2 = least_distance_point(axis2, axis1)"
   ]
  },
  {
   "cell_type": "code",
   "execution_count": 63,
   "id": "578a136d-7a50-448a-8111-5d96517cd07b",
   "metadata": {},
   "outputs": [],
   "source": [
    "refl_ldp = midplane_reflection(ldp1, ldp2)"
   ]
  },
  {
   "cell_type": "code",
   "execution_count": 64,
   "id": "0d111a99-4aa4-4879-ace7-e63d919c93b7",
   "metadata": {},
   "outputs": [],
   "source": [
    "axis2_1 = image_vector_space(refl_ldp, axis2)"
   ]
  },
  {
   "cell_type": "code",
   "execution_count": 65,
   "id": "ab52324e-2df3-4925-ad67-9449469b79f5",
   "metadata": {},
   "outputs": [
    {
     "data": {
      "text/plain": [
       "sqrt(-2/29*sqrt(5) + 22/29)"
      ]
     },
     "execution_count": 65,
     "metadata": {},
     "output_type": "execute_result"
    }
   ],
   "source": [
    "cos_angle_hyperbolic_flats(axis1, axis2_1).radical_expression()"
   ]
  },
  {
   "cell_type": "markdown",
   "id": "e077ad65-d9f9-4e46-8bae-3d6e277b222f",
   "metadata": {
    "jp-MarkdownHeadingCollapsed": true
   },
   "source": [
    "## Searching for nice pairs"
   ]
  },
  {
   "cell_type": "markdown",
   "id": "d8c0faf6-35a5-4e03-9639-e1f9076c3f4c",
   "metadata": {},
   "source": [
    "We now show that there is only one $\\Gamma$-orbit of nice pairs.\\\n",
    "Let $x$ be a point on a nice geodesic $\\gamma$ (axis of $(abcde)^2$) and let $\\gamma'$ make a nice pair with $\\gamma$. \\\n",
    "Write $\\gamma' = h(\\gamma)$ for some $h \\in \\Gamma$. \\\n",
    "Let $y$ be the point of $\\gamma$ nearest to $\\gamma'$ and let $y'$ be the point of $\\gamma'$ nearest to $\\gamma$. \\\n",
    "Let $D = d(x, y), D' = d(y', h(x))$. Up to conjugacy (i.e. translating $\\gamma'$ with the appropriate conjugates of $bdace \\in \\Gamma$), \\\n",
    "we may assume $D, D' \\le \\frac{1}{4} \\log(1.849599\\dots)$. (The translation distance of $bdace$ is $\\frac{1}{2} \\log(1.849599\\dots)$.)\n",
    "\n",
    "Now $d(x, h(x))$ is the distance between the endpoints of a chain of $3$-segments (of lengths $D$, $\\cosh^{-1}(3 + \\sqrt{5})$, $D'$),\n",
    "meeting at right angles. \\\n",
    "This is bounded by $2\\cdot \\mathrm{pyth}\\left(\\frac{1}{4} \\log(1.849599\\dots), \\frac{1}{2} \\cosh^{-1}(3 + \\sqrt{5})\\right)$. \\\n",
    "The bound is not tight as it does not take into account the $38.97^\\circ$ angle between the two geodesics."
   ]
  },
  {
   "cell_type": "code",
   "execution_count": 66,
   "id": "6a72bccc-f5d0-4050-867b-ca8e40727d78",
   "metadata": {},
   "outputs": [],
   "source": [
    "COSH_MAXD_AXES = cosh(2*acosh(cosh(log(RIF(lam))/4) * cosh(acosh(RIF(cosh_dist_axes))/2)))"
   ]
  },
  {
   "cell_type": "code",
   "execution_count": 67,
   "id": "0b25bd43-087a-4899-85ba-19b2f28f70a7",
   "metadata": {},
   "outputs": [
    {
     "data": {
      "text/plain": [
       "(5.38463291992559?, 1.24344978758018e-14)"
      ]
     },
     "execution_count": 67,
     "metadata": {},
     "output_type": "execute_result"
    }
   ],
   "source": [
    "COSH_MAXD_AXES, COSH_MAXD_AXES.absolute_diameter()"
   ]
  },
  {
   "cell_type": "code",
   "execution_count": 81,
   "id": "2ead7784-11db-4062-befd-84a3f5adc0b0",
   "metadata": {},
   "outputs": [],
   "source": [
    "pivot_axis = normalize(axis_segment_endpoints(axis1)[0])\n",
    "pivot_rif = pivot_axis.change_ring(RIF)"
   ]
  },
  {
   "cell_type": "code",
   "execution_count": 75,
   "id": "af204e3c-4abf-40ff-a46c-9e5e1a13c533",
   "metadata": {},
   "outputs": [
    {
     "data": {
      "text/plain": [
       "0.307484487771101?"
      ]
     },
     "execution_count": 75,
     "metadata": {},
     "output_type": "execute_result"
    }
   ],
   "source": [
    "acosh(RIF(cosh_dist(normalize(axis_segment_endpoints(axis1)[0]), normalize(ldp1.gen(0)))))"
   ]
  },
  {
   "cell_type": "code",
   "execution_count": 76,
   "id": "13895a5d-ff3e-419f-ac8d-830e0eaf9df9",
   "metadata": {},
   "outputs": [
    {
     "data": {
      "text/plain": [
       "0.461226731656651?"
      ]
     },
     "execution_count": 76,
     "metadata": {},
     "output_type": "execute_result"
    }
   ],
   "source": [
    "acosh(RIF(cosh_dist(normalize(axis_segment_endpoints(axis1)[1]), normalize(ldp1.gen(0)))))"
   ]
  },
  {
   "cell_type": "code",
   "execution_count": 77,
   "id": "df07e311-1429-4c06-a4d0-203e5ff5f51f",
   "metadata": {},
   "outputs": [
    {
     "data": {
      "text/plain": [
       "0.153742243885550?"
      ]
     },
     "execution_count": 77,
     "metadata": {},
     "output_type": "execute_result"
    }
   ],
   "source": [
    "acosh(RIF(cosh_dist(normalize(axis_segment_endpoints(axis1)[1]), normalize(axis_segment_endpoints(axis1)[0]))))"
   ]
  },
  {
   "cell_type": "code",
   "execution_count": 80,
   "id": "c4668a6e-8ddd-4a31-8dab-d41e4444d434",
   "metadata": {},
   "outputs": [
    {
     "data": {
      "text/plain": [
       "0.461226731656651?"
      ]
     },
     "execution_count": 80,
     "metadata": {},
     "output_type": "execute_result"
    }
   ],
   "source": [
    "3/4 * log(lam_rif)"
   ]
  },
  {
   "cell_type": "markdown",
   "id": "63fbe05d-b232-401e-89fd-2b81a1b50bdf",
   "metadata": {},
   "source": [
    "To avoid memory issues, we pre-filter the conjugators via a distance test, carried out in the real interval field."
   ]
  },
  {
   "cell_type": "code",
   "execution_count": 157,
   "id": "67c7a0ac-db3d-4a24-a149-d734b0b7e8b5",
   "metadata": {},
   "outputs": [],
   "source": [
    "def cosh_squared_dist_test(ortho, m, dsq):\n",
    "    \"\"\"\n",
    "    Returns False if dsq cannot represent the squared hyperbolic cosine of the distance between line and m(line).\n",
    "        - ortho:       orthogonal projection onto a subspace (RIF)\n",
    "        - m:           isometry (exact)\n",
    "        - dsq:         value of cosh(dist)^2 to test\n",
    "    Return type:\n",
    "        - bool\n",
    "    \"\"\"\n",
    "    ab = ortho * m * ortho * m^-1\n",
    "    return det(ab.change_ring(RIF) - dsq).contains_zero()"
   ]
  },
  {
   "cell_type": "code",
   "execution_count": 83,
   "id": "da07099f-dc8b-4319-9b40-6e898260c57c",
   "metadata": {},
   "outputs": [],
   "source": [
    "ortho_rif = orthogonal_projection(axis1.basis_matrix().transpose()).change_ring(RIF)"
   ]
  },
  {
   "cell_type": "code",
   "execution_count": 84,
   "id": "4e0e7d4c-0432-4c23-ad33-7cd234afb5c8",
   "metadata": {},
   "outputs": [],
   "source": [
    "cosh_dist_axes_phi_rif = RIF(cosh_dist_axes * phi)\n",
    "cosh_dist_axes_squared = cosh_dist_axes^2"
   ]
  },
  {
   "cell_type": "code",
   "execution_count": 102,
   "id": "591a807f-d56b-4aef-a641-f0fa2aab61bf",
   "metadata": {},
   "outputs": [
    {
     "name": "stdout",
     "output_type": "stream",
     "text": [
      "2883700\n",
      "CPU times: user 50min 55s, sys: 26.2 s, total: 51min 21s\n",
      "Wall time: 51min 32s\n"
     ]
    }
   ],
   "source": [
    "%%time\n",
    "conjugators_filtered = [\n",
    "    (m0, s) for m0, m1, s in tessellation_search(COSH_MAXD_AXES, pivot=pivot_axis, string=True)\n",
    "        if not -pivot_rif * Jphi * m1 * pivot_rif < cosh_dist_axes_phi_rif      # pivot_axis is translated by at least acosh(3 + sqrt(5))\n",
    "        and cosh_squared_dist_test(ortho_rif, m0, cosh_dist_axes_squared)       # distance of axes is compatible with acosh(3 + sqrt(5))\n",
    "]"
   ]
  },
  {
   "cell_type": "code",
   "execution_count": 103,
   "id": "ca863917-0486-487f-bed3-0978e44e5fa6",
   "metadata": {},
   "outputs": [
    {
     "data": {
      "text/plain": [
       "334"
      ]
     },
     "execution_count": 103,
     "metadata": {},
     "output_type": "execute_result"
    }
   ],
   "source": [
    "len(conjugators_filtered)"
   ]
  },
  {
   "cell_type": "code",
   "execution_count": 104,
   "id": "04136967-e88e-4826-bb05-d4c6df48a686",
   "metadata": {},
   "outputs": [
    {
     "name": "stdout",
     "output_type": "stream",
     "text": [
      "CPU times: user 4.32 s, sys: 56.3 ms, total: 4.38 s\n",
      "Wall time: 4.55 s\n"
     ]
    }
   ],
   "source": [
    "%%time\n",
    "conjugators = [(m0, s) for m0, s in conjugators_filtered\n",
    "                    if RIF(cosh_dist_hyperbolic_flats(axis1, image_vector_space(m0, axis1)) - cosh_dist_axes).contains_zero()]"
   ]
  },
  {
   "cell_type": "code",
   "execution_count": 107,
   "id": "e8cf4a61-acff-4eaf-aaa5-7a0d90898c5a",
   "metadata": {},
   "outputs": [
    {
     "data": {
      "text/plain": [
       "16"
      ]
     },
     "execution_count": 107,
     "metadata": {},
     "output_type": "execute_result"
    }
   ],
   "source": [
    "len(conjugators)"
   ]
  },
  {
   "cell_type": "markdown",
   "id": "bdd083a0-ae00-41e2-972b-be7ec6c6e16f",
   "metadata": {},
   "source": [
    "All these conjugators produce valid nice pairs:"
   ]
  },
  {
   "cell_type": "code",
   "execution_count": 109,
   "id": "b3e07a1a-4b0d-4937-9eb4-86717c7a874a",
   "metadata": {},
   "outputs": [
    {
     "name": "stdout",
     "output_type": "stream",
     "text": [
      "CPU times: user 168 ms, sys: 7 μs, total: 168 ms\n",
      "Wall time: 168 ms\n"
     ]
    }
   ],
   "source": [
    "%%time\n",
    "assert(all(cosh_dist_hyperbolic_flats(axis1, image_vector_space(m0, axis1)) == cosh_dist_axes for m0, s in conjugators))"
   ]
  },
  {
   "cell_type": "markdown",
   "id": "cb30f16f-a571-4415-9cf3-2ed3c54c1840",
   "metadata": {
    "jp-MarkdownHeadingCollapsed": true
   },
   "source": [
    "## Nice planes"
   ]
  },
  {
   "cell_type": "markdown",
   "id": "0bb0e982-b0ec-4ce9-a35e-63e8c253c6e3",
   "metadata": {},
   "source": [
    "These conjugators come in pairs $h, h\\cdot g$. \\\n",
    "This is to be expected, since nice pairs are contained in the preimage of facet $g$ in $\\mathbb H^5$."
   ]
  },
  {
   "cell_type": "code",
   "execution_count": 113,
   "id": "921c94af-5e74-4859-ba43-c1543302e680",
   "metadata": {
    "tags": []
   },
   "outputs": [
    {
     "data": {
      "text/plain": [
       "['ababacbabadcbabacbabcdcbabacbdcedcbabcde',\n",
       " 'ababacbabadcbabacbabcdcbabacbdcedcbabcdeg',\n",
       " 'ababacbabadcbabacbabdcbabacbdcedcbabcde',\n",
       " 'ababacbabadcbabacbabdcbabacbdcedcbabcdeg',\n",
       " 'ababcbabadcbabacbabcdcbabacbdcedcbabcde',\n",
       " 'ababcbabadcbabacbabcdcbabacbdcedcbabcdeg',\n",
       " 'ababcbabadcbabacbabdcbabacbdcedcbabcde',\n",
       " 'ababcbabadcbabacbabdcbabacbdcedcbabcdeg',\n",
       " 'bcbdcbedcbabacbabdcbabaedcbabacbabdcbaba',\n",
       " 'bcbdcbedcbabacbabdcbabaedcbabacbabdcbabag',\n",
       " 'bcbdcedcbabacbabdcbabaedcbabacbabdcbaba',\n",
       " 'bcbdcedcbabacbabdcbabaedcbabacbabdcbabag',\n",
       " 'cbdcbedcbabacbabdcbabaedcbabacbabdcbaba',\n",
       " 'cbdcbedcbabacbabdcbabaedcbabacbabdcbabag',\n",
       " 'cbdcedcbabacbabdcbabaedcbabacbabdcbaba',\n",
       " 'cbdcedcbabacbabdcbabaedcbabacbabdcbabag']"
      ]
     },
     "execution_count": 113,
     "metadata": {},
     "output_type": "execute_result"
    }
   ],
   "source": [
    "sorted([\"\".join([\"abcdefg\"[j] for j in s]) for m0, s in conjugators])"
   ]
  },
  {
   "cell_type": "markdown",
   "id": "5c62b8cd-c3c4-439d-9024-32c673eb4204",
   "metadata": {},
   "source": [
    "Every geodesic forming a nice pair with the axis of $(bdace)^2$ is the axis of\n",
    "$k (bdace)^2 k^{-1}$, \\\n",
    "with $k = (bdace)^n \\cdot h \\cdot (bdace)^m$ for some $h$ in `conjugators` and some $m,n \\in \\mathbb Z$.\n",
    "\n",
    "Without loss of generality, we may assume $h \\in G$ (i.e. it does not end with $g$) and $m = 0$. \\\n",
    "Hence, the other geodesic in a nice pair is the axis of an element of $G$. \\\n",
    "Furthermore, any nice pair in $N_{i,I}^\\pm$ must be contained in one of the two embedded copies of the Long manifold $Z_i$ or one of the 30 embedded copies of its $17$-fold cover $X_i$.\n",
    "\n",
    "The latter case may be excluded, since the fundamental group $\\pi_1(X_i)$ is contained in $K$ (normal of index $979200$ in $\\Gamma$), which does not contain $(bdace)^2$:"
   ]
  },
  {
   "cell_type": "code",
   "execution_count": 121,
   "id": "14a30333-1624-4e56-816a-a94fccee0c0e",
   "metadata": {},
   "outputs": [
    {
     "name": "stdout",
     "output_type": "stream",
     "text": [
      "False\n"
     ]
    }
   ],
   "source": [
    "actK = libgap.FactorCosetAction(G, G.subgroup([a, c, e, d*e*c*d, b*a*c*b*a*b]))\n",
    "K = libgap.Kernel(actK)\n",
    "print(G(b*d*a*c*e)^2 in K)"
   ]
  },
  {
   "cell_type": "markdown",
   "id": "5ee08a61-0a4c-4e71-a010-14b249a29427",
   "metadata": {},
   "source": [
    "Define a graph $\\mathcal G$ as follows. \n",
    "The vertices are nice geodesics in $\\mathbb H^5$, and two vertices are connected by an edge if they form a nice pair.\n",
    "\n",
    "We now show that the span of each connected component is a $3$-dimensional subspace of $\\mathbb H^5$: a _nice plane_. \\\n",
    "(If we instead consider the induced subgraph $\\mathcal G_{i,I}^\\pm$ on the lifts of nice geodesics of a fixed $N_{i,I}^\\pm$, then the spans of connected components are _contained_ in nice planes.)\n",
    "\n",
    "To do so, we show that the nice geodesic $(bdace)^2$, and all its neighbors $(bdace)^n h (bdace)^2 h^{-1} (bdace)^{-n}$, \\\n",
    "span a $3$-dimensional subspace of $\\mathbb H^5$, i.e. a $4$-dimensional subspace of $\\mathbb R^{5,1}$. \\\n",
    "It suffices to find the span $\\Pi_3$ of $(bdace)^2$ and all $h (bdace)^2 h^{-1}$, and check that $\\Pi_3$ is invariant for $bdace$.\n",
    "\n",
    "The set of nice planes is the $\\Gamma$-orbit of $\\Pi_3$."
   ]
  },
  {
   "cell_type": "code",
   "execution_count": 135,
   "id": "5d91a85d-c761-431a-bfa7-1d154935eb03",
   "metadata": {},
   "outputs": [
    {
     "data": {
      "text/plain": [
       "Vector space of degree 6 and dimension 4 over Number Field in phi with defining polynomial x^2 - x - 1 with phi = 1.618033988749895?\n",
       "Basis matrix:\n",
       "[  1   0   0   0   1 phi]\n",
       "[  0   1   0   0   0  -1]\n",
       "[  0   0   1   0   0  -1]\n",
       "[  0   0   0   1  -1   0]"
      ]
     },
     "execution_count": 135,
     "metadata": {},
     "output_type": "execute_result"
    }
   ],
   "source": [
    "Pi_3 = (axis1 + sum(axis(m0 * nice_geodesic1 * m0^-1, lam) for m0, s in conjugators)).change_ring(Qphi)\n",
    "Pi_3"
   ]
  },
  {
   "cell_type": "code",
   "execution_count": 136,
   "id": "b7d35ecf-4f91-43d8-83d9-c36b56a319c0",
   "metadata": {},
   "outputs": [
    {
     "data": {
      "text/plain": [
       "True"
      ]
     },
     "execution_count": 136,
     "metadata": {},
     "output_type": "execute_result"
    }
   ],
   "source": [
    "image_vector_space(G_matrix(b*d*a*c*e), Pi_3) == Pi_3"
   ]
  },
  {
   "cell_type": "code",
   "execution_count": 137,
   "id": "425bd64c-6448-4333-9896-feaec7d5a82a",
   "metadata": {},
   "outputs": [
    {
     "data": {
      "text/plain": [
       "True"
      ]
     },
     "execution_count": 137,
     "metadata": {},
     "output_type": "execute_result"
    }
   ],
   "source": [
    "Pi_3 == (axis1 + axis2).change_ring(Qphi)"
   ]
  },
  {
   "cell_type": "markdown",
   "id": "2632c99c-fe97-4f78-b318-93b010a09a85",
   "metadata": {},
   "source": [
    "This provides a simpler description of $\\Pi_3$, and also shows that there exists\n",
    "a connected component of $\\mathcal G_{i,I}^\\pm$ whose span is a whole nice plane."
   ]
  },
  {
   "cell_type": "markdown",
   "id": "c4aafda4-58fb-436e-b7b6-0e478724fcf6",
   "metadata": {
    "jp-MarkdownHeadingCollapsed": true
   },
   "source": [
    "## Recovering the $Z_i$"
   ]
  },
  {
   "cell_type": "markdown",
   "id": "96e094c1-f399-498d-89e6-97a60a08806a",
   "metadata": {},
   "source": [
    "We now search for pairs of nice planes at a distance of $\\cosh^{-1} \\frac{1}{11}(17 + 4\\sqrt{5}) = 1.502888\\dots$. \\\n",
    "We show that this distance can only occur between two nice hyperplanes in the same lift of $Z_i$.\n",
    "\n",
    "Let the facet $g$ be contained in a ball $B(x, r)$. Then we only need to search the tessellation up to \\\n",
    "$2\\cdot \\mathrm{pyth}\\left(r, \\frac 12 \\cosh^{-1} \\frac{1}{11}(17 + 4\\sqrt{5})\\right).$"
   ]
  },
  {
   "cell_type": "code",
   "execution_count": 161,
   "id": "25bbb6af-1eb8-4c36-8dbb-9d32020c0645",
   "metadata": {},
   "outputs": [
    {
     "data": {
      "text/plain": [
       "2.35857017363629"
      ]
     },
     "execution_count": 161,
     "metadata": {},
     "output_type": "execute_result"
    }
   ],
   "source": [
    "cosh_dist_planes = Qphi((17 + 4*sqrt(5))/11)\n",
    "cosh_dist_planes_squared = cosh_dist_planes^2\n",
    "cosh_dist_planes.n()"
   ]
  },
  {
   "cell_type": "markdown",
   "id": "0370e4a8-70e7-444a-b5c8-394f057e1707",
   "metadata": {},
   "source": [
    "A special point on facet $g$, minimizing the distance from its furthest vertex:"
   ]
  },
  {
   "cell_type": "code",
   "execution_count": 152,
   "id": "75d8cb9b-58e5-4d23-b4b4-dd9e7203f3d9",
   "metadata": {
    "tags": []
   },
   "outputs": [],
   "source": [
    "mid59 = midpoint(vertices[5], vertices[9])"
   ]
  },
  {
   "cell_type": "code",
   "execution_count": 154,
   "id": "10bd0186-07a0-4683-8b9a-1a4b2db4b353",
   "metadata": {},
   "outputs": [
    {
     "data": {
      "text/plain": [
       "1.203001910015092?"
      ]
     },
     "execution_count": 154,
     "metadata": {},
     "output_type": "execute_result"
    }
   ],
   "source": [
    "facet_g_radius = max(cosh_dist(mid59, v) for v in vertices[5:])\n",
    "facet_g_radius"
   ]
  },
  {
   "cell_type": "code",
   "execution_count": 156,
   "id": "818f1ab1-d767-48ca-94e6-a2472db08d26",
   "metadata": {
    "tags": []
   },
   "outputs": [
    {
     "data": {
      "text/plain": [
       "(3.86056841672709?, 8.88178419700125e-15)"
      ]
     },
     "execution_count": 156,
     "metadata": {},
     "output_type": "execute_result"
    }
   ],
   "source": [
    "COSH_MAXD_PLANES = cosh(2 * acosh(\n",
    "                          cosh(acosh(RIF(cosh_dist_planes))/2) \n",
    "                        * RIF(facet_g_radius)\n",
    "                        ))\n",
    "COSH_MAXD_PLANES, COSH_MAXD_PLANES.absolute_diameter()"
   ]
  },
  {
   "cell_type": "code",
   "execution_count": 159,
   "id": "bfb9d6c3-eb24-46b8-b0e2-fa95180e6cc2",
   "metadata": {},
   "outputs": [],
   "source": [
    "ortho_Pi_3_rif = orthogonal_projection(Pi_3.basis_matrix().transpose()).change_ring(RIF)"
   ]
  },
  {
   "cell_type": "code",
   "execution_count": 162,
   "id": "4cd2837c-0b4b-4808-a0fa-23c341f674ab",
   "metadata": {},
   "outputs": [
    {
     "name": "stdout",
     "output_type": "stream",
     "text": [
      "811200\n",
      "CPU times: user 21min 33s, sys: 4.53 s, total: 21min 37s\n",
      "Wall time: 21min 41s\n"
     ]
    }
   ],
   "source": [
    "%%time\n",
    "isom_nice_planes_all = [(m0, s) for m0, m1, s in tessellation_search(COSH_MAXD_PLANES, pivot=mid59, string=True)\n",
    "                          if cosh_squared_dist_test(ortho_Pi_3_rif, m1, cosh_dist_planes_squared)]"
   ]
  },
  {
   "cell_type": "code",
   "execution_count": 179,
   "id": "6f40ebcb-4d0a-4fc6-96bb-c49dfa88e708",
   "metadata": {},
   "outputs": [
    {
     "name": "stdout",
     "output_type": "stream",
     "text": [
      "CPU times: user 7min 41s, sys: 1.28 s, total: 7min 42s\n",
      "Wall time: 7min 43s\n"
     ]
    }
   ],
   "source": [
    "%%time\n",
    "isom_nice_planes = [(m0, s) for m0, s in isom_nice_planes_all\n",
    "          if cosh_dist_hyperbolic_flats(Pi_3, image_vector_space(m0, Pi_3)) == cosh_dist_planes]"
   ]
  },
  {
   "cell_type": "code",
   "execution_count": 181,
   "id": "e5749e4f-3ae3-4075-a19a-2e76be551f01",
   "metadata": {},
   "outputs": [
    {
     "name": "stdout",
     "output_type": "stream",
     "text": [
      "CPU times: user 30 ms, sys: 1e+03 ns, total: 30 ms\n",
      "Wall time: 29.7 ms\n"
     ]
    },
    {
     "data": {
      "text/plain": [
       "{False: 16176}"
      ]
     },
     "execution_count": 181,
     "metadata": {},
     "output_type": "execute_result"
    }
   ],
   "source": [
    "%time multiset(5 in s for m0, s in isom_nice_planes)"
   ]
  },
  {
   "cell_type": "markdown",
   "id": "e514a8d6-957c-4404-b24a-fd91adf88d5f",
   "metadata": {},
   "source": [
    "No isometry in $\\Gamma$ sending a nice plane to another contains $f$. \\\n",
    "Hence, it belongs to the stabilizer $\\langle a,b,c,d,e,g \\rangle$ of the supporting hyperplane of facet $g$. \\\n",
    "Hence, the only pairs of nice planes at a distance $1.502888\\dots$ occur in the same lift of $Z_i$."
   ]
  },
  {
   "cell_type": "markdown",
   "id": "43ef3aeb-82fe-491f-ba8a-10e290086084",
   "metadata": {},
   "source": [
    "Such a lift can be recovered from a second nice plane of a Long manifold, obtained using a generator of the fundamental group:"
   ]
  },
  {
   "cell_type": "code",
   "execution_count": 188,
   "id": "e139df3c-02d7-4566-bdcc-f5acb8a19c76",
   "metadata": {
    "tags": []
   },
   "outputs": [
    {
     "data": {
      "text/plain": [
       "Vector space of degree 6 and dimension 4 over Number Field in phi with defining polynomial x^2 - x - 1 with phi = 1.618033988749895?\n",
       "Basis matrix:\n",
       "[         1          0          0          0 -2*phi - 1  3*phi + 2]\n",
       "[         0          1          0          0          0         -1]\n",
       "[         0          0          1          0  2*phi + 2 -2*phi - 3]\n",
       "[         0          0          0          1         -1          0]"
      ]
     },
     "execution_count": 188,
     "metadata": {},
     "output_type": "execute_result"
    }
   ],
   "source": [
    "Pi_3x, = {image_vector_space(G_matrix(long_gens[j][k]), Pi_3)\n",
    "    for j,k in [\n",
    "        (0,2),\n",
    "        (1,4),\n",
    "        (2,3),\n",
    "        (3,4),\n",
    "        (4,3),\n",
    "        (5,4),\n",
    "        (6,2),\n",
    "        (7,4)]}\n",
    "Pi_3x"
   ]
  },
  {
   "cell_type": "code",
   "execution_count": 190,
   "id": "d01cc8a9-e968-46d9-81bf-e548338939a2",
   "metadata": {
    "tags": []
   },
   "outputs": [
    {
     "data": {
      "text/plain": [
       "Vector space of degree 6 and dimension 5 over Number Field in phi with defining polynomial x^2 - x - 1 with phi = 1.618033988749895?\n",
       "Basis matrix:\n",
       "[      1       0       0       0       0 phi + 1]\n",
       "[      0       1       0       0       0      -1]\n",
       "[      0       0       1       0       0      -1]\n",
       "[      0       0       0       1       0      -1]\n",
       "[      0       0       0       0       1      -1]"
      ]
     },
     "execution_count": 190,
     "metadata": {},
     "output_type": "execute_result"
    }
   ],
   "source": [
    "Pi_4 = Pi_3 + Pi_3x\n",
    "Pi_4"
   ]
  },
  {
   "cell_type": "markdown",
   "id": "dd536aac-b5cd-40b3-acd0-249782eec680",
   "metadata": {
    "jp-MarkdownHeadingCollapsed": true
   },
   "source": [
    "## Five orthogonal lines"
   ]
  },
  {
   "cell_type": "code",
   "execution_count": 194,
   "id": "afffcc4a-58fb-4101-b04f-dcfeb634dbf3",
   "metadata": {},
   "outputs": [],
   "source": [
    "Pi_0 = ldp1"
   ]
  },
  {
   "cell_type": "code",
   "execution_count": 195,
   "id": "4dcc6eb9-bb41-4803-b687-76a9e7934a3b",
   "metadata": {},
   "outputs": [],
   "source": [
    "Pi_1 = axis1"
   ]
  },
  {
   "cell_type": "code",
   "execution_count": 196,
   "id": "fb4cfeae-d11a-421b-bafe-be0804644e59",
   "metadata": {},
   "outputs": [],
   "source": [
    "Pi_2 = axis1 + ldp2"
   ]
  },
  {
   "cell_type": "code",
   "execution_count": 199,
   "id": "68eafe6e-c7d6-4056-ad88-df69865e6762",
   "metadata": {},
   "outputs": [],
   "source": [
    "Pi_5 = Qphi^6"
   ]
  },
  {
   "cell_type": "markdown",
   "id": "2e35db08-6769-4365-a0c1-b933b0e322be",
   "metadata": {},
   "source": [
    "We have finally recovered a flag of subspaces $\\Pi_0, \\Pi_1, \\dots, \\Pi_4, \\Pi_5 = \\mathbb H^5$ given a manifold $N_{i,I}^\\pm$. \\\n",
    "This is equivalent to an ordered sequence of orthogonal lines $\\ell_0, \\ell_1, \\dots, \\ell_4$ through $\\Pi_0$,\n",
    "such that $\\Pi_i = \\mathrm{span}(\\Pi_0, \\ell_0, \\dots, \\ell_{i-1})$."
   ]
  },
  {
   "cell_type": "code",
   "execution_count": 197,
   "id": "b20b1f54-46f5-46e2-a1f0-d3a3060278b9",
   "metadata": {},
   "outputs": [],
   "source": [
    "def orthogonal_subspace(vs):\n",
    "    return (vs.basis_matrix() * Jphi).right_kernel()"
   ]
  },
  {
   "cell_type": "code",
   "execution_count": 216,
   "id": "d2fbf164-9dff-48c7-a7ac-f378c11bddd2",
   "metadata": {
    "tags": []
   },
   "outputs": [],
   "source": [
    "flag = [vs.change_ring(AA) for vs in (Pi_0, Pi_1, Pi_2, Pi_3, Pi_4, Pi_5)]\n",
    "lines = [(orthogonal_subspace(Pi_i) & Pi_i1) + flag[0] for Pi_i, Pi_i1 in zip(flag[:-1], flag[1:])]\n",
    "\n",
    "assert(all(sum(lines[:j], flag[0]) == flag[j]) for j in range(6))"
   ]
  },
  {
   "cell_type": "markdown",
   "id": "7c69f856-04a4-4f4e-a332-6a5389daaa29",
   "metadata": {},
   "source": [
    "The following is a cached definition of `lines`, if one wishes to avoid computing all previous cells:"
   ]
  },
  {
   "cell_type": "code",
   "execution_count": 264,
   "id": "d4b5535e-fc12-429f-8b98-89281b6dae98",
   "metadata": {
    "jupyter": {
     "source_hidden": true
    }
   },
   "outputs": [],
   "source": [
    "lines = [span([vector(AA, t) for t in l])\n",
    "    for l in [[\n",
    "        (1, 0, 5*lam^7 - 7*lam^5 - 12*lam^4 - 11*lam^3 - 5*lam^2 + 3*lam + 4, 3*lam^7 + lam^6 - 4*lam^5 - 9*lam^4 - 9*lam^3 - 5*lam^2 + 4,\n",
    "         -3*lam^7 - lam^6 + 4*lam^5 + 9*lam^4 + 9*lam^3 + 5*lam^2 - 3, -3*lam^7 + 4*lam^5 + 7*lam^4 + 7*lam^3 + 4*lam^2 - lam - 2),\n",
    "        (0, 1, -1, -3*lam^7 + 4*lam^5 + 7*lam^4 + 7*lam^3 + 4*lam^2 - lam - 2, 3*lam^7 - 4*lam^5 - 7*lam^4 - 7*lam^3 - 4*lam^2 + lam + 2, 0)\n",
    "    ],\n",
    "    [\n",
    "        (1, 0, 2*lam^7 - 3*lam^5 - 5*lam^4 - 4*lam^3 - lam^2 + 2*lam + 2, 2, -1, 0),\n",
    "        (0, 1, -2, -4*lam^7 + 6*lam^5 + 10*lam^4 + 8*lam^3 + 2*lam^2 - 4*lam - 4, 4*lam^7 - 6*lam^5 - 10*lam^4 - 8*lam^3 - 2*lam^2 + 4*lam + 4, 1)\n",
    "    ],\n",
    "    [\n",
    "        (1, 0, -2*lam^7 + 3*lam^5 + 5*lam^4 + 4*lam^3 + lam^2 - 2*lam, -2*lam^6 + 4*lam^4 + 4*lam^3 + 2*lam^2 + 2*lam - 2,\n",
    "         2*lam^6 - 4*lam^4 - 4*lam^3 - 2*lam^2 - 2*lam + 3, 4*lam^7 - 6*lam^5 - 10*lam^4 - 8*lam^3 - 2*lam^2 + 4*lam + 2),\n",
    "        (0, 1, -2*lam^6 + 4*lam^4 + 4*lam^3 + 2*lam^2 + 2*lam - 2, -10*lam^7 + 14*lam^5 + 24*lam^4 + 22*lam^3 + 10*lam^2 - 6*lam - 6,\n",
    "         10*lam^7 - 14*lam^5 - 24*lam^4 - 22*lam^3 - 10*lam^2 + 6*lam + 6, 2*lam^6 - 4*lam^4 - 4*lam^3 - 2*lam^2 - 2*lam + 1)\n",
    "    ],\n",
    "    [\n",
    "        (1, 0, 3*lam^7 + lam^6 - 4*lam^5 - 9*lam^4 - 9*lam^3 - 5*lam^2 + 4, 5*lam^7 - 7*lam^5 - 12*lam^4 - 11*lam^3 - 5*lam^2 + 3*lam + 4,\n",
    "         -6*lam^7 - lam^6 + 8*lam^5 + 16*lam^4 + 16*lam^3 + 9*lam^2 - lam - 5, 0),\n",
    "        (0, 1, 2*lam^7 - lam^6 - 3*lam^5 - 3*lam^4 - 2*lam^3 + 3*lam, -5*lam^7 + lam^6 + 7*lam^5 + 10*lam^4 + 9*lam^3 + 4*lam^2 - 4*lam - 3,\n",
    "         3*lam^7 - 4*lam^5 - 7*lam^4 - 7*lam^3 - 4*lam^2 + lam + 1, 1)\n",
    "    ],\n",
    "    [\n",
    "        (1, 0, 3*lam^7 - lam^6 - 4*lam^5 - 5*lam^4 - 5*lam^3 - 3*lam^2 + 2*lam + 2, lam^7 - lam^5 - 2*lam^4 - 3*lam^3 - 3*lam^2 - lam + 2,\n",
    "         -lam^6 + 2*lam^4 + 2*lam^3 + lam^2 + lam - 1, 0),\n",
    "        (0, 1, -2*lam^7 - lam^6 + 3*lam^5 + 7*lam^4 + 6*lam^3 + 2*lam^2 - lam - 2, -5*lam^7 - lam^6 + 7*lam^5 + 14*lam^4 + 13*lam^3 + 6*lam^2 - 2*lam - 3,\n",
    "         3*lam^7 - 4*lam^5 - 7*lam^4 - 7*lam^3 - 4*lam^2 + lam + 3, 1)\n",
    "    ]]\n",
    "]"
   ]
  },
  {
   "cell_type": "markdown",
   "id": "844b68e7-4fcd-4869-9a53-cf1be217d318",
   "metadata": {},
   "source": [
    "The configuration $\\ell_1, \\ell_2, \\dots, \\ell_5$ can only occur in a certain, fixed position with respect to the tessellation. \\\n",
    "Hence, given such a configuration in $\\mathbb H^5$ extracted from $N_{i,I}^\\pm$,\n",
    "the tessellation is determined up to the group $R$ of $32$ isometries that flip one or more $\\ell_i$. \\\n",
    "Let $r_i \\equiv$ `refl_lines[i]` be the reflection that fixes $\\ell_j$ pointwise for $j \\ne i$ and flips $\\ell_i$;\n",
    "then $R$ is the abelian $2$-group generated by $r_0, r_1, \\dots, r_4$."
   ]
  },
  {
   "cell_type": "code",
   "execution_count": 217,
   "id": "80918394-dbec-4157-8c3d-0be70b925e76",
   "metadata": {
    "tags": []
   },
   "outputs": [],
   "source": [
    "refl_lines = [-1 + 2*orthogonal_projection((orthogonal_subspace(ln)+flag[0]).basis_matrix().transpose()) for ln in lines]"
   ]
  },
  {
   "cell_type": "markdown",
   "id": "f7e0a727-8661-4f45-b272-e611e0dd0a56",
   "metadata": {},
   "source": [
    "Any tessellation of $N_{i,I}^\\pm$ is determined as the projection of $r(T)$ to $N_{i,I}^\\pm$,\n",
    "where $T$ is the canonical tessellation of $\\mathbb H^5$ and $r \\in R$. \\\n",
    "Clearly, $r(T)$ depends only on the left coset $r \\Gamma$.\n",
    "\n",
    "In order to prove that the tessellation is unique, we need to exclude cases where $r \\not \\in \\Gamma$, \\\n",
    "by showing that in such cases $r(T)$ does not project to a valid tessellation on $N_{i,I}^\\pm$."
   ]
  },
  {
   "cell_type": "code",
   "execution_count": 229,
   "id": "1a42e08c-b922-4772-89e2-28550814af65",
   "metadata": {},
   "outputs": [],
   "source": [
    "refl_lines_all = {t: product(refl_lines[j] for j in range(5) if t[j])*identity_matrix(AA,6) for t in itertools.product((0,1), repeat = 5)}"
   ]
  },
  {
   "cell_type": "code",
   "execution_count": 243,
   "id": "737153e9-2e87-44b1-8560-80bbe489a9b4",
   "metadata": {
    "scrolled": true
   },
   "outputs": [
    {
     "name": "stdout",
     "output_type": "stream",
     "text": [
      "id has entries in Qphi:\n",
      "[1 0 0 0 0 0]\n",
      "[0 1 0 0 0 0]\n",
      "[0 0 1 0 0 0]\n",
      "[0 0 0 1 0 0]\n",
      "[0 0 0 0 1 0]\n",
      "[0 0 0 0 0 1]\n",
      "\n",
      "r4 has entries in Qphi:\n",
      "[ 5*phi + 4 -2*phi - 1 -2*phi - 1 -2*phi - 1 -2*phi - 1 -2*phi - 1]\n",
      "[ 3*phi + 2       -phi   -phi - 1   -phi - 1   -phi - 1   -phi - 1]\n",
      "[ 3*phi + 2   -phi - 1       -phi   -phi - 1   -phi - 1   -phi - 1]\n",
      "[ 3*phi + 2   -phi - 1   -phi - 1       -phi   -phi - 1   -phi - 1]\n",
      "[ 3*phi + 2   -phi - 1   -phi - 1   -phi - 1       -phi   -phi - 1]\n",
      "[ 3*phi + 2   -phi - 1   -phi - 1   -phi - 1   -phi - 1       -phi]\n",
      "\n",
      "r3 has entries in Qphi:\n",
      "[ 5/11*phi + 4/11  2/11*phi - 5/11  2/11*phi - 5/11 -2/11*phi + 5/11 -2/11*phi + 5/11  2/11*phi - 5/11]\n",
      "[ 3/11*phi - 2/11 -1/11*phi + 8/11 -1/11*phi - 3/11  1/11*phi + 3/11  1/11*phi + 3/11 -1/11*phi - 3/11]\n",
      "[ 3/11*phi - 2/11 -1/11*phi - 3/11 -1/11*phi + 8/11  1/11*phi + 3/11  1/11*phi + 3/11 -1/11*phi - 3/11]\n",
      "[-3/11*phi + 2/11  1/11*phi + 3/11  1/11*phi + 3/11 -1/11*phi + 8/11 -1/11*phi - 3/11  1/11*phi + 3/11]\n",
      "[-3/11*phi + 2/11  1/11*phi + 3/11  1/11*phi + 3/11 -1/11*phi - 3/11 -1/11*phi + 8/11  1/11*phi + 3/11]\n",
      "[ 3/11*phi - 2/11 -1/11*phi - 3/11 -1/11*phi - 3/11  1/11*phi + 3/11  1/11*phi + 3/11 -1/11*phi + 8/11]\n",
      "\n",
      "r3*r4 has entries in Qphi:\n",
      "[ 60/11*phi + 37/11 -20/11*phi - 16/11 -20/11*phi - 16/11  -24/11*phi - 6/11  -24/11*phi - 6/11 -20/11*phi - 16/11]\n",
      "[ 36/11*phi + 20/11  -12/11*phi - 3/11 -12/11*phi - 14/11  -10/11*phi - 8/11  -10/11*phi - 8/11 -12/11*phi - 14/11]\n",
      "[ 36/11*phi + 20/11 -12/11*phi - 14/11  -12/11*phi - 3/11  -10/11*phi - 8/11  -10/11*phi - 8/11 -12/11*phi - 14/11]\n",
      "[ 30/11*phi + 24/11  -10/11*phi - 8/11  -10/11*phi - 8/11  -12/11*phi - 3/11 -12/11*phi - 14/11  -10/11*phi - 8/11]\n",
      "[ 30/11*phi + 24/11  -10/11*phi - 8/11  -10/11*phi - 8/11 -12/11*phi - 14/11  -12/11*phi - 3/11  -10/11*phi - 8/11]\n",
      "[ 36/11*phi + 20/11 -12/11*phi - 14/11 -12/11*phi - 14/11  -10/11*phi - 8/11  -10/11*phi - 8/11  -12/11*phi - 3/11]\n",
      "\n",
      "r0*r2 has entries in Qphi:\n",
      "[phi + 1       0    -phi       0      -1       0]\n",
      "[      0       0       0       0       0       1]\n",
      "[phi + 1       0    -phi       0    -phi       0]\n",
      "[      0       0       0       1       0       0]\n",
      "[    phi       0    -phi       0       0       0]\n",
      "[      0       1       0       0       0       0]\n",
      "\n",
      "r0*r2*r4 has entries in Qphi:\n",
      "[ 6*phi + 4 -2*phi - 1 -3*phi - 1 -2*phi - 1 -2*phi - 2 -2*phi - 1]\n",
      "[ 3*phi + 2   -phi - 1   -phi - 1   -phi - 1   -phi - 1       -phi]\n",
      "[ 4*phi + 3   -phi - 1 -2*phi - 1   -phi - 1 -2*phi - 1   -phi - 1]\n",
      "[ 3*phi + 2   -phi - 1   -phi - 1       -phi   -phi - 1   -phi - 1]\n",
      "[ 4*phi + 2   -phi - 1 -2*phi - 1   -phi - 1   -phi - 1   -phi - 1]\n",
      "[ 3*phi + 2       -phi   -phi - 1   -phi - 1   -phi - 1   -phi - 1]\n",
      "\n",
      "r0*r2*r3 has entries in Qphi:\n",
      "[ 16/11*phi + 4/11   2/11*phi - 5/11  -9/11*phi - 5/11  -2/11*phi + 5/11  -2/11*phi - 6/11   2/11*phi - 5/11]\n",
      "[  3/11*phi - 2/11  -1/11*phi - 3/11  -1/11*phi - 3/11   1/11*phi + 3/11   1/11*phi + 3/11  -1/11*phi + 8/11]\n",
      "[ 14/11*phi + 9/11  -1/11*phi - 3/11 -12/11*phi - 3/11   1/11*phi + 3/11 -10/11*phi + 3/11  -1/11*phi - 3/11]\n",
      "[ -3/11*phi + 2/11   1/11*phi + 3/11   1/11*phi + 3/11  -1/11*phi + 8/11  -1/11*phi - 3/11   1/11*phi + 3/11]\n",
      "[  8/11*phi + 2/11   1/11*phi + 3/11 -10/11*phi + 3/11  -1/11*phi - 3/11  -1/11*phi - 3/11   1/11*phi + 3/11]\n",
      "[  3/11*phi - 2/11  -1/11*phi + 8/11  -1/11*phi - 3/11   1/11*phi + 3/11   1/11*phi + 3/11  -1/11*phi - 3/11]\n",
      "\n",
      "r0*r2*r3*r4 has entries in Qphi:\n",
      "[ 71/11*phi + 37/11 -20/11*phi - 16/11 -31/11*phi - 16/11  -24/11*phi - 6/11 -24/11*phi - 17/11 -20/11*phi - 16/11]\n",
      "[ 36/11*phi + 20/11 -12/11*phi - 14/11 -12/11*phi - 14/11  -10/11*phi - 8/11  -10/11*phi - 8/11  -12/11*phi - 3/11]\n",
      "[ 47/11*phi + 31/11 -12/11*phi - 14/11 -23/11*phi - 14/11  -10/11*phi - 8/11  -21/11*phi - 8/11 -12/11*phi - 14/11]\n",
      "[ 30/11*phi + 24/11  -10/11*phi - 8/11  -10/11*phi - 8/11  -12/11*phi - 3/11 -12/11*phi - 14/11  -10/11*phi - 8/11]\n",
      "[ 41/11*phi + 24/11  -10/11*phi - 8/11  -21/11*phi - 8/11 -12/11*phi - 14/11 -12/11*phi - 14/11  -10/11*phi - 8/11]\n",
      "[ 36/11*phi + 20/11  -12/11*phi - 3/11 -12/11*phi - 14/11  -10/11*phi - 8/11  -10/11*phi - 8/11 -12/11*phi - 14/11]\n",
      "\n"
     ]
    }
   ],
   "source": [
    "for t, r in refl_lines_all.items():\n",
    "    try:\n",
    "        rphi = r.change_ring(Qphi)\n",
    "        name = \"id\" if max(t) == 0 else \"*\".join(f\"r{j}\" for j,s in enumerate(t) if s)\n",
    "        print(name, \"has entries in Qphi:\")\n",
    "        print(rphi)\n",
    "        print()\n",
    "    except TypeError as ex:\n",
    "        pass"
   ]
  },
  {
   "cell_type": "markdown",
   "id": "da9b4e23-69cf-483e-ab3d-7a07f65783c7",
   "metadata": {},
   "source": [
    "Here we see that $r_0 r_2$ and $r_4$ are in $\\mathrm O(J_\\varphi, \\mathbb Z[\\varphi]) = \\Gamma$. \\\n",
    "Hence, without loss of generality, it suffices to exclude the reflections $r_0, r_1, r_3, r_0 r_1, r_0 r_3, r_1 r_3, r_0 r_1 r_3$."
   ]
  },
  {
   "cell_type": "code",
   "execution_count": 240,
   "id": "cb921e7d-4d47-4cf5-8482-84b285e72752",
   "metadata": {},
   "outputs": [],
   "source": [
    "remaining_tuples = [tuple(v.change_ring(ZZ)) for v in span([(GF(2)^5).gen(j) for j in (0,1,3)]) if v]"
   ]
  },
  {
   "cell_type": "code",
   "execution_count": 241,
   "id": "7a45e86b-7327-43ce-9b91-5b622b863f7c",
   "metadata": {},
   "outputs": [
    {
     "data": {
      "text/plain": [
       "[(1, 0, 0, 0, 0),\n",
       " (0, 1, 0, 0, 0),\n",
       " (1, 1, 0, 0, 0),\n",
       " (0, 0, 0, 1, 0),\n",
       " (1, 0, 0, 1, 0),\n",
       " (0, 1, 0, 1, 0),\n",
       " (1, 1, 0, 1, 0)]"
      ]
     },
     "execution_count": 241,
     "metadata": {},
     "output_type": "execute_result"
    }
   ],
   "source": [
    "remaining_tuples"
   ]
  },
  {
   "cell_type": "code",
   "execution_count": 245,
   "id": "d07f43e3-6df1-4c56-96ba-32b30762362e",
   "metadata": {},
   "outputs": [
    {
     "name": "stdout",
     "output_type": "stream",
     "text": [
      "(            r0)(Pi_3x) is NOT defined over Q[phi]\n",
      "(            r1)(Pi_3x) is NOT defined over Q[phi]\n",
      "(         r0*r1)(Pi_3x) is NOT defined over Q[phi]\n",
      "(            r3)(Pi_3x) is     defined over Q[phi]\n",
      "(         r0*r3)(Pi_3x) is NOT defined over Q[phi]\n",
      "(         r1*r3)(Pi_3x) is NOT defined over Q[phi]\n",
      "(      r0*r1*r3)(Pi_3x) is NOT defined over Q[phi]\n"
     ]
    }
   ],
   "source": [
    "for t in remaining_tuples:\n",
    "    r = refl_lines_all[t]\n",
    "    name = \"id\" if max(t) == 0 else \"*\".join(f\"r{j}\" for j,s in enumerate(t) if s)\n",
    "    try:\n",
    "        mat = image_vector_space(r, Pi_3x).basis_matrix()\n",
    "        mat_phi = mat.change_ring(Qphi)\n",
    "        print(f\"({name:>14})(Pi_3x) is     defined over Q[phi]\")\n",
    "    except TypeError as ex:\n",
    "        print(f\"({name:>14})(Pi_3x) is NOT defined over Q[phi]\")"
   ]
  },
  {
   "cell_type": "markdown",
   "id": "28ccbb6d-525c-49bf-9088-0ec0295ce389",
   "metadata": {},
   "source": [
    "All reflections in $\\{r_0, r_1, r_3, r_0 r_1, r_0 r_3, r_1 r_3, r_0 r_1 r_3\\}$ except $r_3$ \n",
    "send a nice plane (present in all $N_{i,I}^\\pm$) \\\n",
    "to a non-nice plane (because all nice planes are defined over $\\mathbb Q(\\varphi)$). \\\n",
    "This is not admissible, so it only remains to exclude $r_3$."
   ]
  },
  {
   "cell_type": "code",
   "execution_count": 249,
   "id": "8adc806a-363c-4c4e-946a-e22b8b900d83",
   "metadata": {},
   "outputs": [
    {
     "data": {
      "text/plain": [
       "[ 5/11*phi + 4/11  2/11*phi - 5/11  2/11*phi - 5/11 -2/11*phi + 5/11 -2/11*phi + 5/11  2/11*phi - 5/11]\n",
       "[ 3/11*phi - 2/11 -1/11*phi + 8/11 -1/11*phi - 3/11  1/11*phi + 3/11  1/11*phi + 3/11 -1/11*phi - 3/11]\n",
       "[ 3/11*phi - 2/11 -1/11*phi - 3/11 -1/11*phi + 8/11  1/11*phi + 3/11  1/11*phi + 3/11 -1/11*phi - 3/11]\n",
       "[-3/11*phi + 2/11  1/11*phi + 3/11  1/11*phi + 3/11 -1/11*phi + 8/11 -1/11*phi - 3/11  1/11*phi + 3/11]\n",
       "[-3/11*phi + 2/11  1/11*phi + 3/11  1/11*phi + 3/11 -1/11*phi - 3/11 -1/11*phi + 8/11  1/11*phi + 3/11]\n",
       "[ 3/11*phi - 2/11 -1/11*phi - 3/11 -1/11*phi - 3/11  1/11*phi + 3/11  1/11*phi + 3/11 -1/11*phi + 8/11]"
      ]
     },
     "execution_count": 249,
     "metadata": {},
     "output_type": "execute_result"
    }
   ],
   "source": [
    "r3 = refl_lines[3].change_ring(Qphi)\n",
    "r3"
   ]
  },
  {
   "cell_type": "code",
   "execution_count": 254,
   "id": "cf49503e-6d8c-4e88-96b7-f48356d16f6f",
   "metadata": {},
   "outputs": [
    {
     "data": {
      "text/plain": [
       "11"
      ]
     },
     "execution_count": 254,
     "metadata": {},
     "output_type": "execute_result"
    }
   ],
   "source": [
    "r3.denominator()"
   ]
  },
  {
   "cell_type": "markdown",
   "id": "a4f83bd7-a6bf-4ed5-9a25-84029e710d00",
   "metadata": {},
   "source": [
    "The matrix $r_3$ is in $\\frac{1}{11} \\mathrm{M}(6, \\mathbb Z[\\varphi])$.\n",
    "If $r_3(T)$ were a valid tessellation, then for any $h \\in H_i' \\coloneqq \\pi_1(Z_i)$, we would have $r_3 h r_3^{-1} = r_3 h r_3 \\in \\Gamma$.\n",
    "\n",
    "_A priori_, we only have $r_3 h r_3 \\in \\frac{1}{121} \\mathrm{M}(6, \\mathbb Z[\\varphi])$. Indeed, we can show that for each $i$ there exists $h \\in H_i' < \\pi_1(N_{i,I}^\\pm)$ such that the denominator of $r_3 h r_3$ is not $1$."
   ]
  },
  {
   "cell_type": "code",
   "execution_count": 256,
   "id": "6eb27740-f9fd-41e3-944a-c536b2f24fbc",
   "metadata": {},
   "outputs": [
    {
     "name": "stdout",
     "output_type": "stream",
     "text": [
      "[1, 121, 121, 121, 1, 121, 1, 121]\n",
      "[1, 1, 121, 121, 121, 121, 121, 121]\n",
      "[1, 1, 121, 121, 1, 121, 121]\n",
      "[1, 121, 121, 1, 121, 121]\n",
      "[1, 1, 121, 121, 121, 1, 121, 121, 121]\n",
      "[1, 1, 121, 121, 121, 121, 121]\n",
      "[1, 121, 121, 1, 1, 121, 121]\n",
      "[1, 1, 121, 121, 121, 121]\n"
     ]
    }
   ],
   "source": [
    "for long_gens_i in long_gens:\n",
    "    print([(r3 * G_matrix(gen) * r3^-1).denominator() for gen in long_gens_i])"
   ]
  },
  {
   "cell_type": "markdown",
   "id": "e62a3b41-cdba-4eb6-a6f2-0fb580511364",
   "metadata": {},
   "source": [
    "Indeed, we can check this by only looking at the generators, finding that some conjugates have denominator $121$ and hence are not in $\\Gamma$. \\\n",
    "This excludes $r_3$ and completes the proof of:\n",
    "\n",
    "***Theorem***. The manifolds $N_{i,I}^\\pm$ are uniquely tessellated by copies of $P$."
   ]
  }
 ],
 "metadata": {
  "kernelspec": {
   "display_name": "SageMath 10.5",
   "language": "sage",
   "name": "sagemath"
  },
  "language_info": {
   "codemirror_mode": {
    "name": "ipython",
    "version": 3
   },
   "file_extension": ".py",
   "mimetype": "text/x-python",
   "name": "python",
   "nbconvert_exporter": "python",
   "pygments_lexer": "ipython3",
   "version": "3.13.1"
  }
 },
 "nbformat": 4,
 "nbformat_minor": 5
}
