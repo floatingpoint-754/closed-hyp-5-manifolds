{
 "cells": [
  {
   "cell_type": "markdown",
   "id": "c076e713-0568-4fa0-9a46-122db5c7c13d",
   "metadata": {},
   "source": [
    "# Classification of Long manifolds up to tessellation-preserving isometry"
   ]
  },
  {
   "cell_type": "markdown",
   "id": "5926e6e6-d8b5-4f59-b383-4900d93ea303",
   "metadata": {},
   "source": [
    "This notebook provides a proof for the proposition\n",
    "\n",
    "***Proposition***. Consider the Long manifolds $Z_i$, $i = 1,\\dots,8$ with their natural tessellations into $[5,3,3,3]$ simplices. Then there is a tessellation-preserving isometry $Z_i\\simeq Z_j$, $i<j$, if and only if $(i,j) \\in \\{(1,8), (3,6)\\}$.\n",
    "\n",
    "Notice that a tessellation-preserving isometry corresponds to conjugacy of the fundamental groups $H_i\\coloneqq \\pi_1(Z_i)$ in the Coxeter group $G$. \\\n",
    "The groups $H_i$ are given in Long's article _Small volume closed hyperbolic 4-manifolds_, Table 1."
   ]
  },
  {
   "cell_type": "code",
   "execution_count": 1,
   "id": "1c5c2b76-d452-44c1-b43c-d3d10e69a00a",
   "metadata": {
    "tags": []
   },
   "outputs": [],
   "source": [
    "import itertools\n",
    "from collections import defaultdict"
   ]
  },
  {
   "cell_type": "code",
   "execution_count": 2,
   "id": "196fbc64-a1ec-41b5-93db-b918f1f9d35d",
   "metadata": {
    "tags": []
   },
   "outputs": [],
   "source": [
    "def multiset(it):\n",
    "    d = defaultdict(int)\n",
    "    for k in it:\n",
    "        d[k] += 1\n",
    "    return dict(d)\n",
    "\n",
    "def multimap(it):\n",
    "    d = defaultdict(set)\n",
    "    for k,v in it:\n",
    "        d[k].add(v)\n",
    "    return dict(d)"
   ]
  },
  {
   "cell_type": "code",
   "execution_count": 3,
   "id": "543a6750-4d3b-4a9d-9cde-b5ebe672b93b",
   "metadata": {},
   "outputs": [],
   "source": [
    "def make_coxeter_group(F, edges):\n",
    "    n = F.ngens()\n",
    "    all_edges = {(i, j) : 1 if i == j else 2 for i in range(n) for j in range(i,n)}\n",
    "    for a,b,e in edges:\n",
    "        all_edges[min(a,b), max(a,b)] = e\n",
    "    rels = [(F.gen(k[0])*F.gen(k[1]))^v for k,v in all_edges.items() if v >= 0 and v != oo]\n",
    "    return F/rels"
   ]
  },
  {
   "cell_type": "code",
   "execution_count": 4,
   "id": "c7069df5-0d20-4975-a9ac-33ee308eb985",
   "metadata": {},
   "outputs": [
    {
     "name": "stdout",
     "output_type": "stream",
     "text": []
    },
    {
     "data": {
      "text/plain": [
       "Finitely presented group < a, b, c, d, e | a^2, (a*b)^5, (a*c)^2, (a*d)^2, (a*e)^2, b^2, (b*c)^3, (b*d)^2, (b*e)^2, c^2, (c*d)^3, (c*e)^2, d^2, (d*e)^3, e^2 >"
      ]
     },
     "execution_count": 4,
     "metadata": {},
     "output_type": "execute_result"
    }
   ],
   "source": [
    "fr.<a,b,c,d,e> = FreeGroup()\n",
    "cox_edges = [(0,1,5),(1,2,3),(2,3,3),(3,4,3)]\n",
    "G = make_coxeter_group(fr, cox_edges); G"
   ]
  },
  {
   "cell_type": "code",
   "execution_count": 5,
   "id": "1d611e82-4795-4f8c-af8d-c2bc1cd25bbc",
   "metadata": {
    "tags": []
   },
   "outputs": [],
   "source": [
    "long_words = [\n",
    "    a*b*c*d*e,\n",
    "    b*a*b*c*b*a*b*a*c*b*a*d*c*e*d*c*b*a*b*a*c*d*e*b*c*a*b*a*b*c*d*c*b*a*b*c*a*b*a*b*c,\n",
    "    b*a*b*c*b*a*d*c*b*a*b*a*c*b*a*d*e*d*c*b*a*b*c*d*e*a*b*a*b*c*d*b*a*b*c*a*b*a*b*c*d*c*b,\n",
    "    b*c*b*a*b*a*d*c*b*a*b*a*c*b*a*b*c*d*c*b*a*b*a*c*d*b*c*a*b*a*b*c*d*e*b*c*a*b*a*b*c*d*b*a*b*c*a*b,\n",
    "    b*a*b*a*c*d*c*b*a*b*a*c*b*a*d*c*b*a*b*c*d*e*d*c*b*a*b*c*d*a*b*c*a*b*a*b*c*d*e*b*a*b*c*d*b*c*a*b*a*b*c\n",
    "]\n",
    "w1,w2,w3,w4,w5 = long_words"
   ]
  },
  {
   "cell_type": "code",
   "execution_count": 6,
   "id": "1a0b364e-77d4-4761-9a9f-235d424940a9",
   "metadata": {
    "tags": []
   },
   "outputs": [],
   "source": [
    "long_gens = [\n",
    "    [w2^-2, w3, w4*w2^-1, w4^-1*w2^-1, w2*w1*w2^-1, w2*w3*w2^-1, w1, w5],\n",
    "    [w1, w2^-2, w3*w2^-1, w3^-1*w2^-1, w4*w2^-1, w4^-1*w2^-1, w5*w2^-1, w5^-1*w2^-1],\n",
    "    [w1^-2, w2, w3, w4*w1^-1, w1*w2*w1^-1, w1*w3*w1^-1, w5],\n",
    "    [w1^-2, w3*w1^-1, w3^-1*w1^-1, w2, w4*w1^-1, w5*w1^-1],\n",
    "    \n",
    "    [w1, w2^-2, w3, w4*w2^-1, w5*w2^-1, w2*w1*w2^-1, w2*w3*w2^-1, w4^-1*w2^-1, w5^-1*w2^-1],\n",
    "    [w1, w2^-2, w3*w2^-1, w3^-1*w2^-1, w4*w2^-1, w4^-1*w2^-1, w5],\n",
    "    [w1^-2, w3, w4*w1^-1, w1*w2*w1^-1, w2, w5*w1^-1, w5^-1*w1^-1],\n",
    "    \n",
    "    [w1^-2, w2, w5, w3*w1^-1, w4*w1^-1, w3^-1*w1^-1]\n",
    "]"
   ]
  },
  {
   "cell_type": "markdown",
   "id": "3f31932f-cbec-4bd8-bf5e-98e7958a35db",
   "metadata": {},
   "source": [
    "The above are generators for the fundamental groups of the Long manifolds. \\\n",
    "They are given in the order of Table 1 of Long's article, and generate the groups $H_1, H_4, H_5, H_8, H_2, H_3, H_6, H_7$; \\\n",
    "in our code they are respectively numbered `H[0], H[1], ..., H[7]`."
   ]
  },
  {
   "cell_type": "code",
   "execution_count": 7,
   "id": "2f6a4fae-cd61-409c-bf92-ab8d27f795d9",
   "metadata": {
    "tags": []
   },
   "outputs": [],
   "source": [
    "CK = G.subgroup(long_words)"
   ]
  },
  {
   "cell_type": "code",
   "execution_count": 8,
   "id": "07791818-9a9e-48b9-bdcb-88af7cb77724",
   "metadata": {
    "tags": []
   },
   "outputs": [],
   "source": [
    "H = [G.subgroup(long_gen) for long_gen in long_gens]"
   ]
  },
  {
   "cell_type": "markdown",
   "id": "784e2710-6b40-4769-9cf1-fdae010c6f4f",
   "metadata": {},
   "source": [
    "## $(H_1, H_8)$ and $(H_3, H_6)$ are conjugate pairs"
   ]
  },
  {
   "cell_type": "markdown",
   "id": "6af8b0c6-b3d2-40b0-be9f-1e6c57d5e422",
   "metadata": {},
   "source": [
    "Following our numbering scheme, this amounts to showing that `(H[0], H[3])` and `(H[5], H[6])`\n",
    "are conjugate pairs in $G$.\n",
    "\n",
    "As they are all index-$2$ subgroups of $CK$, it is natural to analyze the action of the normalizer $N_G(CK)$ on these subgroups."
   ]
  },
  {
   "cell_type": "code",
   "execution_count": 9,
   "id": "0f356ebb-c3e2-4045-b399-167787598782",
   "metadata": {
    "tags": []
   },
   "outputs": [
    {
     "name": "stdout",
     "output_type": "stream",
     "text": [
      "CPU times: user 1min 42s, sys: 1.02 s, total: 1min 43s\n",
      "Wall time: 1min 42s\n"
     ]
    }
   ],
   "source": [
    "%time N_CK = libgap.Normalizer(G, CK)"
   ]
  },
  {
   "cell_type": "code",
   "execution_count": 10,
   "id": "f5fefbad-255f-4851-8de2-d0ed8783a6bf",
   "metadata": {
    "tags": []
   },
   "outputs": [
    {
     "name": "stdout",
     "output_type": "stream",
     "text": [
      "CPU times: user 207 μs, sys: 2 μs, total: 209 μs\n",
      "Wall time: 212 μs\n"
     ]
    },
    {
     "data": {
      "text/plain": [
       "4"
      ]
     },
     "execution_count": 10,
     "metadata": {},
     "output_type": "execute_result"
    }
   ],
   "source": [
    "%time libgap.Index(N_CK, CK)"
   ]
  },
  {
   "cell_type": "code",
   "execution_count": 11,
   "id": "1337737f-0bf8-42f2-be45-13b1944d33be",
   "metadata": {
    "tags": []
   },
   "outputs": [
    {
     "name": "stdout",
     "output_type": "stream",
     "text": [
      "CPU times: user 1.58 s, sys: 9.91 ms, total: 1.59 s\n",
      "Wall time: 1.57 s\n"
     ]
    }
   ],
   "source": [
    "%time conj_hom = libgap.NaturalHomomorphismByNormalSubgroup(N_CK, CK)"
   ]
  },
  {
   "cell_type": "code",
   "execution_count": 12,
   "id": "0f93f613-84e2-401d-9c0b-ec1f08670c08",
   "metadata": {
    "tags": []
   },
   "outputs": [
    {
     "data": {
      "text/plain": [
       "[ a*b*c*d^-1*e^-1, a*d*e*d^-1*b^-1*a^-1, b*c*(b*a)^2*c*b*d*c*(b*a)^2*c*b*a*e^-1*d^-1*c^-1*b^-1*a^-1*b^-1*c^-1*d^-1*a^-1*b^-1*c^-1*(a^-1*b^-1)^2*c^-1*a^-1, c*(b*a)^2*c*b*a*d*c*e*d*c*(b*a)^2*c*b*a^-1*b^-1*c^-1*d^-1*c^-1*b^-1*a^-1*b^-1*c^-1*(a^-1*b^-1)^2*c^-1*d^-1*c^-1*b^-1*a^-1*b^-1, b*a*b*c*b*a*d*c*(b*a)^2*c*b*a*b*d*e*d*c*b*a*b^-1*c^-1*(a^-1*b^-1)^2*c^-1*d^-1*e^-1*c^-1*b^-1*a^-1*b^-1*c^-1*d^-1*a^-1*b^-1*c^-1*b^-1*a^-1*b^-1 ] -> [ <identity> of ..., f2, f1, f1*f2, f2 ]"
      ]
     },
     "execution_count": 12,
     "metadata": {},
     "output_type": "execute_result"
    }
   ],
   "source": [
    "conj_hom"
   ]
  },
  {
   "cell_type": "code",
   "execution_count": 13,
   "id": "6ac61121-da3a-4b4f-9324-f4e34b6f168c",
   "metadata": {},
   "outputs": [
    {
     "data": {
      "text/plain": [
       "\"C4\""
      ]
     },
     "execution_count": 13,
     "metadata": {},
     "output_type": "execute_result"
    }
   ],
   "source": [
    "conj_hom.Image().StructureDescription()"
   ]
  },
  {
   "cell_type": "markdown",
   "id": "0f4d90ed-a496-4bcb-a38e-002c09f85fc5",
   "metadata": {},
   "source": [
    "The quotient $N_G(CK) / CK$ is isomorphic to $\\mathbb Z_4$."
   ]
  },
  {
   "cell_type": "code",
   "execution_count": 14,
   "id": "3f64e47d-0957-4c49-a041-14c67f00d644",
   "metadata": {
    "tags": []
   },
   "outputs": [
    {
     "data": {
      "text/plain": [
       "[1, 2, 4, 4, 2]"
      ]
     },
     "execution_count": 14,
     "metadata": {},
     "output_type": "execute_result"
    }
   ],
   "source": [
    "[conj_hom.Image(gen).Order() for gen in libgap(N_CK).GeneratorsOfGroup()]"
   ]
  },
  {
   "cell_type": "markdown",
   "id": "e3f26d8d-09f3-40b2-99ea-f75dc5fb0ad9",
   "metadata": {},
   "source": [
    "We study the conjugation action of a generator (order-$4$ element) of $N_G(CK) / CK$:"
   ]
  },
  {
   "cell_type": "code",
   "execution_count": 17,
   "id": "9e88bfe8-7533-4cde-8350-e7301a9cf436",
   "metadata": {},
   "outputs": [
    {
     "data": {
      "text/plain": [
       "b*c*(b*a)^2*c*b*d*c*(b*a)^2*c*b*a*e^-1*d^-1*c^-1*b^-1*a^-1*b^-1*c^-1*d^-1*a^-1*b^-1*c^-1*(a^-1*b^-1)^2*c^-1*a^-1"
      ]
     },
     "execution_count": 17,
     "metadata": {},
     "output_type": "execute_result"
    }
   ],
   "source": [
    "conjugator = G(libgap(N_CK).GeneratorsOfGroup()[2])\n",
    "conjugator"
   ]
  },
  {
   "cell_type": "code",
   "execution_count": 19,
   "id": "f64d6b23-4af3-4a11-88b8-b41c09604929",
   "metadata": {
    "tags": []
   },
   "outputs": [
    {
     "name": "stdout",
     "output_type": "stream",
     "text": [
      "CPU times: user 5.26 s, sys: 102 μs, total: 5.26 s\n",
      "Wall time: 5.27 s\n"
     ]
    },
    {
     "data": {
      "text/plain": [
       "[0 0 0 1 0 0 0 0]\n",
       "[0 1 0 0 0 0 0 0]\n",
       "[0 0 1 0 0 0 0 0]\n",
       "[1 0 0 0 0 0 0 0]\n",
       "[0 0 0 0 1 0 0 0]\n",
       "[0 0 0 0 0 0 1 0]\n",
       "[0 0 0 0 0 1 0 0]\n",
       "[0 0 0 0 0 0 0 1]"
      ]
     },
     "execution_count": 19,
     "metadata": {},
     "output_type": "execute_result"
    }
   ],
   "source": [
    "%%time\n",
    "conj_perm_act = matrix(8,8, lambda i,j: libgap.ConjugateSubgroup(H[i], conjugator) == H[j])\n",
    "conj_perm_act"
   ]
  },
  {
   "cell_type": "markdown",
   "id": "577897d8-578b-4d41-9991-459e56f394f4",
   "metadata": {},
   "source": [
    "As expected, the action swaps `H[0]` with `H[3]` and `H[5]` with `H[6]`, fixing all other `H[i]`."
   ]
  },
  {
   "cell_type": "markdown",
   "id": "61131433-1f30-4e8b-b0be-7de447a7f505",
   "metadata": {},
   "source": [
    "## Distinguishing the other pairs"
   ]
  },
  {
   "cell_type": "markdown",
   "id": "edaf1616-3fdb-4ec4-a52f-4d4ecc31b220",
   "metadata": {},
   "source": [
    "In the article _Small volume closed hyperbolic 4-manifolds_, Long gives abelianizations of the groups $H_i$, as follows:\n",
    "\n",
    "| Subgroups            | Abelianization                                                              |\n",
    "| -------------------- | --------------------------------------------------------------------------: |\n",
    "| $H_1, H_4, H_5, H_8$ | $\\mathbb Z_4^3 \\oplus \\mathbb Z_{17}$                                       |\n",
    "| $H_2, H_3, H_6$      | $\\mathbb Z_2^3 \\oplus \\mathbb Z_4^2 \\oplus \\mathbb Z_{17}$                  |\n",
    "| $H_7$                | $\\mathbb Z_2^3 \\oplus \\mathbb Z_4 \\oplus \\mathbb Z_8 \\oplus \\mathbb Z_{17}$ |\n",
    "\n",
    "This distinguishes the classes $\\{H_1, H_4, H_5, H_8\\}$, $\\{H_2, H_3, H_6\\}$, $\\{H_7\\}$ or, in our numbering,\n",
    "\n",
    "    {H[0]~H[3], H[1], H[2]}, {H[4], H[5]~H[6]}, {H[7]},\n",
    "\n",
    "where $\\sim$ indicates conjugacy."
   ]
  },
  {
   "cell_type": "markdown",
   "id": "93b730af-f203-470e-843a-3ec262cefa3f",
   "metadata": {},
   "source": [
    "Using GAP, we can count quotients to the symmetric group $S_3$ up to $\\operatorname{Aut}(S_3)$:"
   ]
  },
  {
   "cell_type": "code",
   "execution_count": 25,
   "id": "8fce92c5-e2c7-4841-a977-b01708c07181",
   "metadata": {},
   "outputs": [
    {
     "name": "stdout",
     "output_type": "stream",
     "text": [
      "H[0] has  4 quotients isomorphic to S_3\n",
      "H[1] has  4 quotients isomorphic to S_3\n",
      "H[2] has  4 quotients isomorphic to S_3\n",
      "H[4] has  4 quotients isomorphic to S_3\n",
      "H[5] has  6 quotients isomorphic to S_3\n",
      "H[7] has 12 quotients isomorphic to S_3\n",
      "CPU times: user 5.41 s, sys: 26.4 ms, total: 5.44 s\n",
      "Wall time: 5.41 s\n"
     ]
    }
   ],
   "source": [
    "%%time\n",
    "for j in (0, 1, 2, 4, 5, 7):\n",
    "    print(f\"H[{j}] has {len(libgap.GQuotients(H[j], SymmetricGroup(3))):>2} quotients isomorphic to S_3\")"
   ]
  },
  {
   "cell_type": "markdown",
   "id": "56427c2f-51a3-4529-acf0-45c3f4bd0687",
   "metadata": {},
   "source": [
    "Hence, `H[4]` and `H[5]` are not conjugate. We have distinguished the classes\n",
    "\n",
    "    {H[0]~H[3], H[1], H[2]}, {H[4]}, {H[5]~H[6]}, {H[7]}."
   ]
  },
  {
   "cell_type": "markdown",
   "id": "baa07d02-16dd-41bb-a35e-9942b85d851a",
   "metadata": {},
   "source": [
    "In order to differentiate the conjugacy classes of the subgroups `H[0], H[1], H[2]` (i.e. $H_1, H_4, H_5$), \\\n",
    "we pass to a finite quotient of $G$ by the normal core of `H[0]`."
   ]
  },
  {
   "cell_type": "code",
   "execution_count": 26,
   "id": "1a93c5d9-7172-4e28-91f5-59f0108fb44e",
   "metadata": {},
   "outputs": [
    {
     "name": "stdout",
     "output_type": "stream",
     "text": [
      "CPU times: user 5.5 s, sys: 99.9 ms, total: 5.6 s\n",
      "Wall time: 5.55 s\n"
     ]
    }
   ],
   "source": [
    "%time N = libgap.Core(G, H[0])"
   ]
  },
  {
   "cell_type": "code",
   "execution_count": 27,
   "id": "eba42365-12cf-4baf-a355-cdfd27b1479f",
   "metadata": {},
   "outputs": [
    {
     "data": {
      "text/plain": [
       "true"
      ]
     },
     "execution_count": 27,
     "metadata": {},
     "output_type": "execute_result"
    }
   ],
   "source": [
    "libgap.IsSubgroup(H[1], N)"
   ]
  },
  {
   "cell_type": "code",
   "execution_count": 28,
   "id": "151069c2-f09d-4047-b778-4008ff9a5909",
   "metadata": {},
   "outputs": [
    {
     "data": {
      "text/plain": [
       "true"
      ]
     },
     "execution_count": 28,
     "metadata": {},
     "output_type": "execute_result"
    }
   ],
   "source": [
    "libgap.IsSubgroup(H[2], N)"
   ]
  },
  {
   "cell_type": "markdown",
   "id": "ef185f5d-4708-4ceb-bcbd-37cdf771a700",
   "metadata": {},
   "source": [
    "Note that $N < H[i]$ for $i = 0, 1, 2$.\n",
    "If $H[i]$ and $H[j]$ were conjugate in $G$ ($0 \\le i,j \\le 2$), \\\n",
    "then $H[i] / N$ and $H[j] / N$ would be conjugate in $G/N$."
   ]
  },
  {
   "cell_type": "code",
   "execution_count": 29,
   "id": "ec1c8785-74f7-425e-9e64-89d732bc18f9",
   "metadata": {},
   "outputs": [
    {
     "name": "stdout",
     "output_type": "stream",
     "text": [
      "CPU times: user 838 μs, sys: 10 μs, total: 848 μs\n",
      "Wall time: 855 μs\n"
     ]
    }
   ],
   "source": [
    "%time quot = libgap.NaturalHomomorphismByNormalSubgroupNC(G, N)"
   ]
  },
  {
   "cell_type": "code",
   "execution_count": 30,
   "id": "0ca2bfc1-52cd-45c6-876f-b232058990d7",
   "metadata": {},
   "outputs": [],
   "source": [
    "Q = quot.Image()"
   ]
  },
  {
   "cell_type": "markdown",
   "id": "4342959c-d3fc-435f-a6ec-5ae66ccbfad8",
   "metadata": {},
   "source": [
    "However, these quotients are pairwise non-conjugate in $G/N$:"
   ]
  },
  {
   "cell_type": "code",
   "execution_count": 32,
   "id": "26a120d8-0cac-4746-92db-cd693be6539c",
   "metadata": {},
   "outputs": [],
   "source": [
    "Hq = [quot.Image(H[j]) for j in range(3)]"
   ]
  },
  {
   "cell_type": "code",
   "execution_count": 33,
   "id": "c39154e2-3b48-4477-84a2-0f77b808b573",
   "metadata": {},
   "outputs": [
    {
     "name": "stdout",
     "output_type": "stream",
     "text": [
      "CPU times: user 6.62 s, sys: 46.6 ms, total: 6.67 s\n",
      "Wall time: 6.59 s\n"
     ]
    },
    {
     "data": {
      "text/plain": [
       "false"
      ]
     },
     "execution_count": 33,
     "metadata": {},
     "output_type": "execute_result"
    }
   ],
   "source": [
    "%time libgap.IsConjugate(Q, Hq[0], Hq[1])"
   ]
  },
  {
   "cell_type": "code",
   "execution_count": 34,
   "id": "3832ff44-733f-4885-ada3-3b8f1bf52080",
   "metadata": {},
   "outputs": [
    {
     "name": "stdout",
     "output_type": "stream",
     "text": [
      "CPU times: user 3.56 s, sys: 39.7 ms, total: 3.6 s\n",
      "Wall time: 3.57 s\n"
     ]
    },
    {
     "data": {
      "text/plain": [
       "false"
      ]
     },
     "execution_count": 34,
     "metadata": {},
     "output_type": "execute_result"
    }
   ],
   "source": [
    "%time libgap.IsConjugate(Q, Hq[0], Hq[2])"
   ]
  },
  {
   "cell_type": "code",
   "execution_count": 35,
   "id": "17a9ab4b-9832-418b-add0-0f45c610e5fd",
   "metadata": {},
   "outputs": [
    {
     "name": "stdout",
     "output_type": "stream",
     "text": [
      "CPU times: user 13.6 s, sys: 179 ms, total: 13.8 s\n",
      "Wall time: 13.7 s\n"
     ]
    },
    {
     "data": {
      "text/plain": [
       "false"
      ]
     },
     "execution_count": 35,
     "metadata": {},
     "output_type": "execute_result"
    }
   ],
   "source": [
    "%time libgap.IsConjugate(Q, Hq[1], Hq[2])"
   ]
  },
  {
   "cell_type": "markdown",
   "id": "b0d3d76a-03ff-4f9c-b8cc-0e73ec1d1898",
   "metadata": {},
   "source": [
    "This concludes the proof."
   ]
  }
 ],
 "metadata": {
  "kernelspec": {
   "display_name": "SageMath 10.5",
   "language": "sage",
   "name": "sagemath"
  },
  "language_info": {
   "codemirror_mode": {
    "name": "ipython",
    "version": 3
   },
   "file_extension": ".py",
   "mimetype": "text/x-python",
   "name": "python",
   "nbconvert_exporter": "python",
   "pygments_lexer": "ipython3",
   "version": "3.13.1"
  }
 },
 "nbformat": 4,
 "nbformat_minor": 5
}
